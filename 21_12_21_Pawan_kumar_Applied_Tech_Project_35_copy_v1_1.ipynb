{
  "nbformat": 4,
  "nbformat_minor": 0,
  "metadata": {
    "colab": {
      "name": "21_12_21_Pawan kumar_Applied_Tech_Project_35_copy_v1.1.ipynb",
      "provenance": [],
      "collapsed_sections": [],
      "include_colab_link": true
    },
    "kernelspec": {
      "name": "python3",
      "display_name": "Python 3"
    }
  },
  "cells": [
    {
      "cell_type": "markdown",
      "metadata": {
        "id": "view-in-github",
        "colab_type": "text"
      },
      "source": [
        "<a href=\"https://colab.research.google.com/github/pawan-cpu/Learn-Python-with-Pawan-Kumar/blob/main/21_12_21_Pawan_kumar_Applied_Tech_Project_35_copy_v1_1.ipynb\" target=\"_parent\"><img src=\"https://colab.research.google.com/assets/colab-badge.svg\" alt=\"Open In Colab\"/></a>"
      ]
    },
    {
      "cell_type": "markdown",
      "metadata": {
        "id": "YZnBY81YDCCr"
      },
      "source": [
        "### Instructions"
      ]
    },
    {
      "cell_type": "markdown",
      "metadata": {
        "id": "bEyBzxYRhrLG"
      },
      "source": [
        "#### Goal of the Project\n",
        "\n",
        "This project is designed for you to practice and solve the activities that are based on the concepts covered in the following lesson:\n",
        "\n",
        "1. String Operations I\n",
        "\n",
        "2. Python Dictionary Operations I\n",
        "\n",
        "\n",
        "\n"
      ]
    },
    {
      "cell_type": "markdown",
      "metadata": {
        "id": "DPOFIO3EHncO"
      },
      "source": [
        "---"
      ]
    },
    {
      "cell_type": "markdown",
      "metadata": {
        "id": "HEQsGnthhkXh"
      },
      "source": [
        "#### Getting Started:\n",
        "\n",
        "1. Click on this link to open the Colab file for this project.\n",
        "\n",
        "    https://colab.research.google.com/drive/11ESOrDF1vv_uoIPb9_bwXbxbwaHxiW3E\n",
        "\n",
        "2. Create a duplicate copy of the Colab file as described below.\n",
        "\n",
        "  - Click on the **File menu**. A new drop-down list will appear.\n",
        "\n",
        "   <img src='https://student-datasets-bucket.s3.ap-south-1.amazonaws.com/images/lesson-0/0_file_menu.png' width=500>\n",
        "\n",
        "  - Click on the **Save a copy in Drive** option. A duplicate copy will get created. It will open up in the new tab on your web browser.\n",
        "\n",
        "  <img src='https://student-datasets-bucket.s3.ap-south-1.amazonaws.com/images/lesson-0/1_create_colab_duplicate_copy.png' width=500>\n",
        "\n",
        "3. After creating the duplicate copy of the notebook, please rename it in the **YYYY-MM-DD_StudentName_Project35** format.\n",
        "\n",
        "4. Now, write your code in the prescribed code cells.\n"
      ]
    },
    {
      "cell_type": "markdown",
      "metadata": {
        "id": "Hmmlhe3bhjoh"
      },
      "source": [
        "---"
      ]
    },
    {
      "cell_type": "markdown",
      "metadata": {
        "id": "8f6-uc0r9Q4h"
      },
      "source": [
        "### Activities"
      ]
    },
    {
      "cell_type": "markdown",
      "metadata": {
        "id": "q4fH06mIjuK3"
      },
      "source": [
        "#### Activity 1: Reverse the string  \n",
        "\n",
        "Given a few motivational quotes in reverse format, stored in `my_quote` dictionary, write a program to get the quotes back in its original readable format.\n",
        "\n",
        "**Reversed Quote**:\n",
        "\n",
        "```\n",
        "my_quote = {1 : 'worromot rof epoH ,yadot rof eviL ,yadretsey morf nraeL',\n",
        "            2 : 'elbissop si gnihtyreve dna flesruoy ni eveileB',\n",
        "            3 : 'selcatsbo ton ,slaog no sucof ot si sseccus ot yek ehT',\n",
        "            4 : 'selcatsbo ton ,slaog no sucof ot si sseccus ot yek ehT',\n",
        "            5 : 'tnaw uoy worromoT eht dliub ot ytinutroppo eht si yadoT'}\n",
        "```\n"
      ]
    },
    {
      "cell_type": "code",
      "metadata": {
        "id": "4EAoTskqg041",
        "colab": {
          "base_uri": "https://localhost:8080/"
        },
        "outputId": "e41e3d33-0082-4546-9bd1-327efcbf0561"
      },
      "source": [
        "my_quote = {1 : 'worromot rof epoH ,yadot rof eviL ,yadretsey morf nraeL',\n",
        "            2 : 'elbissop si gnihtyreve dna flesruoy ni eveileB',\n",
        "            3 : 'selcatsbo ton ,slaog no sucof ot si sseccus ot yek ehT',\n",
        "            4 : 'selcatsbo ton ,slaog no sucof ot si sseccus ot yek ehT',\n",
        "            5 : 'tnaw uoy worromoT eht dliub ot ytinutroppo eht si yadoT'}\n",
        "z=my_quote.values()\n",
        "for i in z:\n",
        "  print(i[::-1])\n",
        "\n",
        "# Write your code to reverse the quotes and display them in readable format\n"
      ],
      "execution_count": null,
      "outputs": [
        {
          "output_type": "stream",
          "name": "stdout",
          "text": [
            "Learn from yesterday, Live for today, Hope for tomorrow\n",
            "Believe in yourself and everything is possible\n",
            "The key to success is to focus on goals, not obstacles\n",
            "The key to success is to focus on goals, not obstacles\n",
            "Today is the opportunity to build the Tomorrow you want\n"
          ]
        }
      ]
    },
    {
      "cell_type": "markdown",
      "metadata": {
        "id": "9U80SJmphnn0"
      },
      "source": [
        "**Hints**: \n",
        "\n",
        "1. You can access the values of `my_quote` dictionary using the `values()` function.\n",
        "2. You can reverse the sentence by using the slicing technique. "
      ]
    },
    {
      "cell_type": "markdown",
      "metadata": {
        "id": "3GZA0ocrke5Y"
      },
      "source": [
        "---"
      ]
    },
    {
      "cell_type": "markdown",
      "metadata": {
        "id": "qA-b1CdeofKc"
      },
      "source": [
        "#### Activity 2: Number Triangle\n",
        "\n",
        "Write a code to print the below shown triangle in the output.\n",
        "\n",
        "```\n",
        "1\n",
        "22\n",
        "333\n",
        "4444\n",
        "55555\n",
        "```"
      ]
    },
    {
      "cell_type": "code",
      "metadata": {
        "id": "KB8cEYmCaMun",
        "colab": {
          "base_uri": "https://localhost:8080/"
        },
        "outputId": "9857266f-0eca-4838-ddaa-0b419fc26b05"
      },
      "source": [
        "# Write your code here:\n",
        "# Initiate a 'for()' loop in 'range(1,6)' \n",
        "n = int(input(\"Enter number of rows: \"))\n",
        "\n",
        "for i in range(1,n+1):\n",
        "    for j in range(1, i+1):\n",
        "        print(i,end=\"\")\n",
        "    print()\n",
        "  # Convert the temporary variable into a string using the 'str()' function and multiply it with itself.\n"
      ],
      "execution_count": null,
      "outputs": [
        {
          "output_type": "stream",
          "name": "stdout",
          "text": [
            "Enter number of rows: 5\n",
            "1\n",
            "22\n",
            "333\n",
            "4444\n",
            "55555\n"
          ]
        }
      ]
    },
    {
      "cell_type": "code",
      "source": [
        "for i in range(1,6):\n",
        "  print(str(i)*i)"
      ],
      "metadata": {
        "colab": {
          "base_uri": "https://localhost:8080/"
        },
        "id": "2rwgsOpetZfu",
        "outputId": "46f8c5b2-9edf-4e2d-c138-22d88582ab3f"
      },
      "execution_count": null,
      "outputs": [
        {
          "output_type": "stream",
          "name": "stdout",
          "text": [
            "1\n",
            "22\n",
            "333\n",
            "4444\n",
            "55555\n"
          ]
        }
      ]
    },
    {
      "cell_type": "markdown",
      "metadata": {
        "id": "KOVBiUSMzut1"
      },
      "source": [
        "---"
      ]
    },
    {
      "cell_type": "markdown",
      "metadata": {
        "id": "wdNAavlwht7N"
      },
      "source": [
        "### Submitting the Project:\n",
        "\n",
        "1. After finishing the project, click on the **Share** button on the top right corner of the notebook. A new dialog box will appear.\n",
        "\n",
        "  <img src='https://student-datasets-bucket.s3.ap-south-1.amazonaws.com/images/project-share-images/2_share_button.png' width=500>\n",
        "\n",
        "2. In the dialog box, make sure that '**Anyone on the Internet with this link can view**' option is selected and then click on the **Copy link** button.\n",
        "\n",
        "   <img src='https://student-datasets-bucket.s3.ap-south-1.amazonaws.com/images/project-share-images/3_copy_link.png' width=500>\n",
        "\n",
        "3. The link of the duplicate copy (named as **YYYY-MM-DD_StudentName_Project35**) of the notebook will get copied \n",
        "\n",
        "   <img src='https://student-datasets-bucket.s3.ap-south-1.amazonaws.com/images/project-share-images/4_copy_link_confirmation.png' width=500>\n",
        "\n",
        "4. Go to your dashboard and click on the **My Projects** option.\n",
        "   \n",
        "   <img src='https://student-datasets-bucket.s3.ap-south-1.amazonaws.com/images/project-share-images/5_student_dashboard.png' width=800>\n",
        "\n",
        "  <img src='https://student-datasets-bucket.s3.ap-south-1.amazonaws.com/images/project-share-images/6_my_projects.png' width=800>\n",
        "\n",
        "5. Click on the **View Project** button for the project you want to submit.\n",
        "\n",
        "   <img src='https://student-datasets-bucket.s3.ap-south-1.amazonaws.com/images/project-share-images/7_view_project.png' width=800>\n",
        "\n",
        "6. Click on the **Submit Project Here** button.\n",
        "\n",
        "   <img src='https://student-datasets-bucket.s3.ap-south-1.amazonaws.com/images/project-share-images/8_submit_project.png' width=800>\n",
        "\n",
        "7. Paste the link to the project file named as **YYYY-MM-DD_StudentName_Project35** in the URL box and then click on the **Submit** button.\n",
        "\n",
        "   <img src='https://student-datasets-bucket.s3.ap-south-1.amazonaws.com/images/project-share-images/9_enter_project_url.png' width=800> "
      ]
    },
    {
      "cell_type": "markdown",
      "metadata": {
        "id": "f16CtcPOhtPk"
      },
      "source": [
        "---"
      ]
    }
  ]
}