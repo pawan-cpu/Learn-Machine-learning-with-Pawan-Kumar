{
  "nbformat": 4,
  "nbformat_minor": 0,
  "metadata": {
    "colab": {
      "name": "Copy of 2021-10-28-Pawan-Lesson3",
      "provenance": [],
      "collapsed_sections": [],
      "include_colab_link": true
    },
    "kernelspec": {
      "name": "python3",
      "display_name": "Python 3"
    }
  },
  "cells": [
    {
      "cell_type": "markdown",
      "metadata": {
        "id": "view-in-github",
        "colab_type": "text"
      },
      "source": [
        "<a href=\"https://colab.research.google.com/github/pawan-cpu/Learn-Python-with-Pawan-Kumar/blob/main/Copy_of_2021_10_28_Pawan_Lesson3.ipynb\" target=\"_parent\"><img src=\"https://colab.research.google.com/assets/colab-badge.svg\" alt=\"Open In Colab\"/></a>"
      ]
    },
    {
      "cell_type": "markdown",
      "metadata": {
        "id": "0Z7PqdeHdJol"
      },
      "source": [
        "# Lesson 3: Python Introduction\n"
      ]
    },
    {
      "cell_type": "markdown",
      "metadata": {
        "id": "CtezNL7ZZ1fN"
      },
      "source": [
        "---"
      ]
    },
    {
      "cell_type": "markdown",
      "metadata": {
        "id": "MicnOrfVdRHm"
      },
      "source": [
        "### Teacher-Student Tasks\n",
        "\n",
        "In this class, we will learn about the short history of Python and how it has evolved into major programming languages in the last 20 years especially in the field of analytics and AI."
      ]
    },
    {
      "cell_type": "markdown",
      "metadata": {
        "id": "WvOdkh2pdf4z"
      },
      "source": [
        "---"
      ]
    },
    {
      "cell_type": "markdown",
      "metadata": {
        "id": "Cqzkj1JUJ25J"
      },
      "source": [
        "#### Evolution of Python\n",
        "\n",
        "  <img src= 'https://s3-whjr-v2-prod-bucket.whjr.online/c6f04879-3942-4741-a501-808a79655d7a.png'  align= 'right' width=300 height=100><br/>\n",
        "\n",
        "\n",
        "Python was conceived in the late 1980s. Guido Van Russom is the principal author of this language. He picked the name for the new programming language from the TV show Monty Python’s Flying Circus. It is reflected in the logo of Python where we can see two intertwined snakes.\n",
        "\n",
        "*Image credits: https://www.python.org/*\n",
        "\n",
        "With Version 3 being the latest version available for this programming language, the language has evolved since its birth. The following image shows the evolution of different versions of Python:\n",
        "\n",
        "<center> <img src= 'https://s3-whjr-v2-prod-bucket.whjr.online/06d1f6b6-d4c2-4769-a627-ceee61e6578e.PNG' align= 'center'></center>\n",
        "<center>Evolution of Python </></center><br/>\n",
        "\n",
        "**Version 3**\n",
        "\n",
        "Python 3.0 (also called Python 3000 or Py3K) was released on December 3, 2008. It was designed to rectify fundamental design flaws in the language. The guiding principle of Python 3 was: _reduce feature duplication by removing old ways of doing things_. Python 3.0 had an emphasis on removing duplicative constructs and modules, in keeping with \"_There should be one— and preferably only one —obvious way to do it_\". \n",
        "\n",
        "Note: Various features and updates related to Python versions can be referred to here [Python Official Doc](https://docs.python.org)\n",
        "\n",
        "We check the version of Python in google colab with the command:\n",
        "\n",
        "> `!python --version`"
      ]
    },
    {
      "cell_type": "code",
      "metadata": {
        "id": "tvzbZ7oUgiui"
      },
      "source": [
        ""
      ],
      "execution_count": null,
      "outputs": []
    },
    {
      "cell_type": "code",
      "metadata": {
        "id": "phnolba1XR-F",
        "colab": {
          "base_uri": "https://localhost:8080/"
        },
        "outputId": "d7ee3535-9091-4e33-a30f-a99c451c6bc5"
      },
      "source": [
        "# Let's check the version of Python in google colab notebook\n",
        "!python --version\n"
      ],
      "execution_count": null,
      "outputs": [
        {
          "output_type": "stream",
          "name": "stdout",
          "text": [
            "Python 3.7.12\n"
          ]
        }
      ]
    },
    {
      "cell_type": "markdown",
      "metadata": {
        "id": "Y-7fp6P5XHDb"
      },
      "source": [
        "**Q:** From where the Python language acquired its name?\n",
        "\n",
        "**A:** It acquired its name from BBC'S show Monty Python  Flying Circus show."
      ]
    },
    {
      "cell_type": "markdown",
      "metadata": {
        "id": "9zNODpVEgPRi"
      },
      "source": [
        "---"
      ]
    },
    {
      "cell_type": "markdown",
      "metadata": {
        "id": "t-_4m_-JmC79"
      },
      "source": [
        "#### Application of Python\n",
        "\n",
        "Python is an open-source programming language that can be used to create small or big applications of various types like web apps, stand-alone desktop apps, etc. Python is considered for creating various applications because:\n",
        "- Ease of syntax \n",
        "- Variety of framework and libraries\n",
        "\n",
        "Some of the wide application areas of Python are: \n",
        "\n",
        "**1. Web applications:**\n",
        "\n",
        "Python is considered a solid option for web development. This is because along with a lower learning curve and various frameworks, Python also offers server-side programming for the website. \n",
        "\n",
        "Server-side programming allows controlling the flow of data that travels to and from the server. It also helps in controlled access authentication of the users. It reassures the website's stability and security. The various frameworks are used to cover all these aspects.\n",
        "\n",
        "Some of the dominating web development frameworks in Python are:\n",
        "\n",
        "- **Django:** Django is frequently used because of pre-built main components of the website like authentication (sign in,  sign out), file management structure for uploading files, and URL routing.\n",
        "\n",
        "- **Flask:** Flask is a micro-framework with little to no dependence on the other libraries. This makes the flask lightweight than Django. Therefore Flask has the disadvantage of lesser features than Django.\n",
        "\n",
        "- **Pyramid:** Pyramid is a general, open-source, web application development framework built in Python. It allows Python developers to create web applications with ease. It is a much lighter alternative to Django. It includes routing and authentication features, but most of the other requirements such as templating and database management will need external libraries. \n",
        "\n",
        "There are few more frameworks used frequently. Python also allows to detach the frameworks and build the server from scratch. The process, however, will be time-consuming while the frameworks help to expedite the development.\n",
        "\n",
        "Also, it is to be considered, while selecting frameworks, that feature-rich frameworks might not be suitable for all types of websites.\n",
        "\n",
        "So, Python web development is useful but only for backend development and not for the front-end as it does not take responsibility for the layout and appearance. HTML and CSS are used to create the visual parts of many websites.\n",
        "\n",
        "Some of the popular web applications built with Python are:\n",
        "\n",
        "* Netflix\n",
        "* Google\n",
        "* YouTube\n",
        "* Instagram\n",
        "\n",
        "\n",
        "**2. Machine learning applications with Python:**\n",
        "\n",
        "Python is known for its simplicity and ease. This behavior of its make it intuitive to read and write more programs. It is therefore a trendsetter now a days along with Machine Learning applications. \n",
        "\n",
        "Machine Learning, a subset of Artificial Intelligence, aims to allow the computer to learn using statistical techniques. Python has a wide range of libraries for the development of Machine Learning algorithms. \n",
        "\n",
        "Following are some of the common Python ML libraries:\n",
        "\n",
        "- `scikit-learn`: Good for data mining and data analysis.\n",
        "- `NumPy`: Used as a tool for numerical computing.\n",
        "- `SciPy`:  A core tool for accomplishing mathematical, scientific, and engineering computations. \n",
        "- `Pandas`: Used for data analysis and manipulation, as well as for machine learning operations in the form of data frames.\n",
        "- `Matplotlib`: Provides a comprehensive set of plotting tools for visualization to allow scientists to conduct detailed data analysis.\n",
        "\n",
        "The following examples are widely used ML applications created in Python:\n",
        "\n",
        "* Virtual assistant: Siri, Alexa.\n",
        "* Social media services: Facebook's \"People you may know\".\n",
        "* Ecommerce product recommendations: Amazon's suggestions.\n",
        "\n",
        "**3. Deep learning applications with Python:**\n",
        "\n",
        "Deep learning, in AI, works on the idea to draw inspiration from the human brain. It is based on the connections created by Neurons as computing units inside the brain.\n",
        "\n",
        "Python provides various libraries for the implementation of these deep learning algorithm ideas such as:\n",
        "\n",
        "- `Tensorflow`:  Open-source library used for numerical computation using data flow graphs for Neural Networks.\n",
        "\n",
        "- `Keras`: Used for learning and prototyping simple concepts.\n",
        "\n",
        "- `PyTorch`: Software tool which supports data parallelism and distributed learning models for small prototypes.\n",
        "\n",
        "- `Theano`: Tightly integrated with NumPy, used to define, optimize, and evaluate mathematical expressions involving multi-dimensional arrays. \n",
        "\n",
        "The following are some more examples that are widely used DL applications created in Python:\n",
        "\n",
        "* Translation: Translating the text from one language to another in the form of text or an image using OCR Neural Networks.\n",
        "\n",
        "* Generating high dimension images: Galaxies, volcanoes, etc.\n",
        "\n",
        "* Robotics\n",
        "\n",
        "* Self-driving cars\n",
        "\n",
        "* Music composition\n"
      ]
    },
    {
      "cell_type": "markdown",
      "metadata": {
        "id": "Vnaj8704VM-v"
      },
      "source": [
        "**Q:** Which Python framework among Django, Flask, and Pyramid is the lightest and heaviest?\n",
        "\n",
        "**A:** Django is the heaviest and Flask is the lightest framework."
      ]
    },
    {
      "cell_type": "markdown",
      "metadata": {
        "id": "8CWFQPySHqSD"
      },
      "source": [
        "---"
      ]
    },
    {
      "cell_type": "markdown",
      "metadata": {
        "id": "614_W3AUGcNu"
      },
      "source": [
        "#### IDE for Python\n",
        "\n",
        "An **Integrated Development Environment (IDE)** is any software that can be used for software development in a single **Graphic User Interface (GUI)**. It mainly consists of the following: \n",
        "- A source code editor for writing the code.\n",
        "- A local build environment to compile the code.\n",
        "- A debugger to test the code.\n",
        "\n",
        "An IDE is used to create the project from start to finish in one place. The following are the requirements for a sophisticated IDE:\n",
        "\n",
        "- **Execution within the environment:** An IDE should have a built-in compiler to execute the code. \n",
        "\n",
        "- **Debugging support:** An IDE should provide partial execution, break-point application, and step-wise execution for testing and debugging the code.\n",
        "\n",
        "- **Syntax highlighting:** An IDE should be able to spot keywords and syntax.\n",
        "\n",
        "- **Automated code formatting:** An IDE should be able to indent the code section automatically for the conditional statement, loop statements, and functions.\n",
        "\n",
        "Following are some of well known IDE's for Python Programming:\n",
        "\n",
        "\n",
        "**1. PyCharm**\n",
        "\n",
        "PyCharm is developed by Jet Brains. It is suitable for the professional and development of large-scale projects. It has active community support, smart code navigation. It also has some advanced features like accessing databases directly from the IDE. There are some disadvantages like slow loading, setting up the environment for new and existing projects.\n",
        "\n",
        "* Platform: Linux / macOS / Windows\n",
        "* Price: Freemium\n",
        "* Official website: https://www.jetbrains.com/pycharm/ \n",
        "\n",
        "When you open a project in PyCharm, the user interface looks as follows:\n",
        "\n",
        "<center><img src= 'https://s3-whjr-v2-prod-bucket.whjr.online/f9273da0-1864-4955-8749-c195e2e0ccb7.png'></center>\n",
        "<center>PyCharm GUI</center><br/>\n",
        "\n",
        "**2. Sublime Text**\n",
        "\n",
        "Sublime Text has a very simple interface and is lightweight i.e. it occupies less space in your computer's physical storage drive. It is still a powerful IDE that provides fast development, creation of custom user commands, etc.\n",
        "\n",
        "* Platform: Linux/ macOS/Windows\n",
        "* Price: Free\n",
        "* Official website: http://www.sublimetext.com/ \n",
        "\n",
        "The user interface of Sublime Text looks as follows:\n",
        "<center><img src= 'https://s3-whjr-v2-prod-bucket.whjr.online/4df292ab-b8be-4847-868e-3db6eee83e15.png'></center>\n",
        "<center>Sublime Text GUI</center><br/>\n",
        "\n",
        "**3. Python IDLE** \n",
        "\n",
        "Integrated Development and Learning Environment IDLE, is the default source code editor provided by Python. It is suitable for beginners as it provides smart indenting, syntax highlighting, and a sophisticated debugger. It can also execute single line code without creating program files.\n",
        "\n",
        "\n",
        "* Platform: macOS/Windows\n",
        "* Price: Free\n",
        "* Official website:  https://docs.python.org/3/library/idle.html\n",
        "\n",
        "**Note:** IDLE is not available by default for Linux.\n",
        "\n",
        "When you run a simple Python code in the IDLE, it  looks as follows:\n",
        "<center><img src= 'https://s3-whjr-v2-prod-bucket.whjr.online/d18c4413-a135-4bc5-ab77-da5348257e97.png'></center>\n",
        "<center>Python IDLE GUI</center><br/>\n",
        "\n",
        "\n",
        "**4. Jupyter Notebook**\n",
        "\n",
        "Jupyter Notebook is a web application based on a server-side client application. Along with the environment to write and build projects, it allows creating \"Notebooks\" with markdowns to add HTML components, images, graphs, and visualizations to present your project. It is specifically used for Data Science projects.\n",
        "\n",
        "* Platform: Linux/macOS/Windows\n",
        "* Price: Free\n",
        "* Official website:  https://jupyter.org/install\n",
        "\n",
        "When you run a project in Jupyter Notebook, the user interface looks as follows:\n",
        "<center><img src= 'https://s3-whjr-v2-prod-bucket.whjr.online/e403f18e-3fc4-485d-ac0f-0919f9a8e758.png'></center>\n",
        "<center>Jupyter Notebook GUI</center><br/>\n",
        "\n",
        "All these and many more IDE's are used for Python programming. But we are going to learn Python in another web application Google Colab IDE. \n",
        "\n",
        "\n",
        "\n",
        "\n",
        "\n",
        "\n"
      ]
    },
    {
      "cell_type": "markdown",
      "metadata": {
        "id": "idsVi1pUVr0Y"
      },
      "source": [
        "**Q:** Which IDE is automatically installed as soon as you install Python on your Windows machine?\n",
        "\n",
        "**A:** Python IDLE is automatically installed."
      ]
    },
    {
      "cell_type": "markdown",
      "metadata": {
        "id": "0gnkbiKj2Qyu"
      },
      "source": [
        "---"
      ]
    },
    {
      "cell_type": "markdown",
      "metadata": {
        "id": "XfwxTzyw2SZX"
      },
      "source": [
        "####  Introduction to Google Colab\n",
        "\n",
        "Data Science projects vary from a simple prediction program to high processing Neural Networks for Deep Learning. Sometimes the project requires different versions of the same libraries, sometimes they require different hardware or different environment setup.\n",
        "\n",
        "One of the common challenges for using IDE's for Data Science projects is the Hardware Support for different libraries. This issue makes it difficult for the Data Analyst/Scientist to work in new areas. \n",
        "\n",
        "Google Colab provides the solution to this problem. It is a web IDE from Google Research. Following are the feature of Google Colab:\n",
        "\n",
        "* Provides an online pre-setup environment that eliminates the need of any kind for installation on the local system. \n",
        "\n",
        "* Colab provides the code editor as well the mark-up like Jupyter Notebook to create projects online through the browser. \n",
        "\n",
        "* It is an Interactive Programming environment based on read–eval–print loop (REPL) technique that takes single user inputs, executes them, and returns the result to the user. \n",
        "\n",
        "* It also provides free GPU and TPU. The GPUs are allocated randomly which comes with Nvidia K80s Accelerator.\n",
        "\n",
        "* The GPU comes with 12 GB of cloud memory to save project data. \n",
        "\n",
        "* It also has integrated libraries like PyTorch, TensorFlow, Keras, OpenCV.\n",
        "\n",
        "Hence, it is extremely suitable for data analysis, machine learning, and deep learning projects. The GPU and TPU help with better and faster training of the machine learning and deep learning models.\n",
        "\n",
        "* Platform: Any Browser\n",
        "* Price: Freemium\n",
        "* Official website: https://colab.research.google.com/\n",
        "\n",
        "\n",
        "<center><img src= 'https://s3-whjr-v2-prod-bucket.whjr.online/cbd96f6c-a31b-4eda-9470-30dc7bd27114.PNG'></center>\n",
        "<center>Google Colab GUI</center><br/>\n",
        "\n",
        "\n",
        "\n",
        "\n",
        "\n"
      ]
    },
    {
      "cell_type": "markdown",
      "metadata": {
        "id": "lMb9MyProUIz"
      },
      "source": [
        "Thus, in this class, we learned a brief history of Python and how it is useful for creating a variety of applications. We also explored different IDE which can be used for Python development. \n",
        "\n",
        "From the next class onwards, we will deep dive into Python programming and will master the art of writing powerful Python code to perform complex application development. \n",
        "\n"
      ]
    },
    {
      "cell_type": "markdown",
      "metadata": {
        "id": "Qini0JAT7j3O"
      },
      "source": [
        "---"
      ]
    }
  ]
}