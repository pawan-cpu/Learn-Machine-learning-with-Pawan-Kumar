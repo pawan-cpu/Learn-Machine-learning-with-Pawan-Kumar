{
  "nbformat": 4,
  "nbformat_minor": 0,
  "metadata": {
    "colab": {
      "name": "04_01_22 Pawan Kumar_Applied_Tech_Project_47_v0.3.ipynb",
      "provenance": [],
      "collapsed_sections": [],
      "include_colab_link": true
    },
    "kernelspec": {
      "name": "python3",
      "display_name": "Python 3"
    }
  },
  "cells": [
    {
      "cell_type": "markdown",
      "metadata": {
        "id": "view-in-github",
        "colab_type": "text"
      },
      "source": [
        "<a href=\"https://colab.research.google.com/github/pawan-cpu/Learn-Python-with-Pawan-Kumar/blob/main/04_01_22_Pawan_Kumar_Applied_Tech_Project_47_v0_3.ipynb\" target=\"_parent\"><img src=\"https://colab.research.google.com/assets/colab-badge.svg\" alt=\"Open In Colab\"/></a>"
      ]
    },
    {
      "cell_type": "markdown",
      "metadata": {
        "id": "YZnBY81YDCCr"
      },
      "source": [
        "### Instructions"
      ]
    },
    {
      "cell_type": "code",
      "source": [
        ""
      ],
      "metadata": {
        "id": "oWm9-tafB6hS"
      },
      "execution_count": null,
      "outputs": []
    },
    {
      "cell_type": "markdown",
      "metadata": {
        "id": "fIKnY8occu37"
      },
      "source": [
        "#### Goal of the Project\n",
        "\n",
        "This project is designed for you to practice and solve the activities that are based on the concepts covered in the following lesson:\n",
        "\n",
        "1. Random Variable & Binomial Distribution\n"
      ]
    },
    {
      "cell_type": "markdown",
      "metadata": {
        "id": "BBqkpH4_Doqe"
      },
      "source": [
        "---"
      ]
    },
    {
      "cell_type": "markdown",
      "metadata": {
        "id": "HKPqjEbxy9IG"
      },
      "source": [
        "#### Getting Started:\n",
        "\n",
        "1. Click on this link to open the Colab file for this project.\n",
        "\n",
        "    https://colab.research.google.com/drive/1l8l3paISxhU3yeUIrxuCA83AHcHvtkkJ \n",
        "\n",
        "2. Create a duplicate copy of the Colab file as described below.\n",
        "\n",
        "  - Click on the **File menu**. A new drop-down list will appear.\n",
        "\n",
        "   <img src='https://student-datasets-bucket.s3.ap-south-1.amazonaws.com/images/lesson-0/0_file_menu.png' width=500>\n",
        "\n",
        "  - Click on the **Save a copy in Drive** option. A duplicate copy will get created. It will open up in the new tab on your web browser.\n",
        "\n",
        "  <img src='https://student-datasets-bucket.s3.ap-south-1.amazonaws.com/images/lesson-0/1_create_colab_duplicate_copy.png' width=500>\n",
        "\n",
        "3. After creating the duplicate copy of the notebook, please rename it in the **YYYY-MM-DD_StudentName_Project47** format.\n",
        "\n",
        "4. Now, write your code in the prescribed code cells.\n"
      ]
    },
    {
      "cell_type": "markdown",
      "metadata": {
        "id": "WcLpAzzsy74S"
      },
      "source": [
        "---"
      ]
    },
    {
      "cell_type": "markdown",
      "metadata": {
        "id": "H0P9F3DUf8x2"
      },
      "source": [
        "### Activities\n",
        "\n",
        "\n",
        "  "
      ]
    },
    {
      "cell_type": "markdown",
      "metadata": {
        "id": "BVT9G_baB1aq"
      },
      "source": [
        "#### Activity 1: Probability of Resolving 1 Crime Case\n",
        "\n",
        "Suppose, according to the latest police reports, 80% of all petty crimes are unresolved, and in your town, at least three of such petty crimes are committed. The three crimes are all independent of each other. \n",
        "\n",
        "From the given information, what is the **probability that one of the three crimes will be resolved**?"
      ]
    },
    {
      "cell_type": "code",
      "metadata": {
        "id": "sZvijSsU4Zvt",
        "colab": {
          "base_uri": "https://localhost:8080/"
        },
        "outputId": "32656432-0fa9-4784-8cb7-6f1755eabbe9"
      },
      "source": [
        "# Calculate the probability that one of the three crimes will be resolved\n",
        "# Trial 1: Solved  1𝑠𝑡 , Unsolved  2𝑛𝑑 , and Unsolved  3𝑟𝑑 \n",
        "trial_1=0.2*(0.8**2)\n",
        "trial_1\n",
        "# Trial 2: Unsolved  1𝑠𝑡 , Solved  2𝑛𝑑 , and Unsolved  3𝑟𝑑 \n",
        "trial_2=0.2*(0.8**2)\n",
        "trial_2\n",
        "# Trial 3: Unsolved  1𝑠𝑡 , Unsolved  2𝑛𝑑 , and Solved  3𝑟𝑑 \n",
        "trial_3=0.2*(0.8**2)\n",
        "trial_3\n",
        "# trial_1 + trial_2 + trial_3 is the probability that one of the three crimes will be resolved\n",
        "trial_1 + trial_2 + trial_3"
      ],
      "execution_count": 7,
      "outputs": [
        {
          "output_type": "execute_result",
          "data": {
            "text/plain": [
              "0.3840000000000001"
            ]
          },
          "metadata": {},
          "execution_count": 7
        }
      ]
    },
    {
      "cell_type": "markdown",
      "metadata": {
        "id": "WzKmiPWtRAwN"
      },
      "source": [
        "**Hints**: The probability of resolving one of the three crimes is, \n",
        "\n",
        "$$P(X = 1) = P(\\{1, 2', 3'\\}) + P(\\{2, 1', 3'\\}) + P(\\{3, 1', 2'\\})$$\n",
        "\n",
        "**Trial 1**: Solved $1^{st}$, Unsolved $2^{nd}$, and Unsolved $3^{rd}$\n",
        "\n",
        "**Trial 2**: Unsolved $1^{st}$, Solved $2^{nd}$, and Unsolved $3^{rd}$\n",
        "\n",
        "**Trial 3**: Unsolved $1^{st}$, Unsolved $2^{nd}$, and Solved $3^{rd}$\n",
        "\n",
        "The probability of resolving one one of the three crimes = $P(Trial 1) + P(Trial 2) + P(Trial 3)$."
      ]
    },
    {
      "cell_type": "markdown",
      "metadata": {
        "id": "s6pIT3UXWoqx"
      },
      "source": [
        "---"
      ]
    },
    {
      "cell_type": "markdown",
      "metadata": {
        "id": "Na5VLA3GuU4M"
      },
      "source": [
        "#### Activity 2: Probability of Resolving 2 Crime Cases\n",
        "\n",
        "From the information given in **Activity 1**, calculate the **probability that two of the three crimes will be resolved**?"
      ]
    },
    {
      "cell_type": "code",
      "metadata": {
        "id": "AQTbnSy9uwoh",
        "colab": {
          "base_uri": "https://localhost:8080/"
        },
        "outputId": "d42d258a-affc-488b-c34e-d65ebbd584c3"
      },
      "source": [
        "# Calculate the probability that two of the three crimes will be resolved\n",
        "# Trial 1: Solved  1𝑠𝑡 , Solved  2𝑛𝑑 , and Unsolved  3𝑟𝑑 \n",
        "trial_1=(0.2**2)*0.8\n",
        "trial_1\n",
        "# Trial 2: Unsolved  1𝑠𝑡 , Solved  2𝑛𝑑 , and Solved  3𝑟𝑑 \n",
        "trial_2=(0.2**2)*0.8\n",
        "trial_2\n",
        "\n",
        "# Trial 3: Solved  1𝑠𝑡 , Unsolved  2𝑛𝑑 , and Solved  3𝑟𝑑 \n",
        "trial_3=(0.2**2)*0.8\n",
        "trial_3\n",
        "\n",
        "# trial_1 + trial_2 + trial_3 is the probability that two of the three crimes will be resolved\n",
        "trial_1 + trial_2 + trial_3"
      ],
      "execution_count": 8,
      "outputs": [
        {
          "output_type": "execute_result",
          "data": {
            "text/plain": [
              "0.09600000000000003"
            ]
          },
          "metadata": {},
          "execution_count": 8
        }
      ]
    },
    {
      "cell_type": "markdown",
      "metadata": {
        "id": "JNmJve-ruqaO"
      },
      "source": [
        "**Hints**: The probability of resolving one of the three crimes is, \n",
        "\n",
        "$$P(X = 1) = P(\\{1, 2, 3'\\}) + P(\\{2, 1', 3\\}) + P(\\{3, 1, 2'\\})$$\n",
        "\n",
        "**Trial 1**: Solved $1^{st}$, Solved $2^{nd}$, and Unsolved $3^{rd}$\n",
        "\n",
        "**Trial 2**: Unsolved $1^{st}$, Solved $2^{nd}$, and Solved $3^{rd}$\n",
        "\n",
        "**Trial 3**: Solved $1^{st}$, Unsolved $2^{nd}$, and Solved $3^{rd}$\n",
        "\n",
        "The probability of resolving one one of the three crimes = $P(Trial 1) + P(Trial 2) + P(Trial 3)$."
      ]
    },
    {
      "cell_type": "markdown",
      "metadata": {
        "id": "IJIZASayCpEW"
      },
      "source": [
        "---"
      ]
    },
    {
      "cell_type": "markdown",
      "metadata": {
        "id": "a9Lo0wiazFPq"
      },
      "source": [
        "### Submitting the Project:\n",
        "\n",
        "1. After finishing the project, click on the **Share** button on the top right corner of the notebook. A new dialog box will appear.\n",
        "\n",
        "  <img src='https://student-datasets-bucket.s3.ap-south-1.amazonaws.com/images/project-share-images/2_share_button.png' width=500>\n",
        "\n",
        "2. In the dialog box, make sure that '**Anyone on the Internet with this link can view**' option is selected and then click on the **Copy link** button.\n",
        "\n",
        "   <img src='https://student-datasets-bucket.s3.ap-south-1.amazonaws.com/images/project-share-images/3_copy_link.png' width=500>\n",
        "\n",
        "3. The link of the duplicate copy (named as **YYYY-MM-DD_StudentName_Project47**) of the notebook will get copied \n",
        "\n",
        "   <img src='https://student-datasets-bucket.s3.ap-south-1.amazonaws.com/images/project-share-images/4_copy_link_confirmation.png' width=500>\n",
        "\n",
        "4. Go to your dashboard and click on the **My Projects** option.\n",
        "   \n",
        "   <img src='https://student-datasets-bucket.s3.ap-south-1.amazonaws.com/images/project-share-images/5_student_dashboard.png' width=800>\n",
        "\n",
        "  <img src='https://student-datasets-bucket.s3.ap-south-1.amazonaws.com/images/project-share-images/6_my_projects.png' width=800>\n",
        "\n",
        "5. Click on the **View Project** button for the project you want to submit.\n",
        "\n",
        "   <img src='https://student-datasets-bucket.s3.ap-south-1.amazonaws.com/images/project-share-images/7_view_project.png' width=800>\n",
        "\n",
        "6. Click on the **Submit Project Here** button.\n",
        "\n",
        "   <img src='https://student-datasets-bucket.s3.ap-south-1.amazonaws.com/images/project-share-images/8_submit_project.png' width=800>\n",
        "\n",
        "7. Paste the link to the project file named as **YYYY-MM-DD_StudentName_Project47** in the URL box and then click on the **Submit** button.\n",
        "\n",
        "   <img src='https://student-datasets-bucket.s3.ap-south-1.amazonaws.com/images/project-share-images/9_enter_project_url.png' width=800> "
      ]
    },
    {
      "cell_type": "markdown",
      "metadata": {
        "id": "sl699BQqzEHy"
      },
      "source": [
        "---"
      ]
    }
  ]
}