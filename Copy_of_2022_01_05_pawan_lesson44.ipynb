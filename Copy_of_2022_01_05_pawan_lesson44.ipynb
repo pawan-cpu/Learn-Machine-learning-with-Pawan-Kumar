{
  "nbformat": 4,
  "nbformat_minor": 0,
  "metadata": {
    "colab": {
      "name": "Copy of 2022-01-05_pawan_lesson44",
      "provenance": [],
      "collapsed_sections": [],
      "include_colab_link": true
    },
    "kernelspec": {
      "name": "python3",
      "display_name": "Python 3"
    }
  },
  "cells": [
    {
      "cell_type": "markdown",
      "metadata": {
        "id": "view-in-github",
        "colab_type": "text"
      },
      "source": [
        "<a href=\"https://colab.research.google.com/github/pawan-cpu/Learn-Python-with-Pawan-Kumar/blob/main/Copy_of_2022_01_05_pawan_lesson44.ipynb\" target=\"_parent\"><img src=\"https://colab.research.google.com/assets/colab-badge.svg\" alt=\"Open In Colab\"/></a>"
      ]
    },
    {
      "cell_type": "markdown",
      "metadata": {
        "id": "Vcvmc_dgH1Ry"
      },
      "source": [
        "# Lesson 44: Expected Value and Continuous Probability"
      ]
    },
    {
      "cell_type": "markdown",
      "metadata": {
        "id": "T078LXWwigva"
      },
      "source": [
        "---"
      ]
    },
    {
      "cell_type": "markdown",
      "metadata": {
        "id": "Y36SOhIIIcfJ"
      },
      "source": [
        "### Teacher-Student Tasks\n",
        "\n",
        "\n",
        "We have been always told to avoid gambling. Today, we will apply concepts like expected value and probability density function to thoroughly understand why lotteries are mediums to lose money. You will also learn the concept of continuous random variable."
      ]
    },
    {
      "cell_type": "markdown",
      "metadata": {
        "id": "aI_I1LXxI5Lg"
      },
      "source": [
        "---"
      ]
    },
    {
      "cell_type": "markdown",
      "metadata": {
        "id": "R5R3b_48nKTP"
      },
      "source": [
        "#### Recap\n",
        "\n",
        "In the MCQ test illustration, The probabilities of the random variables $X = 0, 1, 2, 3, 4$ are\n",
        "\n",
        "- $P(X = 0) = {}^4C_0 \\times \\left(\\frac{1}{4}\\right)^0 \\times \\left(\\frac{3}{4}\\right)^4$\n",
        "\n",
        "- $P(X = 1) = {}^4C_1 \\times \\frac{1}{4} \\times \\left(\\frac{3}{4}\\right)^3$\n",
        "\n",
        "- $P(X = 2) = {}^4C_2 \\times \\left(\\frac{1}{4}\\right)^2 \\times \\left(\\frac{3}{4}\\right)^2$\n",
        "\n",
        "- $P(X = 3) = {}^4C_3 \\times \\left(\\frac{1}{4}\\right)^3 \\times \\frac{3}{4}$\n",
        "\n",
        "- $P(X = 4) = {}^4C_4 \\times \\left(\\frac{1}{4}\\right)^4 \\times \\left(\\frac{3}{4}\\right)^0$\n",
        "\n",
        "In general, in any experiment having total $n$ possible trials, the probability of success in $r$ trials out of $n$ trials is given by \n",
        "\n",
        "$$P(X = r) = {}^nC_r \\times s^r \\times f^{n - r}$$\n",
        "\n",
        "where \n",
        "\n",
        "- ${}^nC_{r} = \\frac{n!}{(n-r)! \\times r!} = {}^nC_{n - r}$\n",
        "\n",
        "- $n$ is a natural number and $r$ is a whole number but $r \\le n$\n",
        "\n",
        "- $s$ denotes the probability of **success**\n",
        "\n",
        "- $f$ denotes the probability of **failure** and $s + f = 1$\n",
        "\n",
        "In the context of the MCQ test illustration, \n",
        "\n",
        "- $n$ is the total number of questions in an MCQ test \n",
        "\n",
        "- $r$ is the number of questions to be solved correctly by fluke out of $n$ questions\n",
        "\n",
        "- ${}^nC_r$ is the number of ways in which $r$ questions can be solved out of $n$ questions correctly by fluke\n",
        "\n",
        "- **success** is choosing the one correct option out of four options and the **failure** is choosing an incorrect option.\n",
        "\n",
        "\n",
        "This is called **binomial distribution**. In other words, the distribution of two terms.\n",
        "\n",
        "Also, the sum of all the probabilities will be equal to one, i.e., \n",
        "\n",
        "$P(X = 0) + P(X = 1) + P(X = 2) + \\dots + P(X = n - 1) + P(X = n) = 1$\n",
        "\n",
        "We can also create functions to calculate the factorial value of a number $n$ and to get the probability of a random variable $X = r$.\n"
      ]
    },
    {
      "cell_type": "code",
      "metadata": {
        "id": "CBXukb_QpBnS",
        "colab": {
          "base_uri": "https://localhost:8080/"
        },
        "outputId": "93799a62-b74b-45a8-ace1-c32ea1b467e4"
      },
      "source": [
        "# Functions to calculate the factorial value of a number 'n'.\n",
        "def factorial(num):\n",
        "  factorial = 1\n",
        "  if num < 0:\n",
        "    return \"Undefined.\"\n",
        "  else:\n",
        "    while num > 0:\n",
        "      factorial *= num\n",
        "      num -= 1\n",
        "    return factorial\n",
        "\n",
        "# Function to calculate the probability of a random variable X = r.\n",
        "def prob_random_var(num_trials, random_var, prob_success):\n",
        "  num_trials_choose_random_var = factorial(num_trials) / ((factorial(num_trials - random_var)) * (factorial(random_var))) # nCr \n",
        "  prob_random_var = num_trials_choose_random_var * (prob_success ** random_var) * ((1 - prob_success) ** (num_trials - random_var))\n",
        "  return prob_random_var\n",
        "\n",
        "prob_random_var(4, 4, 0.25)"
      ],
      "execution_count": null,
      "outputs": [
        {
          "output_type": "execute_result",
          "data": {
            "text/plain": [
              "0.00390625"
            ]
          },
          "metadata": {},
          "execution_count": 2
        }
      ]
    },
    {
      "cell_type": "code",
      "metadata": {
        "id": "E3fvlDF48Z1-",
        "colab": {
          "base_uri": "https://localhost:8080/"
        },
        "outputId": "59ebf0b9-0b4a-4a4a-8a61-792492fc888a"
      },
      "source": [
        "# The probability of solving say 50 questions correctly by fluke in an MCQ test having 100 questions\n",
        "prob_random_var(100, 50, 0.25)"
      ],
      "execution_count": null,
      "outputs": [
        {
          "output_type": "execute_result",
          "data": {
            "text/plain": [
              "4.5073108750863835e-08"
            ]
          },
          "metadata": {},
          "execution_count": 3
        }
      ]
    },
    {
      "cell_type": "markdown",
      "metadata": {
        "id": "gguw7YCDz3gz"
      },
      "source": [
        "---"
      ]
    },
    {
      "cell_type": "markdown",
      "metadata": {
        "id": "iQEsRHRn95Kc"
      },
      "source": [
        "#### Task 1: Expected Value\n",
        "\n",
        "Let's find out the average number of questions that can be solved correctly by fluke.\n",
        "\n",
        "For this, we need to use the concept of expected value. The expected value is the sum of the product of the random variables with their corresponding probabilities.\n",
        "\n",
        "Let $X$ be a random variable denoting $N$ events $x_1, x_2, x_3 \\dots x_N$ and let $p(x_1), p(x_2), p(x_3) \\dots p(x_N)$ be their corresponding probabilities, then the expected value $E(X)$ is given by \n",
        "\n",
        "$$E(X) = x_1 p(x_1) + x_2 p(x_2) + x_3 p(x_3) + \\dots + x_N p(x_N)$$\n",
        "\n",
        "With this idea in mind, let's now try to find out the average number of questions that can be solved correctly by fluke in an MCQ test having 100 questions with help of the below steps:\n",
        "\n",
        "1. Create a NumPy array containing the values of all the random variables, i.e., $X = 0, 1, 2, \\dots 100$ where\n",
        "\n",
        "  - 0 denotes solving 0 questions correctly by fluke, \n",
        "  \n",
        "  - 1 denotes solving 1 question correctly by fluke,\n",
        "\n",
        "  - 2 denotes solving 2 questions correctly by fluke,\n",
        "  \n",
        "    ... \n",
        "    \n",
        "  - 100 denotes solving 100 questions correctly by fluke.\n",
        "\n",
        "2. Create a Python list containing the probabilities of all the above 101 events.\n",
        "\n",
        "3. Convert the above list to a NumPy array. Then multiply each value of the random variable with its corresponding probability. Then add all the products to get the expected value or theoretical average.\n"
      ]
    },
    {
      "cell_type": "code",
      "metadata": {
        "id": "OhZvFKmdz4Xw",
        "colab": {
          "base_uri": "https://localhost:8080/"
        },
        "outputId": "a2175d1f-ce0c-43c9-f404-5a9f5c8215bc"
      },
      "source": [
        "# S1.1: Find the average number of questions that can be solved correctly by fluke in an MCQ test having 100 questions.\n",
        "import numpy as np\n",
        "x=np.arange(0,101)\n",
        "prob_list=[prob_random_var(100,i,0.25) for i in range(101)]\n",
        "prob_arr=np.array(prob_list)\n",
        "exp=np.sum(x*prob_arr)\n",
        "exp"
      ],
      "execution_count": null,
      "outputs": [
        {
          "output_type": "execute_result",
          "data": {
            "text/plain": [
              "25.0"
            ]
          },
          "metadata": {},
          "execution_count": 7
        }
      ]
    },
    {
      "cell_type": "markdown",
      "metadata": {
        "id": "I88z7qE1aF7C"
      },
      "source": [
        "So on average, you are expected to solve 25 questions correctly by fluke in an MCQ test.\n",
        "\n",
        "**Note:** The expected value gives a theoretical average. The actual average may differ from the theoretical average by some margin. E.g., in an MCQ test having 100 questions, the expected value tells us that on average, we can expect to solve 25 questions correctly by fluke.\n",
        "\n",
        "Interestingly, in the case of a binomial distribution, the expected value is the highly likely event. Let's verify this fact by finding out the most likely event in the case of solving questions correctly by fluke in an MCQ test containing 100 questions.\n"
      ]
    },
    {
      "cell_type": "code",
      "metadata": {
        "id": "vmv85wf-1WgS",
        "colab": {
          "base_uri": "https://localhost:8080/"
        },
        "outputId": "bd1e51f7-ecc5-43f3-d2c2-8c8c5a2a93bf"
      },
      "source": [
        "# S1.2: Find the most likely event and its probability.\n",
        "max_prob=np.max(prob_arr)\n",
        "max_num_ques=prob_list.index(max_prob)\n",
        "print(max_prob)\n",
        "print(max_num_ques)"
      ],
      "execution_count": null,
      "outputs": [
        {
          "output_type": "stream",
          "name": "stdout",
          "text": [
            "0.09179969176683679\n",
            "25\n"
          ]
        }
      ]
    },
    {
      "cell_type": "markdown",
      "metadata": {
        "id": "A7BdV-Hs5iCW"
      },
      "source": [
        "So in case of the binomial distribution, the most likely event is the same as the expected value.\n",
        "\n",
        "We can also create a line plot to visualise the events (denoted by random variables) and their corresponding probabilities, to spot the event having the highest probability."
      ]
    },
    {
      "cell_type": "code",
      "metadata": {
        "id": "4fu6_G9z0Wiu",
        "colab": {
          "base_uri": "https://localhost:8080/",
          "height": 404
        },
        "outputId": "6e7b28cd-6e9e-45cf-9036-3c776c2c9736"
      },
      "source": [
        "# S1.3: Create a line plot of random variables and their corresponding probabilities in the case of an MCQ test having 100 questions.\n",
        "import matplotlib.pyplot as plt\n",
        "\n",
        "plt.figure(figsize=(18, 6))\n",
        "plt.title(\"# Questions That Can Be Solved Correctly By Fluke & Their Probabilities\")\n",
        "plt.axvline(max_num_ques, color='r', \n",
        "            label=f'Max # of questions that can be solved correctly by fluke = {max_num_ques}')\n",
        "# Creates a vertical line to locate the random variable denoting the most likely event to occur. \n",
        "plt.axhline(max_prob, color='g', \n",
        "            label=f'Probability of solving max # of questions correctly by fluke = {max_prob:.2f}')\n",
        "# Creates a horizontal line to locate the probability of the most likely event to occur.\n",
        "plt.scatter(x, prob_list)\n",
        "plt.xlabel(\"Random variable X = r\")\n",
        "plt.ylabel(\"Probability of random variable X = r\")\n",
        "plt.grid(which='major', axis='both')\n",
        "plt.legend()\n",
        "plt.show()"
      ],
      "execution_count": null,
      "outputs": [
        {
          "output_type": "display_data",
          "data": {
            "image/png": "[encoded data removed]",
            "text/plain": [
              "<Figure size 1296x432 with 1 Axes>"
            ]
          },
          "metadata": {
            "needs_background": "light"
          }
        }
      ]
    },
    {
      "cell_type": "markdown",
      "metadata": {
        "id": "GxBqrhbgGSjR"
      },
      "source": [
        "By observing the graph you can say that, you can solve maximum 25 questions correctly by fluke out off 100 questions and it's probability is 0.092. "
      ]
    },
    {
      "cell_type": "markdown",
      "metadata": {
        "id": "-cZnSdHq9-03"
      },
      "source": [
        "---"
      ]
    },
    {
      "cell_type": "markdown",
      "metadata": {
        "id": "LMN_q3mq9_w2"
      },
      "source": [
        "#### Task 2: Why Should You Never Gamble?\n",
        "\n",
        "Suppose that you play a game in which you roll two standard 6-sided dice. You win INR 1500 if the sum of the numbers on the dice is 2 and lose INR 50 otherwise. How much do you expect to win on average per trial?\n",
        "\n",
        "There are 36 possible outcomes of rolling two standard 6-sided dice. They are illustrated in the image shown below.\n",
        "\n",
        "<img src='https://student-datasets-bucket.s3.ap-south-1.amazonaws.com/images/two_dice_outcomes.png' width=600>\n",
        "\n",
        "The sum of the numbers on the dice will be 2 if and only if the outcome is two $1s$, i.e., $\\{1, 1\\}$\n",
        "\n",
        "So, let us define a random variable $X = x$ where $x$ some event. Let $x_1$ denotes that you win INR 1500 after rolling two dice. This is possible only if the outcome of rolling two dice is two $1s$, i.e., $\\{1, 1\\}$. \n",
        "\n",
        "Similarly, let $x_2$ denotes that you lose INR 50 after rolling two dice. This is possible when the outcome is not two $1s$, i.e., $x_2 = \\{1', 1'\\}$\n",
        "\n",
        "So, the probability of winning INR 1500 is  $P(X = x_1) = \\frac{1}{36}$ because there is only one outcome out of 36 possible outcomes.\n",
        "\n",
        "Hence, the probability of losing INR 50 is  $P(X = x_2) = \\frac{35}{36}$ because there are 35 outcomes out of 36 possible outcomes in which the sum of the numbers on two dice is not 2.\n",
        "\n",
        "So, your expected winnings after playing one game of rolling two dice are \n",
        "\n",
        "$E(X) = x_1 p(x_1) + x_2 p(x_2) = 1500 \\times \\frac{1}{36} + (-50) \\times \\frac{35}{36}$\n",
        "\n",
        "\n"
      ]
    },
    {
      "cell_type": "code",
      "metadata": {
        "id": "6589lwa2klft",
        "colab": {
          "base_uri": "https://localhost:8080/"
        },
        "outputId": "9f5f237f-7acd-49c5-afaf-2dbe657ec853"
      },
      "source": [
        "# S2.1: Calculate your expected winnings after rolling two dice in the above problem.\n",
        "(1500/36)-(50*35/36)"
      ],
      "execution_count": null,
      "outputs": [
        {
          "output_type": "execute_result",
          "data": {
            "text/plain": [
              "-6.94444444444445"
            ]
          },
          "metadata": {},
          "execution_count": 10
        }
      ]
    },
    {
      "cell_type": "markdown",
      "metadata": {
        "id": "42RiH0yElFpy"
      },
      "source": [
        "So on an average per trial, you are likely to lose INR $6.945$ in this game. The negative sign denotes that you are likely to lose money. If you play this game say 100 times, then you are likely to lose INR $6.945 \\times 100 = 694.5$ after 100 trials.\n",
        "\n",
        "In general, for a game, if the probability of the favourable outcome(s) is very low, then you should **NOT** gamble on that game because it has been designed in such a way that on an average a player is likely to lose their money. The lotteries are specifically designed for people to lose their money on an average. Very rarely there is a jackpot winner. "
      ]
    },
    {
      "cell_type": "markdown",
      "metadata": {
        "id": "vqpQXzLLmb-n"
      },
      "source": [
        "---"
      ]
    },
    {
      "cell_type": "markdown",
      "metadata": {
        "id": "DsYdc6jOjcmL"
      },
      "source": [
        "#### Task 3: Continuous Random Variable\n",
        "\n",
        "Now let's learn the concept of a continuous random variable. But first, recall the bell curve example. The heights of people follow the **normal distribution**. If you create a histogram to plot the heights of 10,000 individuals, the arrangement of the bars in the histogram will appear to form a **bell shape**. \n"
      ]
    },
    {
      "cell_type": "code",
      "metadata": {
        "id": "RCq4dtszjfel",
        "colab": {
          "base_uri": "https://localhost:8080/"
        },
        "outputId": "97835c4e-a155-4fbb-e43b-b5b337badc6f"
      },
      "source": [
        "# NumPy array containing 10,000 random normally distributed numbers having a mean of 165 cm and a standard deviation.\n",
        "height_mean=165\n",
        "height_std=15\n",
        "heights=np.random.normal(height_mean,height_std,10000)\n",
        "heights"
      ],
      "execution_count": null,
      "outputs": [
        {
          "output_type": "execute_result",
          "data": {
            "text/plain": [
              "array([157.33196193, 130.44722526, 187.69052381, ..., 182.80849898,\n",
              "       153.66408232, 156.03643885])"
            ]
          },
          "metadata": {},
          "execution_count": 11
        }
      ]
    },
    {
      "cell_type": "markdown",
      "metadata": {
        "id": "F4nR3pOfjgGE"
      },
      "source": [
        "The `np.random.normal()` function takes mean, standard deviation and size (number of numbers to be generated) as inputs and returns a numpy array containing normally distributed random numbers whose mean and standard deviation is very close to the provided mean and standard deviation values."
      ]
    },
    {
      "cell_type": "code",
      "metadata": {
        "id": "kjmh3p5DjlAQ",
        "colab": {
          "base_uri": "https://localhost:8080/",
          "height": 350
        },
        "outputId": "f538e782-0045-436b-cc1f-0b8b6ca743d5"
      },
      "source": [
        "# Histogram for the heights.\n",
        "plt.figure(figsize=(20, 5))\n",
        "plt.title('Histogram for Heights (in cm)')\n",
        "plt.hist(heights, bins='sturges', edgecolor='black') # 'sturges' is one of the ways to compute the number of bins in a histogram.\n",
        "plt.axvline(np.mean(heights), color='red', label=f'Mean height = {np.mean(heights):.2f} cm', linewidth=2) # Creates a vertical line \n",
        "plt.xlabel('Height (in cm)')\n",
        "plt.ylabel(\"Number of observations\")\n",
        "plt.legend()\n",
        "plt.show()"
      ],
      "execution_count": null,
      "outputs": [
        {
          "output_type": "display_data",
          "data": {
            "image/png": "[encoded data removed]",
            "text/plain": [
              "<Figure size 1440x360 with 1 Axes>"
            ]
          },
          "metadata": {
            "needs_background": "light"
          }
        }
      ]
    },
    {
      "cell_type": "code",
      "metadata": {
        "id": "1MKqLi9xjo6N",
        "colab": {
          "base_uri": "https://localhost:8080/",
          "height": 405
        },
        "outputId": "fce6cef0-f507-4ecf-d511-01fe8b2c7e1f"
      },
      "source": [
        "# Bell curve using the 'distplot()' function.\n",
        "import seaborn as sns\n",
        "plt.figure(figsize=(20, 5))\n",
        "plt.title('bell curve for Heights (in cm)')\n",
        "sns.distplot(heights, bins='sturges', hist=False) # 'sturges' is one of the ways to compute the number of bins in a histogram.\n",
        "plt.axvline(np.mean(heights), color='red', label=f'Mean height = {np.mean(heights):.2f} cm', linewidth=2) # Creates a vertical line \n",
        "plt.xlabel('Height (in cm)')\n",
        "plt.ylabel(\"probability density\")\n",
        "plt.legend()\n",
        "plt.show()"
      ],
      "execution_count": null,
      "outputs": [
        {
          "output_type": "stream",
          "name": "stderr",
          "text": [
            "/usr/local/lib/python3.7/dist-packages/seaborn/distributions.py:2619: FutureWarning: `distplot` is a deprecated function and will be removed in a future version. Please adapt your code to use either `displot` (a figure-level function with similar flexibility) or `kdeplot` (an axes-level function for kernel density plots).\n",
            "  warnings.warn(msg, FutureWarning)\n"
          ]
        },
        {
          "output_type": "display_data",
          "data": {
            "image/png": "[encoded data removed]",
            "text/plain": [
              "<Figure size 1440x360 with 1 Axes>"
            ]
          },
          "metadata": {
            "needs_background": "light"
          }
        }
      ]
    },
    {
      "cell_type": "markdown",
      "metadata": {
        "id": "kN4SmQjwjnmv"
      },
      "source": [
        "Recall that \n",
        "\n",
        "- Approx. $68 \\%$ of the values lie between $\\mu - \\sigma$ and $\\mu + \\sigma$. In other words, approx. $68 \\%$ of the values lie within **one-sigma** around the mean.\n",
        "\n",
        "- Approx. $95 \\%$ of the values lie between $\\mu - 2 \\sigma$ and $\\mu + 2 \\sigma$. In other words, approx. $95 \\%$ of the values lie within **two-sigma** around the mean.\n",
        "\n",
        "- Approx. $99.7 \\%$ of the values lie between $\\mu - 3 \\sigma$ and $\\mu + 3 \\sigma$. In other words, approx. $99.7 \\%$ of the values lie within **three-sigma** around the mean.\n",
        "\n",
        "where $\\mu$ and $\\sigma$ are mean and standard deviation respectively.\n",
        "\n",
        "In the bell curve above, you can see the probability density values on the $y-$axis. We will now learn how to calculate these probability density values for which we need to understand a very simple concept called a **continuous random variable**. \n",
        "\n",
        "Suppose you want to know what is the probability that a person's height would be anything between 150 cm and 180 cm. You might think that the possible heights in this range are $150, 151, 152, \\dots 180$. But a person's height could also be a fractional (or decimal) value, say 157.768 cm. It could be any number either an integer or a decimal number. Hence, there are infinite (or uncountable) numbers between 150 and 180. In fact, there are infinite numbers between any two numbers; even two consecutive integers. Eg, there are infinite numbers between 150 and 151. Such values which need **NOT** be integers are called continuous values. In probability, to represent continuous values, we need to define a **continuous random variable**. \n",
        "\n",
        "So, in the case of finding the probability that a person's height would be between 150 cm and 180 cm, you need to define a random variable $X$ where $150 \\le X \\le 180$. Hence, we need to find the probability of the random variable $150 \\le X \\le 180$.\n",
        "\n"
      ]
    },
    {
      "cell_type": "markdown",
      "metadata": {
        "id": "vePowveJlIEt"
      },
      "source": [
        "---"
      ]
    },
    {
      "cell_type": "markdown",
      "metadata": {
        "id": "Dy6PgobxlI0n"
      },
      "source": [
        "#### Task 4: Probability Density Function\n",
        "\n",
        "To calculate the probability of a continuous random variable, we have to use the **Probability Density Function (PDF)**, i.e.,\n",
        "\n",
        "\n",
        "$$\\rho(x) = \\frac{1}{\\sigma \\sqrt{2 \\pi}}e^{-\\frac{1}{2\\sigma^2}(x - \\mu)^2}$$\n",
        "\n",
        "where, \n",
        "\n",
        "- $\\rho (x)$ which is read as **Rho** is dependent on the value of $x$ which is some arbitrary value of the random variable $X$\n",
        "\n",
        "- $\\sigma$ is the standard deviation of the sample. In this case, $\\sigma$ is the standard deviation of the height values\n",
        "\n",
        "- $\\mu$ is the mean value of the sample. In this case, $\\mu$ is the mean height\n",
        "\n",
        "- $e = 2.71$ and $\\pi = 3.14$\n",
        "\n",
        "Let's create a Python function to calculate the individual probabilities of all the heights and store them in an array."
      ]
    },
    {
      "cell_type": "code",
      "metadata": {
        "id": "xwSkuuW3lUia"
      },
      "source": [
        "# S4.1: Create a Python function to calculate the individual probabilities of all the heights.\n",
        "def prob_density_func(arr, mean, std):\n",
        "  coeff = 1 / (std * np.sqrt(2 * np.pi))\n",
        "  power_of_e = np.exp(-(arr - mean) ** 2 / (2 * std ** 2))\n",
        "  prob = coeff * power_of_e\n",
        "  return prob"
      ],
      "execution_count": null,
      "outputs": []
    },
    {
      "cell_type": "markdown",
      "metadata": {
        "id": "OYVUnpknUnds"
      },
      "source": [
        "Now, sort the values in the `heights` array using the `sort()` function in the NumPy module. \n",
        "\n",
        "**Syntax of `sort()` function:** `numpy.sort(numpy_array)`\n",
        "\n",
        "Then calculate the individual probability values for all the heights using the probability density function that you created above."
      ]
    },
    {
      "cell_type": "code",
      "metadata": {
        "id": "J3gCx-FclWz0"
      },
      "source": [
        "# S4.2: Sort the 'heights' array and then calculate the individual probabilities of all the heights.\n",
        "sorted_heights=np.sort(heights)\n",
        "prob_arr=prob_density_func(sorted_heights,np.mean(heights),np.std(heights))"
      ],
      "execution_count": null,
      "outputs": []
    },
    {
      "cell_type": "markdown",
      "metadata": {
        "id": "3SWUXBB_VCUD"
      },
      "source": [
        "Now, let's plot the `sorted_heights` and `prob_array` values to see if we can get a bell curve."
      ]
    },
    {
      "cell_type": "code",
      "metadata": {
        "id": "qqx5PEC5lY1o",
        "colab": {
          "base_uri": "https://localhost:8080/",
          "height": 320
        },
        "outputId": "953107fa-09de-4214-a894-7523404bf0d6"
      },
      "source": [
        "# S4.3: Create a line plot for the sorted heights and the corresponding probability values.\n",
        "plt.figure(figsize=(15,5))\n",
        "plt.plot(sorted_heights,prob_arr)\n",
        "plt.show()"
      ],
      "execution_count": null,
      "outputs": [
        {
          "output_type": "display_data",
          "data": {
            "image/png": "[encoded data removed]",
            "text/plain": [
              "<Figure size 1080x360 with 1 Axes>"
            ]
          },
          "metadata": {
            "needs_background": "light"
          }
        }
      ]
    },
    {
      "cell_type": "markdown",
      "metadata": {
        "id": "S1IZsslYldC9"
      },
      "source": [
        "The above curve looks almost exactly like the bell curve we created using the `distplot()` function of the `seaborn` module. It is called a probability density curve or normal distribution or bell curve. Every point on the above curve can be represented using the probability density function, i.e., $\\rho(x) = \\frac{1}{\\sigma \\sqrt{2 \\pi}}e^{-\\frac{1}{2\\sigma^2}(x - \\mu)^2}$\n",
        "\n",
        "To calculate probabilities of a continuous random variable, we have to calculate the area of the region that lies below the curve. Hence, to find the probability of the random variable $150 \\le X \\le 180$, we need to calculate the area of the shaded region as shown in the image below.\n",
        "\n",
        "<img src = \"https://student-datasets-bucket.s3.ap-south-1.amazonaws.com/images/bell_curve.png\" width=800>\n",
        "\n",
        "The region in the above curve is enclosed between $X = 150, X = 180$ and $\\rho(x) = \\frac{1}{\\sigma \\sqrt{2 \\pi}}e^{-\\frac{1}{2\\sigma^2}(x - \\mu)^2}$ \n",
        "\n",
        "To find the area of a region, we use integration. In this case, we need to find the area of the shaded region enclosed between $X = 150, X = 180$ and $\\rho(x) = \\frac{1}{\\sigma \\sqrt{2 \\pi}}e^{-\\frac{1}{2\\sigma^2}(x - \\mu)^2}$. \n",
        "\n",
        "Therefore, the expression to calculate the area of a region is given as\n",
        "\n",
        "$$A = \\int_{X = 150}^{X = 180} \\rho(x) $$\n",
        "\n",
        "In this case, the area represents the probability, so the above expression becomes\n",
        "\n",
        "$$P(150 \\le X \\le 180) = \\int_{150}^{180} \\rho (x) dx$$\n",
        "\n",
        "After substituting the values of $\\mu$ and $\\sigma$ in the PDF, we get\n",
        "\n",
        "$$\\Rightarrow \\rho (x) = \\frac{1}{15 \\sqrt{2 \\pi}}e^{-\\frac{1}{450} (x - 165)^2}$$\n",
        "\n",
        "Therefore\n",
        "\n",
        "$$\\Rightarrow P(150 \\le X \\le 180) = \\int_{150}^{180} \\frac{1}{15 \\sqrt{2 \\pi}}e^{-\\frac{1}{450} (x - 165)^2} dx$$\n",
        "\n",
        "If we can solve the above integration, we will get the probability of a person having a height between 150 cm and 180 cm.\n",
        "\n",
        "To solve the above integration, we have to import the `integrate` module from the `scipy` package. Then we need to use the `quad()` function. It takes the following input:\n",
        "\n",
        "1. The function which needs to be integrated. In this case, the PDF, i.e., `prob_density_func` function needs to be integrated, \n",
        "\n",
        "2. The lower and upper limits of the random variable. In this case, $X = 150$ and $X = 180$ are lower and upper limits respectively.\n",
        "\n",
        "3. The parameters of the above probability density function which needs to be integrated. In this case, the parameters of the `prob_density_func` are the mean height = 165 cm and the standard deviation height = 180 cm.\n",
        "\n",
        "The `quad()` function returns a tuple in which the first item is the required area of the region (or probability value).\n"
      ]
    },
    {
      "cell_type": "code",
      "metadata": {
        "id": "0SOxCLCVlgGa",
        "colab": {
          "base_uri": "https://localhost:8080/"
        },
        "outputId": "c47f8700-d2fe-4cd6-ffee-1454cd466110"
      },
      "source": [
        "# S4.4: Find the probability of the random variable 150 <= X <= 180.\n",
        "from scipy import integrate\n",
        "\n",
        "req_prob = integrate.quad(prob_density_func, 150, 180, args = (np.mean(heights), np.std(heights)))\n",
        "req_prob"
      ],
      "execution_count": null,
      "outputs": [
        {
          "output_type": "execute_result",
          "data": {
            "text/plain": [
              "(0.6829058689791053, 7.581778193922531e-15)"
            ]
          },
          "metadata": {},
          "execution_count": 18
        }
      ]
    },
    {
      "cell_type": "markdown",
      "metadata": {
        "id": "QM_926i6liUy"
      },
      "source": [
        "The area of the curve enclosed between $X = 150, X = 180$ and $\\rho(x) = \\frac{1}{\\sigma \\sqrt{2 \\pi}}e^{-\\frac{1}{2\\sigma^2}(x - \\mu)^2}$ is $0.68$ which is also the probability of a person having a height between 150 cm and 180 cm. In terms of percentage, the probability of a person having a height between 150 cm and 180 cm is $68 \\%$ approx. \n",
        "\n",
        "We already learnt that $68 \\%$ values between **one-sigma** about mean in a normal distribution. In this class, we have kind of verified this fact using the concept of continuous random variable and probability density function.\n",
        "\n",
        "Similarly, you can verify the probability values for the **two-sigma** and **three-sigma** cases."
      ]
    },
    {
      "cell_type": "code",
      "metadata": {
        "id": "qnQPjDfdlokR",
        "colab": {
          "base_uri": "https://localhost:8080/"
        },
        "outputId": "2749846f-fe17-4511-f151-ca46203b51af"
      },
      "source": [
        "# S4.5: Find the probability of the random variable 135 <= X <= 195.\n",
        "req_prob = integrate.quad(prob_density_func, 135, 195, args = (np.mean(heights), np.std(heights)))\n",
        "req_prob"
      ],
      "execution_count": null,
      "outputs": [
        {
          "output_type": "execute_result",
          "data": {
            "text/plain": [
              "(0.9545962317637847, 1.8634191786776456e-11)"
            ]
          },
          "metadata": {},
          "execution_count": 19
        }
      ]
    },
    {
      "cell_type": "code",
      "metadata": {
        "id": "d1GRabk-lq5A",
        "colab": {
          "base_uri": "https://localhost:8080/"
        },
        "outputId": "3016020e-8c29-4481-b942-d511c9460e59"
      },
      "source": [
        "# S4.6: Find the probability of the random variable 120 <= X <= 210.\n",
        "req_prob = integrate.quad(prob_density_func, 120, 210, args = (np.mean(heights), np.std(heights)))\n",
        "req_prob"
      ],
      "execution_count": null,
      "outputs": [
        {
          "output_type": "execute_result",
          "data": {
            "text/plain": [
              "(0.9973120719365762, 1.1072388216728612e-14)"
            ]
          },
          "metadata": {},
          "execution_count": 20
        }
      ]
    },
    {
      "cell_type": "code",
      "metadata": {
        "id": "iKKfJB6Rls4u",
        "colab": {
          "base_uri": "https://localhost:8080/"
        },
        "outputId": "470986df-7a3d-42cd-b42d-f442f589c60c"
      },
      "source": [
        "# S4.7: Find the probability of the random variable 121 <= X <= 147.\n",
        "req_prob = integrate.quad(prob_density_func, 121, 147, args = (np.mean(heights), np.std(heights)))\n",
        "req_prob"
      ],
      "execution_count": null,
      "outputs": [
        {
          "output_type": "execute_result",
          "data": {
            "text/plain": [
              "(0.11402256455883257, 1.2659047650002428e-15)"
            ]
          },
          "metadata": {},
          "execution_count": 21
        }
      ]
    },
    {
      "cell_type": "markdown",
      "metadata": {
        "id": "d1VpvmrpGqYY"
      },
      "source": [
        "The area of the curve enclosed between $X = 121, X = 147$ is $0.108$ which is also the probability of a person having a height between 121 cm and 147 cm. In terms of percentage, the probability of a person having a height between 121 cm and 147 cm is $11 \\%$ approx. "
      ]
    },
    {
      "cell_type": "markdown",
      "metadata": {
        "id": "_LuEG2lFGT-i"
      },
      "source": [
        "---"
      ]
    },
    {
      "cell_type": "markdown",
      "metadata": {
        "id": "JdQnRq5elzy9"
      },
      "source": [
        "#### Task 5: Fill Area Using the `fill_between()` Function \n",
        "\n",
        "Let's create the following bell curve using the `matplotlib.pyplot` module.\n",
        "\n",
        "<img src = \"https://student-datasets-bucket.s3.ap-south-1.amazonaws.com/images/bell_curve.png\" width=800>\n",
        "\n",
        "To create the above curve, you need to follow the steps described below.\n",
        "\n",
        "1. Slice the `heights` array such that the resulting array containing heights between 150 cm and 180 cm.\n",
        "\n",
        "2. Create the line plot between `sorted_heights` and `prob_array` arrays using the `plot()` function. The curve should look like a bell-shaped curve.\n",
        "\n",
        "3. Use the `fill_between()` function to fill the area below the PDF, $X = 150$ and $X = 180$. It takes the following values as inputs:\n",
        "\n",
        "  - `x` which should be an array containing the values for the horizontal axis. In this case, the sorted `numpy` array containing heights values between $X = 150$ and $X = 180$.\n",
        "\n",
        "  - `y1` is an array containing the values corresponding to the values in `x` array. In this case the probability density values for the heights between 150 cm and 180 cm.\n",
        "\n",
        "  - `alpha` (optional) to provide translucency to the shaded region. Its value ranges between 0 and 1.\n",
        "\n",
        "4. Use the `axvline()` function to draw vertical lines at $X = 150$ and $X = 180$. "
      ]
    },
    {
      "cell_type": "code",
      "metadata": {
        "id": "wP8XaTXImHp9",
        "colab": {
          "base_uri": "https://localhost:8080/",
          "height": 439
        },
        "outputId": "a3eec1b3-3b14-44c8-e79a-ad2fc79925ed"
      },
      "source": [
        "# S5.1: Create the above bell curve.\n",
        "new_array = sorted_heights[(sorted_heights >= 150) & (sorted_heights <= 180)]\n",
        "array_length = len(sorted_heights)\n",
        "\n",
        "plt.figure(figsize=(12, 5), dpi = 96)\n",
        "plt.plot(sorted_heights, prob_arr, color = 'black', linewidth = 2.5)\n",
        "plt.fill_between(x = new_array, y1 = prob_density_func(new_array, np.mean(heights), np.std(heights)), \n",
        "                 facecolor = 'y', alpha = 0.5)\n",
        "plt.axvline(x = 150, color = 'r', linestyle = '-', label = \"X = 150\")\n",
        "plt.axvline(x = 180, color = 'r', linestyle = '-', label = \"X = 180\")\n",
        "plt.xlabel(\"Height (in cm)\")\n",
        "plt.ylabel(\"Probability Density\")\n",
        "plt.legend()\n",
        "plt.show()"
      ],
      "execution_count": null,
      "outputs": [
        {
          "output_type": "display_data",
          "data": {
            "image/png": "[encoded data removed]",
            "text/plain": [
              "<Figure size 1152x480 with 1 Axes>"
            ]
          },
          "metadata": {
            "needs_background": "light"
          }
        }
      ]
    },
    {
      "cell_type": "markdown",
      "metadata": {
        "id": "KJbuVur4l1TF"
      },
      "source": [
        "Hence we have created the bell curve and filled the area of the curve enclosed between $X = 150, X = 180$, and $\\rho(x) = \\frac{1}{\\sigma \\sqrt{2 \\pi}}e^{-\\frac{1}{2\\sigma^2}(x - \\mu)^2}$. The probability of a person having a height between 150 cm and 180 cm is 0.68.\n",
        "\n",
        "We will stop here. In the next class, we will start learning the concept of Object oriented programming.\n"
      ]
    },
    {
      "cell_type": "markdown",
      "metadata": {
        "id": "ookO9BWfnZbA"
      },
      "source": [
        "---"
      ]
    }
  ]
}