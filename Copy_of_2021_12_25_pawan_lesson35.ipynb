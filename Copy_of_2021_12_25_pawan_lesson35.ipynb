{
  "nbformat": 4,
  "nbformat_minor": 0,
  "metadata": {
    "colab": {
      "name": "Copy of 2021-12-25_pawan_lesson35",
      "provenance": [],
      "collapsed_sections": [],
      "include_colab_link": true
    },
    "kernelspec": {
      "name": "python3",
      "display_name": "Python 3"
    }
  },
  "cells": [
    {
      "cell_type": "markdown",
      "metadata": {
        "id": "view-in-github",
        "colab_type": "text"
      },
      "source": [
        "<a href=\"https://colab.research.google.com/github/pawan-cpu/Learn-Python-with-Pawan-Kumar/blob/main/Copy_of_2021_12_25_pawan_lesson35.ipynb\" target=\"_parent\"><img src=\"https://colab.research.google.com/assets/colab-badge.svg\" alt=\"Open In Colab\"/></a>"
      ]
    },
    {
      "cell_type": "markdown",
      "metadata": {
        "id": "j0DY8b_g-p3s"
      },
      "source": [
        "# Lesson 35: The `datetime` Module"
      ]
    },
    {
      "cell_type": "markdown",
      "metadata": {
        "id": "e4j6SHGPDwbo"
      },
      "source": [
        "\n",
        "|Particulars|Description|\n",
        "|-|-|\n",
        "|**Topics Covered**|The `datetime.now()` Function|\n",
        "||The `timedelta` Object|\n",
        "||The `date()` and `time()` Functions|\n",
        "||Extract Year, Month, Day and Weekday Values|\n",
        "|||\n",
        "|**Lesson Description**|In this class, a student will learn to manipulate the `datetime` objects using the functions of the `datetime` module.|\n",
        "|||\n",
        "|**Lesson Duration**|45 minutes|\n",
        "|||\n",
        "|**Learning Outcomes**|Get the current date and time for the various time zones.|\n",
        "||Get the date and time values for the future and past events.|\n",
        "||Add the columns to a DataFrame containing date, time, year and day of week values.|\n",
        "|||\n"
      ]
    },
    {
      "cell_type": "markdown",
      "metadata": {
        "id": "kX4RAw1ZETXA"
      },
      "source": [
        "---"
      ]
    },
    {
      "cell_type": "markdown",
      "metadata": {
        "id": "SOzBJ9tGdovN"
      },
      "source": [
        "### Tasks\n",
        "\n",
        "Let's quickly learn about the features and functions of `datetime` module which is a dedicated module for working with `datetime` objects in Python. Then we will continue with the air quality analysis project."
      ]
    },
    {
      "cell_type": "markdown",
      "metadata": {
        "id": "pmA7GRKwoY-f"
      },
      "source": [
        "---"
      ]
    },
    {
      "cell_type": "markdown",
      "metadata": {
        "id": "smrd6G1QeZCl"
      },
      "source": [
        "#### Task 1: The `datetime.now()` function\n",
        "\n",
        "The `datetime` module allows us to create date and time objects and manipulate them as we desire. Let's start with importing the `datetime` module."
      ]
    },
    {
      "cell_type": "code",
      "metadata": {
        "id": "cy1hhsRGeK5e"
      },
      "source": [
        "# S1.1: Import the 'datetime' module.\n",
        "import datetime "
      ],
      "execution_count": null,
      "outputs": []
    },
    {
      "cell_type": "markdown",
      "metadata": {
        "id": "6jwmnBlsefb8"
      },
      "source": [
        "Let's now print the current date and time using the `datetime.now()`. It returns the current time in Greenwich Mean Time (GMT) or Coordinated Universal Time (UTC) time zone. \n",
        "\n",
        "The syntax for using the `datetime.now()` function is `datetime.datetime.now()` where the first occurrence of `datetime` denotes the module name and its second occurrence denotes the object type.\n",
        "\n",
        "**Note:** The default format of the `datetime` object is `YYYY-MM-DD HH:MM:SS` where \n",
        "\n",
        "- `YYYY` denotes year, \n",
        "\n",
        "- `MM` denotes month, \n",
        "\n",
        "- `DD` denotes day, \n",
        "\n",
        "- `HH` denotes hours in 24-hours, \n",
        "\n",
        "- `MM` denotes minutes, and \n",
        "\n",
        "- `SS` denotes seconds"
      ]
    },
    {
      "cell_type": "code",
      "metadata": {
        "id": "sU2k0cZvef-E",
        "colab": {
          "base_uri": "https://localhost:8080/"
        },
        "outputId": "0f43fd0f-3cb6-4de2-bae3-423e25ecf107"
      },
      "source": [
        "# S1.2: Get the current time, print it and its data-type.\n",
        "curr_date_time=datetime.datetime.now()\n",
        "print(curr_date_time)"
      ],
      "execution_count": null,
      "outputs": [
        {
          "output_type": "stream",
          "name": "stdout",
          "text": [
            "2021-12-25 10:58:47.974649\n"
          ]
        }
      ]
    },
    {
      "cell_type": "markdown",
      "metadata": {
        "id": "4S6MRS1Kejv3"
      },
      "source": [
        "The fractional value in the above time is microseconds. That's the level of precision of a `datetime` object.\n",
        " \n",
        "You can apply the `day, month, year, hour, minute` and `second` attributes to get the corresponding day, month, year, hour, minute and second values."
      ]
    },
    {
      "cell_type": "code",
      "metadata": {
        "id": "G4UMyvi2ChHG",
        "colab": {
          "base_uri": "https://localhost:8080/"
        },
        "outputId": "bc2b7a34-06a8-4be3-dc6d-32872f8fbba6"
      },
      "source": [
        "# S1.3: Get the corresponding day, month, year, hour, minute and second values. Print the values.\n",
        "print(\"Day = {} \\nMonth = {} \\nYear = {} \\nHour = {} \\nMinute = {} \\nSecond = {}\".format(curr_date_time.day,\n",
        "                                                                                             curr_date_time.month,\n",
        "                                                                                             curr_date_time.year,\n",
        "                                                                                             curr_date_time.hour,\n",
        "                                                                                             curr_date_time.minute,\n",
        "                                                                                             curr_date_time.second))"
      ],
      "execution_count": null,
      "outputs": [
        {
          "output_type": "stream",
          "name": "stdout",
          "text": [
            "Day = 25 \n",
            "Month = 12 \n",
            "Year = 2021 \n",
            "Hour = 10 \n",
            "Minute = 58 \n",
            "Second = 47\n"
          ]
        }
      ]
    },
    {
      "cell_type": "markdown",
      "metadata": {
        "id": "rZZUITuPAhns"
      },
      "source": [
        "As you can see, we have got the following details:\n",
        "\n",
        "- Current number of the day (in a month) using the `day` attribute.\n",
        "\n",
        "- Current month (in numeric format) using the `month` attribute.\n",
        "\n",
        "- Current year using the `year` attribute.\n",
        "\n",
        "- Current hour using the `hour` attribute.\n",
        "\n",
        "- Current minute using the `minute` attribute.\n",
        "\n",
        "- Current second using the `second` attribute."
      ]
    },
    {
      "cell_type": "markdown",
      "metadata": {
        "id": "BPTB8NLyoa10"
      },
      "source": [
        "---"
      ]
    },
    {
      "cell_type": "markdown",
      "metadata": {
        "id": "NoU5ZgSbmd8Q"
      },
      "source": [
        "#### Task 2: The `timedelta` Object\n",
        "\n",
        "To get time in Indian Standard Time (IST) time zone, we have to add 5 hours and 30 minutes to the UTC time because IST is equivalent to UTC+5:30. For this, we need to use the `timedelta` object. It represents a duration, the difference between two dates or times.\n",
        "\n",
        "Inside the `timedelta` object, you may pass any one of the following parameters (or arguments).\n",
        "\n",
        "- `days`,\n",
        "\n",
        "- `seconds=0`,\n",
        "\n",
        "- `microseconds`, \n",
        "\n",
        "- `milliseconds`,\n",
        "\n",
        "- `minutes`, \n",
        "\n",
        "- `hours`, and\n",
        "\n",
        "- `weeks`\n",
        "\n",
        "The default value of each of the above parameters is zero. Let's pass `hours=5` and `minutes=30` parameters to the `timedelta` object. Then add it to the current time.\n"
      ]
    },
    {
      "cell_type": "code",
      "metadata": {
        "id": "P4Lb_KE3ekQ6",
        "colab": {
          "base_uri": "https://localhost:8080/"
        },
        "outputId": "472db606-e477-46e7-9bdc-4bf28a8b002f"
      },
      "source": [
        "# S2.1: Get the current time in IST (or UTC+5:30) time zone. Print it and its data-type.\n",
        "curr_dt_ist=datetime.datetime.now()+datetime.timedelta(hours=5,minutes=30)\n",
        "print(curr_dt_ist)\n",
        "\n"
      ],
      "execution_count": null,
      "outputs": [
        {
          "output_type": "stream",
          "name": "stdout",
          "text": [
            "2021-12-25 16:28:48.001033\n"
          ]
        }
      ]
    },
    {
      "cell_type": "markdown",
      "metadata": {
        "id": "QmgAEY4-spNK"
      },
      "source": [
        "You can also convert the datetime in any time zone by simply adding or subtracting the hours and minutes values from the current time. As a practice, let's convert the current time in the UTC-7:00 zone. It's the time zone for the pacific region of the USA. The silicon valley is located in the same regions."
      ]
    },
    {
      "cell_type": "code",
      "metadata": {
        "id": "f8MbNKBb0rlP",
        "colab": {
          "base_uri": "https://localhost:8080/"
        },
        "outputId": "dc402fbc-8a62-4364-9127-45694ab3c015"
      },
      "source": [
        "# S2.2: Get the current time in the UTC-7 time zone.\n",
        "curr_dt_us=datetime.datetime.now()+datetime.timedelta(hours=-7)\n",
        "print(curr_dt_us)"
      ],
      "execution_count": null,
      "outputs": [
        {
          "output_type": "stream",
          "name": "stdout",
          "text": [
            "2021-12-25 03:58:48.017341\n"
          ]
        }
      ]
    },
    {
      "cell_type": "markdown",
      "metadata": {
        "id": "aWXeBNLgoTfs"
      },
      "source": [
        "---"
      ]
    },
    {
      "cell_type": "markdown",
      "metadata": {
        "id": "bZXxHzxqmAc2"
      },
      "source": [
        "#### Task 3: The `datetime.strftime()` Function\n",
        "\n",
        "The current date and time values are `datetime` objects. Let's convert them into a string value using the `strftime()` function in the `Month Day, Year HH:MM:SS AM/PM` format where `HH` hours in 12-hour format. \n",
        "\n",
        "Click on the link provided below to get the format codes.\n",
        "\n",
        "[The `strftime()` & `strptime()` Format Codes](https://docs.python.org/3/library/datetime.html#strftime-and-strptime-behavior)\n",
        "\n",
        "**Note:** You may choose any other format of your liking to format a date and time value."
      ]
    },
    {
      "cell_type": "code",
      "metadata": {
        "id": "8Xld_wlHepeZ",
        "colab": {
          "base_uri": "https://localhost:8080/"
        },
        "outputId": "9393a286-9c17-4c27-e681-6a805e5d3116"
      },
      "source": [
        "# S3.1 Convert the current date and time into a string. Also print the data-type of the final value.\n",
        "curr_dt_ist=datetime.datetime.now()+datetime.timedelta(hours=5,minutes=30)\n",
        "curr_dt_ist=curr_dt_ist.strftime('%B %d,%Y %I:%M :%S %p')\n",
        "print(curr_dt_ist)"
      ],
      "execution_count": null,
      "outputs": [
        {
          "output_type": "stream",
          "name": "stdout",
          "text": [
            "December 25,2021 04:28 :48 PM\n"
          ]
        }
      ]
    },
    {
      "cell_type": "markdown",
      "metadata": {
        "id": "a8MFaxscq5Br"
      },
      "source": [
        "As you can see, we have converted the date and time values into a string in the desired format."
      ]
    },
    {
      "cell_type": "markdown",
      "metadata": {
        "id": "mWwagNUOsOWQ"
      },
      "source": [
        "---"
      ]
    },
    {
      "cell_type": "markdown",
      "metadata": {
        "id": "TzBnQcuLrFaq"
      },
      "source": [
        "#### Task 4: The `date()` & `time()` Functions\n",
        "\n",
        "Let's first separate the date and time values from the current `datetime` object using the `date()` and `time()` functions respectively. \n",
        "\n",
        "Also, let's convert the date and time values into string and format them in the `Month Day, Year` and `HH:MM:SS AM/PM` date and time formats respectively."
      ]
    },
    {
      "cell_type": "code",
      "metadata": {
        "id": "-vpWl0_UetJR",
        "colab": {
          "base_uri": "https://localhost:8080/"
        },
        "outputId": "8b039fb1-ef86-42b6-e906-40b852b3204a"
      },
      "source": [
        "# S4.1: Separate the date and time values from the 'datetime' object. Convert them into string. Print the final values and their data-types.\n",
        "curr_dt_ist = datetime.datetime.now() + datetime.timedelta(minutes=30, hours=5)\n",
        "curr_date = curr_dt_ist.date().strftime('%B %d, %Y')\n",
        "curr_time = curr_dt_ist.time().strftime('%I:%M:%S %p')\n",
        "print(f\"Current date = {curr_date}, Data-type = {type(curr_date)} \\nCurrent time = {curr_time}, Data-type = {type(curr_time)}\")\n"
      ],
      "execution_count": null,
      "outputs": [
        {
          "output_type": "stream",
          "name": "stdout",
          "text": [
            "Current date = December 25, 2021, Data-type = <class 'str'> \n",
            "Current time = 04:28:48 PM, Data-type = <class 'str'>\n"
          ]
        }
      ]
    },
    {
      "cell_type": "markdown",
      "metadata": {
        "id": "L9AGc8IZAy4N"
      },
      "source": [
        "Hence we have successfully seperated the date and time using the `date()` and `time()` functions respectively."
      ]
    },
    {
      "cell_type": "markdown",
      "metadata": {
        "id": "6Vhb0qIWuEom"
      },
      "source": [
        "---"
      ]
    },
    {
      "cell_type": "markdown",
      "metadata": {
        "id": "D6MRwgKIev0e"
      },
      "source": [
        "#### Task 5: The `datetime.strptime()` Function\n",
        "\n",
        "We can create a `datetime` object by passing the string values to the `strptime()` function.\n",
        "\n",
        "As an example, let's create a `datetime` object for the date December 26, 2019. It was the day when the Earth observed the latest annular solar eclipse at around 0334 hours (GMT) in Saudi Arabia. \n",
        "\n",
        "The `strptime()` function requires two parameters:  \n",
        "\n",
        "- The `datetime` object as a string\n",
        "\n",
        "- The combination of format codes for the passed `datetime` object. E.g., if the datetime object is `May 04, 2020 06:14:48 PM`, then the required combination format codes is `'%B %d, %Y %I:%M:%S %p'`"
      ]
    },
    {
      "cell_type": "code",
      "metadata": {
        "id": "R8WBV8g9eyhe",
        "colab": {
          "base_uri": "https://localhost:8080/"
        },
        "outputId": "9cd43010-b362-4b21-a1a4-d91dfdf118f6"
      },
      "source": [
        "# S5.1: Create a datetime object by passing the string values to the 'strptime()' function. Also, print the data-type of the object.\n",
        "lat_sol_eclipse = datetime.datetime.strptime('Dec 26, 2019 03:34:00', '%b %d, %Y %H:%M:%S')\n",
        "print(f\"Latest annular solar eclipse = {lat_sol_eclipse} \\nData-type = {type(lat_sol_eclipse)}\")"
      ],
      "execution_count": null,
      "outputs": [
        {
          "output_type": "stream",
          "name": "stdout",
          "text": [
            "Latest annular solar eclipse = 2019-12-26 03:34:00 \n",
            "Data-type = <class 'datetime.datetime'>\n"
          ]
        }
      ]
    },
    {
      "cell_type": "markdown",
      "metadata": {
        "id": "kwRJ4y83Iyeq"
      },
      "source": [
        "**Fun Fact:** An eclipse repeats itself in approximately 6,585.3 days.\n",
        "\n",
        "So, we can determine the date and time for the next occurrence of the annular solar eclipse that was observed on 26 December 2019."
      ]
    },
    {
      "cell_type": "code",
      "metadata": {
        "id": "mpqm8sa7HFwh",
        "colab": {
          "base_uri": "https://localhost:8080/"
        },
        "outputId": "329d1a36-32fd-4c4d-8cde-a3ecae587572"
      },
      "source": [
        "# S5.2: Determine the date and time for the next occurrence of the annular solar eclipse that was observed on 26 December 2019.\n",
        "print(lat_sol_eclipse+datetime.timedelta(days=6585.3))"
      ],
      "execution_count": null,
      "outputs": [
        {
          "output_type": "stream",
          "name": "stdout",
          "text": [
            "2038-01-05 10:46:00\n"
          ]
        }
      ]
    },
    {
      "cell_type": "markdown",
      "metadata": {
        "id": "8OsxsPr5yWPk"
      },
      "source": [
        "So, the last annular solar eclipse will repeat on 5 January 2038 at about 10:47 AM.\n",
        "\n",
        "Here is a snapshot: \n",
        "\n",
        "<img src='https://i.imgur.com/onLwqAY.png' width=250>\n",
        "\n",
        "*Image Credits: https://eclipse.gsfc.nasa.gov/5MCSE/5MCSE-Maps-10.pdf*"
      ]
    },
    {
      "cell_type": "markdown",
      "metadata": {
        "id": "q2BJBdeR0tWV"
      },
      "source": [
        "---"
      ]
    },
    {
      "cell_type": "markdown",
      "metadata": {
        "id": "-ld_gHsVwn-F"
      },
      "source": [
        "#### Task 6: Only `dates` & `times`"
      ]
    },
    {
      "cell_type": "markdown",
      "metadata": {
        "id": "xsKQ8ZA13ICF"
      },
      "source": [
        "We can create separate `datetime.date` and `datetime.time` objects by passing values to the `date()` and `time()` functions."
      ]
    },
    {
      "cell_type": "code",
      "metadata": {
        "id": "Cv4qW53bJ9Vy",
        "colab": {
          "base_uri": "https://localhost:8080/"
        },
        "outputId": "802aa345-302a-40b6-e742-13c46f1f787c"
      },
      "source": [
        "# S6.1 Create only a 'datetime.date' object for your birthday. Print it and its data-type.\n",
        "print(datetime.date(2004,5,4))\n",
        "type(datetime.date(2004,5,4))"
      ],
      "execution_count": null,
      "outputs": [
        {
          "output_type": "stream",
          "name": "stdout",
          "text": [
            "2004-05-04\n"
          ]
        },
        {
          "output_type": "execute_result",
          "data": {
            "text/plain": [
              "datetime.date"
            ]
          },
          "metadata": {},
          "execution_count": 27
        }
      ]
    },
    {
      "cell_type": "code",
      "metadata": {
        "id": "dOck1OebKK_J",
        "colab": {
          "base_uri": "https://localhost:8080/"
        },
        "outputId": "7ff9be24-8541-44e9-d16d-522f0dfb2648"
      },
      "source": [
        "# S6.2 Create only a 'datetime.time' object for any random time. Print it and its data-type.\n",
        "print(datetime.time(5,30,40))\n",
        "type(datetime.time(5,30,40))"
      ],
      "execution_count": null,
      "outputs": [
        {
          "output_type": "stream",
          "name": "stdout",
          "text": [
            "05:30:40\n"
          ]
        },
        {
          "output_type": "execute_result",
          "data": {
            "text/plain": [
              "datetime.time"
            ]
          },
          "metadata": {},
          "execution_count": 28
        }
      ]
    },
    {
      "cell_type": "markdown",
      "metadata": {
        "id": "uFNSA3NGfKYL"
      },
      "source": [
        "---"
      ]
    },
    {
      "cell_type": "markdown",
      "metadata": {
        "id": "RbKE24jFAYgj"
      },
      "source": [
        "#### Task 7: Continuing Air Quality Analysis\n",
        "\n",
        "Let's continue with the air quality analysis. We need to load the dataset, remove the `Unnamed: 15` & `Unnamed: 16` columns and drop the null values.\n",
        "\n",
        "Also, in the previous class, we created a new Pandas series containing the concatenated date and time values."
      ]
    },
    {
      "cell_type": "code",
      "metadata": {
        "id": "xczoNMbpBb8l",
        "colab": {
          "base_uri": "https://localhost:8080/"
        },
        "outputId": "e14f03d8-0b95-467b-dc81-b193d3b1c5d6"
      },
      "source": [
        "# S7.1: Run the code cell.\n",
        "import numpy as np\n",
        "import pandas as pd\n",
        "import matplotlib.pyplot as plt\n",
        "import seaborn as sns\n",
        "\n",
        "# Loading the dataset\n",
        "csv_file = 'https://student-datasets-bucket.s3.ap-south-1.amazonaws.com/whitehat-ds-datasets/air-quality/AirQualityUCI.csv'\n",
        "df = pd.read_csv(csv_file, sep=';')\n",
        "\n",
        "# Dropping the 'Unnamed: 15' & 'Unnamed: 16' columns\n",
        "df = df.drop(columns=['Unnamed: 15', 'Unnamed: 16'], axis=1) \n",
        "\n",
        "# Dropping the null values\n",
        "df = df.dropna()\n",
        "\n",
        "# Creating a Pandas series containing 'datetime' objects.\n",
        "dt_series = pd.Series(data = [item.split(\"/\")[2] + \"-\" + item.split(\"/\")[1] + \"-\" + item.split(\"/\")[0] for item in df['Date']], index=df.index) + ' ' + pd.Series(data=[str(item).replace(\".\", \":\") for item in df['Time']], index=df.index)\n",
        "dt_series = pd.to_datetime(dt_series)\n",
        "dt_series"
      ],
      "execution_count": null,
      "outputs": [
        {
          "output_type": "execute_result",
          "data": {
            "text/plain": [
              "0      2004-03-10 18:00:00\n",
              "1      2004-03-10 19:00:00\n",
              "2      2004-03-10 20:00:00\n",
              "3      2004-03-10 21:00:00\n",
              "4      2004-03-10 22:00:00\n",
              "               ...        \n",
              "9352   2005-04-04 10:00:00\n",
              "9353   2005-04-04 11:00:00\n",
              "9354   2005-04-04 12:00:00\n",
              "9355   2005-04-04 13:00:00\n",
              "9356   2005-04-04 14:00:00\n",
              "Length: 9357, dtype: datetime64[ns]"
            ]
          },
          "metadata": {},
          "execution_count": 29
        }
      ]
    },
    {
      "cell_type": "markdown",
      "metadata": {
        "id": "6sCS3wC6FfTh"
      },
      "source": [
        "Let's remove the `Date` & `Time` columns from the DataFrame because we don't need them and insert the `dt_series` in it because it contains the `datetime` objects."
      ]
    },
    {
      "cell_type": "code",
      "metadata": {
        "id": "0GALRL4-F6PX",
        "colab": {
          "base_uri": "https://localhost:8080/",
          "height": 206
        },
        "outputId": "102d63a4-7891-4895-a810-1c86365c0d85"
      },
      "source": [
        "# S7.2 Display the first five rows of the DataFrame before removing the 'Date' and 'Time' columns.\n",
        "df.head()"
      ],
      "execution_count": null,
      "outputs": [
        {
          "output_type": "execute_result",
          "data": {
            "text/html": [
              "\n",
              "  <div id=\"df-5c076aab-43b1-4d2d-a1fe-0e1ea13eb9b6\">\n",
              "    <div class=\"colab-df-container\">\n",
              "      <div>\n",
              "<style scoped>\n",
              "    .dataframe tbody tr th:only-of-type {\n",
              "        vertical-align: middle;\n",
              "    }\n",
              "\n",
              "    .dataframe tbody tr th {\n",
              "        vertical-align: top;\n",
              "    }\n",
              "\n",
              "    .dataframe thead th {\n",
              "        text-align: right;\n",
              "    }\n",
              "</style>\n",
              "<table border=\"1\" class=\"dataframe\">\n",
              "  <thead>\n",
              "    <tr style=\"text-align: right;\">\n",
              "      <th></th>\n",
              "      <th>Date</th>\n",
              "      <th>Time</th>\n",
              "      <th>CO(GT)</th>\n",
              "      <th>PT08.S1(CO)</th>\n",
              "      <th>NMHC(GT)</th>\n",
              "      <th>C6H6(GT)</th>\n",
              "      <th>PT08.S2(NMHC)</th>\n",
              "      <th>NOx(GT)</th>\n",
              "      <th>PT08.S3(NOx)</th>\n",
              "      <th>NO2(GT)</th>\n",
              "      <th>PT08.S4(NO2)</th>\n",
              "      <th>PT08.S5(O3)</th>\n",
              "      <th>T</th>\n",
              "      <th>RH</th>\n",
              "      <th>AH</th>\n",
              "    </tr>\n",
              "  </thead>\n",
              "  <tbody>\n",
              "    <tr>\n",
              "      <th>0</th>\n",
              "      <td>10/03/2004</td>\n",
              "      <td>18.00.00</td>\n",
              "      <td>2,6</td>\n",
              "      <td>1360.0</td>\n",
              "      <td>150.0</td>\n",
              "      <td>11,9</td>\n",
              "      <td>1046.0</td>\n",
              "      <td>166.0</td>\n",
              "      <td>1056.0</td>\n",
              "      <td>113.0</td>\n",
              "      <td>1692.0</td>\n",
              "      <td>1268.0</td>\n",
              "      <td>13,6</td>\n",
              "      <td>48,9</td>\n",
              "      <td>0,7578</td>\n",
              "    </tr>\n",
              "    <tr>\n",
              "      <th>1</th>\n",
              "      <td>10/03/2004</td>\n",
              "      <td>19.00.00</td>\n",
              "      <td>2</td>\n",
              "      <td>1292.0</td>\n",
              "      <td>112.0</td>\n",
              "      <td>9,4</td>\n",
              "      <td>955.0</td>\n",
              "      <td>103.0</td>\n",
              "      <td>1174.0</td>\n",
              "      <td>92.0</td>\n",
              "      <td>1559.0</td>\n",
              "      <td>972.0</td>\n",
              "      <td>13,3</td>\n",
              "      <td>47,7</td>\n",
              "      <td>0,7255</td>\n",
              "    </tr>\n",
              "    <tr>\n",
              "      <th>2</th>\n",
              "      <td>10/03/2004</td>\n",
              "      <td>20.00.00</td>\n",
              "      <td>2,2</td>\n",
              "      <td>1402.0</td>\n",
              "      <td>88.0</td>\n",
              "      <td>9,0</td>\n",
              "      <td>939.0</td>\n",
              "      <td>131.0</td>\n",
              "      <td>1140.0</td>\n",
              "      <td>114.0</td>\n",
              "      <td>1555.0</td>\n",
              "      <td>1074.0</td>\n",
              "      <td>11,9</td>\n",
              "      <td>54,0</td>\n",
              "      <td>0,7502</td>\n",
              "    </tr>\n",
              "    <tr>\n",
              "      <th>3</th>\n",
              "      <td>10/03/2004</td>\n",
              "      <td>21.00.00</td>\n",
              "      <td>2,2</td>\n",
              "      <td>1376.0</td>\n",
              "      <td>80.0</td>\n",
              "      <td>9,2</td>\n",
              "      <td>948.0</td>\n",
              "      <td>172.0</td>\n",
              "      <td>1092.0</td>\n",
              "      <td>122.0</td>\n",
              "      <td>1584.0</td>\n",
              "      <td>1203.0</td>\n",
              "      <td>11,0</td>\n",
              "      <td>60,0</td>\n",
              "      <td>0,7867</td>\n",
              "    </tr>\n",
              "    <tr>\n",
              "      <th>4</th>\n",
              "      <td>10/03/2004</td>\n",
              "      <td>22.00.00</td>\n",
              "      <td>1,6</td>\n",
              "      <td>1272.0</td>\n",
              "      <td>51.0</td>\n",
              "      <td>6,5</td>\n",
              "      <td>836.0</td>\n",
              "      <td>131.0</td>\n",
              "      <td>1205.0</td>\n",
              "      <td>116.0</td>\n",
              "      <td>1490.0</td>\n",
              "      <td>1110.0</td>\n",
              "      <td>11,2</td>\n",
              "      <td>59,6</td>\n",
              "      <td>0,7888</td>\n",
              "    </tr>\n",
              "  </tbody>\n",
              "</table>\n",
              "</div>\n",
              "      <button class=\"colab-df-convert\" onclick=\"convertToInteractive('df-5c076aab-43b1-4d2d-a1fe-0e1ea13eb9b6')\"\n",
              "              title=\"Convert this dataframe to an interactive table.\"\n",
              "              style=\"display:none;\">\n",
              "        \n",
              "  <svg xmlns=\"http://www.w3.org/2000/svg\" height=\"24px\"viewBox=\"0 0 24 24\"\n",
              "       width=\"24px\">\n",
              "    <path d=\"M0 0h24v24H0V0z\" fill=\"none\"/>\n",
              "    <path d=\"M18.56 5.44l.94 2.06.94-2.06 2.06-.94-2.06-.94-.94-2.06-.94 2.06-2.06.94zm-11 1L8.5 8.5l.94-2.06 2.06-.94-2.06-.94L8.5 2.5l-.94 2.06-2.06.94zm10 10l.94 2.06.94-2.06 2.06-.94-2.06-.94-.94-2.06-.94 2.06-2.06.94z\"/><path d=\"M17.41 7.96l-1.37-1.37c-.4-.4-.92-.59-1.43-.59-.52 0-1.04.2-1.43.59L10.3 9.45l-7.72 7.72c-.78.78-.78 2.05 0 2.83L4 21.41c.39.39.9.59 1.41.59.51 0 1.02-.2 1.41-.59l7.78-7.78 2.81-2.81c.8-.78.8-2.07 0-2.86zM5.41 20L4 18.59l7.72-7.72 1.47 1.35L5.41 20z\"/>\n",
              "  </svg>\n",
              "      </button>\n",
              "      \n",
              "  <style>\n",
              "    .colab-df-container {\n",
              "      display:flex;\n",
              "      flex-wrap:wrap;\n",
              "      gap: 12px;\n",
              "    }\n",
              "\n",
              "    .colab-df-convert {\n",
              "      background-color: #E8F0FE;\n",
              "      border: none;\n",
              "      border-radius: 50%;\n",
              "      cursor: pointer;\n",
              "      display: none;\n",
              "      fill: #1967D2;\n",
              "      height: 32px;\n",
              "      padding: 0 0 0 0;\n",
              "      width: 32px;\n",
              "    }\n",
              "\n",
              "    .colab-df-convert:hover {\n",
              "      background-color: #E2EBFA;\n",
              "      box-shadow: 0px 1px 2px rgba(60, 64, 67, 0.3), 0px 1px 3px 1px rgba(60, 64, 67, 0.15);\n",
              "      fill: #174EA6;\n",
              "    }\n",
              "\n",
              "    [theme=dark] .colab-df-convert {\n",
              "      background-color: #3B4455;\n",
              "      fill: #D2E3FC;\n",
              "    }\n",
              "\n",
              "    [theme=dark] .colab-df-convert:hover {\n",
              "      background-color: #434B5C;\n",
              "      box-shadow: 0px 1px 3px 1px rgba(0, 0, 0, 0.15);\n",
              "      filter: drop-shadow(0px 1px 2px rgba(0, 0, 0, 0.3));\n",
              "      fill: #FFFFFF;\n",
              "    }\n",
              "  </style>\n",
              "\n",
              "      <script>\n",
              "        const buttonEl =\n",
              "          document.querySelector('#df-5c076aab-43b1-4d2d-a1fe-0e1ea13eb9b6 button.colab-df-convert');\n",
              "        buttonEl.style.display =\n",
              "          google.colab.kernel.accessAllowed ? 'block' : 'none';\n",
              "\n",
              "        async function convertToInteractive(key) {\n",
              "          const element = document.querySelector('#df-5c076aab-43b1-4d2d-a1fe-0e1ea13eb9b6');\n",
              "          const dataTable =\n",
              "            await google.colab.kernel.invokeFunction('convertToInteractive',\n",
              "                                                     [key], {});\n",
              "          if (!dataTable) return;\n",
              "\n",
              "          const docLinkHtml = 'Like what you see? Visit the ' +\n",
              "            '<a target=\"_blank\" href=https://colab.research.google.com/notebooks/data_table.ipynb>data table notebook</a>'\n",
              "            + ' to learn more about interactive tables.';\n",
              "          element.innerHTML = '';\n",
              "          dataTable['output_type'] = 'display_data';\n",
              "          await google.colab.output.renderOutput(dataTable, element);\n",
              "          const docLink = document.createElement('div');\n",
              "          docLink.innerHTML = docLinkHtml;\n",
              "          element.appendChild(docLink);\n",
              "        }\n",
              "      </script>\n",
              "    </div>\n",
              "  </div>\n",
              "  "
            ],
            "text/plain": [
              "         Date      Time CO(GT)  PT08.S1(CO)  ...  PT08.S5(O3)     T    RH      AH\n",
              "0  10/03/2004  18.00.00    2,6       1360.0  ...       1268.0  13,6  48,9  0,7578\n",
              "1  10/03/2004  19.00.00      2       1292.0  ...        972.0  13,3  47,7  0,7255\n",
              "2  10/03/2004  20.00.00    2,2       1402.0  ...       1074.0  11,9  54,0  0,7502\n",
              "3  10/03/2004  21.00.00    2,2       1376.0  ...       1203.0  11,0  60,0  0,7867\n",
              "4  10/03/2004  22.00.00    1,6       1272.0  ...       1110.0  11,2  59,6  0,7888\n",
              "\n",
              "[5 rows x 15 columns]"
            ]
          },
          "metadata": {},
          "execution_count": 30
        }
      ]
    },
    {
      "cell_type": "markdown",
      "metadata": {
        "id": "y0UlL7MdGWW4"
      },
      "source": [
        "Let's add the `dt_series` Pandas series to the DataFrame at `index = 0`. Also, let's label it as a `DateTime` column."
      ]
    },
    {
      "cell_type": "code",
      "metadata": {
        "id": "fet1jQCAA1_P"
      },
      "source": [
        "# S7.3: Remove the Date & Time columns from the DataFrame and insert the 'dt_series' in it.\n",
        "df=df.drop(columns=['Date','Time'],axis=1)\n",
        "df.insert(loc=0,column='DateTime',value=dt_series)"
      ],
      "execution_count": null,
      "outputs": []
    },
    {
      "cell_type": "code",
      "metadata": {
        "id": "XQiiv3yEA4fH",
        "colab": {
          "base_uri": "https://localhost:8080/",
          "height": 206
        },
        "outputId": "dd75f430-9dd4-4f76-e5e3-513a06714411"
      },
      "source": [
        "# S7.4: Display the first five rows of the DataFrame after removing the 'Date' 7 'Time' columns and adding the 'DateTime' column.\n",
        "df.head()"
      ],
      "execution_count": null,
      "outputs": [
        {
          "output_type": "execute_result",
          "data": {
            "text/html": [
              "\n",
              "  <div id=\"df-34b00108-a383-418b-a900-5703b35e17c2\">\n",
              "    <div class=\"colab-df-container\">\n",
              "      <div>\n",
              "<style scoped>\n",
              "    .dataframe tbody tr th:only-of-type {\n",
              "        vertical-align: middle;\n",
              "    }\n",
              "\n",
              "    .dataframe tbody tr th {\n",
              "        vertical-align: top;\n",
              "    }\n",
              "\n",
              "    .dataframe thead th {\n",
              "        text-align: right;\n",
              "    }\n",
              "</style>\n",
              "<table border=\"1\" class=\"dataframe\">\n",
              "  <thead>\n",
              "    <tr style=\"text-align: right;\">\n",
              "      <th></th>\n",
              "      <th>DateTime</th>\n",
              "      <th>CO(GT)</th>\n",
              "      <th>PT08.S1(CO)</th>\n",
              "      <th>NMHC(GT)</th>\n",
              "      <th>C6H6(GT)</th>\n",
              "      <th>PT08.S2(NMHC)</th>\n",
              "      <th>NOx(GT)</th>\n",
              "      <th>PT08.S3(NOx)</th>\n",
              "      <th>NO2(GT)</th>\n",
              "      <th>PT08.S4(NO2)</th>\n",
              "      <th>PT08.S5(O3)</th>\n",
              "      <th>T</th>\n",
              "      <th>RH</th>\n",
              "      <th>AH</th>\n",
              "    </tr>\n",
              "  </thead>\n",
              "  <tbody>\n",
              "    <tr>\n",
              "      <th>0</th>\n",
              "      <td>2004-03-10 18:00:00</td>\n",
              "      <td>2,6</td>\n",
              "      <td>1360.0</td>\n",
              "      <td>150.0</td>\n",
              "      <td>11,9</td>\n",
              "      <td>1046.0</td>\n",
              "      <td>166.0</td>\n",
              "      <td>1056.0</td>\n",
              "      <td>113.0</td>\n",
              "      <td>1692.0</td>\n",
              "      <td>1268.0</td>\n",
              "      <td>13,6</td>\n",
              "      <td>48,9</td>\n",
              "      <td>0,7578</td>\n",
              "    </tr>\n",
              "    <tr>\n",
              "      <th>1</th>\n",
              "      <td>2004-03-10 19:00:00</td>\n",
              "      <td>2</td>\n",
              "      <td>1292.0</td>\n",
              "      <td>112.0</td>\n",
              "      <td>9,4</td>\n",
              "      <td>955.0</td>\n",
              "      <td>103.0</td>\n",
              "      <td>1174.0</td>\n",
              "      <td>92.0</td>\n",
              "      <td>1559.0</td>\n",
              "      <td>972.0</td>\n",
              "      <td>13,3</td>\n",
              "      <td>47,7</td>\n",
              "      <td>0,7255</td>\n",
              "    </tr>\n",
              "    <tr>\n",
              "      <th>2</th>\n",
              "      <td>2004-03-10 20:00:00</td>\n",
              "      <td>2,2</td>\n",
              "      <td>1402.0</td>\n",
              "      <td>88.0</td>\n",
              "      <td>9,0</td>\n",
              "      <td>939.0</td>\n",
              "      <td>131.0</td>\n",
              "      <td>1140.0</td>\n",
              "      <td>114.0</td>\n",
              "      <td>1555.0</td>\n",
              "      <td>1074.0</td>\n",
              "      <td>11,9</td>\n",
              "      <td>54,0</td>\n",
              "      <td>0,7502</td>\n",
              "    </tr>\n",
              "    <tr>\n",
              "      <th>3</th>\n",
              "      <td>2004-03-10 21:00:00</td>\n",
              "      <td>2,2</td>\n",
              "      <td>1376.0</td>\n",
              "      <td>80.0</td>\n",
              "      <td>9,2</td>\n",
              "      <td>948.0</td>\n",
              "      <td>172.0</td>\n",
              "      <td>1092.0</td>\n",
              "      <td>122.0</td>\n",
              "      <td>1584.0</td>\n",
              "      <td>1203.0</td>\n",
              "      <td>11,0</td>\n",
              "      <td>60,0</td>\n",
              "      <td>0,7867</td>\n",
              "    </tr>\n",
              "    <tr>\n",
              "      <th>4</th>\n",
              "      <td>2004-03-10 22:00:00</td>\n",
              "      <td>1,6</td>\n",
              "      <td>1272.0</td>\n",
              "      <td>51.0</td>\n",
              "      <td>6,5</td>\n",
              "      <td>836.0</td>\n",
              "      <td>131.0</td>\n",
              "      <td>1205.0</td>\n",
              "      <td>116.0</td>\n",
              "      <td>1490.0</td>\n",
              "      <td>1110.0</td>\n",
              "      <td>11,2</td>\n",
              "      <td>59,6</td>\n",
              "      <td>0,7888</td>\n",
              "    </tr>\n",
              "  </tbody>\n",
              "</table>\n",
              "</div>\n",
              "      <button class=\"colab-df-convert\" onclick=\"convertToInteractive('df-34b00108-a383-418b-a900-5703b35e17c2')\"\n",
              "              title=\"Convert this dataframe to an interactive table.\"\n",
              "              style=\"display:none;\">\n",
              "        \n",
              "  <svg xmlns=\"http://www.w3.org/2000/svg\" height=\"24px\"viewBox=\"0 0 24 24\"\n",
              "       width=\"24px\">\n",
              "    <path d=\"M0 0h24v24H0V0z\" fill=\"none\"/>\n",
              "    <path d=\"M18.56 5.44l.94 2.06.94-2.06 2.06-.94-2.06-.94-.94-2.06-.94 2.06-2.06.94zm-11 1L8.5 8.5l.94-2.06 2.06-.94-2.06-.94L8.5 2.5l-.94 2.06-2.06.94zm10 10l.94 2.06.94-2.06 2.06-.94-2.06-.94-.94-2.06-.94 2.06-2.06.94z\"/><path d=\"M17.41 7.96l-1.37-1.37c-.4-.4-.92-.59-1.43-.59-.52 0-1.04.2-1.43.59L10.3 9.45l-7.72 7.72c-.78.78-.78 2.05 0 2.83L4 21.41c.39.39.9.59 1.41.59.51 0 1.02-.2 1.41-.59l7.78-7.78 2.81-2.81c.8-.78.8-2.07 0-2.86zM5.41 20L4 18.59l7.72-7.72 1.47 1.35L5.41 20z\"/>\n",
              "  </svg>\n",
              "      </button>\n",
              "      \n",
              "  <style>\n",
              "    .colab-df-container {\n",
              "      display:flex;\n",
              "      flex-wrap:wrap;\n",
              "      gap: 12px;\n",
              "    }\n",
              "\n",
              "    .colab-df-convert {\n",
              "      background-color: #E8F0FE;\n",
              "      border: none;\n",
              "      border-radius: 50%;\n",
              "      cursor: pointer;\n",
              "      display: none;\n",
              "      fill: #1967D2;\n",
              "      height: 32px;\n",
              "      padding: 0 0 0 0;\n",
              "      width: 32px;\n",
              "    }\n",
              "\n",
              "    .colab-df-convert:hover {\n",
              "      background-color: #E2EBFA;\n",
              "      box-shadow: 0px 1px 2px rgba(60, 64, 67, 0.3), 0px 1px 3px 1px rgba(60, 64, 67, 0.15);\n",
              "      fill: #174EA6;\n",
              "    }\n",
              "\n",
              "    [theme=dark] .colab-df-convert {\n",
              "      background-color: #3B4455;\n",
              "      fill: #D2E3FC;\n",
              "    }\n",
              "\n",
              "    [theme=dark] .colab-df-convert:hover {\n",
              "      background-color: #434B5C;\n",
              "      box-shadow: 0px 1px 3px 1px rgba(0, 0, 0, 0.15);\n",
              "      filter: drop-shadow(0px 1px 2px rgba(0, 0, 0, 0.3));\n",
              "      fill: #FFFFFF;\n",
              "    }\n",
              "  </style>\n",
              "\n",
              "      <script>\n",
              "        const buttonEl =\n",
              "          document.querySelector('#df-34b00108-a383-418b-a900-5703b35e17c2 button.colab-df-convert');\n",
              "        buttonEl.style.display =\n",
              "          google.colab.kernel.accessAllowed ? 'block' : 'none';\n",
              "\n",
              "        async function convertToInteractive(key) {\n",
              "          const element = document.querySelector('#df-34b00108-a383-418b-a900-5703b35e17c2');\n",
              "          const dataTable =\n",
              "            await google.colab.kernel.invokeFunction('convertToInteractive',\n",
              "                                                     [key], {});\n",
              "          if (!dataTable) return;\n",
              "\n",
              "          const docLinkHtml = 'Like what you see? Visit the ' +\n",
              "            '<a target=\"_blank\" href=https://colab.research.google.com/notebooks/data_table.ipynb>data table notebook</a>'\n",
              "            + ' to learn more about interactive tables.';\n",
              "          element.innerHTML = '';\n",
              "          dataTable['output_type'] = 'display_data';\n",
              "          await google.colab.output.renderOutput(dataTable, element);\n",
              "          const docLink = document.createElement('div');\n",
              "          docLink.innerHTML = docLinkHtml;\n",
              "          element.appendChild(docLink);\n",
              "        }\n",
              "      </script>\n",
              "    </div>\n",
              "  </div>\n",
              "  "
            ],
            "text/plain": [
              "             DateTime CO(GT)  PT08.S1(CO)  ...     T    RH      AH\n",
              "0 2004-03-10 18:00:00    2,6       1360.0  ...  13,6  48,9  0,7578\n",
              "1 2004-03-10 19:00:00      2       1292.0  ...  13,3  47,7  0,7255\n",
              "2 2004-03-10 20:00:00    2,2       1402.0  ...  11,9  54,0  0,7502\n",
              "3 2004-03-10 21:00:00    2,2       1376.0  ...  11,0  60,0  0,7867\n",
              "4 2004-03-10 22:00:00    1,6       1272.0  ...  11,2  59,6  0,7888\n",
              "\n",
              "[5 rows x 14 columns]"
            ]
          },
          "metadata": {},
          "execution_count": 32
        }
      ]
    },
    {
      "cell_type": "markdown",
      "metadata": {
        "id": "rzvvqIcLBa8K"
      },
      "source": [
        "---"
      ]
    },
    {
      "cell_type": "markdown",
      "metadata": {
        "id": "8g7P6OtxA-yS"
      },
      "source": [
        "#### Task 8: Extract Year, Month, Day & Weekday Values\n",
        "\n",
        "Let's add four more columns to the DataFrame. The should contain the year, month, day and day-name values for each observation on the air pollutants, temperature, relative humidity and absolute humidity.\n",
        "\n",
        "For this you can apply the following attributes/functions:\n",
        "\n",
        "- `series_name.dt.year` to get a Pandas series containing the year values as integers.\n",
        "\n",
        "- `series_name.dt.month` to get a Pandas series containing the month values as integers.\n",
        "\n",
        "- `series_name.dt.day` to get a Pandas series containing the day values as integers.\n",
        "\n",
        "- `series_name.dt.day_name()` to get a Pandas series containing the days of a week, i.e., Monday, Tuesday, Wednesday etc.\n"
      ]
    },
    {
      "cell_type": "code",
      "metadata": {
        "id": "Ipl6fbUGBBS0",
        "colab": {
          "base_uri": "https://localhost:8080/"
        },
        "outputId": "2c1693b9-7649-4443-a394-afcdb5a3062c"
      },
      "source": [
        "# S8.1: Get the Pandas series containing the year values as integers.\n",
        "year_series=dt_series.dt.year\n",
        "year_series"
      ],
      "execution_count": null,
      "outputs": [
        {
          "output_type": "execute_result",
          "data": {
            "text/plain": [
              "0       2004\n",
              "1       2004\n",
              "2       2004\n",
              "3       2004\n",
              "4       2004\n",
              "        ... \n",
              "9352    2005\n",
              "9353    2005\n",
              "9354    2005\n",
              "9355    2005\n",
              "9356    2005\n",
              "Length: 9357, dtype: int64"
            ]
          },
          "metadata": {},
          "execution_count": 33
        }
      ]
    },
    {
      "cell_type": "code",
      "metadata": {
        "id": "FVRFFeeHBFPu",
        "colab": {
          "base_uri": "https://localhost:8080/"
        },
        "outputId": "b188a984-5745-45a9-88a3-925934981e09"
      },
      "source": [
        "# S8.2: Get the Pandas series containing the month values as integers.\n",
        "month_series=dt_series.dt.month\n",
        "month_series"
      ],
      "execution_count": null,
      "outputs": [
        {
          "output_type": "execute_result",
          "data": {
            "text/plain": [
              "0       3\n",
              "1       3\n",
              "2       3\n",
              "3       3\n",
              "4       3\n",
              "       ..\n",
              "9352    4\n",
              "9353    4\n",
              "9354    4\n",
              "9355    4\n",
              "9356    4\n",
              "Length: 9357, dtype: int64"
            ]
          },
          "metadata": {},
          "execution_count": 34
        }
      ]
    },
    {
      "cell_type": "code",
      "metadata": {
        "id": "hMCr-CchBI0o",
        "colab": {
          "base_uri": "https://localhost:8080/"
        },
        "outputId": "1a9a29b1-ca09-4128-8138-9ae347411be5"
      },
      "source": [
        "# S8.3: Get the Pandas series containing the day values as integers.\n",
        "day_series=dt_series.dt.day\n",
        "day_series"
      ],
      "execution_count": null,
      "outputs": [
        {
          "output_type": "execute_result",
          "data": {
            "text/plain": [
              "0       10\n",
              "1       10\n",
              "2       10\n",
              "3       10\n",
              "4       10\n",
              "        ..\n",
              "9352     4\n",
              "9353     4\n",
              "9354     4\n",
              "9355     4\n",
              "9356     4\n",
              "Length: 9357, dtype: int64"
            ]
          },
          "metadata": {},
          "execution_count": 35
        }
      ]
    },
    {
      "cell_type": "code",
      "metadata": {
        "id": "PKHnJC1BBNlW",
        "colab": {
          "base_uri": "https://localhost:8080/"
        },
        "outputId": "e116aee7-6e49-43b9-f508-42727b63f04e"
      },
      "source": [
        "# S8.4: Get the Pandas series containing the days of a week, i.e., Monday, Tuesday, Wednesday etc.\n",
        "day_name_series=dt_series.dt.day_name()\n",
        "day_name_series"
      ],
      "execution_count": null,
      "outputs": [
        {
          "output_type": "execute_result",
          "data": {
            "text/plain": [
              "0       Wednesday\n",
              "1       Wednesday\n",
              "2       Wednesday\n",
              "3       Wednesday\n",
              "4       Wednesday\n",
              "          ...    \n",
              "9352       Monday\n",
              "9353       Monday\n",
              "9354       Monday\n",
              "9355       Monday\n",
              "9356       Monday\n",
              "Length: 9357, dtype: object"
            ]
          },
          "metadata": {},
          "execution_count": 36
        }
      ]
    },
    {
      "cell_type": "markdown",
      "metadata": {
        "id": "vG9HS9RUKO8p"
      },
      "source": [
        "We can add a column to a DataFrame by following the syntax given below.\n",
        "\n",
        "**Syntax to add a new column:** `df_name['column_name'] = pandas_series`\n",
        "\n",
        "Where `df_name` is the Pandas DataFrame in which the `pandas_series` to added as a column with the `column_name` as the desired name for the column.\n",
        "\n",
        "**Note:** The indices of the items contained in the `pandas_series` must be the same as the indices of the `df_name` DataFrame."
      ]
    },
    {
      "cell_type": "code",
      "metadata": {
        "id": "9d4hzaSqBPTM"
      },
      "source": [
        "# S8.5: Add the 'Year', 'Month', 'Day' and 'Day Name' columns to the DataFrame.\n",
        "\n",
        "df['Year'] = year_series\n",
        "df['Month'] = month_series\n",
        "df['Day'] = day_series\n",
        "df['Day Name'] = day_name_series"
      ],
      "execution_count": null,
      "outputs": []
    },
    {
      "cell_type": "markdown",
      "metadata": {
        "id": "FSHNH--OLGKK"
      },
      "source": [
        "Let's display the first five rows of the DataFrame after adding the new columns."
      ]
    },
    {
      "cell_type": "code",
      "metadata": {
        "id": "ryRbNUaGBREg",
        "colab": {
          "base_uri": "https://localhost:8080/",
          "height": 444
        },
        "outputId": "8b6a2cb4-0ba7-4cab-8cfe-0656cdb3db4e"
      },
      "source": [
        "# S8.6: Display the first five rows of the DataFrame after adding the new columns.\n",
        "df.head()"
      ],
      "execution_count": null,
      "outputs": [
        {
          "output_type": "execute_result",
          "data": {
            "text/html": [
              "\n",
              "  <div id=\"df-7a3c5c7f-4d51-44af-a0ed-ed24503f4682\">\n",
              "    <div class=\"colab-df-container\">\n",
              "      <div>\n",
              "<style scoped>\n",
              "    .dataframe tbody tr th:only-of-type {\n",
              "        vertical-align: middle;\n",
              "    }\n",
              "\n",
              "    .dataframe tbody tr th {\n",
              "        vertical-align: top;\n",
              "    }\n",
              "\n",
              "    .dataframe thead th {\n",
              "        text-align: right;\n",
              "    }\n",
              "</style>\n",
              "<table border=\"1\" class=\"dataframe\">\n",
              "  <thead>\n",
              "    <tr style=\"text-align: right;\">\n",
              "      <th></th>\n",
              "      <th>DateTime</th>\n",
              "      <th>CO(GT)</th>\n",
              "      <th>PT08.S1(CO)</th>\n",
              "      <th>NMHC(GT)</th>\n",
              "      <th>C6H6(GT)</th>\n",
              "      <th>PT08.S2(NMHC)</th>\n",
              "      <th>NOx(GT)</th>\n",
              "      <th>PT08.S3(NOx)</th>\n",
              "      <th>NO2(GT)</th>\n",
              "      <th>PT08.S4(NO2)</th>\n",
              "      <th>PT08.S5(O3)</th>\n",
              "      <th>T</th>\n",
              "      <th>RH</th>\n",
              "      <th>AH</th>\n",
              "      <th>Year</th>\n",
              "      <th>Month</th>\n",
              "      <th>Day</th>\n",
              "      <th>Day Name</th>\n",
              "    </tr>\n",
              "  </thead>\n",
              "  <tbody>\n",
              "    <tr>\n",
              "      <th>0</th>\n",
              "      <td>2004-03-10 18:00:00</td>\n",
              "      <td>2,6</td>\n",
              "      <td>1360.0</td>\n",
              "      <td>150.0</td>\n",
              "      <td>11,9</td>\n",
              "      <td>1046.0</td>\n",
              "      <td>166.0</td>\n",
              "      <td>1056.0</td>\n",
              "      <td>113.0</td>\n",
              "      <td>1692.0</td>\n",
              "      <td>1268.0</td>\n",
              "      <td>13,6</td>\n",
              "      <td>48,9</td>\n",
              "      <td>0,7578</td>\n",
              "      <td>2004</td>\n",
              "      <td>3</td>\n",
              "      <td>10</td>\n",
              "      <td>Wednesday</td>\n",
              "    </tr>\n",
              "    <tr>\n",
              "      <th>1</th>\n",
              "      <td>2004-03-10 19:00:00</td>\n",
              "      <td>2</td>\n",
              "      <td>1292.0</td>\n",
              "      <td>112.0</td>\n",
              "      <td>9,4</td>\n",
              "      <td>955.0</td>\n",
              "      <td>103.0</td>\n",
              "      <td>1174.0</td>\n",
              "      <td>92.0</td>\n",
              "      <td>1559.0</td>\n",
              "      <td>972.0</td>\n",
              "      <td>13,3</td>\n",
              "      <td>47,7</td>\n",
              "      <td>0,7255</td>\n",
              "      <td>2004</td>\n",
              "      <td>3</td>\n",
              "      <td>10</td>\n",
              "      <td>Wednesday</td>\n",
              "    </tr>\n",
              "    <tr>\n",
              "      <th>2</th>\n",
              "      <td>2004-03-10 20:00:00</td>\n",
              "      <td>2,2</td>\n",
              "      <td>1402.0</td>\n",
              "      <td>88.0</td>\n",
              "      <td>9,0</td>\n",
              "      <td>939.0</td>\n",
              "      <td>131.0</td>\n",
              "      <td>1140.0</td>\n",
              "      <td>114.0</td>\n",
              "      <td>1555.0</td>\n",
              "      <td>1074.0</td>\n",
              "      <td>11,9</td>\n",
              "      <td>54,0</td>\n",
              "      <td>0,7502</td>\n",
              "      <td>2004</td>\n",
              "      <td>3</td>\n",
              "      <td>10</td>\n",
              "      <td>Wednesday</td>\n",
              "    </tr>\n",
              "    <tr>\n",
              "      <th>3</th>\n",
              "      <td>2004-03-10 21:00:00</td>\n",
              "      <td>2,2</td>\n",
              "      <td>1376.0</td>\n",
              "      <td>80.0</td>\n",
              "      <td>9,2</td>\n",
              "      <td>948.0</td>\n",
              "      <td>172.0</td>\n",
              "      <td>1092.0</td>\n",
              "      <td>122.0</td>\n",
              "      <td>1584.0</td>\n",
              "      <td>1203.0</td>\n",
              "      <td>11,0</td>\n",
              "      <td>60,0</td>\n",
              "      <td>0,7867</td>\n",
              "      <td>2004</td>\n",
              "      <td>3</td>\n",
              "      <td>10</td>\n",
              "      <td>Wednesday</td>\n",
              "    </tr>\n",
              "    <tr>\n",
              "      <th>4</th>\n",
              "      <td>2004-03-10 22:00:00</td>\n",
              "      <td>1,6</td>\n",
              "      <td>1272.0</td>\n",
              "      <td>51.0</td>\n",
              "      <td>6,5</td>\n",
              "      <td>836.0</td>\n",
              "      <td>131.0</td>\n",
              "      <td>1205.0</td>\n",
              "      <td>116.0</td>\n",
              "      <td>1490.0</td>\n",
              "      <td>1110.0</td>\n",
              "      <td>11,2</td>\n",
              "      <td>59,6</td>\n",
              "      <td>0,7888</td>\n",
              "      <td>2004</td>\n",
              "      <td>3</td>\n",
              "      <td>10</td>\n",
              "      <td>Wednesday</td>\n",
              "    </tr>\n",
              "  </tbody>\n",
              "</table>\n",
              "</div>\n",
              "      <button class=\"colab-df-convert\" onclick=\"convertToInteractive('df-7a3c5c7f-4d51-44af-a0ed-ed24503f4682')\"\n",
              "              title=\"Convert this dataframe to an interactive table.\"\n",
              "              style=\"display:none;\">\n",
              "        \n",
              "  <svg xmlns=\"http://www.w3.org/2000/svg\" height=\"24px\"viewBox=\"0 0 24 24\"\n",
              "       width=\"24px\">\n",
              "    <path d=\"M0 0h24v24H0V0z\" fill=\"none\"/>\n",
              "    <path d=\"M18.56 5.44l.94 2.06.94-2.06 2.06-.94-2.06-.94-.94-2.06-.94 2.06-2.06.94zm-11 1L8.5 8.5l.94-2.06 2.06-.94-2.06-.94L8.5 2.5l-.94 2.06-2.06.94zm10 10l.94 2.06.94-2.06 2.06-.94-2.06-.94-.94-2.06-.94 2.06-2.06.94z\"/><path d=\"M17.41 7.96l-1.37-1.37c-.4-.4-.92-.59-1.43-.59-.52 0-1.04.2-1.43.59L10.3 9.45l-7.72 7.72c-.78.78-.78 2.05 0 2.83L4 21.41c.39.39.9.59 1.41.59.51 0 1.02-.2 1.41-.59l7.78-7.78 2.81-2.81c.8-.78.8-2.07 0-2.86zM5.41 20L4 18.59l7.72-7.72 1.47 1.35L5.41 20z\"/>\n",
              "  </svg>\n",
              "      </button>\n",
              "      \n",
              "  <style>\n",
              "    .colab-df-container {\n",
              "      display:flex;\n",
              "      flex-wrap:wrap;\n",
              "      gap: 12px;\n",
              "    }\n",
              "\n",
              "    .colab-df-convert {\n",
              "      background-color: #E8F0FE;\n",
              "      border: none;\n",
              "      border-radius: 50%;\n",
              "      cursor: pointer;\n",
              "      display: none;\n",
              "      fill: #1967D2;\n",
              "      height: 32px;\n",
              "      padding: 0 0 0 0;\n",
              "      width: 32px;\n",
              "    }\n",
              "\n",
              "    .colab-df-convert:hover {\n",
              "      background-color: #E2EBFA;\n",
              "      box-shadow: 0px 1px 2px rgba(60, 64, 67, 0.3), 0px 1px 3px 1px rgba(60, 64, 67, 0.15);\n",
              "      fill: #174EA6;\n",
              "    }\n",
              "\n",
              "    [theme=dark] .colab-df-convert {\n",
              "      background-color: #3B4455;\n",
              "      fill: #D2E3FC;\n",
              "    }\n",
              "\n",
              "    [theme=dark] .colab-df-convert:hover {\n",
              "      background-color: #434B5C;\n",
              "      box-shadow: 0px 1px 3px 1px rgba(0, 0, 0, 0.15);\n",
              "      filter: drop-shadow(0px 1px 2px rgba(0, 0, 0, 0.3));\n",
              "      fill: #FFFFFF;\n",
              "    }\n",
              "  </style>\n",
              "\n",
              "      <script>\n",
              "        const buttonEl =\n",
              "          document.querySelector('#df-7a3c5c7f-4d51-44af-a0ed-ed24503f4682 button.colab-df-convert');\n",
              "        buttonEl.style.display =\n",
              "          google.colab.kernel.accessAllowed ? 'block' : 'none';\n",
              "\n",
              "        async function convertToInteractive(key) {\n",
              "          const element = document.querySelector('#df-7a3c5c7f-4d51-44af-a0ed-ed24503f4682');\n",
              "          const dataTable =\n",
              "            await google.colab.kernel.invokeFunction('convertToInteractive',\n",
              "                                                     [key], {});\n",
              "          if (!dataTable) return;\n",
              "\n",
              "          const docLinkHtml = 'Like what you see? Visit the ' +\n",
              "            '<a target=\"_blank\" href=https://colab.research.google.com/notebooks/data_table.ipynb>data table notebook</a>'\n",
              "            + ' to learn more about interactive tables.';\n",
              "          element.innerHTML = '';\n",
              "          dataTable['output_type'] = 'display_data';\n",
              "          await google.colab.output.renderOutput(dataTable, element);\n",
              "          const docLink = document.createElement('div');\n",
              "          docLink.innerHTML = docLinkHtml;\n",
              "          element.appendChild(docLink);\n",
              "        }\n",
              "      </script>\n",
              "    </div>\n",
              "  </div>\n",
              "  "
            ],
            "text/plain": [
              "             DateTime CO(GT)  PT08.S1(CO)  ...  Month Day   Day Name\n",
              "0 2004-03-10 18:00:00    2,6       1360.0  ...      3  10  Wednesday\n",
              "1 2004-03-10 19:00:00      2       1292.0  ...      3  10  Wednesday\n",
              "2 2004-03-10 20:00:00    2,2       1402.0  ...      3  10  Wednesday\n",
              "3 2004-03-10 21:00:00    2,2       1376.0  ...      3  10  Wednesday\n",
              "4 2004-03-10 22:00:00    1,6       1272.0  ...      3  10  Wednesday\n",
              "\n",
              "[5 rows x 18 columns]"
            ]
          },
          "metadata": {},
          "execution_count": 41
        }
      ]
    },
    {
      "cell_type": "markdown",
      "metadata": {
        "id": "AE8D-dJYLWrx"
      },
      "source": [
        "Let's sort the DataFrame by the `DateTime` values in the ascending order by using the `sort_values()` function. Inside the function, you need to pass the `by = 'DateTime'` parameter to sort the DataFrame by the `DateTime` values.\n",
        "\n",
        "**Note:** By default, the `sort_values` function sorts a DataFrame in the ascending order. To sort it in the descending order, pass `ascending=False` as the second parameter inside the `sort_values` function."
      ]
    },
    {
      "cell_type": "code",
      "metadata": {
        "id": "kQ9MNHYQBWAg",
        "colab": {
          "base_uri": "https://localhost:8080/",
          "height": 774
        },
        "outputId": "71c97f66-5b31-4ba8-ac6a-1b3371e8a974"
      },
      "source": [
        "# S8.7: Sort the DataFrame by the 'DateTime' values in the ascending order. Also, display the first 10 rows of the DataFrame.\n",
        "df=df.sort_values(by='DateTime')\n",
        "df.head(10)"
      ],
      "execution_count": null,
      "outputs": [
        {
          "output_type": "execute_result",
          "data": {
            "text/html": [
              "\n",
              "  <div id=\"df-ef148bd3-26d9-409a-8435-40d66c1681a1\">\n",
              "    <div class=\"colab-df-container\">\n",
              "      <div>\n",
              "<style scoped>\n",
              "    .dataframe tbody tr th:only-of-type {\n",
              "        vertical-align: middle;\n",
              "    }\n",
              "\n",
              "    .dataframe tbody tr th {\n",
              "        vertical-align: top;\n",
              "    }\n",
              "\n",
              "    .dataframe thead th {\n",
              "        text-align: right;\n",
              "    }\n",
              "</style>\n",
              "<table border=\"1\" class=\"dataframe\">\n",
              "  <thead>\n",
              "    <tr style=\"text-align: right;\">\n",
              "      <th></th>\n",
              "      <th>DateTime</th>\n",
              "      <th>CO(GT)</th>\n",
              "      <th>PT08.S1(CO)</th>\n",
              "      <th>NMHC(GT)</th>\n",
              "      <th>C6H6(GT)</th>\n",
              "      <th>PT08.S2(NMHC)</th>\n",
              "      <th>NOx(GT)</th>\n",
              "      <th>PT08.S3(NOx)</th>\n",
              "      <th>NO2(GT)</th>\n",
              "      <th>PT08.S4(NO2)</th>\n",
              "      <th>PT08.S5(O3)</th>\n",
              "      <th>T</th>\n",
              "      <th>RH</th>\n",
              "      <th>AH</th>\n",
              "      <th>Year</th>\n",
              "      <th>Month</th>\n",
              "      <th>Day</th>\n",
              "      <th>Day Name</th>\n",
              "    </tr>\n",
              "  </thead>\n",
              "  <tbody>\n",
              "    <tr>\n",
              "      <th>0</th>\n",
              "      <td>2004-03-10 18:00:00</td>\n",
              "      <td>2,6</td>\n",
              "      <td>1360.0</td>\n",
              "      <td>150.0</td>\n",
              "      <td>11,9</td>\n",
              "      <td>1046.0</td>\n",
              "      <td>166.0</td>\n",
              "      <td>1056.0</td>\n",
              "      <td>113.0</td>\n",
              "      <td>1692.0</td>\n",
              "      <td>1268.0</td>\n",
              "      <td>13,6</td>\n",
              "      <td>48,9</td>\n",
              "      <td>0,7578</td>\n",
              "      <td>2004</td>\n",
              "      <td>3</td>\n",
              "      <td>10</td>\n",
              "      <td>Wednesday</td>\n",
              "    </tr>\n",
              "    <tr>\n",
              "      <th>1</th>\n",
              "      <td>2004-03-10 19:00:00</td>\n",
              "      <td>2</td>\n",
              "      <td>1292.0</td>\n",
              "      <td>112.0</td>\n",
              "      <td>9,4</td>\n",
              "      <td>955.0</td>\n",
              "      <td>103.0</td>\n",
              "      <td>1174.0</td>\n",
              "      <td>92.0</td>\n",
              "      <td>1559.0</td>\n",
              "      <td>972.0</td>\n",
              "      <td>13,3</td>\n",
              "      <td>47,7</td>\n",
              "      <td>0,7255</td>\n",
              "      <td>2004</td>\n",
              "      <td>3</td>\n",
              "      <td>10</td>\n",
              "      <td>Wednesday</td>\n",
              "    </tr>\n",
              "    <tr>\n",
              "      <th>2</th>\n",
              "      <td>2004-03-10 20:00:00</td>\n",
              "      <td>2,2</td>\n",
              "      <td>1402.0</td>\n",
              "      <td>88.0</td>\n",
              "      <td>9,0</td>\n",
              "      <td>939.0</td>\n",
              "      <td>131.0</td>\n",
              "      <td>1140.0</td>\n",
              "      <td>114.0</td>\n",
              "      <td>1555.0</td>\n",
              "      <td>1074.0</td>\n",
              "      <td>11,9</td>\n",
              "      <td>54,0</td>\n",
              "      <td>0,7502</td>\n",
              "      <td>2004</td>\n",
              "      <td>3</td>\n",
              "      <td>10</td>\n",
              "      <td>Wednesday</td>\n",
              "    </tr>\n",
              "    <tr>\n",
              "      <th>3</th>\n",
              "      <td>2004-03-10 21:00:00</td>\n",
              "      <td>2,2</td>\n",
              "      <td>1376.0</td>\n",
              "      <td>80.0</td>\n",
              "      <td>9,2</td>\n",
              "      <td>948.0</td>\n",
              "      <td>172.0</td>\n",
              "      <td>1092.0</td>\n",
              "      <td>122.0</td>\n",
              "      <td>1584.0</td>\n",
              "      <td>1203.0</td>\n",
              "      <td>11,0</td>\n",
              "      <td>60,0</td>\n",
              "      <td>0,7867</td>\n",
              "      <td>2004</td>\n",
              "      <td>3</td>\n",
              "      <td>10</td>\n",
              "      <td>Wednesday</td>\n",
              "    </tr>\n",
              "    <tr>\n",
              "      <th>4</th>\n",
              "      <td>2004-03-10 22:00:00</td>\n",
              "      <td>1,6</td>\n",
              "      <td>1272.0</td>\n",
              "      <td>51.0</td>\n",
              "      <td>6,5</td>\n",
              "      <td>836.0</td>\n",
              "      <td>131.0</td>\n",
              "      <td>1205.0</td>\n",
              "      <td>116.0</td>\n",
              "      <td>1490.0</td>\n",
              "      <td>1110.0</td>\n",
              "      <td>11,2</td>\n",
              "      <td>59,6</td>\n",
              "      <td>0,7888</td>\n",
              "      <td>2004</td>\n",
              "      <td>3</td>\n",
              "      <td>10</td>\n",
              "      <td>Wednesday</td>\n",
              "    </tr>\n",
              "    <tr>\n",
              "      <th>5</th>\n",
              "      <td>2004-03-10 23:00:00</td>\n",
              "      <td>1,2</td>\n",
              "      <td>1197.0</td>\n",
              "      <td>38.0</td>\n",
              "      <td>4,7</td>\n",
              "      <td>750.0</td>\n",
              "      <td>89.0</td>\n",
              "      <td>1337.0</td>\n",
              "      <td>96.0</td>\n",
              "      <td>1393.0</td>\n",
              "      <td>949.0</td>\n",
              "      <td>11,2</td>\n",
              "      <td>59,2</td>\n",
              "      <td>0,7848</td>\n",
              "      <td>2004</td>\n",
              "      <td>3</td>\n",
              "      <td>10</td>\n",
              "      <td>Wednesday</td>\n",
              "    </tr>\n",
              "    <tr>\n",
              "      <th>6</th>\n",
              "      <td>2004-03-11 00:00:00</td>\n",
              "      <td>1,2</td>\n",
              "      <td>1185.0</td>\n",
              "      <td>31.0</td>\n",
              "      <td>3,6</td>\n",
              "      <td>690.0</td>\n",
              "      <td>62.0</td>\n",
              "      <td>1462.0</td>\n",
              "      <td>77.0</td>\n",
              "      <td>1333.0</td>\n",
              "      <td>733.0</td>\n",
              "      <td>11,3</td>\n",
              "      <td>56,8</td>\n",
              "      <td>0,7603</td>\n",
              "      <td>2004</td>\n",
              "      <td>3</td>\n",
              "      <td>11</td>\n",
              "      <td>Thursday</td>\n",
              "    </tr>\n",
              "    <tr>\n",
              "      <th>7</th>\n",
              "      <td>2004-03-11 01:00:00</td>\n",
              "      <td>1</td>\n",
              "      <td>1136.0</td>\n",
              "      <td>31.0</td>\n",
              "      <td>3,3</td>\n",
              "      <td>672.0</td>\n",
              "      <td>62.0</td>\n",
              "      <td>1453.0</td>\n",
              "      <td>76.0</td>\n",
              "      <td>1333.0</td>\n",
              "      <td>730.0</td>\n",
              "      <td>10,7</td>\n",
              "      <td>60,0</td>\n",
              "      <td>0,7702</td>\n",
              "      <td>2004</td>\n",
              "      <td>3</td>\n",
              "      <td>11</td>\n",
              "      <td>Thursday</td>\n",
              "    </tr>\n",
              "    <tr>\n",
              "      <th>8</th>\n",
              "      <td>2004-03-11 02:00:00</td>\n",
              "      <td>0,9</td>\n",
              "      <td>1094.0</td>\n",
              "      <td>24.0</td>\n",
              "      <td>2,3</td>\n",
              "      <td>609.0</td>\n",
              "      <td>45.0</td>\n",
              "      <td>1579.0</td>\n",
              "      <td>60.0</td>\n",
              "      <td>1276.0</td>\n",
              "      <td>620.0</td>\n",
              "      <td>10,7</td>\n",
              "      <td>59,7</td>\n",
              "      <td>0,7648</td>\n",
              "      <td>2004</td>\n",
              "      <td>3</td>\n",
              "      <td>11</td>\n",
              "      <td>Thursday</td>\n",
              "    </tr>\n",
              "    <tr>\n",
              "      <th>9</th>\n",
              "      <td>2004-03-11 03:00:00</td>\n",
              "      <td>0,6</td>\n",
              "      <td>1010.0</td>\n",
              "      <td>19.0</td>\n",
              "      <td>1,7</td>\n",
              "      <td>561.0</td>\n",
              "      <td>-200.0</td>\n",
              "      <td>1705.0</td>\n",
              "      <td>-200.0</td>\n",
              "      <td>1235.0</td>\n",
              "      <td>501.0</td>\n",
              "      <td>10,3</td>\n",
              "      <td>60,2</td>\n",
              "      <td>0,7517</td>\n",
              "      <td>2004</td>\n",
              "      <td>3</td>\n",
              "      <td>11</td>\n",
              "      <td>Thursday</td>\n",
              "    </tr>\n",
              "  </tbody>\n",
              "</table>\n",
              "</div>\n",
              "      <button class=\"colab-df-convert\" onclick=\"convertToInteractive('df-ef148bd3-26d9-409a-8435-40d66c1681a1')\"\n",
              "              title=\"Convert this dataframe to an interactive table.\"\n",
              "              style=\"display:none;\">\n",
              "        \n",
              "  <svg xmlns=\"http://www.w3.org/2000/svg\" height=\"24px\"viewBox=\"0 0 24 24\"\n",
              "       width=\"24px\">\n",
              "    <path d=\"M0 0h24v24H0V0z\" fill=\"none\"/>\n",
              "    <path d=\"M18.56 5.44l.94 2.06.94-2.06 2.06-.94-2.06-.94-.94-2.06-.94 2.06-2.06.94zm-11 1L8.5 8.5l.94-2.06 2.06-.94-2.06-.94L8.5 2.5l-.94 2.06-2.06.94zm10 10l.94 2.06.94-2.06 2.06-.94-2.06-.94-.94-2.06-.94 2.06-2.06.94z\"/><path d=\"M17.41 7.96l-1.37-1.37c-.4-.4-.92-.59-1.43-.59-.52 0-1.04.2-1.43.59L10.3 9.45l-7.72 7.72c-.78.78-.78 2.05 0 2.83L4 21.41c.39.39.9.59 1.41.59.51 0 1.02-.2 1.41-.59l7.78-7.78 2.81-2.81c.8-.78.8-2.07 0-2.86zM5.41 20L4 18.59l7.72-7.72 1.47 1.35L5.41 20z\"/>\n",
              "  </svg>\n",
              "      </button>\n",
              "      \n",
              "  <style>\n",
              "    .colab-df-container {\n",
              "      display:flex;\n",
              "      flex-wrap:wrap;\n",
              "      gap: 12px;\n",
              "    }\n",
              "\n",
              "    .colab-df-convert {\n",
              "      background-color: #E8F0FE;\n",
              "      border: none;\n",
              "      border-radius: 50%;\n",
              "      cursor: pointer;\n",
              "      display: none;\n",
              "      fill: #1967D2;\n",
              "      height: 32px;\n",
              "      padding: 0 0 0 0;\n",
              "      width: 32px;\n",
              "    }\n",
              "\n",
              "    .colab-df-convert:hover {\n",
              "      background-color: #E2EBFA;\n",
              "      box-shadow: 0px 1px 2px rgba(60, 64, 67, 0.3), 0px 1px 3px 1px rgba(60, 64, 67, 0.15);\n",
              "      fill: #174EA6;\n",
              "    }\n",
              "\n",
              "    [theme=dark] .colab-df-convert {\n",
              "      background-color: #3B4455;\n",
              "      fill: #D2E3FC;\n",
              "    }\n",
              "\n",
              "    [theme=dark] .colab-df-convert:hover {\n",
              "      background-color: #434B5C;\n",
              "      box-shadow: 0px 1px 3px 1px rgba(0, 0, 0, 0.15);\n",
              "      filter: drop-shadow(0px 1px 2px rgba(0, 0, 0, 0.3));\n",
              "      fill: #FFFFFF;\n",
              "    }\n",
              "  </style>\n",
              "\n",
              "      <script>\n",
              "        const buttonEl =\n",
              "          document.querySelector('#df-ef148bd3-26d9-409a-8435-40d66c1681a1 button.colab-df-convert');\n",
              "        buttonEl.style.display =\n",
              "          google.colab.kernel.accessAllowed ? 'block' : 'none';\n",
              "\n",
              "        async function convertToInteractive(key) {\n",
              "          const element = document.querySelector('#df-ef148bd3-26d9-409a-8435-40d66c1681a1');\n",
              "          const dataTable =\n",
              "            await google.colab.kernel.invokeFunction('convertToInteractive',\n",
              "                                                     [key], {});\n",
              "          if (!dataTable) return;\n",
              "\n",
              "          const docLinkHtml = 'Like what you see? Visit the ' +\n",
              "            '<a target=\"_blank\" href=https://colab.research.google.com/notebooks/data_table.ipynb>data table notebook</a>'\n",
              "            + ' to learn more about interactive tables.';\n",
              "          element.innerHTML = '';\n",
              "          dataTable['output_type'] = 'display_data';\n",
              "          await google.colab.output.renderOutput(dataTable, element);\n",
              "          const docLink = document.createElement('div');\n",
              "          docLink.innerHTML = docLinkHtml;\n",
              "          element.appendChild(docLink);\n",
              "        }\n",
              "      </script>\n",
              "    </div>\n",
              "  </div>\n",
              "  "
            ],
            "text/plain": [
              "             DateTime CO(GT)  PT08.S1(CO)  ...  Month Day   Day Name\n",
              "0 2004-03-10 18:00:00    2,6       1360.0  ...      3  10  Wednesday\n",
              "1 2004-03-10 19:00:00      2       1292.0  ...      3  10  Wednesday\n",
              "2 2004-03-10 20:00:00    2,2       1402.0  ...      3  10  Wednesday\n",
              "3 2004-03-10 21:00:00    2,2       1376.0  ...      3  10  Wednesday\n",
              "4 2004-03-10 22:00:00    1,6       1272.0  ...      3  10  Wednesday\n",
              "5 2004-03-10 23:00:00    1,2       1197.0  ...      3  10  Wednesday\n",
              "6 2004-03-11 00:00:00    1,2       1185.0  ...      3  11   Thursday\n",
              "7 2004-03-11 01:00:00      1       1136.0  ...      3  11   Thursday\n",
              "8 2004-03-11 02:00:00    0,9       1094.0  ...      3  11   Thursday\n",
              "9 2004-03-11 03:00:00    0,6       1010.0  ...      3  11   Thursday\n",
              "\n",
              "[10 rows x 18 columns]"
            ]
          },
          "metadata": {},
          "execution_count": 42
        }
      ]
    },
    {
      "cell_type": "markdown",
      "metadata": {
        "id": "smxV95UFMbQ7"
      },
      "source": [
        "Let's pause here. In the next class, we will continue the same project with more data cleaning exercises because a few of the columns contain decimal values separated by a comma and all the columns also contain `-200`; a garbage value."
      ]
    },
    {
      "cell_type": "markdown",
      "metadata": {
        "id": "RmyrvdwgILU9"
      },
      "source": [
        "---"
      ]
    }
  ]
}