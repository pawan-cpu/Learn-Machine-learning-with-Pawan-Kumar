{
  "nbformat": 4,
  "nbformat_minor": 0,
  "metadata": {
    "colab": {
      "name": " L65_28Jan_Pawan_Lesson 65 - Abstract data types - Stacks",
      "provenance": [],
      "collapsed_sections": [],
      "include_colab_link": true
    },
    "kernelspec": {
      "name": "python3",
      "display_name": "Python 3"
    }
  },
  "cells": [
    {
      "cell_type": "markdown",
      "metadata": {
        "id": "view-in-github",
        "colab_type": "text"
      },
      "source": [
        "<a href=\"https://colab.research.google.com/github/pawan-cpu/Learn-Python-with-Pawan-Kumar/blob/main/L65_28Jan_Pawan_Lesson_65_Abstract_data_types_Stacks.ipynb\" target=\"_parent\"><img src=\"https://colab.research.google.com/assets/colab-badge.svg\" alt=\"Open In Colab\"/></a>"
      ]
    },
    {
      "cell_type": "markdown",
      "metadata": {
        "id": "nhRRgrQ6zE0I"
      },
      "source": [
        "# Lesson 65: Abstract Data Types - Stacks"
      ]
    },
    {
      "cell_type": "markdown",
      "metadata": {
        "id": "qFj1tJOC_-oY"
      },
      "source": [
        "---"
      ]
    },
    {
      "cell_type": "markdown",
      "metadata": {
        "id": "_xYm-b8g79Ff"
      },
      "source": [
        "### Teacher-Student Tasks\n",
        "\n",
        "In this lesson, we will learn about a new linear data structure Stack."
      ]
    },
    {
      "cell_type": "markdown",
      "metadata": {
        "id": "XLcBmHd68Jw6"
      },
      "source": [
        "---"
      ]
    },
    {
      "cell_type": "markdown",
      "metadata": {
        "id": "6F0wJssqp76v"
      },
      "source": [
        "#### Task 1: Introduction to Stacks\n",
        "\n",
        "<img src= 'https://s3-whjr-v2-prod-bucket.whjr.online/237808b7-1408-4cd3-b2bc-e640379fb686.gif'  align= 'right' width=400 height=150>\n",
        "\n",
        "Ever heard about the terms like\n",
        "- A stack of coins. \n",
        "- A stack of books.\n",
        "- A stack of plates. \n",
        "\n",
        "\n",
        "\n",
        "What does \"stack\" mean in these terms? A stack is a structure where the items are placed on top of each other.\n",
        "\n",
        "A stack is also a linear data structure in programming where data elements are placed on top of each other. \n",
        "\n",
        "<center><img src= 'https://s3-whjr-v2-prod-bucket.whjr.online/167080e0-bcc8-47a0-927d-bfbf46e7b5f9.png' height = 300></center>\n",
        "\n",
        "We can perform the following operations on stacks:\n",
        "\n",
        "1. **Push operation**: Insertion of elements into the stack.\n",
        "2. **Pop operation**: Deletion of elements into the stack.\n",
        "\n",
        "But there are constraints in the push and pop operations of the stack. We can only insert elements on the top of the stack. And only the top element will be  deleted from the stack.\n",
        "\n",
        "This is because the stack data structure follows the **LIFO** principle i.e. **Last in First Out**. LIFO principle means that the element inserted at the end will be deleted first from the stack or vice versa.\n",
        "\n",
        "The image below shows the **push** and **pop** operation of stacks where a pointer **top** is used to point the current element at the top.\n",
        "\n",
        "<img src= 'https://s3-whjr-v2-prod-bucket.whjr.online/7fbb3d0b-7c15-4ee1-9819-96c3b2885a56.png'  align= 'left' width= 350>\n",
        "&nbsp;&nbsp;&nbsp;&nbsp;&nbsp;&nbsp;&nbsp;&nbsp;&nbsp;&nbsp;&nbsp;&nbsp;&nbsp;&nbsp;&nbsp;&nbsp;&nbsp;&nbsp;&nbsp;&nbsp;&nbsp;&nbsp;&nbsp;&nbsp;&nbsp;&nbsp;&nbsp;&nbsp;&nbsp;&nbsp;&nbsp;\n",
        "<img src= 'https://s3-whjr-v2-prod-bucket.whjr.online/cf9a2c4e-9fe8-40d6-8481-7f8c4c174082.png'   width= 350> </br>\n",
        "\n",
        "\n",
        "\n",
        "\n",
        "Now, let's move ahead and implement the stacks and it's operations using:\n",
        "- Lists \n",
        "- Linked lists\n",
        "\n"
      ]
    },
    {
      "cell_type": "markdown",
      "metadata": {
        "id": "uxBve6Uj42UK"
      },
      "source": [
        "---"
      ]
    },
    {
      "cell_type": "markdown",
      "metadata": {
        "id": "fcFrULsG36Wn"
      },
      "source": [
        "#### Task 2: Stack Operations using Lists\n",
        "\n",
        "**Push Operation**\n",
        "\n",
        "As mentioned above, pushing an element in the stack is just adding an element at the top of the stack. This can be implemented by appending elements in the lists one by one.\n",
        "\n",
        "Let's assume a list `my_stack` is the stack data structure. Create an empty list `my_stack` to create a stack data structure:\n",
        "\n",
        "\n",
        "\n",
        "\n",
        "\n"
      ]
    },
    {
      "cell_type": "code",
      "metadata": {
        "id": "E-I6V0ur6FEb"
      },
      "source": [
        "# S2.1: Create an empty stack 'my_stack'.\n",
        "my_stack=[]\n"
      ],
      "execution_count": null,
      "outputs": []
    },
    {
      "cell_type": "markdown",
      "metadata": {
        "id": "SFzxSmjF6RLT"
      },
      "source": [
        "In the above code, an empty stack `my_stack` is created.\n",
        "\n",
        "To implement push operation on `my_stack` follow the steps below:\n",
        "\n",
        "1. Define a `push()` function which will take two input parameters:\n",
        "  - `stack`: An existing stack (list).\n",
        "  - `data`: An element to be pushed inside the stack. \n",
        "\n",
        "2. Use the `append()` function inside the `push()` function to add `data` value at the end of the `stack` list.\n"
      ]
    },
    {
      "cell_type": "code",
      "metadata": {
        "id": "yGOKkRYU7rBE"
      },
      "source": [
        "# S2.2: Define the 'push()' function for the stack.\n",
        "def push(stack,data):\n",
        "  my_stack.append(data)\n",
        "  "
      ],
      "execution_count": null,
      "outputs": []
    },
    {
      "cell_type": "markdown",
      "metadata": {
        "id": "2m0JAVpg8ECK"
      },
      "source": [
        "As we can observe, the `push()` function is created. Now let's perform the operations below to verify the push operation of the elements at the end of the stack:\n",
        "\n",
        "\n",
        "1. Push value `0` in the empty stack `my_stack`.\n",
        "3. Print `my_stack` to verify the insertion.\n",
        "4. Push value `1` in the stack `my_stack`.\n",
        "5. Print the stack to verify the insertion.\n",
        "6. Push value `2` in the stack `my_stack`.\n",
        "7. Print the stack to verify the insertion.\n",
        "\n"
      ]
    },
    {
      "cell_type": "code",
      "metadata": {
        "id": "-WhmX0X771Pu",
        "colab": {
          "base_uri": "https://localhost:8080/"
        },
        "outputId": "6c18d8b5-dedc-4b78-f071-86d5cf2ec5cb"
      },
      "source": [
        "# S2.3: Create a stack and push the elements at the top of the stack.\n",
        "\n",
        "my_stack=[]\n",
        "push(my_stack,0)\n",
        "# Push value '0' in the 'my_stack'.\n",
        "print(my_stack)\n",
        "\n",
        "# Print the stack to verify the insertion.\n",
        "\n",
        "\n",
        "# Push value '1' in the stack.\n",
        "push(my_stack,1)\n",
        "print(my_stack)\n",
        "\n",
        "# Print the stack to verify the insertion.\n",
        "\n",
        "\n",
        "# Push value '2' in the stack.\n",
        "push(my_stack,2)\n",
        "print(my_stack)\n",
        "\n",
        "# Print the stack to verify the insertion.\n",
        "push(my_stack,3)\n",
        "print(my_stack)"
      ],
      "execution_count": null,
      "outputs": [
        {
          "output_type": "stream",
          "name": "stdout",
          "text": [
            "[0]\n",
            "[0, 1]\n",
            "[0, 1, 2]\n",
            "[0, 1, 2, 3]\n"
          ]
        }
      ]
    },
    {
      "cell_type": "markdown",
      "metadata": {
        "id": "xwydP5l29yzt"
      },
      "source": [
        "As it can be observed, the elements `0`, `1`, `2` are added to the stack one by one. Each element is appended at the end i.e on top of the stack.\n",
        "\n",
        "Now, let's look into the pop operation in a Stack using the list.\n"
      ]
    },
    {
      "cell_type": "markdown",
      "metadata": {
        "id": "h9A1nqkuPM48"
      },
      "source": [
        "**Pop Operation**\n",
        "\n",
        "Popping an element from the stack is the same as deleting an element but from the top. \n",
        "\n",
        "Let's implement the pop operation in a stack with the steps below:\n",
        "\n",
        "1. Define a function `pop()` which will take an existing stack (list) `stack` as an input parameter.\n",
        "\n",
        "2. Call the predefined `pop()` operation inside the `pop()` function using `stack` to delete the last element.\n"
      ]
    },
    {
      "cell_type": "code",
      "metadata": {
        "id": "MyPAEh_t9yZB"
      },
      "source": [
        "# S2.4:  Define the 'pop()' for the stack.\n",
        "def pop(my_stack):\n",
        "  my_stack.pop()\n"
      ],
      "execution_count": null,
      "outputs": []
    },
    {
      "cell_type": "markdown",
      "metadata": {
        "id": "3wmM9bbxAkf4"
      },
      "source": [
        "As we can observe, the `pop()` function is created. Now let us use this function two times on `mystack`:\n",
        "\n"
      ]
    },
    {
      "cell_type": "code",
      "metadata": {
        "id": "Hb8T5ULfA3MP",
        "colab": {
          "base_uri": "https://localhost:8080/"
        },
        "outputId": "35af146e-b5d4-42d6-fccb-9f409b7b8842"
      },
      "source": [
        "# S2.5: Apply 'pop()' function on 'my_stack'.\n",
        "\n",
        "# Pop the top element of the stack\n",
        "pop(my_stack)\n",
        "\n",
        "# Print the stack to verify the deletion.\n",
        "print(my_stack)\n",
        "\n",
        "# Pop the top element of the stack\n",
        "\n",
        "# Print the stack to verify the deletion.\n"
      ],
      "execution_count": null,
      "outputs": [
        {
          "output_type": "stream",
          "name": "stdout",
          "text": [
            "[0, 1, 2]\n"
          ]
        }
      ]
    },
    {
      "cell_type": "markdown",
      "metadata": {
        "id": "spAp8_0gBhU9"
      },
      "source": [
        "As it can be observed, when the first time `pop()` function was called, element `2` was removed from the `my_stack`. In the second time, element `1` was removed from the `my_stack`."
      ]
    },
    {
      "cell_type": "markdown",
      "metadata": {
        "id": "y0-tupw1TDOZ"
      },
      "source": [
        "---"
      ]
    },
    {
      "cell_type": "markdown",
      "metadata": {
        "id": "nbMW2sXDJ4iI"
      },
      "source": [
        "#### Task 3: Top Operation\n",
        "\n",
        "Element present at the top of the stack is most important and we often need it without poping while solving problems. \n",
        "\n",
        "The top operation of a stack returns the top-most element in the stack. This does not alter the stack in any manner.  \n",
        "\n",
        "Following are the steps to perform the top operation in stack `my_stack` using Python:\n",
        "\n",
        "1. Create a list (stack) `my_stack` having elements `1`, `2`, and `3`. Create a function `top(stack)` that returns `stack[-1]`, the last element in the list. \n",
        "\n",
        "2. Call the `top()` function and pass `my_stack` as an argument. Store the return value of this function in a variable `top_element_1`. \n"
      ]
    },
    {
      "cell_type": "code",
      "metadata": {
        "id": "MnfHF536Ki1J"
      },
      "source": [
        "# S3.1: Implement 'top()' function\n",
        "def top(my_stack):\n",
        "  return my_stack[-1]\n",
        "   "
      ],
      "execution_count": null,
      "outputs": []
    },
    {
      "cell_type": "markdown",
      "metadata": {
        "id": "MLGxFH107DVG"
      },
      "source": [
        "5. Print `top_element_1` and print the `my_stack`:"
      ]
    },
    {
      "cell_type": "code",
      "metadata": {
        "id": "r2PTsQCv7DjN",
        "colab": {
          "base_uri": "https://localhost:8080/"
        },
        "outputId": "3b1b7052-a68c-4f67-87e7-6ecfd4ca54fa"
      },
      "source": [
        "# S3.2: Print top element and print stack\n",
        "top(my_stack)\n"
      ],
      "execution_count": null,
      "outputs": [
        {
          "output_type": "execute_result",
          "data": {
            "text/plain": [
              "2"
            ]
          },
          "metadata": {},
          "execution_count": 12
        }
      ]
    },
    {
      "cell_type": "markdown",
      "metadata": {
        "id": "M4cUcHHPkteJ"
      },
      "source": [
        "You can observe that there is no change in the stack after executing the `top()` function. \n",
        "\n",
        "Number 2 is returned as it is at the top of the stack."
      ]
    },
    {
      "cell_type": "markdown",
      "metadata": {
        "id": "FLdJt7r2GN47"
      },
      "source": [
        "**Q:** What will be the top of the stack if we push 1, 2, 3, 4, and 5 then pop twice?\n",
        "\n",
        "**A:** "
      ]
    },
    {
      "cell_type": "markdown",
      "metadata": {
        "id": "EgFOk63SlC1K"
      },
      "source": [
        "---"
      ]
    },
    {
      "cell_type": "markdown",
      "metadata": {
        "id": "sjXf00PfNN1m"
      },
      "source": [
        "#### Task 4: IsEmpty Operation\n",
        "\n",
        "Another popular operation for stacks is the `IsEmpty` operation. While continuously popping elements from a stack, we need to know whether our stack is empty or not.\n",
        "\n",
        "The `IsEmpty` operation of a stack returns whether the stack is empty or not.\n",
        "\n",
        "Following are the steps to perform the `IsEmpty` operation in stack `my_stack`:\n",
        "\n",
        "1. Define the `isEmpty()` function which will take the existing stack as the input parameter.\n",
        "\n",
        "2. Check whether the length of the stack is `0` inside `isEmpty()` function. \n",
        "  - If  `len(stack) == 0`, return $0$ \n",
        "  - else return $1$. \n",
        "\n"
      ]
    },
    {
      "cell_type": "code",
      "metadata": {
        "id": "fCrJFb6wNuvy"
      },
      "source": [
        "# T4.1: Define the 'isEmpty()' function for the stack\n",
        "def isEmpty(my_stack):\n",
        "  if len(my_stack)==0:\n",
        "    return True\n",
        "  else:\n",
        "    return False\n",
        "  \n",
        "\n",
        "# Call the function 'IsEmpty()' on 'my_stack'\n",
        "\n"
      ],
      "execution_count": null,
      "outputs": []
    },
    {
      "cell_type": "markdown",
      "metadata": {
        "id": "FFrtXRXQlQ6m"
      },
      "source": [
        "As we can observe stack is not empty and there is no change in the stack."
      ]
    },
    {
      "cell_type": "markdown",
      "metadata": {
        "id": "18nqFGn0GUEa"
      },
      "source": [
        "**Q:** What will be the outcome of the following operations on `my_stack`: \n",
        "\n",
        "```python\n",
        "push(my_stack, 1)\n",
        "push(my_stack, 2)\n",
        "push(my_stack, 3)\n",
        "push(my_stack, 4)\n",
        "push(my_stack, 5)\n",
        "print(top(my_stack))\n",
        "print(isEmpty(my_stack))\n",
        "```\n",
        "\n",
        "\n",
        "**A:** 4,False\n"
      ]
    },
    {
      "cell_type": "markdown",
      "metadata": {
        "id": "iXQdT8k1lBZA"
      },
      "source": [
        "---"
      ]
    },
    {
      "cell_type": "markdown",
      "metadata": {
        "id": "HA9QjME9VSye"
      },
      "source": [
        "#### Task 5: Size Operation\n",
        "\n",
        "While programming, we need to keep a check on the memory spent to store the elements in the data structure. A size operation can help with that. It will tell us the current number of the element present in the data structure in use.\n",
        "\n",
        "Size operation of a stack returns the length of the stack.\n",
        "\n",
        "Following are the steps to perform the `size` operation in stack `my_stack`:\n",
        "\n",
        "1. Define a function `size()` that will take the existing stack as the input parameter.\n",
        "\n",
        "2. Use the `len()` function inside `size` function and return the `size` of the stack. \n",
        "\n"
      ]
    },
    {
      "cell_type": "code",
      "metadata": {
        "id": "jfeBZ69rV8tY"
      },
      "source": [
        "# S5.1: Define the 'size()' function for the stack\n",
        "def size(my_stack):\n",
        "  return len(my_stack)\n",
        "  \n",
        "\n",
        "\n",
        "\n",
        "# Call the function 'size()' on 'my_stack'\n"
      ],
      "execution_count": null,
      "outputs": []
    },
    {
      "cell_type": "markdown",
      "metadata": {
        "id": "j1UyEttHlc0n"
      },
      "source": [
        "Hence, the `size()` function returns the number of elements present in the stack. It does not affect the stack."
      ]
    },
    {
      "cell_type": "markdown",
      "metadata": {
        "id": "EgYptSR_G9Ld"
      },
      "source": [
        "**Q:** What will be the outcome if we push 1, 2, 3, 4, and 5 then use pop operation 5 times? Will the stack be empty? What will be the size of the stack?\n",
        "\n",
        "**A:**"
      ]
    },
    {
      "cell_type": "markdown",
      "metadata": {
        "id": "1Z_dxEeJk-J4"
      },
      "source": [
        "---"
      ]
    },
    {
      "cell_type": "markdown",
      "metadata": {
        "id": "5deYTlg0-qfR"
      },
      "source": [
        "#### Task 6: Using a Linked List\n",
        "\n",
        "We have studied various operations in Stacks. You can observe that it is very easy to implement a stack using the list. \n",
        "\n",
        "You have implemented a linked list in the last class using `Class` and `objects`. Our challenge in this activity will be to implement the stack we have already implemented using a linked list. \n",
        "\n",
        "Declare the Node using `class N` as we did in the linked list class: "
      ]
    },
    {
      "cell_type": "code",
      "metadata": {
        "id": "fcHlheJL-o_x"
      },
      "source": [
        "# S6.1: Linked list Node\n",
        "class N:\n",
        "  def __init__(self,data):\n",
        "    self.data=data\n",
        "    self.next=None\n",
        "  \n",
        "      "
      ],
      "execution_count": null,
      "outputs": []
    },
    {
      "cell_type": "markdown",
      "metadata": {
        "id": "7diIAGc7jLlj"
      },
      "source": [
        "Declare linked list class `LL` as done in the linked list class. \n",
        "\n",
        "Now, let us try to implement the functions we have done in the above activities.\n",
        "\n",
        "The `push()` function is used to push elements in the stack. It is the same as the `insert_begin()` function we did in the linked list class. The `push()` will take `data` as an attribute.  \n",
        "\n",
        "Following are the steps to implement the `push()` function in stacks using a linked list:\n",
        "\n",
        "1. Create a node with the value of node equal to `data` and the `next` pointer pointing towards None. \n",
        "\n",
        "2. Make next of new node as head,  and make `new_node` as a new head. \n",
        "\n",
        "\n",
        "\n"
      ]
    },
    {
      "cell_type": "markdown",
      "metadata": {
        "id": "Z6JXjhZbiZ-J"
      },
      "source": [
        "Now, let us implement the `pop()` function for a stack using a linked list.\n",
        "\n",
        "The `pop()` function is used to pop an element from the stack. It does not take any attribute and return the data of the Node popped out of the stack.\n",
        "\n",
        "Following are the steps to implement the `pop()` function in the stack using a linked list:\n",
        "\n",
        "1. Check whether the `head` pointer points to `None`. If yes, the print `Stack is empty` and return.\n",
        "\n",
        "2. Declare a pointer `temp` and point it to the `head`. \n",
        "\n",
        "3. Check whether the next of the `temp` node is `None`. If yes, then set `head` to None and return the data of the `temp` node. Else, store the data of the next node of `temp` in a variable `element` and return the value of this variable. \n",
        "\n",
        "4. Check if either of the above cases is not true, increment the `head` pointer and return the `data` stored in the `temp` pointer.\n",
        "\n",
        "5. Set the temp as None. (Free the pointer)\n",
        "\n"
      ]
    },
    {
      "cell_type": "markdown",
      "metadata": {
        "id": "QeHtJWBuimYR"
      },
      "source": [
        "The `top()` function is very easy to implement in the stacks using a linked list. It does not take any attributes and return data from the head.\n",
        "\n",
        "Following are the steps to implement the `top()` function in stacks using a linked list:\n",
        "\n",
        "1. Check whether the `head` pointer is pointing towards `None`. If yes, then print `Stack is empty`.\n",
        "\n",
        "2. Else, return the data stored in the head Node. \n",
        "\n"
      ]
    },
    {
      "cell_type": "markdown",
      "metadata": {
        "id": "b4f07TShipcP"
      },
      "source": [
        "The `size()` function returns the present size of the stack. It takes no attribute and returns the number of elements present in the stack. \n",
        "\n",
        "Following are the steps to implement the `size()` function in the stacks using a linked list:\n",
        "\n",
        "1. Check whether the `head` pointer points to `None`. If yes, then return `0`. Else, declare a `temp` pointer and point it towards head Node.\n",
        "\n",
        "3. Declare a `count` variable to keep track of the number of Nodes.\n",
        "\n",
        "4. Iterate `temp` pointer over all the Nodes using `while` loop and increment `count`.\n",
        "\n",
        "5. Return `count` as the size of the stack.\n",
        "\n"
      ]
    },
    {
      "cell_type": "markdown",
      "metadata": {
        "id": "qbcOaloRisEf"
      },
      "source": [
        "The `IsEmpty()` returns whether the stack is empty or not. \n",
        "\n",
        "To implement the `IsEmpty()` function in stacks using a linked list:\n",
        "\n",
        " - Determine whether the size of the stack is $0$. If yes, return `True` else return `False`.\n",
        "\n",
        "The `Print()` function is the same as we did in the linked list class:"
      ]
    },
    {
      "cell_type": "code",
      "metadata": {
        "id": "9Ob2d692-10K"
      },
      "source": [
        "# T6.2: Implement other functions of stack using linked list\n",
        "class LL:\n",
        "  def __init__(self):\n",
        "    self.head=None\n",
        "\n",
        "  # Create the linked list\n",
        "  def push(self,data):\n",
        "    new_node=N(data)\n",
        "    new_node.next=self.head\n",
        "    self.head=new_node\n",
        "  def pop(self):\n",
        "    if self.head==None:\n",
        "      print('stack is empty')\n",
        "      return \n",
        "    temp=self.head\n",
        "    if temp.next==None:\n",
        "      self.head=None\n",
        "      return temp.data\n",
        "    else:\n",
        "      element=temp.next.data\n",
        "      self.head=temp.next\n",
        "      return element\n",
        "  def top(self):\n",
        "    if self.head==None:\n",
        "      return ('stack is empty')\n",
        "    return self.head.data\n",
        "    \n",
        "  def size(self):\n",
        "\n",
        "      if self.head==None:\n",
        "        return 0\n",
        "      else:\n",
        "        count=0\n",
        "        temp=self.head\n",
        "\n",
        "        while(temp.next):\n",
        "          count=count+1\n",
        "          temp=temp.next\n",
        "\n",
        "        return count  \n",
        "\n",
        "  def IsEmpty(self):\n",
        "      if self.size()==0:\n",
        "        return True\n",
        "      else:\n",
        "        return False    \n",
        "\n",
        "# Print list Function\n",
        "  def printL(self): \n",
        "        temp = self.head # Points a pointer at the head\n",
        "        while (temp): # Iterate and print the data till last Node is not encountered\n",
        "            print (temp.data) \n",
        "            temp = temp.next\n",
        "\n",
        "  "
      ],
      "execution_count": null,
      "outputs": []
    },
    {
      "cell_type": "markdown",
      "metadata": {
        "id": "N3f85nT92TVI"
      },
      "source": [
        "Perform the following operations on stacks using a linked list:\n",
        "\n",
        "1. Push 1\n",
        "\n",
        "2. Push 2\n",
        "\n",
        "3. Push 3\n",
        "\n",
        "4. Push 4\n",
        "\n",
        "5. Print stack\n",
        "\n",
        "6. Pop\n",
        "\n",
        "7. Pop\n",
        "\n",
        "8. Print top\n",
        "\n",
        "9. Print stack\n",
        "\n",
        "10. Check if the stack is empty\n",
        "\n",
        "11. Print stack\n",
        "\n"
      ]
    },
    {
      "cell_type": "code",
      "metadata": {
        "id": "1cWbzzFC-3Gk",
        "colab": {
          "base_uri": "https://localhost:8080/"
        },
        "outputId": "c3b6950c-7bf6-4b76-9174-bd06ae30c43d"
      },
      "source": [
        "#S6.1: perform the above operations\n",
        "\n",
        "LinkedList=LL()\n",
        "LinkedList.push(1)\n",
        "LinkedList.push(2)\n",
        "LinkedList.push(3)\n",
        "LinkedList.push(4)\n",
        "LinkedList.printL()\n",
        "LinkedList.pop()\n",
        "LinkedList.pop()\n",
        "print(\"-------------\")\n",
        "print(LinkedList.top())\n",
        "print(\"-------------\")\n",
        "LinkedList.printL()\n",
        "print(\"-------------\")\n",
        "print(LinkedList.IsEmpty())\n",
        "LinkedList.printL()\n"
      ],
      "execution_count": null,
      "outputs": [
        {
          "output_type": "stream",
          "name": "stdout",
          "text": [
            "4\n",
            "3\n",
            "2\n",
            "1\n",
            "-------------\n",
            "2\n",
            "-------------\n",
            "2\n",
            "1\n",
            "-------------\n",
            "False\n",
            "2\n",
            "1\n"
          ]
        }
      ]
    },
    {
      "cell_type": "markdown",
      "metadata": {
        "id": "6OEpG7twHNPr"
      },
      "source": [
        "**Q:** Which is a better way to implement stack given that the memory space required is dynamic? and Why?\n",
        "\n",
        "**A:** "
      ]
    },
    {
      "cell_type": "markdown",
      "metadata": {
        "id": "fCLbVAg-NKyj"
      },
      "source": [
        "Thus, in this class, we learned the basics of Stack data structure. We also learned various Stack operations and how to implement Stack using linked list. \n",
        "\n",
        "In the next class, we will explore another data structure called Queues, which is one of the useful data types used in programming."
      ]
    },
    {
      "cell_type": "markdown",
      "metadata": {
        "id": "JPAAaBsT-n87"
      },
      "source": [
        "---"
      ]
    }
  ]
}