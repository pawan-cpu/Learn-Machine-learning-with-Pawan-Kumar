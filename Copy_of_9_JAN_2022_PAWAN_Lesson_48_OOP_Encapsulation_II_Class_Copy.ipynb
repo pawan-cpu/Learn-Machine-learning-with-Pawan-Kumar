{
  "nbformat": 4,
  "nbformat_minor": 0,
  "metadata": {
    "colab": {
      "name": "Copy of 9-JAN-2022-PAWAN Lesson 48 - OOP - Encapsulation II - Class Copy.ipynb",
      "provenance": [],
      "collapsed_sections": [],
      "include_colab_link": true
    },
    "kernelspec": {
      "name": "python3",
      "display_name": "Python 3"
    }
  },
  "cells": [
    {
      "cell_type": "markdown",
      "metadata": {
        "id": "view-in-github",
        "colab_type": "text"
      },
      "source": [
        "<a href=\"https://colab.research.google.com/github/pawan-cpu/Learn-Python-with-Pawan-Kumar/blob/main/Copy_of_9_JAN_2022_PAWAN_Lesson_48_OOP_Encapsulation_II_Class_Copy.ipynb\" target=\"_parent\"><img src=\"https://colab.research.google.com/assets/colab-badge.svg\" alt=\"Open In Colab\"/></a>"
      ]
    },
    {
      "cell_type": "markdown",
      "metadata": {
        "id": "wXOH90ddtwL2"
      },
      "source": [
        "# Lesson 48: OOP - Encapsulation II\n"
      ]
    },
    {
      "cell_type": "markdown",
      "metadata": {
        "id": "GKxriZHwm33R"
      },
      "source": [
        "---"
      ]
    },
    {
      "cell_type": "markdown",
      "metadata": {
        "id": "GbhgAn5kfd-K"
      },
      "source": [
        "### Teacher-Student Tasks\n",
        "\n",
        "In this class, we will learn about setter functions used in encapsulation. Also, we will create class variables and class methods. But before that, let's revise what we did in the previous class.\n"
      ]
    },
    {
      "cell_type": "markdown",
      "metadata": {
        "id": "DP-8XrZ_i2yZ"
      },
      "source": [
        "---"
      ]
    },
    {
      "cell_type": "markdown",
      "metadata": {
        "id": "DoShzic97iBl"
      },
      "source": [
        "#### Recap\n",
        "\n",
        "In the previous class, we had created a class `BankAccount` and made its instance variables as private. Also, we added getter functions for each private variable to access them outside the class.\n"
      ]
    },
    {
      "cell_type": "code",
      "metadata": {
        "id": "MgYh075lBrIp"
      },
      "source": [
        "# Create a 'BankAccount' class with its instance variables as private. Add getter functions\n",
        "class BankAccount:\n",
        "  def __init__(self, account_num, account_name, balance):\n",
        "    self.__account_num = account_num\n",
        "    self.__account_name = account_name\n",
        "    self.__balance = balance\n",
        "\n",
        "  # Getter method to get account number of the account holder.\n",
        "  def get_account_num(self):\n",
        "  \treturn self.__account_num\n",
        "\n",
        "  # Getter method to get the name of the account holder.\n",
        "  def get_account_name(self):\n",
        "  \treturn self.__account_name.title()\n",
        "\n",
        "  # Getter method to get the current balance of the account holder.\n",
        "  def get_balance(self):\n",
        "  \treturn self.__balance\n",
        "\n",
        "  def add_money(self, deposit_amount):\n",
        "    self.__balance += deposit_amount\n",
        "    print(f\"{deposit_amount} is successfully added.\\nAvailable amount is {self.__balance:,}\")\n",
        "\n",
        "  def withdraw_money(self, withdrawal_amount):\n",
        "    if withdrawal_amount > self.__balance:\n",
        "      print(\"Insufficient balance!\")\n",
        "    else:\n",
        "      self.__balance -= withdrawal_amount\n",
        "      print(f\"{withdrawal_amount} is successfully withdrawn.\\nAvailable amount is {self.__balance:,}\")"
      ],
      "execution_count": null,
      "outputs": []
    },
    {
      "cell_type": "markdown",
      "metadata": {
        "id": "6fUcCF7q4h4S"
      },
      "source": [
        "---"
      ]
    },
    {
      "cell_type": "markdown",
      "metadata": {
        "id": "924aG9Mhv-ys"
      },
      "source": [
        "#### Task 1: The Setter Function\n",
        "\n",
        "Suppose you still want to change the name of the account holder (because of some kind of spelling mistake) without making the name attribute public, then you can create a **setter** method (or function) to do this task.\n",
        "\n",
        "Setter functions are used to control the updates on the class variables. This way all the recent updates can be validated individually as well. The recommended syntax of the setter function is:\n",
        "\n",
        "```\n",
        "def set_variable_name(self, new_variable_value):            \n",
        "  self.__variable_name = new_variable_value\n",
        "```\n",
        "\n",
        "\n",
        "\n",
        "Also, let's add a new attribute called city whose value can be modified using a setter method in case the account holder changes their city.\n",
        "\n",
        "**Note:** The setter functions should never return anything."
      ]
    },
    {
      "cell_type": "code",
      "metadata": {
        "id": "BmAHZocuwCrM"
      },
      "source": [
        "# S1.1: Create setter functions to change the value stored in the 'account_name' and 'city' attributes in the 'BankAccount' class.\n",
        "class BankAccount:\n",
        "  def __init__(self, account_num, account_name, balance, city):\n",
        "    self.__account_num = account_num\n",
        "    self.__account_name = account_name\n",
        "    self.__balance = balance\n",
        "    self.__city = city\n"
      ],
      "execution_count": null,
      "outputs": []
    },
    {
      "cell_type": "markdown",
      "metadata": {
        "id": "mz24c83LwFDU"
      },
      "source": [
        "Let's create the `millionaire` object again with a wrong name along with some city name and update both the attributes using their setter methods."
      ]
    },
    {
      "cell_type": "code",
      "metadata": {
        "id": "UzCxQ7FAwHON"
      },
      "source": [
        "# S1.2: Create a new 'BankAccount' object with the wrong name and some random city. Then change those values using their setter functions.\n",
        "\n",
        "class BankAccount:\n",
        "  def __init__(self, account_num, account_name, balance,city):\n",
        "    self.__account_num = account_num\n",
        "    self.__account_name = account_name\n",
        "    self.__balance = balance\n",
        "    self.__city= city\n",
        "\n",
        "  def get_city(self):\n",
        "    return self.__city\n",
        "  \n",
        "  def set_city(self,n_city):\n",
        "    self.__city=n_city\n",
        "    return self.__city\n",
        "\n",
        "  # Getter method to get account number of the account holder.\n",
        "  def get_account_num(self):\n",
        "  \treturn self.__account_num\n",
        "\n",
        "  # Getter method to get the name of the account holder.\n",
        "  def get_account_name(self):\n",
        "  \treturn self.__account_name.title()\n",
        "\n",
        "  # Getter method to get the current balance of the account holder.\n",
        "  def get_balance(self):\n",
        "  \treturn self.__balance\n",
        "\n",
        "  def add_money(self, deposit_amount):\n",
        "    self.__balance += deposit_amount\n",
        "    print(f\"{deposit_amount} is successfully added.\\nAvailable amount is {self.__balance:,}\")\n",
        "\n",
        "  def withdraw_money(self, withdrawal_amount):\n",
        "    if withdrawal_amount > self.__balance:\n",
        "      print(\"Insufficient balance!\")\n",
        "    else:\n",
        "      self.__balance -= withdrawal_amount\n",
        "      print(f\"{withdrawal_amount} is successfully withdrawn.\\nAvailable amount is {self.__balance:,}\")"
      ],
      "execution_count": null,
      "outputs": []
    },
    {
      "cell_type": "code",
      "source": [
        "obj=BankAccount(12345,'Jeff',12345E10,'Wisconsin')\n",
        "print(obj.get_account_num())\n",
        "print(obj.get_account_name())\n",
        "print(obj.get_city())\n",
        "\n",
        "\n",
        "obj.set_city('Miami')\n",
        "print(obj.get_account_num())\n",
        "print(obj.get_account_name())\n",
        "print(obj.get_city())\n"
      ],
      "metadata": {
        "colab": {
          "base_uri": "https://localhost:8080/"
        },
        "id": "0riqIrECbMlh",
        "outputId": "31b299dd-0129-4453-e614-15b31a0dc4f4"
      },
      "execution_count": null,
      "outputs": [
        {
          "output_type": "stream",
          "name": "stdout",
          "text": [
            "12345\n",
            "Jeff\n",
            "Wisconsin\n",
            "12345\n",
            "Jeff\n",
            "Miami\n"
          ]
        }
      ]
    },
    {
      "cell_type": "markdown",
      "metadata": {
        "id": "H2N6h1HAwMeJ"
      },
      "source": [
        "So the private variables can be updated using the setter functions as observed.\n",
        "\n",
        "Let's learn some important points about Encapsulations in the next task."
      ]
    },
    {
      "cell_type": "markdown",
      "metadata": {
        "id": "V3cFS5CeXsiC"
      },
      "source": [
        "---"
      ]
    },
    {
      "cell_type": "markdown",
      "metadata": {
        "id": "Fm35cJCho4FI"
      },
      "source": [
        "#### Task 2: Additional Functions in Encapsulation\n",
        "\n",
        "Even if you try to change/modify the private attribute value through the private attribute itself using the assignment operator (`=`), it won't change."
      ]
    },
    {
      "cell_type": "code",
      "metadata": {
        "id": "feAdcbRLo_9b",
        "colab": {
          "base_uri": "https://localhost:8080/"
        },
        "outputId": "f65244ba-6c82-4e13-be73-73934249b143"
      },
      "source": [
        "# S2.1: Update the value of '__balance' attribute using the 'millionaire' object created above directly without using its setter function.\n",
        "# Print and verify the result using the getter function.\n",
        "obj.__balance=10\n",
        "print(obj.__balance)\n",
        "print(obj.get_balance())"
      ],
      "execution_count": null,
      "outputs": [
        {
          "output_type": "stream",
          "name": "stdout",
          "text": [
            "10\n",
            "123450000000000.0\n"
          ]
        }
      ]
    },
    {
      "cell_type": "markdown",
      "metadata": {
        "id": "AumLAUDTpM57"
      },
      "source": [
        "So even though you changed the attribute value, the getter function returned the original value of the attribute that is $100 million. This is because the `millionaire.__balance = 10` statement creates a new attribute storing the value `10` with the same name, i.e., `__balance` but it is not the instance variable for the `millionaire` object.\n",
        "\n",
        "You can verify this by retrieving a dictionary containing all the attributes and methods of the `millionaire` instance. It's a special built-in attribute of the `__main__` class of Python which stores all the members of a class.\n",
        "\n",
        "**Note:** Every object in Python is an instance of the `__main__` class.\n",
        "\n",
        "\n",
        "Here's the syntax to call the `__dict__` attribute on an object.\n",
        "\n",
        "> **Syntax to call the `__dict__` attribute**: ` object_name.__dict__`\n",
        "\n",
        "Let's print the dictionary of attributes for the `millionaire` object.\n",
        "\n",
        "\n",
        "\n",
        "\n",
        "\n",
        "\n"
      ]
    },
    {
      "cell_type": "code",
      "metadata": {
        "id": "Gaz3Qrn6pa51",
        "colab": {
          "base_uri": "https://localhost:8080/"
        },
        "outputId": "5d2d0ddf-0919-46f3-9ef6-916e7d1fdbee"
      },
      "source": [
        "# S2.2: Print the dictionary of attributes for the 'millionaire' object.\n",
        "obj.__dict__"
      ],
      "execution_count": null,
      "outputs": [
        {
          "output_type": "execute_result",
          "data": {
            "text/plain": [
              "{'_BankAccount__account_name': 'Jeff',\n",
              " '_BankAccount__account_num': 12345,\n",
              " '_BankAccount__balance': 123450000000000.0,\n",
              " '_BankAccount__city': 'Miami',\n",
              " '__balance': 10}"
            ]
          },
          "metadata": {},
          "execution_count": 124
        }
      ]
    },
    {
      "cell_type": "markdown",
      "metadata": {
        "id": "luqEuzeEp7SI"
      },
      "source": [
        "The actual `__balance` attribute for the `millionaire` object is `_BankAccount__balance` whose value is returned by its getter function.\n",
        "\n",
        "**Note:** The `millionaire` object is an instance of the `BankAccount` class, so its actual `__balance` instance variable is reported as `_BankAccount__balance`. In general, any attribute of some class is recorded as `_SomeClass__atttributeName`.\n",
        "\n",
        "You can remove the additional `__balance` attribute which is NOT an instance variable of the `millionaire` object with the help of the `del` keyword:\n",
        "\n",
        "> **Syntax of `del` keyword**: `del object_name.__variable_name`"
      ]
    },
    {
      "cell_type": "code",
      "metadata": {
        "id": "TXtGCOFIqWaj",
        "colab": {
          "base_uri": "https://localhost:8080/"
        },
        "outputId": "0a0a83c4-b7fd-4406-c0da-dea364a67cf3"
      },
      "source": [
        "# S2.3: Delete the '__balance' variable from the object and print the dictionary.\n",
        "del obj.__balance\n",
        "obj.__dict__"
      ],
      "execution_count": null,
      "outputs": [
        {
          "output_type": "execute_result",
          "data": {
            "text/plain": [
              "{'_BankAccount__account_name': 'Jeff',\n",
              " '_BankAccount__account_num': 12345,\n",
              " '_BankAccount__balance': 123450000000000.0,\n",
              " '_BankAccount__city': 'Miami'}"
            ]
          },
          "metadata": {},
          "execution_count": 125
        }
      ]
    },
    {
      "cell_type": "markdown",
      "metadata": {
        "id": "oDWdHoq2qbaw"
      },
      "source": [
        "As you can see, the additional `__balance` attribute is now removed. \n",
        "\n",
        "If you still want to change the values of the private attributes, then you have to follow the given syntax\n",
        "\n",
        "**Syntax:** `object._ClassName__attributeName = new_value`"
      ]
    },
    {
      "cell_type": "code",
      "metadata": {
        "id": "rX_NgIEouhfE",
        "colab": {
          "base_uri": "https://localhost:8080/"
        },
        "outputId": "79380de8-6cd7-4bb1-eb1f-8e0d07571d0a"
      },
      "source": [
        "# S2.4: Change the value of '__balance' attribute without using the setter function.\n",
        "obj._BankAccount__balance=20\n",
        "obj.__dict__"
      ],
      "execution_count": null,
      "outputs": [
        {
          "output_type": "execute_result",
          "data": {
            "text/plain": [
              "{'_BankAccount__account_name': 'Jeff',\n",
              " '_BankAccount__account_num': 12345,\n",
              " '_BankAccount__balance': 20,\n",
              " '_BankAccount__city': 'Miami'}"
            ]
          },
          "metadata": {},
          "execution_count": 126
        }
      ]
    },
    {
      "cell_type": "markdown",
      "metadata": {
        "id": "wxYbcZ_4uzgE"
      },
      "source": [
        "As you can see, the initial value of the `__balance` attribute is now changed to `10` using the assignment operator.\n",
        "\n",
        "However, such practice should be avoided. **Always modify the value of a private member using its setter method only** as it defeats the purpose of encapsulation."
      ]
    },
    {
      "cell_type": "markdown",
      "metadata": {
        "id": "HueeTO1ngstH"
      },
      "source": [
        "---"
      ]
    },
    {
      "cell_type": "markdown",
      "metadata": {
        "id": "kothEsP89In4"
      },
      "source": [
        "#### Task 3: Class Members\n",
        "\n",
        "Class members are the members that are bound to a class and not to an object i.e., they can be accessed through the **class name** rather than the **object name**.\n",
        "\n",
        "\n",
        "**How to create class variables?**\n",
        "\n",
        "Just add the variable(s) between the class declaration and the class constructor as illustrated below:\n",
        "\n",
        "\n",
        "```\n",
        "class SomeClass:\n",
        "  class_variable1 = value1\n",
        "  class_variable2 = value2\n",
        "\n",
        "  def __init__(self):\n",
        "    pass\n",
        "```\n",
        "\n",
        "**How to create class methods?**\n",
        "\n",
        "To create a class method you have to use the `def` keyword as usual followed by the method name along with the parenthesis. Inside the parenthesis, you have to add the `cls` keyword (which refers to `class`). On top of the class method, you have to put a class decorator called `@classmethod`. The `@` symbol is an operator for a decorator.\n",
        "\n",
        "**Syntax of `@classmethod` decorator:**\n",
        "```\n",
        "  @classmethod\n",
        "  def class_method1(cls):\n",
        "    return some_value\n",
        "\n",
        "  @classmethod\n",
        "  def class_method2(cls):\n",
        "    some_class_operation\n",
        "```\n",
        "\n",
        "**Note:** A class method should always have the `cls` keyword as the first input which signifies that the method is a class method.\n",
        "\n",
        "\n",
        "Let's add the following class members to our `BankAccount` class:\n",
        "\n",
        "**Class Attributes**\n",
        "\n",
        "> `interest_rate` that stores the rate of interest offered by the bank.\n",
        "\n",
        "> `count_account_holders` that store the number of accounts created in the bank. The count should get increased by 1 whenever a new account is created (i.e., whenever a new object of the `BankAccount` class gets created).\n",
        "\n",
        "**Class Methods**\n",
        "\n",
        "> `get_interest_rate` that returns the interest rate offered by the bank.\n",
        "\n",
        "> `total_num_accounts` that return the total number of accounts opened in the bank.\n",
        "\n",
        "> `increase_count_accounts` that increases the `count_account_holders` value. This function gets called whenever a new object of the `BankAccount` class is created.\n",
        "\n",
        "Let's also add two more new instance methods called:\n",
        "\n",
        "1. `simple_interest()` that calculates simple interest for a period.\n",
        "\n",
        "2. `amount_after_interest()` that calculates the amount payable by the Bank to the account holder after applying simple interest for a period."
      ]
    },
    {
      "cell_type": "code",
      "metadata": {
        "id": "W1dl5c00GuU8"
      },
      "source": [
        "# S3.1: Create the 'BankAccount' class and add new variables and methods\n",
        "\n",
        "  \n",
        "class BankAccount:\n",
        "  interest_rate=5\n",
        "  count_account=0\n",
        "\n",
        "  def __init__(self,account_num, account_name, balance,city):\n",
        "    self.__account_num = account_num\n",
        "    self.__account_name = account_name\n",
        "    self.__balance = balance\n",
        "    self.__city= city\n",
        "    BankAccount.increase_account()\n",
        "\n",
        "  def get_city(self):\n",
        "    return self.__city\n",
        "  \n",
        "  def set_city(self,n_city):\n",
        "    self.__city=n_city\n",
        "    return self.__city\n",
        "\n",
        "  # Getter method to get account number of the account holder.\n",
        "  def get_account_num(self):\n",
        "  \treturn self.__account_num\n",
        "\n",
        "  # Getter method to get the name of the account holder.\n",
        "  def get_account_name(self):\n",
        "  \treturn self.__account_name.title()\n",
        "\n",
        "  # Getter method to get the current balance of the account holder.\n",
        "  def get_balance(self):\n",
        "  \treturn self.__balance\n",
        "\n",
        "  def add_money(self, deposit_amount):\n",
        "    self.__balance += deposit_amount\n",
        "    print(f\"{deposit_amount} is successfully added.\\nAvailable amount is {self.__balance:,}\")\n",
        "\n",
        "  def withdraw_money(self, withdrawal_amount):\n",
        "    if withdrawal_amount > self.__balance:\n",
        "      print(\"Insufficient balance!\")\n",
        "    else:\n",
        "      self.__balance -= withdrawal_amount\n",
        "      print(f\"{withdrawal_amount} is successfully withdrawn.\\nAvailable amount is {self.__balance:,}\")\n",
        "\n",
        "  def simple_interest(self,time_period):\n",
        "    return self.__balance*(BankAccount.interest_rate/100)*time_period\n",
        "  \n",
        "  def amount_after_interest(self,time_period):\n",
        "    return self.__balance+self.simple_interest(time_period)\n",
        " \n",
        "  @classmethod\n",
        "  def get_interest_rate(cls):\n",
        "    return cls.interest_rate\n",
        "\n",
        "  @classmethod\n",
        "  def total_account(cls):\n",
        "    return cls.count_account\n",
        "\n",
        "  @classmethod\n",
        "  def increase_account(cls):\n",
        "    cls.count_account+=1\n",
        "    return cls.count_account"
      ],
      "execution_count": null,
      "outputs": []
    },
    {
      "cell_type": "markdown",
      "metadata": {
        "id": "q6YCuhOCWVQE"
      },
      "source": [
        "Now let's create the `millionaire` object of the `BankAccount` class and get the interest rate offered by the bank using the syntax below:\n",
        "\n",
        "> **Syntax to access the class methods**: `ClassName.function_name()`\n",
        "\n"
      ]
    },
    {
      "cell_type": "code",
      "metadata": {
        "id": "0xTnhQrZGvKn",
        "colab": {
          "base_uri": "https://localhost:8080/"
        },
        "outputId": "66e0831f-9fc2-4b7d-ca4f-7f3fc9d426bc"
      },
      "source": [
        "# S3.2: Create the 'millionaire' object of the 'BankAccount' class and get the interest rate offered by the bank. \n",
        "obj=BankAccount(12345,'Jeff',12345E10,'Wisconsin')\n",
        "obj1=BankAccount(12345,'Pawan',12345E10,'Wisconsin')\n",
        "\n",
        "BankAccount.total_account()\n",
        "\n"
      ],
      "execution_count": null,
      "outputs": [
        {
          "output_type": "execute_result",
          "data": {
            "text/plain": [
              "2"
            ]
          },
          "metadata": {},
          "execution_count": 109
        }
      ]
    },
    {
      "cell_type": "markdown",
      "metadata": {
        "id": "SyShd6YxW-hx"
      },
      "source": [
        "As it can be observed the interest rate is as initialised in the class. Now let's find out the total number of accounts created in the bank."
      ]
    },
    {
      "cell_type": "code",
      "metadata": {
        "id": "fNCJTSluGzI_",
        "colab": {
          "base_uri": "https://localhost:8080/"
        },
        "outputId": "d747537c-24f1-4c9a-f0d3-78979f75348b"
      },
      "source": [
        "# S3.3: Find out the total number of accounts created in the bank.\n",
        "BankAccount.total_account()"
      ],
      "execution_count": null,
      "outputs": [
        {
          "output_type": "execute_result",
          "data": {
            "text/plain": [
              "2"
            ]
          },
          "metadata": {},
          "execution_count": 110
        }
      ]
    },
    {
      "cell_type": "markdown",
      "metadata": {
        "id": "I7pF66gKXpHX"
      },
      "source": [
        "As you can see, whenever you create a new object of the `BankAccount` class, the `increase_count_accounts()` function gets called inside the constructor  which increases the value of the `count_account_holders` by 1. And the `total_num_accounts()` function returns the updated value of the `count_accounts_holders` variable."
      ]
    },
    {
      "cell_type": "code",
      "metadata": {
        "id": "PlBIvH3hIyLJ",
        "colab": {
          "base_uri": "https://localhost:8080/"
        },
        "outputId": "cf56decd-73e4-42c9-bb43-5452e3746292"
      },
      "source": [
        "# S3.4: Calculate the simple interest applicable for 5 years and the amount payable by the bank after simple interest.\n",
        "obj.simple_interest(5)"
      ],
      "execution_count": null,
      "outputs": [
        {
          "output_type": "execute_result",
          "data": {
            "text/plain": [
              "30862500000000.0"
            ]
          },
          "metadata": {},
          "execution_count": 114
        }
      ]
    },
    {
      "cell_type": "markdown",
      "metadata": {
        "id": "O3qOSEI-YLHA"
      },
      "source": [
        "Let's create a new object and observe these class methods and attributes again."
      ]
    },
    {
      "cell_type": "code",
      "metadata": {
        "id": "unm0SEO4Jwvx",
        "colab": {
          "base_uri": "https://localhost:8080/"
        },
        "outputId": "3addbb9e-d94a-4324-a5d0-f2cbd197e0cd"
      },
      "source": [
        "# S3.5: Create a new object of the 'BankAccount' class and find out the total number of accounts created in the bank.\n",
        "obj3=BankAccount(12345,'troy',12345E10,'Wisconsin')\n",
        "\n",
        "BankAccount.total_account()"
      ],
      "execution_count": null,
      "outputs": [
        {
          "output_type": "execute_result",
          "data": {
            "text/plain": [
              "3"
            ]
          },
          "metadata": {},
          "execution_count": 115
        }
      ]
    },
    {
      "cell_type": "markdown",
      "metadata": {
        "id": "n204xw62Yp-T"
      },
      "source": [
        "As a new object is created, the number of accounts has been increased. "
      ]
    },
    {
      "cell_type": "code",
      "metadata": {
        "id": "dK7ZJ3uBLUW2",
        "colab": {
          "base_uri": "https://localhost:8080/"
        },
        "outputId": "dd83a8d0-1757-4075-ee72-cadb18d46c5c"
      },
      "source": [
        "# S3.6: Calculate the amount after simple interest.\n",
        "obj3.amount_after_interest(6)"
      ],
      "execution_count": null,
      "outputs": [
        {
          "output_type": "execute_result",
          "data": {
            "text/plain": [
              "160485000000000.0"
            ]
          },
          "metadata": {},
          "execution_count": 117
        }
      ]
    },
    {
      "cell_type": "markdown",
      "metadata": {
        "id": "CYjF4sKLZTGw"
      },
      "source": [
        "From the outputs, we can see that the same interest rate is applied on both the objects. \n",
        "\n",
        "Let's stop here. In the next class, we will start learning a machine linear algorithm called Linear Regression."
      ]
    },
    {
      "cell_type": "markdown",
      "metadata": {
        "id": "PrEabrKf9HxM"
      },
      "source": [
        "---"
      ]
    }
  ]
}