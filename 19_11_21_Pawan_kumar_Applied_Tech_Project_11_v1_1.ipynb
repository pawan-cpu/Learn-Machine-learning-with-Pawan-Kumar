{
  "nbformat": 4,
  "nbformat_minor": 0,
  "metadata": {
    "colab": {
      "name": "19/11/21 Pawan kumar Applied Tech. Project 11_v1.1",
      "provenance": [],
      "collapsed_sections": [],
      "include_colab_link": true
    },
    "kernelspec": {
      "name": "python3",
      "display_name": "Python 3"
    }
  },
  "cells": [
    {
      "cell_type": "markdown",
      "metadata": {
        "id": "view-in-github",
        "colab_type": "text"
      },
      "source": [
        "<a href=\"https://colab.research.google.com/github/pawan-cpu/Learn-Python-with-Pawan-Kumar/blob/main/19_11_21_Pawan_kumar_Applied_Tech_Project_11_v1_1.ipynb\" target=\"_parent\"><img src=\"https://colab.research.google.com/assets/colab-badge.svg\" alt=\"Open In Colab\"/></a>"
      ]
    },
    {
      "cell_type": "markdown",
      "metadata": {
        "id": "YZnBY81YDCCr"
      },
      "source": [
        "### Instructions"
      ]
    },
    {
      "cell_type": "markdown",
      "metadata": {
        "id": "bEyBzxYRhrLG"
      },
      "source": [
        "#### Goal of the Project\n",
        "\n",
        "This project is designed for you to practice and solve the activities that are based on the concepts covered in the following lessons:\n",
        "\n",
        "  1.  Claude Shannon Algorithm I"
      ]
    },
    {
      "cell_type": "markdown",
      "metadata": {
        "id": "DPOFIO3EHncO"
      },
      "source": [
        "---"
      ]
    },
    {
      "cell_type": "markdown",
      "metadata": {
        "id": "V2fOqw2pVhRd"
      },
      "source": [
        "#### Getting Started\n",
        "\n",
        "Follow the steps described below to solve the project:\n",
        "\n",
        "1. Click on the link provided below to open the Colab file for this project.\n",
        "   \n",
        "   https://colab.research.google.com/drive/1u2YmTposWFn14Dr_KIvpKtYM2xz08OWy\n",
        "   \n",
        "2. Create the duplicate copy of the Colab file. Here are the steps to create the duplicate copy:\n",
        "\n",
        "    - Click on the **File** menu. A new drop-down list will appear.\n",
        "\n",
        "      <img src='https://student-datasets-bucket.s3.ap-south-1.amazonaws.com/images/project-share-images/0_file_menu.png' width=500>\n",
        "\n",
        "    - Click on the **Save a copy in Drive** option. A duplicate copy will get created. It will open up in the new tab on your web browser.\n",
        "\n",
        "      <img src='https://student-datasets-bucket.s3.ap-south-1.amazonaws.com/images/project-share-images/1_create_colab_duplicate_copy.png' width=500>\n",
        "\n",
        "     - After creating the duplicate copy of the notebook, please rename it in the **YYYY-MM-DD_StudentName_Project11** format. \n",
        "\n",
        "3. Now, write your code in the prescribed code cells."
      ]
    },
    {
      "cell_type": "markdown",
      "metadata": {
        "id": "7EPOJrUAzRSE"
      },
      "source": [
        "---"
      ]
    },
    {
      "cell_type": "markdown",
      "metadata": {
        "id": "8f6-uc0r9Q4h"
      },
      "source": [
        "### Activities"
      ]
    },
    {
      "cell_type": "markdown",
      "metadata": {
        "id": "Q-lznbvtXO87"
      },
      "source": [
        "#### Activity 1: 3D NumPy array\n",
        "\n",
        "Write a program to create a three-dimensional NumPy array which has 4 blocks, 4 rows and 4 columns such that all the initial items are `0`.\n",
        "\n",
        "Follow the steps given below to achieve the desired result:\n",
        "\n",
        "  - **Step 1**: Import `numpy` module.\n",
        "\n",
        "  - **Step 2**: Pass `(4, 4, 4 )` inside the `shape` attribute of the `zeros()` function to create a 3D NumPy array of size (4, 4, 4) whose all the elements are 0. Store the array in a variable `three_d_arr`."
      ]
    },
    {
      "cell_type": "code",
      "metadata": {
        "id": "YgDGsBFjXSs4",
        "colab": {
          "base_uri": "https://localhost:8080/"
        },
        "outputId": "c57c9be9-65a7-4295-e9b9-cd9450bb5d04"
      },
      "source": [
        "# Create a 3D NumPy array of size (4, 4, 4) whose all the elements are 0.\n",
        "# Step 1: Import numpy module.\n",
        "import numpy as np\n",
        "# Step 2: Pass '(4, 4, 4 )' inside the 'shape' attribute of the 'zeros()' function\n",
        "three_d_arr = np.zeros((4, 4, 4))\n",
        "print(three_d_arr)"
      ],
      "execution_count": null,
      "outputs": [
        {
          "output_type": "stream",
          "name": "stdout",
          "text": [
            "[[[0. 0. 0. 0.]\n",
            "  [0. 0. 0. 0.]\n",
            "  [0. 0. 0. 0.]\n",
            "  [0. 0. 0. 0.]]\n",
            "\n",
            " [[0. 0. 0. 0.]\n",
            "  [0. 0. 0. 0.]\n",
            "  [0. 0. 0. 0.]\n",
            "  [0. 0. 0. 0.]]\n",
            "\n",
            " [[0. 0. 0. 0.]\n",
            "  [0. 0. 0. 0.]\n",
            "  [0. 0. 0. 0.]\n",
            "  [0. 0. 0. 0.]]\n",
            "\n",
            " [[0. 0. 0. 0.]\n",
            "  [0. 0. 0. 0.]\n",
            "  [0. 0. 0. 0.]\n",
            "  [0. 0. 0. 0.]]]\n"
          ]
        }
      ]
    },
    {
      "cell_type": "markdown",
      "metadata": {
        "id": "AfHAWZNAXPt3"
      },
      "source": [
        "---"
      ]
    },
    {
      "cell_type": "markdown",
      "metadata": {
        "id": "qA-b1CdeofKc"
      },
      "source": [
        "#### Activity 2: Accessing elements in a 3D array.\n",
        "\n",
        "Given a 3D NumPy array of size (2, 2, 2) whose all the elements are 0,\n",
        "\n",
        "```\n",
        "three_d_arr = [[[0 0],\n",
        "               [0 0]],\n",
        "\n",
        "              [[0 0],\n",
        "              [0 0]]]\n",
        "```\n",
        "\n",
        "write a program to generate a random number between 10 and 50 at (0, 1, 1) position of the `three_d_arr`. If the random number generated is greater than 20 then, update the 1st element (`update_needed` in the below array) as `50`, else, update it as `20`.\n",
        "\n",
        "```\n",
        "three_d_arr = [[[0 update_required],\n",
        "               [0 random_number]],\n",
        "\n",
        "              [[0 0],\n",
        "              [0 0]]]\n",
        "```\n",
        "\n",
        "Follow the steps given below to achieve the desired result:\n",
        "\n",
        "  - **Step 1**: Import the `random` module.\n",
        "\n",
        "  - **Step 2**: Update the `(0, 1, 1)` position of the `three_d_arr` with a random number between `10` and `50` (including both).\n",
        "\n",
        "  - **Step 3**: Check whether the random number generated is greater than `20` using an `if` condition. \n",
        "\n",
        "     - If the condition is `True`, update the `0` at `(0, 0, 1)` i.e. `update_required` position with `50`.\n",
        "\n",
        "     - Else, update it as `20`."
      ]
    },
    {
      "cell_type": "code",
      "metadata": {
        "colab": {
          "base_uri": "https://localhost:8080/"
        },
        "id": "NgRnTUplydg1",
        "outputId": "11bb601a-1465-47ec-ba3f-be39d74617b9"
      },
      "source": [
        "# 3D NumPy array of size (2, 2, 2) whose all the elements are 0.\n",
        "import numpy as np\n",
        "\n",
        "three_d_arr = np.zeros(shape=(2, 2, 2), dtype=int)\n",
        "three_d_arr"
      ],
      "execution_count": null,
      "outputs": [
        {
          "output_type": "execute_result",
          "data": {
            "text/plain": [
              "array([[[0, 0],\n",
              "        [0, 0]],\n",
              "\n",
              "       [[0, 0],\n",
              "        [0, 0]]])"
            ]
          },
          "metadata": {},
          "execution_count": 4
        }
      ]
    },
    {
      "cell_type": "markdown",
      "metadata": {
        "id": "Gr-IXxh5c_f5"
      },
      "source": [
        ""
      ]
    },
    {
      "cell_type": "code",
      "metadata": {
        "id": "AtvPTG3kpBoS",
        "colab": {
          "base_uri": "https://localhost:8080/"
        },
        "outputId": "c32abffe-b3e5-444b-9637-5c1d2367c409"
      },
      "source": [
        "# Write your code here to generate a random number between 10 and 50 at (0,1,1)\n",
        "import random\n",
        "num=random.randint(10,50)\n",
        "print(num)\n",
        "three_d_arr[0][1][1]=num\n",
        "print(three_d_arr)\n"
      ],
      "execution_count": null,
      "outputs": [
        {
          "output_type": "stream",
          "name": "stdout",
          "text": [
            "28\n",
            "[[[ 0  0]\n",
            "  [ 0 28]]\n",
            "\n",
            " [[ 0  0]\n",
            "  [ 0  0]]]\n"
          ]
        }
      ]
    },
    {
      "cell_type": "code",
      "metadata": {
        "id": "_oETQ6Ah0HTS",
        "colab": {
          "base_uri": "https://localhost:8080/"
        },
        "outputId": "9ac4c655-69dc-4b18-85a6-f4fd9e74a3d0"
      },
      "source": [
        "#check whether the random number generated is greater than 20.\n",
        "if num>20:\n",
        "  three_d_arr[0][0][1]=50\n",
        "\n",
        "  # If the condition is 'True', update the '0' at '(0, 0, 1)' position with '50'\n",
        "\n",
        "# print the resultant 'three_d_array' array\n",
        "print(three_d_arr)"
      ],
      "execution_count": null,
      "outputs": [
        {
          "output_type": "stream",
          "name": "stdout",
          "text": [
            "[[[ 0 50]\n",
            "  [ 0 28]]\n",
            "\n",
            " [[ 0  0]\n",
            "  [ 0  0]]]\n"
          ]
        }
      ]
    },
    {
      "cell_type": "markdown",
      "metadata": {
        "id": "KOVBiUSMzut1"
      },
      "source": [
        "---"
      ]
    },
    {
      "cell_type": "markdown",
      "metadata": {
        "id": "OQMKi4krVjaK"
      },
      "source": [
        "### Submitting the Project\n",
        "\n",
        "Follow the steps described below to submit the project.\n",
        "\n",
        "1. After finishing the project, click on the **Share** button on the top right corner of the notebook. A new dialog box will appear.\n",
        "\n",
        "  <img src='https://student-datasets-bucket.s3.ap-south-1.amazonaws.com/images/project-share-images/2_share_button.png' width=500>\n",
        "\n",
        "2. In the dialog box, click on the **Copy link** button.\n",
        "\n",
        "   <img src='https://student-datasets-bucket.s3.ap-south-1.amazonaws.com/images/project-share-images/3_copy_link.png' width=500>\n",
        "\n",
        "\n",
        "3. The link of the duplicate copy (named as **YYYY-MM-DD_StudentName_Project11**) of the notebook will get copied \n",
        "\n",
        "   <img src='https://student-datasets-bucket.s3.ap-south-1.amazonaws.com/images/project-share-images/4_copy_link_confirmation.png' width=500>\n",
        "\n",
        "4. Go to your dashboard and click on the **My Projects** option.\n",
        "\n",
        "   <img src='https://student-datasets-bucket.s3.ap-south-1.amazonaws.com/images/project-share-images/5_student_dashboard.png' width=800>\n",
        "\n",
        "   <img src='https://student-datasets-bucket.s3.ap-south-1.amazonaws.com/images/project-share-images/6_my_projects.png' width=800>\n",
        "\n",
        "5. Click on the **View Project** button for the project you want to submit.\n",
        "\n",
        "   <img src='https://student-datasets-bucket.s3.ap-south-1.amazonaws.com/images/project-share-images/7_view_project.png' width=800>\n",
        "\n",
        "6. Click on the **Submit Project Here** button.\n",
        "\n",
        "   <img src='https://student-datasets-bucket.s3.ap-south-1.amazonaws.com/images/project-share-images/8_submit_project.png' width=800>\n",
        "\n",
        "7. Paste the link to the project file named as **YYYY-MM-DD_StudentName_Project11** in the URL box and then click on the **Submit** button.\n",
        "\n",
        "   <img src='https://student-datasets-bucket.s3.ap-south-1.amazonaws.com/images/project-share-images/9_enter_project_url.png' width=800>\n"
      ]
    },
    {
      "cell_type": "markdown",
      "metadata": {
        "id": "qkaUsMTzVixm"
      },
      "source": [
        "---"
      ]
    }
  ]
}