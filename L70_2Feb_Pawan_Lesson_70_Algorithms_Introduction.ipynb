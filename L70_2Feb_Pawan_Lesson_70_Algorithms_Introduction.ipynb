{
  "nbformat": 4,
  "nbformat_minor": 0,
  "metadata": {
    "colab": {
      "name": "L70_2Feb_Pawan_Lesson 70 - Algorithms Introduction",
      "provenance": [],
      "collapsed_sections": [],
      "include_colab_link": true
    },
    "kernelspec": {
      "name": "python3",
      "display_name": "Python 3"
    },
    "language_info": {
      "name": "python"
    }
  },
  "cells": [
    {
      "cell_type": "markdown",
      "metadata": {
        "id": "view-in-github",
        "colab_type": "text"
      },
      "source": [
        "<a href=\"https://colab.research.google.com/github/pawan-cpu/Learn-Python-with-Pawan-Kumar/blob/main/L70_2Feb_Pawan_Lesson_70_Algorithms_Introduction.ipynb\" target=\"_parent\"><img src=\"https://colab.research.google.com/assets/colab-badge.svg\" alt=\"Open In Colab\"/></a>"
      ]
    },
    {
      "cell_type": "markdown",
      "metadata": {
        "id": "0Z7PqdeHdJol"
      },
      "source": [
        "# Lesson 70: Algorithms Introduction\n"
      ]
    },
    {
      "cell_type": "markdown",
      "metadata": {
        "id": "yUinoQGrHdXj"
      },
      "source": [
        "\n",
        "|Particulars|Description|\n",
        "|-|-|\n",
        "|**Topics Covered**|Structure and Applications of Algorithms|\n",
        "||Types of Algorithms|\n",
        "||Analysis of Algorithms|\n",
        "|||\n",
        "|**Lesson Description**|A student gets to know the basics of algorithms and their types.|\n",
        "|||\n",
        "|**Lesson Duration**|45 minutes|\n",
        "|||\n",
        "|**Learning Outcomes**|Understanding the structure of important algorithms\n",
        "||Understanding the types of algorithms|\n"
      ]
    },
    {
      "cell_type": "markdown",
      "metadata": {
        "id": "u8yxawIEXEIj"
      },
      "source": [
        "---"
      ]
    },
    {
      "cell_type": "markdown",
      "metadata": {
        "id": "MicnOrfVdRHm"
      },
      "source": [
        "### Teacher-Student Tasks\n",
        "\n",
        "In this class, we will walk through the structure of important algorithms and the types of algorithms implemented using Python. \n",
        "\n",
        "**Note:** This lesson is completely theoretical and we will not perform any coding in this lesson.\n",
        "\n",
        "\n",
        "\n",
        "\n"
      ]
    },
    {
      "cell_type": "markdown",
      "source": [
        "---"
      ],
      "metadata": {
        "id": "BBQgzY-XVaPJ"
      }
    },
    {
      "cell_type": "markdown",
      "metadata": {
        "id": "P_p3mQEE7bnO"
      },
      "source": [
        "### Task 1: Implementation of Graphs using STL\n",
        "\n",
        "Given a directed or undirected graph, we need to implement a graph data structure using C++ STL. The implementation is for adjacency list representation of the graph.\n",
        "\n",
        "We use **vector** in STL to implement graph using adjacency list representation.\n",
        "\n",
        "**Vector:**\n",
        "\n",
        "A vector is a sequence container. Here we will use it to store adjacency lists of all vertices. We use vertex numbers as an index in this vector.\n",
        "\n",
        "We will represent the graph as an array of vectors such that every vector represents the adjacency list of a vertex. \n",
        "\n",
        "The following C++ program implements DFS travel using STL vectors:\n",
        "\n",
        "```cpp\n",
        "#include<bits/stdc++.h>\n",
        "using namespace std;\n",
        "\n",
        "// A function to add an edge in an undirected graph.\n",
        "void addEdge(vector<int> adj[], int u, int v)\n",
        "{\n",
        "\tadj[u].push_back(v);\n",
        "\tadj[v].push_back(u);\n",
        "}\n",
        "\n",
        "// A function to do DFS of graph recursively from a given vertex u.\n",
        "void DFSUtil(int u, vector<int> adj[],\n",
        "\t\t\t\t\tvector<bool> &visited)\n",
        "{\n",
        "\tvisited[u] = true;\n",
        "\tcout << u << \" \";\n",
        "\tfor (int i=0; i<adj[u].size(); i++)\n",
        "\t\tif (visited[adj[u][i]] == false)\n",
        "\t\t\tDFSUtil(adj[u][i], adj, visited);\n",
        "}\n",
        "\n",
        "// This function does DFSUtil() for all unvisited vertices.\n",
        "void DFS(vector<int> adj[], int V)\n",
        "{\n",
        "\tvector<bool> visited(V, false);\n",
        "\tfor (int u=0; u<V; u++)\n",
        "\t\tif (visited[u] == false)\n",
        "\t\t\tDFSUtil(u, adj, visited);\n",
        "}\n",
        "\n",
        "int main()\n",
        "{\n",
        "\tint V = 5;\n",
        "\tvector<int> adj[V];\n",
        "\n",
        "\t// Vertex numbers should be from 0 to 4.\n",
        "\taddEdge(adj, 0, 1);\n",
        "\taddEdge(adj, 0, 4);\n",
        "\taddEdge(adj, 1, 2);\n",
        "\taddEdge(adj, 1, 3);\n",
        "\taddEdge(adj, 1, 4);\n",
        "\taddEdge(adj, 2, 3);\n",
        "\taddEdge(adj, 3, 4);\n",
        "\tDFS(adj, V);\n",
        "\treturn 0;\n",
        "}\n",
        "```\n",
        "\n",
        "**Expected Output:**\n",
        "\n",
        "```\n",
        "0 1 2 3 4\n",
        "```\n",
        "\n",
        "The output represents the DFS traversal of the graph. Thus we have implemented graphs using an array of vectors  such that every vector represents the adjacency list of a vertex."
      ]
    },
    {
      "cell_type": "markdown",
      "metadata": {
        "id": "yzqqcMBrYGvc"
      },
      "source": [
        "---"
      ]
    },
    {
      "cell_type": "markdown",
      "metadata": {
        "id": "GBwg_DGFf_4f"
      },
      "source": [
        "#### Structure of Algorithms\n",
        "\n",
        "**Algorithms are a set of instructions that are executed to get the solution to a given problem.**\n",
        "\n",
        "* Since algorithms are not language-specific, they can be implemented in several programming languages. \n",
        "* No standard rules guide the writing of algorithms. Algorithms are generally created independent of underlying languages, i.e. an algorithm can be implemented in more than one programming language.\n",
        "*They are resource and problem-dependent but share some common code constructs, such as flow-control (if-else) and loops (do, while, for). \n"
      ]
    },
    {
      "cell_type": "markdown",
      "metadata": {
        "id": "S-A3-JNpgdZP"
      },
      "source": [
        "**Characteristics of an Algorithm:**\n",
        "\n",
        "Not all procedures can be called an algorithm. An algorithm should have the following characteristics:\n",
        "\n",
        "**1. Unambiguous** − The algorithm should be unambiguous. Each of its steps (or phases), and their inputs/outputs should be clear and must lead to only one meaning.\n",
        "\n",
        "**2. Input** − An algorithm should have 0 or more well-defined inputs.\n",
        "\n",
        "**3. Output** − An algorithm should have 1 or more well-defined outputs and should match the desired output.\n",
        "\n",
        "**4. Finiteness** − Algorithms must terminate after a finite number of steps.\n",
        "\n",
        "**5. Feasibility**− Should be feasible with the available resources.\n",
        "\n",
        "**6. Independent** − An algorithm should have step-by-step directions, which should be independent of any programming code.\n",
        "\n",
        "**How to Write an Algorithm?**\n",
        "\n",
        "\n",
        "There are no well-defined standards for writing algorithms. Rather, it is problem and resource-dependent. Algorithms are never written to support a particular programming code.\n",
        "\n",
        "As we know that all programming languages share basic code constructs like loops (do, for, while), flow-control (if-else), etc. These common constructs can be used to write an algorithm.\n",
        "\n",
        "We write algorithms in a step-by-step manner, but it is not always the case. Algorithm writing is a process and is executed after the problem domain is well-defined. Therefore, we should know the problem domain, for which we are designing a solution.\n",
        "\n",
        "**Example:**\n",
        "\n",
        "Let's try to learn algorithm-writing by using an example.\n",
        "\n",
        "Problem - Design an algorithm to add two numbers and display the result.\n",
        "\n",
        "The algorithm is as follows -\n",
        "\n",
        "```\n",
        "Step 1 − START.\n",
        "\n",
        "Step 2 − Declare three integers a, b, and c.\n",
        "\n",
        "Step 3 − Define values of a and b.\n",
        "\n",
        "Step 4 − Add values of a and b.\n",
        "\n",
        "Step 5 − Store output of step 4 to c.\n",
        "\n",
        "Step 6 − Print c.\n",
        "\n",
        "Step 7 − STOP.\n",
        "\n",
        "```"
      ]
    },
    {
      "cell_type": "markdown",
      "metadata": {
        "id": "EIRKC6l0i_d-"
      },
      "source": [
        "Algorithms tell the programmers how to code the program. Alternatively, the algorithm can be written as:\n",
        "\n",
        "\n",
        "```\n",
        "Step 1 − START.\n",
        "\n",
        "Step 2 − Get values of a and b.\n",
        "\n",
        "Step 3 − c ← a + b.\n",
        "\n",
        "Step 4 − Display c.\n",
        "\n",
        "Step 5 − STOP.\n",
        "```\n",
        "In the design and analysis of algorithms, the **second method** is used to describe an algorithm. It makes it easy for the analyst to analyze the algorithm ignoring all unwanted definitions.\n"
      ]
    },
    {
      "cell_type": "markdown",
      "metadata": {
        "id": "AimsEA44oUVI"
      },
      "source": [
        "\n",
        "\n",
        "\n",
        "\n",
        "\n",
        "---\n",
        "\n"
      ]
    },
    {
      "cell_type": "markdown",
      "metadata": {
        "id": "xFPgSyj4Nxaj"
      },
      "source": [
        "#### Applications of Algorithm\n",
        " \n",
        "\n",
        "Here we will see some of the practical applications of the algorithm.\n",
        "\n",
        "**1. Internet:** The internet is the outcome of clever and creative algorithms. Numerous sites on the internet can operate and falsify this huge number of data only with the help of these algorithms.\n",
        "\n",
        " \n",
        "**2. E-commerce activities:** The everyday electronic commerce activities are massively subject to our data, for example, credit or debit card numbers, passwords, OTPs, and many more. The center technologies used incorporate public-key cryptocurrency and digital signatures which depend on mathematical algorithms.\n",
        "\n",
        "**3. Recommendation systems:** There are some other vital use cases where the algorithm has been used such as if we watch any video on YouTube then next time we will get related-type advice as recommended videos for us. \n",
        "\n"
      ]
    },
    {
      "cell_type": "markdown",
      "metadata": {
        "id": "EJfs8SfoOUZp"
      },
      "source": [
        "---"
      ]
    },
    {
      "cell_type": "markdown",
      "metadata": {
        "id": "NtuaTjJooRFy"
      },
      "source": [
        "#### Types of Algorithms\n",
        "\n",
        "Major categories of data structure algorithms are as follows:\n",
        "1. Sorting Algorithms\n",
        "2. Searching Algorithms\n",
        "3. String Algorithms\n",
        "4. Graph Algorithms\n",
        "\n",
        "We will briefly discuss these categories of algorithms and will explore them in more detail in the upcoming lessons.\n",
        "\n",
        "\n",
        "\n",
        "\n",
        "\n",
        "\n"
      ]
    },
    {
      "cell_type": "markdown",
      "metadata": {
        "id": "sIiO6mOfpizh"
      },
      "source": [
        "##### **1. Sorting Algorithm**\n",
        "\n",
        "\n",
        "The sorting algorithm is used to sort data in some given order. It is used to rearrange a given array or list elements according to a comparison operator on the elements. The comparison operator is used to decide the new order of the element in the respective data structure.\n",
        "\n",
        "These algorithms take an input list, processes it (i.e, perform some operations on it), and produce the sorted list.\n",
        "\n",
        "The most common example we experience every day is sorting clothes or other items on an e-commerce website either by lowest-price to highest, or list by popularity, or some other order.\n",
        "\n",
        "Following are the commonly used types of sorting algorithms:\n",
        "\n",
        "1. Bubble Sort\n",
        "2. Selection Sort\n",
        "3. Insertion Sort\n",
        "4. Merge Sort\n",
        "5. Quick Sort\n",
        "\n",
        "\n",
        "\n"
      ]
    },
    {
      "cell_type": "markdown",
      "metadata": {
        "id": "i4_Rtz_BrShg"
      },
      "source": [
        "##### **2. Searching Algorithms**\n",
        "\n",
        "\n",
        "Searching algorithms are used to seek for some elements present in a given dataset.\n",
        "\n",
        "Searching Algorithms are designed to check for an element or retrieve an element from any data structure where it is stored. Based on the type of search operation, these algorithms are generally classified into two categories:\n",
        "\n",
        "1. **Sequential Search**: In this, the list or array is traversed sequentially and every element is checked. For example: Linear Search.\n",
        "\n",
        "2. **Interval Search**: These algorithms are specifically designed for searching in sorted data structures. These types of searching algorithms are much more efficient than Sequential Search as they repeatedly target the center of the search structure and divide the search space in half. For Example: Binary Search.\n",
        "\n",
        "\n"
      ]
    },
    {
      "cell_type": "markdown",
      "metadata": {
        "id": "JaBZw5qm2Qn4"
      },
      "source": [
        "##### **3. String Algorithms**\n",
        "\n",
        "Strings are a sequence of characters and are used to store data. Similar to another data type, we need to perform certain operations on them. There are many string algorithms available that can be used to solve various string processing problems, particularly finding a given substring within a string, also known as **pattern matching**.\n",
        "\n",
        "**Pattern Matching:**\n",
        "\n",
        "- Pattern matching or string matching is used to search a string within another string.\n",
        "- The algorithm returns the index position where the pattern is matched in a given string. \n",
        "- Some of the commonly used pattern matching algorithms are:\n",
        "  1. Brute-force algorithm.\n",
        "  2. Rabin-Karp algorithm.\n",
        "  3. Knuth-Morris-Pratt (KMP) algorithm."
      ]
    },
    {
      "cell_type": "markdown",
      "metadata": {
        "id": "px16bt2Mu3TE"
      },
      "source": [
        "##### **4. Graph Algorithms**\n",
        "\n",
        "Graphs are used to solve many computing problems. Graph traversal is a process for exploring a graph by analyzing all of its vertices and edges.\n",
        "\n",
        "Graph traversal algorithms are useful in identifying the available paths to reach from one vertex to another in a graph and also help  identify the best path out of all available paths. Let us explore some of the important graph algorithms:\n",
        "\n",
        "\n",
        "1. **Depth-First Traversal (DFS)**: In this algorithm, a graph is traversed in a depthward motion. When any iteration faces a dead end, a stack is used to go to the next vertex and start a search. DFS is implemented in Python using the set data types.\n",
        "\n",
        "2. **Breadth-First Traversal (BFS)**: In this algorithm, a graph is traversed in a breadthward motion. When any iteration faces a dead end, a queue is used to go to the next vertex and start a search. BFS is implemented in Python using the queue data structure.\n",
        "\n",
        "\n",
        "\n",
        "\n"
      ]
    },
    {
      "cell_type": "markdown",
      "metadata": {
        "id": "tMGNhhInwWyH"
      },
      "source": [
        "\n",
        "\n",
        "---\n",
        "\n",
        "\n",
        "\n",
        "\n"
      ]
    },
    {
      "cell_type": "markdown",
      "metadata": {
        "id": "ucT00oEp6vLa"
      },
      "source": [
        "#### Analysis of Algorithms\n",
        "\n",
        "Given two algorithms for a task, how do we find out which one is better?\n",
        "\n",
        "One way of doing this is – implement both the algorithms and run the two programs on your computer for different inputs and see which one takes less time. There are many problems with this approach for the analysis of algorithms.\n",
        "1. It might be possible that for some inputs, the first algorithm performs better than the second. And for some inputs second performs better.\n",
        "2. It might also be possible that for some inputs, the first algorithm performs better on one machine and the second works better on other machines for some other inputs.\n",
        "\n",
        "**Asymptotic Analysis** \n",
        "- It is the best way to analyze the performance of algorithms.\n",
        "- In Asymptotic Analysis, we evaluate the performance of an algorithm in terms of input size (we don't measure the actual running time). We calculate, how the time (or space) taken by an algorithm increases with the input size.\n",
        "- For example, the running time of one operation is computed as $f(n)$, and maybe for another operation it is computed as $g(n^2)$. This means the first operation running time will increase linearly with the increase in $n$ and the running time of the second operation will increase exponentially when $n$ increases. Similarly, the running time of both operations will be nearly the same if $n$ is significantly small.\n",
        "\n",
        "Usually, the time required by an algorithm falls under three types:\n",
        "\n",
        "1. **Best Case** − Minimum time required for program execution.\n",
        "\n",
        "2. **Worst Case** − Maximum time required for program execution.\n",
        "\n",
        "3. **Average Case** − Average time required for program execution.\n",
        "\n",
        "\n",
        "\n",
        "\n",
        "Let us take an example of a Linear Search algorithm and analyze it using Asymptotic Analysis. We will learn this algorithm in more detail in the upcoming lesson.\n",
        "\n",
        "Consider the following implementation of Linear Search: "
      ]
    },
    {
      "cell_type": "code",
      "metadata": {
        "id": "rYaa51Cv8Jij",
        "colab": {
          "base_uri": "https://localhost:8080/"
        },
        "outputId": "e5e71e6f-357b-4354-8be9-33c8d3696617"
      },
      "source": [
        "# Run the code cell\n",
        "# Python implementation of the approach\n",
        "def search(arr, n, x):\n",
        " \n",
        "    for i in range(0, n):\n",
        "        if (arr[i] == x):\n",
        "            return i\n",
        "    return -1\n",
        " \n",
        " \n",
        "# Driver Code\n",
        "arr = [2, 3, 4, 10, 40]\n",
        "x = 10\n",
        "n = len(arr)\n",
        " \n",
        "# Function call\n",
        "result = search(arr, n, x)\n",
        "if(result == -1):\n",
        "    print(\"Element is not present in array\")\n",
        "else:\n",
        "    print(\"Element is present at index\", result)\n",
        "\n",
        "# Linearly searching 'x' in 'arr[]'. If 'x' is present\n",
        "# then return the index, otherwise return '-1'\n",
        "\n"
      ],
      "execution_count": null,
      "outputs": [
        {
          "output_type": "stream",
          "name": "stdout",
          "text": [
            "Element is present at index 3\n"
          ]
        }
      ]
    },
    {
      "cell_type": "code",
      "source": [
        "C++\n",
        "#include <iostream>\n",
        "using namespace std;\n",
        " \n",
        "int search(int arr[], int n, int x)\n",
        "{\n",
        "    int i;\n",
        "    for (i = 0; i < n; i++)\n",
        "        if (arr[i] == x)\n",
        "            return i;\n",
        "    return -1;\n",
        "}\n",
        " \n",
        "// Driver code\n",
        "int main(void)\n",
        "{\n",
        "    int arr[] = { 2, 3, 4, 10, 40 };\n",
        "    int x = 10;\n",
        "    int n = sizeof(arr) / sizeof(arr[0]);\n",
        "   \n",
        "    // Function call\n",
        "    int result = search(arr, n, x);\n",
        "    (result == -1)\n",
        "        ? cout << \"Element is not present in array\"\n",
        "        : cout << \"Element is present at index \" << result;\n",
        "    return 0;\n",
        "}"
      ],
      "metadata": {
        "id": "MKD7Mfaswo3A"
      },
      "execution_count": null,
      "outputs": []
    },
    {
      "cell_type": "markdown",
      "metadata": {
        "id": "3LFU3NEW-WQ0"
      },
      "source": [
        "**1. Best Case Analysis:**\n",
        " \n",
        "In the best possible case,\n",
        "\n",
        "- The element being searched may be found at the first position.\n",
        "- In this case, the search terminates in success with just one comparison.\n",
        "- Thus in the best case, a linear search algorithm takes $\\mathcal{O}(1)$ operations. Here, $\\mathcal{O}$ is nothing but the Big O notation which is used to represent time complexity.\n",
        "\n",
        "\n",
        "**2. Worst-Case Analysis:**\n",
        "\n",
        "In the worst possible case,\n",
        "- The element being searched may be present at the last position or not present in the array at all.\n",
        "- In the former case, the search terminates in success with n comparisons.\n",
        "- In the later case, the search terminates in failure with n comparisons.\n",
        "- Thus in the worst case, a linear search algorithm takes $\\mathcal{O}(n)$  operations.\n",
        "\n",
        "\n",
        "**3. Average Case Analysis:**\n",
        "\n",
        "- It is the average number of comparisons between a minimum number of comparisons and a maximum number of comparisons.\n",
        "- For Linear Search,\n",
        "  - Minimum number of comparisons = $1$\n",
        "  - Maximum number of comparisons = $n$\n",
        "\n",
        "  Therefore, average number of comparisons = $\\frac{(n + 1)}{2}$\n",
        "\n",
        "   As $\\frac{(n + 1)}{2}$ is a linear function of $n$, Thus, the average case efficiency will be expressed as $\\mathcal{O}(n)$.\n",
        "\n",
        "Thus, we have:\n",
        "\n",
        "  **Time Complexity of Linear Search Algorithm is $\\mathcal{O}(n)$**\n",
        "where $n$ is the number of elements in the linear array.\n",
        "\n",
        "In this way, we can determine which algorithm takes more time to run and which algorithm that take less time compared to the other one.\n"
      ]
    },
    {
      "cell_type": "markdown",
      "metadata": {
        "id": "crCDgzwfExsQ"
      },
      "source": [
        "We will stop here. In the next class, we will start learning sorting algorithms in data structures."
      ]
    }
  ]
}