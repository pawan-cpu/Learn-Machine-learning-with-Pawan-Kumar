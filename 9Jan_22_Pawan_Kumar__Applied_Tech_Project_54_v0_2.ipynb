{
  "nbformat": 4,
  "nbformat_minor": 0,
  "metadata": {
    "colab": {
      "name": "9Jan-22_Pawan Kumar_ Applied Tech. Project 54_v0.2",
      "provenance": [],
      "collapsed_sections": [],
      "include_colab_link": true
    },
    "kernelspec": {
      "name": "python3",
      "display_name": "Python 3"
    }
  },
  "cells": [
    {
      "cell_type": "markdown",
      "metadata": {
        "id": "view-in-github",
        "colab_type": "text"
      },
      "source": [
        "<a href=\"https://colab.research.google.com/github/pawan-cpu/Learn-Python-with-Pawan-Kumar/blob/main/9Jan_22_Pawan_Kumar__Applied_Tech_Project_54_v0_2.ipynb\" target=\"_parent\"><img src=\"https://colab.research.google.com/assets/colab-badge.svg\" alt=\"Open In Colab\"/></a>"
      ]
    },
    {
      "cell_type": "markdown",
      "metadata": {
        "id": "UYmMpXkNw9I6"
      },
      "source": [
        "### Instructions"
      ]
    },
    {
      "cell_type": "markdown",
      "metadata": {
        "id": "PaanjkTewd2U"
      },
      "source": [
        "---"
      ]
    },
    {
      "cell_type": "markdown",
      "metadata": {
        "id": "64Zy490qzVsZ"
      },
      "source": [
        "#### Goal of the Project\n",
        "\n",
        "This project is designed for you to practice and solve the activities that are based on the concepts covered in the following lessons:\n",
        "\n",
        " 1. Classes and Objects \n",
        "\n",
        " 2. Inheritance"
      ]
    },
    {
      "cell_type": "markdown",
      "metadata": {
        "id": "8BgExNKi1khe"
      },
      "source": [
        "---"
      ]
    },
    {
      "cell_type": "markdown",
      "metadata": {
        "id": "fKQFPxBA5-a8"
      },
      "source": [
        "#### Getting Started:\n",
        "\n",
        "1. Click on this link to open the Colab file for this project.\n",
        "\n",
        "    https://colab.research.google.com/drive/1IYo2c9R9XgSEY2Ik86h_spkH44p8Daf7\n",
        "\n",
        "2. Create a duplicate copy of the Colab file as described below.\n",
        "\n",
        "  - Click on the **File menu**. A new drop-down list will appear.\n",
        "\n",
        "   <img src='https://student-datasets-bucket.s3.ap-south-1.amazonaws.com/images/lesson-0/0_file_menu.png' width=500>\n",
        "\n",
        "  - Click on the **Save a copy in Drive** option. A duplicate copy will get created. It will open up in the new tab on your web browser.\n",
        "\n",
        "  <img src='https://student-datasets-bucket.s3.ap-south-1.amazonaws.com/images/lesson-0/1_create_colab_duplicate_copy.png' width=500>\n",
        "\n",
        "3. After creating the duplicate copy of the notebook, please rename it in the **YYYY-MM-DD_StudentName_Project54** format.\n",
        "\n",
        "4. Now, write your code in the prescribed code cells.\n"
      ]
    },
    {
      "cell_type": "markdown",
      "metadata": {
        "id": "j0pZodG06HCD"
      },
      "source": [
        "---"
      ]
    },
    {
      "cell_type": "markdown",
      "metadata": {
        "id": "2i36Yv3-MPY5"
      },
      "source": [
        "### Problem Statement \n",
        "\n",
        "\n",
        "From the stone age till the electronic age we have used numerous ways of distance communication, one of them being **Mail Service**.\n",
        "\n",
        "Let's say you are building a Mailing Service Application which will allow you to send mails. These mails can be emails, physical mails, fax, etc.\n",
        "\n",
        "Every mail will have four things in common: \n",
        "1. Sender’s Address\n",
        "2. Receiver’s Address\n",
        "3. Subject\n",
        "4. Message \n",
        "\n",
        "Every type of mail possess some unique attributes like:\n",
        "* In a courier, you need the weight of the parcel.\n",
        "* In an email, you may have an Attachment.\n",
        "\n",
        "Let's build this application using Inheritance. "
      ]
    },
    {
      "cell_type": "markdown",
      "metadata": {
        "id": "vYChcL-WMRFV"
      },
      "source": [
        "---"
      ]
    },
    {
      "cell_type": "markdown",
      "metadata": {
        "id": "toeLx5LJpIV-"
      },
      "source": [
        "### List of Activities\n",
        "\n",
        "**Activity 1:** Create a parent class `Mail`.\n",
        "\n",
        "  \n",
        "**Activity 2:** Create an object of the class `Mail`\n",
        "\n",
        "**Activity 3:** Create a child class `Post` which inherits from the parent class `Mail`.\n",
        "\n",
        "**Activity 4:** Create a child class `Email ` which inherits from its parent class `Mail`.\n"
      ]
    },
    {
      "cell_type": "markdown",
      "metadata": {
        "id": "5JRlGIBRqCGl"
      },
      "source": [
        "---"
      ]
    },
    {
      "cell_type": "markdown",
      "metadata": {
        "id": "j5RcICzZlJeZ"
      },
      "source": [
        "#### Activity 1: Create Parent Class `Mail`\n",
        "\n",
        "\n",
        "1. Create a class `Mail`. The constructor of this class must initialise the following variables:\n",
        "\n",
        " - `sender_add`: Address of the sender.\n",
        "\n",
        " - `receiver_add`: Address of the receiver.\n",
        "\n",
        " - `subject`: Context of the mail.\n",
        "\n",
        " - `message`: Message which needs to be communicated.\n",
        "\n",
        "\n",
        "2. Create a `__repr__()` function to print the above variables in a format as given in the example below:\n",
        "\n",
        "```\n",
        "To:     \tPrime Minister\n",
        "From:   \tState Minister\n",
        "Subject:\tHealth Policy\n",
        "Message:\tThis is regarding the Health Policy 2020\n",
        "```\n"
      ]
    },
    {
      "cell_type": "code",
      "metadata": {
        "id": "6RL71w3ntzcH"
      },
      "source": [
        "#  Create class 'Mail'. Add constructor \n",
        "class Mail:\n",
        "  def __init__(self, sender_add, receiver_add, subject, message):\n",
        "    self.sender_add= sender_add\n",
        "    self.receiver_add= receiver_add\n",
        "    self.subject= subject\n",
        "    self.message= message\n",
        "    \n",
        "\n",
        "      \n",
        "  # Create a __repr__ to return the properties of a mail\n",
        "  def __repr__(self):\n",
        "    return f\"\"\"To:         {self.receiver_add}\n",
        "  From:       {self.sender_add}\n",
        "  Subject:    {self.subject}\n",
        "  Message:    {self.message}\"\"\"\n",
        "\n"
      ],
      "execution_count": null,
      "outputs": []
    },
    {
      "cell_type": "markdown",
      "metadata": {
        "id": "RETr5Tv1JBls"
      },
      "source": [
        "---"
      ]
    },
    {
      "cell_type": "markdown",
      "metadata": {
        "id": "z1v1uCgTXOj0"
      },
      "source": [
        "#### Activity 2: Create an Object of `Mail` Class\n",
        "\n",
        "Create an object of `Mail` class and display the attributes  using the object"
      ]
    },
    {
      "cell_type": "code",
      "metadata": {
        "id": "cHEBBL8JOymV",
        "colab": {
          "base_uri": "https://localhost:8080/"
        },
        "outputId": "a8b9e77f-c77b-4976-fb55-f4663659826d"
      },
      "source": [
        "# Create an object of 'Mail' class and print its properties\n",
        "mail1= Mail('State Minister','Prime Minister','Health Policy','This is regarding the Health Policy 2020')\n",
        "print(mail1)"
      ],
      "execution_count": null,
      "outputs": [
        {
          "output_type": "stream",
          "name": "stdout",
          "text": [
            "To:         Prime Minister\n",
            "  From:       State Minister\n",
            "  Subject:    Health Policy\n",
            "  Message:    This is regarding the Health Policy 2020\n"
          ]
        }
      ]
    },
    {
      "cell_type": "markdown",
      "metadata": {
        "id": "TjVfq3s_G8Z8"
      },
      "source": [
        "---"
      ]
    },
    {
      "cell_type": "markdown",
      "metadata": {
        "id": "J2x0URlDJrZH"
      },
      "source": [
        "#### Activity 3: Create a Child Class `Post`\n",
        "\n",
        "\n",
        "1. Create a child class `Post` which inherits from the parent class `Mail`. In addition to the properties of the parent class, the constructor of this class must initialise the following properties:\n",
        "\n",
        "  - `mode_of_transit`: Transport method. It can have only one of the three values:\n",
        "\n",
        "     * Waterways\n",
        "     * Roadways\n",
        "     * Airways\n",
        "\n",
        "  - `delivery_time`: Time taken to deliver the post. It is initially set to `None`.\n",
        "\n",
        "  \n",
        "2. Create the following function inside the child class:\n",
        "\n",
        "  -  `calculate_delivery_time()`: This function determines the `delivery_time` based on the following conditions:\n",
        "\n",
        "     * If `mode_of_transit` is Airways, then `delivery_time` will be \"In 5 working days\".\n",
        "     * If `mode_of_transit` is Roadways, then `delivery_time` will be \"In 15 working days\".\n",
        "     * If `mode_of_transit` is Waterways, then `delivery_time` will be \"In 10-15 working days\".\n",
        "\n",
        "      .\n",
        "\n",
        "  - Create a `__repr__()` function to print the message in a format as given in the example below:\n",
        "```\n",
        "To:     \t      Prime Minister\n",
        "From:   \t      State Minister\n",
        "Subject:\t      Health Policy\n",
        "Message:\t      This is regarding the Health Policy 2020\n",
        "Transit Mode: \tAirways\n",
        "Delivery Time: \tIn 5 working days\n",
        "```\n",
        "3. Create an object of this class and pass the desired values as parameters to its constructor."
      ]
    },
    {
      "cell_type": "code",
      "metadata": {
        "id": "IjwoVwylMHpY"
      },
      "source": [
        "# Create child class 'Post' of the parent class 'Mail' and create the object of the child class and determine the delivery time\n",
        "class Post(Mail):\n",
        "      def __init__(self, sender_add, receiver_add, subject, message,mode_of_transit):\n",
        "          Mail. __init__(self, sender_add, receiver_add, subject, message)\n",
        "          self.mode_of_transit = mode_of_transit\n",
        "          self.delivery_time=None\n",
        "          \n",
        "      def calculate_delivery_time(self):\n",
        "        if self.mode_of_transit==\"Airways\":\n",
        "          self.delivery_time =\"In 5 working days\"\n",
        "        elif self.mode_of_transit==\"Roadways\":\n",
        "          self.delivery_time =\"In 15 working days\"\n",
        "        else:\n",
        "          self.delivery_time =\"In 10 - 15 working days\"\n",
        "\n",
        "\n",
        "\n",
        "\n",
        "\n",
        "      def __repr__(self):\n",
        "        return f\"\"\"To:         {self.receiver_add}\n",
        "      From:       {self.sender_add}\n",
        "      Subject:    {self.subject}\n",
        "      Message:    {self.message}\n",
        "      Transit Mode:     {self.mode_of_transit}\n",
        "      Delivery Time:     {self.delivery_time}\"\"\""
      ],
      "execution_count": null,
      "outputs": []
    },
    {
      "cell_type": "code",
      "source": [
        "post1 = Post(\"Prime Minister\" , \"state minister\" , \"health policy\" , \"This is regarding the Health Policy 2020\" , \"Airways\")\n",
        "post1.calculate_delivery_time()\n",
        "print(post1)"
      ],
      "metadata": {
        "colab": {
          "base_uri": "https://localhost:8080/"
        },
        "id": "_WRPGrnXmZ00",
        "outputId": "9e4f6fb0-e7df-41e6-d76f-2577cff57bc5"
      },
      "execution_count": null,
      "outputs": [
        {
          "output_type": "stream",
          "name": "stdout",
          "text": [
            "To:         state minister\n",
            "      From:       Prime Minister\n",
            "      Subject:    health policy\n",
            "      Message:    This is regarding the Health Policy 2020\n",
            "      Transit Mode:     Airways\n",
            "      Delivery Time:     In 5 working days\n"
          ]
        }
      ]
    },
    {
      "cell_type": "markdown",
      "metadata": {
        "id": "lBZS4GAudWGJ"
      },
      "source": [
        "---"
      ]
    },
    {
      "cell_type": "markdown",
      "metadata": {
        "id": "gvjSeGubj4X5"
      },
      "source": [
        "#### Activity 4: Create a Child Class `Email`\n",
        "\n",
        "\n",
        "1. Create a child class `Email` which inherits from the parent class `Mail`. In addition to the properties of the parent class, the constructor of this class must initialise the following properties:\n",
        "\n",
        "  - `status`: The status of the sent email. It can have any one of the following values:\n",
        "  \n",
        "    * Draft\n",
        "    * Sent\n",
        "\n",
        " \n",
        "\n",
        "  \n",
        "2. Create the following functions inside the child class:\n",
        "\n",
        "  - `update_message()`: A function which will update the `message` variable. If the `status` of the email is `Draft`, then update the `message` variable with the new message passed as a parameter to this function else print **\"Message already sent. Update not possible\"**\n",
        "\n",
        " 2. Create a `__repr__()` function to print the message in a format as given in the example below:\n",
        "```\n",
        "To:     \tPrime Minister\n",
        "From:   \tState Minister\n",
        "Subject:\tHealth Policy\n",
        "Message:\tPolicy 2020\n",
        "Status: \tDraft\n",
        "```\n",
        "3. Create an object of this class and pass the desired values as parameters to its constructor."
      ]
    },
    {
      "cell_type": "code",
      "metadata": {
        "id": "fhZrarNohg47"
      },
      "source": [
        "# Create child class 'Email' of the parent class 'Mail'. Create the object of the child class and update an existing draft.\n",
        "class Email(Mail):\n",
        "\n",
        "    def __init__(self,sender_add,receiver_add,subject,message,Status):\n",
        "          Mail. __init__(self, sender_add, receiver_add, subject, message)\n",
        "          self.Status = Status\n",
        "          \n",
        "          \n",
        "    def update_message(self,new_message):\n",
        "          if self.Status == \"Draft\":\n",
        "                self.message = new_message\n",
        "          else:\n",
        "                print(\"Message already sent. Update not possible\")\n",
        "        \n",
        "    def __repr__(self):\n",
        "\n",
        "          return f\"\"\"To:         {self.receiver_add}\n",
        "      From:       {self.sender_add}\n",
        "      Subject:    {self.subject}\n",
        "      Message:    {self.message}\n",
        "      \n",
        "      Status:     {self.Status}\"\"\""
      ],
      "execution_count": null,
      "outputs": []
    },
    {
      "cell_type": "code",
      "source": [
        "email1 = Email(\"State Minister\", \"Prime Minister\", \"Health Policy\", \"This is regarding the Health Policy 2020\",\"Draft\")\n",
        "\n",
        "email1.update_message(\"policy\")\n",
        "print(email1)"
      ],
      "metadata": {
        "colab": {
          "base_uri": "https://localhost:8080/"
        },
        "id": "yH8XR8xssXEG",
        "outputId": "aa9985d5-28f0-454d-d16f-23b80ff472e3"
      },
      "execution_count": null,
      "outputs": [
        {
          "output_type": "stream",
          "name": "stdout",
          "text": [
            "To:         Prime Minister\n",
            "      From:       State Minister\n",
            "      Subject:    Health Policy\n",
            "      Message:    policy\n",
            "      \n",
            "      Status:     Draft\n"
          ]
        }
      ]
    },
    {
      "cell_type": "markdown",
      "metadata": {
        "id": "RUsA5NIJatRo"
      },
      "source": [
        "---"
      ]
    },
    {
      "cell_type": "markdown",
      "metadata": {
        "id": "rWgBs2kh6K-O"
      },
      "source": [
        "### Submitting the Project:\n",
        "\n",
        "1. After finishing the project, click on the **Share** button on the top right corner of the notebook. A new dialog box will appear.\n",
        "\n",
        "  <img src='https://student-datasets-bucket.s3.ap-south-1.amazonaws.com/images/project-share-images/2_share_button.png' width=500>\n",
        "\n",
        "2. In the dialog box, make sure that '**Anyone on the Internet with this link can view**' option is selected and then click on the **Copy link** button.\n",
        "\n",
        "   <img src='https://student-datasets-bucket.s3.ap-south-1.amazonaws.com/images/project-share-images/3_copy_link.png' width=500>\n",
        "\n",
        "3. The link of the duplicate copy (named as **YYYY-MM-DD_StudentName_Project54**) of the notebook will get copied \n",
        "\n",
        "   <img src='https://student-datasets-bucket.s3.ap-south-1.amazonaws.com/images/project-share-images/4_copy_link_confirmation.png' width=500>\n",
        "\n",
        "4. Go to your dashboard and click on the **My Projects** option.\n",
        "   \n",
        "   <img src='https://student-datasets-bucket.s3.ap-south-1.amazonaws.com/images/project-share-images/5_student_dashboard.png' width=800>\n",
        "\n",
        "  <img src='https://student-datasets-bucket.s3.ap-south-1.amazonaws.com/images/project-share-images/6_my_projects.png' width=800>\n",
        "\n",
        "5. Click on the **View Project** button for the project you want to submit.\n",
        "\n",
        "   <img src='https://student-datasets-bucket.s3.ap-south-1.amazonaws.com/images/project-share-images/7_view_project.png' width=800>\n",
        "\n",
        "6. Click on the **Submit Project Here** button.\n",
        "\n",
        "   <img src='https://student-datasets-bucket.s3.ap-south-1.amazonaws.com/images/project-share-images/8_submit_project.png' width=800>\n",
        "\n",
        "7. Paste the link to the project file named as **YYYY-MM-DD_StudentName_Project54** in the URL box and then click on the **Submit** button.\n",
        "\n",
        "   <img src='https://student-datasets-bucket.s3.ap-south-1.amazonaws.com/images/project-share-images/9_enter_project_url.png' width=800> "
      ]
    },
    {
      "cell_type": "markdown",
      "metadata": {
        "id": "dH4YudMy6RgC"
      },
      "source": [
        "---"
      ]
    }
  ]
}