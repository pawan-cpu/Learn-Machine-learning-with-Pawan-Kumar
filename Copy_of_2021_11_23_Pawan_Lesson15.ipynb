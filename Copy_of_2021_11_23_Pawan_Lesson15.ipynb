{
  "nbformat": 4,
  "nbformat_minor": 0,
  "metadata": {
    "colab": {
      "name": "Copy of 2021-11-23-Pawan-Lesson15",
      "provenance": [],
      "collapsed_sections": [],
      "include_colab_link": true
    },
    "kernelspec": {
      "name": "python3",
      "display_name": "Python 3"
    }
  },
  "cells": [
    {
      "cell_type": "markdown",
      "metadata": {
        "id": "view-in-github",
        "colab_type": "text"
      },
      "source": [
        "<a href=\"https://colab.research.google.com/github/pawan-cpu/Learn-Python-with-Pawan-Kumar/blob/main/Copy_of_2021_11_23_Pawan_Lesson15.ipynb\" target=\"_parent\"><img src=\"https://colab.research.google.com/assets/colab-badge.svg\" alt=\"Open In Colab\"/></a>"
      ]
    },
    {
      "cell_type": "markdown",
      "metadata": {
        "id": "7LlG_PPFjJUz"
      },
      "source": [
        "# Lesson 15: NumPy Arrays II\n"
      ]
    },
    {
      "cell_type": "markdown",
      "metadata": {
        "id": "2EIUxlofnO_G"
      },
      "source": [
        "---"
      ]
    },
    {
      "cell_type": "markdown",
      "metadata": {
        "id": "3rJJF2_hNmmS"
      },
      "source": [
        "### Teacher-Student Tasks\n",
        "\n",
        "In the previous lesson, we learned how to create Claude Shannon's Mind Reader game algorithm which can make accurate predictions. \n",
        "\n",
        "In this lesson, we are going to learn a few of the mathematical operations that can be done on a NumPy array. We will also compare the performance of a NumPy array with a Python list."
      ]
    },
    {
      "cell_type": "markdown",
      "metadata": {
        "id": "IFaexN7T8zWE"
      },
      "source": [
        "---"
      ]
    },
    {
      "cell_type": "markdown",
      "metadata": {
        "id": "dsf9vA3JEQEa"
      },
      "source": [
        "#### Problem Statement\n",
        "\n",
        "\n",
        "Consider that you are a smartphone retailer and you have few smartphones in your inventory.\n",
        "\n",
        "|Smartphone Model|Price (INR)|# Units Available|\n",
        "|-|-|-|\n",
        "|Samsung Galaxy M30S|\t13999|\t9|\n",
        "Realme C2| 6298| 8|\n",
        "Xiaomi Redmi Note 7 Pro| 10999| 9|\n",
        "Xiaomi Redmi Note 8 Pro| 14999| 9|\n",
        "Realme C2 3GB RAM| 7298| 8|\n",
        "Realme C2 2GB RAM | 6385| 8|\n",
        "Realme 5| 8999| 9|\n",
        "Xiaomi Redmi Note 7S 64GB| 9999| 6|\n",
        "Xiaomi Redmi Note 8| 9999| 5|\n",
        "Vivo Z1 Pro| 13868| 7|\n",
        "\n",
        "Suppose you decided to do some analysis of your inventory. In the process, you want to find answers to the following questions:\n",
        "\n",
        "1. What is the total monetary value of the inventory?\n",
        "\n",
        "2. What is the average (or mean) price of a smartphone?\n",
        "\n",
        "3. What is the price of the cheapest smartphone in the inventory?\n",
        "\n",
        "4. What is the price of the most expensive smartphone in the inventory?\n",
        "\n",
        "5. What is the median price of a smartphone? \n",
        "\n",
        "6. What is the most commonly occurring price of a smartphone?"
      ]
    },
    {
      "cell_type": "markdown",
      "metadata": {
        "id": "b9bSGj5mEa12"
      },
      "source": [
        "---"
      ]
    },
    {
      "cell_type": "markdown",
      "metadata": {
        "id": "qkZj_ZVTiHz9"
      },
      "source": [
        "#### Task 1: Descriptive Statistics\n",
        "\n",
        "Using NumPy arrays, we can easily do some statistical calculations.\n",
        "\n",
        "\n",
        "You can answer all questions mentioned in the above problem statement in a few seconds by creating NumPy arrays and by applying the `sum(), mean(), median(), min()`, and `max()` functions.\n",
        "\n",
        "**Note**: A median value is a middle value in an array when the values are arranged in increasing order. Consider the five numbers `6, 1 , 5, 32,` and `13`.\n",
        "\n",
        "**How to find the median value?**\n",
        "\n",
        "To find the median value, follow two steps:\n",
        "\n",
        "1. First, arrange all the numbers in increasing order, i.e., `1, 5, 6, 13, 32`.\n",
        "\n",
        "2. Look for the middle value which in this case is `6`. So, the required median value is `6`.\n",
        "\n",
        "In general, let $n$ be the number of numbers in a set. \n",
        "\n",
        "1. If $n$ is odd, the median value lies at the \n",
        "$\\left(\\frac{n + 1}{2}\\right)^{th}$ \n",
        "position after arranging the numbers in ascending order.\n",
        "\n",
        "2. If $n$ is even, the median value is the mean (or average) of the values at the \n",
        "$\\left(\\frac{n}{2}\\right)^{th}$ \n",
        "and \n",
        "$\\left(\\frac{n}{2} + 1\\right)^{th}$ \n",
        "positions.\n",
        "\n",
        "Let's say we want to find the median of the numbers `34, 12, 8, 7, 21, 19`.\n",
        "\n",
        "1. First, arrange the numbers in increasing order, i.e., `7, 8, 12, 19, 21, 24`.\n",
        "\n",
        "2. There are 6 numbers, so the middle values are `12` and `19`. Their mean (or average) is \n",
        "$\\frac{12+19}{2}$ \n",
        "`= 15.5`.\n",
        "So, the required median value is `15.5`\n",
        "\n",
        "Let's first create a NumPy array for the phone data given above, then find the answers to these questions one-by-one:\n"
      ]
    },
    {
      "cell_type": "code",
      "metadata": {
        "id": "t8FrljUgoUTQ"
      },
      "source": [
        "# S1.1: Create two NumPy arrays: one for the smartphone prices and another for the number of units available.\n",
        "import numpy as np\n",
        "prices=np.array([13999,6298,10999,14999,7298,6385,8999,9999,9999,13868])\n",
        "units=np.array([9,8,9,9,8,8,9,6,5,7])"
      ],
      "execution_count": null,
      "outputs": []
    },
    {
      "cell_type": "markdown",
      "metadata": {
        "id": "ljuEdRWDp41V"
      },
      "source": [
        "Now, let's answer the first question. To find the total monetary value of the inventory, you have to multiply each smartphone price with its corresponding number of units available and then add all the products of the multiplications.\n",
        "\n",
        "The total monetary value will be: \n",
        "\n",
        "$M = p_1 \\times u_1 + p_2 \\times u_2 + p_3 \\times u_3 + \\dots + p_n \\times u_n$\n",
        "\n",
        "Where,\n",
        "\n",
        "- $M$: The total monetary value.\n",
        "- $p$: The price of a smartphone.\n",
        "- $u$: The number of units available.\n",
        "- $n$: The varieties of smartphones.\n",
        "\n",
        "Therefore, we have to multiply the `prices` array values with the `units_available` array values to get a new array containing total prices for each smartphone. Then using the `sum()` function, we will add all the values of the new array:"
      ]
    },
    {
      "cell_type": "code",
      "metadata": {
        "id": "Wwjrkh75pDQZ",
        "colab": {
          "base_uri": "https://localhost:8080/"
        },
        "outputId": "ce3c37b1-e889-4b5a-8cbe-9568b45f67e2"
      },
      "source": [
        "# S1.2: Compute the total monetary value of the inventory.\n",
        "total_price=prices*units\n",
        "print(total_price)\n",
        "monetary_value=np.sum(total_price)\n",
        "print(monetary_value)\n",
        "# Create an array containing total price for each smartphone.\n",
        "\n",
        "\n",
        "# Calculate the total monetary value.\n"
      ],
      "execution_count": null,
      "outputs": [
        {
          "output_type": "stream",
          "name": "stdout",
          "text": [
            "[125991  50384  98991 134991  58384  51080  80991  59994  49995  97076]\n",
            "807877\n"
          ]
        }
      ]
    },
    {
      "cell_type": "markdown",
      "metadata": {
        "id": "1PF75230rVO_"
      },
      "source": [
        "**Note:** We cannot add, subtract, multiply, and divide two Python lists like NumPy arrays.\n",
        "\n",
        "Now, using the `mean()` function, compute the average price of a smartphone:"
      ]
    },
    {
      "cell_type": "code",
      "metadata": {
        "id": "HOVg5kWlsLyO",
        "colab": {
          "base_uri": "https://localhost:8080/"
        },
        "outputId": "d4a02e85-5035-49c2-e392-04dc912fc34a"
      },
      "source": [
        "# S1.3: Compute the average price of a smartphone.\n",
        "np.mean(prices)"
      ],
      "execution_count": null,
      "outputs": [
        {
          "output_type": "execute_result",
          "data": {
            "text/plain": [
              "10284.3"
            ]
          },
          "metadata": {},
          "execution_count": 4
        }
      ]
    },
    {
      "cell_type": "markdown",
      "metadata": {
        "id": "RKjJufyVsYU2"
      },
      "source": [
        "Now, using the `min()` function, compute the price of the cheapest smartphone:"
      ]
    },
    {
      "cell_type": "code",
      "metadata": {
        "id": "5Owx2KmysuPk",
        "colab": {
          "base_uri": "https://localhost:8080/"
        },
        "outputId": "efb5f7ef-ffb7-401a-b749-9110ae292af3"
      },
      "source": [
        "# S1.4: Using the 'min()' function, compute the lowest price of a smartphone.\n",
        "np.min(prices)"
      ],
      "execution_count": null,
      "outputs": [
        {
          "output_type": "execute_result",
          "data": {
            "text/plain": [
              "6298"
            ]
          },
          "metadata": {},
          "execution_count": 5
        }
      ]
    },
    {
      "cell_type": "markdown",
      "metadata": {
        "id": "dTC1iDGvs5sc"
      },
      "source": [
        "Now, using the `max()` function, compute the price of the expensive smartphone:"
      ]
    },
    {
      "cell_type": "code",
      "metadata": {
        "id": "XK4SfK97tCSa",
        "colab": {
          "base_uri": "https://localhost:8080/"
        },
        "outputId": "e2880e6e-1f3e-44c9-c96c-1c8f5545bb84"
      },
      "source": [
        "# S1.5: Using the 'max()' function, compute the highest price of a smartphone.\n",
        "np.max(prices)"
      ],
      "execution_count": null,
      "outputs": [
        {
          "output_type": "execute_result",
          "data": {
            "text/plain": [
              "14999"
            ]
          },
          "metadata": {},
          "execution_count": 6
        }
      ]
    },
    {
      "cell_type": "markdown",
      "metadata": {
        "id": "O6PyAgR4tK0P"
      },
      "source": [
        "Now, using the `median()` function, compute the median price of a smartphone:"
      ]
    },
    {
      "cell_type": "code",
      "metadata": {
        "id": "q-7oX4kOtSSe",
        "colab": {
          "base_uri": "https://localhost:8080/"
        },
        "outputId": "30984205-7436-40c6-99d8-10259fb91e42"
      },
      "source": [
        "# S1.6: Using the 'median()' function, compute the median price of a smartphone.\n",
        "np.median(prices)"
      ],
      "execution_count": null,
      "outputs": [
        {
          "output_type": "execute_result",
          "data": {
            "text/plain": [
              "9999.0"
            ]
          },
          "metadata": {},
          "execution_count": 7
        }
      ]
    },
    {
      "cell_type": "markdown",
      "metadata": {
        "id": "d64CX_uctqpC"
      },
      "source": [
        "Now, let's compute the most commonly occurring price of a smartphone. If you look at the dataset, the most commonly occurring price is `9999` because it occurs twice. The rest of the prices occur only once.\n",
        "\n",
        "The value which occurs the most number of times is called the **modal** value or simply **mode**. \n",
        "\n",
        "Unfortunately, the `numpy` module does not have a function to calculate the modal value. So, either we can create our function which is a very complicated process or we can use the `mode()` function from the `scipy` library.\n",
        "\n",
        "For the time being, we will choose the second option. At the end of the class, we will create our version of the `mode()` function.\n",
        "\n",
        "In the `scipy` library, there is a module called `stats` which contains the `mode()` function. So we have to import the `stats` module from the `scipy` library."
      ]
    },
    {
      "cell_type": "code",
      "metadata": {
        "id": "YwAgYtduxJXq",
        "colab": {
          "base_uri": "https://localhost:8080/"
        },
        "outputId": "a36e66da-8fb0-4fe6-92f9-cde56e75ce40"
      },
      "source": [
        "# S1.7: Compute the modal value using the 'mode()' function from the 'scipy.stats' module.\n",
        "from scipy import stats\n",
        "stats.mode(prices)"
      ],
      "execution_count": null,
      "outputs": [
        {
          "output_type": "execute_result",
          "data": {
            "text/plain": [
              "ModeResult(mode=array([9999]), count=array([2]))"
            ]
          },
          "metadata": {},
          "execution_count": 8
        }
      ]
    },
    {
      "cell_type": "markdown",
      "metadata": {
        "id": "5qUdoLwT0uxW"
      },
      "source": [
        "In the output, you can see that `9999` is the modal value and it occurs twice in the `prices` array.\n",
        "\n",
        "**Note:** `from library_name import module_name` is another way of importing a module. It is also standard practice."
      ]
    },
    {
      "cell_type": "markdown",
      "metadata": {
        "id": "2doxkX1qyC9S"
      },
      "source": [
        "---"
      ]
    },
    {
      "cell_type": "markdown",
      "metadata": {
        "id": "wtaOw65FDEGk"
      },
      "source": [
        "#### Task 2: Few More Operations on a NumPy Array\n",
        "\n",
        "Performing mathematical operations on a NumPy array is easier compared to a Python list.\n",
        "\n",
        "Let's say you have a NumPy array with radii of 20 circles and want to compute the area of every circle. Then you can simply use the double-asterisk (`**`) operator on the NumPy array to square the values. Then multiply the NumPy array with `pi`.\n",
        "\n",
        "**Note:** The area of a circle with the radius \n",
        "$r$ \n",
        "is \n",
        "$\\pi r^{2}$."
      ]
    },
    {
      "cell_type": "code",
      "metadata": {
        "id": "vxc4TQw2DyBP",
        "colab": {
          "base_uri": "https://localhost:8080/"
        },
        "outputId": "9474307b-9eb4-4d00-a0be-004b2d3f4132"
      },
      "source": [
        "# S2.1: Square the values in a numpy array.\n",
        "import random\n",
        "\n",
        "\n",
        "# 1. First create a Python list having radii of 20 circles where each radii is a random number from 1 to 10.\n",
        "radii=[random.randint(1,10) for i in range(1,20)]\n",
        "print(radii)\n",
        "\n",
        "# 2. Convert the list into a NumPy array using the 'array()' function.\n",
        "np_radii=np.array(radii)\n",
        "print(np_radii)\n",
        "\n",
        "# 3. Square the elements of NumPy array using the exponent (**) operator. Use can use the 'np.pi' keyword to get the value of 'pi'.\n",
        "np_area=np.pi*(np_radii**2)\n",
        "print(np_area)"
      ],
      "execution_count": null,
      "outputs": [
        {
          "output_type": "stream",
          "name": "stdout",
          "text": [
            "[7, 3, 6, 2, 8, 3, 4, 1, 2, 8, 6, 10, 7, 5, 4, 7, 7, 8, 5]\n",
            "[ 7  3  6  2  8  3  4  1  2  8  6 10  7  5  4  7  7  8  5]\n",
            "[153.93804003  28.27433388 113.09733553  12.56637061 201.06192983\n",
            "  28.27433388  50.26548246   3.14159265  12.56637061 201.06192983\n",
            " 113.09733553 314.15926536 153.93804003  78.53981634  50.26548246\n",
            " 153.93804003 153.93804003 201.06192983  78.53981634]\n"
          ]
        }
      ]
    },
    {
      "cell_type": "markdown",
      "metadata": {
        "id": "TrpQfzfkFd4N"
      },
      "source": [
        "Notice that when you print the values of a NumPy array (in this case `np_radii`) using the `print()` function, the items of the NumPy array are not separated by a comma in the output. For all practical purposes, this is just a different behavior of a NumPy array. Do not worry about it.\n",
        "\n",
        "If you try to square the radii values stored in a Python list using the same process, then Python will throw the `TypeError` error."
      ]
    },
    {
      "cell_type": "code",
      "metadata": {
        "id": "ooklQ4d-Fk4b",
        "colab": {
          "base_uri": "https://localhost:8080/",
          "height": 181
        },
        "outputId": "e49361c6-bfaa-4fda-dc9f-fdbe53e9b37e"
      },
      "source": [
        "# S2.2: Directly apply the exponent (**) operator on a Python list. \n",
        "radii**2"
      ],
      "execution_count": null,
      "outputs": [
        {
          "output_type": "error",
          "ename": "TypeError",
          "evalue": "ignored",
          "traceback": [
            "\u001b[0;31m---------------------------------------------------------------------------\u001b[0m",
            "\u001b[0;31mTypeError\u001b[0m                                 Traceback (most recent call last)",
            "\u001b[0;32m<ipython-input-10-9b39a18ec1a5>\u001b[0m in \u001b[0;36m<module>\u001b[0;34m()\u001b[0m\n\u001b[1;32m      1\u001b[0m \u001b[0;31m# S2.2: Directly apply the exponent (**) operator on a Python list.\u001b[0m\u001b[0;34m\u001b[0m\u001b[0;34m\u001b[0m\u001b[0;34m\u001b[0m\u001b[0m\n\u001b[0;32m----> 2\u001b[0;31m \u001b[0mradii\u001b[0m\u001b[0;34m**\u001b[0m\u001b[0;36m2\u001b[0m\u001b[0;34m\u001b[0m\u001b[0;34m\u001b[0m\u001b[0m\n\u001b[0m",
            "\u001b[0;31mTypeError\u001b[0m: unsupported operand type(s) for ** or pow(): 'list' and 'int'"
          ]
        }
      ]
    },
    {
      "cell_type": "markdown",
      "metadata": {
        "id": "oorQuIB_wbFp"
      },
      "source": [
        "Even if you simply multiply a list containing numeric values with a floating-point number, then also Python will throw the `TypeError` error"
      ]
    },
    {
      "cell_type": "code",
      "metadata": {
        "id": "unq5Iqlbv94k",
        "colab": {
          "base_uri": "https://localhost:8080/",
          "height": 181
        },
        "outputId": "e9656fde-6176-4c13-8a2b-fa3175fe3817"
      },
      "source": [
        "# S2.3: Directly multiply a Python list with a number.\n",
        "3.14*radii"
      ],
      "execution_count": null,
      "outputs": [
        {
          "output_type": "error",
          "ename": "TypeError",
          "evalue": "ignored",
          "traceback": [
            "\u001b[0;31m---------------------------------------------------------------------------\u001b[0m",
            "\u001b[0;31mTypeError\u001b[0m                                 Traceback (most recent call last)",
            "\u001b[0;32m<ipython-input-11-338f1e6ff355>\u001b[0m in \u001b[0;36m<module>\u001b[0;34m()\u001b[0m\n\u001b[1;32m      1\u001b[0m \u001b[0;31m# S2.3: Directly multiply a Python list with a number.\u001b[0m\u001b[0;34m\u001b[0m\u001b[0;34m\u001b[0m\u001b[0;34m\u001b[0m\u001b[0m\n\u001b[0;32m----> 2\u001b[0;31m \u001b[0;36m3.14\u001b[0m\u001b[0;34m*\u001b[0m\u001b[0mradii\u001b[0m\u001b[0;34m\u001b[0m\u001b[0;34m\u001b[0m\u001b[0m\n\u001b[0m",
            "\u001b[0;31mTypeError\u001b[0m: can't multiply sequence by non-int of type 'float'"
          ]
        }
      ]
    },
    {
      "cell_type": "markdown",
      "metadata": {
        "id": "-TcTxsAKFpOb"
      },
      "source": [
        "To find the area of the circles whose radii are stored in a Python list, you will have to use a `for` loop:"
      ]
    },
    {
      "cell_type": "code",
      "metadata": {
        "id": "xAZOdQ-AF1Mt",
        "colab": {
          "base_uri": "https://localhost:8080/"
        },
        "outputId": "5667f734-0133-48f3-b9f8-040af2230500"
      },
      "source": [
        "# S2.4: Square all the items in a Python list.\n",
        "for i in radii:\n",
        "  print(np.pi*(i**2))"
      ],
      "execution_count": null,
      "outputs": [
        {
          "output_type": "stream",
          "name": "stdout",
          "text": [
            "153.93804002589985\n",
            "28.274333882308138\n",
            "113.09733552923255\n",
            "12.566370614359172\n",
            "201.06192982974676\n",
            "28.274333882308138\n",
            "50.26548245743669\n",
            "3.141592653589793\n",
            "12.566370614359172\n",
            "201.06192982974676\n",
            "113.09733552923255\n",
            "314.1592653589793\n",
            "153.93804002589985\n",
            "78.53981633974483\n",
            "50.26548245743669\n",
            "153.93804002589985\n",
            "153.93804002589985\n",
            "201.06192982974676\n",
            "78.53981633974483\n"
          ]
        }
      ]
    },
    {
      "cell_type": "markdown",
      "metadata": {
        "id": "5aXQrRkz6K0r"
      },
      "source": [
        "Now, using the same approach, you create two NumPy arrays: \n",
        "1. NumPy array having radii (numbers from `1` to `10`) of `10` cylinders.\n",
        "2. NumPy array having their corresponding heights (numbers from `11` to `20`).\n",
        "\n",
        "**Note:** The volume of a cylinder is \n",
        "$\\pi r^{2}h$\n",
        ", where \n",
        "$h$ \n",
        "is height of the cylinder and \n",
        "$r$ \n",
        "is the radius of the cylinder."
      ]
    },
    {
      "cell_type": "code",
      "metadata": {
        "id": "VegrJMaAhoJv",
        "colab": {
          "base_uri": "https://localhost:8080/"
        },
        "outputId": "2b4ef6e9-d276-48bb-89a5-fb2ffbba7cc5"
      },
      "source": [
        "# S2.5: Create two NumPy arrays. One having a radii of 10 cylinders and another having their corresponding heights.\n",
        "# Compute the volume of the 10 cylinders by multiplying the NumPy arrays and store the new NumPy array in the new variable.\n",
        "cylinder_rad=np.arange(1,11)\n",
        "cylinder_height=np.arange(11,21)\n",
        "volume=np.pi*(cylinder_rad**2)*cylinder_height\n",
        "print(volume)"
      ],
      "execution_count": null,
      "outputs": [
        {
          "output_type": "stream",
          "name": "stdout",
          "text": [
            "[  34.55751919  150.79644737  367.56634047  703.7167544  1178.0972451\n",
            " 1809.55736847 2616.94668044 3619.11473694 4834.91109387 6283.18530718]\n"
          ]
        }
      ]
    },
    {
      "cell_type": "markdown",
      "metadata": {
        "id": "XwOCb3OTBxYD"
      },
      "source": [
        "So, here we got an array containing the volumes of the corresponding cylinders."
      ]
    },
    {
      "cell_type": "markdown",
      "metadata": {
        "id": "o0_iHJJ96hGL"
      },
      "source": [
        "---"
      ]
    },
    {
      "cell_type": "markdown",
      "metadata": {
        "id": "Qoc4ydT3yEDx"
      },
      "source": [
        "#### Task 3: Python List and NumPy Array Performance Comparison\n",
        "\n",
        "As we discussed earlier, the execution time for a NumPy array is lesser as compared to a Python list. The difference is most significant when the sizes of lists and arrays are in thousands and above.\n",
        "\n",
        "Let's first create a Python list and a NumPy array both having 100 thousand (or 1 lakh) items. Then let's compute how much time (in seconds) is taken to create the list and the array:"
      ]
    },
    {
      "cell_type": "code",
      "metadata": {
        "id": "MqWJKrzoyB8q",
        "colab": {
          "base_uri": "https://localhost:8080/"
        },
        "outputId": "7ec0d5de-276e-43b6-e41e-f39909871021"
      },
      "source": [
        "# S3.1: Run the code shown below to see that NumPy arrays are faster than Python lists.\n",
        "# 1. Import the 'numpy' and 'time' modules\n",
        "\n",
        "# 2. Record the time before creating a Python list.\n",
        "\n",
        "\n",
        "# 3. Create a Python list containing 100,000 items from 1 to 100,000.\n",
        "\n",
        "\n",
        "# 4. Record the time after creating the list.\n",
        "\n",
        "\n",
        "# 5. Calculate the time taken to create a Python list by computing the time difference.\n",
        "\n",
        "# 6. Record the time before creating a NumPy array.\n",
        "\n",
        "# 7. Create a NumPy array containing just one row and 100,000 items from 1 to 100,000.\n",
        "\n",
        "\n",
        "# 8. Record the time after creating the NumPy array.\n",
        "\n",
        "\n",
        "# 9. Calculate the time taken to create a NumPy array by computing the time difference.\n",
        "\n",
        "\n",
        "# 10. Calculate the factor by which a NumPy array creation is faster than a Python list creation.\n",
        "import numpy as np\n",
        "import time\n",
        "\n",
        "py_t0 = time.time() \n",
        "\n",
        "py_list = [i for i in range(1, 100001)]\n",
        "\n",
        "py_t1 = time.time()\n",
        "\n",
        "py_time_diff = (py_t1 - py_t0)\n",
        "print(\"Time taken to create a Python list is\", py_time_diff, \"seconds.\")\n",
        "\n",
        "np_t0 = time.time()\n",
        "\n",
        "np_ones = np.arange(1, 100001)\n",
        "\n",
        "np_t1 = time.time()\n",
        "\n",
        "np_time_diff = (np_t1 - np_t0)\n",
        "print(\"Time taken to create a NumPy array is\", np_time_diff, \"seconds.\")\n",
        "\n",
        "\n",
        "print(\"A NumPy array is\", py_time_diff // np_time_diff, \"times faster than a Python list for the same size.\") "
      ],
      "execution_count": null,
      "outputs": [
        {
          "output_type": "stream",
          "name": "stdout",
          "text": [
            "Time taken to create a Python list is 0.004668474197387695 seconds.\n",
            "Time taken to create a NumPy array is 0.0001220703125 seconds.\n",
            "A NumPy array is 38.0 times faster than a Python list for the same size.\n"
          ]
        }
      ]
    },
    {
      "cell_type": "markdown",
      "metadata": {
        "id": "C1_TvZuZyCQf"
      },
      "source": [
        "If you run the above code several times, you will see that almost always NumPy arrays are faster than Python lists by a huge margin."
      ]
    },
    {
      "cell_type": "markdown",
      "metadata": {
        "id": "2kwv0EiQ6lWL"
      },
      "source": [
        "---"
      ]
    },
    {
      "cell_type": "markdown",
      "metadata": {
        "id": "vjz9h-lBLNat"
      },
      "source": [
        "#### Task 4: The User-Defined `mode()` Function\n",
        "\n",
        "Now let's create our version of the `mode()` function. It should take a one-dimensional NumPy array (`input_array`) as an input and should return a pair of the modal value and its count as an output.\n",
        "\n",
        "To create this function:\n",
        "\n",
        "1. First, we will create an empty Python list to store the count of every item in the `input_array`:\n",
        "\n",
        "  ```\n",
        "  counts_list = []\n",
        "  ```\n",
        "\n",
        "2. Next, we will convert the `input_array` to a Python list and store it in the `input_list` variable:\n",
        "\n",
        "  ```\n",
        "  input_list = list(input_array)\n",
        "  ```\n",
        "\n",
        "3. We will iterate through each item in the `input_list` and count its value. Then we will add the counts to the `counts_list` using the `append()` function:\n",
        "\n",
        "  ```\n",
        "  for item in input_list:\n",
        "      item_count = input_list.count(item)\n",
        "      counts_list.append(item_count)\n",
        "  ```\n",
        "\n",
        "4. Then we will convert the `counts_list` into a NumPy array:\n",
        "\n",
        "  ```\n",
        "  counts_array = np.array(counts_list)\n",
        "  ```\n",
        "\n",
        "5. Next, we will compute the maximum count value in the `counts_array` using the `count()` function:\n",
        "\n",
        "  ```\n",
        "  max_count = np.max(counts_array)\n",
        "  ```\n",
        "\n",
        "6. Then, we will find the index of the `max_count` value using the `index()` function:\n",
        "\n",
        "  ```\n",
        "  max_count_index = counts_list.index(max_count)\n",
        "  ```\n",
        "\n",
        "7. Finally, we will find the modal value using the list indexing method:\n",
        "  \n",
        "  ```\n",
        "  mode = input_list[max_count_index]\n",
        "  ```\n",
        "\n",
        "**Note:** There could be other ways to create the `mode()` function. You are free to explore them in your own time."
      ]
    },
    {
      "cell_type": "code",
      "metadata": {
        "id": "_fCdTIyI-zqL",
        "colab": {
          "base_uri": "https://localhost:8080/"
        },
        "outputId": "8627622c-1ad5-4c82-f6b5-48ba3be923bd"
      },
      "source": [
        "# S4.1: Create the 'mode()' function which takes a 1D NumPy array as an input and returns the modal value and its count as an output.\n",
        "def mode(input_array):\n",
        "  counts_list = []\n",
        "  input_list = list(input_array)\n",
        "  for item in input_list:\n",
        "    item_count = input_list.count(item)\n",
        "    counts_list.append(item_count)\n",
        "\n",
        "  counts_array = np.array(counts_list)\n",
        "  max_count = np.max(counts_array)\n",
        "  max_count_index = counts_list.index(max_count)\n",
        "  mode = input_list[max_count_index]\n",
        "  return mode, max_count\n",
        "\n",
        "mode(prices)"
      ],
      "execution_count": null,
      "outputs": [
        {
          "output_type": "execute_result",
          "data": {
            "text/plain": [
              "(9999, 2)"
            ]
          },
          "metadata": {},
          "execution_count": 15
        }
      ]
    },
    {
      "cell_type": "markdown",
      "metadata": {
        "id": "eprcVQyBRvKJ"
      },
      "source": [
        "So, in this way, we can create the `mode()` function which takes a one-dimensional array as an input and returns a pair of the modal value and its count as an output.\n",
        "\n",
        "In the next class, we will learn about the Pandas series and Pandas DataFrame."
      ]
    },
    {
      "cell_type": "markdown",
      "metadata": {
        "id": "tYfqpd06TrIq"
      },
      "source": [
        "---"
      ]
    }
  ]
}