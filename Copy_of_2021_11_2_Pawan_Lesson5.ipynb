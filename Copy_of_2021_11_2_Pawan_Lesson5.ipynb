{
  "nbformat": 4,
  "nbformat_minor": 0,
  "metadata": {
    "colab": {
      "name": "Copy of 2021-11-2-Pawan-Lesson5",
      "provenance": [],
      "collapsed_sections": [],
      "include_colab_link": true
    },
    "kernelspec": {
      "name": "python3",
      "display_name": "Python 3"
    }
  },
  "cells": [
    {
      "cell_type": "markdown",
      "metadata": {
        "id": "view-in-github",
        "colab_type": "text"
      },
      "source": [
        "<a href=\"https://colab.research.google.com/github/pawan-cpu/Learn-Python-with-Pawan-Kumar/blob/main/Copy_of_2021_11_2_Pawan_Lesson5.ipynb\" target=\"_parent\"><img src=\"https://colab.research.google.com/assets/colab-badge.svg\" alt=\"Open In Colab\"/></a>"
      ]
    },
    {
      "cell_type": "markdown",
      "metadata": {
        "id": "mFDyd3uB4WBx"
      },
      "source": [
        "# Lesson 5: Mind Reader Game - While Loop, Data Type Conversion, and Conditional Statements"
      ]
    },
    {
      "cell_type": "markdown",
      "metadata": {
        "id": "u7a2JSxXqmLQ"
      },
      "source": [
        "---"
      ]
    },
    {
      "cell_type": "markdown",
      "metadata": {
        "id": "Jqh0LwcvwTJA"
      },
      "source": [
        "### Teacher-Student Tasks\n",
        "\n",
        "In the previous class, we created a very simple algorithm for the Mind Reader game in which a computer predicts `0` or `1` randomly.\n",
        "\n",
        "Here's the algorithm we built in the last class.\n",
        "\n",
        "```\n",
        "import random\n",
        "\n",
        "predict = random.randint(0, 1) # Prediction should happen before taking input from a player.\n",
        "player_input = input(\"Enter either 0 or 1: \")\n",
        "print(\"You entered\", player_input)\n",
        "print(\"Computer predicted\", predict)\n",
        "```\n",
        "\n",
        "In this class, we are going to add more functionalities to the algorithm. They are as follows:\n",
        "\n",
        "1. Keep a track of the scores for both the player and the computer.\n",
        "\n",
        "2. Restrict a player from entering invalid inputs, i.e., inputs other than `0` or `1`.\n",
        "\n",
        "3. Continue running the game until one of the players reaches a score of `50`.\n",
        "\n",
        "4. If the player wins, then print `\"Congrats, You Won!` else print the `\"Bad Luck, You Lost!\"`.\n",
        "\n",
        "\n",
        "\n",
        "Let's get started."
      ]
    },
    {
      "cell_type": "markdown",
      "metadata": {
        "id": "7JH1aKsDiqST"
      },
      "source": [
        "---"
      ]
    },
    {
      "cell_type": "markdown",
      "metadata": {
        "id": "9p4gmk7cT5pP"
      },
      "source": [
        "#### Task 1: Score Keeping \n",
        "\n",
        "\n",
        "We will start by keeping the scores of both the computer and the player. Let's create the following two variables:\n",
        "\n",
        "- `player_score`: To record the score of the player.\n",
        "- `computer_score`: To record the score of the computer.\n",
        "\n",
        "Set the initial values of both the variables as **zero**:"
      ]
    },
    {
      "cell_type": "code",
      "metadata": {
        "id": "bW7I8cgDXmKe"
      },
      "source": [
        "# S1.1: Create 'player_score' and 'computer_score' variables and set their initial values as 0.\n",
        "player_score=0\n",
        "computer_score=0"
      ],
      "execution_count": null,
      "outputs": []
    },
    {
      "cell_type": "markdown",
      "metadata": {
        "id": "veuvbzBprnP_"
      },
      "source": [
        "Now, these two variables will keep a track of scores for both the players. Next, we need to update the scores as the game progresses.\n",
        "\n",
        "##### **Updating Scores**\n",
        "\n",
        "\n",
        "Let's first increase the scores by `1` for both the players. **In the process, we will learn how to increase the value stored in a variable.**\n",
        "\n",
        "To increase the `player_score` by `1`:\n",
        "- Add `1` to the `player_score` using the plus (`+`) operator.\n",
        "- Then reassign the increased value to the `player_score` variable using the equals to (`=`) operator.\n",
        "\n",
        "  \n",
        "\n",
        "<img src=\"https://s3-whjr-v2-prod-bucket.whjr.online/13f968c1-f8c5-4f0c-aeaa-87800c941f87.gif\" width=600/>\n",
        "  \n",
        "**Note**: In computer programing, a single equals to (`=`) symbol denotes **assigning value to a variable**.\n",
        "\n",
        "\n",
        "\n",
        "\n",
        "This operation is often referred to as the **right-to-left** operation because we go from the rightward direction to the leftward direction as indicated by the **right-to-left** arrow in the equation below:\n",
        "\n",
        "<img src=\"https://s3-whjr-v2-prod-bucket.whjr.online/a3159668-5f51-41c1-bf72-831adfeae490.png\"/>\n",
        "\n",
        "\n",
        "\n",
        "The long arrow ($\\longleftarrow$) indicates that first increases the value of the `player_score` variable and then assigns the value back to the same variable.\n",
        "\n",
        "Let's write this logic using the code:\n",
        "\n",
        "\n"
      ]
    },
    {
      "cell_type": "code",
      "metadata": {
        "id": "JLC7qnO_t8ZY",
        "colab": {
          "base_uri": "https://localhost:8080/"
        },
        "outputId": "a9f32794-9fde-4bdb-f202-839efa68cdb3"
      },
      "source": [
        "# S1.2: Increase the value stored in the 'player_score' variable.\n",
        "player_score=player_score+1\n",
        "print(player_score)"
      ],
      "execution_count": null,
      "outputs": [
        {
          "output_type": "stream",
          "name": "stdout",
          "text": [
            "4\n"
          ]
        }
      ]
    },
    {
      "cell_type": "markdown",
      "metadata": {
        "id": "81m74oqNu-9A"
      },
      "source": [
        "Here, we have increased the value stored in the `player_score` variable by `1`.\n",
        "\n",
        "Now using the same approach, you increase the value stored in the `computer_score` variable."
      ]
    },
    {
      "cell_type": "code",
      "metadata": {
        "id": "JKNPhIFavOr_",
        "colab": {
          "base_uri": "https://localhost:8080/"
        },
        "outputId": "6bd91aaf-4a42-4bbb-fb6d-abf52ae60352"
      },
      "source": [
        "# S1.3: Write a code to increase the value stored in the 'computer_score' variable.\n",
        "computer_score+=1\n",
        "print(computer_score)"
      ],
      "execution_count": null,
      "outputs": [
        {
          "output_type": "stream",
          "name": "stdout",
          "text": [
            "4\n"
          ]
        }
      ]
    },
    {
      "cell_type": "markdown",
      "metadata": {
        "id": "OfNvRrSlfugO"
      },
      "source": [
        "---"
      ]
    },
    {
      "cell_type": "markdown",
      "metadata": {
        "id": "fA09LBPiIEJw"
      },
      "source": [
        "#### Task 2: The `while` Loop\n",
        "\n",
        "So far, we increased the values stored in the `player_score` and `computer_score` variables by just `1` unit. But we want to increase the values stored in these variables continuously until the value of these variables reaches `50`. To do this, we will use the `while` loop.\n",
        "\n",
        "\n",
        "There are many activities in day-to-day life in which we are \n",
        "repeating a set of activities unless a particular task is completed. \n",
        "For example, eating, driving, coding, etc. We eat unless the food is \n",
        "finished, we drive unless we reach the destination, we code unless we \n",
        "get the desired output.\n",
        "\n",
        "<img src=\"https://s3-whjr-v2-prod-bucket.whjr.online/c5eab928-aa82-4617-9c4e-dd3789520fa9.gif\"/>\n",
        "\n",
        "**The `while` Loop:**\n",
        "- The `while` loop runs on a condition. It is usually used when we do not know exactly how many times a loop has to run.\n",
        "- As long as the condition is `True`, the `while` loop will run endlessly.\n",
        "- The moment the condition becomes `False`, the `while` loop stops.\n",
        "<br/><br/>\n",
        "<img src=\"https://s3-whjr-v2-prod-bucket.whjr.online/f316ea21-4a61-4c76-9bed-9ec5202329bd.gif\" /></td>\n",
        "\n",
        "\n",
        "**Syntax of `while` loop:**\n",
        "```python\n",
        "while condition:\n",
        "  #code\n",
        "```\n",
        "\n",
        "<img src=\"https://curriculum.whitehatjr.com/APT+Asset/APT+C4+images/apt+c4+-while+condition-01.png\" height=300/>\n",
        "\n",
        "Let's try to increase the value stored in the `player_score` variable using the `while` loop. To do this exercise, we need to follow 3 steps:\n",
        "\n",
        "- **Step 1:** Set the `player_score` value equal to `0` once again because we have already updated its value to `1` in the previous code.\n",
        "\n",
        "- **Step 2:** Write the `while player_score < 50` statement followed by the colon (`:`) sign, i.e., `while player_score < 50:` in the next line.\n",
        "\n",
        "- **Step 3:** Press the `enter` key. \n",
        "\n",
        "   In the new line, increase the value of the `player_score` variable by writing the following statement:\n",
        "\n",
        "   **`player_score = player_score + 1`**\n",
        "   \n",
        "   Make sure that there are two blank spaces between the code cell and the statement. This is to ensure that the instructions are being written inside the `while` loop, not outside it.\n",
        "\n",
        "- **Step 4:** Press the `enter` key.\n",
        "\n",
        " In the new line, remove the blank spaces between the code cell and the cursor. \n",
        " \n",
        " Then, print the value stored in the `player_score` variable."
      ]
    },
    {
      "cell_type": "code",
      "metadata": {
        "id": "Jdr2h0hNyyen",
        "colab": {
          "base_uri": "https://localhost:8080/"
        },
        "outputId": "d9f04763-c8e4-4802-d1e7-43cf68b2ae42"
      },
      "source": [
        "# S2.1: Increase the value stored in a variable using the 'while' loop.\n",
        "player_score=0\n",
        "while player_score<50:\n",
        "  print(player_score)\n",
        "  player_score=player_score+1\n",
        " \n",
        "\n"
      ],
      "execution_count": null,
      "outputs": [
        {
          "output_type": "stream",
          "name": "stdout",
          "text": [
            "0\n",
            "1\n",
            "2\n",
            "3\n",
            "4\n",
            "5\n",
            "6\n",
            "7\n",
            "8\n",
            "9\n",
            "10\n",
            "11\n",
            "12\n",
            "13\n",
            "14\n",
            "15\n",
            "16\n",
            "17\n",
            "18\n",
            "19\n",
            "20\n",
            "21\n",
            "22\n",
            "23\n",
            "24\n",
            "25\n",
            "26\n",
            "27\n",
            "28\n",
            "29\n",
            "30\n",
            "31\n",
            "32\n",
            "33\n",
            "34\n",
            "35\n",
            "36\n",
            "37\n",
            "38\n",
            "39\n",
            "40\n",
            "41\n",
            "42\n",
            "43\n",
            "44\n",
            "45\n",
            "46\n",
            "47\n",
            "48\n",
            "49\n"
          ]
        }
      ]
    },
    {
      "cell_type": "markdown",
      "metadata": {
        "id": "73XIG-B8z7jj"
      },
      "source": [
        "As you can see, the `player_score` value has been increased to `50` using the `while` loop.\n",
        "\n",
        "**How does the `while` loop work here?**\n",
        "\n",
        "1. Here, we have set the value stored in the `player_score` variable equal to `0`.\n",
        "\n",
        "2. To initiate the `while` loop, we are providing a condition to the loop by saying that: \n",
        "\n",
        "  *While the value of the `player_score` variable is less than 50, keep running the loop.* \n",
        " \n",
        " The moment the value of the `player_score` variable reaches 50, stop the loop.</i></font>\n",
        "\n",
        "3. The code in the next line, i.e., `player_score = player_score + 1` will increase the value of `player_score` by `1` unit until the value of `player_score` reaches `50`. \n",
        "\n",
        "4. Initially, the `player_score = 0`, so the `while` loop will check if the statement `player_score < 50` is `True` or `False`. At this point, the statement, `player_score < 50` is `True`, so the value of the `player_score` variable increases by `1`.\n",
        "\n",
        "5. In the next turn, the value of the `player_score` variable will be `1`. Similarly, the `while` loop next time again will check whether the condition is `True` or `False`. This process will continue until the value of the `player_score` variable reaches `50`. \n",
        "\n",
        "Now using the same process, you increase the value of the `computer_score` variable until it reaches `50`."
      ]
    },
    {
      "cell_type": "code",
      "metadata": {
        "id": "mAsQQVNY11ZR",
        "colab": {
          "base_uri": "https://localhost:8080/"
        },
        "outputId": "982b752f-74a6-45c9-bffe-8c07a6944b7b"
      },
      "source": [
        "# S2.2: Write a code to increase the value of the 'computer_score' variable until it reaches 50.\n",
        "computer_score=0\n",
        "while computer_score<50:\n",
        "  computer_score=computer_score+1\n",
        "  print(computer_score)"
      ],
      "execution_count": null,
      "outputs": [
        {
          "output_type": "stream",
          "name": "stdout",
          "text": [
            "1\n",
            "2\n",
            "3\n",
            "4\n",
            "5\n",
            "6\n",
            "7\n",
            "8\n",
            "9\n",
            "10\n",
            "11\n",
            "12\n",
            "13\n",
            "14\n",
            "15\n",
            "16\n",
            "17\n",
            "18\n",
            "19\n",
            "20\n",
            "21\n",
            "22\n",
            "23\n",
            "24\n",
            "25\n",
            "26\n",
            "27\n",
            "28\n",
            "29\n",
            "30\n",
            "31\n",
            "32\n",
            "33\n",
            "34\n",
            "35\n",
            "36\n",
            "37\n",
            "38\n",
            "39\n",
            "40\n",
            "41\n",
            "42\n",
            "43\n",
            "44\n",
            "45\n",
            "46\n",
            "47\n",
            "48\n",
            "49\n",
            "50\n"
          ]
        }
      ]
    },
    {
      "cell_type": "markdown",
      "metadata": {
        "id": "EckR1oujZfgm"
      },
      "source": [
        "In the above code, we increment the value of `computer_score` by `1` until it reaches `50`. In this way, we can use `while` loop to increment or decrement the value of a variable unless a condition is satisfied."
      ]
    },
    {
      "cell_type": "markdown",
      "metadata": {
        "id": "L63HNPrHjKX2"
      },
      "source": [
        "---"
      ]
    },
    {
      "cell_type": "markdown",
      "metadata": {
        "id": "bRVMkkJTCmvC"
      },
      "source": [
        "#### Task 3: Data Type Conversion\n",
        "\n",
        "Recall the algorithm we created in the previous class. It stores the values entered by a player in the `player_input` variable and stores the values predicted by the computer in the `predict` variable.\n",
        "\n",
        "As the next step for our algorithm, we need to compare the `predict` value predicted by the computer with the `player_input` value.\n",
        "\n",
        "But before that, we need to convert the `player_input` value to an integer because the `input()` function takes input in the form of a string. \n",
        "\n",
        "**We can compare two or more values only if they are of the same data type.**\n",
        "\n",
        "You can check the data type of a value using the `type()` function. Let's apply this function to the value stored in the `player_input` variable:\n"
      ]
    },
    {
      "cell_type": "code",
      "metadata": {
        "id": "X_RpajwREJeV",
        "colab": {
          "base_uri": "https://localhost:8080/"
        },
        "outputId": "7813464a-79bf-4dc6-bd95-5d8db0d07a33"
      },
      "source": [
        "# S3.1: Verify that the 'input()' function takes any value as a string.\n",
        "player_input=input(\"enter either 0 or1\")\n",
        "type(player_input)"
      ],
      "execution_count": null,
      "outputs": [
        {
          "name": "stdout",
          "output_type": "stream",
          "text": [
            "enter either 0 or10\n"
          ]
        },
        {
          "output_type": "execute_result",
          "data": {
            "text/plain": [
              "str"
            ]
          },
          "metadata": {},
          "execution_count": 14
        }
      ]
    },
    {
      "cell_type": "markdown",
      "metadata": {
        "id": "PddrUvKvEp9I"
      },
      "source": [
        "You can see that the `type()` function returned `str` as an output. The `str` keyword denotes that a value is a string.\n",
        "\n",
        "Similarly,\n",
        "\n",
        "- `int` denotes an integer value. \n",
        "\n",
        "- `float` denotes a floating-point number.\n",
        "\n",
        "- `bool` denotes a boolean value.\n",
        "\n",
        "The `str` output by the `type()` function confirms that the `input()` function indeed takes an input value in the form of a string data type. \n",
        "\n",
        "But we want an integer input. So, we can use the `int()` function. It converts a value into an integer value.\n",
        "\n",
        "Let's convert the value stored in the `player_input` variable to an integer value and verify whether the conversion happened using the `type()` function:"
      ]
    },
    {
      "cell_type": "code",
      "metadata": {
        "id": "V9TqpcgpE12z",
        "colab": {
          "base_uri": "https://localhost:8080/"
        },
        "outputId": "85db23b9-7c4b-461e-a685-3c97145e60a1"
      },
      "source": [
        "# S3.2: Convert the value stored in the 'player_input' variable into an integer.\n",
        "player_input=int(player_input)\n",
        "type(player_input)\n",
        "\n",
        "# Using 'type()' function, verify whether the conversion happened or not.\n"
      ],
      "execution_count": null,
      "outputs": [
        {
          "output_type": "execute_result",
          "data": {
            "text/plain": [
              "int"
            ]
          },
          "metadata": {},
          "execution_count": 15
        }
      ]
    },
    {
      "cell_type": "code",
      "metadata": {
        "colab": {
          "base_uri": "https://localhost:8080/"
        },
        "id": "3FFHl3CWVu01",
        "outputId": "7362e525-4469-4c1f-a79b-548fc5ac5f5d"
      },
      "source": [
        "player_input=int(input(\"either 0 or 1\"))\n",
        "type(player_input)"
      ],
      "execution_count": null,
      "outputs": [
        {
          "name": "stdout",
          "output_type": "stream",
          "text": [
            "either 0 or 10\n"
          ]
        },
        {
          "output_type": "execute_result",
          "data": {
            "text/plain": [
              "int"
            ]
          },
          "metadata": {},
          "execution_count": 18
        }
      ]
    },
    {
      "cell_type": "markdown",
      "metadata": {
        "id": "Kf1UsBWUMN_L"
      },
      "source": [
        "As you can see, we first converted the value stored in the `player_input` variable to an integer value using the `int()` function. Then re-assigned the converted value to the same variable. This operation is again the **right-to-left** operation.\n",
        "\n",
        "`player_input` \n",
        "$\\longleftarrow$ \n",
        "`int(player_input)`\n",
        "\n",
        "Similarly, to convert any data-type into:\n",
        "\n",
        "- A string, use the `str()` function.\n",
        "\n",
        "- A floating-point number, use the `float()` function.\n",
        "\n",
        "- A boolean, use the `bool()` function."
      ]
    },
    {
      "cell_type": "markdown",
      "metadata": {
        "id": "d_BR_mwLEIhU"
      },
      "source": [
        "---"
      ]
    },
    {
      "cell_type": "markdown",
      "metadata": {
        "id": "WC-7ScvE6xa-"
      },
      "source": [
        "#### Task 4: The Conditional Statements\n",
        "\n",
        "Now, we are ready to compare the `player_input` value with the `predict` value. \n",
        "\n",
        "To compare two or more values, we use conditional statements. \n",
        "\n",
        "\n",
        "\n",
        "\n",
        "They are of two types:\n",
        "\n",
        "1. `if-else` statement\n",
        "\n",
        "2. `if-elif-else` statement\n",
        "\n",
        "------------------------------------------------------------------------\n",
        "\n"
      ]
    },
    {
      "cell_type": "markdown",
      "metadata": {
        "id": "Z8bta2IcjPbY"
      },
      "source": [
        "**1. The if-else statement:**\n",
        "\n",
        "> The `if-else` statement tells us that **if** a condition is **true**, it will execute a block of statements **else** it will execute another block of statements.\n",
        "\n",
        "\n",
        "\n",
        "> <center>\n",
        "<img src=\"https://student-datasets-bucket.s3.ap-south-1.amazonaws.com/images/if-else-block.png\" width=400></center>\n",
        "\n",
        "\n",
        "\n",
        "\n",
        "> **Syntax of `if-else`:**\n",
        "\n",
        "> ```python\n",
        "if condition:\n",
        "  statement\n",
        "  statement\n",
        "else:\n",
        "  statement\n",
        "  statement\n",
        "```\n",
        "\n",
        "> The statements under `if` block will be executed if the condition is `True`. If the condition is `False`, the statements under the `else` block will be executed.\n"
      ]
    },
    {
      "cell_type": "markdown",
      "metadata": {
        "id": "aSHeGAsGjTCY"
      },
      "source": [
        "Consider a fair die. \n",
        "\n",
        "<img src=\"https://curriculum.whitehatjr.com/APT+Asset/Final+C2+images/WHJ_dice_APT-C2.gif\"/>\n",
        "\n",
        "\n",
        "If you roll a die, then there are 6 possible outcomes. They are `1, 2, 3, 4, 5,` and `6`.\n",
        "Suppose you want to write a code that prints `\"Outcome is one\"` if the die roll results in `1` and prints `\"Outcome is not one\"` if the die roll results either in `2, 3, 4, 5,` or `6`. Then, you can use the `if-else` statement.\n",
        "\n",
        "**Perform the following steps:**\n",
        "1.  Generate a random integer between 1 and 6. Store it in the `die_roll` variable.\n",
        "2. Check whether the value stored in the `die_roll` variable is `1` using the `if-else` statement:\n",
        "  - If `die_roll == 1`, then print `\"Outcome is one\"`.\n",
        "  - Else print `\"Outcome is not one\"`.\n",
        "  \n",
        "  **Note:** To compare two values, we use the double equals to (`==`) sign.\n",
        "3. Print the value of the `die_roll` variable outside the `if-else` statement.\n",
        "\n"
      ]
    },
    {
      "cell_type": "code",
      "metadata": {
        "id": "azu2Efdk_oR3",
        "colab": {
          "base_uri": "https://localhost:8080/"
        },
        "outputId": "2f391c5d-ca22-43d2-977b-c4678be00091"
      },
      "source": [
        "# S4.1: Use the 'if-else' conditional statement to compare two values in Python.\n",
        "import random\n",
        "# Generate random integer.\n",
        "die_roll=random.randint(1,6)\n",
        "print(die_roll)\n",
        "\n",
        "# Check if the value stored in the 'die_roll' variable is 1 or not using 'if-else'.\n",
        "if die_roll ==1:\n",
        "  print(\"outcome is 1\")\n",
        "else:\n",
        "  print(\"outcome is not 1\")\n",
        "\n",
        "# Print the value stored in the 'die_roll' variable outside 'if-else'.\n"
      ],
      "execution_count": null,
      "outputs": [
        {
          "output_type": "stream",
          "name": "stdout",
          "text": [
            "2\n",
            "outcome is not 1\n"
          ]
        }
      ]
    },
    {
      "cell_type": "markdown",
      "metadata": {
        "id": "bevuFAJfAj6W"
      },
      "source": [
        "In the above code: \n",
        " \n",
        "- The `if` statement compares the value stored in the `die_roll` variable with `1`. If this condition is `True`, i.e., if the value stored in the `die_roll` variable is indeed `1`, then the `print()` function prints `\"Outcome is one.\"`. Python completely ignores the `else` statement.\n",
        " \n",
        "- However, if the condition specified in the `if` statement is `False`, i.e, the value stored in the `die_roll` variable is NOT equal to `1`, then Python ignores the `if` statement and moves to the `else` statement. It executes the code written under the `else` statement. Hence, in this case, Python prints `\"Outcome is not one.\"`.\n",
        " \n",
        "- The `print()` function prints the value returned by the `randint()` function which is stored in the `die_roll` variable. This statement will execute irrespective of whether the `if` or `else` block gets executed.\n",
        " \n",
        " \n",
        "Run the above code several times to understand the `if-else` behavior. \n",
        " \n",
        "---"
      ]
    },
    {
      "cell_type": "markdown",
      "metadata": {
        "id": "G3_DF9ARjbO3"
      },
      "source": [
        "\n",
        "\n",
        "> To specify more than one specific conditions, we use `if-elif-else` statement. The term `elif` stands for `else-if`.\n",
        "\n",
        "> <img src='https://student-datasets-bucket.s3.ap-south-1.amazonaws.com/images/if-elif-else-block.png' width=600>\n",
        "\n",
        "**Syntax of `if-elif-else`:**\n",
        "\n",
        "```python\n",
        "if condition_1:\n",
        "  # body of if\n",
        "  statement(s)\n",
        "elif condition_2:\n",
        "  # body of elif_1\n",
        "  statement(s)\n",
        "elif condition_3:\n",
        "  # body of elif_2\n",
        "  statement(s)\n",
        "....\n",
        "else:\n",
        "  # body of else\n",
        "  statement(s)\n",
        "```\n"
      ]
    },
    {
      "cell_type": "markdown",
      "metadata": {
        "id": "0NVOhB3SjhQ9"
      },
      "source": [
        "Suppose you want to write a code that performs the following tasks:\n",
        "\n",
        "- If the die roll results either in `2`, `3,` or `5` then print `\"Outcome is a prime number\"`. \n",
        "- If the die roll results either in `4` or `6` then print `\"Outcome is not a prime number\"`.\n",
        "- If the die roll results in `1` then print `\"Outcome is neither prime nor a composite number`.\n",
        "\n",
        "Then, you can use the `if-elif-else` statement. \n",
        "\n",
        " \n",
        "**Perform the following steps:**\n",
        "1.  Generate a random integer between 1 and 6. Store it in the `die_roll` variable.\n",
        "2. Check the value stored in the `die_roll` variable using the `if-elif-else` statement.\n",
        "  - If the value stored in the `die_roll` variable is `2`, `3`, or `5`, then print `\"Outcome is a prime number\"`.\n",
        "  - Else if the value stored in the `die_roll` variable is `4` or `6`, then print `\"Outcome is not a prime number\"`.\n",
        "  - Else print `\"Outcome is neither prime nor a composite number`.\n",
        "\n",
        "3. Print the value of the `die_roll` variable outside the `if-elif-else` statement."
      ]
    },
    {
      "cell_type": "code",
      "metadata": {
        "id": "xiXQtlVNDomg",
        "colab": {
          "base_uri": "https://localhost:8080/"
        },
        "outputId": "9e274b38-e1c6-43fa-b1cb-21548e603adf"
      },
      "source": [
        "# T4.2: Use the 'if-elif-else' conditional statement to check multiple conditions in Python.\n",
        "die_roll=random.randint(1,6)\n",
        "print(die_roll)\n",
        "if die_roll ==2:\n",
        "  print(\"outcome is prime\" )\n",
        "elif die_roll ==3:\n",
        "  print(\"outcome is a prime\")\n",
        "elif die_roll ==5:\n",
        "  print(\"outcome is a prime\")\n",
        "else:\n",
        "  print(\"outcome is not prime\")"
      ],
      "execution_count": null,
      "outputs": [
        {
          "output_type": "stream",
          "name": "stdout",
          "text": [
            "6\n",
            "outcome is not prime\n"
          ]
        }
      ]
    },
    {
      "cell_type": "markdown",
      "metadata": {
        "id": "wxhiDyOaEdgE"
      },
      "source": [
        "> In the above code: \n",
        "\n",
        "\n",
        "- We have used  the logical operator `or`, to evaluate multiple Boolean expressions in a single statement. \n",
        "\n",
        "- The `if` statement compares the value stored in the `die_roll` variable with `2`, `3`, or `5`. If any of the expressions evaluates to `True`, then the `print()` function prints `\"Outcome is a prime number.\"` Python completely ignores the subsequent `elif` and `else` statements.\n",
        "\n",
        "- Else if the value stored in the `die_roll` variable is neither `2`, `3`, nor `5`, then the `elif` statement compares the value stored in the `die_roll` variable with `4` or `6`. If this condition is `True`,  then the `print()` function prints `\"Outcome is a not a prime number.\"` Python completely ignores the subsequent `elif` and `else` statements if any.\n",
        "\n",
        "\n",
        "- However, if the condition specified in the `elif` statement is `False`, it means that the value of the `die_roll` variable is `1`. Thus, the code under the `else` statement is executed. Hence, in this case, Python prints `\"Outcome is neither prime nor a composite number.\"`\n",
        "\n",
        "- The `print()` function prints the value returned by the `randint()` function which is stored in the `die_roll` variable. This statement will execute irrespective of whichever (`if`, `elif`, or `else`) block gets executed.\n",
        "\n",
        "Run the above code several times to understand the `if-elif-else` behavior. \n",
        " \n",
        "---\n",
        "\n",
        "\n"
      ]
    },
    {
      "cell_type": "markdown",
      "metadata": {
        "id": "0xCuAty1jr01"
      },
      "source": [
        "Now, using the `if-else` statement, compare the `player_input` value with the `predict` value in our algorithm. Then do the following:\n",
        "\n",
        "- If the `predict == player_input`, then increase the `computer_score` value by 1. Then, print the updated values of the `player_score` and `computer_score` variables. \n",
        "\n",
        "- Else, increase the `player_score` value by 1. Then, print the updated values of the `player_score` and `computer_score` variables."
      ]
    },
    {
      "cell_type": "code",
      "metadata": {
        "id": "HedSSdYRHSs5",
        "colab": {
          "base_uri": "https://localhost:8080/"
        },
        "outputId": "e1d9e9a7-1a00-4efa-908b-abe0ec77af49"
      },
      "source": [
        "# S4.3: Write a code to compare the 'predict' value with the 'player_input' value in our algorithm.\n",
        "# Note: Don't forget to convert the 'player_input' value to an integer.\n",
        "player_score=0\n",
        "computer_score=0\n",
        "# Initialise the 'player_score' and 'computer_score' values.\n",
        "\n",
        "\n",
        "# Predict 0 or 1 randomly.\n",
        "predict=random.randint(0,1)\n",
        "\n",
        "# Take input from the player.\n",
        "player_input=int(input(\"enter either 0 or 1\"))\n",
        "\n",
        "# Convert the 'player_input' value to an integer.\n",
        "\n",
        "\n",
        "# Compare the 'predict' and 'player_input' values.\n",
        "if predict ==player_input:\n",
        "  computer_score=computer_score+1\n",
        "else:\n",
        "  player_score=player_score+1\n",
        "print(\"computer score value is\",computer_score)\n",
        "print(\"player score value is\",player_score)"
      ],
      "execution_count": null,
      "outputs": [
        {
          "output_type": "stream",
          "name": "stdout",
          "text": [
            "enter either 0 or 11\n",
            "computer score value is 1\n",
            "player score value is 0\n"
          ]
        }
      ]
    },
    {
      "cell_type": "markdown",
      "metadata": {
        "id": "yMdYlRFAJJgg"
      },
      "source": [
        "In the above code:\n",
        "\n",
        "- If the `predict == player_input`, the `computer_score` value gets increased by 1. Then, Python prints the updated values stored in the `player_score` and `computer_score` variables. \n",
        "\n",
        "- Else, the `player_score` value gets increased by 1. Then, Python prints the updated values stored in the `player_score` and `computer_score` variables."
      ]
    },
    {
      "cell_type": "markdown",
      "metadata": {
        "id": "SxNUVmhP6vaN"
      },
      "source": [
        "---"
      ]
    },
    {
      "cell_type": "markdown",
      "metadata": {
        "id": "4X2Rl4FSXD6W"
      },
      "source": [
        "#### Task 5: Restrict Invalid Inputs and Run the Game\n",
        "\n",
        "Now, we will restrict the player to enter any input other than `0` or `1`. \n",
        "\n",
        "We will learn this concept in future classes but for now, let's use it.\n",
        "\n",
        "Also, we will use a `while` loop inside another `while` loop to run the game until either the player or the computer reaches a score of `50`. At every `player_input`, we will also print the scores for both the computer and the player.\n",
        "\n",
        "To test the working of the algorithm, let's run the game until either the player or the computer reaches a score of `10`. Otherwise, the game will get too long. Later you can replace `10` with `50`."
      ]
    },
    {
      "cell_type": "code",
      "metadata": {
        "id": "9Ted5QSbTskd"
      },
      "source": [
        "# S5.1: Follow the instructions mentioned in the comments below. Accordingly, write the code.\n",
        "# Import the random module below.\n",
        "\n",
        "\n",
        "# Initialise the 'player_score' and 'computer_score' variables below.\n",
        "\n",
        "\n",
        "\n",
        "\n",
        "\n",
        "  # Predict 0 or 1 randomly below.\n",
        "  \n",
        "  # Take input from the player below.\n",
        " \n",
        "   \n",
        "  # Convert the value stored in the 'player_input' variable into an integer value below.\n",
        " \n",
        "\n",
        "  # Compare the 'predict' and the 'player_input' values below.\n",
        "\n",
        "\n",
        "  # Compare the 'computer_score' and 'player_score' values with 10.\n",
        "  "
      ],
      "execution_count": null,
      "outputs": []
    },
    {
      "cell_type": "markdown",
      "metadata": {
        "id": "xbSSwE0lNZfe"
      },
      "source": [
        "**Note:** There are some parts in the code above which we haven't covered in this class. We will learn them in the subsequent classes.\n",
        "\n",
        "Thus in this class, we learned how to use `while` loops to keep running the game unless the score reaches 10. Here, the computer is making a random prediction about the player's move.\n",
        "\n",
        "In the next class, we will try to make our computer more **intelligent** so that it can make better predictions.\n",
        "\n",
        "Instead of randomly predicting 0 or 1, the computer will predict based on some pattern in the player's input.\n",
        "\n",
        "\n",
        "<img src=\"https://s3-whjr-v2-prod-bucket.whjr.online/3bf772f4-f9ad-402f-8b41-4800ef35d45a.jpg\"  />\n"
      ]
    },
    {
      "cell_type": "markdown",
      "metadata": {
        "id": "KmhJVfRvTEuB"
      },
      "source": [
        "---"
      ]
    }
  ]
}