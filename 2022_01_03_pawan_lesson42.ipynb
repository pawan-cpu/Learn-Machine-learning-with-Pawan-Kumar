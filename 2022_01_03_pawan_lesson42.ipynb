{
  "nbformat": 4,
  "nbformat_minor": 0,
  "metadata": {
    "colab": {
      "name": "2022-01-03_pawan_lesson42",
      "provenance": [],
      "collapsed_sections": [],
      "include_colab_link": true
    },
    "kernelspec": {
      "name": "python3",
      "display_name": "Python 3"
    }
  },
  "cells": [
    {
      "cell_type": "markdown",
      "metadata": {
        "id": "view-in-github",
        "colab_type": "text"
      },
      "source": [
        "<a href=\"https://colab.research.google.com/github/pawan-cpu/Learn-Python-with-Pawan-Kumar/blob/main/2022_01_03_pawan_lesson42.ipynb\" target=\"_parent\"><img src=\"https://colab.research.google.com/assets/colab-badge.svg\" alt=\"Open In Colab\"/></a>"
      ]
    },
    {
      "cell_type": "markdown",
      "metadata": {
        "id": "Ixpeyh07YH4V"
      },
      "source": [
        "# Lesson 42: Discrete Probability\n",
        "\n",
        "\n",
        "\n"
      ]
    },
    {
      "cell_type": "markdown",
      "metadata": {
        "id": "yAuUqUvRnsDo"
      },
      "source": [
        "---"
      ]
    },
    {
      "cell_type": "markdown",
      "metadata": {
        "id": "mupNBfxCY5Hb"
      },
      "source": [
        "### Teacher-Student Tasks\n",
        "\n",
        "In this class, we will learn the concept of probability and binomial distribution.\n",
        "\n",
        "Here we have a dataset of 583 patients who were diagnosed for the liver disease. Out of them, 416 patients were tested positive and 167 were tested negative for the liver disease. The data is collected from the North East of Andhra Pradesh, India. We need to find out what is the probability of a patient having the disease. We also need to find out what is the probability of a patient having the disease given that the patient is \n",
        "\n",
        "- a juvenile i.e. a person whose age is less than 18 years.\n",
        "\n",
        "- an adult i.e. a person whose age is greater than or equal to 18 years but less than 50 years.\n",
        "\n",
        "- an elderly i.e. a person whose age is at least 50 years.\n",
        "\n",
        "We also need to create a binomial distribution model to check what is the probability distribution of a patient having a disease.\n",
        "\n",
        "The `Dataset` column is a class label used to divide groups into liver patients (liver disease) or not (no disease). This data set contains 441 male patient records and 142 female patient records.\n",
        "\n",
        "\n",
        "Use these patient records to determine which patients have liver disease and which ones do not."
      ]
    },
    {
      "cell_type": "markdown",
      "metadata": {
        "id": "F-Ow_9kn_6kH"
      },
      "source": [
        "---"
      ]
    },
    {
      "cell_type": "markdown",
      "metadata": {
        "id": "CRz_H9i9W8AZ"
      },
      "source": [
        "#### Data Description\n",
        "\n",
        "The dataset contains the following columns (or features):\n",
        "\n",
        "1. `Age`: Age of the patient. Any patient whose age exceeded 89 is listed as being of age \"90\".\n",
        "\n",
        "2. `Gender`: Gender of the patient\n",
        "\n",
        "3. `Total_Bilirubin`: Total Bilirubin\n",
        "\n",
        "4. `Direct_Bilirubin`: Direct Bilirubin\n",
        "\n",
        "5. `Alkaline_Phosphotase`: Alkaline Phosphatase\n",
        "\n",
        "6. `Alamine_Aminotransferase`: Alamine Aminotransferase\n",
        "\n",
        "7. `Aspartate_Aminotransferase`: Aspartate Aminotransferase\n",
        "\n",
        "8. `Total_Protiens`: Total Proteins\n",
        "\n",
        "9. `Albumin`: Albumin\n",
        "\n",
        "10. `Albumin_and_Globulin_Ratio`: Ratio Albumin and Globulin Ratio\n",
        "\n",
        "11. `Dataset`: Whether a patient has liver disease or not.\n",
        " `1` means a patient has liver disease and `2` means a patient does not have liver disease.\n",
        "\n",
        "**Dataset link:** https://student-datasets-bucket.s3.ap-south-1.amazonaws.com/whitehat-ds-datasets/indian-liver-patients/indian_liver_patient.csv\n",
        "\n",
        "**Dataset Source:** https://archive.ics.uci.edu/ml/datasets/ILPD+(Indian+Liver+Patient+Dataset)\n",
        "\n",
        "**Citation:** Dua, D., & Graff, C.. (2017). UCI Machine Learning Repository.\n",
        "\n"
      ]
    },
    {
      "cell_type": "markdown",
      "metadata": {
        "id": "fPMppaI5Kim7"
      },
      "source": [
        "---"
      ]
    },
    {
      "cell_type": "markdown",
      "metadata": {
        "id": "gXtjSNhlKjq4"
      },
      "source": [
        "#### Probability\n",
        "\n",
        "*Probability of an outcome or an event is defined as the ratio of the number of favourable outcomes to the total number of possible outcomes.*\n",
        "\n",
        "Consider throwing a die. \n",
        "\n",
        "<img src='https://student-datasets-bucket.s3.ap-south-1.amazonaws.com/images/fair-die.jpg' width=200>\n",
        "\n",
        "It has six sides labelled as 1, 2, 3, 4, 5 and 6. So whenever you throw a die you will get either 1, 2, 3, 4, 5 or 6.\n",
        "\n",
        "Suppose you are playing a game in which you need to get $6$ when you roll a die to win the game. So $6$ is your favourable outcome to win the game. Hence, the probability of getting 6 is **one over six**, i.e. $\\frac{1}{6}$ because there is only **one** favourable outcome (i.e. getting $6$ on dice) out of six possible outcomes.\n",
        "\n",
        "Mathematically, the probability of an outcome or an event $E$ is given by $$P(E) = \\frac{n(E)}{n(S)}$$\n",
        "\n",
        "or\n",
        "\n",
        "$$P(E) = \\frac{\\text{Number of favourable outcomes}}{\\text{Total number of possible outcomes}}$$\n",
        "\n",
        "where \n",
        "\n",
        "- $E$ is a set containing favourable outcomes \n",
        "\n",
        "- $n(E)$ is the number of items contained in the set $E$\n",
        "\n",
        "- $S$ is a set of all possible outcomes which is also known as **sample space**\n",
        "\n",
        "- $n(S)$ the number of items contained in the set $S$\n",
        "\n",
        "In the game of getting $6$ to win the game, the set of favourable outcome(s) is $E = \\{6\\}$ and the set of possible outcomes is $S = \\{1, 2, 3, 4, 5, 6\\}$\n",
        "\n",
        "Hence, the probability of the outcome of getting $6$ is $\\frac{1}{6}$\n",
        "\n",
        "Let's change the rules of the game by saying that a player can take out their pawn only if they get a prime number. In this case, the set of favourable outcomes becomes $E = \\{2, 3, 5\\}$\n",
        "\n",
        "So the probability of taking out the pawn or in other words, the probability of the outcome of getting either 2 or 3 or 5 is $\\frac{3}{6} = \\frac{1}{2}$ because there are three items in the set $E$.\n",
        "\n",
        "**Note:** \n",
        "\n",
        "- Probability is just a measure of finding out which events are more likely to occur. It does not mean that the highly likely events will definitely occur. The probability of an event which definitely will occur is 1. Similarly, the probability of an event which will definitely NOT occur is 0. \n",
        "\n",
        "- The sum of the probability of occurrence of an event and the probability of that event not occurring is always 1.\n",
        "\n",
        "With this idea in mind, let's find out the probability of a patient having the liver disease."
      ]
    },
    {
      "cell_type": "markdown",
      "metadata": {
        "id": "JPxVxpN1bXBj"
      },
      "source": [
        "---"
      ]
    },
    {
      "cell_type": "markdown",
      "metadata": {
        "id": "17CsGemdbXqx"
      },
      "source": [
        "#### Task 1: Data Preparation\n",
        "\n",
        "Let's prepare the dataset for analysis by using the following steps:\n",
        "\n",
        "1. Treat the null values (if there are any).\n",
        "\n",
        "2. Rename the following columns: \n",
        " \n",
        "  - `Dataset` to `Disease` \n",
        "  \n",
        "  - `Alkaline_Phosphotase` to `Alkaline_Phosphatase` \n",
        "  \n",
        "  - `Alamine_Aminotransferase` to `Alanine_Aminotransferase`. \n",
        "\n",
        "3. Label each patient as a juvenile, an adult, or an elderly based on their age.\n",
        "\n",
        "4. Encode (or convert) the `Male` and `Female` values for the `Gender` column to the numeric values, i.e., `0` and `1`."
      ]
    },
    {
      "cell_type": "code",
      "metadata": {
        "id": "ZhuYap-dXNI5"
      },
      "source": [
        "# S1.1: Import the libraries.\n",
        "import pandas as pd\n",
        "import numpy as np\n",
        "import matplotlib.pyplot as plt\n",
        "import seaborn as sns\n"
      ],
      "execution_count": 34,
      "outputs": []
    },
    {
      "cell_type": "code",
      "metadata": {
        "id": "L5ix0KhIW6K5",
        "colab": {
          "base_uri": "https://localhost:8080/",
          "height": 270
        },
        "outputId": "ad66228d-daaa-49aa-e88f-a0261e38f415"
      },
      "source": [
        "# S1.2: Load the dataset\n",
        "df=pd.read_csv('https://student-datasets-bucket.s3.ap-south-1.amazonaws.com/whitehat-ds-datasets/indian-liver-patients/indian_liver_patient.csv')\n",
        "df.head()"
      ],
      "execution_count": 35,
      "outputs": [
        {
          "output_type": "execute_result",
          "data": {
            "text/html": [
              "\n",
              "  <div id=\"df-a20b775e-863d-4799-8a23-97bc08128aaf\">\n",
              "    <div class=\"colab-df-container\">\n",
              "      <div>\n",
              "<style scoped>\n",
              "    .dataframe tbody tr th:only-of-type {\n",
              "        vertical-align: middle;\n",
              "    }\n",
              "\n",
              "    .dataframe tbody tr th {\n",
              "        vertical-align: top;\n",
              "    }\n",
              "\n",
              "    .dataframe thead th {\n",
              "        text-align: right;\n",
              "    }\n",
              "</style>\n",
              "<table border=\"1\" class=\"dataframe\">\n",
              "  <thead>\n",
              "    <tr style=\"text-align: right;\">\n",
              "      <th></th>\n",
              "      <th>Age</th>\n",
              "      <th>Gender</th>\n",
              "      <th>Total_Bilirubin</th>\n",
              "      <th>Direct_Bilirubin</th>\n",
              "      <th>Alkaline_Phosphotase</th>\n",
              "      <th>Alamine_Aminotransferase</th>\n",
              "      <th>Aspartate_Aminotransferase</th>\n",
              "      <th>Total_Protiens</th>\n",
              "      <th>Albumin</th>\n",
              "      <th>Albumin_and_Globulin_Ratio</th>\n",
              "      <th>Dataset</th>\n",
              "    </tr>\n",
              "  </thead>\n",
              "  <tbody>\n",
              "    <tr>\n",
              "      <th>0</th>\n",
              "      <td>65</td>\n",
              "      <td>Female</td>\n",
              "      <td>0.7</td>\n",
              "      <td>0.1</td>\n",
              "      <td>187</td>\n",
              "      <td>16</td>\n",
              "      <td>18</td>\n",
              "      <td>6.8</td>\n",
              "      <td>3.3</td>\n",
              "      <td>0.90</td>\n",
              "      <td>1</td>\n",
              "    </tr>\n",
              "    <tr>\n",
              "      <th>1</th>\n",
              "      <td>62</td>\n",
              "      <td>Male</td>\n",
              "      <td>10.9</td>\n",
              "      <td>5.5</td>\n",
              "      <td>699</td>\n",
              "      <td>64</td>\n",
              "      <td>100</td>\n",
              "      <td>7.5</td>\n",
              "      <td>3.2</td>\n",
              "      <td>0.74</td>\n",
              "      <td>1</td>\n",
              "    </tr>\n",
              "    <tr>\n",
              "      <th>2</th>\n",
              "      <td>62</td>\n",
              "      <td>Male</td>\n",
              "      <td>7.3</td>\n",
              "      <td>4.1</td>\n",
              "      <td>490</td>\n",
              "      <td>60</td>\n",
              "      <td>68</td>\n",
              "      <td>7.0</td>\n",
              "      <td>3.3</td>\n",
              "      <td>0.89</td>\n",
              "      <td>1</td>\n",
              "    </tr>\n",
              "    <tr>\n",
              "      <th>3</th>\n",
              "      <td>58</td>\n",
              "      <td>Male</td>\n",
              "      <td>1.0</td>\n",
              "      <td>0.4</td>\n",
              "      <td>182</td>\n",
              "      <td>14</td>\n",
              "      <td>20</td>\n",
              "      <td>6.8</td>\n",
              "      <td>3.4</td>\n",
              "      <td>1.00</td>\n",
              "      <td>1</td>\n",
              "    </tr>\n",
              "    <tr>\n",
              "      <th>4</th>\n",
              "      <td>72</td>\n",
              "      <td>Male</td>\n",
              "      <td>3.9</td>\n",
              "      <td>2.0</td>\n",
              "      <td>195</td>\n",
              "      <td>27</td>\n",
              "      <td>59</td>\n",
              "      <td>7.3</td>\n",
              "      <td>2.4</td>\n",
              "      <td>0.40</td>\n",
              "      <td>1</td>\n",
              "    </tr>\n",
              "  </tbody>\n",
              "</table>\n",
              "</div>\n",
              "      <button class=\"colab-df-convert\" onclick=\"convertToInteractive('df-a20b775e-863d-4799-8a23-97bc08128aaf')\"\n",
              "              title=\"Convert this dataframe to an interactive table.\"\n",
              "              style=\"display:none;\">\n",
              "        \n",
              "  <svg xmlns=\"http://www.w3.org/2000/svg\" height=\"24px\"viewBox=\"0 0 24 24\"\n",
              "       width=\"24px\">\n",
              "    <path d=\"M0 0h24v24H0V0z\" fill=\"none\"/>\n",
              "    <path d=\"M18.56 5.44l.94 2.06.94-2.06 2.06-.94-2.06-.94-.94-2.06-.94 2.06-2.06.94zm-11 1L8.5 8.5l.94-2.06 2.06-.94-2.06-.94L8.5 2.5l-.94 2.06-2.06.94zm10 10l.94 2.06.94-2.06 2.06-.94-2.06-.94-.94-2.06-.94 2.06-2.06.94z\"/><path d=\"M17.41 7.96l-1.37-1.37c-.4-.4-.92-.59-1.43-.59-.52 0-1.04.2-1.43.59L10.3 9.45l-7.72 7.72c-.78.78-.78 2.05 0 2.83L4 21.41c.39.39.9.59 1.41.59.51 0 1.02-.2 1.41-.59l7.78-7.78 2.81-2.81c.8-.78.8-2.07 0-2.86zM5.41 20L4 18.59l7.72-7.72 1.47 1.35L5.41 20z\"/>\n",
              "  </svg>\n",
              "      </button>\n",
              "      \n",
              "  <style>\n",
              "    .colab-df-container {\n",
              "      display:flex;\n",
              "      flex-wrap:wrap;\n",
              "      gap: 12px;\n",
              "    }\n",
              "\n",
              "    .colab-df-convert {\n",
              "      background-color: #E8F0FE;\n",
              "      border: none;\n",
              "      border-radius: 50%;\n",
              "      cursor: pointer;\n",
              "      display: none;\n",
              "      fill: #1967D2;\n",
              "      height: 32px;\n",
              "      padding: 0 0 0 0;\n",
              "      width: 32px;\n",
              "    }\n",
              "\n",
              "    .colab-df-convert:hover {\n",
              "      background-color: #E2EBFA;\n",
              "      box-shadow: 0px 1px 2px rgba(60, 64, 67, 0.3), 0px 1px 3px 1px rgba(60, 64, 67, 0.15);\n",
              "      fill: #174EA6;\n",
              "    }\n",
              "\n",
              "    [theme=dark] .colab-df-convert {\n",
              "      background-color: #3B4455;\n",
              "      fill: #D2E3FC;\n",
              "    }\n",
              "\n",
              "    [theme=dark] .colab-df-convert:hover {\n",
              "      background-color: #434B5C;\n",
              "      box-shadow: 0px 1px 3px 1px rgba(0, 0, 0, 0.15);\n",
              "      filter: drop-shadow(0px 1px 2px rgba(0, 0, 0, 0.3));\n",
              "      fill: #FFFFFF;\n",
              "    }\n",
              "  </style>\n",
              "\n",
              "      <script>\n",
              "        const buttonEl =\n",
              "          document.querySelector('#df-a20b775e-863d-4799-8a23-97bc08128aaf button.colab-df-convert');\n",
              "        buttonEl.style.display =\n",
              "          google.colab.kernel.accessAllowed ? 'block' : 'none';\n",
              "\n",
              "        async function convertToInteractive(key) {\n",
              "          const element = document.querySelector('#df-a20b775e-863d-4799-8a23-97bc08128aaf');\n",
              "          const dataTable =\n",
              "            await google.colab.kernel.invokeFunction('convertToInteractive',\n",
              "                                                     [key], {});\n",
              "          if (!dataTable) return;\n",
              "\n",
              "          const docLinkHtml = 'Like what you see? Visit the ' +\n",
              "            '<a target=\"_blank\" href=https://colab.research.google.com/notebooks/data_table.ipynb>data table notebook</a>'\n",
              "            + ' to learn more about interactive tables.';\n",
              "          element.innerHTML = '';\n",
              "          dataTable['output_type'] = 'display_data';\n",
              "          await google.colab.output.renderOutput(dataTable, element);\n",
              "          const docLink = document.createElement('div');\n",
              "          docLink.innerHTML = docLinkHtml;\n",
              "          element.appendChild(docLink);\n",
              "        }\n",
              "      </script>\n",
              "    </div>\n",
              "  </div>\n",
              "  "
            ],
            "text/plain": [
              "   Age  Gender  Total_Bilirubin  ...  Albumin  Albumin_and_Globulin_Ratio  Dataset\n",
              "0   65  Female              0.7  ...      3.3                        0.90        1\n",
              "1   62    Male             10.9  ...      3.2                        0.74        1\n",
              "2   62    Male              7.3  ...      3.3                        0.89        1\n",
              "3   58    Male              1.0  ...      3.4                        1.00        1\n",
              "4   72    Male              3.9  ...      2.4                        0.40        1\n",
              "\n",
              "[5 rows x 11 columns]"
            ]
          },
          "metadata": {},
          "execution_count": 35
        }
      ]
    },
    {
      "cell_type": "code",
      "metadata": {
        "id": "UzsbSOemXCXq",
        "colab": {
          "base_uri": "https://localhost:8080/"
        },
        "outputId": "5fc81f03-fa80-455f-8283-531d0b212e5d"
      },
      "source": [
        "# S1.3: Get the dataset information.\n",
        "df.info()"
      ],
      "execution_count": 36,
      "outputs": [
        {
          "output_type": "stream",
          "name": "stdout",
          "text": [
            "<class 'pandas.core.frame.DataFrame'>\n",
            "RangeIndex: 583 entries, 0 to 582\n",
            "Data columns (total 11 columns):\n",
            " #   Column                      Non-Null Count  Dtype  \n",
            "---  ------                      --------------  -----  \n",
            " 0   Age                         583 non-null    int64  \n",
            " 1   Gender                      583 non-null    object \n",
            " 2   Total_Bilirubin             583 non-null    float64\n",
            " 3   Direct_Bilirubin            583 non-null    float64\n",
            " 4   Alkaline_Phosphotase        583 non-null    int64  \n",
            " 5   Alamine_Aminotransferase    583 non-null    int64  \n",
            " 6   Aspartate_Aminotransferase  583 non-null    int64  \n",
            " 7   Total_Protiens              583 non-null    float64\n",
            " 8   Albumin                     583 non-null    float64\n",
            " 9   Albumin_and_Globulin_Ratio  579 non-null    float64\n",
            " 10  Dataset                     583 non-null    int64  \n",
            "dtypes: float64(5), int64(5), object(1)\n",
            "memory usage: 50.2+ KB\n"
          ]
        }
      ]
    },
    {
      "cell_type": "code",
      "metadata": {
        "id": "Ewbd0steXDJd",
        "colab": {
          "base_uri": "https://localhost:8080/"
        },
        "outputId": "bede02e0-6cb3-46db-a64c-baef821d6cf4"
      },
      "source": [
        "# S1.4: Check for the null values.\n",
        "df.isnull().sum()"
      ],
      "execution_count": 37,
      "outputs": [
        {
          "output_type": "execute_result",
          "data": {
            "text/plain": [
              "Age                           0\n",
              "Gender                        0\n",
              "Total_Bilirubin               0\n",
              "Direct_Bilirubin              0\n",
              "Alkaline_Phosphotase          0\n",
              "Alamine_Aminotransferase      0\n",
              "Aspartate_Aminotransferase    0\n",
              "Total_Protiens                0\n",
              "Albumin                       0\n",
              "Albumin_and_Globulin_Ratio    4\n",
              "Dataset                       0\n",
              "dtype: int64"
            ]
          },
          "metadata": {},
          "execution_count": 37
        }
      ]
    },
    {
      "cell_type": "code",
      "metadata": {
        "id": "81SnBkfIaihm",
        "colab": {
          "base_uri": "https://localhost:8080/"
        },
        "outputId": "48c7572f-95f4-481e-b29d-ecc5971b3070"
      },
      "source": [
        "# S1.5: Treat the missing values and check for the null values again.\n",
        "df.loc[df['Albumin_and_Globulin_Ratio'].isnull()==True,'Albumin_and_Globulin_Ratio']=df['Albumin_and_Globulin_Ratio'].median()\n",
        "df.isnull().sum()\n"
      ],
      "execution_count": 38,
      "outputs": [
        {
          "output_type": "execute_result",
          "data": {
            "text/plain": [
              "Age                           0\n",
              "Gender                        0\n",
              "Total_Bilirubin               0\n",
              "Direct_Bilirubin              0\n",
              "Alkaline_Phosphotase          0\n",
              "Alamine_Aminotransferase      0\n",
              "Aspartate_Aminotransferase    0\n",
              "Total_Protiens                0\n",
              "Albumin                       0\n",
              "Albumin_and_Globulin_Ratio    0\n",
              "Dataset                       0\n",
              "dtype: int64"
            ]
          },
          "metadata": {},
          "execution_count": 38
        }
      ]
    },
    {
      "cell_type": "markdown",
      "metadata": {
        "id": "d2qRK7aNcgY0"
      },
      "source": [
        "**Renaming a Column**\n",
        "\n",
        "To rename a column in a Pandas DataFrame, use the `rename()` function. It requires a dictionary as an input to the `columns` parameter. The dictionary must contain the old column names and new column names as a key-value pair respectively.\n",
        "\n",
        "**Syntax of `rename()` function:** `dataframe.rename(columns=dictionary_of_new_and_old_names)`\n",
        "\n",
        "Where `dictionary_of_new_and_old_names` is a dictionary containing old column names and new column names as a key-value pair respectively."
      ]
    },
    {
      "cell_type": "code",
      "metadata": {
        "id": "zSJRKUaDXEgv"
      },
      "source": [
        "# S1.6: Rename the 'Dataset' column with the name 'Disease'. Also, rename the 'Alkaline_Phosphotase' column with 'Alkaline_Phosphatase'\n",
        "# Also, rename the 'Alamine_Aminotransferase' column with 'Alanine_Aminotransferase'\n",
        "df.rename(columns= {\"Dataset\":\"Disease\" ,'Alkaline_Phosphotase' :'Alkaline_Phosphatase' , 'Alamine_Aminotransferase':'Alanine_Aminotransferase'} , inplace = True)\n",
        "\n"
      ],
      "execution_count": 39,
      "outputs": []
    },
    {
      "cell_type": "markdown",
      "metadata": {
        "id": "NISiQZ6CdwKF"
      },
      "source": [
        "**Note:** By setting the `True` value to the `inplace` parameter, we are telling Python to override the current column name permanently. Otherwise, the column will get changed only for that code execution. For further code execution, the original column name will get reset automatically."
      ]
    },
    {
      "cell_type": "code",
      "metadata": {
        "id": "THqhfkxku_H1",
        "colab": {
          "base_uri": "https://localhost:8080/"
        },
        "outputId": "829c9eee-673c-4a16-d35d-ff1002fbecc3"
      },
      "source": [
        "# S1.7: Check whether we have the desired column names.\n",
        "df.columns"
      ],
      "execution_count": 40,
      "outputs": [
        {
          "output_type": "execute_result",
          "data": {
            "text/plain": [
              "Index(['Age', 'Gender', 'Total_Bilirubin', 'Direct_Bilirubin',\n",
              "       'Alkaline_Phosphatase', 'Alanine_Aminotransferase',\n",
              "       'Aspartate_Aminotransferase', 'Total_Protiens', 'Albumin',\n",
              "       'Albumin_and_Globulin_Ratio', 'Disease'],\n",
              "      dtype='object')"
            ]
          },
          "metadata": {},
          "execution_count": 40
        }
      ]
    },
    {
      "cell_type": "markdown",
      "metadata": {
        "id": "cDkmLtNtgskf"
      },
      "source": [
        "**Labelling Age Group**\n",
        "\n",
        "We need to label each patient as \n",
        "\n",
        "- a juvenile i.e. a person whose age is less than 18 years.\n",
        "\n",
        "- an adult i.e. a person whose age is greater than or equal to 18 years but less than 50 years.\n",
        "\n",
        "- an elderly i.e. a person whose age is at least 50 years.\n",
        "\n",
        "so that later we can find out the probability of a patient having the liver disease given that he/she is \n",
        "\n",
        "- a juvenile\n",
        "\n",
        "- an adult\n",
        "\n",
        "- an elderly"
      ]
    },
    {
      "cell_type": "code",
      "metadata": {
        "id": "3UvrAlwXOcKJ"
      },
      "source": [
        "# S1.8: Create a function which takes a Pandas series as an input and returns another Pandas series as an output containing items 1, 2 and 3.\n",
        "def age_group(series):\n",
        "  age_group_list = []\n",
        "  for age in series:\n",
        "    if age<18:\n",
        "      age_group_list.append(1)\n",
        "    elif (age>=18)&(age<50):\n",
        "      age_group_list.append(2)\n",
        "    else:\n",
        "      age_group_list.append(3)\n",
        "\n",
        "  return pd.Series(age_group_list)\n"
      ],
      "execution_count": 41,
      "outputs": []
    },
    {
      "cell_type": "code",
      "metadata": {
        "id": "xOzufwp3Fd1r",
        "colab": {
          "base_uri": "https://localhost:8080/",
          "height": 270
        },
        "outputId": "631ea132-a7c1-4ce5-8806-dec4ce6644a6"
      },
      "source": [
        "# S1.9: Add a new column to the 'df' DataFrame.\n",
        "df[\"Age_Group\"]=age_group(df[\"Age\"])\n",
        "df.head()"
      ],
      "execution_count": 42,
      "outputs": [
        {
          "output_type": "execute_result",
          "data": {
            "text/html": [
              "\n",
              "  <div id=\"df-8d1dbeaf-18f5-4b04-98a1-62c220ee0201\">\n",
              "    <div class=\"colab-df-container\">\n",
              "      <div>\n",
              "<style scoped>\n",
              "    .dataframe tbody tr th:only-of-type {\n",
              "        vertical-align: middle;\n",
              "    }\n",
              "\n",
              "    .dataframe tbody tr th {\n",
              "        vertical-align: top;\n",
              "    }\n",
              "\n",
              "    .dataframe thead th {\n",
              "        text-align: right;\n",
              "    }\n",
              "</style>\n",
              "<table border=\"1\" class=\"dataframe\">\n",
              "  <thead>\n",
              "    <tr style=\"text-align: right;\">\n",
              "      <th></th>\n",
              "      <th>Age</th>\n",
              "      <th>Gender</th>\n",
              "      <th>Total_Bilirubin</th>\n",
              "      <th>Direct_Bilirubin</th>\n",
              "      <th>Alkaline_Phosphatase</th>\n",
              "      <th>Alanine_Aminotransferase</th>\n",
              "      <th>Aspartate_Aminotransferase</th>\n",
              "      <th>Total_Protiens</th>\n",
              "      <th>Albumin</th>\n",
              "      <th>Albumin_and_Globulin_Ratio</th>\n",
              "      <th>Disease</th>\n",
              "      <th>Age_Group</th>\n",
              "    </tr>\n",
              "  </thead>\n",
              "  <tbody>\n",
              "    <tr>\n",
              "      <th>0</th>\n",
              "      <td>65</td>\n",
              "      <td>Female</td>\n",
              "      <td>0.7</td>\n",
              "      <td>0.1</td>\n",
              "      <td>187</td>\n",
              "      <td>16</td>\n",
              "      <td>18</td>\n",
              "      <td>6.8</td>\n",
              "      <td>3.3</td>\n",
              "      <td>0.90</td>\n",
              "      <td>1</td>\n",
              "      <td>3</td>\n",
              "    </tr>\n",
              "    <tr>\n",
              "      <th>1</th>\n",
              "      <td>62</td>\n",
              "      <td>Male</td>\n",
              "      <td>10.9</td>\n",
              "      <td>5.5</td>\n",
              "      <td>699</td>\n",
              "      <td>64</td>\n",
              "      <td>100</td>\n",
              "      <td>7.5</td>\n",
              "      <td>3.2</td>\n",
              "      <td>0.74</td>\n",
              "      <td>1</td>\n",
              "      <td>3</td>\n",
              "    </tr>\n",
              "    <tr>\n",
              "      <th>2</th>\n",
              "      <td>62</td>\n",
              "      <td>Male</td>\n",
              "      <td>7.3</td>\n",
              "      <td>4.1</td>\n",
              "      <td>490</td>\n",
              "      <td>60</td>\n",
              "      <td>68</td>\n",
              "      <td>7.0</td>\n",
              "      <td>3.3</td>\n",
              "      <td>0.89</td>\n",
              "      <td>1</td>\n",
              "      <td>3</td>\n",
              "    </tr>\n",
              "    <tr>\n",
              "      <th>3</th>\n",
              "      <td>58</td>\n",
              "      <td>Male</td>\n",
              "      <td>1.0</td>\n",
              "      <td>0.4</td>\n",
              "      <td>182</td>\n",
              "      <td>14</td>\n",
              "      <td>20</td>\n",
              "      <td>6.8</td>\n",
              "      <td>3.4</td>\n",
              "      <td>1.00</td>\n",
              "      <td>1</td>\n",
              "      <td>3</td>\n",
              "    </tr>\n",
              "    <tr>\n",
              "      <th>4</th>\n",
              "      <td>72</td>\n",
              "      <td>Male</td>\n",
              "      <td>3.9</td>\n",
              "      <td>2.0</td>\n",
              "      <td>195</td>\n",
              "      <td>27</td>\n",
              "      <td>59</td>\n",
              "      <td>7.3</td>\n",
              "      <td>2.4</td>\n",
              "      <td>0.40</td>\n",
              "      <td>1</td>\n",
              "      <td>3</td>\n",
              "    </tr>\n",
              "  </tbody>\n",
              "</table>\n",
              "</div>\n",
              "      <button class=\"colab-df-convert\" onclick=\"convertToInteractive('df-8d1dbeaf-18f5-4b04-98a1-62c220ee0201')\"\n",
              "              title=\"Convert this dataframe to an interactive table.\"\n",
              "              style=\"display:none;\">\n",
              "        \n",
              "  <svg xmlns=\"http://www.w3.org/2000/svg\" height=\"24px\"viewBox=\"0 0 24 24\"\n",
              "       width=\"24px\">\n",
              "    <path d=\"M0 0h24v24H0V0z\" fill=\"none\"/>\n",
              "    <path d=\"M18.56 5.44l.94 2.06.94-2.06 2.06-.94-2.06-.94-.94-2.06-.94 2.06-2.06.94zm-11 1L8.5 8.5l.94-2.06 2.06-.94-2.06-.94L8.5 2.5l-.94 2.06-2.06.94zm10 10l.94 2.06.94-2.06 2.06-.94-2.06-.94-.94-2.06-.94 2.06-2.06.94z\"/><path d=\"M17.41 7.96l-1.37-1.37c-.4-.4-.92-.59-1.43-.59-.52 0-1.04.2-1.43.59L10.3 9.45l-7.72 7.72c-.78.78-.78 2.05 0 2.83L4 21.41c.39.39.9.59 1.41.59.51 0 1.02-.2 1.41-.59l7.78-7.78 2.81-2.81c.8-.78.8-2.07 0-2.86zM5.41 20L4 18.59l7.72-7.72 1.47 1.35L5.41 20z\"/>\n",
              "  </svg>\n",
              "      </button>\n",
              "      \n",
              "  <style>\n",
              "    .colab-df-container {\n",
              "      display:flex;\n",
              "      flex-wrap:wrap;\n",
              "      gap: 12px;\n",
              "    }\n",
              "\n",
              "    .colab-df-convert {\n",
              "      background-color: #E8F0FE;\n",
              "      border: none;\n",
              "      border-radius: 50%;\n",
              "      cursor: pointer;\n",
              "      display: none;\n",
              "      fill: #1967D2;\n",
              "      height: 32px;\n",
              "      padding: 0 0 0 0;\n",
              "      width: 32px;\n",
              "    }\n",
              "\n",
              "    .colab-df-convert:hover {\n",
              "      background-color: #E2EBFA;\n",
              "      box-shadow: 0px 1px 2px rgba(60, 64, 67, 0.3), 0px 1px 3px 1px rgba(60, 64, 67, 0.15);\n",
              "      fill: #174EA6;\n",
              "    }\n",
              "\n",
              "    [theme=dark] .colab-df-convert {\n",
              "      background-color: #3B4455;\n",
              "      fill: #D2E3FC;\n",
              "    }\n",
              "\n",
              "    [theme=dark] .colab-df-convert:hover {\n",
              "      background-color: #434B5C;\n",
              "      box-shadow: 0px 1px 3px 1px rgba(0, 0, 0, 0.15);\n",
              "      filter: drop-shadow(0px 1px 2px rgba(0, 0, 0, 0.3));\n",
              "      fill: #FFFFFF;\n",
              "    }\n",
              "  </style>\n",
              "\n",
              "      <script>\n",
              "        const buttonEl =\n",
              "          document.querySelector('#df-8d1dbeaf-18f5-4b04-98a1-62c220ee0201 button.colab-df-convert');\n",
              "        buttonEl.style.display =\n",
              "          google.colab.kernel.accessAllowed ? 'block' : 'none';\n",
              "\n",
              "        async function convertToInteractive(key) {\n",
              "          const element = document.querySelector('#df-8d1dbeaf-18f5-4b04-98a1-62c220ee0201');\n",
              "          const dataTable =\n",
              "            await google.colab.kernel.invokeFunction('convertToInteractive',\n",
              "                                                     [key], {});\n",
              "          if (!dataTable) return;\n",
              "\n",
              "          const docLinkHtml = 'Like what you see? Visit the ' +\n",
              "            '<a target=\"_blank\" href=https://colab.research.google.com/notebooks/data_table.ipynb>data table notebook</a>'\n",
              "            + ' to learn more about interactive tables.';\n",
              "          element.innerHTML = '';\n",
              "          dataTable['output_type'] = 'display_data';\n",
              "          await google.colab.output.renderOutput(dataTable, element);\n",
              "          const docLink = document.createElement('div');\n",
              "          docLink.innerHTML = docLinkHtml;\n",
              "          element.appendChild(docLink);\n",
              "        }\n",
              "      </script>\n",
              "    </div>\n",
              "  </div>\n",
              "  "
            ],
            "text/plain": [
              "   Age  Gender  Total_Bilirubin  ...  Albumin_and_Globulin_Ratio  Disease  Age_Group\n",
              "0   65  Female              0.7  ...                        0.90        1          3\n",
              "1   62    Male             10.9  ...                        0.74        1          3\n",
              "2   62    Male              7.3  ...                        0.89        1          3\n",
              "3   58    Male              1.0  ...                        1.00        1          3\n",
              "4   72    Male              3.9  ...                        0.40        1          3\n",
              "\n",
              "[5 rows x 12 columns]"
            ]
          },
          "metadata": {},
          "execution_count": 42
        }
      ]
    },
    {
      "cell_type": "markdown",
      "metadata": {
        "id": "XzsuC8SNvCIS"
      },
      "source": [
        "**Encoding Gender**\n",
        "\n",
        "Encode (or convert) the `Male` and `Female` values for the `Gender` column to the numeric values, i.e., `0` and `1`. For this, we can use the `replace()` function."
      ]
    },
    {
      "cell_type": "code",
      "metadata": {
        "id": "GUIaT4MhyDfe",
        "colab": {
          "base_uri": "https://localhost:8080/"
        },
        "outputId": "b94f7213-fc48-4e15-aa46-6934b80edef4"
      },
      "source": [
        "# S1.10: Find the number of male and female patients before encoding.\n",
        "df['Gender'].value_counts()"
      ],
      "execution_count": 43,
      "outputs": [
        {
          "output_type": "execute_result",
          "data": {
            "text/plain": [
              "Male      441\n",
              "Female    142\n",
              "Name: Gender, dtype: int64"
            ]
          },
          "metadata": {},
          "execution_count": 43
        }
      ]
    },
    {
      "cell_type": "code",
      "metadata": {
        "id": "uA2ANlQzvOZf"
      },
      "source": [
        "# S1.11: Encode the 'Male' & 'Female' values for the 'Gender' column to the numeric values, i.e. 0 and 1.\n",
        "df['Gender'].replace({'Male':0,'Female':1},inplace=True)"
      ],
      "execution_count": 44,
      "outputs": []
    },
    {
      "cell_type": "markdown",
      "metadata": {
        "id": "D8HndcEO1L-3"
      },
      "source": [
        "**Note:** By setting the `True` value to the `inplace` parameter, we are telling Python to override the current values in the `Gender` column permanently. Otherwise, the gender values will get changed only for that code execution. For further code execution, the original gender values will get reset automatically."
      ]
    },
    {
      "cell_type": "code",
      "metadata": {
        "id": "gXnNlnPswstL",
        "colab": {
          "base_uri": "https://localhost:8080/"
        },
        "outputId": "8803f416-80eb-463f-a413-8153c75b1348"
      },
      "source": [
        "# S1.12: Find the number of male and female patients after encoding.\n",
        "df['Gender'].value_counts()"
      ],
      "execution_count": 45,
      "outputs": [
        {
          "output_type": "execute_result",
          "data": {
            "text/plain": [
              "0    441\n",
              "1    142\n",
              "Name: Gender, dtype: int64"
            ]
          },
          "metadata": {},
          "execution_count": 45
        }
      ]
    },
    {
      "cell_type": "markdown",
      "metadata": {
        "id": "54naVlfsBBQ9"
      },
      "source": [
        "Hence, we have successfully encoded all the `Male` and `Female` values for the `Gender` column to the numeric values, i.e. `0` and `1`."
      ]
    },
    {
      "cell_type": "markdown",
      "metadata": {
        "id": "t8yZTF00uvkz"
      },
      "source": [
        "---"
      ]
    },
    {
      "cell_type": "markdown",
      "metadata": {
        "id": "izRk-s8guwiK"
      },
      "source": [
        "#### Task 2: Computing Probabilities\n",
        "\n",
        "Let's answer the following questions:\n",
        "\n",
        "1. What is the probability that a patient is a juvenile? \n",
        "\n",
        "2. What is the probability that a patient is an adult? \n",
        "\n",
        "3. What is the probability that a patient is an elderly?\n",
        "\n",
        "4. What is the probability that a patient has the liver disease given that the patient is a juvenile?\n",
        "\n",
        "5. What is the probability that a patient has the liver disease given that the patient is an adult?\n",
        "\n",
        "6. What is the probability that a patient has the liver disease given that the patient is an elderly?"
      ]
    },
    {
      "cell_type": "code",
      "metadata": {
        "id": "JpHZrDitRXro",
        "colab": {
          "base_uri": "https://localhost:8080/"
        },
        "outputId": "6669ac04-c02e-4bb1-cb91-75ae4b80629f"
      },
      "source": [
        "# S2.1 Find the number of patients who are juveniles, adults and elderlies.\n",
        "df[\"Age_Group\"].value_counts()"
      ],
      "execution_count": 46,
      "outputs": [
        {
          "output_type": "execute_result",
          "data": {
            "text/plain": [
              "2    328\n",
              "3    230\n",
              "1     25\n",
              "Name: Age_Group, dtype: int64"
            ]
          },
          "metadata": {},
          "execution_count": 46
        }
      ]
    },
    {
      "cell_type": "markdown",
      "metadata": {
        "id": "eQ7F4UxwRdOJ"
      },
      "source": [
        "Juveniles are very few in number."
      ]
    },
    {
      "cell_type": "code",
      "metadata": {
        "id": "rrGA0fp_Rhtl",
        "colab": {
          "base_uri": "https://localhost:8080/"
        },
        "outputId": "b43d964b-55cf-44c5-a7bd-9ee017fca6a4"
      },
      "source": [
        "# S2.2: What is the probability that a patient is a juvenile? What is the probability that a patient is an adult? \n",
        "# What is the probability that a patient is an elderly?\n",
        "prob_j = df[df[\"Age_Group\"]==1].shape[0] / df.shape[0]\n",
        "prob_a = df[df[\"Age_Group\"]==2].shape[0] / df.shape[0]\n",
        "prob_e = df[df[\"Age_Group\"]==3].shape[0] / df.shape[0]\n",
        "print(prob_j , prob_a  , prob_e)"
      ],
      "execution_count": 47,
      "outputs": [
        {
          "output_type": "stream",
          "name": "stdout",
          "text": [
            "0.04288164665523156 0.5626072041166381 0.39451114922813035\n"
          ]
        }
      ]
    },
    {
      "cell_type": "markdown",
      "metadata": {
        "id": "Xs7eu9icSaDu"
      },
      "source": [
        "As expected, the probability that a patient having the liver disease is an adult is the greatest amongst the three age groups.\n",
        "\n",
        "The sum of the above three probabilities should be one."
      ]
    },
    {
      "cell_type": "code",
      "metadata": {
        "id": "jDyYiLnzBAtE",
        "colab": {
          "base_uri": "https://localhost:8080/"
        },
        "outputId": "b602cf96-49fd-4449-933e-b76c1f0d30e0"
      },
      "source": [
        "# S2.3: Calculate the sum of the above three probabilities.\n",
        "prob_j +prob_a+prob_e"
      ],
      "execution_count": 48,
      "outputs": [
        {
          "output_type": "execute_result",
          "data": {
            "text/plain": [
              "1.0"
            ]
          },
          "metadata": {},
          "execution_count": 48
        }
      ]
    },
    {
      "cell_type": "markdown",
      "metadata": {
        "id": "AxdXbQgay5QT"
      },
      "source": [
        "The remaining three probabilities: \n",
        "\n",
        "- What is the probability that a patient has liver disease given that the patient is a juvenile?\n",
        "\n",
        "- What is the probability that a patient has liver disease given that the patient is an adult?\n",
        "\n",
        "- What is the probability that a patient has liver disease given that the patient is elderly?\n",
        "\n",
        "These are **conditional probabilities** because they have a condition involved in them. \n",
        "\n",
        "- In the first case, the condition is that a patient is a juvenile.\n",
        "\n",
        "- In the second case, the condition is that a patient is an adult.\n",
        "\n",
        "- In the third case, the condition is that a patient is elderly.\n",
        "\n",
        "So to solve the first case, we need to find the number of patients amongst the juveniles having the disease, then calculate the probability of juveniles having liver disease, and then multiply it with the probability that a patient is a juvenile.\n",
        "\n",
        "<img src='https://student-datasets-bucket.s3.ap-south-1.amazonaws.com/images/prob_juve_img1.png' width=700>\n",
        "\n",
        "We will repeat the same process for the adults and the elderlies as well.\n",
        "\n",
        "<img src='https://student-datasets-bucket.s3.ap-south-1.amazonaws.com/images/prob_juve_img2.png' width=700>\n",
        "\n",
        "\n"
      ]
    },
    {
      "cell_type": "code",
      "metadata": {
        "id": "YcHhZqiQv06N",
        "colab": {
          "base_uri": "https://localhost:8080/"
        },
        "outputId": "5d257b96-1141-4740-ab70-19c506cea6f4"
      },
      "source": [
        "# S2.4: Find the probability that a patient has the liver disease given that they are a juvenile.\n",
        "# Also, find the probability that a patient doesn't have the liver disease given that they are a juvenile.\n",
        "j_df = df[df[\"Age_Group\"]==1]\n",
        "prob_j_disease = j_df[j_df[\"Disease\"]==1].shape[0] / j_df.shape[0]\n",
        "prob_j_not_disease = j_df[j_df[\"Disease\"]==2].shape[0] / j_df.shape[0]\n",
        "print(prob_j_disease)\n",
        "print(prob_j_not_disease)\n",
        "print(prob_j*prob_j_disease)\n",
        "print(prob_j*prob_j_not_disease)"
      ],
      "execution_count": 49,
      "outputs": [
        {
          "output_type": "stream",
          "name": "stdout",
          "text": [
            "0.48\n",
            "0.52\n",
            "0.020583190394511147\n",
            "0.022298456260720412\n"
          ]
        }
      ]
    },
    {
      "cell_type": "markdown",
      "metadata": {
        "id": "AByoR9bO2nZU"
      },
      "source": [
        "The probability tree now looks like this\n",
        "\n",
        "<img src='https://student-datasets-bucket.s3.ap-south-1.amazonaws.com/images/prob_juve_img3.png' width=700>\n"
      ]
    },
    {
      "cell_type": "code",
      "metadata": {
        "id": "DBQ_4gSXxWuJ",
        "colab": {
          "base_uri": "https://localhost:8080/"
        },
        "outputId": "bf817597-62f9-4f85-b892-12a57423d112"
      },
      "source": [
        "# S2.5: Find the probability that a patient has the liver disease given that they are an adult.\n",
        "# Also, find the probability that a patient doesn't have the liver disease given that they are an adult.\n",
        "a_df = df[df[\"Age_Group\"]==2]\n",
        "prob_a_disease = a_df[a_df[\"Disease\"]==1].shape[0] / a_df.shape[0]\n",
        "prob_a_not_disease = a_df[a_df[\"Disease\"]==2].shape[0] / a_df.shape[0]\n",
        "print(prob_a_disease)\n",
        "print(prob_a_not_disease)\n",
        "print(prob_a*prob_a_disease)\n",
        "print(prob_a*prob_a_not_disease)"
      ],
      "execution_count": 54,
      "outputs": [
        {
          "output_type": "stream",
          "name": "stdout",
          "text": [
            "0.698170731707317\n",
            "0.3018292682926829\n",
            "0.3927958833619211\n",
            "0.169811320754717\n"
          ]
        }
      ]
    },
    {
      "cell_type": "markdown",
      "metadata": {
        "id": "eT6tFMTM5jRb"
      },
      "source": [
        "The probability tree now looks like this\n",
        "\n",
        "<img src='https://student-datasets-bucket.s3.ap-south-1.amazonaws.com/images/prob_juve_img4.png' width=700>\n"
      ]
    },
    {
      "cell_type": "code",
      "metadata": {
        "id": "DyiECdM6yNOJ",
        "colab": {
          "base_uri": "https://localhost:8080/"
        },
        "outputId": "67d7999d-3fee-46ef-ca64-8ca0f5259d66"
      },
      "source": [
        "# S2.6: Find the probability that a patient has the liver disease given that they are an elderly.\n",
        "# Also, find the probability that a patient doesn't have the liver disease given that they are an elderly.\n",
        "e_df = df[df[\"Age_Group\"]==3]\n",
        "prob_e_disease = e_df[e_df[\"Disease\"]==1].shape[0] / e_df.shape[0]\n",
        "prob_e_not_disease = e_df[e_df[\"Disease\"]==2].shape[0] / e_df.shape[0]\n",
        "print(prob_e_disease)\n",
        "print(prob_e_not_disease)\n",
        "print(prob_e*prob_e_disease)\n",
        "print(prob_e*prob_e_not_disease)"
      ],
      "execution_count": 55,
      "outputs": [
        {
          "output_type": "stream",
          "name": "stdout",
          "text": [
            "0.7608695652173914\n",
            "0.2391304347826087\n",
            "0.30017152658662094\n",
            "0.09433962264150944\n"
          ]
        }
      ]
    },
    {
      "cell_type": "markdown",
      "metadata": {
        "id": "jOwspnKj7dxW"
      },
      "source": [
        "The probability tree now looks like this\n",
        "\n",
        "<img src='https://student-datasets-bucket.s3.ap-south-1.amazonaws.com/images/prob_juve_img5.png' width=700>\n"
      ]
    },
    {
      "cell_type": "markdown",
      "metadata": {
        "id": "q-0bv0rQxf8a"
      },
      "source": [
        "You can collect the favourable cases, i.e, the juvenile patients having the disease using the `&` operator and the calculate the probabilities."
      ]
    },
    {
      "cell_type": "code",
      "metadata": {
        "id": "9argy0GgTD8T",
        "colab": {
          "base_uri": "https://localhost:8080/"
        },
        "outputId": "54a6543d-4687-4c69-b07e-85af62cf7acb"
      },
      "source": [
        "# S2.7: Find the probability that a patient has the liver disease given that they are a juvenile.\n",
        "# Also, find the probability that a patient doesn't have the liver disease given that they are a juvenile.\n",
        "prob_juve_and_disease = df.loc[(df['Age_Group'] == 1) & (df['Disease'] == 1), 'Age_Group'].shape[0] / df.shape[0]\n",
        "prob_juve_and_not_disease = df.loc[(df['Age_Group'] == 1) & (df['Disease'] == 2), 'Age_Group'].shape[0] / df.shape[0]\n",
        "\n",
        "print(f\"Probability that a patient has the liver disease given that they are a juvenile: {prob_juve_and_disease:.3f}\")\n",
        "print(f\"Probability that a patient DOES NOT have the liver disease given that they are a juvenile: {prob_juve_and_not_disease:.3f}\")"
      ],
      "execution_count": 52,
      "outputs": [
        {
          "output_type": "stream",
          "name": "stdout",
          "text": [
            "Probability that a patient has the liver disease given that they are a juvenile: 0.021\n",
            "Probability that a patient DOES NOT have the liver disease given that they are a juvenile: 0.022\n"
          ]
        }
      ]
    },
    {
      "cell_type": "markdown",
      "metadata": {
        "id": "X64RV6oM-KRD"
      },
      "source": [
        "**Note:** We can apply the `&` operator only when the occurrence of two events are independent of each other. Age is not the cause of the liver disease. Hence, age and liver disease are independent of each other. Statistically, there is a relatively high probability that an adult is more likely to have the  disease. Still, it doesn't mean that age is the cause of liver diseases.\n",
        "\n",
        "It is the same as saying that it is not necessary that all tall players are good basketball players. The tall players have more advantage than short players."
      ]
    },
    {
      "cell_type": "code",
      "metadata": {
        "id": "jUTSkhHT9VuA",
        "colab": {
          "base_uri": "https://localhost:8080/"
        },
        "outputId": "86d87164-3a0c-47b9-a02c-e8893e3dc4ed"
      },
      "source": [
        "# S2.8: Find the remaining two conditional probabilities.\n",
        "prob_adult_and_disease = df.loc[(df['Age_Group'] == 2) & (df['Disease'] == 1), 'Age_Group'].shape[0] / df.shape[0]\n",
        "prob_adult_and_not_disease = df.loc[(df['Age_Group'] == 2) & (df['Disease'] == 2), 'Age_Group'].shape[0] / df.shape[0]\n",
        "\n",
        "prob_elder_and_disease = df.loc[(df['Age_Group'] == 3) & (df['Disease'] == 1), 'Age_Group'].shape[0] / df.shape[0]\n",
        "prob_elder_and_not_disease = df.loc[(df['Age_Group'] == 3) & (df['Disease'] == 2), 'Age_Group'].shape[0] / df.shape[0]\n",
        "\n",
        "print(f\"Probability that a patient has the liver disease given that they are an adult: {prob_adult_and_disease:.3f}\")\n",
        "print(f\"Probability that a patient DOES NOT have the liver disease given that they are an adult: {prob_adult_and_not_disease:.3f}\")\n",
        "\n",
        "print(f\"\\nProbability that a patient has the liver disease given that they are an elderly: {prob_elder_and_disease:.2f}\")\n",
        "print(f\"Probability that a patient DOES NOT have the liver disease given that they are an elderly: {prob_elder_and_not_disease:.3f}\")"
      ],
      "execution_count": 53,
      "outputs": [
        {
          "output_type": "stream",
          "name": "stdout",
          "text": [
            "Probability that a patient has the liver disease given that they are an adult: 0.393\n",
            "Probability that a patient DOES NOT have the liver disease given that they are an adult: 0.170\n",
            "\n",
            "Probability that a patient has the liver disease given that they are an elderly: 0.30\n",
            "Probability that a patient DOES NOT have the liver disease given that they are an elderly: 0.094\n"
          ]
        }
      ]
    },
    {
      "cell_type": "markdown",
      "metadata": {
        "id": "HupItHMm_uC8"
      },
      "source": [
        "So the conditional probabilities match with the ones calculated earlier.\n",
        "\n",
        "In the next class, we will learn  why it is impossible to solve all the questions correctly by fluke in an MCQ test."
      ]
    },
    {
      "cell_type": "markdown",
      "metadata": {
        "id": "v_ausdG9qe9s"
      },
      "source": [
        "---"
      ]
    }
  ]
}