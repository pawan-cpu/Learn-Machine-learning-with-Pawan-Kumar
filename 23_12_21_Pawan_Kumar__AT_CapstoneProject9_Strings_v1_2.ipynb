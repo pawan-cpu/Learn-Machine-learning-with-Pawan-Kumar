{
  "cells": [
    {
      "cell_type": "markdown",
      "metadata": {
        "id": "view-in-github",
        "colab_type": "text"
      },
      "source": [
        "<a href=\"https://colab.research.google.com/github/pawan-cpu/Learn-Python-with-Pawan-Kumar/blob/main/23_12_21_Pawan_Kumar__AT_CapstoneProject9_Strings_v1_2.ipynb\" target=\"_parent\"><img src=\"https://colab.research.google.com/assets/colab-badge.svg\" alt=\"Open In Colab\"/></a>"
      ]
    },
    {
      "cell_type": "markdown",
      "metadata": {
        "id": "UYmMpXkNw9I6"
      },
      "source": [
        "# Capstone Project 9: Guess the word - Python String Operation"
      ]
    },
    {
      "cell_type": "markdown",
      "metadata": {
        "id": "PaanjkTewd2U"
      },
      "source": [
        "---"
      ]
    },
    {
      "cell_type": "markdown",
      "metadata": {
        "id": "x9vfVAsbslya"
      },
      "source": [
        "### Context\n",
        "\n",
        "A spelling bee is a competition in which contestants are asked to spell a broad selection of words, usually with a varying degree of difficulty. To compete, contestants must memorize the spellings of words as written in dictionaries, and recite them accordingly. Click on the link provided below to watch a short video on spelling bee contest:\n",
        "\n",
        "https://www.youtube.com/watch?v=G_yW6j2gN1w\n",
        "\n",
        "\n",
        "Drawing inspiration from the spelling bee contest, you need to create a Python-based computer game prototype which allows a player to guess the correct word through observing the jumbled letters of a word."
      ]
    },
    {
      "cell_type": "markdown",
      "metadata": {
        "id": "G9pdov_M0nzo"
      },
      "source": [
        "---"
      ]
    },
    {
      "cell_type": "markdown",
      "metadata": {
        "id": "2i36Yv3-MPY5"
      },
      "source": [
        "### Problem Statement \n",
        "\n",
        "In this project, you have to write a computer program to create an interactive game application called **Guess the Word**. The game must have the following major components:\n",
        "\n",
        "1. A repository of English words.\n",
        "\n",
        "2. A function to jumble the letters of the English words. \n",
        "\n",
        "3. Display a word such that its letters are jumbled, its part of speech and its meaning. Then prompt the player to guess the word one-by-one.  \n",
        "\n",
        "6. Check whether the player had guessed the correct word.\n",
        "\n",
        "7. Keep a count of the player's correct guesses. \n"
      ]
    },
    {
      "cell_type": "markdown",
      "metadata": {
        "id": "y9owukOqg1lw"
      },
      "source": [
        "---"
      ]
    },
    {
      "cell_type": "markdown",
      "metadata": {
        "id": "-FdiMgJgg2o4"
      },
      "source": [
        "#### Getting Started\n",
        "\n",
        "Follow the steps described below to solve the project:\n",
        "\n",
        "1. Click on the link provided below to open the Colab file for this project.\n",
        "   \n",
        "  https://colab.research.google.com/drive/1N92giwEENrc0--lyIPGlHH6xSOdjZyrE\n",
        "\n",
        "2. Create the duplicate copy of the Colab file. Here are the steps to create the duplicate copy:\n",
        "\n",
        "    - Click on the **File** menu. A new drop-down list will appear.\n",
        "\n",
        "      <img src='https://student-datasets-bucket.s3.ap-south-1.amazonaws.com/images/project-share-images/0_file_menu.png' width=500>\n",
        "\n",
        "    - Click on the **Save a copy in Drive** option. A duplicate copy will get created. It will open up in the new tab on your web browser.\n",
        "\n",
        "      <img src='https://student-datasets-bucket.s3.ap-south-1.amazonaws.com/images/project-share-images/1_create_colab_duplicate_copy.png' width=500>\n",
        "\n",
        "     - After creating the duplicate copy of the notebook, please rename it in the **YYYY-MM-DD_StudentName_CapstoneProject9** format. \n",
        "\n",
        "3. Now, write your code in the prescribed code cells."
      ]
    },
    {
      "cell_type": "markdown",
      "metadata": {
        "id": "d55HBFcBpENK"
      },
      "source": [
        "---"
      ]
    },
    {
      "cell_type": "markdown",
      "metadata": {
        "id": "toeLx5LJpIV-"
      },
      "source": [
        "### Project Requirements\n",
        "\n",
        "1. Create the `my_words` tuple which should contain the following 10 words,\n",
        "\n",
        "<img src='https://student-datasets-bucket.s3.ap-south-1.amazonaws.com/images/project10_words_list.png'>\n",
        "\n",
        "2. Create the `score` variable with initial value as `0`, to store the counts of the player's guess.\n",
        "\n",
        "2. Create the `shuffler()` function which returns a string having jumbled letters of a word.\n",
        "\n",
        "4. Create a `for` to run the game.\n",
        "\n",
        "5. Once the player has completed guessing all the words, display `Game Over!` message along with the final score.\n",
        "  ```\n",
        "  Game Over!\n",
        "  Kakashi, Your score is 6.\n",
        "  ```"
      ]
    },
    {
      "cell_type": "markdown",
      "metadata": {
        "id": "5JRlGIBRqCGl"
      },
      "source": [
        "---"
      ]
    },
    {
      "cell_type": "code",
      "execution_count": null,
      "metadata": {
        "id": "FP8l1W7aLWia"
      },
      "outputs": [],
      "source": [
        ""
      ]
    },
    {
      "cell_type": "code",
      "execution_count": null,
      "metadata": {
        "id": "6RL71w3ntzcH"
      },
      "outputs": [],
      "source": [
        "# Create the 'my_words' tuple and the 'score' variable.\n",
        "my_words=('Questionnaire','unconscious','precocious','liaison','Surveillance','Malfeasance','Irascible','Idiosyncrasy','Foudroyant','Eudemonic')\n",
        "score=0\n"
      ]
    },
    {
      "cell_type": "markdown",
      "metadata": {
        "id": "RETr5Tv1JBls"
      },
      "source": [
        "---"
      ]
    },
    {
      "cell_type": "markdown",
      "metadata": {
        "id": "0_OEabQbGQcP"
      },
      "source": [
        "#### 2. The `shuffler()` Function\n",
        "\n",
        "- Create the `shuffler()` function which returns a string containing the jumbled letters of a word. E.g., The `shuffler()` function must return either `wims` or `mwsi` or `imsw` etc. for the word `swim`.\n",
        "\n",
        "- Convert the word into a list of letters using the `list()` function. \n",
        "\n",
        "- Use the `shuffle()` function of the `random` module to shuffle the letters from a word. It reorders the items in a Python list. E.g., if a list contains `['s', 'w', 'i', 'm']` items, then the `shuffle()` function will reorder the items as either `['w', 's', 'i', 'm']`, or `['s', 'w', 'm', 'i']` or `['i', 's', 'm', 'w']` etc.\n",
        "\n",
        "  **Syntax** : `random.shuffle(letters)`, where letters is the variable holding the list of letters.\n",
        "\n",
        "- Use the `join()` function to convert a list of jumbled letters into a word.\n",
        "\n",
        "  **Syntax**: `''.join(letters)`, where letters is the variable holding the list of letters.\n",
        "\n",
        "**Note:** The `random.shuffle()` function does not return a new output. It applies the operation on the original value. Hence, the updated value will replace the original value contained in a variable."
      ]
    },
    {
      "cell_type": "code",
      "execution_count": null,
      "metadata": {
        "colab": {
          "base_uri": "https://localhost:8080/",
          "height": 35
        },
        "id": "mROhcvIy0ML6",
        "outputId": "6c973f7d-64a4-4b97-cd57-5dbb9b0c364f"
      },
      "outputs": [
        {
          "data": {
            "application/vnd.google.colaboratory.intrinsic+json": {
              "type": "string"
            },
            "text/plain": [
              "'mwsi'"
            ]
          },
          "execution_count": 6,
          "metadata": {},
          "output_type": "execute_result"
        }
      ],
      "source": [
        "# The 'shuffler()' function to to jumble the letters of a word and form a jumbled word.\n",
        "import random\n",
        "\n",
        "def shuffler(word):\n",
        "  letters = list(word)\n",
        "  random.shuffle(letters)\n",
        "  shuffled_word = ''.join(letters)\n",
        "  return(shuffled_word)\n",
        "\n",
        "shuffler('swim')"
      ]
    },
    {
      "cell_type": "markdown",
      "metadata": {
        "id": "aJJT0ojPGPcd"
      },
      "source": [
        "---"
      ]
    },
    {
      "cell_type": "markdown",
      "metadata": {
        "id": "rZsDogK8LaOW"
      },
      "source": [
        "#### 3. The Remaining Components\n",
        "\n",
        "Before creating the `for` loop, print the title of the game. Here's the expected output:\n",
        "\n",
        "```\n",
        "-----------------------------GUESS A WORD GAME--------------------------------\n",
        "```\n",
        "\n",
        "The title is centre justified and the total length of the string is 120.\n",
        "\n",
        "Prompt a player to enter their name. You should also tell the player, to enter `s` as an input to stop the game midway. \n",
        "\n",
        "Then create a `for` loop which should do the following:\n",
        "\n",
        "1. Display the jumbled letters of a word in uppercase, the part of speech for the word in uppercase and the meaning of the word in uppercase. Here's an example of the expected output:\n",
        "\n",
        "   `Jumbled Letters: UQSTOAEREIINN`\n",
        "\n",
        "2. Take input from the user (the guessed word) and convert it into uppercase.\n",
        "\n",
        "3. If the player's input is `s`, terminate the loop using the `break` keyword.\n",
        "\n",
        "4. Else if the player's guess is correct, show the `CORRECT!` message and increase player's guess count stored in `score` variable by 1.\n",
        "\n",
        "5. Else, show the `WRONG!` message. Also, display the correct word. Here's an example of the expected output:\n",
        "\n",
        "   ```\n",
        "   Guess the word:\n",
        "   mealfeseance\n",
        "\n",
        "   WRONG! \n",
        "   Correct word is MALFEASANCE \n",
        "   ```\n",
        "\n",
        "6. Once the player has completed guessing all the words, display `Game Over!` message along with the final score.\n",
        "  ```\n",
        "  Game Over!\n",
        "  Kakashi, Your score is 6.\n",
        "  ```\n",
        " "
      ]
    },
    {
      "cell_type": "code",
      "execution_count": null,
      "metadata": {
        "colab": {
          "background_save": true,
          "base_uri": "https://localhost:8080/"
        },
        "id": "8HV3cY6O9LeE",
        "outputId": "a4485a82-c035-4e19-cf9a-d20ed4e0e6df"
      },
      "outputs": [
        {
          "name": "stdout",
          "output_type": "stream",
          "text": [
            "-----------------------------------------GUESS A WORD GAME------------------------------------------\n",
            "\n",
            "Type 's' to stop the game at any time.\n",
            "####################################################################################################\n",
            "WRONG! Correct word is (correct_word) Questionnaire\n"
          ]
        }
      ],
      "source": [
        "# Check whether player's guess is correct or not\n",
        "# Printing the title 'GUESS A WORD GAME' center aligned\n",
        "just_len = 100\n",
        "print(\"guess a word game\".upper().center(just_len, '-'))\n",
        "\n",
        "# Get the player's name and store in a variable\n",
        "player_name = input(\"\\nWhat's your name?\\n\")\n",
        "\n",
        "# Printing the terminate message 'Type 's' to stop the game at any time.'\n",
        "print(f\"\\nType 's' to stop the game at any time.\\n{'#' * just_len}\") \n",
        "\n",
        "# Creating the 'for' loop to shuffle the words in 'my_words' tuple and check the player's guess \n",
        "for word in my_words:\n",
        "  shuffled_word = shuffler(word)\n",
        "  while shuffled_word == word:\n",
        "    shuffled_word = shuffler(word)\n",
        "\n",
        "  # Asking the user to 'Guess the word:' and store the word in a variable\n",
        "  player_guess = input(f\"Guess the correct Word : {shuffled_word.upper()} \\n\")\n",
        "  \n",
        "  # Convert the player guess to upper case using the 'upper()' function. \n",
        "  # store the result in a variable 'player_guess_upper'\n",
        "  # Write your code here\n",
        "  player_guess_upper=player_guess.upper()\n",
        "  # If player enters 's' then terminate the 'for' loop using 'break' keyword  \n",
        "  # Write your code here\n",
        "  if input=='s':\n",
        "      break\n",
        "\n",
        "\n",
        "\n",
        "  # 'if player_guess_upper == word.upper():' print 'Correct!!' and increase the 'score' by 1.\n",
        "  # Write your code here\n",
        "  if player_guess_upper == word.upper():\n",
        "    print('Correct!!')\n",
        "    score=score+1 \n",
        "\n",
        " \n",
        "  # Else print 'WRONG! Correct word is (correct_word)'\n",
        "  # Write your code here  \n",
        "  else:\n",
        "   print('WRONG! Correct word is (correct_word)',word)\n",
        "  \n"
      ]
    },
    {
      "cell_type": "markdown",
      "metadata": {
        "id": "gdgW4-R6LVB3"
      },
      "source": [
        "---"
      ]
    },
    {
      "cell_type": "markdown",
      "metadata": {
        "id": "NyHSsEwEoEvH"
      },
      "source": [
        "#### 4. Final score\n",
        "\n",
        "Finally, show `Game Over!` after player has completed guessing the 10 words and show the final score stored in `score` variable.\n",
        "\n",
        "For Example, if the player had guessed 3 correct words you should be displaying the final score message as,\n",
        "```\n",
        "  Game Over!\n",
        "  Kakashi, Your score is 3.\n",
        "  ```"
      ]
    },
    {
      "cell_type": "code",
      "execution_count": null,
      "metadata": {
        "id": "-QAIIkM1qCNr"
      },
      "outputs": [],
      "source": [
        "# Display 'Game Over' and Final score to the player\n",
        "print(f\"Game Over! \\n{player_name}, Your score is {score}.\")    "
      ]
    },
    {
      "cell_type": "markdown",
      "metadata": {
        "id": "4qIsQMIj-Is3"
      },
      "source": [
        "---"
      ]
    },
    {
      "cell_type": "markdown",
      "metadata": {
        "id": "eL_XvoSEg73n"
      },
      "source": [
        "### Submitting the Project\n",
        "\n",
        "Follow the steps described below to submit the project.\n",
        "\n",
        "1. After finishing the project, click on the **Share** button on the top right corner of the notebook. A new dialog box will appear.\n",
        "\n",
        "  <img src='https://student-datasets-bucket.s3.ap-south-1.amazonaws.com/images/project-share-images/2_share_button.png' width=500>\n",
        "\n",
        "2. In the dialog box, click on the **Copy link** button.\n",
        "\n",
        "   <img src='https://student-datasets-bucket.s3.ap-south-1.amazonaws.com/images/project-share-images/3_copy_link.png' width=500>\n",
        "\n",
        "\n",
        "3. The link of the duplicate copy (named as **YYYY-MM-DD_StudentName_CapstoneProject9**) of the notebook will get copied \n",
        "\n",
        "   <img src='https://student-datasets-bucket.s3.ap-south-1.amazonaws.com/images/project-share-images/4_copy_link_confirmation.png' width=500>\n",
        "\n",
        "4. Go to your dashboard and click on the **My Projects** option.\n",
        "\n",
        "   <img src='https://student-datasets-bucket.s3.ap-south-1.amazonaws.com/images/project-share-images/5_student_dashboard.png' width=800>\n",
        "\n",
        "   <img src='https://student-datasets-bucket.s3.ap-south-1.amazonaws.com/images/project-share-images/6_my_projects.png' width=800>\n",
        "\n",
        "5. Click on the **View Project** button for the project you want to submit.\n",
        "\n",
        "   <img src='https://student-datasets-bucket.s3.ap-south-1.amazonaws.com/images/project-share-images/7_view_project.png' width=800>\n",
        "\n",
        "6. Click on the **Submit Project Here** button.\n",
        "\n",
        "   <img src='https://student-datasets-bucket.s3.ap-south-1.amazonaws.com/images/project-share-images/8_submit_project.png' width=800>\n",
        "\n",
        "7. Paste the link to the project file named as **YYYY-MM-DD_StudentName_CapstoneProject9** in the URL box and then click on the **Submit** button.\n",
        "\n",
        "   <img src='https://student-datasets-bucket.s3.ap-south-1.amazonaws.com/images/project-share-images/9_enter_project_url.png' width=800>\n"
      ]
    },
    {
      "cell_type": "markdown",
      "metadata": {
        "id": "Dhb2XHmyg9Cl"
      },
      "source": [
        "---"
      ]
    }
  ],
  "metadata": {
    "colab": {
      "collapsed_sections": [],
      "name": "23/12/21_Pawan Kumar _AT_CapstoneProject9_Strings_v1_2.ipynb",
      "provenance": [],
      "include_colab_link": true
    },
    "kernelspec": {
      "display_name": "Python 3",
      "name": "python3"
    }
  },
  "nbformat": 4,
  "nbformat_minor": 0
}