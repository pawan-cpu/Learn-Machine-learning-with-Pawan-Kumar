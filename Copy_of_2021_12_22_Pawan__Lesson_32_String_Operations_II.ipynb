{
  "nbformat": 4,
  "nbformat_minor": 0,
  "metadata": {
    "colab": {
      "name": "Copy of 2021-12-22_Pawan_ Lesson 32 - String Operations II ",
      "provenance": [],
      "collapsed_sections": [],
      "include_colab_link": true
    },
    "kernelspec": {
      "name": "python3",
      "display_name": "Python 3"
    }
  },
  "cells": [
    {
      "cell_type": "markdown",
      "metadata": {
        "id": "view-in-github",
        "colab_type": "text"
      },
      "source": [
        "<a href=\"https://colab.research.google.com/github/pawan-cpu/Learn-Python-with-Pawan-Kumar/blob/main/Copy_of_2021_12_22_Pawan__Lesson_32_String_Operations_II.ipynb\" target=\"_parent\"><img src=\"https://colab.research.google.com/assets/colab-badge.svg\" alt=\"Open In Colab\"/></a>"
      ]
    },
    {
      "cell_type": "markdown",
      "metadata": {
        "id": "ZmBmKJ7A93-o"
      },
      "source": [
        "# Lesson 32: String Operations II "
      ]
    },
    {
      "cell_type": "markdown",
      "metadata": {
        "id": "1ndsjaU3X0V7"
      },
      "source": [
        "---"
      ]
    },
    {
      "cell_type": "markdown",
      "metadata": {
        "id": "I0cTgOwYT8s0"
      },
      "source": [
        "### Teacher-Student Task\n",
        "\n",
        "In this class, we learn how to format a string using the `format()` function and the `f-string` technique in detail.\n",
        "\n",
        "Let's continue the class from the `format()` function section."
      ]
    },
    {
      "cell_type": "markdown",
      "metadata": {
        "id": "AxTo4CQPDPZb"
      },
      "source": [
        "---"
      ]
    },
    {
      "cell_type": "markdown",
      "metadata": {
        "id": "uSbF9A2m8Hm4"
      },
      "source": [
        "#### Recap\n",
        "\n",
        "In the previous class, we learnt how to format a string using the `format()` function. Here are the examples:\n",
        "\n",
        "```\n",
        "Mumbai Marathon 2020\n",
        "\n",
        "      CONGRATULATIONS\n",
        "\n",
        "This is to certify that JOHN DERA                     \n",
        "BIB No. 22\n",
        "officially completed the marathon \n",
        "(distance 42.2 km) \n",
        "in the men's category \n",
        "with a finish time of 2:08:09 \n",
        "and rank 1.                   \n",
        "--------------------------------------------------\n",
        "```\n",
        "\n",
        "Here's the link to the CSV file containing data for each runner:\n",
        "\n",
        "\n",
        "https://s3-whjr-curriculum-uploads.whjr.online/0da95234-a814-4957-b949-38d4b7754a94.csv\n"
      ]
    },
    {
      "cell_type": "code",
      "metadata": {
        "id": "TdemmHi_8-vb",
        "colab": {
          "base_uri": "https://localhost:8080/"
        },
        "outputId": "fdf5d586-9f2f-4e78-fed1-fe76c8d68efb"
      },
      "source": [
        "# Placeholders without labels: Print the certificates for each MM 2020 runner in the prescribed format.\n",
        "import pandas as pd\n",
        "\n",
        "df = pd.read_csv('https://s3-whjr-curriculum-uploads.whjr.online/0da95234-a814-4957-b949-38d4b7754a94.csv')\n",
        "\n",
        "certificate = \"\"\"\n",
        "  Mumbai Marathon 2020\n",
        "\n",
        "      CONGRATULATIONS\n",
        "\n",
        "This is to certify that {}                    \n",
        "BIB No. {}\n",
        "officially completed the marathon \n",
        "(distance 42.2 km) \n",
        "in the men's category \n",
        "with a finish time of {} \n",
        "and rank {}.                   \n",
        "{}\n",
        "\"\"\"\n",
        "for i in df.index: # The index keyword returns an array containing indices of all the rows in a DataFrame.\n",
        "  print(certificate.format(df.loc[i, 'NAME'], df.loc[i, 'BIB'], df.loc[i, 'Net Finish Time'], df.loc[i, 'Finish Position'], '-' * 50))"
      ],
      "execution_count": null,
      "outputs": [
        {
          "output_type": "stream",
          "name": "stdout",
          "text": [
            "\n",
            "  Mumbai Marathon 2020\n",
            "\n",
            "      CONGRATULATIONS\n",
            "\n",
            "This is to certify that JOHN DERA                    \n",
            "BIB No. 22\n",
            "officially completed the marathon \n",
            "(distance 42.2 km) \n",
            "in the men's category \n",
            "with a finish time of 02:08:09 \n",
            "and rank 1.                   \n",
            "--------------------------------------------------\n",
            "\n",
            "\n",
            "  Mumbai Marathon 2020\n",
            "\n",
            "      CONGRATULATIONS\n",
            "\n",
            "This is to certify that JAMES GREYSON                    \n",
            "BIB No. 3\n",
            "officially completed the marathon \n",
            "(distance 42.2 km) \n",
            "in the men's category \n",
            "with a finish time of 02:08:20 \n",
            "and rank 2.                   \n",
            "--------------------------------------------------\n",
            "\n",
            "\n",
            "  Mumbai Marathon 2020\n",
            "\n",
            "      CONGRATULATIONS\n",
            "\n",
            "This is to certify that CARTER JACK                    \n",
            "BIB No. 9\n",
            "officially completed the marathon \n",
            "(distance 42.2 km) \n",
            "in the men's category \n",
            "with a finish time of 02:08:26 \n",
            "and rank 3.                   \n",
            "--------------------------------------------------\n",
            "\n",
            "\n",
            "  Mumbai Marathon 2020\n",
            "\n",
            "      CONGRATULATIONS\n",
            "\n",
            "This is to certify that SHOEB SYED                    \n",
            "BIB No. 15\n",
            "officially completed the marathon \n",
            "(distance 42.2 km) \n",
            "in the men's category \n",
            "with a finish time of 02:08:41 \n",
            "and rank 4.                   \n",
            "--------------------------------------------------\n",
            "\n",
            "\n",
            "  Mumbai Marathon 2020\n",
            "\n",
            "      CONGRATULATIONS\n",
            "\n",
            "This is to certify that SHER SINGH                    \n",
            "BIB No. 20\n",
            "officially completed the marathon \n",
            "(distance 42.2 km) \n",
            "in the men's category \n",
            "with a finish time of 02:08:56 \n",
            "and rank 5.                   \n",
            "--------------------------------------------------\n",
            "\n",
            "\n",
            "  Mumbai Marathon 2020\n",
            "\n",
            "      CONGRATULATIONS\n",
            "\n",
            "This is to certify that MOHIT RAJ                    \n",
            "BIB No. 11\n",
            "officially completed the marathon \n",
            "(distance 42.2 km) \n",
            "in the men's category \n",
            "with a finish time of 02:09:01 \n",
            "and rank 6.                   \n",
            "--------------------------------------------------\n",
            "\n",
            "\n",
            "  Mumbai Marathon 2020\n",
            "\n",
            "      CONGRATULATIONS\n",
            "\n",
            "This is to certify that AVA JACKSON                    \n",
            "BIB No. 4\n",
            "officially completed the marathon \n",
            "(distance 42.2 km) \n",
            "in the men's category \n",
            "with a finish time of 02:09:15 \n",
            "and rank 7.                   \n",
            "--------------------------------------------------\n",
            "\n",
            "\n",
            "  Mumbai Marathon 2020\n",
            "\n",
            "      CONGRATULATIONS\n",
            "\n",
            "This is to certify that DELNAZ BAK                    \n",
            "BIB No. 23\n",
            "officially completed the marathon \n",
            "(distance 42.2 km) \n",
            "in the men's category \n",
            "with a finish time of 02:10:04 \n",
            "and rank 8.                   \n",
            "--------------------------------------------------\n",
            "\n",
            "\n",
            "  Mumbai Marathon 2020\n",
            "\n",
            "      CONGRATULATIONS\n",
            "\n",
            "This is to certify that SHRENU SINGH                    \n",
            "BIB No. 44\n",
            "officially completed the marathon \n",
            "(distance 42.2 km) \n",
            "in the men's category \n",
            "with a finish time of 02:10:36 \n",
            "and rank 9.                   \n",
            "--------------------------------------------------\n",
            "\n",
            "\n",
            "  Mumbai Marathon 2020\n",
            "\n",
            "      CONGRATULATIONS\n",
            "\n",
            "This is to certify that RAHUL BHATT                    \n",
            "BIB No. 32\n",
            "officially completed the marathon \n",
            "(distance 42.2 km) \n",
            "in the men's category \n",
            "with a finish time of 02:10:37 \n",
            "and rank 10.                   \n",
            "--------------------------------------------------\n",
            "\n",
            "\n",
            "  Mumbai Marathon 2020\n",
            "\n",
            "      CONGRATULATIONS\n",
            "\n",
            "This is to certify that VINCENT                     \n",
            "BIB No. 43\n",
            "officially completed the marathon \n",
            "(distance 42.2 km) \n",
            "in the men's category \n",
            "with a finish time of 02:11:15 \n",
            "and rank 11.                   \n",
            "--------------------------------------------------\n",
            "\n",
            "\n",
            "  Mumbai Marathon 2020\n",
            "\n",
            "      CONGRATULATIONS\n",
            "\n",
            "This is to certify that CAMILA HARPER                    \n",
            "BIB No. 10\n",
            "officially completed the marathon \n",
            "(distance 42.2 km) \n",
            "in the men's category \n",
            "with a finish time of 02:13:39 \n",
            "and rank 12.                   \n",
            "--------------------------------------------------\n",
            "\n",
            "\n",
            "  Mumbai Marathon 2020\n",
            "\n",
            "      CONGRATULATIONS\n",
            "\n",
            "This is to certify that LUNA LAMP                    \n",
            "BIB No. 51\n",
            "officially completed the marathon \n",
            "(distance 42.2 km) \n",
            "in the men's category \n",
            "with a finish time of 02:18:44 \n",
            "and rank 13.                   \n",
            "--------------------------------------------------\n",
            "\n",
            "\n",
            "  Mumbai Marathon 2020\n",
            "\n",
            "      CONGRATULATIONS\n",
            "\n",
            "This is to certify that SOFIA JOHNSON                    \n",
            "BIB No. 56\n",
            "officially completed the marathon \n",
            "(distance 42.2 km) \n",
            "in the men's category \n",
            "with a finish time of 02:24:00 \n",
            "and rank 14.                   \n",
            "--------------------------------------------------\n",
            "\n",
            "\n",
            "  Mumbai Marathon 2020\n",
            "\n",
            "      CONGRATULATIONS\n",
            "\n",
            "This is to certify that ELIZABETH RAY                    \n",
            "BIB No. 53\n",
            "officially completed the marathon \n",
            "(distance 42.2 km) \n",
            "in the men's category \n",
            "with a finish time of 02:24:03 \n",
            "and rank 15.                   \n",
            "--------------------------------------------------\n",
            "\n",
            "\n",
            "  Mumbai Marathon 2020\n",
            "\n",
            "      CONGRATULATIONS\n",
            "\n",
            "This is to certify that RAVIKUMAR                    \n",
            "BIB No. 70\n",
            "officially completed the marathon \n",
            "(distance 42.2 km) \n",
            "in the men's category \n",
            "with a finish time of 02:24:32 \n",
            "and rank 16.                   \n",
            "--------------------------------------------------\n",
            "\n",
            "\n",
            "  Mumbai Marathon 2020\n",
            "\n",
            "      CONGRATULATIONS\n",
            "\n",
            "This is to certify that GRACE ZOE                    \n",
            "BIB No. 27\n",
            "officially completed the marathon \n",
            "(distance 42.2 km) \n",
            "in the men's category \n",
            "with a finish time of 02:24:53 \n",
            "and rank 17.                   \n",
            "--------------------------------------------------\n",
            "\n",
            "\n",
            "  Mumbai Marathon 2020\n",
            "\n",
            "      CONGRATULATIONS\n",
            "\n",
            "This is to certify that RAHUL PAL                    \n",
            "BIB No. 55\n",
            "officially completed the marathon \n",
            "(distance 42.2 km) \n",
            "in the men's category \n",
            "with a finish time of 02:26:56 \n",
            "and rank 18.                   \n",
            "--------------------------------------------------\n",
            "\n",
            "\n",
            "  Mumbai Marathon 2020\n",
            "\n",
            "      CONGRATULATIONS\n",
            "\n",
            "This is to certify that PRADEEP BHOSALE                    \n",
            "BIB No. 54\n",
            "officially completed the marathon \n",
            "(distance 42.2 km) \n",
            "in the men's category \n",
            "with a finish time of 02:29:27 \n",
            "and rank 19.                   \n",
            "--------------------------------------------------\n",
            "\n",
            "\n",
            "  Mumbai Marathon 2020\n",
            "\n",
            "      CONGRATULATIONS\n",
            "\n",
            "This is to certify that NAOMI HADLEY                    \n",
            "BIB No. 57\n",
            "officially completed the marathon \n",
            "(distance 42.2 km) \n",
            "in the men's category \n",
            "with a finish time of 02:31:16 \n",
            "and rank 20.                   \n",
            "--------------------------------------------------\n",
            "\n"
          ]
        }
      ]
    },
    {
      "cell_type": "markdown",
      "metadata": {
        "id": "_Zbr1xTY9Olb"
      },
      "source": [
        "\n",
        "**Labelling Placeholders**\n",
        "\n",
        "Label the placeholders in such a way that they describe the values to put to the placeholders."
      ]
    },
    {
      "cell_type": "code",
      "metadata": {
        "id": "aSqns1fTbYio",
        "colab": {
          "base_uri": "https://localhost:8080/"
        },
        "outputId": "272b2c8e-5581-404b-dc53-cf529f6a8449"
      },
      "source": [
        "# Placeholders with labels: Print the certificates for each MM  2020 runner in the prescribed format.\n",
        "certificate = \"\"\"\n",
        "  Mumbai Marathon 2020\n",
        "\n",
        "      CONGRATULATIONS\n",
        "\n",
        "This is to certify that {name}                    \n",
        "BIB No. {bib}\n",
        "officially completed the marathon \n",
        "(distance 42.2 km) \n",
        "in the men's category \n",
        "with a finish time of {finish_time} \n",
        "and rank {rank}.                   \n",
        "{hyphens}\n",
        "\"\"\"\n",
        "for i in df.index: # The index keyword returns an array containing indices of all the rows in a DataFrame.\n",
        "  print(certificate.format(name=df.loc[i, 'NAME'], \n",
        "                           bib=df.loc[i, 'BIB'], \n",
        "                           finish_time=df.loc[i, 'Net Finish Time'], \n",
        "                           rank=df.loc[i, 'Finish Position'], \n",
        "                           hyphens='-' * 50))"
      ],
      "execution_count": null,
      "outputs": [
        {
          "output_type": "stream",
          "name": "stdout",
          "text": [
            "\n",
            "  Mumbai Marathon 2020\n",
            "\n",
            "      CONGRATULATIONS\n",
            "\n",
            "This is to certify that JOHN DERA                    \n",
            "BIB No. 22\n",
            "officially completed the marathon \n",
            "(distance 42.2 km) \n",
            "in the men's category \n",
            "with a finish time of 02:08:09 \n",
            "and rank 1.                   \n",
            "--------------------------------------------------\n",
            "\n",
            "\n",
            "  Mumbai Marathon 2020\n",
            "\n",
            "      CONGRATULATIONS\n",
            "\n",
            "This is to certify that JAMES GREYSON                    \n",
            "BIB No. 3\n",
            "officially completed the marathon \n",
            "(distance 42.2 km) \n",
            "in the men's category \n",
            "with a finish time of 02:08:20 \n",
            "and rank 2.                   \n",
            "--------------------------------------------------\n",
            "\n",
            "\n",
            "  Mumbai Marathon 2020\n",
            "\n",
            "      CONGRATULATIONS\n",
            "\n",
            "This is to certify that CARTER JACK                    \n",
            "BIB No. 9\n",
            "officially completed the marathon \n",
            "(distance 42.2 km) \n",
            "in the men's category \n",
            "with a finish time of 02:08:26 \n",
            "and rank 3.                   \n",
            "--------------------------------------------------\n",
            "\n",
            "\n",
            "  Mumbai Marathon 2020\n",
            "\n",
            "      CONGRATULATIONS\n",
            "\n",
            "This is to certify that SHOEB SYED                    \n",
            "BIB No. 15\n",
            "officially completed the marathon \n",
            "(distance 42.2 km) \n",
            "in the men's category \n",
            "with a finish time of 02:08:41 \n",
            "and rank 4.                   \n",
            "--------------------------------------------------\n",
            "\n",
            "\n",
            "  Mumbai Marathon 2020\n",
            "\n",
            "      CONGRATULATIONS\n",
            "\n",
            "This is to certify that SHER SINGH                    \n",
            "BIB No. 20\n",
            "officially completed the marathon \n",
            "(distance 42.2 km) \n",
            "in the men's category \n",
            "with a finish time of 02:08:56 \n",
            "and rank 5.                   \n",
            "--------------------------------------------------\n",
            "\n",
            "\n",
            "  Mumbai Marathon 2020\n",
            "\n",
            "      CONGRATULATIONS\n",
            "\n",
            "This is to certify that MOHIT RAJ                    \n",
            "BIB No. 11\n",
            "officially completed the marathon \n",
            "(distance 42.2 km) \n",
            "in the men's category \n",
            "with a finish time of 02:09:01 \n",
            "and rank 6.                   \n",
            "--------------------------------------------------\n",
            "\n",
            "\n",
            "  Mumbai Marathon 2020\n",
            "\n",
            "      CONGRATULATIONS\n",
            "\n",
            "This is to certify that AVA JACKSON                    \n",
            "BIB No. 4\n",
            "officially completed the marathon \n",
            "(distance 42.2 km) \n",
            "in the men's category \n",
            "with a finish time of 02:09:15 \n",
            "and rank 7.                   \n",
            "--------------------------------------------------\n",
            "\n",
            "\n",
            "  Mumbai Marathon 2020\n",
            "\n",
            "      CONGRATULATIONS\n",
            "\n",
            "This is to certify that DELNAZ BAK                    \n",
            "BIB No. 23\n",
            "officially completed the marathon \n",
            "(distance 42.2 km) \n",
            "in the men's category \n",
            "with a finish time of 02:10:04 \n",
            "and rank 8.                   \n",
            "--------------------------------------------------\n",
            "\n",
            "\n",
            "  Mumbai Marathon 2020\n",
            "\n",
            "      CONGRATULATIONS\n",
            "\n",
            "This is to certify that SHRENU SINGH                    \n",
            "BIB No. 44\n",
            "officially completed the marathon \n",
            "(distance 42.2 km) \n",
            "in the men's category \n",
            "with a finish time of 02:10:36 \n",
            "and rank 9.                   \n",
            "--------------------------------------------------\n",
            "\n",
            "\n",
            "  Mumbai Marathon 2020\n",
            "\n",
            "      CONGRATULATIONS\n",
            "\n",
            "This is to certify that RAHUL BHATT                    \n",
            "BIB No. 32\n",
            "officially completed the marathon \n",
            "(distance 42.2 km) \n",
            "in the men's category \n",
            "with a finish time of 02:10:37 \n",
            "and rank 10.                   \n",
            "--------------------------------------------------\n",
            "\n",
            "\n",
            "  Mumbai Marathon 2020\n",
            "\n",
            "      CONGRATULATIONS\n",
            "\n",
            "This is to certify that VINCENT                     \n",
            "BIB No. 43\n",
            "officially completed the marathon \n",
            "(distance 42.2 km) \n",
            "in the men's category \n",
            "with a finish time of 02:11:15 \n",
            "and rank 11.                   \n",
            "--------------------------------------------------\n",
            "\n",
            "\n",
            "  Mumbai Marathon 2020\n",
            "\n",
            "      CONGRATULATIONS\n",
            "\n",
            "This is to certify that CAMILA HARPER                    \n",
            "BIB No. 10\n",
            "officially completed the marathon \n",
            "(distance 42.2 km) \n",
            "in the men's category \n",
            "with a finish time of 02:13:39 \n",
            "and rank 12.                   \n",
            "--------------------------------------------------\n",
            "\n",
            "\n",
            "  Mumbai Marathon 2020\n",
            "\n",
            "      CONGRATULATIONS\n",
            "\n",
            "This is to certify that LUNA LAMP                    \n",
            "BIB No. 51\n",
            "officially completed the marathon \n",
            "(distance 42.2 km) \n",
            "in the men's category \n",
            "with a finish time of 02:18:44 \n",
            "and rank 13.                   \n",
            "--------------------------------------------------\n",
            "\n",
            "\n",
            "  Mumbai Marathon 2020\n",
            "\n",
            "      CONGRATULATIONS\n",
            "\n",
            "This is to certify that SOFIA JOHNSON                    \n",
            "BIB No. 56\n",
            "officially completed the marathon \n",
            "(distance 42.2 km) \n",
            "in the men's category \n",
            "with a finish time of 02:24:00 \n",
            "and rank 14.                   \n",
            "--------------------------------------------------\n",
            "\n",
            "\n",
            "  Mumbai Marathon 2020\n",
            "\n",
            "      CONGRATULATIONS\n",
            "\n",
            "This is to certify that ELIZABETH RAY                    \n",
            "BIB No. 53\n",
            "officially completed the marathon \n",
            "(distance 42.2 km) \n",
            "in the men's category \n",
            "with a finish time of 02:24:03 \n",
            "and rank 15.                   \n",
            "--------------------------------------------------\n",
            "\n",
            "\n",
            "  Mumbai Marathon 2020\n",
            "\n",
            "      CONGRATULATIONS\n",
            "\n",
            "This is to certify that RAVIKUMAR                    \n",
            "BIB No. 70\n",
            "officially completed the marathon \n",
            "(distance 42.2 km) \n",
            "in the men's category \n",
            "with a finish time of 02:24:32 \n",
            "and rank 16.                   \n",
            "--------------------------------------------------\n",
            "\n",
            "\n",
            "  Mumbai Marathon 2020\n",
            "\n",
            "      CONGRATULATIONS\n",
            "\n",
            "This is to certify that GRACE ZOE                    \n",
            "BIB No. 27\n",
            "officially completed the marathon \n",
            "(distance 42.2 km) \n",
            "in the men's category \n",
            "with a finish time of 02:24:53 \n",
            "and rank 17.                   \n",
            "--------------------------------------------------\n",
            "\n",
            "\n",
            "  Mumbai Marathon 2020\n",
            "\n",
            "      CONGRATULATIONS\n",
            "\n",
            "This is to certify that RAHUL PAL                    \n",
            "BIB No. 55\n",
            "officially completed the marathon \n",
            "(distance 42.2 km) \n",
            "in the men's category \n",
            "with a finish time of 02:26:56 \n",
            "and rank 18.                   \n",
            "--------------------------------------------------\n",
            "\n",
            "\n",
            "  Mumbai Marathon 2020\n",
            "\n",
            "      CONGRATULATIONS\n",
            "\n",
            "This is to certify that PRADEEP BHOSALE                    \n",
            "BIB No. 54\n",
            "officially completed the marathon \n",
            "(distance 42.2 km) \n",
            "in the men's category \n",
            "with a finish time of 02:29:27 \n",
            "and rank 19.                   \n",
            "--------------------------------------------------\n",
            "\n",
            "\n",
            "  Mumbai Marathon 2020\n",
            "\n",
            "      CONGRATULATIONS\n",
            "\n",
            "This is to certify that NAOMI HADLEY                    \n",
            "BIB No. 57\n",
            "officially completed the marathon \n",
            "(distance 42.2 km) \n",
            "in the men's category \n",
            "with a finish time of 02:31:16 \n",
            "and rank 20.                   \n",
            "--------------------------------------------------\n",
            "\n"
          ]
        }
      ]
    },
    {
      "cell_type": "markdown",
      "metadata": {
        "id": "OjZsTtePdO0c"
      },
      "source": [
        "**Syntax:** `string.format(placeholder1 = value1, placeholder2 = value2, ..., placeholderN = valueN)` where `N` is the number of values to assign or the number of placeholders to fill.\n"
      ]
    },
    {
      "cell_type": "markdown",
      "metadata": {
        "id": "gGjzngbi2qJ1"
      },
      "source": [
        "----"
      ]
    },
    {
      "cell_type": "markdown",
      "metadata": {
        "id": "F5uXk25bEpK4"
      },
      "source": [
        "#### Task 1: The `format()` Function\n",
        "\n",
        "We can do a lot more with the `format()` function. E.g., we can retrieve values from a dictionary more crisply and plug them into a string. Let's learn this part by creating the certificate for the winner of MM  2020 only.\n",
        "\n",
        "\n"
      ]
    },
    {
      "cell_type": "code",
      "metadata": {
        "id": "NbXePzu3FR7n",
        "colab": {
          "base_uri": "https://localhost:8080/"
        },
        "outputId": "2a4323ef-f4d2-49b9-d155-66f61672fd7a"
      },
      "source": [
        "# S1.1: Print all the columns of the 'df' DataFrame.\n",
        "df.columns"
      ],
      "execution_count": null,
      "outputs": [
        {
          "output_type": "execute_result",
          "data": {
            "text/plain": [
              "Index(['Finish Position', 'BIB', 'NAME', 'NATIONALITY', 'Net Finish Time'], dtype='object')"
            ]
          },
          "metadata": {},
          "execution_count": 4
        }
      ]
    },
    {
      "cell_type": "code",
      "metadata": {
        "id": "QsQghIhJE2-3",
        "colab": {
          "base_uri": "https://localhost:8080/"
        },
        "outputId": "693fbdd0-d3ea-473c-d446-fbddd8556f07"
      },
      "source": [
        "# S1.2: Create a dictionary for the MM  2020 winner and then generate a certificate for him.\n",
        "winner_dict=dict(df.loc[0,['NAME','BIB','Net Finish Time','Finish Position']])\n",
        "print(winner_dict)\n",
        "certi=\"\"\" Mumbai Marathon 2020\n",
        "\n",
        "      CONGRATULATIONS\n",
        "\n",
        "This is to certify that {0[NAME]}                    \n",
        "BIB No. {1[BIB]}\n",
        "officially completed the marathon \n",
        "(distance 42.2 km) \n",
        "in the men's category \n",
        "with a finish time of {2[Net Finish Time]} \n",
        "and rank {3[Finish Position]}.                   \n",
        "{4}\n",
        "\"\"\"\n",
        "print(certi.format(winner_dict,winner_dict,winner_dict,winner_dict,\"-\"*50))"
      ],
      "execution_count": null,
      "outputs": [
        {
          "output_type": "stream",
          "name": "stdout",
          "text": [
            "{'NAME': 'JOHN DERA', 'BIB': 22, 'Net Finish Time': '02:08:09', 'Finish Position': 1}\n",
            " Mumbai Marathon 2020\n",
            "\n",
            "      CONGRATULATIONS\n",
            "\n",
            "This is to certify that JOHN DERA                    \n",
            "BIB No. 22\n",
            "officially completed the marathon \n",
            "(distance 42.2 km) \n",
            "in the men's category \n",
            "with a finish time of 02:08:09 \n",
            "and rank 1.                   \n",
            "--------------------------------------------------\n",
            "\n"
          ]
        }
      ]
    },
    {
      "cell_type": "markdown",
      "metadata": {
        "id": "zOgtIxlMIT6h"
      },
      "source": [
        "The `format()` function actually behaves like a list or a tuple. It means the values passed to the `format()` function occupy unique indices inside the function. So, the first value will occupy `index = 0`, the second value will occupy `index = 1` and so on. \n",
        "\n",
        "Here, we have passed the `winner_dict` variable to the `format()` function four times. It acts as an item inside the `format()` function. So, `winner_dict` has four indices. They are `0, 1, 2` and `3`. Additionally, we have passed each of these indices inside the placeholders along with the keys of the dictionary stored in the `winner_dict` variable. Therefore:\n",
        "\n",
        "- In the first placeholder, `0[NAME]` becomes `winner_dict['NAME']` because `winner_dict` is present at `index = 0` inside the `format()` function.\n",
        "\n",
        "- In the second placeholder, `1[BIB]` becomes `winner_dict['BIB']` because `winner_dict` is present at `index = 1` as well inside the `format()` function.\n",
        "\n",
        "- In the third placeholder, `2[Net Finish Time]` becomes `winner_dict['Net Finish Time']` because `winner_dict` is present at `index = 2` as well inside the `format()` function.\n",
        "\n",
        "- In the fourth placeholder, `3[Finish Position]` becomes `winner_dict['Finish Position']` because `winner_dict` is present at `index = 3` as well inside the `format()` function.\n",
        "\n",
        "- In the fifth placeholder, `{4}` becomes `'-' * 5` because it is present at `index = 4` inside the `format()` function.\n",
        "\n",
        "There is an even more neat way of formatting the string stored in the `winner_certi` variable. Pass the `winner_dict` dictionary only once to the `format()` function and insert `0` inside the first four placeholders along with the keys of the `winner_dict` dictionary."
      ]
    },
    {
      "cell_type": "code",
      "metadata": {
        "id": "H0AhUF6E8O7q",
        "colab": {
          "base_uri": "https://localhost:8080/"
        },
        "outputId": "ced4ed23-5144-403e-804f-396af704fea3"
      },
      "source": [
        "# S1.3: Pass the 'winner_dict' dictionary only once to the 'format()' function. \n",
        "# Also, insert 0 inside the first four placeholders along with the keys of the 'winner_dict' dictionary.\n",
        "winner_dict=dict(df.loc[0,['NAME','BIB','Net Finish Time','Finish Position']])\n",
        "print(winner_dict)\n",
        "certi=\"\"\" Mumbai Marathon 2020\n",
        "\n",
        "      CONGRATULATIONS\n",
        "\n",
        "This is to certify that {0[NAME]}                    \n",
        "BIB No. {0[BIB]}\n",
        "officially completed the marathon \n",
        "(distance 42.2 km) \n",
        "in the men's category \n",
        "with a finish time of {0[Net Finish Time]} \n",
        "and rank {0[Finish Position]}.                   \n",
        "{1}\n",
        "\"\"\"\n",
        "print(certi.format(winner_dict,\"-\"*50))"
      ],
      "execution_count": null,
      "outputs": [
        {
          "output_type": "stream",
          "name": "stdout",
          "text": [
            "{'NAME': 'JOHN DERA', 'BIB': 22, 'Net Finish Time': '02:08:09', 'Finish Position': 1}\n",
            " Mumbai Marathon 2020\n",
            "\n",
            "      CONGRATULATIONS\n",
            "\n",
            "This is to certify that JOHN DERA                    \n",
            "BIB No. 22\n",
            "officially completed the marathon \n",
            "(distance 42.2 km) \n",
            "in the men's category \n",
            "with a finish time of 02:08:09 \n",
            "and rank 1.                   \n",
            "--------------------------------------------------\n",
            "\n"
          ]
        }
      ]
    },
    {
      "cell_type": "markdown",
      "metadata": {
        "id": "nkXJk-dT9QqF"
      },
      "source": [
        "In the above code:\n",
        "\n",
        "- In the first placeholder, `0[NAME]` becomes `winner_dict['NAME']` because `winner_dict` is present at `index = 0` inside the `format()` function.\n",
        "\n",
        "- In the second placeholder, `0[BIB]` becomes `winner_dict['BIB']` because `winner_dict` is present at `index = 0` inside the `format()` function.\n",
        "\n",
        "- In the third placeholder, `0[Net Finish Time]` becomes `winner_dict['Net Finish Time']` because `winner_dict` is present at `index = 0` inside the `format()` function.\n",
        "\n",
        "- In the fourth placeholder, `0[Finish Position]` becomes `winner_dict['Finish Position']` because `winner_dict` is present at `index = 0` inside the `format()` function.\n",
        "\n",
        "- In the fifth placeholder, `{1}` becomes `'-' * 5` because it is present at `index = 1` inside the `format()` function.\n",
        "\n",
        "Similarly, you can retrieve values from a list or tuple and substitute them into a string by replacing the keys of a dictionary inside the placeholders with the indices of the items in a tuple or a list. However, you cannot use negative indices while working with placeholders.\n",
        "\n",
        "Repeat the above exercise by creating a tuple for the winner of MM  2020 and then generate the certificate for him."
      ]
    },
    {
      "cell_type": "code",
      "metadata": {
        "id": "y0sV1gZpDHXn",
        "colab": {
          "base_uri": "https://localhost:8080/"
        },
        "outputId": "9f444b12-e7fb-494a-8e0f-2148ee3f0f23"
      },
      "source": [
        "# S1.4: Repeat the above exercise by creating a tuple for the MM  2020 winner and then generate the certificate for him.\n",
        "winner_t=tuple(df.loc[0,['NAME','BIB','Net Finish Time','Finish Position']])\n",
        "print(winner_t)\n",
        "certi=\"\"\" Mumbai Marathon 2020\n",
        "\n",
        "      CONGRATULATIONS\n",
        "\n",
        "This is to certify that {0[0]}                    \n",
        "BIB No. {0[1]}\n",
        "officially completed the marathon \n",
        "(distance 42.2 km) \n",
        "in the men's category \n",
        "with a finish time of {0[2]} \n",
        "and rank {0[3]}.                   \n",
        "{1}\n",
        "\"\"\"\n",
        "print(certi.format(winner_t,\"-\"*50))"
      ],
      "execution_count": null,
      "outputs": [
        {
          "output_type": "stream",
          "name": "stdout",
          "text": [
            "('JOHN DERA', 22, '02:08:09', 1)\n",
            " Mumbai Marathon 2020\n",
            "\n",
            "      CONGRATULATIONS\n",
            "\n",
            "This is to certify that JOHN DERA                    \n",
            "BIB No. 22\n",
            "officially completed the marathon \n",
            "(distance 42.2 km) \n",
            "in the men's category \n",
            "with a finish time of 02:08:09 \n",
            "and rank 1.                   \n",
            "--------------------------------------------------\n",
            "\n"
          ]
        }
      ]
    },
    {
      "cell_type": "markdown",
      "metadata": {
        "id": "GvqaNvocNLIz"
      },
      "source": [
        "In the above code:\n",
        "\n",
        "- In the first placeholder, `0[2]` becomes `winner_tuple[2]` because `winner_tuple` is present at `index = 0` inside the `format()` function. The name of the runner exists at `index = 2` in the `winner_tuple`.\n",
        "\n",
        "- In the second placeholder, `0[1]` becomes `winner_dict[1]` because `winner_tuple` is present at `index = 0` inside the `format()` function. The BIB number of the runner exists at `index = 1` in the `winner_tuple`.\n",
        "\n",
        "- In the third placeholder, `0[4]` becomes `winner_tuple[4]` because `winner_tuple` is present at `index = 0` inside the `format()` function. The finish time of the runner exists at `index = 4` in the `winner_tuple`.\n",
        "\n",
        "- In the fourth place holder, `0[0]` becomes `winner_dict[0]` because `winner_tuple` is present at `index = 0` inside the `format()` function. The finish position of the runner exists at `index = 0` in the `winner_tuple`.\n",
        "\n",
        "- In the fifth placeholder, `{1}` becomes `'-' * 5` because it is present at `index = 1` inside the `format()` function."
      ]
    },
    {
      "cell_type": "markdown",
      "metadata": {
        "id": "b5S5M_7Bcc7s"
      },
      "source": [
        "---"
      ]
    },
    {
      "cell_type": "markdown",
      "metadata": {
        "id": "lmAATGWoRaoh"
      },
      "source": [
        "#### Task 2: Zero Padding\n",
        "\n",
        "You can print a single-digit number as an $n$-digit number, such that the first $(n - 1)$ digits are zeros, using the `format()` function. E.g., you can print 7 as 007. To do this, you have to put the `:0n` flag inside a placeholder where `n` is the number of digits to be displayed in the final number.\n",
        "\n",
        "Let's learn this concept with the help of an example."
      ]
    },
    {
      "cell_type": "code",
      "metadata": {
        "id": "X3fcNxgeUnSM",
        "colab": {
          "base_uri": "https://localhost:8080/"
        },
        "outputId": "c79a61aa-840c-4a60-a934-6ec275dffc73"
      },
      "source": [
        "# S2.1: Print the natural numbers between 5 and 15 as three-digit numbers.\n",
        "for i in range(5,16):\n",
        "  print(\"{:03}\".format(i))"
      ],
      "execution_count": null,
      "outputs": [
        {
          "output_type": "stream",
          "name": "stdout",
          "text": [
            "005\n",
            "006\n",
            "007\n",
            "008\n",
            "009\n",
            "010\n",
            "011\n",
            "012\n",
            "013\n",
            "014\n",
            "015\n"
          ]
        }
      ]
    },
    {
      "cell_type": "markdown",
      "metadata": {
        "id": "zyv1zQ-OchO0"
      },
      "source": [
        "---"
      ]
    },
    {
      "cell_type": "markdown",
      "metadata": {
        "id": "1y6V_VjtSJKA"
      },
      "source": [
        "#### Task 3: Digits After Decimal\n",
        "\n",
        "Similarly, you can also define the number of digits to be printed after the decimal point using the `format()` function. E.g., the value of $\\pi$, i.e., 3.14159, correct upto five decimal places can be reported as 3.14, i.e., correct upto two decimal places.\n",
        "\n",
        "To do this, you have to put the `:.nf` flag inside a placeholder where `n` is the number of digits to be displayed after the decimal point.\n",
        "\n",
        "Consider the tuple below.\n",
        "\n",
        "`india_gdp_2011_2018 = (5.2413,\t5.4564,\t6.3861,\t7.4102,\t7.9963,\t8.1695,\t7.1679,\t6.8114)`\n",
        "\n",
        "Let's print the numbers contained in the `india_gdp_2011_2018` tuple. Also, display only two digits after the decimal point."
      ]
    },
    {
      "cell_type": "code",
      "metadata": {
        "id": "9wiB5tbDYtFL",
        "colab": {
          "base_uri": "https://localhost:8080/"
        },
        "outputId": "294defaa-97fc-4214-de67-7f3a2a1711e0"
      },
      "source": [
        "# S3.1: Print the numbers contained in the 'india_gdp_2011_2018' tuple. Also, display only two digits after the decimal point.\n",
        "india_gdp_2011_2018 = (5.2413, 5.4564, 6.3861, 7.4102, 7.9963, 8.1695, 7.1679, 6.8114)\n",
        "for i in india_gdp_2011_2018:\n",
        "  print(\"{:.2f}\".format(i))"
      ],
      "execution_count": null,
      "outputs": [
        {
          "output_type": "stream",
          "name": "stdout",
          "text": [
            "5.24\n",
            "5.46\n",
            "6.39\n",
            "7.41\n",
            "8.00\n",
            "8.17\n",
            "7.17\n",
            "6.81\n"
          ]
        }
      ]
    },
    {
      "cell_type": "markdown",
      "metadata": {
        "id": "YHLY0u-MPBGU"
      },
      "source": [
        "Thus, using `:.2f` with `format()` function, we displayed two digits after decimal point."
      ]
    },
    {
      "cell_type": "markdown",
      "metadata": {
        "id": "9wMFHOlAclWs"
      },
      "source": [
        "---"
      ]
    },
    {
      "cell_type": "markdown",
      "metadata": {
        "id": "Ib4wDLMobzq2"
      },
      "source": [
        "#### Task 4: Commas After Digits\n",
        "\n",
        "You can put commas in a large number using the `format()` function. E.g., the number 2384759 can be printed as 2,384,759 using the `format()` function. This is a very helpful feature to read an astronomically large number.\n",
        "\n",
        "To do this, you need to put the `:,` flag inside a placeholder."
      ]
    },
    {
      "cell_type": "code",
      "metadata": {
        "id": "_i1G90u9dSlO",
        "colab": {
          "base_uri": "https://localhost:8080/"
        },
        "outputId": "8c7bf91e-bbc5-459f-81f7-309e26475954"
      },
      "source": [
        "# S4.1: Create a tuple containing five random integers; each integer having 11 digits. Print the integers with commas included in them.\n",
        "t=(1000000000000,2000000000000,3000000000000,4000000000000,5000000000000)\n",
        "for i in t:\n",
        "  print(\"{:,}\".format(i))"
      ],
      "execution_count": null,
      "outputs": [
        {
          "output_type": "stream",
          "name": "stdout",
          "text": [
            "1,000,000,000,000\n",
            "2,000,000,000,000\n",
            "3,000,000,000,000\n",
            "4,000,000,000,000\n",
            "5,000,000,000,000\n"
          ]
        }
      ]
    },
    {
      "cell_type": "markdown",
      "metadata": {
        "id": "ktVEwIyve-Ac"
      },
      "source": [
        "In the above case, you can also print digits after the decimal point along with the commas."
      ]
    },
    {
      "cell_type": "code",
      "metadata": {
        "id": "ij3u6v8CfIHX",
        "colab": {
          "base_uri": "https://localhost:8080/"
        },
        "outputId": "f8ac2b8d-0bb8-4869-c562-31357a019551"
      },
      "source": [
        "# S4.2: Create a tuple containing five random integers; each integer having 11 digits. Print the integers with commas included in them.\n",
        "# Also, print the digits upto three correct decimal places.\n",
        "for i in t:\n",
        "  print(\"{:,.3f}\".format(i))"
      ],
      "execution_count": null,
      "outputs": [
        {
          "output_type": "stream",
          "name": "stdout",
          "text": [
            "1,000,000,000,000.000\n",
            "2,000,000,000,000.000\n",
            "3,000,000,000,000.000\n",
            "4,000,000,000,000.000\n",
            "5,000,000,000,000.000\n"
          ]
        }
      ]
    },
    {
      "cell_type": "markdown",
      "metadata": {
        "id": "iTY6q6blfrv4"
      },
      "source": [
        "As you can see, the numbers contain both the comma and digits after the decimal point."
      ]
    },
    {
      "cell_type": "markdown",
      "metadata": {
        "id": "DrJU6Q5E8G0c"
      },
      "source": [
        "---"
      ]
    },
    {
      "cell_type": "markdown",
      "metadata": {
        "id": "iPN_Ns0gTmRx"
      },
      "source": [
        "#### Task 5: The `f-strings`\n",
        "\n",
        "The `f-strings` is a cleaner and a faster way of formatting a string as compared to the `format()` function. The concepts of zero paddings, digits after the decimal point, commas after digits etc. are also applicable in case of the formatting through `f` literal in the exact same way.  However, the `f-strings` are applicable only to the newer versions of Python, specifically, version 3.6 and above.\n",
        "\n",
        "Introduction of `f-string` does not necessarily mean that the `format()` function has become irrelevant. Many Python programmers still use the `format()` function to make their code compatible with the older versions of Python. It is also more convenient while working with multiline strings.\n",
        "\n",
        "Before we learn formatting through the literal `f`, let's check the Python version installed on Colab notebooks by Google. You can do this by writing the `!python --version` bash command.\n",
        "\n",
        "**Note:** \n",
        "\n",
        "1. Every notebook has the same version of Python installed.\n",
        "\n",
        "2. If you are working on a terminal window of a Linux/Unix based machine, then you don't have to use the exclamation mark in the bash command, i.e., the command becomes `python --version`."
      ]
    },
    {
      "cell_type": "code",
      "metadata": {
        "id": "O6BSGQXnrtMQ",
        "colab": {
          "base_uri": "https://localhost:8080/"
        },
        "outputId": "203ad142-b2b6-4e7c-f4d6-7eb4b84e050d"
      },
      "source": [
        "# S5.1: Check the version of Python installed on Colab notebooks.\n",
        "!python --version"
      ],
      "execution_count": null,
      "outputs": [
        {
          "output_type": "stream",
          "name": "stdout",
          "text": [
            "Python 3.7.12\n"
          ]
        }
      ]
    },
    {
      "cell_type": "markdown",
      "metadata": {
        "id": "n6UohjVSsS9N"
      },
      "source": [
        "The literal `f` works exactly like the `format()` function. You simply have to write a final version of a string containing placeholders. The placeholders need to be labeled with the variable names that contain the values to be placed in the respective placeholders.\n",
        "\n",
        "Let's write a code to get the following output:\n",
        "\n",
        "```\n",
        "The annual GDP of India in 2011 was 5.2413%.\n",
        "The annual GDP of India in 2012 was 5.4564%.\n",
        "The annual GDP of India in 2013 was 6.3861%.\n",
        "The annual GDP of India in 2014 was 7.4102%.\n",
        "The annual GDP of India in 2015 was 7.9963%.\n",
        "The annual GDP of India in 2016 was 8.1695%.\n",
        "The annual GDP of India in 2017 was 7.1679%.\n",
        "The annual GDP of India in 2018 was 6.8114%.\n",
        "```\n",
        "\n",
        "Use the literal `f` to format a string and follow the steps given below to obtain the above output:\n",
        "\n",
        "1. Import `numpy` module and create following two numpy arrays:\n",
        "  -  `np_years = np.arange(2011, 2019)`\n",
        "  - `india_gdp_2011_2018 = (5.2413, 5.4564, 6.3861, 7.4102, 7.9963, 8.1695, 7.1679, 6.8114)`\n",
        "\n",
        "2. Use the `zip()` function to join these two arrays.\n",
        "\n",
        "3. Use the `tuple()` function to create a tuple containing a collection of tuples of year and GDP values.\n",
        "\n",
        "4. Initiate a `for` loop which will iterate through each item of this tuple.\n",
        "\n",
        "5. Use `f` literal to format the string in the following format: \n",
        "\n",
        "  `'The annual GDP of India in {year} was {gdp}%.'`\n",
        "\n",
        "  The placeholders in the above string are labelled as `year` and `gdp` which one-by-one store the year and GDP values for each item contained in the tuple.\n",
        "\n",
        "  \n",
        "**The `f-string` syntax:** The syntax to format a string using the `f` literal is \n",
        "\n",
        "`\"Some string having place holders {variable1} {variable2} ... {variableN}\"` \n",
        "\n",
        "Where `variable1, variable2 ... variableN` are the variables storing the values that need to go to their corresponding labeled placeholders.\n"
      ]
    },
    {
      "cell_type": "code",
      "metadata": {
        "id": "GpZZ0a2dUPk0",
        "colab": {
          "base_uri": "https://localhost:8080/"
        },
        "outputId": "218702fb-8102-4701-eebe-d0a37e468e04"
      },
      "source": [
        "# S5.2: Write a code to get the above output. Strictly use the literal 'f' for string formatting.\n",
        "import numpy as np\n",
        "np_years = np.arange(2011, 2019)\n",
        "india_gdp_2011_2018 = (5.2413, 5.4564, 6.3861, 7.4102, 7.9963, 8.1695, 7.1679, 6.8114)\n",
        "q=tuple(zip(np_years,india_gdp_2011_2018))\n",
        "for i,j in q:\n",
        "  print(f\"The annual GDP of India in {i} was {j}%.\")\n"
      ],
      "execution_count": null,
      "outputs": [
        {
          "output_type": "stream",
          "name": "stdout",
          "text": [
            "The annual GDP of India in 2011 was 5.2413%.\n",
            "The annual GDP of India in 2012 was 5.4564%.\n",
            "The annual GDP of India in 2013 was 6.3861%.\n",
            "The annual GDP of India in 2014 was 7.4102%.\n",
            "The annual GDP of India in 2015 was 7.9963%.\n",
            "The annual GDP of India in 2016 was 8.1695%.\n",
            "The annual GDP of India in 2017 was 7.1679%.\n",
            "The annual GDP of India in 2018 was 6.8114%.\n"
          ]
        }
      ]
    },
    {
      "cell_type": "markdown",
      "metadata": {
        "id": "4ScI7j2Ruwom"
      },
      "source": [
        "In the above code:\n",
        "\n",
        "- The `zip()` function joins the NumPy array containing the year values with the corresponding GDP values. \n",
        "\n",
        "- The `tuple()` function creates a tuple containing a collection of tuples of year and GDP values.\n",
        "\n",
        "- The `for` loop iterates through each item of the tuple.\n",
        "\n",
        "- The literal `f` formats the string in the desired format. The skeleton of the string is \n",
        "\n",
        "  `'The annual GDP of India in {year} was {gdp}%.'`\n",
        "\n",
        "  The placeholders in the above string are labelled as `year` and `gdp` which one-by-one store the year and GDP values for each item contained in the tuple.\n",
        "\n",
        "**The`f-string` syntax:** The syntax to format a string using the `f` literal is \n",
        "\n",
        "`\"Some string having place holders {variable1} {variable2} ... {variableN}\"` \n",
        "\n",
        "where `variable1, variable2 ... variableN` are the variables storing the values that need to go to their corresponding labelled placeholders.\n",
        "\n"
      ]
    },
    {
      "cell_type": "markdown",
      "metadata": {
        "id": "4wmQBtbRSoWm"
      },
      "source": [
        "---"
      ]
    },
    {
      "cell_type": "markdown",
      "metadata": {
        "id": "axbwCPPkSpRh"
      },
      "source": [
        "#### Task 6: Mathematical Operations Inside Placeholders\n",
        "\n",
        "You can also perform mathematical operations inside the placeholders.\n",
        "\n",
        "Let's understand this concept with the help of an example. Let's calculate the year-on-year change in the GDP figures of India between 2011 and 2018. Here's the expected output:\n",
        "\n",
        "```\n",
        "The increase in the GDP from 2011 to 2012 is 0.22 pp.\n",
        "The increase in the GDP from 2012 to 2013 is 0.93 pp.\n",
        "The increase in the GDP from 2013 to 2014 is 1.02 pp.\n",
        "The increase in the GDP from 2014 to 2015 is 0.59 pp.\n",
        "The increase in the GDP from 2015 to 2016 is 0.17 pp.\n",
        "The decrease in the GDP from 2016 to 2017 is 1.00 pp.\n",
        "The decrease in the GDP from 2017 to 2018 is 0.36 pp.\n",
        "```\n",
        "\n",
        "The abbreviation `pp` stands for percent points, i.e., the difference between two percentages. Use the `f-string` formatting technique to get the above output."
      ]
    },
    {
      "cell_type": "code",
      "metadata": {
        "id": "M48RSS0V89hA",
        "colab": {
          "base_uri": "https://localhost:8080/"
        },
        "outputId": "e63d06fd-7312-491a-d1a2-b3931c5ec681"
      },
      "source": [
        "# S6.1: Write a code to solve the above problem statement. Strictly use the 'f-string' formatting technique.\n",
        "for i in range(len(india_gdp_2011_2018) - 1):\n",
        "  for j in range(i + 1, i + 2):\n",
        "    if india_gdp_2011_2018[j] - india_gdp_2011_2018[i] > 0:\n",
        "      print(f\"The increase in the GDP from {np_years[i]} to {np_years[j]} is {(india_gdp_2011_2018[j] - india_gdp_2011_2018[i]):.2f} pp.\")\n",
        "    elif india_gdp_2011_2018[j] - india_gdp_2011_2018[i] < 0:\n",
        "      print(f\"The decrease in the GDP from {np_years[i]} to {np_years[j]} is {-(india_gdp_2011_2018[j] - india_gdp_2011_2018[i]):.2f} pp.\")\n",
        "    else:\n",
        "      print(f\"There change in the GDP from {np_years[i]} to {np_years[j]} is {(india_gdp_2011_2018[j] - india_gdp_2011_2018[i]):.2f} pp.\")"
      ],
      "execution_count": null,
      "outputs": [
        {
          "output_type": "stream",
          "name": "stdout",
          "text": [
            "The increase in the GDP from 2011 to 2012 is 0.22 pp.\n",
            "The increase in the GDP from 2012 to 2013 is 0.93 pp.\n",
            "The increase in the GDP from 2013 to 2014 is 1.02 pp.\n",
            "The increase in the GDP from 2014 to 2015 is 0.59 pp.\n",
            "The increase in the GDP from 2015 to 2016 is 0.17 pp.\n",
            "The decrease in the GDP from 2016 to 2017 is 1.00 pp.\n",
            "The decrease in the GDP from 2017 to 2018 is 0.36 pp.\n"
          ]
        }
      ]
    },
    {
      "cell_type": "markdown",
      "metadata": {
        "id": "WTMYtRWX8zlt"
      },
      "source": [
        "In the above code:\n",
        "\n",
        "- The nested `for` loop iterates through each value stored in the `india_gdp_2011_2018` tuple and `np_years` array such that only two consecutive values are taken at a time.\n",
        "\n",
        "- In the last placeholder, the difference between two consecutive GDP values is calculated. At the same time, the difference is formatted to display two digits after the decimal point."
      ]
    },
    {
      "cell_type": "markdown",
      "metadata": {
        "id": "mORgspftInsv"
      },
      "source": [
        "---"
      ]
    },
    {
      "cell_type": "markdown",
      "metadata": {
        "id": "snmR_IyEVDvL"
      },
      "source": [
        "#### Task 7: Performance\n",
        "\n",
        "The formatting through `f` literal is faster as compared to the formatting through the `format()` function.\n",
        "\n",
        "Let's calculate the time taken to format the same string 1 million times using the `f` literal as well as the `format()` function individually."
      ]
    },
    {
      "cell_type": "code",
      "metadata": {
        "id": "cRVsuuVXVh1O",
        "colab": {
          "base_uri": "https://localhost:8080/"
        },
        "outputId": "87354232-4f92-4d6f-8989-3da4de6da7fd"
      },
      "source": [
        "# Run the code below to compare the formatting speeds of the same string using the 'f' literal & the 'format()' function.\n",
        "import timeit\n",
        "\n",
        "s1 = \"\"\"\n",
        "name='Bruce Wayne' \n",
        "age=28 \n",
        "f'My name is {name}. I am {age} years old.'\n",
        "\"\"\"\n",
        "\n",
        "s2 = \"\"\"\n",
        "name='Bruce Wayne'\n",
        "age=28\n",
        "'My name is {}. I am {} years old.'.format(name, age)\n",
        "\"\"\"\n",
        "\n",
        "time1 = timeit.timeit(stmt=s1, number=100000)\n",
        "time2 = timeit.timeit(stmt=s2, number=100000)\n",
        "\n",
        "print(f\"Time taken to format a string using the 'f' literal is {time1 :.4f} seconds.\")\n",
        "print(f\"Time taken to format a string using the 'format()' function is {time2 :.4f} seconds.\")\n",
        "print(f\"\\nThe f-strings are {(time2 / time1):.2f} times faster than the 'format()' function.\") # This ratio will always be greater than 1."
      ],
      "execution_count": null,
      "outputs": [
        {
          "output_type": "stream",
          "name": "stdout",
          "text": [
            "Time taken to format a string using the 'f' literal is 0.0237 seconds.\n",
            "Time taken to format a string using the 'format()' function is 0.0379 seconds.\n",
            "\n",
            "The f-strings are 1.60 times faster than the 'format()' function.\n"
          ]
        }
      ]
    },
    {
      "cell_type": "markdown",
      "metadata": {
        "id": "CdbYZPzCcYVo"
      },
      "source": [
        "Let's pause here.  In the upcoming class, we will dive deeper into string operations that are critical to analysing textual data.\n",
        " \n"
      ]
    },
    {
      "cell_type": "markdown",
      "metadata": {
        "id": "gtnBXj7CVCa7"
      },
      "source": [
        "---"
      ]
    }
  ]
}