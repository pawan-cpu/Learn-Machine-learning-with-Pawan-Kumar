{
  "nbformat": 4,
  "nbformat_minor": 0,
  "metadata": {
    "colab": {
      "name": "16/11/21_Pawan kumar_CapstoneProject2_RockPaperScissors_.ipynb",
      "provenance": [],
      "collapsed_sections": [],
      "include_colab_link": true
    },
    "kernelspec": {
      "display_name": "Python 3",
      "name": "python3"
    }
  },
  "cells": [
    {
      "cell_type": "markdown",
      "metadata": {
        "id": "view-in-github",
        "colab_type": "text"
      },
      "source": [
        "<a href=\"https://colab.research.google.com/github/pawan-cpu/Learn-Python-with-Pawan-Kumar/blob/main/16_11_21_Pawan_kumar_CapstoneProject2_RockPaperScissors_.ipynb\" target=\"_parent\"><img src=\"https://colab.research.google.com/assets/colab-badge.svg\" alt=\"Open In Colab\"/></a>"
      ]
    },
    {
      "cell_type": "markdown",
      "metadata": {
        "id": "e4QGT0wEyPzI"
      },
      "source": [
        "# Capstone Project 2: The Rock-Paper-Scissors Game"
      ]
    },
    {
      "cell_type": "markdown",
      "metadata": {
        "id": "HlBg2Ru0eNFF"
      },
      "source": [
        "---"
      ]
    },
    {
      "cell_type": "code",
      "metadata": {
        "id": "d_keEhgw7wb0"
      },
      "source": [
        ""
      ],
      "execution_count": null,
      "outputs": []
    },
    {
      "cell_type": "markdown",
      "metadata": {
        "id": "L7UdXXKRkGZb"
      },
      "source": [
        "### Overview\n",
        "\n",
        "In this project, you have to create a ROCK-PAPER-SCISSORS game in which a player plays either 'Rock', 'Paper' or 'Scissors' and a computer tries to beat the player based on the player's previous moves. This game is generally played between two people. The rules of this game are:\n",
        "\n",
        "1. Rock beats scissors.\n",
        "\n",
        "2. Scissors beat paper.\n",
        "\n",
        "3. Paper beats rock.\n",
        "\n",
        "\n",
        "<img src=\"https://s3-whjr-v2-prod-bucket.whjr.online/b5ceb1fc-1760-4cd4-ae6c-ea600e577899.svg\"/>\n",
        "\n",
        "*Image Credits: https://commons.wikimedia.org/wiki/*\n",
        "\n",
        "\n",
        "Click on the link provided below to know how the game is played between two players in real life.\n",
        "\n",
        "[How to Play Rock-Paper-Scissors](https://www.wikihow.com/Video/Play-Rock,-Paper,-Scissors)\n",
        "\n",
        "For every move, either a human player gets 1 point or the computer gets 1 point. The game runs till either a human player or the computer reaches a score of 10 points. \n",
        "\n",
        "**Player Input Format**\n",
        "\n",
        "A player should play his/her move by entering the numbers 0, 1 and 2 where- \n",
        "\n",
        "- 0 denotes ROCK.\n",
        "\n",
        "- 1 denotes PAPER.\n",
        "\n",
        "- 2 denotes SCISSORS.\n"
      ]
    },
    {
      "cell_type": "markdown",
      "metadata": {
        "id": "CtDFzWSsvovW"
      },
      "source": [
        "---"
      ]
    },
    {
      "cell_type": "markdown",
      "metadata": {
        "id": "6wXOYtVDTXXy"
      },
      "source": [
        "#### Getting Started\n",
        "\n",
        "Follow the steps described below to solve the project:\n",
        "\n",
        "1. Click on the link provided below to open the Colab file for this project.\n",
        "   \n",
        "   https://colab.research.google.com/drive/1U3sgqsbyo6AvjD5zdPwHdqC_X_nRvMHr\n",
        "\n",
        "2. Create the duplicate copy of the Colab file. Here are the steps to create the duplicate copy:\n",
        "\n",
        "    - Click on the **File** menu. A new drop-down list will appear.\n",
        "\n",
        "      <img src='https://student-datasets-bucket.s3.ap-south-1.amazonaws.com/images/project-share-images/0_file_menu.png' width=500>\n",
        "\n",
        "    - Click on the **Save a copy in Drive** option. A duplicate copy will get created. It will open up in the new tab on your web browser.\n",
        "\n",
        "      <img src='https://student-datasets-bucket.s3.ap-south-1.amazonaws.com/images/project-share-images/1_create_colab_duplicate_copy.png' width=500>\n",
        "\n",
        "     - After creating the duplicate copy of the notebook, please rename it in the **YYYY-MM-DD_StudentName_CapstoneProject2** format. \n",
        "\n",
        "3. Now, write your code in the prescribed code cells."
      ]
    },
    {
      "cell_type": "markdown",
      "metadata": {
        "id": "bghFhMJ7TetH"
      },
      "source": [
        "---"
      ]
    },
    {
      "cell_type": "markdown",
      "metadata": {
        "id": "9Q0M0oH0vn8W"
      },
      "source": [
        "### The Algorithm\n",
        "\n",
        "In the algorithm, the computer should keep a count of player moves (i.e., the counts for 0, 1 and 2) in three separate variables - `count_rock`, `count_paper` and `count_scissors`. The algorithm should decide the computer's move based on the following possibilities:\n",
        "\n",
        "- If  `count_rock` $\\\\>$ `count_paper` and `count_rock` $\\\\>$ `count_scissors`, then the computer's move should be ROCK.\n",
        "\n",
        "\n",
        "- If  `count_paper` $\\\\>$ `count_rock` and `count_paper` $\\\\>$ `count_scissors`, then the computer's move should be PAPER.\n",
        "\n",
        "- If  `count_scissors` $\\\\>$ `count_rock` and `count_scissors` $\\\\>$ `count_paper`, then the computer's move should be SCISSORS.\n",
        "\n",
        "- In all other cases, the computer should play ROCK, PAPER and SCISSORS randomly.\n"
      ]
    },
    {
      "cell_type": "markdown",
      "metadata": {
        "id": "fQa66ZmKvjbh"
      },
      "source": [
        "---"
      ]
    },
    {
      "cell_type": "markdown",
      "metadata": {
        "id": "Ckavby9cyCYx"
      },
      "source": [
        "### Game Requirements and Flowchart\n",
        "\n",
        "To make this game, you have to create five variables, one list and three functions.\n",
        "\n",
        "**Flowchart:**\n",
        "\n",
        "<img src=\"https://s3-whjr-v2-prod-bucket.whjr.online/ec033af4-e842-4ddc-b0f0-f9599bcec7b3.jpg\"/>\n",
        "\n",
        "\n"
      ]
    },
    {
      "cell_type": "markdown",
      "metadata": {
        "id": "wTPPusbHePv6"
      },
      "source": [
        "---"
      ]
    },
    {
      "cell_type": "markdown",
      "metadata": {
        "id": "-8TquayTxmCK"
      },
      "source": [
        "#### Import the `random` Module and Create the Count Variables\n",
        "\n",
        "- As a first step to create this game, import the `random` module.\n",
        "\n",
        "- Create the `count_rock`, `count_paper` and `count_scissors` variables and set their initial values equal to `0`."
      ]
    },
    {
      "cell_type": "code",
      "metadata": {
        "id": "tVGefK0W7XYm"
      },
      "source": [
        "# Import the random module in the next line.\n",
        "import random\n",
        "\n",
        "\n",
        "# Create count_rock, count_paper and count_scissors variables and set their initial values equal to 0.\n",
        "count_rock=0\n",
        "count_paper=0\n",
        "count_scissors=0"
      ],
      "execution_count": null,
      "outputs": []
    },
    {
      "cell_type": "markdown",
      "metadata": {
        "id": "CLkrMirEd-J3"
      },
      "source": [
        "---"
      ]
    },
    {
      "cell_type": "markdown",
      "metadata": {
        "id": "wPiSv3iXyuPY"
      },
      "source": [
        "#### Create The `update_counts()` Function\n",
        "\n",
        "Now create a function and name it `update_counts()`. It should take `user_input` variable as input and update the count variables based on the following logic.\n",
        "\n",
        "- If the player plays ROCK (or `user_input == 0`), then increase the value of `count_rock` variable.\n",
        "\n",
        "- Else if the player plays PAPER (or `user_input == 1`), then increase the value of `count_paper` variable.\n",
        "\n",
        "- Else if the player plays SCISSORS (or `user_input == 2`), then increase the value of `count_scissors` variable.\n",
        "\n",
        "The `update_counts()` function should not return anything. In other words, it should not contain the `return` statement. It should only perform the actions prescribed above. Make sure that you add the `global` keyword before the `count_rock`, `count_paper` and `count_scissors` variables before incrementing their values. Without it you will face an error while running the game."
      ]
    },
    {
      "cell_type": "code",
      "metadata": {
        "id": "GbdtVjExZufR"
      },
      "source": [
        ""
      ],
      "execution_count": null,
      "outputs": []
    },
    {
      "cell_type": "code",
      "metadata": {
        "id": "aRXQ7Psmyc88"
      },
      "source": [
        "# Create the update_counts() function.\n",
        "def update_counts(user_input):\n",
        "  global count_rock, count_paper, count_scissors\n",
        "  if user_input == 0:\n",
        "    count_rock += 1\n",
        "  elif user_input == 1:\n",
        "    count_paper += 1\n",
        "  else:\n",
        "    count_scissors += 1\n",
        "\n",
        "\n",
        "\n",
        "\n",
        "\n",
        "  \n",
        "\n"
      ],
      "execution_count": null,
      "outputs": []
    },
    {
      "cell_type": "markdown",
      "metadata": {
        "id": "d13rhawzeBL_"
      },
      "source": [
        "---"
      ]
    },
    {
      "cell_type": "markdown",
      "metadata": {
        "id": "lQNablFj2R2f"
      },
      "source": [
        "#### Create The `predict()` Function\n",
        "\n",
        "Next, you need to create a function called `predict()` which should return -\n",
        "\n",
        "- ROCK (or `0`), if the value of the `count_rock` variable is greater than the values of the `count_paper` and `count_scissors` variables.\n",
        "\n",
        "- PAPER (or `1`), if the value of the `count_paper` variable is greater than the values of the `count_rock` and `count_scissors` variables.\n",
        "\n",
        "- SCISSORS (or `2`), if the value of the `count_scissors` variable is greater than the values of the `count_rock` and `count_paper` variables.\n",
        "\n",
        "- `0, 1` or `2` randomly if the values of all the three variables i.e. `count_rock, count_paper` and `count_scissors` are equal.\n",
        "\n",
        "Use the `and` keyword to check two conditions simultaneously. For example, the code below should return `True` because  5 is less than 8 and 5 is less than 10."
      ]
    },
    {
      "cell_type": "code",
      "metadata": {
        "colab": {
          "base_uri": "https://localhost:8080/"
        },
        "id": "M5HlFFbx7Nj0",
        "outputId": "e5aec105-b020-4a45-ab70-d328863e0684"
      },
      "source": [
        "5 < 8 and 5 < 10"
      ],
      "execution_count": null,
      "outputs": [
        {
          "output_type": "execute_result",
          "data": {
            "text/plain": [
              "True"
            ]
          },
          "metadata": {},
          "execution_count": 3
        }
      ]
    },
    {
      "cell_type": "markdown",
      "metadata": {
        "id": "KcScMMWn7a8V"
      },
      "source": [
        "The code below should return `False` because 5 is less than 13."
      ]
    },
    {
      "cell_type": "code",
      "metadata": {
        "colab": {
          "base_uri": "https://localhost:8080/"
        },
        "id": "l1_3WPBT77PL",
        "outputId": "81c7cdbf-90ea-425e-a6cd-a59f7553cece"
      },
      "source": [
        "5 > 13 and 5 < 10"
      ],
      "execution_count": null,
      "outputs": [
        {
          "output_type": "execute_result",
          "data": {
            "text/plain": [
              "False"
            ]
          },
          "metadata": {},
          "execution_count": 4
        }
      ]
    },
    {
      "cell_type": "markdown",
      "metadata": {
        "id": "KqotpZqk8SG2"
      },
      "source": [
        "The statement, `condition1 and condition2` is `True` if and only if both the conditions are `True`. If at least one of them is `False`, then the whole statement becomes `False`.\n",
        "\n",
        "\n",
        "Now, create the `predict()` function."
      ]
    },
    {
      "cell_type": "code",
      "metadata": {
        "id": "mZx0NTuy2l2f"
      },
      "source": [
        "# Create the predict() function.\n",
        "def predict():\n",
        "\n",
        "  if count_rock > count_paper and count_rock > count_scissors:\n",
        "    pred = 0\n",
        "  elif count_paper > count_rock and count_paper > count_scissors:\n",
        "    pred = 1\n",
        "  elif count_scissors > count_rock and count_scissors > count_paper:\n",
        "    pred = 2\n",
        "  else:\n",
        "    pred = random.randint(0, 2)\n",
        "\n",
        "  return pred"
      ],
      "execution_count": null,
      "outputs": []
    },
    {
      "cell_type": "markdown",
      "metadata": {
        "id": "is9vbO8KeDg8"
      },
      "source": [
        "---"
      ]
    },
    {
      "cell_type": "markdown",
      "metadata": {
        "id": "X-z3Zc89DIdh"
      },
      "source": [
        "#### Scores\n",
        "Now, create two variables `player_score` and `comp_score` to keep a track of the points secured by a player and a computer, respectively. Set their initial values equal to 0.  "
      ]
    },
    {
      "cell_type": "markdown",
      "metadata": {
        "id": "sPmZVfMSZAX9"
      },
      "source": [
        ""
      ]
    },
    {
      "cell_type": "code",
      "metadata": {
        "id": "kmTRqKuBDiVw"
      },
      "source": [
        "# Create the player_score and comp_score variables.\n",
        "player_score=0\n",
        "comp_score=0\n"
      ],
      "execution_count": null,
      "outputs": []
    },
    {
      "cell_type": "markdown",
      "metadata": {
        "id": "bUyVtX_QeE-G"
      },
      "source": [
        "---"
      ]
    },
    {
      "cell_type": "markdown",
      "metadata": {
        "id": "lhW2U1tRCJj_"
      },
      "source": [
        "#### The `update_scores()` Function\n",
        "\n",
        "Create a function and name it `update_scores()`. It should take the `user_input` variable as input and update the scores of the computer and a player. For every player input, there are 3 possible responses from the computer. \n",
        "\n",
        "**In total, there are 9 possible situations:**\n",
        "\n",
        "1. Player plays ROCK, computer plays ROCK, resulting in a tie.\n",
        "\n",
        "2. Player plays ROCK, computer plays PAPER, the computer wins.\n",
        "\n",
        "3. Player plays ROCK, computer plays SCISSORS, the player wins.\n",
        "\n",
        "4. Player plays PAPER, computer plays PAPER, resulting in a tie.\n",
        "\n",
        "5. Player plays PAPER, computer plays ROCK, the player wins.\n",
        "\n",
        "6. Player plays PAPER, computer plays SCISSORS, the computer wins.\n",
        "\n",
        "7. Player plays SCISSORS, computer plays SCISSORS, resulting in a tie.\n",
        "\n",
        "8. Player plays SCISSORS, computer plays ROCK, the computer wins.\n",
        "\n",
        "9. Player plays SCISSORS, computer plays PAPER, the player wins.\n",
        "\n",
        "This function needs to cover all the 9 possible situations to update the scores. To correctly create this function, do the following tasks:\n",
        "\n",
        "1. Write the `global` keyword before the `player_score` and `comp_score` variables.\n",
        "\n",
        "2. Create a variable called `pred` and store the value returned by the `predict()` function.\n",
        "\n",
        "3. Write an `if` statement to cover the first 3 possible situations. The code for this part has been provided to you already as a reference to enable you to write the remaining statements.\n",
        "\n",
        "4. Write an `elif` statement to cover the next 3 possible situations.\n",
        "\n",
        "5. Write the `else` statement to cover the remaining 3 possible situations.\n",
        "\n",
        "6. For every possible situation you must print the following:\n",
        "\n",
        "  - `You played X, computer played Y.`\n",
        "\n",
        "  - `Computer Score:`\n",
        "  \n",
        "  - `Your Score:`\n",
        "  \n",
        "  Here, `X` is either `ROCK, PAPER` or `SCISSORS` and `Y` is also either `ROCK, PAPER` or `SCISSORS`. \n",
        "\n",
        "**Note:** The `\\n` is called the **newline** character. It adds an empty newline at the beginning if placed it is before a string or at the end if it is place after a string. Refer to the code shown below.\n",
        "\n"
      ]
    },
    {
      "cell_type": "code",
      "metadata": {
        "colab": {
          "base_uri": "https://localhost:8080/"
        },
        "id": "GFcDtsfD4QuW",
        "outputId": "e4fdef8d-e4de-40ed-9f24-2be4ba1ea273"
      },
      "source": [
        "# Placing \\n before a string.\n",
        "print(\"\\nPlacing the newline character before the string.\")"
      ],
      "execution_count": null,
      "outputs": [
        {
          "output_type": "stream",
          "name": "stdout",
          "text": [
            "\n",
            "Placing the newline character before the string.\n"
          ]
        }
      ]
    },
    {
      "cell_type": "markdown",
      "metadata": {
        "id": "GpTKrUxe4R24"
      },
      "source": [
        "As you can see, an empty new line is added before the string."
      ]
    },
    {
      "cell_type": "code",
      "metadata": {
        "colab": {
          "base_uri": "https://localhost:8080/"
        },
        "id": "HDyHXJWv4XbG",
        "outputId": "10f680fc-e596-48cd-da9f-3af456f08a24"
      },
      "source": [
        "# Placing \\n after a string.\n",
        "print(\"Placing the newline character before the string.\\n\")"
      ],
      "execution_count": null,
      "outputs": [
        {
          "output_type": "stream",
          "name": "stdout",
          "text": [
            "Placing the newline character before the string.\n",
            "\n"
          ]
        }
      ]
    },
    {
      "cell_type": "markdown",
      "metadata": {
        "id": "ujasuQ8s4YI3"
      },
      "source": [
        "As you can see, an empty new line is added after the string.\n",
        "\n",
        "Now, create the `update_scores()` function."
      ]
    },
    {
      "cell_type": "code",
      "metadata": {
        "id": "2T3NfNyB-BXO"
      },
      "source": [
        "# Create the update_scores() function.\n",
        "def update_scores(user_input):\n",
        "  global player_score, comp_score\n",
        "  # Rock wins over scissors, scissors win over paper and paper wins over rock.\n",
        "  pred = predict()\n",
        "\n",
        "  # Code for Situation 1, 2 and 3.\n",
        "  if user_input == 0:\n",
        "    if pred == 0:\n",
        "      print(\"\\nYou played ROCK, computer played ROCK.\")\n",
        "      print(\"\\nComputer Score: \", comp_score, \"\\nYour Score: \", player_score)\n",
        "    elif pred == 1:\n",
        "      print(\"\\nYou played ROCK, computer played PAPER.\")\n",
        "      comp_score += 1\n",
        "      print(\"\\nComputer Score: \", comp_score, \"\\nYour Score: \", player_score)\n",
        "    else:\n",
        "      print(\"\\nYou played ROCK, computer played SCISSORS.\")\n",
        "      player_score += 1\n",
        "      print(\"\\nComputer Score: \", comp_score, \"\\nYour Score: \", player_score)\n",
        "  \n",
        "  # Code for Situation 4, 5 and 6.\n",
        "  elif user_input == 1:\n",
        "    if pred == 1:\n",
        "      print(\"\\nYou played PAPER, computer played PAPER.\")\n",
        "      print(\"\\nComputer Score: \", comp_score, \"\\nYour Score: \", player_score)\n",
        "    elif pred == 0:\n",
        "      print(\"\\nYou played PAPER, computer played ROCK.\")\n",
        "      player_score += 1\n",
        "      print(\"\\nComputer Score: \", comp_score, \"\\nYour Score: \", player_score)\n",
        "    else:\n",
        "      print(\"\\nYou played PAPER, computer played SCISSORS.\")\n",
        "      comp_score += 1\n",
        "      print(\"\\nComputer Score: \", comp_score, \"\\nYour Score: \", player_score)\n",
        "\n",
        "  else:\n",
        "\n",
        "\n",
        "    # (Write the code for else statement to cover situation 7,8 and 9.)\n",
        "    if user_input == 2:\n",
        "      if pred == 2:\n",
        "        print(\"\\nYou played SCISSOR, computer played SCISSOR.\")\n",
        "      print(\"\\nComputer Score: \", comp_score, \"\\nYour Score: \", player_score)\n",
        "    elif pred == 0:\n",
        "      print(\"\\nYou played SCISSOR, computer played ROCK.\")\n",
        "      player_score += 1\n",
        "      print(\"\\nComputer Score: \", comp_score, \"\\nYour Score: \", player_score)\n",
        "    else:\n",
        "      print(\"\\nYou played SCISSOR, computer played PAPER.\")\n",
        "      comp_score += 1\n",
        "      print(\"\\nComputer Score: \", comp_score, \"\\nYour Score: \", player_score)\n",
        "\n",
        "  \n",
        "\n",
        "    \n"
      ],
      "execution_count": null,
      "outputs": []
    },
    {
      "cell_type": "markdown",
      "metadata": {
        "id": "U8fwzPIXeHEA"
      },
      "source": [
        "---"
      ]
    },
    {
      "cell_type": "markdown",
      "metadata": {
        "id": "u-R8rU6fK3EW"
      },
      "source": [
        "#### Gameplay\n",
        "\n",
        "Now, it is time to run the game. \n",
        "\n",
        "1. Create a list: `['0', '1', '2']` and store it in the variable called `valid_entries`, i.e, `valid_entries = ['0', '1', '2']`.\n",
        "\n",
        "2. Create an infinite `while` loop. Inside the loop, create a variable called `user_input` to store the input taken by the player.\n",
        "\n",
        "3. Use the `input()` function to take input from a player. Inside the `input()` function, write the `Enter 0 for ROCK, 1 for PAPER and 2 for SCISSORS: ` statement to show it as a message to a player.\n",
        "\n",
        "4. Write another `while` loop to check whether the input provided by a player exists in the `valid_entries` list or not.\n",
        "\n",
        "5. If the input provided by a player does not exist in the `valid_entries` list, then print `Invalid Input!` message. In the next line, rewrite the `user_input = input(\"Enter 0 for ROCK, 1 for PAPER and 2 for SCISSORS: \")` statement.\n",
        "\n",
        "6. Now, outside the inner `while` loop, convert the `user_input` value to an integer value using the `int()` function.\n",
        "\n",
        "7. Call the `update_scores()` function with the `user_input` as an input to update the scores of the computer and the player.\n",
        "\n",
        "8. Call the `update_counts()` function with the `user_input` as an input to update the counts of the inputs provided by the player.\n",
        "\n",
        "9. Write an `if` statement to check if the score is 10 for any of the player. If the `comp_score == 10`, then print the `Computer Won!` message and break the loop. Else if the `player_score == 10`, then print the `You won!` message and break the loop.\n",
        "\n",
        "After writing code for the gameplay, the game should run smoothly till either the computer or the human player has reached a score of 10 points."
      ]
    },
    {
      "cell_type": "code",
      "metadata": {
        "colab": {
          "background_save": true,
          "base_uri": "https://localhost:8080/"
        },
        "id": "XunWo6pKe7jg",
        "outputId": "be7bbdc6-413a-4769-a7cd-70d38b63445d"
      },
      "source": [
        "# 1. Create a list: ['0', '1', '2'] and store it in the variable called valid_entries, i.e, valid_entries = ['0', '1', '2']\n",
        "valid_entries = ['0', '1', '2']\n",
        "\n",
        "# 2. Create an infinite while loop. Inside the loop, create a variable called user_input to store the input taken by the player.\n",
        "while True:\n",
        "  # 3. Use the input() function to take input from a player. \n",
        "  # Inside the input() function, write the Enter 0 for ROCK, 1 for PAPER and 2 for SCISSORS: statement to show it as a message to a player.\n",
        "  user_input = input(\"Enter 0 for ROCK, 1 for PAPER and 2 for SCISSORS: \")\n",
        "  # 4. Write another while loop to check whether the input provided by a player exists in the valid_entries list or not.\n",
        "  while user_input not in valid_entries:\n",
        "    # 5. If the input provided by a player does not exist in the valid_entries list, then print Invalid Input! message. \n",
        "    # In the next line, rewrite the user_input = input(\"Enter 0 for ROCK, 1 for PAPER and 2 for SCISSORS: \") statement.\n",
        "     print(\"\\nInvalid Input!\")\n",
        "\n",
        "     user_input = input(\"Enter 0 for ROCK, 1 for PAPER and 2 for SCISSORS: \")\n",
        "\n",
        "  # 6. Now, outside the inner while loop, convert the user_input value to an integer value using the int() function. \n",
        "  user_input = int(user_input)\n",
        "\n",
        "  # 7. Call the update_scores() function with the user_input as an input to update the scores of the computer and the player.\n",
        "  update_scores(user_input)\n",
        "  # 8. Call the update_counts() function with the user_input as an input to update the counts of the inputs provided by the player.\n",
        "  update_counts(user_input)\n",
        "\n",
        "  # (write the code for Step 9)\n",
        "  # 9. Write an if statement to check if the score is 10 for any of the player. \n",
        "  # If the comp_score == 10, then print the Computer Won! message and break the loop. \n",
        "  # Else if the player_score == 10, then print the You won! message and break the loop.\n",
        "  if comp_score==10:\n",
        "     print(\"Computer Won!\")\n",
        "     break\n",
        "  else:\n",
        "    if player_score == 10:\n",
        "        print(\"You won\")\n",
        "        break\n",
        "        print(user_input)\n"
      ],
      "execution_count": null,
      "outputs": [
        {
          "output_type": "stream",
          "name": "stdout",
          "text": [
            "Enter 0 for ROCK, 1 for PAPER and 2 for SCISSORS: 1\n",
            "\n",
            "You played PAPER, computer played PAPER.\n",
            "\n",
            "Computer Score:  0 \n",
            "Your Score:  0\n",
            "Enter 0 for ROCK, 1 for PAPER and 2 for SCISSORS: 2\n",
            "\n",
            "Computer Score:  0 \n",
            "Your Score:  0\n"
          ]
        }
      ]
    },
    {
      "cell_type": "markdown",
      "metadata": {
        "id": "6i4qUgiVdhgP"
      },
      "source": [
        "---"
      ]
    },
    {
      "cell_type": "markdown",
      "metadata": {
        "id": "TSVapR6FT_4t"
      },
      "source": [
        "### How To Submit The Project\n",
        "\n",
        "Follow the steps described below to submit the project.\n",
        "\n",
        "1. After finishing the project, click on the **Share** button on the top right corner of the notebook. A new dialog box will appear.\n",
        "\n",
        "  <img src='https://student-datasets-bucket.s3.ap-south-1.amazonaws.com/images/project-share-images/2_share_button.png' width=500>\n",
        "\n",
        "2. In the dialog box, click on the **Copy link** button.\n",
        "\n",
        "   <img src='https://student-datasets-bucket.s3.ap-south-1.amazonaws.com/images/project-share-images/3_copy_link.png' width=500>\n",
        "\n",
        "\n",
        "3. The link of the duplicate copy (named as **YYYY-MM-DD_StudentName_CapstoneProject2**) of the notebook will get copied \n",
        "\n",
        "   <img src='https://student-datasets-bucket.s3.ap-south-1.amazonaws.com/images/project-share-images/4_copy_link_confirmation.png' width=500>\n",
        "\n",
        "4. Go to your dashboard and click on the **My Projects** option.\n",
        "\n",
        "   <img src='https://student-datasets-bucket.s3.ap-south-1.amazonaws.com/images/project-share-images/5_student_dashboard.png' width=800>\n",
        "\n",
        "   <img src='https://student-datasets-bucket.s3.ap-south-1.amazonaws.com/images/project-share-images/6_my_projects.png' width=800>\n",
        "\n",
        "5. Click on the **View Project** button for the project you want to submit.\n",
        "\n",
        "   <img src='https://student-datasets-bucket.s3.ap-south-1.amazonaws.com/images/project-share-images/7_view_project.png' width=800>\n",
        "\n",
        "6. Click on the **Submit Project Here** button.\n",
        "\n",
        "   <img src='https://student-datasets-bucket.s3.ap-south-1.amazonaws.com/images/project-share-images/8_submit_project.png' width=800>\n",
        "\n",
        "7. Paste the link to the project file named as **YYYY-MM-DD_StudentName_CapstoneProject2** in the URL box and then click on the **Submit** button.\n",
        "\n",
        "   <img src='https://student-datasets-bucket.s3.ap-south-1.amazonaws.com/images/project-share-images/9_enter_project_url.png' width=800>\n"
      ]
    }
  ]
}