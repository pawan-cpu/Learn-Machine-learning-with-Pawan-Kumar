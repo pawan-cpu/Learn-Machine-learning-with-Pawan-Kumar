{
  "nbformat": 4,
  "nbformat_minor": 0,
  "metadata": {
    "colab": {
      "name": " 71L_3Feb_Pawan_Lesson 71 - Sorting Algorithms I",
      "provenance": [],
      "collapsed_sections": [],
      "include_colab_link": true
    },
    "kernelspec": {
      "name": "python3",
      "display_name": "Python 3"
    }
  },
  "cells": [
    {
      "cell_type": "markdown",
      "metadata": {
        "id": "view-in-github",
        "colab_type": "text"
      },
      "source": [
        "<a href=\"https://colab.research.google.com/github/pawan-cpu/Learn-Python-with-Pawan-Kumar/blob/main/71L_3Feb_Pawan_Lesson_71_Sorting_Algorithms_I.ipynb\" target=\"_parent\"><img src=\"https://colab.research.google.com/assets/colab-badge.svg\" alt=\"Open In Colab\"/></a>"
      ]
    },
    {
      "cell_type": "markdown",
      "metadata": {
        "id": "thoU3mn4miu2"
      },
      "source": [
        "# Lesson 71 - Sorting algorithms I"
      ]
    },
    {
      "cell_type": "markdown",
      "metadata": {
        "id": "nLAfVfc14yFg"
      },
      "source": [
        "---"
      ]
    },
    {
      "cell_type": "markdown",
      "metadata": {
        "id": "uYm2YbBEMfpP"
      },
      "source": [
        "### Teacher-Student Tasks\n",
        "\n",
        "You are given a large amount of student database who have scored different marks in the exam. Your task is to give them their respective ranks.\n",
        "\n",
        "What will you do?\n",
        "\n",
        "Sorting will help in such a scenario. You can sort all the students with respect to their marks and give them their results. \n",
        "\n",
        "In this class, we will analyse $3$ sorting algorithms:\n",
        "\n",
        "1. Bubble sort\n",
        "2. Selection sort\n",
        "3. Insertion sort\n",
        "\n",
        "\n",
        "**Comparisons** are when two elements are compared to see which one is larger and which one is smaller. One is selected depending upon the requirement. \n",
        "\n",
        "**Swapping** is interchanging the locations of two elements. It can be done only after comparison. Hence, the number of swaps is always less than the comparison.\n",
        "\n",
        "Computing power and time are consumed when a **comparison** is made between two elements of an array. Similarly, power and time are consumed when two elements are **swapped** in an array. These two are the important factors for evaluating the performance of an algorithm. In this tutorial, we will be concentrating only on sorting methods that give $\\mathcal{O}(n^2)$ time complexity. Here, $n$ is number of inputs. To put this in simple words, one can say that number of swaps and comparisons in the worst case are nearly a factor of $n^2$.\n",
        "\n"
      ]
    },
    {
      "cell_type": "markdown",
      "metadata": {
        "id": "oEkXktr_Mhyp"
      },
      "source": [
        "---"
      ]
    },
    {
      "cell_type": "markdown",
      "metadata": {
        "id": "q-PLvOnCMjcR"
      },
      "source": [
        "#### Task 1: Bubble sort\n",
        "\n",
        "Bubble sort is the most basic algorithm for sorting. As the name suggests with each iteration the largest number pops up like a bubble in the water at its respective position in the sorted array. We swap corresponding positions starting from the initial index to the last. This results in the largest number being on the rightmost index. Repeat this for the $n-1$ pass and the array will be sorted. \n",
        "\n",
        "\n",
        "\n",
        "Let's, sort array=$[5, 3, 4, 2, 1]$ with the above algorithm.\n",
        "\n",
        "Every **Pass** is iterating over the array once.  \n",
        "\n",
        "**First Pass: The largest element gets positioned towards the right.**\n",
        "\n",
        "$[3, 5, 4, 2, 1]$\n",
        "\n",
        "$[3, 4, 5, 2, 1]$\n",
        "\n",
        "$[3, 4, 2, 5, 1]$\n",
        "\n",
        "$[3, 4, 2, 1, 5]$\n",
        "\n",
        "\n",
        "**Second Pass: The second largest element gets positioned towards the right.**\n",
        "\n",
        "$[3, 4, 2, 1, 5]$\n",
        "\n",
        "$[3, 2, 4, 1, 5]$\n",
        "\n",
        "$[3, 2, 1, 4, 5]$\n",
        "\n",
        "\n",
        "**Third Pass: The third-largest element gets positioned towards the right.**\n",
        "\n",
        "$[2, 3, 1, 4, 5]$\n",
        "\n",
        "$[2, 1, 3, 4, 5]$\n",
        "\n",
        "**Fourth Pass: The fourth-largest element gets positioned towards the right.**\n",
        "\n",
        "$[1, 2, 3, 4, 5]$\n",
        "\n",
        "We can observe that how after each iteration the largest unsorted number is set at its right position for the sorted array. \n",
        "\n",
        "<center><img src = 'https://i.imgur.com/4tRr0rQ.png' width = 800></center>\n",
        "\n",
        "<center><img src = 'https://i.imgur.com/1T7G2Xi.png' width = 800></center>\n",
        "\n",
        "**NOTE:** Pseudo code is a representation of an algorithm in a rough format.\n",
        "\n",
        "Pseudo Code:\n",
        "\n",
        "```\n",
        "Bubble Sort(Array a[ ])\n",
        "1. begin:\n",
        "2. for i = 1 to n − 1            // Outer loop for all positions\n",
        "3.   for j = 1 to n − i          // Inner loop to pop up the required element\n",
        "4.      if (a[j] > a[j + 1]) then  //Comparison\n",
        "5.         Swap (a[j], a[j + 1])   // Swaping\n",
        "6. end \n",
        "```\n",
        "\n",
        "Here, $a$ is the array to be sorted. \n",
        "\n",
        "$n$ is the number of elements in the array.\n",
        "\n",
        "Follow the steps given below to implement bubble sort algorithm in Python:\n",
        "1. Define a `bubbleSort()` function which takes an array `arr` as input. Initialize following variables inside the function:\n",
        "  - `n = len(arr)`: To store the number of elements in the array.\n",
        "  - `swap = 0`: To count the number of swaps.\n",
        "  - `comp = 0`: To count the number of comparisons.\n",
        "\n",
        "2. Initiate a `for` loop which iterates from `0` to `n-1`. Inside this `for` loop, initiate another `for`\n",
        "loop which iterates from `0` to `n-i-1`, where `i` is the iterator of outside `for` loop. Inside this nested `for` loop,\n",
        "  - Increment the `comp` variable by `1`.\n",
        "  - Compare the current element of array to the next element. If it is greater, then swap both the elements and increment `swap` variable in the following way:\n",
        "  ```python\n",
        "     if arr[j] > arr[j+1]:\n",
        "       arr[j], arr[j+1] = arr[j+1], arr[j] \n",
        "       swap = swap+1\n",
        "  ```\n",
        "  - Print the sorted array `arr` for the current pass using a `for` loop.\n",
        "\n",
        "3. Print the number of swaps stored in `swap` variable and the number of comparisons stored in `comp` variable outside the outer `for` loop.\n",
        "\n",
        "\n",
        "\n",
        "\n",
        "\n"
      ]
    },
    {
      "cell_type": "code",
      "metadata": {
        "id": "LhPAQY96mlD0"
      },
      "source": [
        "# S1.1: Bubble sort with given array.\n",
        "def bubblesort(arr):\n",
        "  n=len(arr)\n",
        "  swap=0\n",
        "  comp=0\n",
        "  for i in range(0,n-1):\n",
        "    for j in range(0,n-i-1):\n",
        "      comp=comp+1\n",
        "      if arr[j]>arr[j+1]:\n",
        "        arr[j],arr[j+1]=arr[j+1],arr[j]\n",
        "        swap=swap+1\n",
        "    for i in arr:\n",
        "      print (i)\n",
        "    print()\n",
        "  \n",
        "  print(swap)\n",
        "  print(comp)\n",
        "\n",
        "\n",
        "\n",
        "    "
      ],
      "execution_count": null,
      "outputs": []
    },
    {
      "cell_type": "markdown",
      "metadata": {
        "id": "ys1T-P8yNO4o"
      },
      "source": [
        "Call `bubbleSort()` on array and print the final sorted array for:\n",
        "\n",
        "```\n",
        "1. arr1 = [5, 3, 4, 2, 1]\n",
        "2. arr2 = [1, 2, 3, 4, 5]\n",
        "3. arr3 = [5, 3, 4, 2, 1]\n",
        "```"
      ]
    },
    {
      "cell_type": "code",
      "metadata": {
        "id": "DAuiXnV3PTmh",
        "colab": {
          "base_uri": "https://localhost:8080/"
        },
        "outputId": "04c1b11d-d3e0-4733-83c3-6a69a497a774"
      },
      "source": [
        "# S1.2: Sort the array 'arr1'.\n",
        "arr1=[5,3,4,2,1]\n",
        "bubblesort(arr1)"
      ],
      "execution_count": null,
      "outputs": [
        {
          "output_type": "stream",
          "name": "stdout",
          "text": [
            "3\n",
            "4\n",
            "2\n",
            "1\n",
            "5\n",
            "\n",
            "3\n",
            "2\n",
            "1\n",
            "4\n",
            "5\n",
            "\n",
            "2\n",
            "1\n",
            "3\n",
            "4\n",
            "5\n",
            "\n",
            "1\n",
            "2\n",
            "3\n",
            "4\n",
            "5\n",
            "\n",
            "9\n",
            "10\n"
          ]
        }
      ]
    },
    {
      "cell_type": "code",
      "metadata": {
        "id": "YvKTQjh8xj7L",
        "colab": {
          "base_uri": "https://localhost:8080/"
        },
        "outputId": "72aadfdb-3135-4405-de16-ac8864dca465"
      },
      "source": [
        "# S1.3: Try some other sequences with input array for sorting  \n",
        "# Already Sorted:[1, 2, 3, 4, 5](Best Case)\n",
        "arr2 = [1, 2, 3, 4, 5]\n",
        "bubblesort(arr2)"
      ],
      "execution_count": null,
      "outputs": [
        {
          "output_type": "stream",
          "name": "stdout",
          "text": [
            "1\n",
            "2\n",
            "3\n",
            "4\n",
            "5\n",
            "\n",
            "1\n",
            "2\n",
            "3\n",
            "4\n",
            "5\n",
            "\n",
            "1\n",
            "2\n",
            "3\n",
            "4\n",
            "5\n",
            "\n",
            "1\n",
            "2\n",
            "3\n",
            "4\n",
            "5\n",
            "\n",
            "0\n",
            "10\n"
          ]
        }
      ]
    },
    {
      "cell_type": "code",
      "metadata": {
        "id": "9WIbm3UDyS5S",
        "colab": {
          "base_uri": "https://localhost:8080/"
        },
        "outputId": "6047afac-751f-4ec3-83bb-f72ff5d3502c"
      },
      "source": [
        "# S1.4: Reversely Sorted:[5, 4, 3, 2, 1](Worst Case)\n",
        "arr3 = [5, 3, 4, 2, 1]\n",
        "bubblesort(arr3)"
      ],
      "execution_count": null,
      "outputs": [
        {
          "output_type": "stream",
          "name": "stdout",
          "text": [
            "3\n",
            "4\n",
            "2\n",
            "1\n",
            "5\n",
            "\n",
            "3\n",
            "2\n",
            "1\n",
            "4\n",
            "5\n",
            "\n",
            "2\n",
            "1\n",
            "3\n",
            "4\n",
            "5\n",
            "\n",
            "1\n",
            "2\n",
            "3\n",
            "4\n",
            "5\n",
            "\n",
            "9\n",
            "10\n"
          ]
        }
      ]
    },
    {
      "cell_type": "markdown",
      "metadata": {
        "id": "Fz5v90Teyr63"
      },
      "source": [
        "**Q:** What is your observation on the Number of Swaps and Comparisons?\n",
        "\n",
        "**A:** "
      ]
    },
    {
      "cell_type": "markdown",
      "metadata": {
        "id": "rd3D6STPqWpJ"
      },
      "source": [
        "---"
      ]
    },
    {
      "cell_type": "markdown",
      "metadata": {
        "id": "_9nrmjiTzqfh"
      },
      "source": [
        "#### Task 2: Selection Sort\n",
        "\n",
        "Selection Sort is selecting a minimum element and putting it at its corresponding position in the sorted list. Select the first index and then swap the element located there with the index where the smallest element is located. Repeat this operation for $n-1$ time(s) and all the elements will be sorted.  \n",
        "\n",
        "\n",
        "\n",
        "\n",
        "Let's, sort array=$[5, 3, 4, 2, 1]$ using the above algorithm.\n",
        "\n",
        "**First Pass: The smallest element gets swapped with the element at the first position.**\n",
        "\n",
        "$[1, 3, 4, 2, 5]$\n",
        "\n",
        "**Second Pass: The second smallest element gets swapped with the element at the second position.**\n",
        "\n",
        "$[1, 2, 4, 3, 5]$\n",
        "\n",
        "**Third Pass: The third-smallest element gets swapped with the element at the third position.**\n",
        "\n",
        "$[1, 2, 3, 4, 5]$\n",
        "\n",
        "**Fourth Pass: The fourth-largest Element gets positioned towards the right.**\n",
        "\n",
        "$[1, 2, 3, 4, 5]$\n",
        "\n",
        "We can observe that how after each iteration the largest unsorted number is set at its right position for the sorted array. \n",
        "\n",
        "<center><img src = 'https://github.com/TANMAYGHODE/images/blob/master/Selection_sort_2.png?raw=true' width = 800></center>\n",
        "\n",
        "Algorithm:\n",
        "\n",
        "           \n",
        "\n",
        "```\n",
        "Selection Sort(Array a[])\n",
        "1. begin:\n",
        "2.  for i = 0 to n-1  //outer loop for selecting all indices\n",
        "3.   min_index=i          // store index of min element\n",
        "3.    for j = i+1 to n\n",
        "4.    if a[min_index] > a[j]:  // Comparison          \n",
        "5.     min_index = j             \n",
        "6.  a[i], a[min_index] = a[min_index], a[i] //swaping\n",
        "7. end\n",
        "```\n",
        "Here, $a$ is the array to be sorted. \n",
        "$n$ is the number of elements in the array.\n",
        "\n",
        "Follow the steps given below to implement selection sort algorithm in Python:\n",
        "1. Define a `selectionSort()` function which takes an array `arr` as input. Initialise following variables inside the function:\n",
        "  - `n = len(arr)`: To store the number of elements in the array.\n",
        "  - `swap = 0`: To count the number of swaps.\n",
        "  - `comp = 0`: To count the number of comparisons.\n",
        "\n",
        "2. Initiate a `for` loop which iterates from `0` to `n-1`. Initialise a variable `min_index` which stores the current iterator value `i`. Inside this `for` loop, initiate another `for`\n",
        "loop which iterates from `i+1` to `len(arr) - 1`, where `i` is the iterator of outside `for` loop. Inside this nested `for` loop,\n",
        "  - Increment the `comp` variable by `1`.\n",
        "  - Compare the element at `min_index` position to the current element. If it is greater, then swap both the elements's index value and increment `swap` variable in the following way:\n",
        "  ```python\n",
        "     if arr[min_index] > arr[j]:\n",
        "       swap = swap + 1\n",
        "       min_index = j \n",
        "  ```\n",
        "  - Print the sorted array `arr` for the current pass using a `for` loop.\n",
        "  - Swap the current element with minimum element in the following way:\n",
        "  ```python\n",
        "  arr[i], arr[min_index] = arr[min_index], arr[i]\n",
        "  ```\n",
        "\n",
        "3. Print the number of swaps stored in `swap` variable and the number of comparisons stored in `comp` variable outside the outer `for` loop. \n"
      ]
    },
    {
      "cell_type": "code",
      "metadata": {
        "id": "nHzhfIxQyaMk"
      },
      "source": [
        " # T2: Selection sort with given array.\n",
        "def selectionSort(arr):\n",
        "  n=len(arr)\n",
        "  swap=0\n",
        "  comp=0\n",
        "  for i in range(0,n):\n",
        "    min_index=i\n",
        "    for j in range(i+1,len(arr)):\n",
        "      comp=comp+1\n",
        "      if arr[min_index]>arr[j]:\n",
        "        swap=swap+1\n",
        "        min_index=j\n",
        "    arr[i],arr[min_index]=arr[min_index],arr[i]\n",
        "    for i in arr:\n",
        "      print(i)\n",
        "    print()\n",
        "\n",
        "    \n",
        "  print(swap)\n",
        "  print(comp)\n",
        "\n",
        "\n"
      ],
      "execution_count": null,
      "outputs": []
    },
    {
      "cell_type": "markdown",
      "metadata": {
        "id": "Dxpt44ftOrW6"
      },
      "source": [
        "Call `selectionSort()` on array and print the final sorted array for:\n",
        "\n",
        "```\n",
        "1. arr1 = [5, 3, 4, 2, 1]\n",
        "2. arr2 = [1, 2, 3, 4, 5]\n",
        "3. arr3 = [5, 3, 4, 2, 1]\n",
        "```"
      ]
    },
    {
      "cell_type": "code",
      "metadata": {
        "id": "tWvzhtk_pyv0",
        "colab": {
          "base_uri": "https://localhost:8080/"
        },
        "outputId": "07e707dd-5187-4060-df59-0f9e4b201833"
      },
      "source": [
        "# S2.2: Sort array 'arr1' using selection sort\n",
        "arr1 = [5, 3, 4, 2, 1]\n",
        "selectionSort(arr1)"
      ],
      "execution_count": null,
      "outputs": [
        {
          "output_type": "stream",
          "name": "stdout",
          "text": [
            "1\n",
            "3\n",
            "4\n",
            "2\n",
            "5\n",
            "\n",
            "1\n",
            "2\n",
            "4\n",
            "3\n",
            "5\n",
            "\n",
            "1\n",
            "2\n",
            "3\n",
            "4\n",
            "5\n",
            "\n",
            "1\n",
            "2\n",
            "3\n",
            "4\n",
            "5\n",
            "\n",
            "1\n",
            "2\n",
            "3\n",
            "4\n",
            "5\n",
            "\n",
            "5\n",
            "10\n"
          ]
        }
      ]
    },
    {
      "cell_type": "code",
      "metadata": {
        "id": "3-J1EonA7bjQ",
        "colab": {
          "base_uri": "https://localhost:8080/"
        },
        "outputId": "88d5311f-a002-4aef-b532-b6c2c9eec735"
      },
      "source": [
        "# S2.3: Try some other sequences with input array for sorting  \n",
        "# Sorted array:[1, 2, 3, 4, 5]\n",
        "arr2 = [1, 2, 3, 4, 5]\n",
        "selectionSort(arr2)"
      ],
      "execution_count": null,
      "outputs": [
        {
          "output_type": "stream",
          "name": "stdout",
          "text": [
            "1\n",
            "2\n",
            "3\n",
            "4\n",
            "5\n",
            "\n",
            "1\n",
            "2\n",
            "3\n",
            "4\n",
            "5\n",
            "\n",
            "1\n",
            "2\n",
            "3\n",
            "4\n",
            "5\n",
            "\n",
            "1\n",
            "2\n",
            "3\n",
            "4\n",
            "5\n",
            "\n",
            "1\n",
            "2\n",
            "3\n",
            "4\n",
            "5\n",
            "\n",
            "0\n",
            "10\n"
          ]
        }
      ]
    },
    {
      "cell_type": "code",
      "metadata": {
        "id": "nP3vCa5J80nK",
        "colab": {
          "base_uri": "https://localhost:8080/"
        },
        "outputId": "cf7984ad-2d4c-4e39-ec98-4e5d405fdd2b"
      },
      "source": [
        "# Sort the reverse array 'arr3'= [5, 4, 3, 2, 1]\n",
        "arr3= [5, 4, 3, 2, 1]\n",
        "selectionSort(arr3)"
      ],
      "execution_count": null,
      "outputs": [
        {
          "output_type": "stream",
          "name": "stdout",
          "text": [
            "1\n",
            "4\n",
            "3\n",
            "2\n",
            "5\n",
            "\n",
            "1\n",
            "2\n",
            "3\n",
            "4\n",
            "5\n",
            "\n",
            "1\n",
            "2\n",
            "3\n",
            "4\n",
            "5\n",
            "\n",
            "1\n",
            "2\n",
            "3\n",
            "4\n",
            "5\n",
            "\n",
            "1\n",
            "2\n",
            "3\n",
            "4\n",
            "5\n",
            "\n",
            "6\n",
            "10\n"
          ]
        }
      ]
    },
    {
      "cell_type": "markdown",
      "metadata": {
        "id": "HeerVVZs8FGI"
      },
      "source": [
        "**Q:** What is your observation on the Number of Swaps and Comparisons?\n",
        "\n",
        "**A:** \n",
        "\n",
        "**Q:** Which algorithm do you think is better, selection sort or bubble sort?\n",
        "\n",
        "**A:** "
      ]
    },
    {
      "cell_type": "markdown",
      "metadata": {
        "id": "G4zkoMx-qUi7"
      },
      "source": [
        "---"
      ]
    },
    {
      "cell_type": "markdown",
      "metadata": {
        "id": "3mj9SqS778zX"
      },
      "source": [
        "#### Task 3: Insertion Sort\n",
        "\n",
        "Insertion Sort is inserting one element after another and placing the newly added element at a position such that all the elements of the indices included are sorted.  One can relate it to the game of cards. When you are given a card you pick one by one and then place it in their respective order of sequence. \n",
        "\n",
        "\n",
        "\n",
        "\n",
        "\n",
        "Let's, sort array=$[5, 3, 4, 2, 1]$ with the above algorithm.\n",
        "\n",
        "**First Pass: First two elements are sorted.**\n",
        "\n",
        "$[3, 5, 4, 2, 1]$\n",
        "\n",
        "**Second Pass: First three elements are sorted.**\n",
        "\n",
        "$[3, 4, 5, 2, 1]$\n",
        "\n",
        "\n",
        "**Third Pass:  First four elements are sorted.**\n",
        "\n",
        "$[2, 3, 4, 5, 1]$\n",
        "\n",
        "**Fourth Pass: First five elements are sorted.**\n",
        "\n",
        "$[1, 2, 3, 4, 5]$\n",
        "\n",
        "We can observe that how after each iteration array at the right-hand side is sorted till the indices are covered. \n",
        "\n",
        "<center><img src = 'https://github.com/TANMAYGHODE/images/blob/master/Insertion_sort_2.png?raw=true' width = 800></center>\n",
        "\n",
        "The underlined array is sorted and a new element with each iteration is placed at its corresponding location in the array. \n",
        "\n",
        "Algorithm:\n",
        "\n",
        "```\n",
        "Insertion Sort(Array a[])\n",
        "1. begin:\n",
        "2.  for i = 0 to n-1\n",
        "3.   key = arr[i]\n",
        "3.   j = i-1 \n",
        "4.   while j >=0 and key < arr[j]: \n",
        "5.    arr[j+1]=arr[j]\n",
        "6.    j=j-1\n",
        "7.   arr[j+1]= key  \n",
        "8. end\n",
        "```\n",
        "        \n",
        "\n",
        "Here, $a$ is the array to be sorted. \n",
        "$n$ is the number of elements in the array.\n",
        "\n",
        "\n",
        "Follow the steps given below to implement insertion sort algorithm in Python:\n",
        "1. Define an `insertionSort()` function which takes an array `arr` as input. Initialise following variables inside the function:\n",
        "  - `n = len(arr)`: To store the number of elements in the array.\n",
        "  - `swap = 0`: To count the number of swaps.\n",
        "  - `comp = 0`: To count the number of comparisons.\n",
        "\n",
        "2. Initiate a `for` loop which iterates from `1` to `n`. Initialise a variable `key` which stores the current element `arr[i]`, where `i` is the iterator of outside `for` loop. \n",
        "\n",
        "  Initialise another variable `j = i - 1`. Increment the `comp` variable by `2`. Inside this `for` loop, initiate another `while` loop which iterates till the correct location of element is found out in sorted array. Inside this `while` loop, swap the elements at their correct position and increment `swap` variable by `1` as follows:\n",
        "  ```python\n",
        "     while j >= 0 and key < arr[j] :\n",
        "       arr[j + 1] = arr[j] \n",
        "       swap = swap + 1\n",
        "  ```\n",
        "  - Place the element at the correct location of the element (`i`) found by the `while` loop, as:\n",
        "  `arr[j+1] = key`.\n",
        "  - Print the sorted array `arr` for the current pass using a `for` loop.\n",
        "  \n",
        "3. Print the number of swaps stored in `swap` variable and the number of comparisons stored in `comp` variable outside the `for` loop.\n",
        "\n",
        "\n",
        "\n"
      ]
    },
    {
      "cell_type": "code",
      "metadata": {
        "id": "3yD9sXFwObb0"
      },
      "source": [
        " # T3: Insertion sort with given array.\n",
        "def insertionSort(arr):\n",
        "  n=len(arr)\n",
        "  swap=0\n",
        "  comp=0\n",
        "  for i in range(1,n):\n",
        "    key=arr[i]\n",
        "    j=i-1\n",
        "    comp=comp+2\n",
        "    while j >= 0 and key < arr[j]:\n",
        "      arr[j + 1] = arr[j] \n",
        "      swap = swap + 1\n",
        "      j=j-1\n",
        "    arr[j+1]=key\n",
        "    for i in arr:\n",
        "      print(i)\n",
        "    print()\n",
        "  \n",
        "  print(swap)\n",
        "  print(comp)\n",
        "\n",
        "  \n",
        "   \n",
        "\n"
      ],
      "execution_count": null,
      "outputs": []
    },
    {
      "cell_type": "markdown",
      "metadata": {
        "id": "2wzd0Wv_Py1D"
      },
      "source": [
        "Call `insertionSort()` on array and print the final sorted array for:\n",
        "\n",
        "```\n",
        "1. arr1 = [5, 3, 4, 2, 1]\n",
        "2. arr2 = [1, 2, 3, 4, 5]\n",
        "3. arr3 = [5, 3, 4, 2, 1]\n",
        "```"
      ]
    },
    {
      "cell_type": "code",
      "metadata": {
        "id": "BAcSCbTWqe59",
        "colab": {
          "base_uri": "https://localhost:8080/"
        },
        "outputId": "db0935f8-9926-4237-f9c9-95764a18b454"
      },
      "source": [
        "# S3.2: Call 'insertionSort' on arr1.\n",
        "arr1 = [5, 3, 4, 2, 1]\n",
        "insertionSort(arr1)"
      ],
      "execution_count": null,
      "outputs": [
        {
          "output_type": "stream",
          "name": "stdout",
          "text": [
            "3\n",
            "5\n",
            "4\n",
            "2\n",
            "1\n",
            "\n",
            "3\n",
            "4\n",
            "5\n",
            "2\n",
            "1\n",
            "\n",
            "2\n",
            "3\n",
            "4\n",
            "5\n",
            "1\n",
            "\n",
            "1\n",
            "2\n",
            "3\n",
            "4\n",
            "5\n",
            "\n",
            "9\n",
            "8\n"
          ]
        }
      ]
    },
    {
      "cell_type": "code",
      "metadata": {
        "id": "naZdJs1cxY7w",
        "colab": {
          "base_uri": "https://localhost:8080/"
        },
        "outputId": "6c4de1e2-fea5-423e-bbf3-376c493aa5cc"
      },
      "source": [
        "# S3.3:Try some other sequences with input array for sorting  \n",
        "# Already Sorted:[1, 2, 3, 4, 5]\n",
        "arr2 = [1, 2, 3, 4, 5]\n",
        "insertionSort(arr2)\n"
      ],
      "execution_count": null,
      "outputs": [
        {
          "output_type": "stream",
          "name": "stdout",
          "text": [
            "1\n",
            "2\n",
            "3\n",
            "4\n",
            "5\n",
            "\n",
            "1\n",
            "2\n",
            "3\n",
            "4\n",
            "5\n",
            "\n",
            "1\n",
            "2\n",
            "3\n",
            "4\n",
            "5\n",
            "\n",
            "1\n",
            "2\n",
            "3\n",
            "4\n",
            "5\n",
            "\n",
            "0\n",
            "8\n"
          ]
        }
      ]
    },
    {
      "cell_type": "code",
      "metadata": {
        "id": "sTiv38emXpHw",
        "colab": {
          "base_uri": "https://localhost:8080/"
        },
        "outputId": "ea94702f-adf1-4583-f4c7-6b900d17e2b3"
      },
      "source": [
        "# S3.4: Call 'insertionSort()' for reversely sorted array arr3 = [5, 4, 3, 2, 1]\n",
        "arr3 = [5, 4, 3, 2, 1]\n",
        "insertionSort(arr3)\n"
      ],
      "execution_count": null,
      "outputs": [
        {
          "output_type": "stream",
          "name": "stdout",
          "text": [
            "4\n",
            "5\n",
            "3\n",
            "2\n",
            "1\n",
            "\n",
            "3\n",
            "4\n",
            "5\n",
            "2\n",
            "1\n",
            "\n",
            "2\n",
            "3\n",
            "4\n",
            "5\n",
            "1\n",
            "\n",
            "1\n",
            "2\n",
            "3\n",
            "4\n",
            "5\n",
            "\n",
            "10\n",
            "8\n"
          ]
        }
      ]
    },
    {
      "cell_type": "markdown",
      "metadata": {
        "id": "ElhCL-I_Xx4N"
      },
      "source": [
        "**Q:** What are your observations?\n",
        "\n",
        "**A:**\n",
        "\n",
        "\n",
        "**Q:** Which algorithm will you use to sort while:\n",
        "\n",
        "1. Sorting books in a Library.\n",
        "\n",
        "2. Sorting students in a line (According to height). \n",
        "\n",
        "3. Selection of top $5$ Students from class.\n",
        "\n",
        "**A:** \n",
        "\n",
        "\n"
      ]
    },
    {
      "cell_type": "markdown",
      "metadata": {
        "id": "58QgA8DPrIHR"
      },
      "source": [
        "---"
      ]
    }
  ]
}