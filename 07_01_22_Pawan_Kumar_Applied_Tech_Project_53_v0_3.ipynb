{
  "nbformat": 4,
  "nbformat_minor": 0,
  "metadata": {
    "colab": {
      "name": "07-01-22 Pawan Kumar_Applied Tech. Project 53_v0.3",
      "provenance": [],
      "collapsed_sections": [],
      "include_colab_link": true
    },
    "kernelspec": {
      "name": "python3",
      "display_name": "Python 3"
    }
  },
  "cells": [
    {
      "cell_type": "markdown",
      "metadata": {
        "id": "view-in-github",
        "colab_type": "text"
      },
      "source": [
        "<a href=\"https://colab.research.google.com/github/pawan-cpu/Learn-Python-with-Pawan-Kumar/blob/main/07_01_22_Pawan_Kumar_Applied_Tech_Project_53_v0_3.ipynb\" target=\"_parent\"><img src=\"https://colab.research.google.com/assets/colab-badge.svg\" alt=\"Open In Colab\"/></a>"
      ]
    },
    {
      "cell_type": "markdown",
      "metadata": {
        "id": "UYmMpXkNw9I6"
      },
      "source": [
        "### Instructions"
      ]
    },
    {
      "cell_type": "markdown",
      "metadata": {
        "id": "PaanjkTewd2U"
      },
      "source": [
        "---"
      ]
    },
    {
      "cell_type": "markdown",
      "metadata": {
        "id": "64Zy490qzVsZ"
      },
      "source": [
        "#### Goal of the Project\n",
        "\n",
        "This project is designed for you to practice and solve the activities that are based on the concepts covered in the following lessons:\n",
        "\n",
        " 1. Classes and Objects \n",
        "\n",
        " 2. Inheritance"
      ]
    },
    {
      "cell_type": "markdown",
      "metadata": {
        "id": "8BgExNKi1khe"
      },
      "source": [
        "---"
      ]
    },
    {
      "cell_type": "markdown",
      "metadata": {
        "id": "LZO6ySeKtCjv"
      },
      "source": [
        "#### Getting Started:\n",
        "\n",
        "1. Click on this link to open the Colab file for this project.\n",
        "\n",
        "    https://colab.research.google.com/drive/1DqpftdZmLCNJDXlITdeHS-15P2mDL1iH\n",
        "\n",
        "2. Create a duplicate copy of the Colab file as described below.\n",
        "\n",
        "  - Click on the **File menu**. A new drop-down list will appear.\n",
        "\n",
        "   <img src='https://student-datasets-bucket.s3.ap-south-1.amazonaws.com/images/lesson-0/0_file_menu.png' width=500>\n",
        "\n",
        "  - Click on the **Save a copy in Drive** option. A duplicate copy will get created. It will open up in the new tab on your web browser.\n",
        "\n",
        "  <img src='https://student-datasets-bucket.s3.ap-south-1.amazonaws.com/images/lesson-0/1_create_colab_duplicate_copy.png' width=500>\n",
        "\n",
        "3. After creating the duplicate copy of the notebook, please rename it in the **YYYY-MM-DD_StudentName_Project53** format.\n",
        "\n",
        "4. Now, write your code in the prescribed code cells.\n"
      ]
    },
    {
      "cell_type": "markdown",
      "metadata": {
        "id": "GZC-jpQotpGs"
      },
      "source": [
        "---"
      ]
    },
    {
      "cell_type": "markdown",
      "metadata": {
        "id": "2i36Yv3-MPY5"
      },
      "source": [
        "### Problem Statement \n",
        "\n",
        "\n",
        "An **Atom** is the smallest unit of matter that retains all of the chemical properties. An **Element** is a substance that is made entirely from one type of atom. For example, the element hydrogen is made from atoms containing a single proton and a single electron. \n",
        "\n",
        "\n",
        "In this project, illustrate this hierarchical relationship of Atoms and  Elements using the concept of **Single-level Inheritance**.\n",
        "\n",
        "  "
      ]
    },
    {
      "cell_type": "markdown",
      "metadata": {
        "id": "vYChcL-WMRFV"
      },
      "source": [
        "---"
      ]
    },
    {
      "cell_type": "markdown",
      "metadata": {
        "id": "toeLx5LJpIV-"
      },
      "source": [
        "### List of Activities\n",
        "\n",
        "**Activity 1:** Create a parent class `Atom`.\n",
        "\n",
        "  \n",
        "**Activity 2:** Create an object of `Atom` class\n",
        "\n",
        "**Activity 3:** Create a child class `Element` which inherits from the parent class `Atom`.\n",
        "\n",
        "\n"
      ]
    },
    {
      "cell_type": "markdown",
      "metadata": {
        "id": "5JRlGIBRqCGl"
      },
      "source": [
        "---"
      ]
    },
    {
      "cell_type": "markdown",
      "metadata": {
        "id": "UCusTfW0tcxe"
      },
      "source": [
        "#### Activity 1: Create Parent class `Atom`\n",
        "\n",
        "The following are some of the common properties of an atom:\n",
        "\n",
        "|Property|Description|\n",
        "|-|-|\n",
        "|Name|Name of the atom|\n",
        "|Protons|Positively charged particles of an atom in the nucleus| \n",
        "|Electrons|Negatively charged particles of an atom in the outer shells|\n",
        "|Neutrons|Neutral or empty charged particles of an atom in the nucleus| \n",
        "|Electron Configuration|Distribution of electrons in the outer shells called orbits. For example: If there are 13 electrons, then the electron configuration will be [2, 8, 3].| \n",
        "|Atomic Mass| It is approximately equal to the sum of the number of protons and neutrons in an atom| \n",
        "|Net Charge|Difference in the number of protons and electrons.| \n"
      ]
    },
    {
      "cell_type": "markdown",
      "metadata": {
        "id": "j5RcICzZlJeZ"
      },
      "source": [
        "**Follow the steps given below:**\n",
        "\n",
        "1. Create a class `Atom`. The constructor of this class must initialise the following variables:\n",
        "\n",
        "- `name`: Name of the atom.\n",
        "\n",
        "- `electrons`: Number of electrons.\n",
        "\n",
        "- `protons`: Number of protons.\n",
        "\n",
        "- `neutrons`: Number of neutrons.\n",
        "\n",
        "- `electron_config`: A list representing distribution of electrons. \n",
        "\n",
        "   \n",
        "2. Add the following functions:\n",
        "\n",
        "- `calculate_atomic_mass()`: Inside this function, calculate the value of `atomic_mass` variable by adding the number of protons and neutrons.\n",
        "\n",
        "- `calculate_charge()`: Find the value of `net_charge` variable. Also, find out whether the atom is an anion, cation or neutral.\n",
        "\n",
        "**Note:** The net charge of an atom is always **zero** as the number of protons and neutrons is equal in an atom. If the atom gains an extra electron, it becomes negatively charged and is known as an **anion**. If it loses an electron, it becomes positively charged and is known as a **cation**. Thus, `net_charge` is calculated as:\n",
        "\n",
        "  `net_charge` = `protons` - `electrons`\n",
        "\n"
      ]
    },
    {
      "cell_type": "markdown",
      "source": [
        ""
      ],
      "metadata": {
        "id": "iEujCXgJmCOy"
      }
    },
    {
      "cell_type": "code",
      "metadata": {
        "id": "6RL71w3ntzcH"
      },
      "source": [
        "#  Create class 'Atom'. Add constructor and functions\n",
        "class Atom:\n",
        "  def__init__(self,name,electrons,protons,neutrons,electron_config):\n",
        "    self.protons = protons\n",
        "    self.neutrons = neutrons\n",
        "    self.electrons= electrons\n",
        "    self.electron_config = electron_config\n",
        "    \n",
        "    \n"
      ],
      "execution_count": null,
      "outputs": []
    },
    {
      "cell_type": "code",
      "source": [
        "class Atom:\n",
        "     def __init__(self,name,electrons,protons,neutrons,electron_config):\n",
        "       self.protons = protons\n",
        "       self.neutrons = neutrons\n",
        "       self.electrons= electrons\n",
        "       self.electron_config = electron_config\n",
        "     def calculate_atomic_mass(self):\n",
        "         print(self.protons,self.neutrons,self.electrons,self.electron_config)\n",
        "class Element(Atom):\n",
        "     def __init__(self,name,electrons,protons,neutrons,electron_config,mass,volume,melting_point,boiling_point):\n",
        "          Atom. __init__(self,name,electrons,protons,neutrons,electron_config)\n",
        "          self.mass = mass\n",
        "          self.melting_point = melting_point\n",
        "          self.boiling_point = boiling_point\n",
        "          self.volume = volume\n",
        "     def calculate_charge(self):\n",
        "        self.net_charge = self.protons-self.neutrons\n",
        "        if self.net_charge  > 0:\n",
        "          print(\"cation\")\n",
        "        elif self.net_charge<0:\n",
        "          print(\"anion\")\n",
        "        else:\n",
        "          print(\"neutral\")\n",
        "        return self.net_charge\n",
        "        print(self.protons,self.neutrons,self.electrons,self.electron_config)\n",
        "ob = Element(\"Aluminium\" ,10,13,14,[2,8],10800,4,2743,933.5)\n",
        "print(ob.calculate_atomic_mass())\n",
        "print(ob.calculate_charge())"
      ],
      "metadata": {
        "colab": {
          "base_uri": "https://localhost:8080/"
        },
        "id": "9PhPEtaRiW5e",
        "outputId": "e1662c65-cf77-4fc4-ffd7-206065a5cd9c"
      },
      "execution_count": null,
      "outputs": [
        {
          "output_type": "stream",
          "name": "stdout",
          "text": [
            "13 14 10 [2, 8]\n",
            "None\n",
            "anion\n",
            "-1\n"
          ]
        }
      ]
    },
    {
      "cell_type": "markdown",
      "metadata": {
        "id": "RETr5Tv1JBls"
      },
      "source": [
        "---"
      ]
    },
    {
      "cell_type": "markdown",
      "metadata": {
        "id": "z1v1uCgTXOj0"
      },
      "source": [
        "#### Activity 2: Create an Object of `Atom` Class\n",
        "\n",
        "Create an object of `Atom` class having following properties:\n",
        "\n",
        "|Property|Value|\n",
        "|-|-|\n",
        "|name|Aluminium|\n",
        "|protons|13| \n",
        "|electrons|13|\n",
        "|neutrons|14| \n",
        "|electron configuration|[2, 8, 3]| \n",
        "\n",
        "Call the functions to calculate the atomic mass and find out whether it is an anion, cation or neutral.\n",
        "\n"
      ]
    },
    {
      "cell_type": "code",
      "metadata": {
        "id": "cHEBBL8JOymV"
      },
      "source": [
        "# Create an object of 'Atom' class and call the functions\n",
        "\n"
      ],
      "execution_count": null,
      "outputs": []
    },
    {
      "cell_type": "markdown",
      "metadata": {
        "id": "TjVfq3s_G8Z8"
      },
      "source": [
        "---"
      ]
    },
    {
      "cell_type": "markdown",
      "metadata": {
        "id": "J2x0URlDJrZH"
      },
      "source": [
        "#### Activity 3: Create a Child Class `Element`\n",
        "\n",
        "\n",
        "1. Create a child class `Element` which inherits from the parent class `Atom`. In addition to the properties of the parent class, the constructor of this class must initialise the following properties:\n",
        "\n",
        "  - `mass`: Mass of the element.\n",
        "\n",
        "  - `volume`: Volume of the element.\n",
        "\n",
        "  - `melting_point`:  Melting point of the element.\n",
        "\n",
        "  - `boiling_point`: Boiling point of the element.\n",
        "\n",
        "2. After creating the child class, create its object and pass the attribute values of your choice. You can also use the following example:\n",
        "\n",
        "\n",
        "|Property|Value|\n",
        "|-|-|\n",
        "|name|Aluminium|\n",
        "|protons|13| \n",
        "|electrons|10|\n",
        "|neutrons|14| \n",
        "|electron configuration|[2, 8]| \n",
        "|mass|10800 kg| \n",
        "|volume|4  $m^{3}$|\n",
        "|boiling_point|2,743 K| \n",
        "|melting_point|933.5K| \n",
        "\n",
        "3. Call the functions to calculate the atomic mass and find out whether it is an anion, cation or neutral.\n",
        "\n",
        "\n",
        "\n",
        "\n",
        "\n",
        "\n",
        "\n",
        "\n",
        "\n"
      ]
    },
    {
      "cell_type": "code",
      "metadata": {
        "id": "IjwoVwylMHpY"
      },
      "source": [
        "# Create child class 'Element' and call the functions using the object of 'Element' class\n",
        "\n"
      ],
      "execution_count": null,
      "outputs": []
    },
    {
      "cell_type": "markdown",
      "metadata": {
        "id": "lBZS4GAudWGJ"
      },
      "source": [
        "---"
      ]
    },
    {
      "cell_type": "markdown",
      "metadata": {
        "id": "TPmIBJEFvLzW"
      },
      "source": [
        "### Submitting the Project:\n",
        "\n",
        "1. After finishing the project, click on the **Share** button on the top right corner of the notebook. A new dialog box will appear.\n",
        "\n",
        "  <img src='https://student-datasets-bucket.s3.ap-south-1.amazonaws.com/images/project-share-images/2_share_button.png' width=500>\n",
        "\n",
        "2. In the dialog box, make sure that '**Anyone on the Internet with this link can view**' option is selected and then click on the **Copy link** button.\n",
        "\n",
        "   <img src='https://student-datasets-bucket.s3.ap-south-1.amazonaws.com/images/project-share-images/3_copy_link.png' width=500>\n",
        "\n",
        "3. The link of the duplicate copy (named as **YYYY-MM-DD_StudentName_Project53**) of the notebook will get copied \n",
        "\n",
        "   <img src='https://student-datasets-bucket.s3.ap-south-1.amazonaws.com/images/project-share-images/4_copy_link_confirmation.png' width=500>\n",
        "\n",
        "4. Go to your dashboard and click on the **My Projects** option.\n",
        "   \n",
        "   <img src='https://student-datasets-bucket.s3.ap-south-1.amazonaws.com/images/project-share-images/5_student_dashboard.png' width=800>\n",
        "\n",
        "  <img src='https://student-datasets-bucket.s3.ap-south-1.amazonaws.com/images/project-share-images/6_my_projects.png' width=800>\n",
        "\n",
        "5. Click on the **View Project** button for the project you want to submit.\n",
        "\n",
        "   <img src='https://student-datasets-bucket.s3.ap-south-1.amazonaws.com/images/project-share-images/7_view_project.png' width=800>\n",
        "\n",
        "6. Click on the **Submit Project Here** button.\n",
        "\n",
        "   <img src='https://student-datasets-bucket.s3.ap-south-1.amazonaws.com/images/project-share-images/8_submit_project.png' width=800>\n",
        "\n",
        "7. Paste the link to the project file named as **YYYY-MM-DD_StudentName_Project53** in the URL box and then click on the **Submit** button.\n",
        "\n",
        "   <img src='https://student-datasets-bucket.s3.ap-south-1.amazonaws.com/images/project-share-images/9_enter_project_url.png' width=800> "
      ]
    },
    {
      "cell_type": "markdown",
      "metadata": {
        "id": "oesTsNEbvQ9U"
      },
      "source": [
        "---"
      ]
    }
  ]
}