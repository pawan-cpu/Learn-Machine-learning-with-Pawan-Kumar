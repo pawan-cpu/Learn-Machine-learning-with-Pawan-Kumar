{
  "nbformat": 4,
  "nbformat_minor": 0,
  "metadata": {
    "colab": {
      "name": "20/12/21_Pawan Kumar _Applied_Tech_Project_34_copy_v0.2.ipynb",
      "provenance": [],
      "collapsed_sections": [],
      "include_colab_link": true
    },
    "kernelspec": {
      "name": "python3",
      "display_name": "Python 3"
    }
  },
  "cells": [
    {
      "cell_type": "markdown",
      "metadata": {
        "id": "view-in-github",
        "colab_type": "text"
      },
      "source": [
        "<a href=\"https://colab.research.google.com/github/pawan-cpu/Learn-Python-with-Pawan-Kumar/blob/main/20_12_21_Pawan_Kumar__Applied_Tech_Project_34_copy_v0_2.ipynb\" target=\"_parent\"><img src=\"https://colab.research.google.com/assets/colab-badge.svg\" alt=\"Open In Colab\"/></a>"
      ]
    },
    {
      "cell_type": "markdown",
      "metadata": {
        "id": "YZnBY81YDCCr"
      },
      "source": [
        "### Instructions"
      ]
    },
    {
      "cell_type": "markdown",
      "metadata": {
        "id": "fIKnY8occu37"
      },
      "source": [
        "#### Goal of the Project\n",
        "\n",
        "This project is designed for you to practice and solve the activities that are based on the concepts covered in the following lesson:\n",
        "\n",
        "1. Python Tuples II\n",
        "\n",
        "\n",
        "\n"
      ]
    },
    {
      "cell_type": "markdown",
      "metadata": {
        "id": "BBqkpH4_Doqe"
      },
      "source": [
        "---"
      ]
    },
    {
      "cell_type": "markdown",
      "metadata": {
        "id": "yrd3ECOnvYbf"
      },
      "source": [
        "#### Getting Started\n",
        "\n",
        "Follow the steps described below to solve the project:\n",
        "\n",
        "1. Click on the link provided below to open the Colab file for this project.\n",
        "   \n",
        "   https://colab.research.google.com/drive/1VFourIED8UMseQW53DwXzqlRn_ELEknz\n",
        "   \n",
        "2. Create the duplicate copy of the Colab file. Here are the steps to create the duplicate copy:\n",
        "\n",
        "    - Click on the **File** menu. A new drop-down list will appear.\n",
        "\n",
        "      <img src='https://student-datasets-bucket.s3.ap-south-1.amazonaws.com/images/project-share-images/0_file_menu.png' width=500>\n",
        "\n",
        "    - Click on the **Save a copy in Drive** option. A duplicate copy will get created. It will open up in the new tab on your web browser.\n",
        "\n",
        "      <img src='https://student-datasets-bucket.s3.ap-south-1.amazonaws.com/images/project-share-images/1_create_colab_duplicate_copy.png' width=500>\n",
        "\n",
        "     - After creating the duplicate copy of the notebook, please rename it in the **YYYY-MM-DD_StudentName_Project34** format. \n",
        "\n",
        "3. Now, write your code in the prescribed code cells."
      ]
    },
    {
      "cell_type": "markdown",
      "metadata": {
        "id": "nzgd8BKvvXWA"
      },
      "source": [
        "---"
      ]
    },
    {
      "cell_type": "markdown",
      "metadata": {
        "id": "H0P9F3DUf8x2"
      },
      "source": [
        "### Activities\n",
        "\n",
        "\n",
        "  "
      ]
    },
    {
      "cell_type": "markdown",
      "metadata": {
        "id": "BVT9G_baB1aq"
      },
      "source": [
        "#### Activity 1: Changing Tuple Items\n",
        "\n",
        "Given a few random names stored in the `names_tup` tuple, write a code to remove `raj` from the `names_tup` tuple and then print the tuple after reversing the order of names stored in the `names_tup` tuple.\n",
        "\n",
        "`names_tup = ('kevin', 'kamal', 'raj', 'prashant', 'albert', 'daniel', 'rahul')`"
      ]
    },
    {
      "cell_type": "code",
      "metadata": {
        "id": "0pIGxKG9B3mb",
        "colab": {
          "base_uri": "https://localhost:8080/"
        },
        "outputId": "5de1dc8a-9098-4ebd-d22e-e1677c21eb63"
      },
      "source": [
        "# Tuple of random names.\n",
        "names_tup = ('kevin', 'kamal', 'raj', 'prashant', 'albert', 'daniel', 'rahul')\n",
        "\n",
        "# Print the contents of the 'names_tup' tuple.\n",
        "print(names_tup)\n",
        "# Convert the tuple into a list by passing the 'names_tup' tuple inside the 'list()' function.\n",
        "names_1st=list(names_tup)\n",
        "print(names_1st)\n",
        "# store it in another variable 'names_lst'.\n",
        "\n",
        "# Remove 'raj' from the 'names_lst' list using the 'remove()' function.\n",
        "names_1st.remove('raj')\n",
        "# Convert the list into a tuple by using the 'tuple()' function.\n",
        "z=tuple(names_1st)\n",
        "# Print the items of the tuple after reversing their order.\n",
        "print(sorted(z,reverse=True))"
      ],
      "execution_count": null,
      "outputs": [
        {
          "output_type": "stream",
          "name": "stdout",
          "text": [
            "('kevin', 'kamal', 'raj', 'prashant', 'albert', 'daniel', 'rahul')\n",
            "['kevin', 'kamal', 'raj', 'prashant', 'albert', 'daniel', 'rahul']\n",
            "['rahul', 'prashant', 'kevin', 'kamal', 'daniel', 'albert']\n"
          ]
        }
      ]
    },
    {
      "cell_type": "markdown",
      "metadata": {
        "id": "sjopsg2KPDU_"
      },
      "source": [
        "As we cannot change the contents of a tuple, first we need to convert the tuple into a list, then change the contents of the list and finally change the list back into a tuple.\n",
        "\n"
      ]
    },
    {
      "cell_type": "markdown",
      "metadata": {
        "id": "IJIZASayCpEW"
      },
      "source": [
        "---"
      ]
    },
    {
      "cell_type": "markdown",
      "metadata": {
        "id": "5kBinzKxn3hd"
      },
      "source": [
        "#### Activity 2: Adding Labels to Tuples\n",
        "\n",
        "Given a few random numbers stored in the `rand_num` tuple, write a code to sort the values in descending order and add labels to the values in the tuple."
      ]
    },
    {
      "cell_type": "code",
      "metadata": {
        "id": "4gjDvOhzn6TL",
        "colab": {
          "base_uri": "https://localhost:8080/"
        },
        "outputId": "bc47fd9c-90d0-4683-e0f6-dc3653152c8b"
      },
      "source": [
        "# Tuple containing 30 random integers ranging between 100 and 250.\n",
        "import random\n",
        "\n",
        "rand_num =tuple([random.randint(100, 250) for i in range(31)])\n",
        "rand_num"
      ],
      "execution_count": null,
      "outputs": [
        {
          "output_type": "execute_result",
          "data": {
            "text/plain": [
              "(136,\n",
              " 209,\n",
              " 178,\n",
              " 169,\n",
              " 219,\n",
              " 130,\n",
              " 167,\n",
              " 157,\n",
              " 139,\n",
              " 110,\n",
              " 179,\n",
              " 155,\n",
              " 103,\n",
              " 186,\n",
              " 208,\n",
              " 135,\n",
              " 183,\n",
              " 126,\n",
              " 230,\n",
              " 164,\n",
              " 127,\n",
              " 187,\n",
              " 165,\n",
              " 125,\n",
              " 171,\n",
              " 196,\n",
              " 211,\n",
              " 106,\n",
              " 117,\n",
              " 213,\n",
              " 246)"
            ]
          },
          "metadata": {},
          "execution_count": 9
        }
      ]
    },
    {
      "cell_type": "code",
      "metadata": {
        "id": "uA85A_STQ9Xa",
        "colab": {
          "base_uri": "https://localhost:8080/"
        },
        "outputId": "5fb9f834-bf20-4a60-b4ee-5d3103e08d30"
      },
      "source": [
        "# Display the items of the 'rand_num' tuple in the descending order using the 'sorted()' function.\n",
        "sorted(rand_num,reverse=True)\n"
      ],
      "execution_count": null,
      "outputs": [
        {
          "output_type": "execute_result",
          "data": {
            "text/plain": [
              "[247,\n",
              " 244,\n",
              " 242,\n",
              " 226,\n",
              " 225,\n",
              " 222,\n",
              " 220,\n",
              " 208,\n",
              " 207,\n",
              " 206,\n",
              " 200,\n",
              " 193,\n",
              " 188,\n",
              " 182,\n",
              " 180,\n",
              " 178,\n",
              " 176,\n",
              " 168,\n",
              " 167,\n",
              " 165,\n",
              " 156,\n",
              " 155,\n",
              " 141,\n",
              " 141,\n",
              " 139,\n",
              " 136,\n",
              " 133,\n",
              " 125,\n",
              " 115,\n",
              " 113,\n",
              " 111]"
            ]
          },
          "metadata": {},
          "execution_count": 3
        }
      ]
    },
    {
      "cell_type": "code",
      "metadata": {
        "id": "JPbXsLnAR6sw",
        "colab": {
          "base_uri": "https://localhost:8080/"
        },
        "outputId": "35e2ec5e-6bdf-419e-d4f6-a341e219221c"
      },
      "source": [
        "# Add Labels to the 'rand_num' tuple. \n",
        "# Apply the 'tuple()' function on top of the 'enumerate()' function to add labels.\n",
        "r=tuple(enumerate(rand_num))\n",
        "print(r)\n",
        "\n"
      ],
      "execution_count": null,
      "outputs": [
        {
          "output_type": "stream",
          "name": "stdout",
          "text": [
            "((0, 136), (1, 209), (2, 178), (3, 169), (4, 219), (5, 130), (6, 167), (7, 157), (8, 139), (9, 110), (10, 179), (11, 155), (12, 103), (13, 186), (14, 208), (15, 135), (16, 183), (17, 126), (18, 230), (19, 164), (20, 127), (21, 187), (22, 165), (23, 125), (24, 171), (25, 196), (26, 211), (27, 106), (28, 117), (29, 213), (30, 246))\n"
          ]
        }
      ]
    },
    {
      "cell_type": "markdown",
      "metadata": {
        "id": "MWkPEALQn-lN"
      },
      "source": [
        "---"
      ]
    },
    {
      "cell_type": "markdown",
      "metadata": {
        "id": "u5uAhTz3vu6w"
      },
      "source": [
        "### Submitting the Project\n",
        "\n",
        "Follow the steps described below to submit the project.\n",
        "\n",
        "1. After finishing the project, click on the **Share** button on the top right corner of the notebook. A new dialog box will appear.\n",
        "\n",
        "  <img src='https://student-datasets-bucket.s3.ap-south-1.amazonaws.com/images/project-share-images/2_share_button.png' width=500>\n",
        "\n",
        "2. In the dialog box, click on the **Copy link** button.\n",
        "\n",
        "   <img src='https://student-datasets-bucket.s3.ap-south-1.amazonaws.com/images/project-share-images/3_copy_link.png' width=500>\n",
        "\n",
        "\n",
        "3. The link of the duplicate copy (named as **YYYY-MM-DD_StudentName_Project34**) of the notebook will get copied \n",
        "\n",
        "   <img src='https://student-datasets-bucket.s3.ap-south-1.amazonaws.com/images/project-share-images/4_copy_link_confirmation.png' width=500>\n",
        "\n",
        "4. Go to your dashboard and click on the **My Projects** option.\n",
        "\n",
        "   <img src='https://student-datasets-bucket.s3.ap-south-1.amazonaws.com/images/project-share-images/5_student_dashboard.png' width=800>\n",
        "\n",
        "   <img src='https://student-datasets-bucket.s3.ap-south-1.amazonaws.com/images/project-share-images/6_my_projects.png' width=800>\n",
        "\n",
        "5. Click on the **View Project** button for the project you want to submit.\n",
        "\n",
        "   <img src='https://student-datasets-bucket.s3.ap-south-1.amazonaws.com/images/project-share-images/7_view_project.png' width=800>\n",
        "\n",
        "6. Click on the **Submit Project Here** button.\n",
        "\n",
        "   <img src='https://student-datasets-bucket.s3.ap-south-1.amazonaws.com/images/project-share-images/8_submit_project.png' width=800>\n",
        "\n",
        "7. Paste the link to the project file named as **YYYY-MM-DD_StudentName_Project34** in the URL box and then click on the **Submit** button.\n",
        "\n",
        "   <img src='https://student-datasets-bucket.s3.ap-south-1.amazonaws.com/images/project-share-images/9_enter_project_url.png' width=800>\n"
      ]
    },
    {
      "cell_type": "markdown",
      "metadata": {
        "id": "RE724iLPvtei"
      },
      "source": [
        "---"
      ]
    }
  ]
}