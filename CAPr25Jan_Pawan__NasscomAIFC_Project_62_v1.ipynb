{
  "nbformat": 4,
  "nbformat_minor": 0,
  "metadata": {
    "colab": {
      "name": "CAPr25Jan_Pawan_ NasscomAIFC_Project_62_v1.ipynb",
      "provenance": [],
      "collapsed_sections": [],
      "include_colab_link": true
    },
    "kernelspec": {
      "name": "python3",
      "display_name": "Python 3"
    }
  },
  "cells": [
    {
      "cell_type": "markdown",
      "metadata": {
        "id": "view-in-github",
        "colab_type": "text"
      },
      "source": [
        "<a href=\"https://colab.research.google.com/github/pawan-cpu/Learn-Python-with-Pawan-Kumar/blob/main/CAPr25Jan_Pawan__NasscomAIFC_Project_62_v1.ipynb\" target=\"_parent\"><img src=\"https://colab.research.google.com/assets/colab-badge.svg\" alt=\"Open In Colab\"/></a>"
      ]
    },
    {
      "cell_type": "markdown",
      "metadata": {
        "id": "3dc3dzDzkNxM"
      },
      "source": [
        "# Capstone Project 16: House Price Prediction "
      ]
    },
    {
      "cell_type": "markdown",
      "metadata": {
        "id": "2USdj0Fcp1PA"
      },
      "source": [
        "---"
      ]
    },
    {
      "cell_type": "markdown",
      "metadata": {
        "id": "NZkuR4JIp122"
      },
      "source": [
        "### Context\n",
        "\n",
        "The price of the house depends on various factors like locality, connectivity, number of rooms, etc. Change in the mindset of the millennial generation also contributes to ups and down in house prices as the young generation is much into renting than to owe a house. Predicting the right price of the house is important for investors in the real estate business. This makes it very important to come up with proper and smart technique to estimate the true price of the house. \n",
        " "
      ]
    },
    {
      "cell_type": "markdown",
      "metadata": {
        "id": "bhlNrfRasTmn"
      },
      "source": [
        "---"
      ]
    },
    {
      "cell_type": "markdown",
      "metadata": {
        "id": "nG965_khAaJd"
      },
      "source": [
        "#### Getting Started\n",
        "\n",
        "Follow the steps described below to solve the project:\n",
        "\n",
        "1. Click on the link provided below to open the Colab file for this project.\n",
        "   \n",
        "   https://colab.research.google.com/drive/1A8Ui9xG_ilL23kUKPj3Nd_XSyF-OBewR\n",
        "\n",
        "2. Create the duplicate copy of the Colab file. Here are the steps to create the duplicate copy:\n",
        "\n",
        "    - Click on the **File** menu. A new drop-down list will appear.\n",
        "\n",
        "      <img src='https://student-datasets-bucket.s3.ap-south-1.amazonaws.com/images/project-share-images/0_file_menu.png' width=500>\n",
        "\n",
        "    - Click on the **Save a copy in Drive** option. A duplicate copy will get created. It will open up in the new tab on your web browser.\n",
        "\n",
        "      <img src='https://student-datasets-bucket.s3.ap-south-1.amazonaws.com/images/project-share-images/1_create_colab_duplicate_copy.png' width=500>\n",
        "\n",
        "     - After creating the duplicate copy of the notebook, please rename it in the **YYYY-MM-DD_StudentName_CapstoneProject17** format. \n",
        "\n",
        "3. Now, write your code in the prescribed code cells."
      ]
    },
    {
      "cell_type": "markdown",
      "metadata": {
        "id": "w5k_BnsbAbtD"
      },
      "source": [
        "---"
      ]
    },
    {
      "cell_type": "markdown",
      "metadata": {
        "id": "Kb7u6oKHsYD8"
      },
      "source": [
        "### Problem Statement\n",
        "\n",
        "\n",
        "You are willing to sell your house. You are not sure about the price of your house and want to estimate its price. You are provided with the dataset and need to make a prediction model which will help you to get a good estimate of your house for selling it. "
      ]
    },
    {
      "cell_type": "markdown",
      "metadata": {
        "id": "Ej0iNrOfw5mO"
      },
      "source": [
        "---"
      ]
    },
    {
      "cell_type": "markdown",
      "metadata": {
        "id": "ywFr5pfow8Gc"
      },
      "source": [
        "### Data Description\n",
        "\n",
        "The **housing** dataset contains the prices and other attributes. There are $545$ rows and $12$ attributes (features) with a target column (price). \n",
        "\n",
        "Following are the features:  \n",
        "\n",
        "|Column|Description|\n",
        "|---:|:---|\n",
        "|`Price`|Price in INR|\n",
        "|`area`|Area in square ft.|\n",
        "|`bedrooms`|Number of bedrooms in the house|\n",
        "|`bathrooms`|Number of bathrooms in the house|\n",
        "|`stories`|Number of stores in the house|\n",
        "|`mainroad`|Whether house is on main road or not(binary)|\n",
        "|`guestroom`|Whether house have guestroom or not(binary)|\n",
        "|`basement`|Whether house have basement or not(binary)|\n",
        "|`airconditioning`|Whether house have airconditioning or not(binary)|\n",
        "|`hotwaterheating`|Whether house have hotwaterheating or not(binary)|\n",
        "|`parking`|Number of parking area|\n",
        "|`prefarea`|Whether house have prefarea or not(binary)|\n",
        "|`furnishingstatus`|Furnish status of the house|\n",
        "\n",
        "\n",
        "  **Dataset Link:**  https://student-datasets-bucket.s3.ap-south-1.amazonaws.com/whitehat-ds-datasets/house-prices.csv\n"
      ]
    },
    {
      "cell_type": "markdown",
      "metadata": {
        "id": "m3-VjFOyqdvo"
      },
      "source": [
        "---"
      ]
    },
    {
      "cell_type": "markdown",
      "metadata": {
        "id": "2iZ9tHdX647b"
      },
      "source": [
        "### Things To Do\n",
        "\n",
        "1. Explore the Housing dataset by creating the following plots:\n",
        "   - Box plots between each categorical feature and the `price`.\n",
        "   - Scatter plots between the numerical features and the `price`.\n",
        "   \n",
        "2. Convert categorical attributes into numerical attributes using feature encoding.\n",
        "\n",
        "3. Build a linear regression model by selecting the most relevant features to predict the price of houses.\n",
        "\n",
        "4. Evaluate the linear regression model by calculating the parameters such as coefficient of determination, MAE, MSE, RMSE, mean of residuals and by checking for homoscedasticity.\n",
        "\n"
      ]
    },
    {
      "cell_type": "markdown",
      "metadata": {
        "id": "W4fE-t4Rr2CT"
      },
      "source": [
        "---"
      ]
    },
    {
      "cell_type": "markdown",
      "metadata": {
        "id": "e0IW5qmC2Aaa"
      },
      "source": [
        "#### 1. Import Modules and Load Dataset\n",
        "\n",
        "**Dataset Link:** https://student-datasets-bucket.s3.ap-south-1.amazonaws.com/whitehat-ds-datasets/house-prices.csv\n",
        "\n",
        "\n",
        "\n",
        "\n",
        "\n",
        "\n"
      ]
    },
    {
      "cell_type": "code",
      "metadata": {
        "id": "4NKi_-YIxTcL",
        "colab": {
          "base_uri": "https://localhost:8080/",
          "height": 206
        },
        "outputId": "c682db12-c028-4378-fcb9-6315f9368225"
      },
      "source": [
        "# Import the required modules and load the dataset.\n",
        "import numpy as np\n",
        "import matplotlib.pyplot as plt\n",
        "import pandas as pd\n",
        "import seaborn as sns\n",
        "df=pd.read_csv('https://student-datasets-bucket.s3.ap-south-1.amazonaws.com/whitehat-ds-datasets/house-prices.csv')\n",
        "df\n",
        "df.head()"
      ],
      "execution_count": 34,
      "outputs": [
        {
          "output_type": "execute_result",
          "data": {
            "text/html": [
              "\n",
              "  <div id=\"df-2f167c46-b73c-42fd-9ceb-a83c7c9c377a\">\n",
              "    <div class=\"colab-df-container\">\n",
              "      <div>\n",
              "<style scoped>\n",
              "    .dataframe tbody tr th:only-of-type {\n",
              "        vertical-align: middle;\n",
              "    }\n",
              "\n",
              "    .dataframe tbody tr th {\n",
              "        vertical-align: top;\n",
              "    }\n",
              "\n",
              "    .dataframe thead th {\n",
              "        text-align: right;\n",
              "    }\n",
              "</style>\n",
              "<table border=\"1\" class=\"dataframe\">\n",
              "  <thead>\n",
              "    <tr style=\"text-align: right;\">\n",
              "      <th></th>\n",
              "      <th>price</th>\n",
              "      <th>area</th>\n",
              "      <th>bedrooms</th>\n",
              "      <th>bathrooms</th>\n",
              "      <th>stories</th>\n",
              "      <th>mainroad</th>\n",
              "      <th>guestroom</th>\n",
              "      <th>basement</th>\n",
              "      <th>hotwaterheating</th>\n",
              "      <th>airconditioning</th>\n",
              "      <th>parking</th>\n",
              "      <th>prefarea</th>\n",
              "      <th>furnishingstatus</th>\n",
              "    </tr>\n",
              "  </thead>\n",
              "  <tbody>\n",
              "    <tr>\n",
              "      <th>0</th>\n",
              "      <td>13300000</td>\n",
              "      <td>7420</td>\n",
              "      <td>4</td>\n",
              "      <td>2</td>\n",
              "      <td>3</td>\n",
              "      <td>yes</td>\n",
              "      <td>no</td>\n",
              "      <td>no</td>\n",
              "      <td>no</td>\n",
              "      <td>yes</td>\n",
              "      <td>2</td>\n",
              "      <td>yes</td>\n",
              "      <td>furnished</td>\n",
              "    </tr>\n",
              "    <tr>\n",
              "      <th>1</th>\n",
              "      <td>12250000</td>\n",
              "      <td>8960</td>\n",
              "      <td>4</td>\n",
              "      <td>4</td>\n",
              "      <td>4</td>\n",
              "      <td>yes</td>\n",
              "      <td>no</td>\n",
              "      <td>no</td>\n",
              "      <td>no</td>\n",
              "      <td>yes</td>\n",
              "      <td>3</td>\n",
              "      <td>no</td>\n",
              "      <td>furnished</td>\n",
              "    </tr>\n",
              "    <tr>\n",
              "      <th>2</th>\n",
              "      <td>12250000</td>\n",
              "      <td>9960</td>\n",
              "      <td>3</td>\n",
              "      <td>2</td>\n",
              "      <td>2</td>\n",
              "      <td>yes</td>\n",
              "      <td>no</td>\n",
              "      <td>yes</td>\n",
              "      <td>no</td>\n",
              "      <td>no</td>\n",
              "      <td>2</td>\n",
              "      <td>yes</td>\n",
              "      <td>semi-furnished</td>\n",
              "    </tr>\n",
              "    <tr>\n",
              "      <th>3</th>\n",
              "      <td>12215000</td>\n",
              "      <td>7500</td>\n",
              "      <td>4</td>\n",
              "      <td>2</td>\n",
              "      <td>2</td>\n",
              "      <td>yes</td>\n",
              "      <td>no</td>\n",
              "      <td>yes</td>\n",
              "      <td>no</td>\n",
              "      <td>yes</td>\n",
              "      <td>3</td>\n",
              "      <td>yes</td>\n",
              "      <td>furnished</td>\n",
              "    </tr>\n",
              "    <tr>\n",
              "      <th>4</th>\n",
              "      <td>11410000</td>\n",
              "      <td>7420</td>\n",
              "      <td>4</td>\n",
              "      <td>1</td>\n",
              "      <td>2</td>\n",
              "      <td>yes</td>\n",
              "      <td>yes</td>\n",
              "      <td>yes</td>\n",
              "      <td>no</td>\n",
              "      <td>yes</td>\n",
              "      <td>2</td>\n",
              "      <td>no</td>\n",
              "      <td>furnished</td>\n",
              "    </tr>\n",
              "  </tbody>\n",
              "</table>\n",
              "</div>\n",
              "      <button class=\"colab-df-convert\" onclick=\"convertToInteractive('df-2f167c46-b73c-42fd-9ceb-a83c7c9c377a')\"\n",
              "              title=\"Convert this dataframe to an interactive table.\"\n",
              "              style=\"display:none;\">\n",
              "        \n",
              "  <svg xmlns=\"http://www.w3.org/2000/svg\" height=\"24px\"viewBox=\"0 0 24 24\"\n",
              "       width=\"24px\">\n",
              "    <path d=\"M0 0h24v24H0V0z\" fill=\"none\"/>\n",
              "    <path d=\"M18.56 5.44l.94 2.06.94-2.06 2.06-.94-2.06-.94-.94-2.06-.94 2.06-2.06.94zm-11 1L8.5 8.5l.94-2.06 2.06-.94-2.06-.94L8.5 2.5l-.94 2.06-2.06.94zm10 10l.94 2.06.94-2.06 2.06-.94-2.06-.94-.94-2.06-.94 2.06-2.06.94z\"/><path d=\"M17.41 7.96l-1.37-1.37c-.4-.4-.92-.59-1.43-.59-.52 0-1.04.2-1.43.59L10.3 9.45l-7.72 7.72c-.78.78-.78 2.05 0 2.83L4 21.41c.39.39.9.59 1.41.59.51 0 1.02-.2 1.41-.59l7.78-7.78 2.81-2.81c.8-.78.8-2.07 0-2.86zM5.41 20L4 18.59l7.72-7.72 1.47 1.35L5.41 20z\"/>\n",
              "  </svg>\n",
              "      </button>\n",
              "      \n",
              "  <style>\n",
              "    .colab-df-container {\n",
              "      display:flex;\n",
              "      flex-wrap:wrap;\n",
              "      gap: 12px;\n",
              "    }\n",
              "\n",
              "    .colab-df-convert {\n",
              "      background-color: #E8F0FE;\n",
              "      border: none;\n",
              "      border-radius: 50%;\n",
              "      cursor: pointer;\n",
              "      display: none;\n",
              "      fill: #1967D2;\n",
              "      height: 32px;\n",
              "      padding: 0 0 0 0;\n",
              "      width: 32px;\n",
              "    }\n",
              "\n",
              "    .colab-df-convert:hover {\n",
              "      background-color: #E2EBFA;\n",
              "      box-shadow: 0px 1px 2px rgba(60, 64, 67, 0.3), 0px 1px 3px 1px rgba(60, 64, 67, 0.15);\n",
              "      fill: #174EA6;\n",
              "    }\n",
              "\n",
              "    [theme=dark] .colab-df-convert {\n",
              "      background-color: #3B4455;\n",
              "      fill: #D2E3FC;\n",
              "    }\n",
              "\n",
              "    [theme=dark] .colab-df-convert:hover {\n",
              "      background-color: #434B5C;\n",
              "      box-shadow: 0px 1px 3px 1px rgba(0, 0, 0, 0.15);\n",
              "      filter: drop-shadow(0px 1px 2px rgba(0, 0, 0, 0.3));\n",
              "      fill: #FFFFFF;\n",
              "    }\n",
              "  </style>\n",
              "\n",
              "      <script>\n",
              "        const buttonEl =\n",
              "          document.querySelector('#df-2f167c46-b73c-42fd-9ceb-a83c7c9c377a button.colab-df-convert');\n",
              "        buttonEl.style.display =\n",
              "          google.colab.kernel.accessAllowed ? 'block' : 'none';\n",
              "\n",
              "        async function convertToInteractive(key) {\n",
              "          const element = document.querySelector('#df-2f167c46-b73c-42fd-9ceb-a83c7c9c377a');\n",
              "          const dataTable =\n",
              "            await google.colab.kernel.invokeFunction('convertToInteractive',\n",
              "                                                     [key], {});\n",
              "          if (!dataTable) return;\n",
              "\n",
              "          const docLinkHtml = 'Like what you see? Visit the ' +\n",
              "            '<a target=\"_blank\" href=https://colab.research.google.com/notebooks/data_table.ipynb>data table notebook</a>'\n",
              "            + ' to learn more about interactive tables.';\n",
              "          element.innerHTML = '';\n",
              "          dataTable['output_type'] = 'display_data';\n",
              "          await google.colab.output.renderOutput(dataTable, element);\n",
              "          const docLink = document.createElement('div');\n",
              "          docLink.innerHTML = docLinkHtml;\n",
              "          element.appendChild(docLink);\n",
              "        }\n",
              "      </script>\n",
              "    </div>\n",
              "  </div>\n",
              "  "
            ],
            "text/plain": [
              "      price  area  bedrooms  ...  parking  prefarea furnishingstatus\n",
              "0  13300000  7420         4  ...        2       yes        furnished\n",
              "1  12250000  8960         4  ...        3        no        furnished\n",
              "2  12250000  9960         3  ...        2       yes   semi-furnished\n",
              "3  12215000  7500         4  ...        3       yes        furnished\n",
              "4  11410000  7420         4  ...        2        no        furnished\n",
              "\n",
              "[5 rows x 13 columns]"
            ]
          },
          "metadata": {},
          "execution_count": 34
        }
      ]
    },
    {
      "cell_type": "code",
      "metadata": {
        "id": "8IXJUhvx1Omc",
        "colab": {
          "base_uri": "https://localhost:8080/"
        },
        "outputId": "74ec94f5-3a7d-45dc-fbba-afc353bede7c"
      },
      "source": [
        "# Get the information on DataFrame.\n",
        "df.info()"
      ],
      "execution_count": 35,
      "outputs": [
        {
          "output_type": "stream",
          "name": "stdout",
          "text": [
            "<class 'pandas.core.frame.DataFrame'>\n",
            "RangeIndex: 545 entries, 0 to 544\n",
            "Data columns (total 13 columns):\n",
            " #   Column            Non-Null Count  Dtype \n",
            "---  ------            --------------  ----- \n",
            " 0   price             545 non-null    int64 \n",
            " 1   area              545 non-null    int64 \n",
            " 2   bedrooms          545 non-null    int64 \n",
            " 3   bathrooms         545 non-null    int64 \n",
            " 4   stories           545 non-null    int64 \n",
            " 5   mainroad          545 non-null    object\n",
            " 6   guestroom         545 non-null    object\n",
            " 7   basement          545 non-null    object\n",
            " 8   hotwaterheating   545 non-null    object\n",
            " 9   airconditioning   545 non-null    object\n",
            " 10  parking           545 non-null    int64 \n",
            " 11  prefarea          545 non-null    object\n",
            " 12  furnishingstatus  545 non-null    object\n",
            "dtypes: int64(6), object(7)\n",
            "memory usage: 55.5+ KB\n"
          ]
        }
      ]
    },
    {
      "cell_type": "code",
      "metadata": {
        "id": "HB5wwgC1fO7Q",
        "colab": {
          "base_uri": "https://localhost:8080/"
        },
        "outputId": "d68c9a82-48d4-447d-9433-4858d4779fcc"
      },
      "source": [
        "# Check if there are any NULL values.\n",
        "df.isnull().sum()"
      ],
      "execution_count": 36,
      "outputs": [
        {
          "output_type": "execute_result",
          "data": {
            "text/plain": [
              "price               0\n",
              "area                0\n",
              "bedrooms            0\n",
              "bathrooms           0\n",
              "stories             0\n",
              "mainroad            0\n",
              "guestroom           0\n",
              "basement            0\n",
              "hotwaterheating     0\n",
              "airconditioning     0\n",
              "parking             0\n",
              "prefarea            0\n",
              "furnishingstatus    0\n",
              "dtype: int64"
            ]
          },
          "metadata": {},
          "execution_count": 36
        }
      ]
    },
    {
      "cell_type": "code",
      "source": [
        "features = list(df.columns.values)\n",
        "features.remove('price')\n",
        "features"
      ],
      "metadata": {
        "colab": {
          "base_uri": "https://localhost:8080/"
        },
        "id": "cW--hwFI7NuH",
        "outputId": "4b4b649b-4f4f-417b-d159-e615ee48dddd"
      },
      "execution_count": 37,
      "outputs": [
        {
          "output_type": "execute_result",
          "data": {
            "text/plain": [
              "['area',\n",
              " 'bedrooms',\n",
              " 'bathrooms',\n",
              " 'stories',\n",
              " 'mainroad',\n",
              " 'guestroom',\n",
              " 'basement',\n",
              " 'hotwaterheating',\n",
              " 'airconditioning',\n",
              " 'parking',\n",
              " 'prefarea',\n",
              " 'furnishingstatus']"
            ]
          },
          "metadata": {},
          "execution_count": 37
        }
      ]
    },
    {
      "cell_type": "markdown",
      "metadata": {
        "id": "zCfhAcHAYvS4"
      },
      "source": [
        "---"
      ]
    },
    {
      "cell_type": "markdown",
      "metadata": {
        "id": "BTMp-43z7FQY"
      },
      "source": [
        "#### 2. Exploratory Data Analysis\n",
        "\n",
        "We need to predict the value of `price` variable, using other variables. Thus, `price` is the target or dependent variable and other columns except `price` are the features or the independent variables. \n",
        "\n",
        "Perform the following tasks:\n",
        "\n",
        "- Create Box plots between each **categorical** variable and the target variable `price` to sense the distribution of values.\n",
        "\n",
        "- Create the Scatter plots between each **numerical** variable and the target variable `price`. Determine which variable(s) shows linear relationship with the target variable `price`. \n",
        "\n",
        "- Create a normal distribution curve for the `price`.\n"
      ]
    },
    {
      "cell_type": "code",
      "metadata": {
        "id": "BE095lJ7mTE6"
      },
      "source": [
        "# Check categorical attributes\n",
        "from sklearn.model_selection import train_test_split\n",
        "X=df[features]\n",
        "y=df['price']\n",
        "X_train,X_test,y_train,y_test=train_test_split(X,y,test_size=0.33,random_state=29)"
      ],
      "execution_count": 38,
      "outputs": []
    },
    {
      "cell_type": "code",
      "metadata": {
        "id": "eiF5b2D1yKDw",
        "colab": {
          "base_uri": "https://localhost:8080/",
          "height": 402
        },
        "outputId": "c980646b-68fd-421e-a6e3-b13dd59968bd"
      },
      "source": [
        "# Boxplot for 'mainroad' vs 'price'\n",
        "plt.style.use(\"dark_background\")\n",
        "plt.figure(figsize=(18, 6))\n",
        "sns.boxplot(x='mainroad', y='price', data=df )\n",
        "plt.show()"
      ],
      "execution_count": 39,
      "outputs": [
        {
          "output_type": "display_data",
          "data": {
            "image/png": "[encoded data removed]",
            "text/plain": [
              "<Figure size 1296x432 with 1 Axes>"
            ]
          },
          "metadata": {}
        }
      ]
    },
    {
      "cell_type": "code",
      "metadata": {
        "id": "weHLdEjnyaE2",
        "colab": {
          "base_uri": "https://localhost:8080/",
          "height": 402
        },
        "outputId": "58bc23c1-ea94-45f9-f335-146d5d6a2cf2"
      },
      "source": [
        "# Boxplot for 'guestroom' vs 'price'\n",
        "plt.style.use(\"dark_background\")\n",
        "plt.figure(figsize=(18, 6))\n",
        "sns.boxplot(x='guestroom', y='price', data=df )\n",
        "plt.show()\n"
      ],
      "execution_count": 40,
      "outputs": [
        {
          "output_type": "display_data",
          "data": {
            "image/png": "[encoded data removed]",
            "text/plain": [
              "<Figure size 1296x432 with 1 Axes>"
            ]
          },
          "metadata": {}
        }
      ]
    },
    {
      "cell_type": "code",
      "metadata": {
        "id": "p09SUbbhympd",
        "colab": {
          "base_uri": "https://localhost:8080/",
          "height": 402
        },
        "outputId": "31244b7e-d0ab-4d6f-81b8-32308a3eb8cd"
      },
      "source": [
        "# Boxplot for 'basement' vs 'price'\n",
        "plt.style.use(\"dark_background\")\n",
        "plt.figure(figsize=(18, 6))\n",
        "sns.boxplot(x='basement', y='price', data=df )\n",
        "plt.show()"
      ],
      "execution_count": 41,
      "outputs": [
        {
          "output_type": "display_data",
          "data": {
            "image/png": "[encoded data removed]",
            "text/plain": [
              "<Figure size 1296x432 with 1 Axes>"
            ]
          },
          "metadata": {}
        }
      ]
    },
    {
      "cell_type": "code",
      "metadata": {
        "id": "kth0hysho8Zc",
        "colab": {
          "base_uri": "https://localhost:8080/",
          "height": 402
        },
        "outputId": "c0971a0b-34a5-4d36-a61e-b0ee80e43362"
      },
      "source": [
        "# Boxplot for 'hotwaterheating' vs 'price'\n",
        "plt.style.use(\"dark_background\")\n",
        "plt.figure(figsize=(18, 6))\n",
        "sns.boxplot(x='hotwaterheating', y='price', data=df )\n",
        "plt.show()"
      ],
      "execution_count": 42,
      "outputs": [
        {
          "output_type": "display_data",
          "data": {
            "image/png": "[encoded data removed]",
            "text/plain": [
              "<Figure size 1296x432 with 1 Axes>"
            ]
          },
          "metadata": {}
        }
      ]
    },
    {
      "cell_type": "code",
      "metadata": {
        "id": "We94X-Dfo9BZ",
        "colab": {
          "base_uri": "https://localhost:8080/",
          "height": 402
        },
        "outputId": "b1a9495f-b96a-488a-f8f1-5ea2eea46bdd"
      },
      "source": [
        "# Boxplot for 'airconditioning' vs 'price'\n",
        "plt.style.use(\"dark_background\")\n",
        "plt.figure(figsize=(18, 6))\n",
        "sns.boxplot(x='airconditioning', y='price', data=df )\n",
        "plt.show()\n"
      ],
      "execution_count": 43,
      "outputs": [
        {
          "output_type": "display_data",
          "data": {
            "image/png": "[encoded data removed]",
            "text/plain": [
              "<Figure size 1296x432 with 1 Axes>"
            ]
          },
          "metadata": {}
        }
      ]
    },
    {
      "cell_type": "code",
      "metadata": {
        "id": "nfa6bSKIo98Y",
        "colab": {
          "base_uri": "https://localhost:8080/",
          "height": 402
        },
        "outputId": "871eab16-cf97-43b6-a0ef-d1c9b5f551a8"
      },
      "source": [
        "# Boxplot for 'prefarea' vs 'price'\n",
        "plt.style.use(\"dark_background\")\n",
        "plt.figure(figsize=(18, 6))\n",
        "sns.boxplot(x='prefarea', y='price', data=df )\n",
        "plt.show()\n"
      ],
      "execution_count": 44,
      "outputs": [
        {
          "output_type": "display_data",
          "data": {
            "image/png": "[encoded data removed]",
            "text/plain": [
              "<Figure size 1296x432 with 1 Axes>"
            ]
          },
          "metadata": {}
        }
      ]
    },
    {
      "cell_type": "code",
      "metadata": {
        "id": "d1OlbcvXjy4s",
        "colab": {
          "base_uri": "https://localhost:8080/",
          "height": 402
        },
        "outputId": "037215a8-fa74-4385-83d5-98c13997ab24"
      },
      "source": [
        "# Boxplot for 'furnishingstatus' vs 'price'\n",
        "plt.style.use(\"dark_background\")\n",
        "plt.figure(figsize=(18, 6))\n",
        "sns.boxplot(x='furnishingstatus', y='price', data=df )\n",
        "plt.show()"
      ],
      "execution_count": 45,
      "outputs": [
        {
          "output_type": "display_data",
          "data": {
            "image/png": "[encoded data removed]",
            "text/plain": [
              "<Figure size 1296x432 with 1 Axes>"
            ]
          },
          "metadata": {}
        }
      ]
    },
    {
      "cell_type": "code",
      "metadata": {
        "id": "pnJ_Yv9MzSn8",
        "colab": {
          "base_uri": "https://localhost:8080/",
          "height": 385
        },
        "outputId": "a73e1640-d10b-4966-b4a5-7e93b097f3f5"
      },
      "source": [
        "# Create scatter plot with 'area' on X-axis and 'price' on Y-axis\n",
        "plt.figure(figsize=(18, 6))\n",
        "plt.scatter(x='area', y='price', data=df )\n",
        "plt.show()\n"
      ],
      "execution_count": 46,
      "outputs": [
        {
          "output_type": "display_data",
          "data": {
            "image/png": "[encoded data removed]",
            "text/plain": [
              "<Figure size 1296x432 with 1 Axes>"
            ]
          },
          "metadata": {}
        }
      ]
    },
    {
      "cell_type": "code",
      "metadata": {
        "id": "is7gd_Z1p4y7",
        "colab": {
          "base_uri": "https://localhost:8080/",
          "height": 385
        },
        "outputId": "5c2aea61-66ad-4194-de02-160f65e2397a"
      },
      "source": [
        "# Create scatter plot with 'bedrooms' on X-axis and 'price' on Y-axis\n",
        "plt.figure(figsize=(18, 6))\n",
        "plt.scatter(x='bedrooms', y='price',data=df )\n",
        "plt.show()"
      ],
      "execution_count": 47,
      "outputs": [
        {
          "output_type": "display_data",
          "data": {
            "image/png": "[encoded data removed]",
            "text/plain": [
              "<Figure size 1296x432 with 1 Axes>"
            ]
          },
          "metadata": {}
        }
      ]
    },
    {
      "cell_type": "code",
      "metadata": {
        "id": "2nawvemNp5jO",
        "colab": {
          "base_uri": "https://localhost:8080/",
          "height": 385
        },
        "outputId": "34ea89c8-d1c7-4751-b902-739b81977885"
      },
      "source": [
        "# Create scatter plot with 'bathrooms' on X-axis and 'price' on Y-axis\n",
        "plt.figure(figsize=(18, 6))\n",
        "plt.scatter(x='bathrooms', y='price', data=df )\n",
        "plt.show()"
      ],
      "execution_count": 48,
      "outputs": [
        {
          "output_type": "display_data",
          "data": {
            "image/png": "[encoded data removed]",
            "text/plain": [
              "<Figure size 1296x432 with 1 Axes>"
            ]
          },
          "metadata": {}
        }
      ]
    },
    {
      "cell_type": "code",
      "metadata": {
        "id": "PDfLIRf0p6b1",
        "colab": {
          "base_uri": "https://localhost:8080/",
          "height": 385
        },
        "outputId": "bd739157-02ad-4cda-ea8b-3f22b26f60fe"
      },
      "source": [
        "# Create scatter plot with 'stories' on X-axis and 'price' on Y-axis\n",
        "plt.figure(figsize=(18, 6))\n",
        "plt.scatter(x='stories', y='price', data=df )\n",
        "plt.show()"
      ],
      "execution_count": 49,
      "outputs": [
        {
          "output_type": "display_data",
          "data": {
            "image/png": "[encoded data removed]",
            "text/plain": [
              "<Figure size 1296x432 with 1 Axes>"
            ]
          },
          "metadata": {}
        }
      ]
    },
    {
      "cell_type": "code",
      "metadata": {
        "id": "QIpsz4Gd5M-e",
        "colab": {
          "base_uri": "https://localhost:8080/",
          "height": 409
        },
        "outputId": "82c85991-67e1-4974-d8f7-933119a0ecbd"
      },
      "source": [
        "# Create a normal distribution curve for the 'price'.\n",
        "plt.style.use('ggplot')\n",
        "plt.figure(figsize=(15, 5))\n",
        "plt.title('normal distribution curve for the price')\n",
        "sns.distplot(df['price'],bins='sturges',hist=False)\n",
        "plt.grid()\n",
        "plt.show()\n",
        "# Create a probablity density function for plotting the normal distribution\n",
        "\n",
        "\n",
        "# Plot the normal distribution curve using plt.scatter() \n"
      ],
      "execution_count": 50,
      "outputs": [
        {
          "output_type": "stream",
          "name": "stderr",
          "text": [
            "/usr/local/lib/python3.7/dist-packages/seaborn/distributions.py:2619: FutureWarning: `distplot` is a deprecated function and will be removed in a future version. Please adapt your code to use either `displot` (a figure-level function with similar flexibility) or `kdeplot` (an axes-level function for kernel density plots).\n",
            "  warnings.warn(msg, FutureWarning)\n"
          ]
        },
        {
          "output_type": "display_data",
          "data": {
            "image/png": "[encoded data removed]",
            "text/plain": [
              "<Figure size 1080x360 with 1 Axes>"
            ]
          },
          "metadata": {}
        }
      ]
    },
    {
      "cell_type": "code",
      "source": [
        "new = pd.Series([\"Yes\", \"No\"])\n",
        "new_dict = {\"yes\": 1, \"no\": 0}\n",
        "new = new.map(new_dict)\n",
        "new"
      ],
      "metadata": {
        "colab": {
          "base_uri": "https://localhost:8080/"
        },
        "id": "s6tsy58t0gVm",
        "outputId": "ea38ed7a-6ee6-4b93-b894-f7654abac7da"
      },
      "execution_count": 51,
      "outputs": [
        {
          "output_type": "execute_result",
          "data": {
            "text/plain": [
              "0   NaN\n",
              "1   NaN\n",
              "dtype: float64"
            ]
          },
          "metadata": {},
          "execution_count": 51
        }
      ]
    },
    {
      "cell_type": "code",
      "source": [
        "df[['mainroad', 'guestroom', 'basement', 'hotwaterheating', 'airconditioning', 'prefarea']]"
      ],
      "metadata": {
        "colab": {
          "base_uri": "https://localhost:8080/",
          "height": 424
        },
        "id": "z2YystL68vZb",
        "outputId": "41a61a96-6d14-46f5-d4cb-b9b69ac6d3d0"
      },
      "execution_count": 52,
      "outputs": [
        {
          "output_type": "execute_result",
          "data": {
            "text/html": [
              "\n",
              "  <div id=\"df-7d2f8cd6-58d9-4b7b-a243-a5d04fb8477e\">\n",
              "    <div class=\"colab-df-container\">\n",
              "      <div>\n",
              "<style scoped>\n",
              "    .dataframe tbody tr th:only-of-type {\n",
              "        vertical-align: middle;\n",
              "    }\n",
              "\n",
              "    .dataframe tbody tr th {\n",
              "        vertical-align: top;\n",
              "    }\n",
              "\n",
              "    .dataframe thead th {\n",
              "        text-align: right;\n",
              "    }\n",
              "</style>\n",
              "<table border=\"1\" class=\"dataframe\">\n",
              "  <thead>\n",
              "    <tr style=\"text-align: right;\">\n",
              "      <th></th>\n",
              "      <th>mainroad</th>\n",
              "      <th>guestroom</th>\n",
              "      <th>basement</th>\n",
              "      <th>hotwaterheating</th>\n",
              "      <th>airconditioning</th>\n",
              "      <th>prefarea</th>\n",
              "    </tr>\n",
              "  </thead>\n",
              "  <tbody>\n",
              "    <tr>\n",
              "      <th>0</th>\n",
              "      <td>yes</td>\n",
              "      <td>no</td>\n",
              "      <td>no</td>\n",
              "      <td>no</td>\n",
              "      <td>yes</td>\n",
              "      <td>yes</td>\n",
              "    </tr>\n",
              "    <tr>\n",
              "      <th>1</th>\n",
              "      <td>yes</td>\n",
              "      <td>no</td>\n",
              "      <td>no</td>\n",
              "      <td>no</td>\n",
              "      <td>yes</td>\n",
              "      <td>no</td>\n",
              "    </tr>\n",
              "    <tr>\n",
              "      <th>2</th>\n",
              "      <td>yes</td>\n",
              "      <td>no</td>\n",
              "      <td>yes</td>\n",
              "      <td>no</td>\n",
              "      <td>no</td>\n",
              "      <td>yes</td>\n",
              "    </tr>\n",
              "    <tr>\n",
              "      <th>3</th>\n",
              "      <td>yes</td>\n",
              "      <td>no</td>\n",
              "      <td>yes</td>\n",
              "      <td>no</td>\n",
              "      <td>yes</td>\n",
              "      <td>yes</td>\n",
              "    </tr>\n",
              "    <tr>\n",
              "      <th>4</th>\n",
              "      <td>yes</td>\n",
              "      <td>yes</td>\n",
              "      <td>yes</td>\n",
              "      <td>no</td>\n",
              "      <td>yes</td>\n",
              "      <td>no</td>\n",
              "    </tr>\n",
              "    <tr>\n",
              "      <th>...</th>\n",
              "      <td>...</td>\n",
              "      <td>...</td>\n",
              "      <td>...</td>\n",
              "      <td>...</td>\n",
              "      <td>...</td>\n",
              "      <td>...</td>\n",
              "    </tr>\n",
              "    <tr>\n",
              "      <th>540</th>\n",
              "      <td>yes</td>\n",
              "      <td>no</td>\n",
              "      <td>yes</td>\n",
              "      <td>no</td>\n",
              "      <td>no</td>\n",
              "      <td>no</td>\n",
              "    </tr>\n",
              "    <tr>\n",
              "      <th>541</th>\n",
              "      <td>no</td>\n",
              "      <td>no</td>\n",
              "      <td>no</td>\n",
              "      <td>no</td>\n",
              "      <td>no</td>\n",
              "      <td>no</td>\n",
              "    </tr>\n",
              "    <tr>\n",
              "      <th>542</th>\n",
              "      <td>yes</td>\n",
              "      <td>no</td>\n",
              "      <td>no</td>\n",
              "      <td>no</td>\n",
              "      <td>no</td>\n",
              "      <td>no</td>\n",
              "    </tr>\n",
              "    <tr>\n",
              "      <th>543</th>\n",
              "      <td>no</td>\n",
              "      <td>no</td>\n",
              "      <td>no</td>\n",
              "      <td>no</td>\n",
              "      <td>no</td>\n",
              "      <td>no</td>\n",
              "    </tr>\n",
              "    <tr>\n",
              "      <th>544</th>\n",
              "      <td>yes</td>\n",
              "      <td>no</td>\n",
              "      <td>no</td>\n",
              "      <td>no</td>\n",
              "      <td>no</td>\n",
              "      <td>no</td>\n",
              "    </tr>\n",
              "  </tbody>\n",
              "</table>\n",
              "<p>545 rows × 6 columns</p>\n",
              "</div>\n",
              "      <button class=\"colab-df-convert\" onclick=\"convertToInteractive('df-7d2f8cd6-58d9-4b7b-a243-a5d04fb8477e')\"\n",
              "              title=\"Convert this dataframe to an interactive table.\"\n",
              "              style=\"display:none;\">\n",
              "        \n",
              "  <svg xmlns=\"http://www.w3.org/2000/svg\" height=\"24px\"viewBox=\"0 0 24 24\"\n",
              "       width=\"24px\">\n",
              "    <path d=\"M0 0h24v24H0V0z\" fill=\"none\"/>\n",
              "    <path d=\"M18.56 5.44l.94 2.06.94-2.06 2.06-.94-2.06-.94-.94-2.06-.94 2.06-2.06.94zm-11 1L8.5 8.5l.94-2.06 2.06-.94-2.06-.94L8.5 2.5l-.94 2.06-2.06.94zm10 10l.94 2.06.94-2.06 2.06-.94-2.06-.94-.94-2.06-.94 2.06-2.06.94z\"/><path d=\"M17.41 7.96l-1.37-1.37c-.4-.4-.92-.59-1.43-.59-.52 0-1.04.2-1.43.59L10.3 9.45l-7.72 7.72c-.78.78-.78 2.05 0 2.83L4 21.41c.39.39.9.59 1.41.59.51 0 1.02-.2 1.41-.59l7.78-7.78 2.81-2.81c.8-.78.8-2.07 0-2.86zM5.41 20L4 18.59l7.72-7.72 1.47 1.35L5.41 20z\"/>\n",
              "  </svg>\n",
              "      </button>\n",
              "      \n",
              "  <style>\n",
              "    .colab-df-container {\n",
              "      display:flex;\n",
              "      flex-wrap:wrap;\n",
              "      gap: 12px;\n",
              "    }\n",
              "\n",
              "    .colab-df-convert {\n",
              "      background-color: #E8F0FE;\n",
              "      border: none;\n",
              "      border-radius: 50%;\n",
              "      cursor: pointer;\n",
              "      display: none;\n",
              "      fill: #1967D2;\n",
              "      height: 32px;\n",
              "      padding: 0 0 0 0;\n",
              "      width: 32px;\n",
              "    }\n",
              "\n",
              "    .colab-df-convert:hover {\n",
              "      background-color: #E2EBFA;\n",
              "      box-shadow: 0px 1px 2px rgba(60, 64, 67, 0.3), 0px 1px 3px 1px rgba(60, 64, 67, 0.15);\n",
              "      fill: #174EA6;\n",
              "    }\n",
              "\n",
              "    [theme=dark] .colab-df-convert {\n",
              "      background-color: #3B4455;\n",
              "      fill: #D2E3FC;\n",
              "    }\n",
              "\n",
              "    [theme=dark] .colab-df-convert:hover {\n",
              "      background-color: #434B5C;\n",
              "      box-shadow: 0px 1px 3px 1px rgba(0, 0, 0, 0.15);\n",
              "      filter: drop-shadow(0px 1px 2px rgba(0, 0, 0, 0.3));\n",
              "      fill: #FFFFFF;\n",
              "    }\n",
              "  </style>\n",
              "\n",
              "      <script>\n",
              "        const buttonEl =\n",
              "          document.querySelector('#df-7d2f8cd6-58d9-4b7b-a243-a5d04fb8477e button.colab-df-convert');\n",
              "        buttonEl.style.display =\n",
              "          google.colab.kernel.accessAllowed ? 'block' : 'none';\n",
              "\n",
              "        async function convertToInteractive(key) {\n",
              "          const element = document.querySelector('#df-7d2f8cd6-58d9-4b7b-a243-a5d04fb8477e');\n",
              "          const dataTable =\n",
              "            await google.colab.kernel.invokeFunction('convertToInteractive',\n",
              "                                                     [key], {});\n",
              "          if (!dataTable) return;\n",
              "\n",
              "          const docLinkHtml = 'Like what you see? Visit the ' +\n",
              "            '<a target=\"_blank\" href=https://colab.research.google.com/notebooks/data_table.ipynb>data table notebook</a>'\n",
              "            + ' to learn more about interactive tables.';\n",
              "          element.innerHTML = '';\n",
              "          dataTable['output_type'] = 'display_data';\n",
              "          await google.colab.output.renderOutput(dataTable, element);\n",
              "          const docLink = document.createElement('div');\n",
              "          docLink.innerHTML = docLinkHtml;\n",
              "          element.appendChild(docLink);\n",
              "        }\n",
              "      </script>\n",
              "    </div>\n",
              "  </div>\n",
              "  "
            ],
            "text/plain": [
              "    mainroad guestroom basement hotwaterheating airconditioning prefarea\n",
              "0        yes        no       no              no             yes      yes\n",
              "1        yes        no       no              no             yes       no\n",
              "2        yes        no      yes              no              no      yes\n",
              "3        yes        no      yes              no             yes      yes\n",
              "4        yes       yes      yes              no             yes       no\n",
              "..       ...       ...      ...             ...             ...      ...\n",
              "540      yes        no      yes              no              no       no\n",
              "541       no        no       no              no              no       no\n",
              "542      yes        no       no              no              no       no\n",
              "543       no        no       no              no              no       no\n",
              "544      yes        no       no              no              no       no\n",
              "\n",
              "[545 rows x 6 columns]"
            ]
          },
          "metadata": {},
          "execution_count": 52
        }
      ]
    },
    {
      "cell_type": "markdown",
      "metadata": {
        "id": "AnYUk03JZHNW"
      },
      "source": [
        "---"
      ]
    },
    {
      "cell_type": "markdown",
      "metadata": {
        "id": "hV_89Nj7134T"
      },
      "source": [
        "#### 3. Feature encoding \n",
        "\n",
        "Perform feature encoding using `map()` function and one-hot encoding."
      ]
    },
    {
      "cell_type": "code",
      "metadata": {
        "id": "KtUqbj3nrpsw"
      },
      "source": [
        "# Replace yes with 1 and no with 0 for all the values in features 'mainroad', 'guestroom', 'basement', 'hotwaterheating', 'airconditioning', 'prefarea' using map() function.\n",
        "def num_map(series):\n",
        "    return series.map(new_dict)\n",
        "\n",
        "# Applying the function to the  columns\n",
        "df[['mainroad', 'guestroom', 'basement', 'hotwaterheating', 'airconditioning', 'prefarea']] = df[['mainroad', 'guestroom', 'basement', 'hotwaterheating', 'airconditioning', 'prefarea']].apply(num_map, axis = 1)"
      ],
      "execution_count": 53,
      "outputs": []
    },
    {
      "cell_type": "code",
      "metadata": {
        "id": "NyBVyE1mrwg1",
        "colab": {
          "base_uri": "https://localhost:8080/",
          "height": 206
        },
        "outputId": "1082a0de-5f30-468f-bdbe-4b0d98a14cd9"
      },
      "source": [
        "# Print dataframe\n",
        "df[['mainroad', 'guestroom', 'basement', 'hotwaterheating', 'airconditioning', 'prefarea']].head()"
      ],
      "execution_count": 54,
      "outputs": [
        {
          "output_type": "execute_result",
          "data": {
            "text/html": [
              "\n",
              "  <div id=\"df-df5db47c-ef01-4b32-b5b1-82de43d4c094\">\n",
              "    <div class=\"colab-df-container\">\n",
              "      <div>\n",
              "<style scoped>\n",
              "    .dataframe tbody tr th:only-of-type {\n",
              "        vertical-align: middle;\n",
              "    }\n",
              "\n",
              "    .dataframe tbody tr th {\n",
              "        vertical-align: top;\n",
              "    }\n",
              "\n",
              "    .dataframe thead th {\n",
              "        text-align: right;\n",
              "    }\n",
              "</style>\n",
              "<table border=\"1\" class=\"dataframe\">\n",
              "  <thead>\n",
              "    <tr style=\"text-align: right;\">\n",
              "      <th></th>\n",
              "      <th>mainroad</th>\n",
              "      <th>guestroom</th>\n",
              "      <th>basement</th>\n",
              "      <th>hotwaterheating</th>\n",
              "      <th>airconditioning</th>\n",
              "      <th>prefarea</th>\n",
              "    </tr>\n",
              "  </thead>\n",
              "  <tbody>\n",
              "    <tr>\n",
              "      <th>0</th>\n",
              "      <td>1</td>\n",
              "      <td>0</td>\n",
              "      <td>0</td>\n",
              "      <td>0</td>\n",
              "      <td>1</td>\n",
              "      <td>1</td>\n",
              "    </tr>\n",
              "    <tr>\n",
              "      <th>1</th>\n",
              "      <td>1</td>\n",
              "      <td>0</td>\n",
              "      <td>0</td>\n",
              "      <td>0</td>\n",
              "      <td>1</td>\n",
              "      <td>0</td>\n",
              "    </tr>\n",
              "    <tr>\n",
              "      <th>2</th>\n",
              "      <td>1</td>\n",
              "      <td>0</td>\n",
              "      <td>1</td>\n",
              "      <td>0</td>\n",
              "      <td>0</td>\n",
              "      <td>1</td>\n",
              "    </tr>\n",
              "    <tr>\n",
              "      <th>3</th>\n",
              "      <td>1</td>\n",
              "      <td>0</td>\n",
              "      <td>1</td>\n",
              "      <td>0</td>\n",
              "      <td>1</td>\n",
              "      <td>1</td>\n",
              "    </tr>\n",
              "    <tr>\n",
              "      <th>4</th>\n",
              "      <td>1</td>\n",
              "      <td>1</td>\n",
              "      <td>1</td>\n",
              "      <td>0</td>\n",
              "      <td>1</td>\n",
              "      <td>0</td>\n",
              "    </tr>\n",
              "  </tbody>\n",
              "</table>\n",
              "</div>\n",
              "      <button class=\"colab-df-convert\" onclick=\"convertToInteractive('df-df5db47c-ef01-4b32-b5b1-82de43d4c094')\"\n",
              "              title=\"Convert this dataframe to an interactive table.\"\n",
              "              style=\"display:none;\">\n",
              "        \n",
              "  <svg xmlns=\"http://www.w3.org/2000/svg\" height=\"24px\"viewBox=\"0 0 24 24\"\n",
              "       width=\"24px\">\n",
              "    <path d=\"M0 0h24v24H0V0z\" fill=\"none\"/>\n",
              "    <path d=\"M18.56 5.44l.94 2.06.94-2.06 2.06-.94-2.06-.94-.94-2.06-.94 2.06-2.06.94zm-11 1L8.5 8.5l.94-2.06 2.06-.94-2.06-.94L8.5 2.5l-.94 2.06-2.06.94zm10 10l.94 2.06.94-2.06 2.06-.94-2.06-.94-.94-2.06-.94 2.06-2.06.94z\"/><path d=\"M17.41 7.96l-1.37-1.37c-.4-.4-.92-.59-1.43-.59-.52 0-1.04.2-1.43.59L10.3 9.45l-7.72 7.72c-.78.78-.78 2.05 0 2.83L4 21.41c.39.39.9.59 1.41.59.51 0 1.02-.2 1.41-.59l7.78-7.78 2.81-2.81c.8-.78.8-2.07 0-2.86zM5.41 20L4 18.59l7.72-7.72 1.47 1.35L5.41 20z\"/>\n",
              "  </svg>\n",
              "      </button>\n",
              "      \n",
              "  <style>\n",
              "    .colab-df-container {\n",
              "      display:flex;\n",
              "      flex-wrap:wrap;\n",
              "      gap: 12px;\n",
              "    }\n",
              "\n",
              "    .colab-df-convert {\n",
              "      background-color: #E8F0FE;\n",
              "      border: none;\n",
              "      border-radius: 50%;\n",
              "      cursor: pointer;\n",
              "      display: none;\n",
              "      fill: #1967D2;\n",
              "      height: 32px;\n",
              "      padding: 0 0 0 0;\n",
              "      width: 32px;\n",
              "    }\n",
              "\n",
              "    .colab-df-convert:hover {\n",
              "      background-color: #E2EBFA;\n",
              "      box-shadow: 0px 1px 2px rgba(60, 64, 67, 0.3), 0px 1px 3px 1px rgba(60, 64, 67, 0.15);\n",
              "      fill: #174EA6;\n",
              "    }\n",
              "\n",
              "    [theme=dark] .colab-df-convert {\n",
              "      background-color: #3B4455;\n",
              "      fill: #D2E3FC;\n",
              "    }\n",
              "\n",
              "    [theme=dark] .colab-df-convert:hover {\n",
              "      background-color: #434B5C;\n",
              "      box-shadow: 0px 1px 3px 1px rgba(0, 0, 0, 0.15);\n",
              "      filter: drop-shadow(0px 1px 2px rgba(0, 0, 0, 0.3));\n",
              "      fill: #FFFFFF;\n",
              "    }\n",
              "  </style>\n",
              "\n",
              "      <script>\n",
              "        const buttonEl =\n",
              "          document.querySelector('#df-df5db47c-ef01-4b32-b5b1-82de43d4c094 button.colab-df-convert');\n",
              "        buttonEl.style.display =\n",
              "          google.colab.kernel.accessAllowed ? 'block' : 'none';\n",
              "\n",
              "        async function convertToInteractive(key) {\n",
              "          const element = document.querySelector('#df-df5db47c-ef01-4b32-b5b1-82de43d4c094');\n",
              "          const dataTable =\n",
              "            await google.colab.kernel.invokeFunction('convertToInteractive',\n",
              "                                                     [key], {});\n",
              "          if (!dataTable) return;\n",
              "\n",
              "          const docLinkHtml = 'Like what you see? Visit the ' +\n",
              "            '<a target=\"_blank\" href=https://colab.research.google.com/notebooks/data_table.ipynb>data table notebook</a>'\n",
              "            + ' to learn more about interactive tables.';\n",
              "          element.innerHTML = '';\n",
              "          dataTable['output_type'] = 'display_data';\n",
              "          await google.colab.output.renderOutput(dataTable, element);\n",
              "          const docLink = document.createElement('div');\n",
              "          docLink.innerHTML = docLinkHtml;\n",
              "          element.appendChild(docLink);\n",
              "        }\n",
              "      </script>\n",
              "    </div>\n",
              "  </div>\n",
              "  "
            ],
            "text/plain": [
              "   mainroad  guestroom  basement  hotwaterheating  airconditioning  prefarea\n",
              "0         1          0         0                0                1         1\n",
              "1         1          0         0                0                1         0\n",
              "2         1          0         1                0                0         1\n",
              "3         1          0         1                0                1         1\n",
              "4         1          1         1                0                1         0"
            ]
          },
          "metadata": {},
          "execution_count": 54
        }
      ]
    },
    {
      "cell_type": "code",
      "metadata": {
        "id": "uZQ5753MkgUn",
        "colab": {
          "base_uri": "https://localhost:8080/",
          "height": 424
        },
        "outputId": "a1ad02b3-973f-4840-eef1-55b897a4ef43"
      },
      "source": [
        "# Perform one hot encoding for furnishingstatus feature.\n",
        "furnishingstatus_dummies=pd.get_dummies(df['furnishingstatus'],dtype=int)\n",
        "furnishingstatus_dummies"
      ],
      "execution_count": 55,
      "outputs": [
        {
          "output_type": "execute_result",
          "data": {
            "text/html": [
              "\n",
              "  <div id=\"df-c0eb8810-eda5-4cb4-8ba3-30a0d7e4b374\">\n",
              "    <div class=\"colab-df-container\">\n",
              "      <div>\n",
              "<style scoped>\n",
              "    .dataframe tbody tr th:only-of-type {\n",
              "        vertical-align: middle;\n",
              "    }\n",
              "\n",
              "    .dataframe tbody tr th {\n",
              "        vertical-align: top;\n",
              "    }\n",
              "\n",
              "    .dataframe thead th {\n",
              "        text-align: right;\n",
              "    }\n",
              "</style>\n",
              "<table border=\"1\" class=\"dataframe\">\n",
              "  <thead>\n",
              "    <tr style=\"text-align: right;\">\n",
              "      <th></th>\n",
              "      <th>furnished</th>\n",
              "      <th>semi-furnished</th>\n",
              "      <th>unfurnished</th>\n",
              "    </tr>\n",
              "  </thead>\n",
              "  <tbody>\n",
              "    <tr>\n",
              "      <th>0</th>\n",
              "      <td>1</td>\n",
              "      <td>0</td>\n",
              "      <td>0</td>\n",
              "    </tr>\n",
              "    <tr>\n",
              "      <th>1</th>\n",
              "      <td>1</td>\n",
              "      <td>0</td>\n",
              "      <td>0</td>\n",
              "    </tr>\n",
              "    <tr>\n",
              "      <th>2</th>\n",
              "      <td>0</td>\n",
              "      <td>1</td>\n",
              "      <td>0</td>\n",
              "    </tr>\n",
              "    <tr>\n",
              "      <th>3</th>\n",
              "      <td>1</td>\n",
              "      <td>0</td>\n",
              "      <td>0</td>\n",
              "    </tr>\n",
              "    <tr>\n",
              "      <th>4</th>\n",
              "      <td>1</td>\n",
              "      <td>0</td>\n",
              "      <td>0</td>\n",
              "    </tr>\n",
              "    <tr>\n",
              "      <th>...</th>\n",
              "      <td>...</td>\n",
              "      <td>...</td>\n",
              "      <td>...</td>\n",
              "    </tr>\n",
              "    <tr>\n",
              "      <th>540</th>\n",
              "      <td>0</td>\n",
              "      <td>0</td>\n",
              "      <td>1</td>\n",
              "    </tr>\n",
              "    <tr>\n",
              "      <th>541</th>\n",
              "      <td>0</td>\n",
              "      <td>1</td>\n",
              "      <td>0</td>\n",
              "    </tr>\n",
              "    <tr>\n",
              "      <th>542</th>\n",
              "      <td>0</td>\n",
              "      <td>0</td>\n",
              "      <td>1</td>\n",
              "    </tr>\n",
              "    <tr>\n",
              "      <th>543</th>\n",
              "      <td>1</td>\n",
              "      <td>0</td>\n",
              "      <td>0</td>\n",
              "    </tr>\n",
              "    <tr>\n",
              "      <th>544</th>\n",
              "      <td>0</td>\n",
              "      <td>0</td>\n",
              "      <td>1</td>\n",
              "    </tr>\n",
              "  </tbody>\n",
              "</table>\n",
              "<p>545 rows × 3 columns</p>\n",
              "</div>\n",
              "      <button class=\"colab-df-convert\" onclick=\"convertToInteractive('df-c0eb8810-eda5-4cb4-8ba3-30a0d7e4b374')\"\n",
              "              title=\"Convert this dataframe to an interactive table.\"\n",
              "              style=\"display:none;\">\n",
              "        \n",
              "  <svg xmlns=\"http://www.w3.org/2000/svg\" height=\"24px\"viewBox=\"0 0 24 24\"\n",
              "       width=\"24px\">\n",
              "    <path d=\"M0 0h24v24H0V0z\" fill=\"none\"/>\n",
              "    <path d=\"M18.56 5.44l.94 2.06.94-2.06 2.06-.94-2.06-.94-.94-2.06-.94 2.06-2.06.94zm-11 1L8.5 8.5l.94-2.06 2.06-.94-2.06-.94L8.5 2.5l-.94 2.06-2.06.94zm10 10l.94 2.06.94-2.06 2.06-.94-2.06-.94-.94-2.06-.94 2.06-2.06.94z\"/><path d=\"M17.41 7.96l-1.37-1.37c-.4-.4-.92-.59-1.43-.59-.52 0-1.04.2-1.43.59L10.3 9.45l-7.72 7.72c-.78.78-.78 2.05 0 2.83L4 21.41c.39.39.9.59 1.41.59.51 0 1.02-.2 1.41-.59l7.78-7.78 2.81-2.81c.8-.78.8-2.07 0-2.86zM5.41 20L4 18.59l7.72-7.72 1.47 1.35L5.41 20z\"/>\n",
              "  </svg>\n",
              "      </button>\n",
              "      \n",
              "  <style>\n",
              "    .colab-df-container {\n",
              "      display:flex;\n",
              "      flex-wrap:wrap;\n",
              "      gap: 12px;\n",
              "    }\n",
              "\n",
              "    .colab-df-convert {\n",
              "      background-color: #E8F0FE;\n",
              "      border: none;\n",
              "      border-radius: 50%;\n",
              "      cursor: pointer;\n",
              "      display: none;\n",
              "      fill: #1967D2;\n",
              "      height: 32px;\n",
              "      padding: 0 0 0 0;\n",
              "      width: 32px;\n",
              "    }\n",
              "\n",
              "    .colab-df-convert:hover {\n",
              "      background-color: #E2EBFA;\n",
              "      box-shadow: 0px 1px 2px rgba(60, 64, 67, 0.3), 0px 1px 3px 1px rgba(60, 64, 67, 0.15);\n",
              "      fill: #174EA6;\n",
              "    }\n",
              "\n",
              "    [theme=dark] .colab-df-convert {\n",
              "      background-color: #3B4455;\n",
              "      fill: #D2E3FC;\n",
              "    }\n",
              "\n",
              "    [theme=dark] .colab-df-convert:hover {\n",
              "      background-color: #434B5C;\n",
              "      box-shadow: 0px 1px 3px 1px rgba(0, 0, 0, 0.15);\n",
              "      filter: drop-shadow(0px 1px 2px rgba(0, 0, 0, 0.3));\n",
              "      fill: #FFFFFF;\n",
              "    }\n",
              "  </style>\n",
              "\n",
              "      <script>\n",
              "        const buttonEl =\n",
              "          document.querySelector('#df-c0eb8810-eda5-4cb4-8ba3-30a0d7e4b374 button.colab-df-convert');\n",
              "        buttonEl.style.display =\n",
              "          google.colab.kernel.accessAllowed ? 'block' : 'none';\n",
              "\n",
              "        async function convertToInteractive(key) {\n",
              "          const element = document.querySelector('#df-c0eb8810-eda5-4cb4-8ba3-30a0d7e4b374');\n",
              "          const dataTable =\n",
              "            await google.colab.kernel.invokeFunction('convertToInteractive',\n",
              "                                                     [key], {});\n",
              "          if (!dataTable) return;\n",
              "\n",
              "          const docLinkHtml = 'Like what you see? Visit the ' +\n",
              "            '<a target=\"_blank\" href=https://colab.research.google.com/notebooks/data_table.ipynb>data table notebook</a>'\n",
              "            + ' to learn more about interactive tables.';\n",
              "          element.innerHTML = '';\n",
              "          dataTable['output_type'] = 'display_data';\n",
              "          await google.colab.output.renderOutput(dataTable, element);\n",
              "          const docLink = document.createElement('div');\n",
              "          docLink.innerHTML = docLinkHtml;\n",
              "          element.appendChild(docLink);\n",
              "        }\n",
              "      </script>\n",
              "    </div>\n",
              "  </div>\n",
              "  "
            ],
            "text/plain": [
              "     furnished  semi-furnished  unfurnished\n",
              "0            1               0            0\n",
              "1            1               0            0\n",
              "2            0               1            0\n",
              "3            1               0            0\n",
              "4            1               0            0\n",
              "..         ...             ...          ...\n",
              "540          0               0            1\n",
              "541          0               1            0\n",
              "542          0               0            1\n",
              "543          1               0            0\n",
              "544          0               0            1\n",
              "\n",
              "[545 rows x 3 columns]"
            ]
          },
          "metadata": {},
          "execution_count": 55
        }
      ]
    },
    {
      "cell_type": "code",
      "metadata": {
        "id": "v7j60gXuxkSo"
      },
      "source": [
        "# Drop 'furnishingstatus' feature\n",
        "df.drop('furnishingstatus',inplace=True,axis=1)"
      ],
      "execution_count": 56,
      "outputs": []
    },
    {
      "cell_type": "code",
      "metadata": {
        "id": "98TkE-Uvxu1W",
        "colab": {
          "base_uri": "https://localhost:8080/"
        },
        "outputId": "ae46b18f-c9ab-418e-87ea-f43256f79c1a"
      },
      "source": [
        "# Print dataframe \n",
        "df.info()"
      ],
      "execution_count": 57,
      "outputs": [
        {
          "output_type": "stream",
          "name": "stdout",
          "text": [
            "<class 'pandas.core.frame.DataFrame'>\n",
            "RangeIndex: 545 entries, 0 to 544\n",
            "Data columns (total 12 columns):\n",
            " #   Column           Non-Null Count  Dtype\n",
            "---  ------           --------------  -----\n",
            " 0   price            545 non-null    int64\n",
            " 1   area             545 non-null    int64\n",
            " 2   bedrooms         545 non-null    int64\n",
            " 3   bathrooms        545 non-null    int64\n",
            " 4   stories          545 non-null    int64\n",
            " 5   mainroad         545 non-null    int64\n",
            " 6   guestroom        545 non-null    int64\n",
            " 7   basement         545 non-null    int64\n",
            " 8   hotwaterheating  545 non-null    int64\n",
            " 9   airconditioning  545 non-null    int64\n",
            " 10  parking          545 non-null    int64\n",
            " 11  prefarea         545 non-null    int64\n",
            "dtypes: int64(12)\n",
            "memory usage: 51.2 KB\n"
          ]
        }
      ]
    },
    {
      "cell_type": "markdown",
      "metadata": {
        "id": "zOCUEcX8uRqy"
      },
      "source": [
        "---"
      ]
    },
    {
      "cell_type": "markdown",
      "metadata": {
        "id": "DPA5gDelbIhQ"
      },
      "source": [
        "#### 4. Model Building and Evaluation \n",
        "\n",
        "Build a multiple linear regression model using the `statsmodels.api` module."
      ]
    },
    {
      "cell_type": "code",
      "metadata": {
        "id": "wQzZoKiQMsLe"
      },
      "source": [
        "# Split the 'df' Dataframe into the train and test sets.\n",
        "from sklearn.model_selection import train_test_split\n",
        "train_df, test_df = train_test_split(df, test_size = 0.3, random_state = 42)\n",
        "features = list(df.columns)\n",
        "features.remove('price')\n",
        "\n"
      ],
      "execution_count": 58,
      "outputs": []
    },
    {
      "cell_type": "code",
      "source": [
        "#Create separate data-frames for the feature and target variables for both the train and test sets.\n",
        "X_train = train_df[features]\n",
        "y_train = train_df['price']\n",
        "X_test = test_df[features]\n",
        "y_test = test_df['price']\n",
        "def standard_norm(series):\n",
        "  series_mean = series.mean()\n",
        "  series_std = series.std()\n",
        "  new_series = (series - series_mean) / series_std\n",
        "  return new_series\n",
        "\n",
        "X_train[X_train.columns[:16]] = X_train[X_train.columns[:16]].apply(standard_norm, axis = 0)\n",
        "X_test[X_test.columns[:16]] = X_test[X_test.columns[:16]].apply(standard_norm, axis = 0)"
      ],
      "metadata": {
        "id": "acjIiW4JwzuD",
        "colab": {
          "base_uri": "https://localhost:8080/"
        },
        "outputId": "28e70422-0800-4dee-bfd9-0fb4f5e48d4e"
      },
      "execution_count": 59,
      "outputs": [
        {
          "output_type": "stream",
          "name": "stderr",
          "text": [
            "/usr/local/lib/python3.7/dist-packages/pandas/core/frame.py:3641: SettingWithCopyWarning: \n",
            "A value is trying to be set on a copy of a slice from a DataFrame.\n",
            "Try using .loc[row_indexer,col_indexer] = value instead\n",
            "\n",
            "See the caveats in the documentation: https://pandas.pydata.org/pandas-docs/stable/user_guide/indexing.html#returning-a-view-versus-a-copy\n",
            "  self[k1] = value[k2]\n"
          ]
        }
      ]
    },
    {
      "cell_type": "code",
      "metadata": {
        "id": "NmVNQIXoM_e7",
        "colab": {
          "base_uri": "https://localhost:8080/"
        },
        "outputId": "00fcc8ed-ef01-47f5-b61e-24dbb93e0323"
      },
      "source": [
        "# Build a linear regression model using all the features to predict prices.\n",
        "import statsmodels.api as sm\n",
        "\n",
        "X_train_sm = sm.add_constant(X_train)\n",
        "lin_reg = sm.OLS(y_train, X_train_sm).fit()\n"
      ],
      "execution_count": 60,
      "outputs": [
        {
          "output_type": "stream",
          "name": "stderr",
          "text": [
            "/usr/local/lib/python3.7/dist-packages/statsmodels/tsa/tsatools.py:117: FutureWarning: In a future version of pandas all arguments of concat except for the argument 'objs' will be keyword-only\n",
            "  x = pd.concat(x[::order], 1)\n"
          ]
        }
      ]
    },
    {
      "cell_type": "code",
      "metadata": {
        "id": "bTRC2EzPNES8",
        "colab": {
          "base_uri": "https://localhost:8080/"
        },
        "outputId": "d9bcaa78-b41f-46f6-befb-767cfab7480f"
      },
      "source": [
        "# calculate N and p-values.\n",
        "num_rows = X_train.shape[0] # Number of rows or instances \n",
        "num_predictors = X_train.shape[1] # Number of columns or feature (or independent) variables\n",
        "print(\"Number of rows (N):\", num_rows)\n",
        "print(\"Number of predictors (p):\", num_predictors)\n"
      ],
      "execution_count": 61,
      "outputs": [
        {
          "output_type": "stream",
          "name": "stdout",
          "text": [
            "Number of rows (N): 381\n",
            "Number of predictors (p): 11\n"
          ]
        }
      ]
    },
    {
      "cell_type": "code",
      "source": [
        "def mean_sq_model(X, y_actual):\n",
        "    y_pred = lin_reg.predict(X)\n",
        "    sq_model = (y_pred - y_actual.mean()) ** 2\n",
        "    msm = sq_model.sum() / (num_predictors - 1)\n",
        "    return msm\n",
        "\n",
        "def mean_sq_error(X, y_actual):\n",
        "    y_pred = lin_reg.predict(X)\n",
        "    sq_error = (y_actual - y_pred) ** 2\n",
        "    mse = sq_error.sum() / (num_rows - num_predictors)\n",
        "    return mse"
      ],
      "metadata": {
        "id": "Ea4fgShn-e6f"
      },
      "execution_count": 62,
      "outputs": []
    },
    {
      "cell_type": "code",
      "metadata": {
        "id": "Y5oVTSm2NI0N",
        "colab": {
          "base_uri": "https://localhost:8080/"
        },
        "outputId": "4b921433-5827-4d55-a6ab-b92b701d6b03"
      },
      "source": [
        "# Calculate the p-value\n",
        "f_statistic=mean_sq_model(X_train_sm,y_train)/mean_sq_error(X_train_sm,y_train)\n",
        "f_statistic\n"
      ],
      "execution_count": 63,
      "outputs": [
        {
          "output_type": "execute_result",
          "data": {
            "text/plain": [
              "80.95701900987946"
            ]
          },
          "metadata": {},
          "execution_count": 63
        }
      ]
    },
    {
      "cell_type": "code",
      "source": [
        "from scipy.stats import norm\n",
        "pvalue = (2 * (1 - norm.cdf(abs(f_statistic))))\n",
        "pvalue"
      ],
      "metadata": {
        "id": "qEdFcKWA0LWf",
        "colab": {
          "base_uri": "https://localhost:8080/"
        },
        "outputId": "b97f5b85-30b9-4b1e-93e9-c5644e384cfb"
      },
      "execution_count": 64,
      "outputs": [
        {
          "output_type": "execute_result",
          "data": {
            "text/plain": [
              "0.0"
            ]
          },
          "metadata": {},
          "execution_count": 64
        }
      ]
    },
    {
      "cell_type": "markdown",
      "source": [
        ""
      ],
      "metadata": {
        "id": "uN86XNjohcgq"
      }
    },
    {
      "cell_type": "code",
      "source": [
        "#Find adjusted r squared\n",
        "num_rows = X_train.shape[0] # Number of rows or instances \n",
        "num_predictors = X_train.shape[1] # Number of columns or feature (or independent) variables\n",
        "r2_score = lin_reg.rsquared # R-squared (or coefficient of determination) value \n",
        "adj_r2_score = 1 - ((1 - r2_score) * (num_rows - 1))/(num_rows - num_predictors - 1) # Adjusted R-squared calculation\n",
        "adj_r2_score"
      ],
      "metadata": {
        "id": "25-of2kKhdZ-",
        "colab": {
          "base_uri": "https://localhost:8080/"
        },
        "outputId": "eb399be9-ed12-41f4-fe78-d450fd86c911"
      },
      "execution_count": 65,
      "outputs": [
        {
          "output_type": "execute_result",
          "data": {
            "text/plain": [
              "0.6769757209054345"
            ]
          },
          "metadata": {},
          "execution_count": 65
        }
      ]
    },
    {
      "cell_type": "markdown",
      "metadata": {
        "id": "0g5bWR7KevKp"
      },
      "source": [
        "**Q:** What is the  adjusted r-squared value?\n",
        "\n",
        "**A:** 0.67\n"
      ]
    },
    {
      "cell_type": "markdown",
      "metadata": {
        "id": "MGiJbicSY0cB"
      },
      "source": [
        "---"
      ]
    },
    {
      "cell_type": "markdown",
      "metadata": {
        "id": "jdISoNS3dXv7"
      },
      "source": [
        "#### 5. Model Evaluation\n",
        "\n",
        "Build a multiple linear regression model  using `sklearn` module. Also, evaluate the model by calculating $R^2$, MSE, RMSE, and MAE values."
      ]
    },
    {
      "cell_type": "code",
      "metadata": {
        "id": "UasyrqoReltr",
        "colab": {
          "base_uri": "https://localhost:8080/"
        },
        "outputId": "e0845ead-b344-4d74-bfbc-1eeed01a7ae0"
      },
      "source": [
        "# Build multiple linear regression model using all the features\n",
        "from sklearn.model_selection import train_test_split\n",
        "from sklearn.linear_model import LinearRegression\n",
        "X = df[features]\n",
        "y = df['price']\n",
        "X_train, X_test, y_train, y_test = train_test_split(X, y, test_size = 0.33, random_state = 42)\n",
        "\n",
        "\n",
        "y_train_reshaped = y_train.values.reshape(-1, 1)\n",
        "y_test_reshaped = y_test.values.reshape(-1, 1)\n",
        "\n",
        "\n",
        "sklearn_lin_reg = LinearRegression()\n",
        "sklearn_lin_reg.fit(X_train, y_train_reshaped)\n",
        "\n",
        "\n",
        "\n",
        "print(\"\\nConstant\".ljust(15, \" \"), f\"{sklearn_lin_reg.intercept_[0]:.6f}\") \n",
        "\n",
        "\n",
        "for item in list(zip(X.columns.values, sklearn_lin_reg.coef_[0])):\n",
        "  print(f\"{item[0]}\".ljust(15, \" \"), f\"{item[1]:.6f}\") \n",
        "\n"
      ],
      "execution_count": 66,
      "outputs": [
        {
          "output_type": "stream",
          "name": "stdout",
          "text": [
            "\n",
            "Constant       -230797.818517\n",
            "area            252.741902\n",
            "bedrooms        99525.898594\n",
            "bathrooms       1132688.689460\n",
            "stories         414361.566066\n",
            "mainroad        458206.375330\n",
            "guestroom       339809.573052\n",
            "basement        518163.652715\n",
            "hotwaterheating 645620.790460\n",
            "airconditioning 698145.645802\n",
            "parking         308089.732720\n",
            "prefarea        533164.468724\n"
          ]
        }
      ]
    },
    {
      "cell_type": "code",
      "metadata": {
        "id": "O_Jn8jYZe0AJ",
        "colab": {
          "base_uri": "https://localhost:8080/"
        },
        "outputId": "ed212373-36f0-44f2-b4cb-de2e0dd0f602"
      },
      "source": [
        "# Evaluate the linear regression model using the 'r2_score', 'mean_squared_error' & 'mean_absolute_error' functions of the 'sklearn' module.\n",
        "from sklearn.metrics import r2_score, mean_squared_error , mean_absolute_error,mean_squared_log_error\n",
        "y_train_predict = sklearn_lin_reg.predict(X_train)\n",
        "y_test_predict = sklearn_lin_reg.predict(X_test)\n",
        "\n",
        "r2_score=r2_score(y_train,y_train_predict)\n",
        "mean_squared_error=mean_squared_error(y_train,y_train_predict)\n",
        "mean_absolute_error=mean_absolute_error(y_train,y_train_predict)\n",
        "print(r2_score,mean_squared_error,mean_absolute_error)"
      ],
      "execution_count": 67,
      "outputs": [
        {
          "output_type": "stream",
          "name": "stdout",
          "text": [
            "0.6791952875397154 993123574254.8109 737386.6995220443\n"
          ]
        }
      ]
    },
    {
      "cell_type": "markdown",
      "metadata": {
        "id": "nzGwobReGzyj"
      },
      "source": [
        "**Q:** What is the $R^2$ value for train set and test set?\n",
        "\n",
        "**A:** "
      ]
    },
    {
      "cell_type": "markdown",
      "metadata": {
        "id": "JQjDiF7TY3NN"
      },
      "source": [
        "---"
      ]
    },
    {
      "cell_type": "markdown",
      "metadata": {
        "id": "LYr8UQBp6AlS"
      },
      "source": [
        "#### 6. Recursive Feature Elimination\n",
        "\n",
        "Find out the best features out of all features using RFE and evaluate the model again."
      ]
    },
    {
      "cell_type": "code",
      "metadata": {
        "id": "7I4LSmb0oew9",
        "colab": {
          "base_uri": "https://localhost:8080/"
        },
        "outputId": "214c285b-4b57-40ba-f5d2-c283e13e18c9"
      },
      "source": [
        "# Create a Python dictionary storing the moderately to highly correlated features with price and the corresponding correlation values.\n",
        "# Keep correlation threshold to be 0.2\n",
        "major_features = {}\n",
        "for f in features:\n",
        "  corr_coef = np.corrcoef(df['price'], df[f])[0, 1]\n",
        "  if (corr_coef >= 0.2) or (corr_coef <= -0.2):\n",
        "    major_features[f] = corr_coef\n",
        "\n",
        "print(\"Number of features moderately to highly correlated with price =\", len(major_features), \"\\n\")\n",
        "major_features"
      ],
      "execution_count": 68,
      "outputs": [
        {
          "output_type": "stream",
          "name": "stdout",
          "text": [
            "Number of features moderately to highly correlated with price = 9 \n",
            "\n"
          ]
        },
        {
          "output_type": "execute_result",
          "data": {
            "text/plain": [
              "{'airconditioning': 0.4529540842560478,\n",
              " 'area': 0.5359973457780796,\n",
              " 'bathrooms': 0.517545339455011,\n",
              " 'bedrooms': 0.3664940257738689,\n",
              " 'guestroom': 0.2555172899349996,\n",
              " 'mainroad': 0.2968984892639764,\n",
              " 'parking': 0.3843936486357259,\n",
              " 'prefarea': 0.32977704986810735,\n",
              " 'stories': 0.4207123661886163}"
            ]
          },
          "metadata": {},
          "execution_count": 68
        }
      ]
    },
    {
      "cell_type": "code",
      "metadata": {
        "id": "VdSD1Jca7OuN",
        "colab": {
          "base_uri": "https://localhost:8080/"
        },
        "outputId": "7966a25a-21f2-491f-9146-3f80aecafb6c"
      },
      "source": [
        "# Perform RFE and select best 7 features  \n",
        "from sklearn.feature_selection import RFE\n",
        "from sklearn.linear_model import LinearRegression\n",
        "# Import RFE.\n",
        "\n",
        "\n",
        "# RFE with 7 features.\n",
        "lin_reg=LinearRegression()\n",
        "rfe=RFE(lin_reg,n_features_to_select=7)\n",
        "\n",
        "# Fit with 7 features.\n",
        "rfe.fit(X_train[major_features.keys()],y_train)\n",
        "\n",
        "# Print the attributes.\n",
        "print(rfe.support_)\n",
        "print(rfe.ranking_)\n",
        "major_features.keys()\n"
      ],
      "execution_count": 69,
      "outputs": [
        {
          "output_type": "stream",
          "name": "stdout",
          "text": [
            "[False False  True  True  True  True  True  True  True]\n",
            "[3 2 1 1 1 1 1 1 1]\n"
          ]
        },
        {
          "output_type": "execute_result",
          "data": {
            "text/plain": [
              "dict_keys(['area', 'bedrooms', 'bathrooms', 'stories', 'mainroad', 'guestroom', 'airconditioning', 'parking', 'prefarea'])"
            ]
          },
          "metadata": {},
          "execution_count": 69
        }
      ]
    },
    {
      "cell_type": "code",
      "metadata": {
        "id": "vJLkGtFjxREU",
        "colab": {
          "base_uri": "https://localhost:8080/"
        },
        "outputId": "c493f732-7722-419d-f799-325b30e51b94"
      },
      "source": [
        "# Print the 7 features selected by RFE in the previous step.\n",
        "rfe_features = X_train[major_features.keys()].columns[rfe.support_]\n",
        "rfe_features"
      ],
      "execution_count": 70,
      "outputs": [
        {
          "output_type": "execute_result",
          "data": {
            "text/plain": [
              "Index(['bathrooms', 'stories', 'mainroad', 'guestroom', 'airconditioning',\n",
              "       'parking', 'prefarea'],\n",
              "      dtype='object')"
            ]
          },
          "metadata": {},
          "execution_count": 70
        }
      ]
    },
    {
      "cell_type": "code",
      "metadata": {
        "id": "D8SxpFJh7lFq",
        "colab": {
          "base_uri": "https://localhost:8080/"
        },
        "outputId": "10dd4726-513d-484b-ad07-82f0749d78d8"
      },
      "source": [
        "# Build multiple linear regression model using all the features selected after RFE\n",
        "X = df[features]\n",
        "y = df['price']\n",
        "X_train, X_test, y_train, y_test = train_test_split(X, y, test_size = 0.33, random_state = 42)\n",
        "\n",
        "\n",
        "y_train_reshaped = y_train.values.reshape(-1, 1)\n",
        "y_test_reshaped = y_test.values.reshape(-1, 1)\n",
        "\n",
        "\n",
        "sklearn_lin_reg = LinearRegression()\n",
        "sklearn_lin_reg.fit(X_train, y_train_reshaped)\n",
        "\n",
        "\n",
        "\n",
        "print(\"\\nConstant\".ljust(15, \" \"), f\"{sklearn_lin_reg.intercept_[0]:.6f}\") \n",
        "\n",
        "\n",
        "for item in list(zip(X.columns.values, sklearn_lin_reg.coef_[0])):\n",
        "  print(f\"{item[0]}\".ljust(15, \" \"), f\"{item[1]:.6f}\") \n",
        "\n",
        "\n",
        "# Split the DataFrame into the train and test sets such that test set has 33% of the values.\n",
        "\n",
        "\n",
        "# Build linear regression model using the 'sklearn.linear_model' module.\n",
        "\n",
        "\n",
        "# Print the value of the intercept\n",
        "\n",
        "\n",
        "# Print the names of the features along with the values of their corresponding coefficients.\n",
        "\n"
      ],
      "execution_count": 71,
      "outputs": [
        {
          "output_type": "stream",
          "name": "stdout",
          "text": [
            "\n",
            "Constant       -230797.818517\n",
            "area            252.741902\n",
            "bedrooms        99525.898594\n",
            "bathrooms       1132688.689460\n",
            "stories         414361.566066\n",
            "mainroad        458206.375330\n",
            "guestroom       339809.573052\n",
            "basement        518163.652715\n",
            "hotwaterheating 645620.790460\n",
            "airconditioning 698145.645802\n",
            "parking         308089.732720\n",
            "prefarea        533164.468724\n"
          ]
        }
      ]
    },
    {
      "cell_type": "code",
      "metadata": {
        "id": "2TL6w_uf7lDH",
        "colab": {
          "base_uri": "https://localhost:8080/"
        },
        "outputId": "33c114db-2650-442c-e05b-d234adbee219"
      },
      "source": [
        "# Evaluate the linear regression model using the 'r2_score', 'mean_squared_error' & 'mean_absolute_error' functions of the 'sklearn' module.\n",
        "from sklearn.metrics import r2_score, mean_squared_error, mean_absolute_error\n",
        "y_train_pred = sklearn_lin_reg.predict(X_train)\n",
        "y_test_pred = sklearn_lin_reg.predict(X_test)\n",
        "\n",
        "print(f\"Train Set\\n{'-' * 50}\")\n",
        "print(f\"R-squared: {r2_score(y_train_reshaped, y_train_pred):.3f}\")\n",
        "print(f\"Mean Squared Error: {mean_squared_error(y_train_reshaped, y_train_pred):.3f}\")\n",
        "print(f\"Root Mean Squared Error: {np.sqrt(mean_squared_error(y_train_reshaped, y_train_pred)):.3f}\")\n",
        "print(f\"Mean Absolute Error: {mean_absolute_error(y_train_reshaped, y_train_pred):.3f}\")\n",
        "      "
      ],
      "execution_count": 72,
      "outputs": [
        {
          "output_type": "stream",
          "name": "stdout",
          "text": [
            "Train Set\n",
            "--------------------------------------------------\n",
            "R-squared: 0.679\n",
            "Mean Squared Error: 993123574254.811\n",
            "Root Mean Squared Error: 996555.856\n",
            "Mean Absolute Error: 737386.700\n"
          ]
        }
      ]
    },
    {
      "cell_type": "markdown",
      "metadata": {
        "id": "7ctl1HKaY6Uy"
      },
      "source": [
        "---"
      ]
    },
    {
      "cell_type": "markdown",
      "metadata": {
        "id": "O8Y3O5R88IrL"
      },
      "source": [
        "#### 7. Residual (Error) Analysis\n",
        "\n",
        "Perform residual analysis to check if the residuals (errors) are normally distributed or not. For this, plot the  histogram of the residuals."
      ]
    },
    {
      "cell_type": "code",
      "metadata": {
        "id": "mYF-WdWn8QmU",
        "colab": {
          "base_uri": "https://localhost:8080/",
          "height": 453
        },
        "outputId": "dccb43e2-c0ca-424c-86b2-5bc90f4396a5"
      },
      "source": [
        "# Create a histogram for the errors obtained in the predicted values for the train set.\n",
        "train_error=y_train_pred\n",
        "plt.figure(figsize=(15,6))\n",
        "sns.distplot(train_error,bins='sturges')\n",
        "plt.axvline(x=np.mean(train_error),color='purple')\n",
        "plt.show()\n"
      ],
      "execution_count": 73,
      "outputs": [
        {
          "output_type": "stream",
          "name": "stderr",
          "text": [
            "/usr/local/lib/python3.7/dist-packages/seaborn/distributions.py:2619: FutureWarning: `distplot` is a deprecated function and will be removed in a future version. Please adapt your code to use either `displot` (a figure-level function with similar flexibility) or `histplot` (an axes-level function for histograms).\n",
            "  warnings.warn(msg, FutureWarning)\n"
          ]
        },
        {
          "output_type": "display_data",
          "data": {
            "image/png": "[encoded data removed]",
            "text/plain": [
              "<Figure size 1080x432 with 1 Axes>"
            ]
          },
          "metadata": {}
        }
      ]
    },
    {
      "cell_type": "code",
      "metadata": {
        "id": "RJv_gr1N8T5U",
        "colab": {
          "base_uri": "https://localhost:8080/",
          "height": 453
        },
        "outputId": "73f0b469-2088-423e-cefa-dfa9c80a226a"
      },
      "source": [
        "# Create a histogram for the errors obtained in the predicted values for the test set.\n",
        "test_error=y_test_pred\n",
        "plt.figure(figsize=(15,6))\n",
        "sns.distplot(train_error,bins='sturges')\n",
        "plt.axvline(x=np.mean(train_error),color='purple')\n",
        "plt.show()\n"
      ],
      "execution_count": 74,
      "outputs": [
        {
          "output_type": "stream",
          "name": "stderr",
          "text": [
            "/usr/local/lib/python3.7/dist-packages/seaborn/distributions.py:2619: FutureWarning: `distplot` is a deprecated function and will be removed in a future version. Please adapt your code to use either `displot` (a figure-level function with similar flexibility) or `histplot` (an axes-level function for histograms).\n",
            "  warnings.warn(msg, FutureWarning)\n"
          ]
        },
        {
          "output_type": "display_data",
          "data": {
            "image/png": "[encoded data removed]",
            "text/plain": [
              "<Figure size 1080x432 with 1 Axes>"
            ]
          },
          "metadata": {}
        }
      ]
    },
    {
      "cell_type": "markdown",
      "metadata": {
        "id": "_-uMjpUMY932"
      },
      "source": [
        "---"
      ]
    },
    {
      "cell_type": "markdown",
      "metadata": {
        "id": "LMZN8NeX8rde"
      },
      "source": [
        "#### 8. Verify Homoscedasticity \n",
        "\n",
        "Check for Homoscedasticity (constant variance) by creating a scatter plot between the errors and the target variable. Determine whether there is some kind of relationship between the error and the target variable."
      ]
    },
    {
      "cell_type": "code",
      "metadata": {
        "id": "uptEDE578wjm",
        "colab": {
          "base_uri": "https://localhost:8080/",
          "height": 452
        },
        "outputId": "098e096b-6815-4f40-d11f-b317368792e1"
      },
      "source": [
        "# Create a scatter plot between the errors and the dependent variable for the train set.\n",
        "plt.figure(figsize=(15,7))\n",
        "plt.scatter(y_train,train_error)\n",
        "plt.axhline(y=np.mean(train_error),color='red')\n",
        "plt.show()\n",
        "\n"
      ],
      "execution_count": 75,
      "outputs": [
        {
          "output_type": "display_data",
          "data": {
            "image/png": "[encoded data removed]",
            "text/plain": [
              "<Figure size 1080x504 with 1 Axes>"
            ]
          },
          "metadata": {}
        }
      ]
    },
    {
      "cell_type": "markdown",
      "metadata": {
        "id": "ydTo7_b5JMpu"
      },
      "source": [
        "---"
      ]
    },
    {
      "cell_type": "markdown",
      "metadata": {
        "id": "NLa6hQS3Aks5"
      },
      "source": [
        "### Submitting the Project\n",
        "\n",
        "Follow the steps described below to submit the project.\n",
        "\n",
        "1. After finishing the project, click on the **Share** button on the top right corner of the notebook. A new dialog box will appear.\n",
        "\n",
        "  <img src='https://student-datasets-bucket.s3.ap-south-1.amazonaws.com/images/project-share-images/2_share_button.png' width=500>\n",
        "\n",
        "2. In the dialog box, click on the **Copy link** button.\n",
        "\n",
        "   <img src='https://student-datasets-bucket.s3.ap-south-1.amazonaws.com/images/project-share-images/3_copy_link.png' width=500>\n",
        "\n",
        "\n",
        "3. The link of the duplicate copy (named as **YYYY-MM-DD_StudentName_CapstoneProject17**) of the notebook will get copied \n",
        "\n",
        "   <img src='https://student-datasets-bucket.s3.ap-south-1.amazonaws.com/images/project-share-images/4_copy_link_confirmation.png' width=500>\n",
        "\n",
        "4. Go to your dashboard and click on the **My Projects** option.\n",
        "\n",
        "   <img src='https://student-datasets-bucket.s3.ap-south-1.amazonaws.com/images/project-share-images/5_student_dashboard.png' width=800>\n",
        "\n",
        "   <img src='https://student-datasets-bucket.s3.ap-south-1.amazonaws.com/images/project-share-images/6_my_projects.png' width=800>\n",
        "\n",
        "5. Click on the **View Project** button for the project you want to submit.\n",
        "\n",
        "   <img src='https://student-datasets-bucket.s3.ap-south-1.amazonaws.com/images/project-share-images/7_view_project.png' width=800>\n",
        "\n",
        "6. Click on the **Submit Project Here** button.\n",
        "\n",
        "   <img src='https://student-datasets-bucket.s3.ap-south-1.amazonaws.com/images/project-share-images/8_submit_project.png' width=800>\n",
        "\n",
        "7. Paste the link to the project file named as **YYYY-MM-DD_StudentName_CapstoneProject17** in the URL box and then click on the **Submit** button.\n",
        "\n",
        "   <img src='https://student-datasets-bucket.s3.ap-south-1.amazonaws.com/images/project-share-images/9_enter_project_url.png' width=800>\n"
      ]
    },
    {
      "cell_type": "markdown",
      "metadata": {
        "id": "WS4vTi_EAsC5"
      },
      "source": [
        "---"
      ]
    }
  ]
}