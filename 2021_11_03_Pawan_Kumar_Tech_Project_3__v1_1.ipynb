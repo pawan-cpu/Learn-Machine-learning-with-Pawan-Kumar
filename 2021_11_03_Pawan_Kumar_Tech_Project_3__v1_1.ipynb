{
  "nbformat": 4,
  "nbformat_minor": 0,
  "metadata": {
    "colab": {
      "name": "2021-11-03 Pawan Kumar Tech. Project 3 _v1.1",
      "provenance": [],
      "collapsed_sections": [],
      "include_colab_link": true
    },
    "kernelspec": {
      "name": "python3",
      "display_name": "Python 3"
    }
  },
  "cells": [
    {
      "cell_type": "markdown",
      "metadata": {
        "id": "view-in-github",
        "colab_type": "text"
      },
      "source": [
        "<a href=\"https://colab.research.google.com/github/pawan-cpu/Learn-Python-with-Pawan-Kumar/blob/main/2021_11_03_Pawan_Kumar_Tech_Project_3__v1_1.ipynb\" target=\"_parent\"><img src=\"https://colab.research.google.com/assets/colab-badge.svg\" alt=\"Open In Colab\"/></a>"
      ]
    },
    {
      "cell_type": "markdown",
      "metadata": {
        "id": "YZnBY81YDCCr"
      },
      "source": [
        "### Instructions"
      ]
    },
    {
      "cell_type": "code",
      "metadata": {
        "id": "AzU_cnpNoK_K"
      },
      "source": [
        ""
      ],
      "execution_count": null,
      "outputs": []
    },
    {
      "cell_type": "markdown",
      "metadata": {
        "id": "bEyBzxYRhrLG"
      },
      "source": [
        "#### Goal of the Project\n",
        "\n",
        "This project is designed for you to practice and solve the activities that are based on the concepts covered in the following lessons:\n",
        "\n",
        " 1.  While Loop, Data-Type Conversion and Conditional Statements.\n",
        " \n",
        " 2.  Improving The Algorithm\n"
      ]
    },
    {
      "cell_type": "markdown",
      "metadata": {
        "id": "DPOFIO3EHncO"
      },
      "source": [
        "---"
      ]
    },
    {
      "cell_type": "markdown",
      "metadata": {
        "id": "z-Uc7GbCz2HK"
      },
      "source": [
        "#### Getting Started\n",
        "\n",
        "Follow the steps described below to solve the project:\n",
        "\n",
        "1. Click on the link provided below to open the Colab file for this project.\n",
        "   \n",
        "   https://colab.research.google.com/drive/1qaEa3FobEJKvDKnxPxWoFzd267ZjJmQd\n",
        "\n",
        "2. Create the duplicate copy of the Colab file. Here are the steps to create the duplicate copy:\n",
        "\n",
        "    - Click on the **File** menu. A new drop-down list will appear.\n",
        "\n",
        "      <img src='https://student-datasets-bucket.s3.ap-south-1.amazonaws.com/images/project-share-images/0_file_menu.png' width=500>\n",
        "\n",
        "    - Click on the **Save a copy in Drive** option. A duplicate copy will get created. It will open up in the new tab on your web browser.\n",
        "\n",
        "      <img src='https://student-datasets-bucket.s3.ap-south-1.amazonaws.com/images/project-share-images/1_create_colab_duplicate_copy.png' width=500>\n",
        "\n",
        "     - After creating the duplicate copy of the notebook, please rename it in the **YYYY-MM-DD_StudentName_Project3** format. \n",
        "\n",
        "3. Now, write your code in the prescribed code cells."
      ]
    },
    {
      "cell_type": "markdown",
      "metadata": {
        "id": "c0TXXSSCz1SL"
      },
      "source": [
        "---"
      ]
    },
    {
      "cell_type": "markdown",
      "metadata": {
        "id": "qA-b1CdeofKc"
      },
      "source": [
        "#### Activity 1: Increment a Number by 50.\n",
        "\n",
        "Write a function to increment a number by 50.\n",
        "\n",
        "For example: if the number entered is 12 then expected output is: 12 + 50 = 62.\n",
        "\n",
        "Follow the steps given below to achieve the desired result:\n",
        "\n",
        "- **Step 1:** Ask the user to enter a number. Convert the data type of user input to integer and then store it in a variable `num`.\n",
        "\n",
        "- **Step 2:** Create a function (using the `def` keyword) and name it `increment()` which takes one input, `n`.\n",
        "\n",
        "- **Step 3:** Inside the function, add the input parameter `n` with `50` using the `+` operator and store the result in a variable `result`.\n",
        "\n",
        "- **Step 4:** Print the result in the output using the `return` keyword. If you don't write the `return` statement, then this function will only add the numbers but won't give any output.\n",
        "\n",
        "- **Step 5:** Call the `increment()` function (outside the function) and pass the variables `num` (the variable which holds the user input) as an input to this function.\n"
      ]
    },
    {
      "cell_type": "code",
      "metadata": {
        "id": "AtvPTG3kpBoS",
        "colab": {
          "base_uri": "https://localhost:8080/"
        },
        "outputId": "02cd098a-3e7f-4e5f-9f8d-8a26024f4ce4"
      },
      "source": [
        "# Write your code to increment a number by 50.\n",
        "# Step 1: Ask the user to enter the first number as an integer and then store it in a variable num.\n",
        "n=int(input(\"enter your number:\"))\n",
        "# Step 2: Create a function and name it 'increment()' which takes one input 'n'.\n",
        "def increment(n): \n",
        "  \n",
        "  # Step 3: Add the input parameter 'n' with 50 using the '+' operator and store the result in a variable.\n",
        "   result=(n+50)\n",
        "  # Step 5: Print the result in the output using the 'return' keyworeturn result\n",
        "   return result\n",
        "# Step 5: Call the 'increment()' function and pass the variable 'num' as an input.\n",
        "increment(n)\n"
      ],
      "execution_count": null,
      "outputs": [
        {
          "name": "stdout",
          "output_type": "stream",
          "text": [
            "enter your number:5\n"
          ]
        },
        {
          "output_type": "execute_result",
          "data": {
            "text/plain": [
              "55"
            ]
          },
          "metadata": {},
          "execution_count": 1
        }
      ]
    },
    {
      "cell_type": "markdown",
      "metadata": {
        "id": "KOVBiUSMzut1"
      },
      "source": [
        "---"
      ]
    },
    {
      "cell_type": "markdown",
      "metadata": {
        "id": "0mKpho8wtJVG"
      },
      "source": [
        "#### Activity 2: Multiplication of Two Numbers\n",
        "\n",
        "Write a function to print the multiplication of two numbers.\n",
        "\n",
        "For example, if `num_1 = 5` and `num2 = 15`, then result = 5 * 15 = 75\n",
        "\n",
        "Follow the steps given below to achieve the desired result:\n",
        "\n",
        "  - **Step 1:** Ask the user to enter the first number. Convert the data type of user input to integer using the `int()` function and then store it in a variable `num_1`.\n",
        "\n",
        "  - **Step 2:** Ask the user to enter the second number. Convert the data type of user input to integer using the `int()` function and then store it in a variable `num_2`. \n",
        "\n",
        "  - **Step 3:** Create a function (using the `def` keyword) and name it `multiplier()` which takes two inputs, `num1` and `num2`. \n",
        "\n",
        "  - **Step 4:** Inside the function, multiply the input parameters `num1` and `num2` using the `*` operator and store the result in a variable `result`.\n",
        "\n",
        "  - **Step 5:** Print the result in the output using the `return` keyword. If you don't write the `return` statement, then this function will only add the numbers but won't give any output.\n",
        "\n",
        "  - **Step 6:** Now call the `multiplier()` function (outside the function) and pass the variables `num_1` and `num_2` (the variable which holds the user input) as an input to this function."
      ]
    },
    {
      "cell_type": "code",
      "metadata": {
        "id": "NPzmqitTtMJv",
        "colab": {
          "base_uri": "https://localhost:8080/"
        },
        "outputId": "48a064b2-9839-43af-862b-d639144a0790"
      },
      "source": [
        "# Write your code to multiply two numbers\n",
        "# Step 1: Ask the user to enter the first number as an integer and then store it in a variable 'num_1'.\n",
        "num_1=int(input(\"Enter the first number:\"))\n",
        "# Step 2: Ask the user to enter the second number as an integer and then store it in a variable 'num_2'.\n",
        "num_2=int(input(\"Enter the second number:\"))\n",
        "# Step 3: Create a function and name it 'multiplier()' which takes two inputs, 'num1' and 'num2'.\n",
        "def multiplier(num_1,num_2):\n",
        "  # Step 4: Multiply the input parameters using the '*' operator and store the result in a variable.\n",
        "  result=num_1*num_2\n",
        "  # Step 5: Print the result in the output using the 'return' keyword. \n",
        "  return result\n",
        "# Step 6: Call the 'multiplier()' function and pass the variables 'num_1' and 'num_2' as an input.\n",
        "multiplier(num_1,num_2)"
      ],
      "execution_count": null,
      "outputs": [
        {
          "name": "stdout",
          "output_type": "stream",
          "text": [
            "Enter the first number:3\n",
            "Enter the second number:4\n"
          ]
        },
        {
          "output_type": "execute_result",
          "data": {
            "text/plain": [
              "12"
            ]
          },
          "metadata": {},
          "execution_count": 5
        }
      ]
    },
    {
      "cell_type": "markdown",
      "metadata": {
        "id": "MJ_BhADjtOCs"
      },
      "source": [
        "---"
      ]
    },
    {
      "cell_type": "markdown",
      "metadata": {
        "id": "tU-3PpxuzwT-"
      },
      "source": [
        "### Submitting the Project\n",
        "\n",
        "Follow the steps described below to submit the project.\n",
        "\n",
        "1. After finishing the project, click on the **Share** button on the top right corner of the notebook. A new dialog box will appear.\n",
        "\n",
        "  <img src='https://student-datasets-bucket.s3.ap-south-1.amazonaws.com/images/project-share-images/2_share_button.png' width=500>\n",
        "\n",
        "2. In the dialog box, click on the **Copy link** button.\n",
        "\n",
        "   <img src='https://student-datasets-bucket.s3.ap-south-1.amazonaws.com/images/project-share-images/3_copy_link.png' width=500>\n",
        "\n",
        "\n",
        "3. The link of the duplicate copy (named as **YYYY-MM-DD_StudentName_Project3**) of the notebook will get copied \n",
        "\n",
        "   <img src='https://student-datasets-bucket.s3.ap-south-1.amazonaws.com/images/project-share-images/4_copy_link_confirmation.png' width=500>\n",
        "\n",
        "4. Go to your dashboard and click on the **My Projects** option.\n",
        "\n",
        "   <img src='https://student-datasets-bucket.s3.ap-south-1.amazonaws.com/images/project-share-images/5_student_dashboard.png' width=800>\n",
        "\n",
        "   <img src='https://student-datasets-bucket.s3.ap-south-1.amazonaws.com/images/project-share-images/6_my_projects.png' width=800>\n",
        "\n",
        "5. Click on the **View Project** button for the project you want to submit.\n",
        "\n",
        "   <img src='https://student-datasets-bucket.s3.ap-south-1.amazonaws.com/images/project-share-images/7_view_project.png' width=800>\n",
        "\n",
        "6. Click on the **Submit Project Here** button.\n",
        "\n",
        "   <img src='https://student-datasets-bucket.s3.ap-south-1.amazonaws.com/images/project-share-images/8_submit_project.png' width=800>\n",
        "\n",
        "7. Paste the link to the project file named as **YYYY-MM-DD_StudentName_Project3** in the URL box and then click on the **Submit** button.\n",
        "\n",
        "   <img src='https://student-datasets-bucket.s3.ap-south-1.amazonaws.com/images/project-share-images/9_enter_project_url.png' width=800>\n"
      ]
    },
    {
      "cell_type": "markdown",
      "metadata": {
        "id": "46HWjocGzvcR"
      },
      "source": [
        "---"
      ]
    }
  ]
}