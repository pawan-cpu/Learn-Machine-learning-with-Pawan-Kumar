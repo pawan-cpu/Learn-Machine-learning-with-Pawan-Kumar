{
  "nbformat": 4,
  "nbformat_minor": 0,
  "metadata": {
    "colab": {
      "name": "L67_30-JAN-2022-PAWAN-Lesson 67 - Trees - Class Copy.ipynb",
      "provenance": [],
      "collapsed_sections": [],
      "include_colab_link": true
    },
    "kernelspec": {
      "name": "python3",
      "display_name": "Python 3"
    }
  },
  "cells": [
    {
      "cell_type": "markdown",
      "metadata": {
        "id": "view-in-github",
        "colab_type": "text"
      },
      "source": [
        "<a href=\"https://colab.research.google.com/github/pawan-cpu/Learn-Python-with-Pawan-Kumar/blob/main/L67_30_JAN_2022_PAWAN_Lesson_67_Trees_Class_Copy.ipynb\" target=\"_parent\"><img src=\"https://colab.research.google.com/assets/colab-badge.svg\" alt=\"Open In Colab\"/></a>"
      ]
    },
    {
      "cell_type": "markdown",
      "metadata": {
        "id": "oNKA9fFdGVYZ"
      },
      "source": [
        "# Lesson 67: Trees\n"
      ]
    },
    {
      "cell_type": "markdown",
      "metadata": {
        "id": "oess6z4V4AVZ"
      },
      "source": [
        "---"
      ]
    },
    {
      "cell_type": "markdown",
      "metadata": {
        "id": "T7-2PrnFG0NZ"
      },
      "source": [
        "### Teacher-Student Activities\n",
        "\n",
        "In this class, we will learn to create and implement a binary search tree in Python."
      ]
    },
    {
      "cell_type": "markdown",
      "metadata": {
        "id": "y-r4Om7hHGxg"
      },
      "source": [
        "---"
      ]
    },
    {
      "cell_type": "markdown",
      "metadata": {
        "id": "vj2ogpJnbQC3"
      },
      "source": [
        "#### Trees\n",
        "\n",
        "A tree is a non-linear hierarchical data structure. In the case of linear data structure, the items are stored in a linear or sequential way. However, in the case of a tree, there is a parent-child relationship between the elements. \n",
        "\n",
        "Trees are very important as they can be used for many applications such as searching and storing data, sorting data as well as parsing expressions. They are also useful in representing certain document types such as HTML and XML. \n",
        "\n",
        "Let us dive deep into the concepts of trees.\n"
      ]
    },
    {
      "cell_type": "markdown",
      "metadata": {
        "id": "hPHaZhI3p79F"
      },
      "source": [
        "---"
      ]
    },
    {
      "cell_type": "markdown",
      "metadata": {
        "id": "I3oHcOncp8qU"
      },
      "source": [
        "#### Terminologies\n",
        "\n",
        "Let's consider some terms associated with trees.\n",
        "\n",
        "\n",
        "\n",
        " <img src=\"https://github.com/TANMAYGHODE/images/blob/master/Tree_1.1.png?raw=true\"/>\n",
        "\n",
        "\n",
        "\n",
        "\n",
        "**1. Node:** Each circled alphabet represents a node. A node is any structure that holds data.\n",
        "\n",
        "**2. Path:** Path of the tree node refers to sequence followed from the root node to reach the node. \n",
        "\n",
        " In the given figure, a path of node $F$ is $A \\rightarrow B \\rightarrow F$ \n",
        "\n",
        "**3. Root node:** The first node at the top of the tree is a root node. It is the only node in the tree with no parent. \n",
        "\n",
        "For e.g: $A$ is the root node in the given figure. \n",
        "\n",
        "**4. Parent node:** In all nodes of the tree (except root), the node coming just before itself in its path is called the parent node. \n",
        "\n",
        "For e.g: $B$ is the parent node of $D, E$, and $F$ in the given figure. \n",
        "\n",
        "**5. Child node:** All the nodes which come after the node itself are called child node. \n",
        "\n",
        "For e.g: $F$ is the child node of $B$ in the given figure.\n",
        "\n",
        "**6. Leaf node:** The node with no child node is called the leaf node.\n",
        "\n",
        "For e.g: $D, E, F,$ and $C$ are the leaf nodes in the given figure.\n",
        "\n",
        "**7. Internal node:**  Internal node is any node of a tree that has child nodes.\n",
        "\n",
        "\n",
        "**8. Subtree:**  A tree within a tree that is decent of a node in a tree is called a subtree. \n",
        "\n",
        "For e.g: A tree outlined with a red triangle is a subtree. \n",
        "\n",
        "**9. Level:**  A level is the number of parent nodes corresponding to a given node of the tree. The root node is at level 0. Nodes B and C are at level 1.\n",
        "\n",
        "**10. Height:** The height of a binary tree is equal to the largest number of edges from the root to the most distant leaf node. Our tree has a height of 3.\n",
        "\n",
        "\n",
        "\n",
        "Tree data structure are built up of nodes that form a hierarchy. The nodes are arranged in a parent-child relationship. \n",
        "\n",
        "Let us discuss one of the most important and special kinds of trees i.e the binary tree.\n",
        "\n",
        "\n",
        "\n"
      ]
    },
    {
      "cell_type": "markdown",
      "metadata": {
        "id": "PEYssEsOtasj"
      },
      "source": [
        "---"
      ]
    },
    {
      "cell_type": "markdown",
      "metadata": {
        "id": "oxoKLvjNtkLj"
      },
      "source": [
        "#### Binary Tree\n",
        "\n",
        "\n",
        "A binary tree is a collection of nodes, where the nodes in the tree can have a maximum of two children. Here, the binary name itself suggests that 'two'; therefore, each node can have either 0, 1, or 2 children. A simple binary tree has a maximum of two children, that is, the left child and the right child. \n",
        "\n",
        "For example: In the following binary tree example, there is a root node that has two children i.e. left child and right child.\n",
        "\n",
        "<img src=\"https://obj.whitehatjr.com/6c50a8e2-b056-4bae-8094-b6186f8f54d3.PNG\"/>\n",
        "\n"
      ]
    },
    {
      "cell_type": "markdown",
      "metadata": {
        "id": "1UTPv1pIuX2x"
      },
      "source": [
        "---"
      ]
    },
    {
      "cell_type": "markdown",
      "metadata": {
        "id": "oZ9omZl3tbeC"
      },
      "source": [
        "#### Task 1: Creating Binary Tree Node\n",
        "\n",
        "The tree starts with a single node known as the root. Each node in the tree contains the following:\n",
        "- Data\n",
        "- Pointer to left child\n",
        "- Pointer to the right child\n",
        "\n",
        "In the case of a leaf node, the pointers to the left and right child point to null.\n",
        "\n",
        "\n",
        "Let us now look at how to build a binary tree node class in Python. Follow the steps given below:\n",
        "1. Create a `Node` class. Pass the `self` and `data` arguments to the constructor of this class.\n",
        "\n",
        "2. Initialize the following three variables inside the `Node` class constructor.\n",
        "  ```python\n",
        "    self.data = data\n",
        "    self.left = None\n",
        "    self.right = None\n",
        "  ```\n",
        "\n",
        "3. Define a function `print_tree()` which takes `self` as an argument and prints the current node.\n",
        "\n",
        "4. Create a node having a `data` value as `10`. \n",
        "\n",
        "5. Print the node by calling the `print_tree()` function.\n"
      ]
    },
    {
      "cell_type": "code",
      "metadata": {
        "id": "KOFWf3Sr0-CL",
        "colab": {
          "base_uri": "https://localhost:8080/"
        },
        "outputId": "4c5fd8be-2d0c-4ec8-f9d8-ecf7a008e340"
      },
      "source": [
        "# S1.1: Create a Node class and assign a value to the node.\n",
        "class Newnode:\n",
        "  def __init__(self,data):\n",
        "    self.data=data\n",
        "    self.left=None\n",
        "    self.right=None\n",
        "  def print_tree(self):\n",
        "    print(self.data)\n",
        "\n",
        "root=Newnode(10)\n",
        "root.print_tree()\n",
        "\n",
        "  # Initialise data, right child and left child of 'Node'\n",
        "\n",
        "  \n",
        "  # Print the data value of the 'Node'\n",
        "  \n",
        "\n",
        "# Create a node with 'data = 10' and print the node.\n"
      ],
      "execution_count": null,
      "outputs": [
        {
          "output_type": "stream",
          "name": "stdout",
          "text": [
            "10\n"
          ]
        }
      ]
    },
    {
      "cell_type": "markdown",
      "metadata": {
        "id": "Ei5ALioUqkU5"
      },
      "source": [
        "In the above code, we created a tree with only a root node having data element as `10`.\n",
        "\n",
        "\n",
        " Let us learn how to insert a new node in this binary tree."
      ]
    },
    {
      "cell_type": "markdown",
      "metadata": {
        "id": "mZVBmlVCtaq7"
      },
      "source": [
        "---"
      ]
    },
    {
      "cell_type": "markdown",
      "metadata": {
        "id": "kd6CnoWnyCrC"
      },
      "source": [
        "#### Task 2: Inserting a New Node\n",
        "\n",
        "To insert a new node into a tree, we will use the same `Node` class created above and add an `insert()` function to it. This function compares the value of the node to the parent node and decides to add it as a left node or a right node. \n",
        "\n",
        "Follow the steps given below to insert a new node in a binary tree:\n",
        "\n",
        "1. Create a `Node` class and initialize the following three variables inside the `Node` class constructor:\n",
        "  ```python\n",
        "    self.data = data\n",
        "    self.left_child = None\n",
        "    self.right_child = None\n",
        "  ```\n",
        "2. Define a function `insert()` that accepts `self` and `data` as arguments. Inside this function, check if there exists a data element. If yes, \n",
        "    - Check whether the data element to be inserted i.e `data` is less than the data  element of the existing Node i.e `self.data`. If yes, then  store the current node in the left node if left node is empty. Else, again call the `insert()` function on the existing left node. This will work as follows:\n",
        "\n",
        "    ```python\n",
        "      if data < self.data:\n",
        "        if self.left is None:\n",
        "            self.left = Node(data)\n",
        "          else:\n",
        "            self.left.insert(data)\n",
        "    ```\n",
        "\n",
        "    - Check whether the data element to be inserted i.e `data` is greater than the data  element of the existing Node i.e `self.data`. if yes, then  store the current node in the right node if the right node is empty. Else, again call the `insert()` function on the existing right node. This will work as follows:\n",
        "\n",
        "    ```python\n",
        "    elif data > self.data:\n",
        "        if self.right is None:\n",
        "           self.right = Node(data)\n",
        "        else:\n",
        "            self.right.insert(data)\n",
        "\n",
        "    ```\n",
        "\n",
        "    If there is no existing data element, then initialize the data element of the current node as `self.data = data`.\n",
        "\n",
        "3. Define a function the `print_tree()` which accepts `self` as an argument. Inside this function,\n",
        "    - If the left node exists, call `print_tree()` function using the left node and print the current node.\n",
        "    - If the right node exists, call `print_tree()` function using the right node.\n",
        "\n",
        "4. Create a node having a `data` value as `10`. Insert three more nodes having data elements `6`, `14`, and `3`. Call the `print_tree() `function to print the tree."
      ]
    },
    {
      "cell_type": "code",
      "metadata": {
        "id": "Yvb1tSYUAacY",
        "colab": {
          "base_uri": "https://localhost:8080/"
        },
        "outputId": "6e559256-ad3f-429b-e5f8-da022d9f4ca0"
      },
      "source": [
        "# S2.1: Insert nodes to a binary tree.\n",
        "class Newnode:\n",
        "  def __init__(self,data):\n",
        "    self.data=data\n",
        "    self.left=None\n",
        "    self.right=None\n",
        "\n",
        "  def insert_node(self,node):\n",
        "    if self.data:\n",
        "      if node<self.data:\n",
        "        if self.left is None:\n",
        "          self.left=Newnode(node)\n",
        "        else:\n",
        "          self.left.insert_node(node)\n",
        "      elif node>self.data:\n",
        "        if self.right is None:\n",
        "          self.right=Newnode(node)\n",
        "        else:\n",
        "          self.right.insert_node(node)\n",
        "    else:\n",
        "      self.data=node \n",
        "    \n",
        "\n",
        "  def print_tree(self):\n",
        "    if self.left:\n",
        "      self.left.print_tree()\n",
        "    \n",
        "    print(self.data)\n",
        "    if self.right:\n",
        "      self.right.print_tree()\n",
        "\n",
        "root=Newnode(10)\n",
        "root.insert_node(6)\n",
        "root.insert_node(14)\n",
        "root.insert_node(3)\n",
        "root.print_tree()\n",
        "   # Compare the new value with the parent node\n",
        "  \n",
        "\n",
        "  # Print the tree\n",
        "   \n",
        "\n",
        "# Use the insert method to add nodes\n"
      ],
      "execution_count": null,
      "outputs": [
        {
          "output_type": "stream",
          "name": "stdout",
          "text": [
            "3\n",
            "6\n",
            "10\n",
            "14\n"
          ]
        }
      ]
    },
    {
      "cell_type": "markdown",
      "metadata": {
        "id": "o5qkOzudHCys"
      },
      "source": [
        "In the above code, \n",
        "\n",
        "- Node `10` will become the root node.\n",
        "- When node `6` is inserted, it will go to the left side of node `10` as `6` is less than the root node `10`.\n",
        "- When node `14` is inserted, it will go to the right side of node `10` as `14` is greater than the root node `10`.\n",
        "- When node `3` is inserted, it will go to the left side of the root node `10` as `3` is less than the root node `10`. On the left side, again it will be compared with the existing left node `6`. As `3` is less than `6`, it will go to the left of the current left node `6`.\n",
        "\n",
        "Thus, the binary tree will have  root node as `10`, left sub-tree as `3` and `6`, and right sub-tree as `14`. The tree would look like this:\n",
        "\n",
        "  <center><img src=\"https://s3-whjr-v2-prod-bucket.whjr.online/c29fb8f0-26fc-4dfa-a54d-28eb601ba7fa.PNG\"/></center>\n",
        "\n",
        "Now let us learn about a class of binary tree called as **Binary Search Tree**.\n",
        "\n"
      ]
    },
    {
      "cell_type": "markdown",
      "metadata": {
        "id": "mML2S0ON8vUj"
      },
      "source": [
        "##### **Binary Search Tree (BST)**\n",
        "\n",
        "Binary Search Tree is a node-based binary tree data structure that has the following properties:  \n",
        "\n",
        "- The left subtree of a node contains only nodes with keys lesser than the node's key.\n",
        "- The right subtree of a node contains only nodes with keys greater than the node's key.\n",
        "- The left and right subtree each must also be a binary search tree. \n",
        "- There must be no duplicate nodes.\n",
        "\n",
        "\n",
        "\n",
        "**For example:**\n",
        "\n",
        "<img src=\"https://obj.whitehatjr.com/2d10f5c6-83fa-4c7b-bedc-c80a0614aa5f.PNG\"/>\n",
        "\n",
        "In this tree, all the nodes in the left sub-tree of the root node have a value less than 7. Similarly, all the\n",
        "nodes in the right sub-tree have a value that is greater than 7.\n",
        "\n",
        "These properties of BST provide an ordering among keys so that the operations like search, minimum, and maximum can be done fast. If there is no order, then we may have to compare every key to search for a given key."
      ]
    },
    {
      "cell_type": "markdown",
      "metadata": {
        "id": "3pDVamOsercR"
      },
      "source": [
        "---"
      ]
    },
    {
      "cell_type": "markdown",
      "metadata": {
        "id": "fZ7M4sJkWCvA"
      },
      "source": [
        "#### Task 3: Searching in BST\n",
        "\n",
        "Searching for a value in a tree involves comparing the incoming value with the value of the existing nodes. We traverse the nodes from left to right and then finally with the parent. If the searched-for value does not match any of the existing values, then we return not found message, or else the found message is returned.\n",
        "\n",
        "Follow the steps given below to search for a value in a BST:\n",
        "1. Create a `Node` class and define `insert()` function as done in **Task 2: Inserting a New Node**.\n",
        "\n",
        "2. Create a function `search()` inside `Node` class which accepts `self` and `key` as arguments. The `key` is the element to be searched in the tree. Inside this function, \n",
        "    - Check whether  the `key` is less than the data  element of the existing Node i.e `self.data`. If yes, then  print `key, \"not found\"` if the left node is empty. Else, again call the `search(key)` function on the existing left node. This will work as follows:\n",
        "\n",
        "    ```python\n",
        "      if key < self.data:\n",
        "        if self.left is None:\n",
        "          print(key, \"not found\")\n",
        "        else:\n",
        "          return self.left.search(key)\n",
        "    ```\n",
        "\n",
        "    - Check whether  `key` is greater than the data  element of the existing Node i.e `self.data`. If yes, then  print `key, \"not found\"` if the right node is empty. Else, again call the `search(key)` function on the existing right node. This will work as follows:\n",
        "\n",
        "    ```python\n",
        "    elif key > self.data:\n",
        "       if self.right is None:\n",
        "         print(key, \"not found\")\n",
        "       else:\n",
        "         return self.right.search(key)\n",
        "    ```\n",
        "\n",
        "  - Else print `key, \"is found\"`.\n",
        "\n",
        "3. Create a function `print_tree()` as done in **Task 2: Inserting a New Node**.\n",
        "\n",
        "4. Create a node having a data value as `12`. This will be the root node. Insert three more nodes having data elements `6`, `14`, and `3`. Call the `print_tree()` function to print the tree. Call the `search()` function with `7` and `14` as input.\n"
      ]
    },
    {
      "cell_type": "code",
      "metadata": {
        "id": "nc2CBi8sYO7y",
        "colab": {
          "base_uri": "https://localhost:8080/"
        },
        "outputId": "05009815-01fa-4a4a-fe9a-e230a8c58d04"
      },
      "source": [
        "# S3.1: Search for a value in a BST.\n",
        "# Create 'Node' class\n",
        "class Newnode:\n",
        "  def __init__(self,data):\n",
        "    self.data=data\n",
        "    self.left=None\n",
        "    self.right=None\n",
        "\n",
        "  def insert_node(self,node):\n",
        "    if self.data:\n",
        "      if node<self.data:\n",
        "        if self.left is None:\n",
        "          self.left=Newnode(node)\n",
        "        else:\n",
        "          self.left.insert_node(node)\n",
        "      elif node>self.data:\n",
        "        if self.right is None:\n",
        "          self.right=Newnode(node)\n",
        "        else:\n",
        "          self.right.insert_node(node)\n",
        "    else:\n",
        "      self.data=node \n",
        "    \n",
        "  def search(self,item):\n",
        "    if item<self.data:\n",
        "      if self.left is None:\n",
        "        print(f'{item} not there')\n",
        "      else:\n",
        "        return self.left.search(item)\n",
        "    elif item>self.data:\n",
        "      if self.right is None:\n",
        "        print(f'{item} not there')\n",
        "      else:\n",
        "        return self.right.search(item)\n",
        "    else:\n",
        "      print(f'{item} item is found')\n",
        "\n",
        "\n",
        "  def print_tree(self):\n",
        "    if self.left:\n",
        "      self.left.print_tree()\n",
        "    \n",
        "    print(self.data)\n",
        "    if self.right:\n",
        "      self.right.print_tree()\n",
        "\n",
        "root=Newnode(10)\n",
        "root.insert_node(6)\n",
        "root.insert_node(14)\n",
        "root.insert_node(3)\n",
        "root.print_tree()\n",
        "root.search(10)\n",
        "  # Define 'insert()' function to insert nodes.\n",
        "   \n",
        "  \n",
        "   # Define 'search()' function to compare the searched value with existing nodes.\n",
        "   \n",
        "      # Compare the new value with the parent node\n",
        "     \n",
        "\n",
        "# Print the tree\n",
        "   \n",
        "\n",
        "# Call the 'insert()' and 'search()' functions\n"
      ],
      "execution_count": null,
      "outputs": [
        {
          "output_type": "stream",
          "name": "stdout",
          "text": [
            "3\n",
            "6\n",
            "10\n",
            "14\n",
            "10 item is found\n"
          ]
        }
      ]
    },
    {
      "cell_type": "markdown",
      "metadata": {
        "id": "vitmtTVilhSn"
      },
      "source": [
        "In the above code, \n",
        "\n",
        "- Node `12` will become the root node.\n",
        "- Nodes `6`, `14`, and `3` are inserted into the BST.\n",
        "- The `print_tree()` function is called to print the BST.\n",
        "- The `search()` function is called twice, first to search for node `7` and then to search for node `14`. \n",
        "- As node `7` does not exists in this BST, it will return `\"7 not found\"`. As node `14` exist in this BST, it will return `\"14 is found\"`.\n",
        "\n",
        "\n",
        "Let us learn how to find the minimum and maximum nodes in a BST."
      ]
    },
    {
      "cell_type": "markdown",
      "metadata": {
        "id": "_IHiXeqYherc"
      },
      "source": [
        "---"
      ]
    },
    {
      "cell_type": "markdown",
      "metadata": {
        "id": "KKGi3VuVesLf"
      },
      "source": [
        "#### Task 4: Finding the Minimum and Maximum Nodes\n",
        "\n",
        "In the case of BST, to find the node having the smallest value, we will traverse from the root to the left node of the tree unless we reach the end of the tree.  Similarly, to find the node having the largest value, we will traverse from root to the right sub-tree unless we reach the end of the tree.\n",
        "\n",
        "<img src=\"https://obj.whitehatjr.com/373a7832-4c51-4ccd-9815-90532a560d2d.PNG\"/>\n",
        "\n",
        "In the above tree, the minimum node is node 1 and the maximum node is node 9.\n",
        "\n",
        "Let us implement two functions in Python that returns the minimum and maximum node. Follow the steps given below:\n",
        "\n",
        "1. Create a `Node` class and define `insert()` function as done in **Task 2: Inserting a New Node**.\n",
        "\n",
        "2. Create a `find_min()` function in the `Node` class to find the minimum node. This function accepts `self` as an argument. Inside this function,\n",
        "  - Store the current node in a variable `current` as follows:\n",
        "    `current = self`\n",
        "  - Initiate a `while` loop that continues to loop unless the last left node is None. In this loop, keep obtaining the left node by updating the value of the `current` variable to `current.left`. \n",
        "  - Return the data element of the `current` node.\n",
        "\n",
        "2. Create a function `find_max()` in the `Node` class to find the maximum node. This function accepts `self` as an argument. Inside this function,\n",
        "  - Store the current node in a variable `current` as follows:\n",
        "    `current = self`\n",
        "  - Initiate a `while` loop that continues to loop unless the last right node is None. In this loop, keep obtaining the right node by updating the value of the `current` variable to `current.right`. \n",
        "  - Return the data element of the `current` node.\n",
        "\n",
        "\n",
        "4. Create a function `print_tree()` as done in **Task 2: Inserting a New Node**.\n",
        "\n",
        "5. Create a node having a data value as `12`. This will be the root node. Insert three more nodes having data elements `6`, `14`, and `3`. Call the `print_tree()` function to print the tree. Call the `find_min()` and `find_max()` functions and print the minimum and maximum values in a BST.\n",
        "\n",
        "\n"
      ]
    },
    {
      "cell_type": "code",
      "metadata": {
        "id": "PpwZkIG9hl1G",
        "colab": {
          "base_uri": "https://localhost:8080/"
        },
        "outputId": "e91beab3-5db5-42ca-9149-62597e90d9b4"
      },
      "source": [
        "from IPython.core.display import set_matplotlib_close\n",
        "# S4.1: Search for a value in a BST.\n",
        "# Create 'Node' class\n",
        "class Newnode:\n",
        "  def __init__(self,data):\n",
        "    self.data=data\n",
        "    self.left=None\n",
        "    self.right=None\n",
        "\n",
        "  def insert_node(self,node):\n",
        "    if self.data:\n",
        "      if node<self.data:\n",
        "        if self.left is None:\n",
        "          self.left=Newnode(node)\n",
        "        else:\n",
        "          self.left.insert_node(node)\n",
        "      elif node>self.data:\n",
        "        if self.right is None:\n",
        "          self.right=Newnode(node)\n",
        "        else:\n",
        "          self.right.insert_node(node)\n",
        "    else:\n",
        "      self.data=node \n",
        "    \n",
        "  def search(self,item):\n",
        "    if item<self.data:\n",
        "      if self.left is None:\n",
        "        print(f'{item} not there')\n",
        "      else:\n",
        "        return self.left.search(item)\n",
        "    elif item>self.data:\n",
        "      if self.right is None:\n",
        "        print(f'{item} not there')\n",
        "      else:\n",
        "        return self.right.search(item)\n",
        "    else:\n",
        "      print(f'{item} item is found')\n",
        "\n",
        "  def find_min(self):\n",
        "    current=self\n",
        "    while current.left:\n",
        "      current=current.left\n",
        "    return current.data\n",
        "  \n",
        "  def find_max(self):\n",
        "    current=self\n",
        "    while current.right:\n",
        "      current=current.right\n",
        "    return current.data\n",
        "\n",
        "\n",
        "\n",
        "\n",
        "  def print_tree(self):\n",
        "    if self.left:\n",
        "      self.left.print_tree()\n",
        "    \n",
        "    print(self.data)\n",
        "    if self.right:\n",
        "      self.right.print_tree()\n",
        "\n",
        "root=Newnode(10)\n",
        "root.insert_node(6)\n",
        "root.insert_node(14)\n",
        "root.insert_node(3)\n",
        "root.print_tree()\n",
        "root.search(10)\n",
        "print(root.find_min())\n",
        "print(root.find_max())\n",
        "\n",
        "\n",
        "  # Define 'insert()' function to insert nodes.\n",
        "   \n",
        "  \n",
        "  # Create a 'find_min' function to find the minimum node.\n",
        "   \n",
        "\n",
        "   # Create a 'find_max' function to find the maximum node.\n",
        "   \n",
        "\n",
        "# Print the tree\n",
        "   \n"
      ],
      "execution_count": null,
      "outputs": [
        {
          "output_type": "stream",
          "name": "stdout",
          "text": [
            "3\n",
            "6\n",
            "10\n",
            "14\n",
            "10 item is found\n",
            "3\n",
            "14\n"
          ]
        }
      ]
    },
    {
      "cell_type": "markdown",
      "metadata": {
        "id": "nsQ3Fg_gjOA2"
      },
      "source": [
        "In the above code, the `while` loop in the `find_min()` function  continues to obtain the left node unless the last left node points to None. \n",
        "\n",
        "Similarly, the `while` loop in the `find_max()` function continues to obtain the right node unless the last right node points to None. \n",
        "\n",
        "Thus in today's class, we learned the basic tree terminologies and binary tree data structure. In the next class, we will learn another important data structure called Graphs.\n",
        "\n",
        "\n"
      ]
    },
    {
      "cell_type": "markdown",
      "metadata": {
        "id": "_h8J9Y_W1Bc6"
      },
      "source": [
        "---"
      ]
    }
  ]
}