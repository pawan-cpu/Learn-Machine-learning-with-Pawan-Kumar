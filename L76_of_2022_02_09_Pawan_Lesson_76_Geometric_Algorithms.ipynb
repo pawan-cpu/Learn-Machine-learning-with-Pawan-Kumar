{
  "nbformat": 4,
  "nbformat_minor": 0,
  "metadata": {
    "colab": {
      "name": "L76 of 2022-02-09_Pawan_Lesson 76 - Geometric Algorithms",
      "provenance": [],
      "collapsed_sections": [],
      "include_colab_link": true
    },
    "kernelspec": {
      "name": "python3",
      "display_name": "Python 3"
    }
  },
  "cells": [
    {
      "cell_type": "markdown",
      "metadata": {
        "id": "view-in-github",
        "colab_type": "text"
      },
      "source": [
        "<a href=\"https://colab.research.google.com/github/pawan-cpu/Learn-Python-with-Pawan-Kumar/blob/main/L76_of_2022_02_09_Pawan_Lesson_76_Geometric_Algorithms.ipynb\" target=\"_parent\"><img src=\"https://colab.research.google.com/assets/colab-badge.svg\" alt=\"Open In Colab\"/></a>"
      ]
    },
    {
      "cell_type": "markdown",
      "metadata": {
        "id": "Ihd77d0TKeeL"
      },
      "source": [
        "# Lesson 76: Geometric Algorithms\n",
        "\n",
        "\n",
        "\n"
      ]
    },
    {
      "cell_type": "markdown",
      "metadata": {
        "id": "iugzEIKfToq0"
      },
      "source": [
        "---"
      ]
    },
    {
      "cell_type": "markdown",
      "metadata": {
        "id": "KfLwq9jvzfJj"
      },
      "source": [
        "### Teacher-Student Tasks\n",
        "\n",
        "In this class, we will learn to implement geometric algorithms.\n",
        "These algorithms are designed to solve geometric problems. Let us explore some of the geometric problems and their solution.\n"
      ]
    },
    {
      "cell_type": "markdown",
      "metadata": {
        "id": "leby584QKv6u"
      },
      "source": [
        "---"
      ]
    },
    {
      "cell_type": "markdown",
      "metadata": {
        "id": "2R3KoXX7KwW1"
      },
      "source": [
        "\n",
        "#### Task 1: Intersection of Two Line Segments\n",
        "\n",
        "Given two line segments ($x1$, $y1$) and ($x2$,  $y2$). We need to determine whether the given line segments intersect with each other.\n",
        "\n",
        "Both line segments are said to intersect each other when the following two cases are satisfied when:\n",
        "\n",
        "1. ($x1$, $x2$,  $y1$) and ($x1$, $x2$, $y2$) have a different orientation.\n",
        "2. ($y1$,  $y2$, $x1$) and ($y1$,  $y2$, $x2$) have a different orientation.\n",
        "\n",
        "There is another condition is when ($x1$, $x2$,  $y1$), ($x1$, $x2$, $y2$), ($y1$,  $y2$, $x1$), ($y1$,  $y2$, $x2$) are collinear.\n",
        "\n",
        "Let us first understand the term orientation.\n",
        "\n",
        "**Orientation:**\n",
        "Orientation of an ordered triplet of points in the plane can be:\n",
        "\n",
        "- Clockwise \n",
        "\n",
        "- Counterclockwise \n",
        "\n",
        "- Collinear \n",
        "\n",
        "The following are the different possible orientations of (a, b, c)\n",
        "\n",
        "1. Clockwise:\n",
        "\n",
        "  <center><img src=\"https://s3-whjr-v2-prod-bucket.whjr.online/3c536641-7cba-4fde-a756-90221058a6ab.png\"/></center>\n",
        "\n",
        "2. Counterclockwise:\n",
        "\n",
        "  <center><img src=\"https://s3-whjr-v2-prod-bucket.whjr.online/c21fd0fd-9e6d-4e93-be66-624575799c05.png\"/></center>\n",
        "\n",
        "3. Collinear:\n",
        "\n",
        "  <center><img src=\"https://s3-whjr-v2-prod-bucket.whjr.online/9f16cbba-73cf-46ac-bc39-8201795a6355.png\"/></center>\n",
        "\n",
        "Two segments ($x1$, $y1$) and ($x2$, $y2$) intersect if and only if one of the following two conditions is verified\n",
        "\n",
        "**1. General Case:** \n",
        " - ($x1$, $y1$, $x2$) and ($x1$, $y1$, $y2$) have different orientations. \n",
        " - ($x2$, $y2$, $x1$) and ($x2$, $y2$, $y1$) have different orientations.\n",
        "\n",
        "  **Examples:**\n",
        "  1. In the example given below, orientations of ($x1$, $y1$, $x2$) and ($x1$, $y1$, $y2$) are different. Orientations of ($x2$, $y2$, $x1$) and ($x2$, $y2$, $y1$) are also different.\n",
        "\n",
        "   <img src=\"https://s3-whjr-v2-prod-bucket.whjr.online/866fe328-01df-4cc5-b33e-71f50558121d.png\"/>\n",
        "\n",
        "  2.  In the example given below, orientations of ($x1$, $y1$, $x2$) and ($x1$, $y1$, $y2$) are different. Orientations of ($x2$, $y2$, $x1$) and ($x2$, $y2$, $y1$) are same.\n",
        "\n",
        "  <img src=\"https://s3-whjr-v2-prod-bucket.whjr.online/182f4f8a-49f9-4548-8de5-54d68243021a.png\"/>\n",
        "\n",
        "**2. Special Case:**\n",
        "\n",
        "- ($x1$, $y1$, $x2$), ($x1$, $y1$, $y2$), ($x2$, $y2$, $x1$), and ($x2$, $y2$, $y1$) are all collinear. \n",
        "- The $x$-projections of ($x1$, $y1$) and ($x2$, $y2$) intersect. \n",
        "- The $y$-projections of ($x1$, $y1$) and ($x2$, $y2$) intersect.\n",
        "\n",
        "**Example:**\n",
        "\n",
        "In the example given below, all points are collinear. The $x$-projections of ($x1$, $y1$) and ($x2$, $y2$) intersect. The $y$-projections of ($x1$, $y1$) and ($x2$, $y2$) intersect.\n",
        "\n",
        "  <img src=\"https://s3-whjr-v2-prod-bucket.whjr.online/9323a2fc-3d88-4dd2-bb5a-65e1e0317407.PNG\"/>\n",
        "\n",
        "Now let's implement the algorithm to check whether two line segments intersect or not with help of the below steps:\n",
        "\n",
        "1. Define a class `Point` with two class variables $x$ and $y$.\n",
        "\n",
        "2. Create a function `onSegment` that takes 3 collinear points ($p$, $q$ and $r$) as input and check whether point $q$ lies on line segment $pr$.\n",
        "\n",
        "3. Create a function `orientation` that takes 3 collinear points ($p$, $q$ and $r$) as input and finds the orientation of an ordered triplet ($p$,$q$,$r$).\n",
        "\n",
        "4. The `orientation` function should return the following values:\n",
        "\n",
        " - $0$ : Colinear points\n",
        "\t\n",
        " - $1$ : Clockwise points\n",
        "\n",
        " - $2$ : Counterclockwise\n",
        "\n",
        "5. Create the main function `doIntersect` that takes 4 inputs ($p1$, $q1$, $p2$, $q2$), where $p1q1$ and $p2q2$ are two line segments.\n",
        "\n",
        "6. The `doIntersect` function should check whether the line segments $p1q1$ and $p2q2$ intersect with the help of `onSegment` and `orientation` function and if yes, return `True`."
      ]
    },
    {
      "cell_type": "code",
      "metadata": {
        "id": "2K2iyS369zUz"
      },
      "source": [
        "class Point:\n",
        "\tdef __init__(self, x, y):\n",
        "\t\tself.x = x\n",
        "\t\tself.y = y\n",
        "\n",
        "# Given three colinear points p, q, r, the function checks if\n",
        "# point q lies on line segment 'pr'\n",
        "def onSegment(p, q, r):\n",
        "\tif ( (q.x <= max(p.x, r.x))\t and (q.x >= min(p.x, r.x)) and\n",
        "\t\t(q.y <= max(p.y, r.y)) and (q.y >= min(p.y, r.y))):\n",
        "\t\treturn True\n",
        "\treturn False\n",
        "\n",
        "def orientation(p, q, r):\n",
        "\t# to find the orientation of an ordered triplet (p,q,r)\n",
        "\t# function returns the following values:\n",
        "\t# 0 : Colinear points\n",
        "\t# 1 : Clockwise points\n",
        "\t# 2 : Counterclockwise\n",
        "\t\n",
        "\n",
        "\tval = (float(q.y - p.y) * (r.x - q.x)) - (float(q.x - p.x) * (r.y - q.y))\n",
        "\tif (val > 0):\n",
        "\t\t\n",
        "\t\t# Clockwise orientation\n",
        "\t\treturn 1\n",
        "\telif (val < 0):\n",
        "\t\t\n",
        "\t\t# Counterclockwise orientation\n",
        "\t\treturn 2\n",
        "\telse:\n",
        "\t\t\n",
        "\t\t# Colinear orientation\n",
        "\t\treturn 0\n",
        "\n",
        "# The main function that returns true if\n",
        "# the line segment 'p1q1' and 'p2q2' intersect.\n",
        "def doIntersect(p1,q1,p2,q2):\n",
        "\t\n",
        "\t# Find the 4 orientations required for\n",
        "\t# the general and special cases\n",
        "\to1 = orientation(p1, q1, p2)\n",
        "\to2 = orientation(p1, q1, q2)\n",
        "\to3 = orientation(p2, q2, p1)\n",
        "\to4 = orientation(p2, q2, q1)\n",
        "\n",
        "\t# General case\n",
        "\tif ((o1 != o2) and (o3 != o4)):\n",
        "\t\treturn True\n",
        "\n",
        "\t# Special Cases\n",
        "\n",
        "\t# p1 , q1 and p2 are colinear and p2 lies on segment p1q1\n",
        "\tif ((o1 == 0) and onSegment(p1, p2, q1)):\n",
        "\t\treturn True\n",
        "\n",
        "\t# p1 , q1 and q2 are colinear and q2 lies on segment p1q1\n",
        "\tif ((o2 == 0) and onSegment(p1, q2, q1)):\n",
        "\t\treturn True\n",
        "\n",
        "\t# p2 , q2 and p1 are colinear and p1 lies on segment p2q2\n",
        "\tif ((o3 == 0) and onSegment(p2, p1, q2)):\n",
        "\t\treturn True\n",
        "\n",
        "\t# p2 , q2 and q1 are colinear and q1 lies on segment p2q2\n",
        "\tif ((o4 == 0) and onSegment(p2, q1, q2)):\n",
        "\t\treturn True\n",
        "\n",
        "\t# If none of the cases\n",
        "\treturn False\n"
      ],
      "execution_count": null,
      "outputs": []
    },
    {
      "cell_type": "code",
      "source": [
        "# Driver program to test above functions:\n",
        "p1 = Point(1, 1)\n",
        "q1 = Point(10, 1)\n",
        "p2 = Point(1, 2)\n",
        "q2 = Point(10, 2)\n",
        "\n",
        "if doIntersect(p1, q1, p2, q2):\n",
        "\tprint(\"Yes\")\n",
        "else:\n",
        "\tprint(\"No\")\n",
        "\n",
        "p1 = Point(10, 0)\n",
        "q1 = Point(0, 10)\n",
        "p2 = Point(0, 0)\n",
        "q2 = Point(10,10)\n",
        "\n",
        "if doIntersect(p1, q1, p2, q2):\n",
        "\tprint(\"Yes\")\n",
        "else:\n",
        "\tprint(\"No\")\n",
        "\n",
        "p1 = Point(-5,-5)\n",
        "q1 = Point(0, 0)\n",
        "p2 = Point(1, 1)\n",
        "q2 = Point(10, 10)\n",
        "\n",
        "if doIntersect(p1, q1, p2, q2):\n",
        "\tprint(\"Yes\")\n",
        "else:\n",
        "\tprint(\"No\")\n",
        "\n"
      ],
      "metadata": {
        "id": "5_d2T4GCKxuH",
        "colab": {
          "base_uri": "https://localhost:8080/"
        },
        "outputId": "58b10a8e-3630-416a-f78b-91dbd84e4cc8"
      },
      "execution_count": null,
      "outputs": [
        {
          "output_type": "stream",
          "name": "stdout",
          "text": [
            "No\n",
            "Yes\n",
            "No\n"
          ]
        }
      ]
    },
    {
      "cell_type": "markdown",
      "metadata": {
        "id": "lh9Ml1BFpVpQ"
      },
      "source": [
        "---"
      ]
    },
    {
      "cell_type": "markdown",
      "metadata": {
        "id": "py6h3IxX-Btr"
      },
      "source": [
        "#### Task 2: Check whether a given point lies inside a triangle or not\n",
        "\n",
        "Given a triangle ABC and a point P.  We need to determine whether point P lies inside the triangle ABC or not.\n",
        "\n",
        "<img src=\"https://obj.whitehatjr.com/eee0e643-03f0-4ac5-b421-8cd6d48d7934.PNG\"/>\n",
        "\n",
        "The steps to be followed are:\n",
        "1. Calculate area of the given triangle, i.e. \n",
        "\n",
        "  Area of the triangle ABC is: \n",
        "  $$A = \\frac{ x1(y2 – y3) + x2(y3 – y1) + x3(y1-y2)}{2} $$\n",
        "\n",
        "2. Calculate area of the triangle PAB using the same formula. Let this area be $A1$. \n",
        "\n",
        "3. Calculate area of the triangle PBC. Let this area be $A2$. \n",
        "4. Calculate area of the triangle PAC. Let this area be $A3$. \n",
        "5. If P lies inside the triangle, then $A1 + A2 + A3$ must be equal to $A$, i.e.\n",
        "\n",
        "    if $A1 + A2 + A3=A$, then return `True` else `False`.\n",
        "\n"
      ]
    },
    {
      "cell_type": "code",
      "metadata": {
        "id": "FmiLHac0bk9q",
        "colab": {
          "base_uri": "https://localhost:8080/"
        },
        "outputId": "5d49b2f2-072f-4413-9e5f-35d80a753634"
      },
      "source": [
        "# T2.1: A Python function to calculate area of triangle formed by (x1, y1),\n",
        "# (x2, y2) and (x3, y3)\n",
        "\n",
        "def area(x1, y1, x2, y2, x3, y3):\n",
        "\n",
        "\treturn abs((x1 * (y2 - y3) + x2 * (y3 - y1)\n",
        "\t\t\t\t+ x3 * (y1 - y2)) / 2.0)\n",
        "\n",
        "\n",
        "# A function to check whether point P(x, y) lies inside the triangle formed by\n",
        "# A(x1, y1), B(x2, y2) and C(x3, y3)\n",
        "def isInside(x1, y1, x2, y2, x3, y3, x, y):\n",
        "\n",
        "\t# Calculate area of triangle ABC\n",
        "\tA = area (x1, y1, x2, y2, x3, y3)\n",
        "\n",
        "\t# Calculate area of triangle PBC\n",
        "\tA1 = area (x, y, x2, y2, x3, y3)\n",
        "\t\n",
        "\t# Calculate area of triangle PAC\n",
        "\tA2 = area (x1, y1, x, y, x3, y3)\n",
        "\t\n",
        "\t# Calculate area of triangle PAB\n",
        "\tA3 = area (x1, y1, x2, y2, x, y)\n",
        "\t\n",
        "\t# Check if sum of A1, A2 and A3\n",
        "\t# is same as A\n",
        "\tif(A == A1 + A2 + A3):\n",
        "\t\treturn True\n",
        "\telse:\n",
        "\t\treturn False\n",
        "    \n",
        "# Let us check whether the point P(10, 15) lies inside the triangle formed by\n",
        "# A(0, 0), B(20, 0) and C(10, 30)\n",
        "if (isInside(0, 0, 20, 0, 10, 30, 10, 15)):\n",
        "\tprint('Inside')\n",
        "else:\n",
        "\tprint('Not Inside')\n",
        " \n",
        "if (isInside(0, 0, 20, 0, 10, 30, -40, -15)):\n",
        "\tprint('Inside')\n",
        "else:\n",
        "\tprint('Not Inside')"
      ],
      "execution_count": null,
      "outputs": [
        {
          "output_type": "stream",
          "name": "stdout",
          "text": [
            "Inside\n",
            "Not Inside\n"
          ]
        }
      ]
    },
    {
      "cell_type": "markdown",
      "metadata": {
        "id": "hH7TgclCpUWq"
      },
      "source": [
        "---"
      ]
    },
    {
      "cell_type": "markdown",
      "metadata": {
        "id": "xZ3c4yVJcv33"
      },
      "source": [
        "#### Task 3: Overlapping of Rectangles\n",
        "\n",
        "Consider two rectangles A and B. Determine whether these two rectangles overlap.\n",
        "\n",
        "A rectangle is represented using two coordinates, the top left corner, and the bottom right corner. Thus, we have four coordinate points (left1, right1) and (left2, right2).\n",
        " - **left1:** Top left coordinate of the first rectangle. \n",
        " - **right1:** Bottom right coordinate of the first rectangle.\n",
        " - **left2:** Top left coordinate of the second rectangle. \n",
        " - **right2:** Bottom right coordinate of the second rectangle.\n",
        "\n",
        "\n",
        "<img src=\"https://obj.whitehatjr.com/2f950769-c469-40cb-b1d8-3d28513fb67e.PNG\"/>\n",
        "\n",
        "The given two rectangles A and B will not overlap if one of the following two conditions is true: \n",
        "\n",
        "1. One of the rectangles is above the top edge of another rectangle. \n",
        "\n",
        "<center>\n",
        "<img src=\"https://obj.whitehatjr.com/fca404a7-2455-45d3-a303-69b27ef041de.PNG\"/></center>\n",
        "\n",
        "2. One of the rectangles is on the left side of the left edge of another rectangle.\n",
        "\n",
        "<center>\n",
        "<img src=\"https://obj.whitehatjr.com/2c0d84df-b18b-4faf-9f47-06fc26c45265.PNG\"/></center>\n",
        "\n",
        "Now let's implement the algorithm to determine whether rectangles $A$ and $B$ overlap or not with help of the below steps:\n",
        "\n",
        "1. Define a class `Point` with two class variables $x$ and $y$.\n",
        "\n",
        "2. Create a function `Overlap` that takes 4 values (`left1`, `right1`, `left2`, `right2`) i.e. the height and width of 2 rectangles. \n",
        "\n",
        "3. Check for the following 3 conditions inside `overlap()` function:\n",
        "\n",
        " - Check whether the rectangle is an actual line.\n",
        "\t \n",
        "    For example : if `left1.x == right1.x or left1.y == right2.y or left2.x == right2.x or left2.y == right2.y`\n",
        "\n",
        "    It means that the points are the same and a rectangle cannot be formed from these points. Hence, return `False`.\n",
        "\n",
        " -  Check whether one rectangle is on left side of other rectangle. \n",
        "\n",
        "    For example if `left1.x >= right2.x or left2.x >= right1.x` \n",
        "\n",
        "    It means that one rectangle is present on left side of the other rectangles and hence, they both do not overlap. Hence, return `False`.\n",
        "\n",
        " -  Check whether one rectangle is above other rectangle. \n",
        "\n",
        "    For example if `left1.y <= right2.y or left2.y <= right1.y` \n",
        "\n",
        "    It means that one rectangle is present above other rectangles and hence, they both do not overlap. Hence, return `False`.\n",
        "\n",
        "4. Return `True` in the end, if all the above 3 conditions do not get satisfied. It denotes that two rectangles overlap each other.\n",
        "    \n"
      ]
    },
    {
      "cell_type": "code",
      "metadata": {
        "id": "VEwdQEh5lzkI"
      },
      "source": [
        "# T3.1: Python program to check if rectangles overlap\n",
        "class Point:\n",
        "\tdef __init__(self, x, y):\n",
        "\t\tself.x = x\n",
        "\t\tself.y = y\n",
        "\n",
        "def Overlap(left1, right1, left2, right2):\n",
        "\t\n",
        "\t# To check if either rectangle is actually a line\n",
        "\t# For example : left1 ={-1,0} right1={1,1} left2={0,-1} right2={0,1}\n",
        "\t\n",
        "\tif (left1.x == right1.x or left1.y == right2.y or left2.x == right2.x or left2.y == right2.y):\n",
        "\t\t# the line cannot have positive overlap\n",
        "\t\treturn False\n",
        "\t\n",
        "\t\n",
        "\t# If one rectangle is on left side of other\n",
        "\tif(left1.x >= right2.x or left2.x >= right1.x):\n",
        "\t\treturn False\n",
        "\n",
        "\t# If one rectangle is above other\n",
        "\tif(left1.y <= right2.y or left2.y <= right1.y):\n",
        "\t\treturn False\n",
        "\n",
        "\treturn True\n"
      ],
      "execution_count": null,
      "outputs": []
    },
    {
      "cell_type": "markdown",
      "metadata": {
        "id": "RsUAwEKjhUeI"
      },
      "source": [
        "We have successfully created the function to check whether two rectangles overlap. Now let's execute this function with help of an example:"
      ]
    },
    {
      "cell_type": "code",
      "metadata": {
        "id": "qsWVyq7Kl84A",
        "colab": {
          "base_uri": "https://localhost:8080/"
        },
        "outputId": "66101008-b5e0-4321-c8c2-bb8cceab4285"
      },
      "source": [
        "# S3.1: Call the above function and pass values. \n",
        "left1 = Point(0, 10)\n",
        "right1 = Point(10, 0)\n",
        "left2 = Point(5, 5)\n",
        "right2 = Point(15, 0)\n",
        "\n",
        "if(Overlap(left1, right1, left2, right2)):\n",
        "  print(\"Rectangles Overlap\")\n",
        "else:\n",
        "\t\tprint(\"Rectangles Don't Overlap\")"
      ],
      "execution_count": null,
      "outputs": [
        {
          "output_type": "stream",
          "name": "stdout",
          "text": [
            "Rectangles Overlap\n"
          ]
        }
      ]
    },
    {
      "cell_type": "markdown",
      "metadata": {
        "id": "Nu2x6VxChb-4"
      },
      "source": [
        "As you can see in the output we have found that two rectangles overlap each other.\n",
        "\n",
        "Hence we have successfully implemented a program to find whether a two rectangles overlap or not."
      ]
    },
    {
      "cell_type": "markdown",
      "metadata": {
        "id": "t3PMdrU7mYNv"
      },
      "source": [
        "We will stop here. In the next class, we will learn to implement graph algorithms in Python."
      ]
    }
  ]
}