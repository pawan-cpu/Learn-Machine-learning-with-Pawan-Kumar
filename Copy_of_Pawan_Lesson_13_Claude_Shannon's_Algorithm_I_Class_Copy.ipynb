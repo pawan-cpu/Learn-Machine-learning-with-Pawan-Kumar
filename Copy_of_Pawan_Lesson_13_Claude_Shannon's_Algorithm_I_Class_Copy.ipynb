{
  "nbformat": 4,
  "nbformat_minor": 0,
  "metadata": {
    "colab": {
      "name": "Copy of Pawan  Lesson 13 - Claude Shannon's Algorithm I - Class Copy.ipynb",
      "provenance": [],
      "collapsed_sections": [],
      "include_colab_link": true
    },
    "kernelspec": {
      "name": "python3",
      "display_name": "Python 3"
    }
  },
  "cells": [
    {
      "cell_type": "markdown",
      "metadata": {
        "id": "view-in-github",
        "colab_type": "text"
      },
      "source": [
        "<a href=\"https://colab.research.google.com/github/pawan-cpu/Learn-Python-with-Pawan-Kumar/blob/main/Copy_of_Pawan_Lesson_13_Claude_Shannon's_Algorithm_I_Class_Copy.ipynb\" target=\"_parent\"><img src=\"https://colab.research.google.com/assets/colab-badge.svg\" alt=\"Open In Colab\"/></a>"
      ]
    },
    {
      "cell_type": "markdown",
      "metadata": {
        "id": "gGOahF4k7-t2"
      },
      "source": [
        "# Lesson 13: Claude Shannon's Algorithm I"
      ]
    },
    {
      "cell_type": "markdown",
      "metadata": {
        "id": "Rln6RSi87A34"
      },
      "source": [
        "---"
      ]
    },
    {
      "cell_type": "markdown",
      "metadata": {
        "id": "FeyN19o4gC_P"
      },
      "source": [
        "### Teacher-Student Tasks\n",
        "\n",
        "In the previous lesson, we learned how to create NumPy arrays and various NumPy array functions which allows NumPy array manipulation to access data and subarrays and to reshape the arrays.\n",
        "\n",
        "In this class, we will explore three-dimensional arrays and also understand and implement Claude Shannon's  Mind Reading algorithm.\n"
      ]
    },
    {
      "cell_type": "markdown",
      "metadata": {
        "id": "PdVMu8FJP87f"
      },
      "source": [
        "---"
      ]
    },
    {
      "cell_type": "markdown",
      "metadata": {
        "id": "7G9vb6JZ-lGv"
      },
      "source": [
        "#### Task 1: Three-Dimensional NumPy Arrays\n",
        "\n",
        "An array that has a two-dimensional arrays  as its elements is called three-dimensional array. \n",
        "\n",
        "Let's create an array having each item as 1 with dimensions 5 blocks, 3 rows, and 3 columns using `ones()` function from the `numpy` module:"
      ]
    },
    {
      "cell_type": "code",
      "metadata": {
        "id": "nRmqQEeaP7eg",
        "colab": {
          "base_uri": "https://localhost:8080/"
        },
        "outputId": "4a590e01-4168-4a43-a457-76f07ee7d4ca"
      },
      "source": [
        "# S1.1: Create an array containing '1' as its items using the 'ones()' function from the 'numpy' module.\n",
        "import numpy as np\n",
        "# Step 1: Always import the 'numpy' module at the beginning of the code and give it an alias (or nickname) called np. \n",
        "# We will always refer to the 'numpy' module as 'np' throughout the code.\n",
        "ones=np.ones((5,3,3))\n",
        "print(ones)\n",
        "\n",
        "# Step 2: Call 'ones()' function from the np module using the dot operator.\n",
        "# The 'ones()' function, requires two inputs: the dimension of the array and data-type of the items which in this case is 'int'. \n"
      ],
      "execution_count": null,
      "outputs": [
        {
          "output_type": "stream",
          "name": "stdout",
          "text": [
            "[[[1. 1. 1.]\n",
            "  [1. 1. 1.]\n",
            "  [1. 1. 1.]]\n",
            "\n",
            " [[1. 1. 1.]\n",
            "  [1. 1. 1.]\n",
            "  [1. 1. 1.]]\n",
            "\n",
            " [[1. 1. 1.]\n",
            "  [1. 1. 1.]\n",
            "  [1. 1. 1.]]\n",
            "\n",
            " [[1. 1. 1.]\n",
            "  [1. 1. 1.]\n",
            "  [1. 1. 1.]]\n",
            "\n",
            " [[1. 1. 1.]\n",
            "  [1. 1. 1.]\n",
            "  [1. 1. 1.]]]\n"
          ]
        }
      ]
    },
    {
      "cell_type": "markdown",
      "metadata": {
        "id": "qS_aWrloQTe2"
      },
      "source": [
        "Similarly, let us create a three-dimensional array with two 2D arrays, both containing two arrays with the values 1, 2, 3 and 4, 5, 6 using `np.array()` function."
      ]
    },
    {
      "cell_type": "code",
      "metadata": {
        "id": "xnFfIAzwQjrW"
      },
      "source": [
        "# S1.2: Create a 3D array having 2 blocks, 2 rows and 3 columns.\n",
        "array1=np.array"
      ],
      "execution_count": null,
      "outputs": []
    },
    {
      "cell_type": "code",
      "metadata": {
        "colab": {
          "base_uri": "https://localhost:8080/"
        },
        "id": "6yVwoF5awpZH",
        "outputId": "a115a175-0986-4945-885f-6140552c565d"
      },
      "source": [
        "arr = np.array([[[1, 2, 3], [4, 5, 6]], [[1, 2, 3], [4, 5, 6]]])\n",
        "arr"
      ],
      "execution_count": null,
      "outputs": [
        {
          "output_type": "execute_result",
          "data": {
            "text/plain": [
              "array([[[1, 2, 3],\n",
              "        [4, 5, 6]],\n",
              "\n",
              "       [[1, 2, 3],\n",
              "        [4, 5, 6]]])"
            ]
          },
          "metadata": {},
          "execution_count": 3
        }
      ]
    },
    {
      "cell_type": "markdown",
      "metadata": {
        "id": "KKUy94SZt32y"
      },
      "source": [
        "Thus, we can use `np.array()` function to create a three dimensional array having desired values."
      ]
    },
    {
      "cell_type": "markdown",
      "metadata": {
        "id": "0k1TqYciRCz-"
      },
      "source": [
        "---"
      ]
    },
    {
      "cell_type": "markdown",
      "metadata": {
        "id": "Am2_EqLCRDo1"
      },
      "source": [
        "#### Task 2: Array Length\n",
        "\n",
        "Let's begin the lesson with array length. The length of an array (or array length) is: \n",
        "\n",
        "- The number of items in a one-dimensional array.\n",
        "\n",
        "- The number of rows in a two-dimensional array.\n",
        "\n",
        "- The number of blocks in a three-dimensional array.\n",
        "\n",
        "To calculate the length of a NumPy array, you can use the `len()` function.\n",
        "\n",
        "Let's create an array for all the three different dimensions and calculate their lengths using the `len()` function:\n",
        "\n",
        "\n"
      ]
    },
    {
      "cell_type": "code",
      "metadata": {
        "id": "FEAfP6mBRMPP",
        "colab": {
          "base_uri": "https://localhost:8080/"
        },
        "outputId": "c2102d5d-1101-4a78-aebb-b43fca965f53"
      },
      "source": [
        "# S2.1: Create a NumPy array for all the three different dimensions and calculate their lengths.\n",
        "print(len(ones))\n",
        "ltn=np.arange(1,25)\n",
        "array5=np.arange(1,29).reshape(4,7)\n",
        "print(len(ltn))\n",
        "print(len(array5))\n"
      ],
      "execution_count": null,
      "outputs": [
        {
          "output_type": "stream",
          "name": "stdout",
          "text": [
            "5\n",
            "24\n",
            "4\n"
          ]
        }
      ]
    },
    {
      "cell_type": "markdown",
      "metadata": {
        "id": "9Q_pf2F3RTZ3"
      },
      "source": [
        "**Note:** You do not have to create the arrays with the exact same items. You can choose to have different items in the arrays. \n",
        "\n",
        "As you can see, the `len()` function gives different outputs for multi-dimensional NumPy arrays."
      ]
    },
    {
      "cell_type": "markdown",
      "metadata": {
        "id": "QjvKDiAeRVje"
      },
      "source": [
        "---"
      ]
    },
    {
      "cell_type": "markdown",
      "metadata": {
        "id": "o-0DL5maRbP-"
      },
      "source": [
        "#### Task 3: The `size` Keyword\n",
        "\n",
        "To find the number of items in a NumPy array, you can use the `size` keyword. Regardless of dimensions, the `size` keyword will always return the number of items in a NumPy array:"
      ]
    },
    {
      "cell_type": "code",
      "metadata": {
        "id": "rqyPhL7sRfrv",
        "colab": {
          "base_uri": "https://localhost:8080/"
        },
        "outputId": "0d0e55f3-916f-4b3b-89b4-65b4711df713"
      },
      "source": [
        "# S3.1: Compute the number of items in the 'one_dim_ar', 'two_dim_ar' and 'three_dim_ar' NumPy arrays.\n",
        "print(ones.size)\n",
        "print(ltn.size)\n",
        "print(array5.size)\n"
      ],
      "execution_count": null,
      "outputs": [
        {
          "output_type": "stream",
          "name": "stdout",
          "text": [
            "45\n",
            "24\n",
            "28\n"
          ]
        }
      ]
    },
    {
      "cell_type": "markdown",
      "metadata": {
        "id": "dT_65modRwZA"
      },
      "source": [
        "**Note:** The `size` keyword is not available for a Python list.\n",
        "\n",
        "Hence, we can easily determine the total number of items in `numpy.ndarray` object without iterating through the entire array."
      ]
    },
    {
      "cell_type": "markdown",
      "metadata": {
        "id": "AV_YWOMLRxXw"
      },
      "source": [
        "---"
      ]
    },
    {
      "cell_type": "markdown",
      "metadata": {
        "id": "1tl4aWdaPa-B"
      },
      "source": [
        "#### Task 4: Claude Shannon Mind Reading algorithm\n",
        "\n",
        "The Mind Reader game algorithm is built around the machine invented by Claude Shannon in 1953. He named it \"A Mind Reading Machine\". It predicts a player's next move based on his/her previous inputs.\n",
        "\n",
        "\n",
        "\n",
        "**Note:** *The algorithm is quite complicated to understand and to create. For all practical purposes, you just need to know how to apply the algorithm. It is completely all right if you do not understand how to create this algorithm.*\n",
        "\n",
        "In this algorithm, the computer looks for certain patterns in the player inputs (`Heads` or `Tails`) and tries to remember them. Furthermore, it assumes that the player will follow these patterns the next time if the same situation arises. \n",
        "\n",
        "The computer also contains an element of randomness. If an assumed pattern is not repeated at least twice by the player, the machine predicts `Heads` or `Tails` randomly.\n",
        "\n",
        "The types of patterns remembered, involve the outcome of two successive plays, i.e., whether or not the player won on those plays and whether the player changed their choice between the plays and after the plays. \n",
        "\n",
        "There are 8 possible situations and, for each situation, a player can do two things. These 8 situations are:\n",
        "\n",
        "1. The player **wins**, plays the **same**, and **wins** again. The player then plays the same or plays differently.\n",
        "\n",
        "    - For example, a player plays `Heads`, wins, then plays `Heads` again and wins again. In the next attempt, he/she may play either `Heads` or `Tails`.\n",
        "\n",
        "2. The player **wins**, plays the **same**, and **loses**. The player then plays the same or plays differently.\n",
        "\n",
        "    - For example, a player plays `Heads`, wins, then plays `Heads` again and loses. In the next attempt, he/she may play either `Heads` or `Tails`.\n",
        "\n",
        "3. The player **wins**, plays **differently**, and **wins** again. The player then plays the same or plays differently.\n",
        "\n",
        "    - For example, a player plays `Heads`, wins, then plays `Tails`, and wins again. In the next attempt, he/she may play either `Heads` or `Tails`.\n",
        "\n",
        "4. The player **wins**, plays **differently**, and **loses**. The player then plays the same or plays differently.\n",
        "\n",
        "    - For example, a player plays `Heads`, wins, then plays `Tails` and loses. In the next attempt, he/she may play either `Heads` or `Tails`.\n",
        "\n",
        "5. The player **loses**, plays the **same**, and **wins**. The player then plays the same or plays differently.\n",
        "\n",
        "    - For example, a player plays `Heads`, loses, then plays `Heads` again and wins. In the next attempt, he/she may play either `Heads` or `Tails`.\n",
        "\n",
        "6. The player **loses**, plays the **same**, and **loses** again. The player then plays the same or plays differently.\n",
        "\n",
        "    - For example, a player plays `Heads`, loses, then plays `Heads` again and loses again. In the next attempt, he/she may play either `Heads` or `Tails`.\n",
        "\n",
        "7. The player **loses**, plays **differently**, and **wins**. The player then plays the same or plays differently.\n",
        "\n",
        "    - For example, a player plays `Heads`, loses, then plays `Tails` and wins. In the next attempt, he/she may play either `Heads` or `Tails`.\n",
        "\n",
        "8. The player **loses**, plays **differently**, and **loses** again. The player then plays the same or plays differently.\n",
        "\n",
        "    - For example, a player plays `Heads`, loses, then plays `Tails` and loses again. In the next attempt, he/she may play either `Heads` or `Tails`.\n",
        "\n",
        "Each situation corresponds to a different cell in the memory of a machine. Within a cell, two events are registered:\n",
        "\n",
        "1. Whether the last time this situation arose, the player played the same or different.\n",
        "\n",
        "2. Whether or not the behavior indicated in the first point, was a repeat of the same behavior in the preceding situation. \n",
        "\n",
        "Consider the situation **win**, **same**, and **lose**, i.e., the second situation out of the 8 possible situations.\n",
        "\n",
        "Suppose that the last time the second situation occurred, the player played **differently**. So **differently** is recorded in the first part of the memory cell. If at the preceding juncture, the second situation arose and the player again played **differently**, the second part of the memory cell registers this as a repeat.\n",
        "\n",
        "If this situation arises again, the machine will assume that this is a definite pattern in the player's behavior and will play accordingly. If the player does not repeat, the machine makes predictions randomly. The memory cells are always kept up to date.\n"
      ]
    },
    {
      "cell_type": "markdown",
      "metadata": {
        "id": "vL7dQK1WMYOj"
      },
      "source": [
        "Taking inspiration from Claude Shannon's \"A Mind Reading Machine\", in our algorithm, we will create a three-dimensional array having 2 blocks, 2 rows, and 2 columns to keep track of the last two player inputs and the current player input:\n",
        "\n",
        "```\n",
        "[[[0, 0],\n",
        "  [0, 0]],\n",
        "\n",
        " [[0, 0],\n",
        "  [0, 0]]]\n",
        "```\n",
        "\n",
        "So, for a combination of the last two player inputs and the current player input, if a situation is repeated then we will store `1` in the second column of the array otherwise, we will store `0`. \n",
        "\n",
        "\n",
        "Here's the implementation of Cluade Shannon's \"A Mind Reading Machine\" based algorithm in Python. We will cover half of it in this class and the remaining half in the next class as it is very complicated and a very lengthy algorithm.\n",
        "\n",
        "```\n",
        "import random\n",
        "import numpy as np\n",
        "\n",
        "inputs = np.zeros(shape=(2, 2, 2), dtype=int) \n",
        "\n",
        "last_1 = 0\n",
        "last_2 = 0\n",
        "\n",
        "scores = [0, 0] # [computer_score, player_score]\n",
        "\n",
        "def update_inputs(current):\n",
        "  global last_1, last_2\n",
        "  if inputs[last_2][last_1][0] == current:\n",
        "    inputs[last_2][last_1][1] = 1 \n",
        "    inputs[last_2][last_1][0] = current\n",
        "  else:\n",
        "    inputs[last_2][last_1][1] = 0 \n",
        "    inputs[last_2][last_1][0] = current\n",
        "  \n",
        "  last_1 = current # current becomes last_1 \n",
        "  last_2 = last_1 # last_1 becomes last_2 \n",
        "    \n",
        "def prediction():\n",
        "  if inputs[last_2][last_1][1] == 1: \n",
        "    predict = inputs[last_2][last_1][0]    \n",
        "  else:\n",
        "    predict = random.randint(0, 1)  \n",
        "  return predict\n",
        "\n",
        "def update_scores(predicted, player_input):  \n",
        "  if predicted == player_input:\n",
        "    scores[0] = scores[0] + 1\n",
        "    print(\"\\nComputer Score:\", scores[0], \"\\nPlayer Score: \", scores[1]) \n",
        "        \n",
        "  else:\n",
        "    scores[1] = scores[0] + 1\n",
        "    print(\"\\nComputer Score:\", scores[0], \"\\nPlayer Score:\", scores[1]) \n",
        "\n",
        "def reset():\n",
        "  for i in range(2):\n",
        "    for j in range(2):\n",
        "      for k in range(2):\n",
        "        inputs[i][j][k] = 0\n",
        "  \n",
        "  for i in range(2):\n",
        "    scores[i] = 0\n",
        "\n",
        "def gameplay():\n",
        "  reset()\n",
        "  valid_entries = ['0', '1']\n",
        "  while True:\n",
        "    predicted = prediction()\n",
        "    player_input = input(\"\\nEnter either 1 or 0: \")\n",
        "    \n",
        "    while player_input not in valid_entries:\n",
        "      print(\"\\nInvalid Input!\")\n",
        "      player_input = input(\"Please enter either 1 or 0: \")\n",
        "    \n",
        "    player_input = int(player_input)  \n",
        "    update(player_input)\n",
        "    update_scores(predicted, player_input)\n",
        "        \n",
        "    if scores[0] == 50:\n",
        "      print(\"\\nBad Luck, Computer Wins!\\n\")\n",
        "      break\n",
        "        \n",
        "    elif scores[1] == 50:\n",
        "      print(\"\\nCongrats, You Won!\\n\")\n",
        "      break\n",
        "```\n",
        "\n",
        "Let's get started."
      ]
    },
    {
      "cell_type": "markdown",
      "metadata": {
        "id": "l_ahJm30UqfP"
      },
      "source": [
        "---"
      ]
    },
    {
      "cell_type": "markdown",
      "metadata": {
        "id": "6D8fIaMVC6dM"
      },
      "source": [
        "#### Task 5: Last Two Players Inputs\n",
        "\n",
        "Let's create two variables: `last_1` and `last_2` to keep a track of the last two inputs of a player. Also, let's set their initial values equal to `0`. "
      ]
    },
    {
      "cell_type": "code",
      "metadata": {
        "id": "HoQ6NypDBUaO"
      },
      "source": [
        "# S5.1: Create two variables; 'last_1' and 'last_2' with 0 as their initial values.\n"
      ],
      "execution_count": null,
      "outputs": []
    },
    {
      "cell_type": "markdown",
      "metadata": {
        "id": "M6zlCpmnxc8L"
      },
      "source": [
        "\n",
        "- `last_1` stores the last player input. \n",
        "\n",
        "- `last_2` stores the second-last player input.\n"
      ]
    },
    {
      "cell_type": "markdown",
      "metadata": {
        "id": "nYg8ypDcMCnt"
      },
      "source": [
        "\n",
        "\n",
        "---"
      ]
    },
    {
      "cell_type": "markdown",
      "metadata": {
        "id": "N3o05TxC_u4b"
      },
      "source": [
        "#### Task 6: NumPy Array\n",
        "\n",
        "Now, let's create a three-dimensional NumPy array which has 2 blocks, 2 rows, and 2 columns such that all the initial items are `0`. Let's store it in the `inputs` variable:\n",
        "\n",
        "```\n",
        "inputs = [[[0 0],\n",
        "           [0 0]],\n",
        "\n",
        "          [[0 0],\n",
        "           [0 0]]]\n",
        "```"
      ]
    },
    {
      "cell_type": "code",
      "metadata": {
        "id": "rRxf3tCIAMUZ"
      },
      "source": [
        "# S6.1: Create a 3D NumPy array of size (2, 2, 2) whose all the elements are 0.\n"
      ],
      "execution_count": null,
      "outputs": []
    },
    {
      "cell_type": "markdown",
      "metadata": {
        "id": "UdJPOfrTaLvx"
      },
      "source": [
        "The `inputs` array acts as a memory for the Mind Reader game. \n",
        "\n",
        "- The first column (`column_index = 0`) of the `inputs` array will store the current player input.\n",
        "\n",
        "- The second column (`column_index = 1`) will store whether a situation (out of the 8 possible situations) is repeated or not. The 8 possible situations are:\n",
        "\n",
        "|Situation|Second-Last Play|Last Play|Current Player Input|\n",
        "|-|-|-|-|\n",
        "|1.|`0`|`0`|`0`|\n",
        "|2.|`0`|`0`|`1`|\n",
        "|3.|`0`|`1`|`0`|\n",
        "|4.|`0`|`1`|`1`|\n",
        "|5.|`1`|`0`|`0`|\n",
        "|6.|`1`|`0`|`1`|\n",
        "|7.|`1`|`1`|`0`|\n",
        "|8.|`1`|`1`|`1`|\n",
        "\n",
        "Where `0` denotes `Heads` and `1` denotes `Tails`.\n",
        "\n",
        "The blocks in the `inputs` array denote the second-last play. \n",
        "\n",
        "- If `last_2 = 0`, then the `last_1` value will go to the first/second row of the **first** block.\n",
        "\n",
        "- If `last_2 = 1`, then the `last_1` value will go to the first/second row of the **second** block.\n",
        "\n",
        "<img src = 'https://student-datasets-bucket.s3.ap-south-1.amazonaws.com/images/inputs_array.png' width=600>\n",
        "\n",
        "At a time, the **current player input** will either go to the first block or second block because the second-last play would either be `0` or `1`.\n",
        "\n",
        "Here are the possible ways in which the current player inputs will be recorded in the first block.\n",
        "\n",
        "1. All the items in the first column are `0`:\n",
        "\n",
        "  ```\n",
        "  [[0, is_a_repeat],\n",
        "    [0, is_a_repeat]]\n",
        "  ```\n",
        "\n",
        "2. The item in the first row and first column is `0` but the item in the second row and the first column is `1`:\n",
        "\n",
        "  ```\n",
        "  [[0, is_a_repeat],\n",
        "    [1, is_a_repeat]]\n",
        "  ```\n",
        "\n",
        "3. The item in the first row and first column is `1` but the item in the second row and the first column is `0`:\n",
        "\n",
        "  ```\n",
        "  [[1, is_a_repeat],\n",
        "    [0, is_a_repeat]]\n",
        "  ```\n",
        "\n",
        "4. All the items in the first column are `1`:\n",
        "\n",
        "  ```\n",
        "  [[1, is_a_repeat],\n",
        "    [1, is_a_repeat]]\n",
        "  ```\n",
        "\n",
        "The value of `is_a_repeat` is either `0` or `1`.\n",
        "\n",
        "  - The value `0` or `1` in the first column represents whether the player played `Heads` or `Tails`, respectively, in the last attempt.\n",
        "  \n",
        "  - The value `0` or `1` in the second column represents whether a situation (a combination of `last_2, last_1`,if we can shift the values at c and current player input) is repeated or not. The value `0` means the situation is NOT repeated and `1` means the situation is repeated.\n",
        "\n",
        "The second block will also have the exact same possibilities."
      ]
    },
    {
      "cell_type": "markdown",
      "metadata": {
        "id": "d6nnXoywsF4C"
      },
      "source": [
        "All right! We will stop here now. In the next class, we will create the following functions to complete the algorithm:\n",
        "\n",
        "1. The `update_inputs()` function.\n",
        "\n",
        "2. The `prediction()` function.\n",
        "\n",
        "3. The `update_scores()` function\n",
        "\n",
        "4. The `reset()` function.\n",
        "\n",
        "5. The `gameplay()` function."
      ]
    },
    {
      "cell_type": "markdown",
      "metadata": {
        "id": "ipMiJfsTc4h4"
      },
      "source": [
        "---"
      ]
    }
  ]
}