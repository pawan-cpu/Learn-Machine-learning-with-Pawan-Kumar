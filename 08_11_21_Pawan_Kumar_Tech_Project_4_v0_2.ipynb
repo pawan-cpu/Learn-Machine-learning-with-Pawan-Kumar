{
  "nbformat": 4,
  "nbformat_minor": 0,
  "metadata": {
    "colab": {
      "name": "08/11/21_Pawan Kumar_Tech_Project_4_v0.2.ipynb",
      "provenance": [],
      "collapsed_sections": [],
      "include_colab_link": true
    },
    "kernelspec": {
      "name": "python3",
      "display_name": "Python 3"
    }
  },
  "cells": [
    {
      "cell_type": "markdown",
      "metadata": {
        "id": "view-in-github",
        "colab_type": "text"
      },
      "source": [
        "<a href=\"https://colab.research.google.com/github/pawan-cpu/Learn-Python-with-Pawan-Kumar/blob/main/08_11_21_Pawan_Kumar_Tech_Project_4_v0_2.ipynb\" target=\"_parent\"><img src=\"https://colab.research.google.com/assets/colab-badge.svg\" alt=\"Open In Colab\"/></a>"
      ]
    },
    {
      "cell_type": "markdown",
      "metadata": {
        "id": "YZnBY81YDCCr"
      },
      "source": [
        "### Instructions"
      ]
    },
    {
      "cell_type": "markdown",
      "metadata": {
        "id": "bEyBzxYRhrLG"
      },
      "source": [
        "#### Goal of the Project\n",
        "\n",
        "This project is designed for you to practice and solve the activities that are based on the concepts covered in the following lessons:\n",
        "\n",
        " 1. While Loop, Data-Type Conversion and Conditional Statements\n",
        " \n",
        " 2.  Improving the Algorithm\n",
        "\n"
      ]
    },
    {
      "cell_type": "markdown",
      "metadata": {
        "id": "DPOFIO3EHncO"
      },
      "source": [
        "---"
      ]
    },
    {
      "cell_type": "markdown",
      "metadata": {
        "id": "iuLVIpaX55m7"
      },
      "source": [
        "#### Getting Started:\n",
        "\n",
        "1. Click on the following link to open the Colab file for this project.\n",
        "\n",
        "    https://colab.research.google.com/drive/1uT0ZODSHh-jvrDectzhOj7R2Sler5zxL\n",
        "\n",
        "2. Create a duplicate copy of the Colab file as described below.\n",
        "\n",
        "  - Click on the **File menu**. A new drop-down list will appear.\n",
        "\n",
        "   <img src='https://student-datasets-bucket.s3.ap-south-1.amazonaws.com/images/lesson-0/0_file_menu.png' width=500>\n",
        "\n",
        "  - Click on the **Save a copy in Drive** option. A duplicate copy will get created. It will open up in the new tab on your web browser.\n",
        "\n",
        "  <img src='https://student-datasets-bucket.s3.ap-south-1.amazonaws.com/images/lesson-0/1_create_colab_duplicate_copy.png' width=500>\n",
        "\n",
        "3. After creating the duplicate copy of the notebook, please rename it in the **YYYY-MM-DD_StudentName_Project4** format.\n",
        "\n",
        "4. Now, write your code in the prescribed code cells.\n"
      ]
    },
    {
      "cell_type": "markdown",
      "metadata": {
        "id": "S4OoBz4s6GQX"
      },
      "source": [
        "---"
      ]
    },
    {
      "cell_type": "markdown",
      "metadata": {
        "id": "8f6-uc0r9Q4h"
      },
      "source": [
        "### Activities"
      ]
    },
    {
      "cell_type": "markdown",
      "metadata": {
        "id": "q4fH06mIjuK3"
      },
      "source": [
        "#### Activity 1: Even or Odd \n",
        "\n",
        "Accept a number from the user and check whether it is even or odd.\n",
        " \n",
        "For Example:\n",
        "\n",
        "**Input**:  24\n",
        "\n",
        "**Ouput**: Even number\n",
        "\n",
        "\n",
        "Follow the steps given below to achieve the desired result:\n",
        "\n",
        "  - **Step 1**: Ask the user to enter a number. \n",
        "  \n",
        "  - **Step 2**: Convert the data type of user input to integer and then store it in a variable `num`.\n",
        "\n",
        "  - **Step 3**: Use `if` statement to determine whether the entered number is odd or even. For this, use modulo division (%). The result of a modulo division is the `remainder` of an integer division. If the number is completely divisible by 2, then print `Even number` else print `Odd number`.\n",
        "\n",
        "   "
      ]
    },
    {
      "cell_type": "markdown",
      "metadata": {
        "id": "0Xbp_6gHt968"
      },
      "source": [
        ""
      ]
    },
    {
      "cell_type": "code",
      "metadata": {
        "id": "4EAoTskqg041",
        "colab": {
          "base_uri": "https://localhost:8080/"
        },
        "outputId": "dd5bd1c0-9fd2-4087-d3bd-451048a1f38c"
      },
      "source": [
        "# Write your code here\n",
        "# Step 1: Accept a number from the user. Convert it into an integer and then store it in a variable num\n",
        "num=int(input(\"enter a number:\"))\n",
        "\n",
        "# Step 2: Use if condition to check whether the number is even or odd using (%) operator\n",
        "if (num% 2)==0:\n",
        "  print(\"{0} is Even\".format(num))\n",
        "else:\n",
        "   print(\"{0} is Odd\".format(num))"
      ],
      "execution_count": null,
      "outputs": [
        {
          "output_type": "stream",
          "name": "stdout",
          "text": [
            "enter a number:34\n",
            "34 is Even\n"
          ]
        }
      ]
    },
    {
      "cell_type": "markdown",
      "metadata": {
        "id": "xJlPs9X9oeRw"
      },
      "source": [
        "---"
      ]
    },
    {
      "cell_type": "markdown",
      "metadata": {
        "id": "b4aeCDi0pkJz"
      },
      "source": [
        "#### Activity 2: Multiplication table\n",
        "\n",
        "Take input from the user and display the multiplication table.\n",
        "\n",
        "For example: if the number entered is 12 then expected output is: \n",
        "\n",
        "  12 x 1 = 12\n",
        "\n",
        "  12 x 2 = 24\n",
        "\n",
        "  ....\n",
        "  \n",
        "  12 x 10 = 120\n",
        "\n",
        "Follow the steps given below to achieve the desired result:\n",
        "\n",
        "- **Step 1:** Ask the user to enter a number. Convert the data type of user input to integer and then store it in a variable `num`.\n",
        "\n",
        "- **Step 2:** Initialize a variable `i=1` (This variable is to make sure that the `while` loop is executed only upto 10, starting from 1). \n",
        "\n",
        "- **Step 3:** Create a `while` loop. This loop will be executed 10 times. So, the condition for `while` loop will be `i < 11`. \n",
        "\n",
        "- **Step 4:** Multiply every value of the `i` variable with the value of the `num` variable and store in the `multiply` variable. \n",
        "\n",
        "- **Step 5**: Print the result stored in the `multiply` variable using the `print()` function and increment the value of `i` by 1 inside the `while` loop. The execution stops once the condition for `while` loop becomes invalid.\n"
      ]
    },
    {
      "cell_type": "code",
      "metadata": {
        "id": "c2M6dPYFX3L2",
        "colab": {
          "base_uri": "https://localhost:8080/"
        },
        "outputId": "9384998f-17bd-4085-a4f0-f9bf5f7912b9"
      },
      "source": [
        "# Write your code here\n",
        "# Step 1: Get the user input\n",
        "first_num=12\n",
        "#outer loop\n",
        "while first_num<=12:\n",
        "  sec_num=1\n",
        "  #inner loop\n",
        "  while sec_num<=10:\n",
        "    multiply=first_num*sec_num\n",
        "    print(first_num,\"x\",sec_num,\"=\",multiply)\n",
        "    sec_num=sec_num+1\n",
        "  print()\n",
        "  first_num=first_num+1\n",
        "\n",
        "# Step 2: Initialize variable 'i' with value '1'\n",
        "\n",
        "# Step 3: Execute a 'while' loop 10 times \n",
        "\n",
        "  # Step 4: Multiply the 'num' variable with 'i' variable and store in 'multiply' variable.\n",
        "\n",
        "\t# Print the result stored in the `multiply` variable \n",
        "\n",
        "  # Increment the value of 'i' by 1\n"
      ],
      "execution_count": null,
      "outputs": [
        {
          "output_type": "stream",
          "name": "stdout",
          "text": [
            "12 x 1 = 12\n",
            "12 x 2 = 24\n",
            "12 x 3 = 36\n",
            "12 x 4 = 48\n",
            "12 x 5 = 60\n",
            "12 x 6 = 72\n",
            "12 x 7 = 84\n",
            "12 x 8 = 96\n",
            "12 x 9 = 108\n",
            "12 x 10 = 120\n",
            "\n"
          ]
        }
      ]
    },
    {
      "cell_type": "markdown",
      "metadata": {
        "id": "HSz7jRSlGxIO"
      },
      "source": [
        "---"
      ]
    },
    {
      "cell_type": "markdown",
      "metadata": {
        "id": "fNvHvXkE6MLo"
      },
      "source": [
        "### Submitting the Project:\n",
        "\n",
        "1. After finishing the project, click on the **Share** button on the top right corner of the notebook. A new dialog box will appear.\n",
        "\n",
        "  <img src='https://student-datasets-bucket.s3.ap-south-1.amazonaws.com/images/project-share-images/2_share_button.png' width=500>\n",
        "\n",
        "2. In the dialog box, make sure that '**Anyone on the Internet with this link can view**' option is selected and then click on the **Copy link** button.\n",
        "\n",
        "   <img src='https://student-datasets-bucket.s3.ap-south-1.amazonaws.com/images/project-share-images/3_copy_link.png' width=500>\n",
        "\n",
        "3. The link of the duplicate copy (named as **YYYY-MM-DD_StudentName_Project4**) of the notebook will get copied \n",
        "\n",
        "   <img src='https://student-datasets-bucket.s3.ap-south-1.amazonaws.com/images/project-share-images/4_copy_link_confirmation.png' width=500>\n",
        "\n",
        "4. Go to your dashboard and click on the **My Projects** option.\n",
        "   \n",
        "   <img src='https://student-datasets-bucket.s3.ap-south-1.amazonaws.com/images/project-share-images/5_student_dashboard.png' width=800>\n",
        "\n",
        "  <img src='https://student-datasets-bucket.s3.ap-south-1.amazonaws.com/images/project-share-images/6_my_projects.png' width=800>\n",
        "\n",
        "5. Click on the **View Project** button for the project you want to submit.\n",
        "\n",
        "   <img src='https://student-datasets-bucket.s3.ap-south-1.amazonaws.com/images/project-share-images/7_view_project.png' width=800>\n",
        "\n",
        "6. Click on the **Submit Project Here** button.\n",
        "\n",
        "   <img src='https://student-datasets-bucket.s3.ap-south-1.amazonaws.com/images/project-share-images/8_submit_project.png' width=800>\n",
        "\n",
        "7. Paste the link to the project file named as **YYYY-MM-DD_StudentName_Project4** in the URL box and then click on the **Submit** button.\n",
        "\n",
        "   <img src='https://student-datasets-bucket.s3.ap-south-1.amazonaws.com/images/project-share-images/9_enter_project_url.png' width=800> "
      ]
    },
    {
      "cell_type": "markdown",
      "metadata": {
        "id": "Z-pSDbDR6Rs0"
      },
      "source": [
        "---"
      ]
    }
  ]
}