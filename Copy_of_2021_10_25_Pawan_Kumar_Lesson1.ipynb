{
  "nbformat": 4,
  "nbformat_minor": 0,
  "metadata": {
    "colab": {
      "name": "Copy of 2021-10-25-Pawan Kumar-Lesson1",
      "provenance": [],
      "collapsed_sections": [],
      "include_colab_link": true
    },
    "kernelspec": {
      "name": "python3",
      "display_name": "Python 3"
    }
  },
  "cells": [
    {
      "cell_type": "markdown",
      "metadata": {
        "id": "view-in-github",
        "colab_type": "text"
      },
      "source": [
        "<a href=\"https://colab.research.google.com/github/pawan-cpu/Learn-Python-with-Pawan-Kumar/blob/main/Copy_of_2021_10_25_Pawan_Kumar_Lesson1.ipynb\" target=\"_parent\"><img src=\"https://colab.research.google.com/assets/colab-badge.svg\" alt=\"Open In Colab\"/></a>"
      ]
    },
    {
      "cell_type": "markdown",
      "metadata": {
        "id": "aEjNja_GKRbe"
      },
      "source": [
        "# Lesson 1: Evolution of AI and Differences Between Types of AI\n",
        "\n"
      ]
    },
    {
      "cell_type": "markdown",
      "metadata": {
        "id": "Vw5hpIhgGTuZ"
      },
      "source": [
        "---"
      ]
    },
    {
      "cell_type": "markdown",
      "metadata": {
        "id": "MW2I1xSK_B7j"
      },
      "source": [
        "### Teacher-Student Tasks\n",
        "\n",
        "**Artificial Intelligence (AI)** is one of the powerful, exciting, and game-changing technology in today's world.  You may have explored several AI technologies such as self-driving cars, chatbots, autopilots in airlines, mobile check deposits, etc. \n",
        "\n",
        "The hype around AI is such that everyone wants to learn AI although they may not have a base in computer science. Companies want to implement AI in their products and hire AI experts even before planning on how to use AI in their products. Startups have started using AI as the core technology for their platforms. But do we know what is **AI**? \n",
        "\n",
        "In this class, we will learn about the origin of AI, different types of AI, and their key characteristics."
      ]
    },
    {
      "cell_type": "markdown",
      "metadata": {
        "id": "mZ3ILodYAPhV"
      },
      "source": [
        "---"
      ]
    },
    {
      "cell_type": "markdown",
      "metadata": {
        "id": "NaH6erIBoV-s"
      },
      "source": [
        "#### What is AI?\n",
        "\n",
        "Have you ever imagined a machine organizing your cupboard or a machine preparing breakfast for you?\n",
        "\n",
        "<img src=\"https://s3-whjr-v2-prod-bucket.whjr.online/f5dcab8d-f182-49a3-8ea4-8ac16abee4c1.png\"/>\n",
        "\n",
        "Such machines are the product of **Artificial Intelligence (AI)**. These machines are incorporated with human-like intelligence to perform the task as humans do. This intelligence is built using complex algorithms and mathematical functions.\n",
        "\n",
        "Thus, AI is defined as the *ability of a machine to perform tasks and activities that are usually performed by humans.*\n",
        "\n",
        "\n",
        "However, many AI applications are not recognized as AI because we often think of AI as some robots doing our daily tasks. However, the reality is that nowadays, AI has become so general that we don't realize that we are using it all the time.\n",
        "\n",
        "**For example:** \n",
        "- Google starts giving recommendations as soon as you begin typing a search term, that's AI in action.\n",
        "\n",
        "<img src=\"https://s3-whjr-v2-prod-bucket.whjr.online/4c9b8595-ccb0-4dc5-8811-6c9380470bc9.png\"/>\n",
        "\n",
        "- Amazon and other e-commerce websites use AI to gather information about your preferences and buying behavior. Then, they recommend new products according to your shopping habits.\n",
        "\n",
        "<img src=\"https://s3-whjr-v2-prod-bucket.whjr.online/48821f0d-0820-4a2e-b2e6-9379d45d1ec2.png\"/>\n",
        "\n",
        "Let us explore some more examples which show how AI is used in day-to-day activities."
      ]
    },
    {
      "cell_type": "markdown",
      "metadata": {
        "id": "ZSlcHBcsHHGI"
      },
      "source": [
        "#### Where are we using AI in our day-to-day life?\n",
        "\n",
        "\n",
        "\n",
        "1. When we type any codes in a code cell in the colab notebook, it will recommend how to complete our code even before the code sentence is completed:"
      ]
    },
    {
      "cell_type": "code",
      "metadata": {
        "id": "6qjNk9XnHqRa"
      },
      "source": [
        "# Teacher will type some function name like print(), input(), import to show this feature.\n",
        "# Please do remember to connect colab notebook to show this.\n",
        "print"
      ],
      "execution_count": null,
      "outputs": []
    },
    {
      "cell_type": "markdown",
      "metadata": {
        "id": "I5XSRVqQIWUz"
      },
      "source": [
        "2. Another common example is **Gmail**.\n",
        "Our Gmail account emails are categorized as primary, social, promotional. Who is behind that? It is none other than AI and machine learning. It also filters spam emails and sends us a notification when we receive a mail of an advertisement.\n",
        "\n",
        "3. When we are doing online shopping, we search products on different websites. Have you ever observed that when you open Facebook or Instagram or even any other website you get the same product as a suggestion in the ad section? It is nothing but Artificial Intelligence.\n",
        "\n",
        "4. **Youtube** always shows video suggestions as per our search history.\n",
        "\n",
        "You may be aware of many  AI applications in your surroundings like Alexa, Siri, Drone, etc.\n",
        "\n",
        "Before studying different types of AI as well as their applications, let us get into the history of AI."
      ]
    },
    {
      "cell_type": "markdown",
      "metadata": {
        "id": "uV_wAA8oE0KP"
      },
      "source": [
        "\n",
        "\n",
        "---\n",
        "\n",
        "\n",
        "\n",
        "\n"
      ]
    },
    {
      "cell_type": "markdown",
      "metadata": {
        "id": "fU-UsdmXWAmM"
      },
      "source": [
        "#### History and Evolution of AI\n",
        "\n",
        "AI is so incredibly hyped these days, however, it's good to remember that it's not something new. Let's go through the timeline of AI to understand where it all started.\n",
        "\n",
        "\n",
        "<img src=\"https://s3-whjr-v2-prod-bucket.whjr.online/c4624a36-b0ba-4663-b04b-8cbb3648be39.png\"/>\n",
        "\n",
        "**1. 1950 - Turing Test**\n",
        "\n",
        "> In 1950, Alan Turing (Turing, 1950) proposed a method for determining if machines can think. This method is known as the Turing Test. This test can check the machine's ability to exhibit intelligent behavior equivalent to human intelligence. In this test, a machine would attempt to respond to questions to fool a human judge in such a way that the human judge may think that it is another human who is responding. \n",
        "\n",
        "\n",
        "\n",
        "<img src=\"https://s3-whjr-v2-prod-bucket.whjr.online/78ab5a2c-e8c4-4a1a-95dc-d264887ffd8d.png\"/>\n",
        "\n",
        "> Alan suggested that if humans use available information, as well as reason, to solve problems to make decisions – then why can’t it be done with the help of machines?\n",
        "\n",
        "\n",
        "**2. 1955 - Birth of AI**\n",
        "\n",
        "> John McCarthy coined the term *Artificial Intelligence* at a conference in 1955. It is considered to be the first artificial intelligence program and was presented at the **Dartmouth Summer Research Project on Artificial Intelligence** **(DSRPAI)** hosted by John McCarthy and Marvin Minsky.\n",
        "\n",
        "**3. 1966 - First ChatBot**\n",
        "\n",
        "> The researchers started developing algorithms that can solve mathematical problems. Joseph Weizenbaum created the first chatbot in 1966, which was named as ELIZA. This chatbot emulates a Rogerian psychotherapist. Just type your questions and concerns and hit return. Eliza will answer you.\n",
        "\n",
        "\n",
        "**4. 1966 -  First general-purpose mobile robot**\n",
        "\n",
        "> **Shakey** was the first general-purpose mobile robot to be able to reason about its actions. While other robots need to be instructed on each step of completing a larger task, Shakey could analyze commands and break them down into basic chunks by itself.\n",
        "\n",
        "<center>\n",
        "<img src=\"https://s3-whjr-v2-prod-bucket.whjr.online/adfabb85-1309-4bd8-8533-553d1961db3e.png\" height=300/>\n",
        "\n",
        "*Credits: https://en.wikipedia.org/wiki/File:Shakey.png*\n",
        "\n",
        "\n",
        "`Image by Sanchom used under  Creative Commons Attribution-Share Alike 2.0 Generic license.`</center>\n",
        "\n",
        "**5. 1974-1980 - The first AI winter**\n",
        "\n",
        "  > AI winter refers to the time where computer scientists dealt with a severe shortage of funding from the government for AI researches. Also, there was a decline in interest in AI research.\n",
        "\n",
        "**6. 1997 - When Human lost against Machine**\n",
        "\n",
        "> On May 11, 1997, an IBM computer called IBM Deep Blue beat the world chess champion after a six-game match: two wins for IBM, one for the champion, and three draws.\n",
        "\n",
        "<center>\n",
        "<img src=\"https://s3-whjr-v2-prod-bucket.whjr.online/015465fb-2bce-4ad3-9dc5-f3ce3427930d.jpg\"  height=300/>\n",
        "\n",
        "*Credits: https://commons.wikimedia.org/wiki/File:Deep_Blue.jpg*\n",
        "\n",
        "\n",
        "\n",
        "`Image by Kimse used under Creative Commons Attribution 2.0 Generic license.`</center>\n",
        "\n",
        "**7. 2002 - AI entered home**\n",
        "\n",
        "> For the first time, AI entered the home in the form of Roomba,  series of autonomous robotic vacuum cleaners.\n",
        "\n",
        "<center>\n",
        "<img src=\"https://s3-whjr-v2-prod-bucket.whjr.online/41228ed6-52ad-48f5-b91e-b7aac468b0c2.jpg\" height=350/>\n",
        "\n",
        "*Credits: https://commons.wikimedia.org/wiki/File:Roomba_original.jpg*\n",
        "\n",
        "`Image by Larry D. Moore used under Creative Commons Attribution-Share Alike 3.0 Unported license.`\n",
        "</center>\n",
        "\n",
        "**8. 2011 - Siri**\n",
        "\n",
        "> Apple integrated Siri, the talking, voice-activated \"personal assistant\" into its new iPhone 4S. It is an intelligent personal assistant. It can search for anything from a search engine, send the message, call the requested person, and many more such things.\n",
        "\n",
        "<center>\n",
        "<img src=\"https://s3-whjr-v2-prod-bucket.whjr.online/41650443-643b-40f6-8515-83e0960dae48.png\"/>\n",
        "\n",
        "*Credits: https://commons.wikimedia.org/wiki/File:IOS_7_Siri.png*\n",
        "\n",
        "`Image by Kavakavins111 used under Creative Commons Attribution-Share Alike 4.0 International license.`\n",
        "\n",
        "</center>\n",
        "\n",
        "**9. 2014 - Alexa**\n",
        "\n",
        "> Alexa was Amazon's digital assistant, first launched in 2014 along with the Amazon Echo smart speaker. Alexa can provide results for web searches, order products from Amazon, and act as a hub for compatible IoT devices all via voice commands.\n",
        "\n",
        "<center>\n",
        "\n",
        "<img src=\"https://s3-whjr-v2-prod-bucket.whjr.online/c15755bb-4419-4593-9ad0-3dc10bdba075.jpg\" height=300/>\n",
        "\n",
        " *Credits: https://commons.wikimedia.org/wiki/File:Amazon_Alexa_-_Echo_Dot_(49675526278).jpg*\n",
        "\n",
        "`(Image by Epicsunwarrior used under Creative Commons Attribution 2.0 Generic license.)`\n",
        "\n",
        "</center>\n",
        "\n",
        "**10. 2017 - AlphaGo**\n",
        "\n",
        "> AlphaGo is a computer program that uses machine learning to master the game of Go. It was developed by DeepMind Technologies. AlphaGo went on to defeat many Go world champions and became the greatest Go player of all time.\n",
        "\n",
        "<center>\n",
        "<img src= \"https://s3-whjr-v2-prod-bucket.whjr.online/1927615e-b7ce-4848-b244-1a765f0cf34d.jpg\" height=300/>\n",
        "\n",
        " *Credits: https://commons.wikimedia.org/wiki/File:Lee-sedol-alphago-divine-move.jpg*\n",
        "\n",
        "`(Image by \tAxd used under Creative Commons Attribution-Share Alike 4.0 International license.)`\n",
        "\n",
        "\n",
        "</center>\n",
        "\n",
        "Thus, we have now explored the origin and evolution of AI. Today, AI has developed to an extraordinary level. Companies like Google, Facebook, IBM, and Amazon are working with AI and creating amazing intelligent devices. \n",
        "\n",
        "\n",
        "\n",
        "There are mainly three types of AI based on machine's capabilities:\n",
        "\n",
        "<ol>\n",
        "  <li>Artificial Narrow Intelligence (ANI)</li>\n",
        "  <li>Artificial General Intelligence (AGI)</li>\n",
        "  <li>Artificial Super Intelligence (ASI)</li>\n",
        "</font></ol>\n",
        "\n",
        "\n",
        "Let us explore these types of AI.\n"
      ]
    },
    {
      "cell_type": "markdown",
      "metadata": {
        "id": "2AZjnTiOTRGj"
      },
      "source": [
        "\n",
        "\n",
        "\n",
        "\n",
        "\n",
        "\n",
        "---\n",
        "\n"
      ]
    },
    {
      "cell_type": "markdown",
      "metadata": {
        "id": "wgu7gNTtW0ta"
      },
      "source": [
        "#### Artificial Narrow Intelligence (ANI)\n",
        "\n",
        "Artificial Narrow Intelligence (ANI) also known as **weak AI** which involves applying AI only to specific tasks. It focuses solely on one task.\n",
        "\n",
        "For example: **AlphaGo** is a computer program that is an expert in the game of **Go**. However, AlphaGo will not be able to play the game of chess at all. This makes AlphaGo a weak AI or a narrow AI.\n",
        "\n",
        "<img src=\"https://s3-whjr-v2-prod-bucket.whjr.online/38b58b70-1ceb-48fc-a239-051972182d9e.png\"/>\n",
        "\n",
        "You may be aware of Siri or Alexa. These digital voice assistants are capable of performing many tasks such as playing music, checking the weather, setting timers and alarms, etc. However, they are still weak AI as they can only perform a set of tasks for which they have been trained for. \n",
        "\n",
        "For example, try asking Alexa the status of traffic from work to home. It won't be able to provide this information as it is not trained for this. Thus, this is an example of ANI.\n",
        "\n",
        "ANI has narrow capabilities like recommending a product for an e-commerce user or predicting the weather.\n",
        "\n",
        "Few more examples of ANI are:\n",
        "\n",
        "**1.  Self-driving cars**\n",
        "\n",
        ">  AI software in the car is connected to all the sensors and collects input from Google street view and video cameras inside the car. \n",
        "   \n",
        ">   However, these cars are still far from reaching highly automated driving. Many more sensors are needed for detecting the environment reliably and a lot more intelligence is essential to process the information recorded by the sensors correctly. Thus, it remains a narrow AI.\n",
        "\n",
        "> <img src=\"https://s3-whjr-v2-prod-bucket.whjr.online/527964c3-1c65-443d-a07c-61656648d6f6.jpg\" width=500/>\n",
        "\n",
        "> *Credits: https://en.wikipedia.org/wiki/File:Autonomous-driving-Barcelona.jpg* \n",
        "\n",
        "> `(Image by Eschenzweig used under Creative Commons Attribution-Share Alike 4.0 International license.)`\n",
        "\n",
        "**2. Google Maps**\n",
        "\n",
        "> Google Maps uses AI to predict whether the traffic along your route is heavy or light, an estimated travel time, and an estimated time of arrival (ETA). However, it is still nowhere close to human intelligence and hence it is a weak AI.\n",
        "\n",
        "> <img src=\"https://s3-whjr-v2-prod-bucket.whjr.online/00ff4ab3-a564-4be6-97f0-723311c3a71f.jpg\" height=350/>\n",
        "\n",
        "**3. Face verification in iPhone**\n",
        "\n",
        ">  Apple's new Face ID technology uses AI to conduct a secure authentication check, unlock your device, or authorize your payments. \n",
        "\n",
        "> However,  this technology matches the biometric data of a person with known images in a secure database and gives a yes/no decision. It had no intelligence of its own and is thus a weak AI.\n",
        "\n",
        "\n",
        "\n",
        "> <img src=\"https://s3-whjr-v2-prod-bucket.whjr.online/b2f6cf76-8804-4678-9331-ac40e2281bd7.gif\" height=350/>\n",
        "\n"
      ]
    },
    {
      "cell_type": "markdown",
      "metadata": {
        "id": "gBJKn9Pau5C7"
      },
      "source": [
        "---\n",
        "\n",
        "\n",
        "\n"
      ]
    },
    {
      "cell_type": "markdown",
      "metadata": {
        "id": "7bsFVjjcvDvK"
      },
      "source": [
        "#### Artificial General Intelligence (AGI)\n",
        "\n",
        "Artificial General Intelligence (AGI) also known as **Strong AI** involves machines that hold strong intelligence and can perform any intellectual task that a human being can perform.  \n",
        "\n",
        "\n",
        "This is the sort of AI that we see in movies like \"Ex-Machina, Robot World\" or other sci-fi movies in which humans interact with machines and systems that are conscious and are driven by emotion and self-awareness are nothing but AGI.\n",
        "\n",
        "Currently, machines can process data faster than we can. But as human beings, we can think abstractly, strategize, and tap into our thoughts and memories to make informed decisions or come up with creative ideas. This type of intelligence is very difficult to replicate in machines.\n",
        "\n",
        "There are currently no proper examples of AGI. However, there are few examples that are very close.\n",
        "\n",
        "**1. Sophia**\n",
        "\n",
        "> Sophia is a social humanoid robot developed by Hong Kong-based company Hanson Robotics. Sophia imitates human gestures and facial expressions and can answer certain questions and make simple conversations on some predefined topics. However, Sophia cannot be considered as a strong AI as it simply resembles an AI-powered chatbot but humanoid mechanics. \n",
        "\n",
        "> <img src=\"https://s3-whjr-v2-prod-bucket.whjr.online/c294f82e-9677-433d-bb3c-17af4b65e320.jpg\" />\n",
        "\n",
        "> *Credits:* https://commons.wikimedia.org/wiki/File:Sophia_at_the_AI_for_Good_Global_Summit_2018_(27254369347)_(cropped).jpg\n",
        "\n",
        "\n",
        "> `(Image by Sikander used under Creative Commons Attribution 2.0 Generic license.)`\n",
        "\n",
        "**2. K computer**\n",
        "\n",
        "> Fujitsu-built K, one of the fastest supercomputers, is one of the most notable attempts at achieving strong AI but considering it took 40 minutes to simulate a single second of neural activity. It is difficult to determine whether or not strong AI, will be achieved soon. \n",
        "\n",
        "> <img src=\"https://s3-whjr-v2-prod-bucket.whjr.online/a194442b-3354-4dad-a1e9-fcf8f0ce41c3.jpg\" height=400/>\n",
        "\n",
        "> *Credits:* https://commons.wikimedia.org/wiki/File:Keisoku-Fujitsu.jpg\n",
        "\n",
        "> `(Image by CES1596 used under Creative Commons Attribution-Share Alike 3.0 Unported license.)`\n",
        "\n",
        "**3. Tianhe-2**\n",
        "\n",
        "> Tianhe-2 is a supercomputer created by the China's National University of Defense Technology. It currently holds the record for a speed of  33.86 petaflops. Although it sounds exciting, it is still not capable to surpass the calculation speed of the human mind which is estimated at 1000 petaflops of calculation speed per second.\n",
        "\n",
        "> <img src=\"https://s3-whjr-v2-prod-bucket.whjr.online/5dec1dda-668d-4a9b-909e-e3e5d19fa0bf.jpg\" height=400/>\n",
        "\n",
        "> *Credits:* https://commons.wikimedia.org/wiki/File:Tianhe-2.jpg\n",
        "\n",
        "> `(Image by O01326 used under Creative Commons Attribution-Share Alike 4.0 International license.)`"
      ]
    },
    {
      "cell_type": "markdown",
      "metadata": {
        "id": "BxIYUIsGkNhw"
      },
      "source": [
        "**Q:** What’s the difference between strong AI and weak AI?\n",
        "\n",
        "**A:** "
      ]
    },
    {
      "cell_type": "markdown",
      "metadata": {
        "id": "_Zas2u38XS2m"
      },
      "source": [
        "---"
      ]
    },
    {
      "cell_type": "markdown",
      "metadata": {
        "id": "UmA8_kJQ7MAs"
      },
      "source": [
        "#### Artificial Super Intelligence (ASI)\n",
        "\n",
        "When someone uses the term \"Artificial Intelligence\" the image evoked in most people’s minds is more like The Terminator than a real-world computer program. \n",
        "\n",
        "Artificial Super Intelligence (ASI) or **super AI**  is way into the future or that is what we believe. To reach this point and to be called an ASI, an AI will need to surpass humans at absolutely everything. The ASI type is achieved when AI is more capable than a human.</b></font>\n",
        "\n",
        "This type of AI will be able to perform extraordinary well at things such as arts, decision making, and emotional relationships. Today, these things are part of what differentiates a machine from a human. However, the existence of ASI is still hypothetical.\n",
        "\n"
      ]
    },
    {
      "cell_type": "markdown",
      "metadata": {
        "id": "AC3tNqGMhN6f"
      },
      "source": [
        "**Q:** What are the different types of AI?\n",
        "\n",
        "**A:** \n",
        "\n",
        "**Q:** What type of AI is Sophia humanoid?\n",
        "\n",
        "**A:** "
      ]
    },
    {
      "cell_type": "markdown",
      "metadata": {
        "id": "zwaXn3DMJs55"
      },
      "source": [
        "Thus, in today's class, we learned what is AI, how we are using it in our everyday lives, and how it could potentially be used in near future. In the next class, we will explore different applications of AI in various fields and how AI has become an everyday term."
      ]
    },
    {
      "cell_type": "markdown",
      "metadata": {
        "id": "vkR_VcrcQRlK"
      },
      "source": [
        "\n",
        "\n",
        "---\n",
        "\n"
      ]
    }
  ]
}