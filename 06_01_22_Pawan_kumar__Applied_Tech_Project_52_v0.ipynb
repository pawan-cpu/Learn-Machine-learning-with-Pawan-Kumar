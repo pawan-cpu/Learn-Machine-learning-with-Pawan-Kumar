{
  "cells": [
    {
      "cell_type": "markdown",
      "metadata": {
        "id": "view-in-github",
        "colab_type": "text"
      },
      "source": [
        "<a href=\"https://colab.research.google.com/github/pawan-cpu/Learn-Python-with-Pawan-Kumar/blob/main/06_01_22_Pawan_kumar__Applied_Tech_Project_52_v0.ipynb\" target=\"_parent\"><img src=\"https://colab.research.google.com/assets/colab-badge.svg\" alt=\"Open In Colab\"/></a>"
      ]
    },
    {
      "cell_type": "markdown",
      "metadata": {
        "id": "UYmMpXkNw9I6"
      },
      "source": [
        "### Instructions"
      ]
    },
    {
      "cell_type": "markdown",
      "metadata": {
        "id": "PaanjkTewd2U"
      },
      "source": [
        "---"
      ]
    },
    {
      "cell_type": "markdown",
      "metadata": {
        "id": "64Zy490qzVsZ"
      },
      "source": [
        "#### Goal of the Project\n",
        "\n",
        "This project is designed for you to practice and solve the activities that are based on the concepts covered in the following lessons:\n",
        "\n",
        " 1. Python Lists \n",
        "\n",
        " 2. Python Dictionary\n",
        "\n",
        " 3. Classes and Objects"
      ]
    },
    {
      "cell_type": "markdown",
      "metadata": {
        "id": "8BgExNKi1khe"
      },
      "source": [
        "---"
      ]
    },
    {
      "cell_type": "markdown",
      "metadata": {
        "id": "ntOiLX83RF1i"
      },
      "source": [
        "#### Getting Started:\n",
        "\n",
        "1. Click on this link to open the Colab file for this project.\n",
        "\n",
        "    https://colab.research.google.com/drive/1ES6E4FS0TLyQ4wr8tRfEfwhvIwhKR1d1\n",
        "\n",
        "2. Create a duplicate copy of the Colab file as described below.\n",
        "\n",
        "  - Click on the **File menu**. A new drop-down list will appear.\n",
        "\n",
        "   <img src='https://student-datasets-bucket.s3.ap-south-1.amazonaws.com/images/lesson-0/0_file_menu.png' width=500>\n",
        "\n",
        "  - Click on the **Save a copy in Drive** option. A duplicate copy will get created. It will open up in the new tab on your web browser.\n",
        "\n",
        "  <img src='https://student-datasets-bucket.s3.ap-south-1.amazonaws.com/images/lesson-0/1_create_colab_duplicate_copy.png' width=500>\n",
        "\n",
        "3. After creating the duplicate copy of the notebook, please rename it in the **YYYY-MM-DD_StudentName_Project52** format.\n",
        "\n",
        "4. Now, write your code in the prescribed code cells.\n"
      ]
    },
    {
      "cell_type": "markdown",
      "metadata": {
        "id": "5Kbn2FpBR4R7"
      },
      "source": [
        "---"
      ]
    },
    {
      "cell_type": "markdown",
      "metadata": {
        "id": "2i36Yv3-MPY5"
      },
      "source": [
        "### Problem Statement \n",
        "\n",
        "In this project, create an interactive Library application using the concept of **Object Oriented Programming**. \n",
        "\n",
        "Ask the user to enter a number from 1, 2, 3, 4, or 9. These numbers indicate the following options: \n",
        "\n",
        "  - **1: Display books** $\\Longrightarrow$ This option displays all books in the library.\n",
        "\n",
        "  - **2: Lend a book** $\\Longrightarrow$ This option allows the user to lend a book to another user.\n",
        "\n",
        "  - **3: Add a book** $\\Longrightarrow$ This option enables the user to add a new book to the library.\n",
        "\n",
        "  - **4: Collect a book** $\\Longrightarrow$ This option will collect the book back from the user.\n",
        "\n",
        "  - **9: Quit** $\\Longrightarrow$ This option will allow the user to quit the application.\n",
        "\n",
        "  "
      ]
    },
    {
      "cell_type": "markdown",
      "metadata": {
        "id": "vYChcL-WMRFV"
      },
      "source": [
        "---"
      ]
    },
    {
      "cell_type": "markdown",
      "metadata": {
        "id": "toeLx5LJpIV-"
      },
      "source": [
        "### List of Activities\n",
        "\n",
        "**Activity 1:** Create a `LibraryAdmin` class.\n",
        "\n",
        "**Activity 2:** Create the following four functions inside the `LibraryAdmin` class:\n",
        "\n",
        " - `display_book()`: To display all the books.\n",
        "\n",
        " - `lend_book()`: To lend a book. \n",
        "\n",
        " - `add_book()`: To add a new book.\n",
        "\n",
        " - `collect_book()`: To collect a book back.  \n",
        "\n",
        "**Activity 3:** Create an object of `LibraryAdmin` class.\n",
        "\n",
        "**Activity 4:** Call the functions."
      ]
    },
    {
      "cell_type": "markdown",
      "metadata": {
        "id": "5JRlGIBRqCGl"
      },
      "source": [
        "---"
      ]
    },
    {
      "cell_type": "markdown",
      "metadata": {
        "id": "UCusTfW0tcxe"
      },
      "source": [
        "#### Activity 1: Create a `LibraryAdmin` Class\n",
        "\n",
        "Create a class `LibraryAdmin`. Add a constructor (`__init()__` function) to the class. This constructor must initialise the following variables:\n",
        "\n",
        "-  `list_books`: A list to store the list of books. Initialise this list with the values passed whenever a new object of `LibraryAdmin` class is created.\n",
        "-  `borrowers_dict`: A dictionary to keep track of books lent to another user. Keep this dictionary empty."
      ]
    },
    {
      "cell_type": "code",
      "execution_count": null,
      "metadata": {
        "id": "6RL71w3ntzcH"
      },
      "outputs": [],
      "source": [
        "#  Create class LibraryAdmin and add constructor\n",
        "class LibraryAdmin:\n",
        "\n",
        "  def __init__(self , list_books):\n",
        "    self.list_books = list_books\n",
        "    self.borrowers_dict  = {}\n",
        "    "
      ]
    },
    {
      "cell_type": "markdown",
      "metadata": {
        "id": "RETr5Tv1JBls"
      },
      "source": [
        "---"
      ]
    },
    {
      "cell_type": "markdown",
      "metadata": {
        "id": "NyHSsEwEoEvH"
      },
      "source": [
        "#### Activity 2: Add Functions\n",
        "\n",
        "Add the following four functions inside the `LibraryAdmin` class:\n",
        "\n",
        "- **The `display_books()` function**: Display all the books stored in the `list_books` list using `for` loop.\n",
        "\n",
        "- **The `lend_book()` function**: This function takes two parameters; `book` and `borrower`. The `book` parameter holds the name of the book and the `borrower` parameter holds the name of the user to whom the book is to be lent. \n",
        "\n",
        "  Inside this function, check whether the `book` is already present in the `borrowers_dict` dictionary or not. \n",
        "\n",
        "  * If the `book` is not in `borrowers_dict{}`, update this dictionary using `update()` function. Pass the name of the book i.e. `book` variable as key and name of the user i.e. `borrower` variable as its `value` to the `update()` function.\n",
        "\n",
        "  * If the `book` exists in `borrowers_dict{}`, this means that this book is already issued by another user. Thus, display the message \"Sorry, this book is already issued\".\n",
        "\n",
        "- **The `add_book()` function**: This function takes a parameter `book` which holds the name of the book to be added to the library. Use the `append()` function to add the `book` to the `list_books` list. Also, display a message \"Book has been successfully added in the Library\".\n",
        "\n",
        "- **The `collect_book()` function**: This function takes a parameter `book` which holds the name of the book to be removed from the `borrowers_dict` dictionary. Use the `pop()` function of the Python dictionary to remove the `book` from the `borrowers_dict` dictionary. Also, display a message \"Book is successfully removed from the Library\".\n",
        "\n",
        "**Note:** Do not forget to keep `self` keyword as the first argument or parameter in all the class functions."
      ]
    },
    {
      "cell_type": "code",
      "execution_count": null,
      "metadata": {
        "id": "JPMbyEbOoWz0"
      },
      "outputs": [],
      "source": [
        "# Create Functions inside 'Library' class.\n",
        "class LibraryAdmin:\n",
        "\n",
        "    def __init__(self , list_books):\n",
        "      self.list_books = list_books\n",
        "      self.borrowers_dict  = {}\n",
        "    \n",
        "\n",
        "    def add_book(self, new_book):\n",
        "        self._books.append(new_book)\n",
        "\n",
        "    def display_books(self):\n",
        "        for book in self.list_books:\n",
        "          print(\"books available are:\" , book)\n",
        "\n",
        "    def lend_book(self, book , borrower):\n",
        "      if book not in self.borrowers_dict.keys():\n",
        "        self.borrowers_dict[book] = borrower\n",
        "        print(f\"{book} is lent to {borrower}\")\n",
        "      else:\n",
        "        print(\"this book is already issued\")\n",
        "\n",
        "    def add_book(self , book):\n",
        "      self.list_books.append(book)\n",
        "      print(f\"{book} has been successfully added in the Library\")\n",
        "\n",
        "    def collect_book(self , book):\n",
        "      self.borrowers_dict.pop(book)\n",
        "      print(f\"{book} is successfully removed from the Library\")\n"
      ]
    },
    {
      "cell_type": "markdown",
      "metadata": {
        "id": "hRxkk8dCAFMr"
      },
      "source": [
        "---"
      ]
    },
    {
      "cell_type": "markdown",
      "metadata": {
        "id": "NUWsq3QFG4Q3"
      },
      "source": [
        "#### Activity 3: Create an Object of `LibraryAdmin`\n",
        "\n",
        "Create an object of `LibraryAdmin` class and pass a list as a parameter. This list consists of names of books that initially exist in your library.\n",
        "\n"
      ]
    },
    {
      "cell_type": "code",
      "execution_count": null,
      "metadata": {
        "id": "cHEBBL8JOymV"
      },
      "outputs": [],
      "source": [
        "# Create an object of Library class and pass a list of books as a parameter\n",
        "admin = LibraryAdmin([\"java\" ,\"c\" , \"c++\" ])"
      ]
    },
    {
      "cell_type": "markdown",
      "metadata": {
        "id": "TjVfq3s_G8Z8"
      },
      "source": [
        "---"
      ]
    },
    {
      "cell_type": "markdown",
      "metadata": {
        "id": "rl-1j6RYQsYb"
      },
      "source": [
        "#### Activity 4: Call the Functions\n",
        "\n",
        "Create an infinite `while` loop. Inside this `while` loop perform the following tasks:\n",
        "1. Display the following list of choices:\n",
        "\n",
        "```\n",
        "Enter :\n",
        "        1 to DISPLAY books\n",
        "        2 to LEND a book\n",
        "        3 to ADD a book\n",
        "        4 to COLLECT a book\n",
        "        9 to QUIT the application\n",
        "```\n",
        "\n",
        "2. Take user input and store it in a variable `user_choice`. Check whether the user entered any input other than 1, 2, 3, 4, or 9. If yes, then display a message \"Please enter a valid option\" and keep on asking for user input unless the user enters a valid choice.\n",
        "\n",
        "3. Now using the `if-elif-else` statement, check user input and call the corresponding functions using the object of the `LibraryAdmin` class.\n",
        " - If `user_choice==1`, call the `display_books()` function \n",
        " - If `user_choice==2`, ask the user to enter the name of the book which is to be lent and the name of the borrower and pass them as parameters to the `lend_book()` function.\n",
        " - If `user_choice==3`, ask the user to enter the name of the book which is to be added and pass this as a parameter to the `add_book()` function.\n",
        " - If `user_choice==4`, ask the user to enter the name of the book which is to be collected back and pass this as a parameter to the `collect_book()` function.\n",
        " - If `user_choice==9`, break the infinite while loop using the `break` statement.\n",
        "\n",
        "\n",
        "**Note:** Call all the four functions using the object of `LibraryAdmin` class only."
      ]
    },
    {
      "cell_type": "code",
      "execution_count": null,
      "metadata": {
        "colab": {
          "base_uri": "https://localhost:8080/"
        },
        "id": "RJ72_giGoYEj",
        "outputId": "a7b535e6-dcf4-4556-9eba-1d3e2ab3db4a"
      },
      "outputs": [
        {
          "name": "stdout",
          "output_type": "stream",
          "text": [
            "Enter :\n",
            "        1 to DISPLAY books\n",
            "        2 to LEND a book\n",
            "        3 to ADD a book\n",
            "        4 to COLLECT a book\n",
            "        9 to QUIT the application\n",
            "1\n",
            "books available are: java\n",
            "books available are: c\n",
            "books available are: c++\n",
            "Enter :\n",
            "        1 to DISPLAY books\n",
            "        2 to LEND a book\n",
            "        3 to ADD a book\n",
            "        4 to COLLECT a book\n",
            "        9 to QUIT the application\n",
            "2\n",
            "enter borrowers name:pawan\n",
            "enter book to be lent :c\n",
            "c is lent to pawan\n",
            "Enter :\n",
            "        1 to DISPLAY books\n",
            "        2 to LEND a book\n",
            "        3 to ADD a book\n",
            "        4 to COLLECT a book\n",
            "        9 to QUIT the application\n",
            "4\n",
            "enter the name of the book to be returned:c\n",
            "c is successfully removed from the Library\n",
            "Enter :\n",
            "        1 to DISPLAY books\n",
            "        2 to LEND a book\n",
            "        3 to ADD a book\n",
            "        4 to COLLECT a book\n",
            "        9 to QUIT the application\n",
            "3\n",
            "enter the name of the book:ai\n",
            "ai has been successfully added in the Library\n",
            "Enter :\n",
            "        1 to DISPLAY books\n",
            "        2 to LEND a book\n",
            "        3 to ADD a book\n",
            "        4 to COLLECT a book\n",
            "        9 to QUIT the application\n",
            "1\n",
            "books available are: java\n",
            "books available are: c\n",
            "books available are: c++\n",
            "books available are: ai\n",
            "Enter :\n",
            "        1 to DISPLAY books\n",
            "        2 to LEND a book\n",
            "        3 to ADD a book\n",
            "        4 to COLLECT a book\n",
            "        9 to QUIT the application\n",
            "9\n"
          ]
        }
      ],
      "source": [
        "# Call the functions\n",
        "while True:\n",
        "  print(\"\"\"Enter :\n",
        "        1 to DISPLAY books\n",
        "        2 to LEND a book\n",
        "        3 to ADD a book\n",
        "        4 to COLLECT a book\n",
        "        9 to QUIT the application\"\"\")\n",
        "  \n",
        "  user_choice = int(input())\n",
        "  while user_choice not in [1 , 2, 3 ,4 ,9]:\n",
        "    print(\"\"\"Enter :\n",
        "        1 to DISPLAY books\n",
        "        2 to LEND a book\n",
        "        3 to ADD a book\n",
        "        4 to COLLECT a book\n",
        "        9 to QUIT the application\"\"\")\n",
        "    user_choice = int(input())\n",
        "  if user_choice == 1:\n",
        "    admin.display_books()\n",
        "  elif user_choice == 2:\n",
        "    borrower_name = input(\"enter borrowers name:\")\n",
        "    book = input(\"enter book to be lent :\")\n",
        "    admin.lend_book(book , borrower_name)\n",
        "  elif user_choice == 3:\n",
        "    book = input(\"enter the name of the book:\")\n",
        "    admin.add_book(book)\n",
        "  elif user_choice == 4:\n",
        "\n",
        "    book = input(\"enter the name of the book to be returned:\") \n",
        "    admin.collect_book(book)\n",
        "\n",
        "  elif user_choice == 9:\n",
        "    break\n",
        "\n",
        "  "
      ]
    },
    {
      "cell_type": "markdown",
      "metadata": {
        "id": "lBZS4GAudWGJ"
      },
      "source": [
        "---"
      ]
    },
    {
      "cell_type": "markdown",
      "metadata": {
        "id": "VXSJPWr8S6Wh"
      },
      "source": [
        "### Submitting the Project:\n",
        "\n",
        "1. After finishing the project, click on the **Share** button on the top right corner of the notebook. A new dialog box will appear.\n",
        "\n",
        "  <img src='https://student-datasets-bucket.s3.ap-south-1.amazonaws.com/images/project-share-images/2_share_button.png' width=500>\n",
        "\n",
        "2. In the dialog box, make sure that '**Anyone on the Internet with this link can view**' option is selected and then click on the **Copy link** button.\n",
        "\n",
        "   <img src='https://student-datasets-bucket.s3.ap-south-1.amazonaws.com/images/project-share-images/3_copy_link.png' width=500>\n",
        "\n",
        "3. The link of the duplicate copy (named as **YYYY-MM-DD_StudentName_Project52**) of the notebook will get copied \n",
        "\n",
        "   <img src='https://student-datasets-bucket.s3.ap-south-1.amazonaws.com/images/project-share-images/4_copy_link_confirmation.png' width=500>\n",
        "\n",
        "4. Go to your dashboard and click on the **My Projects** option.\n",
        "   \n",
        "   <img src='https://student-datasets-bucket.s3.ap-south-1.amazonaws.com/images/project-share-images/5_student_dashboard.png' width=800>\n",
        "\n",
        "  <img src='https://student-datasets-bucket.s3.ap-south-1.amazonaws.com/images/project-share-images/6_my_projects.png' width=800>\n",
        "\n",
        "5. Click on the **View Project** button for the project you want to submit.\n",
        "\n",
        "   <img src='https://student-datasets-bucket.s3.ap-south-1.amazonaws.com/images/project-share-images/7_view_project.png' width=800>\n",
        "\n",
        "6. Click on the **Submit Project Here** button.\n",
        "\n",
        "   <img src='https://student-datasets-bucket.s3.ap-south-1.amazonaws.com/images/project-share-images/8_submit_project.png' width=800>\n",
        "\n",
        "7. Paste the link to the project file named as **YYYY-MM-DD_StudentName_Project52** in the URL box and then click on the **Submit** button.\n",
        "\n",
        "   <img src='https://student-datasets-bucket.s3.ap-south-1.amazonaws.com/images/project-share-images/9_enter_project_url.png' width=800> "
      ]
    }
  ],
  "metadata": {
    "colab": {
      "collapsed_sections": [],
      "name": "06-01-22 Pawan kumar _Applied Tech. Project 52_v0",
      "provenance": [],
      "include_colab_link": true
    },
    "kernelspec": {
      "display_name": "Python 3",
      "name": "python3"
    }
  },
  "nbformat": 4,
  "nbformat_minor": 0
}