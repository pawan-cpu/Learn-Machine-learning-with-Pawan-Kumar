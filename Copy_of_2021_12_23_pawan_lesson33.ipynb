{
  "nbformat": 4,
  "nbformat_minor": 0,
  "metadata": {
    "colab": {
      "name": "Copy of 2021-12-23_pawan_lesson33",
      "provenance": [],
      "collapsed_sections": [],
      "include_colab_link": true
    },
    "kernelspec": {
      "name": "python3",
      "display_name": "Python 3"
    }
  },
  "cells": [
    {
      "cell_type": "markdown",
      "metadata": {
        "id": "view-in-github",
        "colab_type": "text"
      },
      "source": [
        "<a href=\"https://colab.research.google.com/github/pawan-cpu/Learn-Python-with-Pawan-Kumar/blob/main/Copy_of_2021_12_23_pawan_lesson33.ipynb\" target=\"_parent\"><img src=\"https://colab.research.google.com/assets/colab-badge.svg\" alt=\"Open In Colab\"/></a>"
      ]
    },
    {
      "cell_type": "markdown",
      "metadata": {
        "id": "LHMNPeUke3VC"
      },
      "source": [
        "# Lesson 33: String Operations III"
      ]
    },
    {
      "cell_type": "markdown",
      "metadata": {
        "id": "d0RqwmGHOaUo"
      },
      "source": [
        "### Teacher-Student Tasks\n",
        "\n",
        "\n",
        "In this class, we will learn the remaining string operations/functions in Python."
      ]
    },
    {
      "cell_type": "markdown",
      "metadata": {
        "id": "1ndsjaU3X0V7"
      },
      "source": [
        "---"
      ]
    },
    {
      "cell_type": "markdown",
      "metadata": {
        "id": "CFg0CuZyh1o5"
      },
      "source": [
        "#### Task 1: The `strip(), lstrip()`, `rstrip()` Functions\n",
        "\n",
        "The `strip()` function removes any unwanted item from a string present at both ends of a string. By default it removes the whitespaces unless otherwise specified.\n",
        "\n",
        "The string below contains many `#` symbols, whitespaces, and commas`:\n",
        "\n",
        "`' #food, #foodie, #yummy, #delicious, #foodislife ## '`\n",
        "\n",
        "Let's remove the whitespaces and `#` symbols from both ends of the string using the `strip()` function:\n",
        "\n",
        "**Syntax of `strip()` function:** `string.strip(character)`\n",
        "\n",
        "Where `character` is the character to be removed from both ends of a string."
      ]
    },
    {
      "cell_type": "code",
      "metadata": {
        "id": "mxbTH791h0cD",
        "colab": {
          "base_uri": "https://localhost:8080/",
          "height": 35
        },
        "outputId": "14f0f9a1-0e58-4383-b578-7e2ceb9ae924"
      },
      "source": [
        "# S1.1: Remove whitespaces from both ends of the given string.\n",
        "htags = ' #food, #foodie, #yummy, #delicious, #foodislife ## '\n",
        "htags.strip()"
      ],
      "execution_count": null,
      "outputs": [
        {
          "output_type": "execute_result",
          "data": {
            "application/vnd.google.colaboratory.intrinsic+json": {
              "type": "string"
            },
            "text/plain": [
              "'#food, #foodie, #yummy, #delicious, #foodislife ##'"
            ]
          },
          "metadata": {},
          "execution_count": 5
        }
      ]
    },
    {
      "cell_type": "code",
      "metadata": {
        "id": "pYt-Qka3eHsM",
        "colab": {
          "base_uri": "https://localhost:8080/",
          "height": 35
        },
        "outputId": "0efe8a5a-d2ac-4681-ead9-69ddafcc5cfb"
      },
      "source": [
        "# S1.2: Strip whitespaces and '#' symbols from both ends of the given string.\n",
        "htags = ' #food, #foodie, #yummy, #delicious, #foodislife ## '\n",
        "htags.strip(\" #\")"
      ],
      "execution_count": null,
      "outputs": [
        {
          "output_type": "execute_result",
          "data": {
            "application/vnd.google.colaboratory.intrinsic+json": {
              "type": "string"
            },
            "text/plain": [
              "'food, #foodie, #yummy, #delicious, #foodislife'"
            ]
          },
          "metadata": {},
          "execution_count": 6
        }
      ]
    },
    {
      "cell_type": "markdown",
      "metadata": {
        "id": "aoY0M97aokd_"
      },
      "source": [
        "If you want to remove some character only from the rightmost end side of a string, then you can use the `rstrip()` function.\n",
        "\n",
        "**Syntax of `rstrip()` function:**  `string.rstrip(character)`\n",
        "\n",
        "Where `character` is the character to be removed from the rightmost end of a string."
      ]
    },
    {
      "cell_type": "code",
      "metadata": {
        "id": "n0TMCqhlleeb",
        "colab": {
          "base_uri": "https://localhost:8080/",
          "height": 35
        },
        "outputId": "7613a653-fe3f-45d0-ed5c-73d305f13606"
      },
      "source": [
        "# S1.3: Strip whitespaces and '#' symbols from the rightmost end of the given string.\n",
        "htags = ' #food, #foodie, #yummy, #delicious, #foodislife ## '\n",
        "htags.rstrip(\" #\")"
      ],
      "execution_count": null,
      "outputs": [
        {
          "output_type": "execute_result",
          "data": {
            "application/vnd.google.colaboratory.intrinsic+json": {
              "type": "string"
            },
            "text/plain": [
              "' #food, #foodie, #yummy, #delicious, #foodislife'"
            ]
          },
          "metadata": {},
          "execution_count": 7
        }
      ]
    },
    {
      "cell_type": "markdown",
      "metadata": {
        "id": "GoYtEnCRuklj"
      },
      "source": [
        "If you want to remove some character only from the leftmost end side of a string, then you can use the `lstrip()` function.\n",
        "\n",
        "**Syntax of `lstrip()` function:**  `string.lstrip(character)`\n",
        "\n",
        "Where `character` is the character to be removed from the leftmost end of a string."
      ]
    },
    {
      "cell_type": "code",
      "metadata": {
        "id": "cJpIOHAspGhN",
        "colab": {
          "base_uri": "https://localhost:8080/",
          "height": 35
        },
        "outputId": "e22f0c1a-75fa-46e8-e202-de7385c965db"
      },
      "source": [
        "# S1.4: Strip whitespaces and '#' symbols from the leftmost end of the given string.\n",
        "htags = ' #food, #foodie, #yummy, #delicious, #foodislife ## '\n",
        "htags.lstrip(\" #\")"
      ],
      "execution_count": null,
      "outputs": [
        {
          "output_type": "execute_result",
          "data": {
            "application/vnd.google.colaboratory.intrinsic+json": {
              "type": "string"
            },
            "text/plain": [
              "'food, #foodie, #yummy, #delicious, #foodislife ## '"
            ]
          },
          "metadata": {},
          "execution_count": 8
        }
      ]
    },
    {
      "cell_type": "markdown",
      "metadata": {
        "id": "yCZ_uXveu-fz"
      },
      "source": [
        "---"
      ]
    },
    {
      "cell_type": "markdown",
      "metadata": {
        "id": "ZiFoVm3Iu_v6"
      },
      "source": [
        "#### Task 2: The `split()` Function\n",
        "\n",
        "The `split()` function splits a string and returns a list of splitted strings.\n",
        "\n",
        "For example, the `split()` function will split the string `' #food, #foodie, #yummy, #delicious, #foodislife ## '` and will return a list containing its fragments as items."
      ]
    },
    {
      "cell_type": "code",
      "metadata": {
        "id": "XYMb7xHPu_Hu",
        "colab": {
          "base_uri": "https://localhost:8080/"
        },
        "outputId": "57077a17-6ba9-44e1-d7c2-d7b8712e8834"
      },
      "source": [
        "# S2.1: Apply the 'split()' function without passing any input to it on the given string.\n",
        "htags = ' #food, #foodie, #yummy, #delicious, #foodislife ## '\n",
        "htags.split()"
      ],
      "execution_count": null,
      "outputs": [
        {
          "output_type": "execute_result",
          "data": {
            "text/plain": [
              "['#food,', '#foodie,', '#yummy,', '#delicious,', '#foodislife', '##']"
            ]
          },
          "metadata": {},
          "execution_count": 9
        }
      ]
    },
    {
      "cell_type": "markdown",
      "metadata": {
        "id": "wVMLyWJzvqGu"
      },
      "source": [
        "By default, the `split()` function splits a string about whitespace. If you want to split a string about a particular item, then you have to specify that item as an input to the `split()` function.\n",
        "\n",
        "Let's split the string `' #food, #foodie, #yummy, #delicious, #foodislife ## '` about the comma and whitespace."
      ]
    },
    {
      "cell_type": "code",
      "metadata": {
        "id": "Fa6QhswjdeLX",
        "colab": {
          "base_uri": "https://localhost:8080/"
        },
        "outputId": "681a0ff0-ef33-4507-c3d8-3aa1e3272928"
      },
      "source": [
        "# S2.2: Split the string ' #food, #foodie, #yummy, #delicious, #foodislife ## ' about the whitespace and comma.\n",
        "htags = ' #food, #foodie, #yummy, #delicious, #foodislife ## '\n",
        "htags_list=htags.split(\", \")\n",
        "htags_list"
      ],
      "execution_count": null,
      "outputs": [
        {
          "output_type": "execute_result",
          "data": {
            "text/plain": [
              "[' #food', '#foodie', '#yummy', '#delicious', '#foodislife ## ']"
            ]
          },
          "metadata": {},
          "execution_count": 10
        }
      ]
    },
    {
      "cell_type": "code",
      "metadata": {
        "id": "vzj5y1FbvojZ",
        "colab": {
          "base_uri": "https://localhost:8080/"
        },
        "outputId": "95561000-2b06-4bef-c3e0-d0ab7cbf8252"
      },
      "source": [
        "# S2.3: Remove the hash symbols and whitespaces from all the items contained in the above list. Store the cleaned items in a new list.\n",
        "list1=[]\n",
        "for item in htags_list:\n",
        "  list1.append(item.strip(\" #\"))\n",
        "list1\n",
        "  "
      ],
      "execution_count": null,
      "outputs": [
        {
          "output_type": "execute_result",
          "data": {
            "text/plain": [
              "['food', 'foodie', 'yummy', 'delicious', 'foodislife']"
            ]
          },
          "metadata": {},
          "execution_count": 11
        }
      ]
    },
    {
      "cell_type": "markdown",
      "metadata": {
        "id": "Q0bB5qCCwQ5G"
      },
      "source": [
        "---"
      ]
    },
    {
      "cell_type": "markdown",
      "metadata": {
        "id": "4cDLkzOHwbeY"
      },
      "source": [
        "#### Task 3: The `join()` Function\n",
        "\n",
        "To join the items contained in a list to form a string, you can use the `join()` function. \n",
        "\n",
        "**Syntax of `join()` function:**  `joining_character.join(list)`\n",
        "\n",
        "\n",
        "**Note:** This function works on the lists containing only the string items.\n"
      ]
    },
    {
      "cell_type": "code",
      "metadata": {
        "id": "Cs48MLoFvU6_",
        "colab": {
          "base_uri": "https://localhost:8080/",
          "height": 35
        },
        "outputId": "af83a95e-d321-485c-b540-251f80612179"
      },
      "source": [
        "# S3.1: Create a new string by joining the items of the above list (containing clean items) about whitespace.\n",
        "\" \".join(list1)"
      ],
      "execution_count": null,
      "outputs": [
        {
          "output_type": "execute_result",
          "data": {
            "application/vnd.google.colaboratory.intrinsic+json": {
              "type": "string"
            },
            "text/plain": [
              "'food foodie yummy delicious foodislife'"
            ]
          },
          "metadata": {},
          "execution_count": 12
        }
      ]
    },
    {
      "cell_type": "markdown",
      "metadata": {
        "id": "Ve4pjwAKkx6I"
      },
      "source": [
        "Let's write a code to create a 12 character long password containing a combination of lowercase & uppercase English letters numbers and special characters.\n",
        "\n",
        "For this exercise, we have to import the `string` module that contains the following string constants.\n",
        "\n",
        "1. `string.ascii_lowercase`: A constant string of lowercase letters, i.e.,`'abcdefghijklmnopqrstuvwxyz'`\n",
        "\n",
        "2. `string.ascii_uppercase`: A constant string of uppercase letters, i.e., `'ABCDEFGHIJKLMNOPQRSTUVWXYZ'`\n",
        "\n",
        "3. `string.ascii_letters`: A constant string containing the concatenation of the `ascii_lowercase` and `ascii_uppercase` constants, i.e., `'abcdefghijklmnopqrstuvwxyzABCDEFGHIJKLMNOPQRSTUVWXYZ'`\n",
        "\n",
        "4. `string.digits`: A constant string of the digits, i.e, `'0123456789'`\n",
        "\n",
        "5. `string.punctuation`: A constant string of ASCII characters which are considered as punctuation characters, i.e., ``!\"#$%&'()*+,-./:;<=>?@[\\]^_`{|}~``\n",
        "\n",
        "The constants are those values which are universally true. E.g., value of `pi = 3.141` etc.\n",
        "\n",
        "Of course, you can create all of the above on your own by typing them individually. But then your life will become miserable."
      ]
    },
    {
      "cell_type": "code",
      "metadata": {
        "id": "l7UvAgLqthax",
        "colab": {
          "base_uri": "https://localhost:8080/"
        },
        "outputId": "50c4d9a1-f334-4ba1-8545-dcd5dda1f914"
      },
      "source": [
        "# S3.2: Write a code to generate a 12 character long random password containing a combination of lowercase & \n",
        "# uppercase English letters numbers and special characters.\n",
        "import string\n",
        "import random\n",
        "chars = string.ascii_letters + string.digits + string.punctuation # String concatenation\n",
        "print(f\"Alphanumeric string:\\n\\t{chars}\\n\\nLength: {len(chars)}\\n\")\n",
        "rand_chars = [chars[random.randint(0, len(chars) - 1)] for i in range(12)] # Generate 12 random integers between 0 and 93.\n",
        "print(rand_chars)\n",
        "password = ''.join(rand_chars) # Joining items of the list about the empty string.\n",
        "print(f\"12-character long random password:\\n\\t{password}\")"
      ],
      "execution_count": null,
      "outputs": [
        {
          "output_type": "stream",
          "name": "stdout",
          "text": [
            "Alphanumeric string:\n",
            "\tabcdefghijklmnopqrstuvwxyzABCDEFGHIJKLMNOPQRSTUVWXYZ0123456789!\"#$%&'()*+,-./:;<=>?@[\\]^_`{|}~\n",
            "\n",
            "Length: 94\n",
            "\n",
            "['Y', 'O', 'I', 'o', 'x', 'q', 'x', '[', 'j', 'w', 'Y', 'S']\n",
            "12-character long random password:\n",
            "\tYOIoxqx[jwYS\n"
          ]
        }
      ]
    },
    {
      "cell_type": "markdown",
      "metadata": {
        "id": "VqSTUpO-o-8X"
      },
      "source": [
        "In the above code:\n",
        "\n",
        "- An alphanumeric string is created by concatenating the `string.ascii_letters, string.digits, string.punctuation` constants.\n",
        "\n",
        "- A list is created using the list comprehension method: \n",
        "\n",
        "    - By first generating 12 random integers between `0` and `93`. They act as indices for any 12 items of the alphanumeric string.\n",
        "\n",
        "    - Then, by adding the items to the list that are retrieved from the alphanumeric string.\n",
        "\n",
        "- The `join()` function joins the items of the above list about an empty string."
      ]
    },
    {
      "cell_type": "markdown",
      "metadata": {
        "id": "ASoiuhx3yPzV"
      },
      "source": [
        "---"
      ]
    },
    {
      "cell_type": "markdown",
      "metadata": {
        "id": "JEnaq7CeyQ9Q"
      },
      "source": [
        "#### Task 4: The `capitalize(), lower(), upper()` & `title()` Functions\n",
        "\n",
        "The `capitalize()` function, capitalizes only the item at `index = 0` provided that the item is a lowercase English letter. The syntax is `string.capitalize()`."
      ]
    },
    {
      "cell_type": "code",
      "metadata": {
        "id": "ln7sQZkV9h-_",
        "colab": {
          "base_uri": "https://localhost:8080/",
          "height": 35
        },
        "outputId": "386170a7-a56f-415b-a750-6ef64097e445"
      },
      "source": [
        "# S4.1: Create a string having the first item as a lowercase English letter. Then, apply the 'capitalize()' function on it.\n",
        "quote = \"tell me and i forget. teach me and i remember. involve me and i learn.\"\n",
        "quote.capitalize()"
      ],
      "execution_count": null,
      "outputs": [
        {
          "output_type": "execute_result",
          "data": {
            "application/vnd.google.colaboratory.intrinsic+json": {
              "type": "string"
            },
            "text/plain": [
              "'Tell me and i forget. teach me and i remember. involve me and i learn.'"
            ]
          },
          "metadata": {},
          "execution_count": 14
        }
      ]
    },
    {
      "cell_type": "markdown",
      "metadata": {
        "id": "CyONvRyCJCB-"
      },
      "source": [
        "The `lower()` function converts all the uppercase English letters to the lowercase letters. The syntax is `string.lower()`"
      ]
    },
    {
      "cell_type": "code",
      "metadata": {
        "id": "2nFS5jxiw0Kt",
        "colab": {
          "base_uri": "https://localhost:8080/",
          "height": 35
        },
        "outputId": "9a3556dd-f613-4090-bffc-9cb7d6f96f4a"
      },
      "source": [
        "# S4.2: Apply the 'lower()' function on the above capitalized string.\n",
        "quote = \"HI Iam ROBOT\"\n",
        "quote.lower()"
      ],
      "execution_count": null,
      "outputs": [
        {
          "output_type": "execute_result",
          "data": {
            "application/vnd.google.colaboratory.intrinsic+json": {
              "type": "string"
            },
            "text/plain": [
              "'hi iam robot'"
            ]
          },
          "metadata": {},
          "execution_count": 15
        }
      ]
    },
    {
      "cell_type": "markdown",
      "metadata": {
        "id": "l-z_bvzIJoXo"
      },
      "source": [
        "The `upper()` function converts all the lowercase English letters to the uppercase letters. The syntax is `string.upper()`"
      ]
    },
    {
      "cell_type": "code",
      "metadata": {
        "id": "sbVqMkPCZxpv",
        "colab": {
          "base_uri": "https://localhost:8080/",
          "height": 35
        },
        "outputId": "582dd535-5583-49ce-b6d6-a4ec423a4d07"
      },
      "source": [
        "# S4.3: Apply the 'upper()' function on the above lowercase string.\n",
        "quote = \"tell me and i forget. teach me and i remember. involve me and i learn.\"\n",
        "quote.upper()"
      ],
      "execution_count": null,
      "outputs": [
        {
          "output_type": "execute_result",
          "data": {
            "application/vnd.google.colaboratory.intrinsic+json": {
              "type": "string"
            },
            "text/plain": [
              "'TELL ME AND I FORGET. TEACH ME AND I REMEMBER. INVOLVE ME AND I LEARN.'"
            ]
          },
          "metadata": {},
          "execution_count": 16
        }
      ]
    },
    {
      "cell_type": "markdown",
      "metadata": {
        "id": "trc26JlyK9Fk"
      },
      "source": [
        "The `title()` function capitalizes the first English letter of every word in a string provided that the words are separated in some way. The syntax is `string.title()`"
      ]
    },
    {
      "cell_type": "code",
      "metadata": {
        "id": "G3NPpHQPZwMK",
        "colab": {
          "base_uri": "https://localhost:8080/",
          "height": 35
        },
        "outputId": "939d16a9-cded-47b2-a9f9-6f8b67483e6b"
      },
      "source": [
        "# S4.4: Apply the 'title()' function on the above uppercase string.\n",
        "quote = \"tell me and i forget. teach me and i remember. involve me and i learn.\"\n",
        "quote.title()"
      ],
      "execution_count": null,
      "outputs": [
        {
          "output_type": "execute_result",
          "data": {
            "application/vnd.google.colaboratory.intrinsic+json": {
              "type": "string"
            },
            "text/plain": [
              "'Tell Me And I Forget. Teach Me And I Remember. Involve Me And I Learn.'"
            ]
          },
          "metadata": {},
          "execution_count": 17
        }
      ]
    },
    {
      "cell_type": "markdown",
      "metadata": {
        "id": "jw7jMsa2NQ1q"
      },
      "source": [
        "---"
      ]
    },
    {
      "cell_type": "markdown",
      "metadata": {
        "id": "DtKI0JeVN9U5"
      },
      "source": [
        "#### Task 5: The `isupper(), islower()` & `istitle()` Functions\n",
        "\n",
        "The `istitle()` function returns `True` if the words in a string are in a title case. Otherwise, it returns `False`."
      ]
    },
    {
      "cell_type": "code",
      "metadata": {
        "id": "9Rg7h5KHNipJ",
        "colab": {
          "base_uri": "https://localhost:8080/"
        },
        "outputId": "71a857aa-c384-4149-aeb2-bcbc7455fc77"
      },
      "source": [
        "# S5.1: Apply the 'istitle()' function on the string that is in the title case.\n",
        "quote.istitle()"
      ],
      "execution_count": null,
      "outputs": [
        {
          "output_type": "execute_result",
          "data": {
            "text/plain": [
              "False"
            ]
          },
          "metadata": {},
          "execution_count": 18
        }
      ]
    },
    {
      "cell_type": "markdown",
      "metadata": {
        "id": "FXNvpkRgPQto"
      },
      "source": [
        "While applying the `istitle()` function on each English letter one-by-one, it returns `True` if the letter is in uppercase. Otherwise, it returns `False`."
      ]
    },
    {
      "cell_type": "code",
      "metadata": {
        "id": "soYffnhONsmM",
        "colab": {
          "base_uri": "https://localhost:8080/"
        },
        "outputId": "6a110e9d-e13e-4dab-d317-8561205c9625"
      },
      "source": [
        "# S5.2: Iterate through the first 10 items in the title cased string and also apply the 'istitle()' function.\n",
        "for i in quote:\n",
        "  print(i,i.istitle())"
      ],
      "execution_count": null,
      "outputs": [
        {
          "output_type": "stream",
          "name": "stdout",
          "text": [
            "t False\n",
            "e False\n",
            "l False\n",
            "l False\n",
            "  False\n",
            "m False\n",
            "e False\n",
            "  False\n",
            "a False\n",
            "n False\n",
            "d False\n",
            "  False\n",
            "i False\n",
            "  False\n",
            "f False\n",
            "o False\n",
            "r False\n",
            "g False\n",
            "e False\n",
            "t False\n",
            ". False\n",
            "  False\n",
            "t False\n",
            "e False\n",
            "a False\n",
            "c False\n",
            "h False\n",
            "  False\n",
            "m False\n",
            "e False\n",
            "  False\n",
            "a False\n",
            "n False\n",
            "d False\n",
            "  False\n",
            "i False\n",
            "  False\n",
            "r False\n",
            "e False\n",
            "m False\n",
            "e False\n",
            "m False\n",
            "b False\n",
            "e False\n",
            "r False\n",
            ". False\n",
            "  False\n",
            "i False\n",
            "n False\n",
            "v False\n",
            "o False\n",
            "l False\n",
            "v False\n",
            "e False\n",
            "  False\n",
            "m False\n",
            "e False\n",
            "  False\n",
            "a False\n",
            "n False\n",
            "d False\n",
            "  False\n",
            "i False\n",
            "  False\n",
            "l False\n",
            "e False\n",
            "a False\n",
            "r False\n",
            "n False\n",
            ". False\n"
          ]
        }
      ]
    },
    {
      "cell_type": "markdown",
      "metadata": {
        "id": "Mcn0DPyIQK4h"
      },
      "source": [
        "Similarly, the `isupper()` function returns `True` if an English letter is in uppercase and the `islower()` function returns `True` if an English letter is in lowercase. Otherwise, they return `False`."
      ]
    },
    {
      "cell_type": "markdown",
      "metadata": {
        "id": "UChMXLiTaWe3"
      },
      "source": [
        "---"
      ]
    },
    {
      "cell_type": "markdown",
      "metadata": {
        "id": "FppweQm1RI-U"
      },
      "source": [
        "#### Task 6: The `ljust(), rjust()` & `center()` Functions\n",
        "\n",
        "The `ljust()` function returns a fixed-length string padded with some special character and justifies (or aligns) it on the left-hand side of the output console. The syntax is `string.ljust(length, character)`\n",
        "\n",
        "Let's write a code to get the following output using the `ljust()` function.\n",
        "\n",
        "```\n",
        "1000\n",
        "2000\n",
        "3000\n",
        "4000\n",
        "5000\n",
        "```\n",
        "\n",
        "Each item in the above output is a string of length `4` padded with `0` and left justified.\n"
      ]
    },
    {
      "cell_type": "code",
      "metadata": {
        "id": "cuyFG-I2VaBP",
        "colab": {
          "base_uri": "https://localhost:8080/"
        },
        "outputId": "edf8becb-bf8b-4827-b7a7-1393fc54328f"
      },
      "source": [
        "# S6.1: Write a code to get the above output using the 'ljust()' function.\n",
        "for i in range(1,6):\n",
        "  print(f\"{i}\".ljust(4,\"0\"))"
      ],
      "execution_count": null,
      "outputs": [
        {
          "output_type": "stream",
          "name": "stdout",
          "text": [
            "1000\n",
            "2000\n",
            "3000\n",
            "4000\n",
            "5000\n"
          ]
        }
      ]
    },
    {
      "cell_type": "markdown",
      "metadata": {
        "id": "ZXwRU3aaWjxQ"
      },
      "source": [
        "**The `rjust()` function** returns a fixed-length string padded with some special character and justifies (or aligns) it on the right-hand side of the output console. The syntax is `string.rjust(length, character)`\n",
        "\n",
        "Now, write a code to get the following output using the `rjust()` function.\n",
        "\n",
        "```\n",
        "00001\n",
        "00002\n",
        "00003\n",
        "00004\n",
        "00005\n",
        "```\n",
        "\n",
        "Each item in the above output is a string of length `5` padded with `0` and right justified."
      ]
    },
    {
      "cell_type": "code",
      "metadata": {
        "id": "19-SPOeqW-tj",
        "colab": {
          "base_uri": "https://localhost:8080/"
        },
        "outputId": "eafc5d73-a98b-48c0-d82d-e8438f212194"
      },
      "source": [
        "# S6.2: Write a code to get the above output using the 'rjust()' function.\n",
        "for i in range(1,6):\n",
        "  print(f\"{i}\".rjust(5,\"0\"))"
      ],
      "execution_count": null,
      "outputs": [
        {
          "output_type": "stream",
          "name": "stdout",
          "text": [
            "00001\n",
            "00002\n",
            "00003\n",
            "00004\n",
            "00005\n"
          ]
        }
      ]
    },
    {
      "cell_type": "markdown",
      "metadata": {
        "id": "BC-_dts8XKQ5"
      },
      "source": [
        "**The `center()` function** returns a fixed-length string padded with some special character and justifies (or aligns) it at the center of the output console. The syntax is `string.center(length, character)`\n",
        "\n",
        "Now, write a code to get the following output.\n",
        "\n",
        "```\n",
        "-------#-------\n",
        "------###------\n",
        "-----#####-----\n",
        "----#######----\n",
        "---#########---\n",
        "--###########--\n",
        "-#############-\n",
        "###############\n",
        "```\n",
        "\n",
        "Each item in the above output is a string of length `15` padded with `-` and centre justified."
      ]
    },
    {
      "cell_type": "code",
      "metadata": {
        "id": "8rd5mmeMXfqu",
        "colab": {
          "base_uri": "https://localhost:8080/"
        },
        "outputId": "f0324086-3cdc-4767-bc18-244df20c6e73"
      },
      "source": [
        "# S6.3: Write a code to get the above output using the 'center()' function.\n",
        "for i in range(1, 16):\n",
        "  if i % 2 != 0:\n",
        "    print(f\"{'#' * i}\".center(15, '-'))"
      ],
      "execution_count": null,
      "outputs": [
        {
          "output_type": "stream",
          "name": "stdout",
          "text": [
            "-------#-------\n",
            "------###------\n",
            "-----#####-----\n",
            "----#######----\n",
            "---#########---\n",
            "--###########--\n",
            "-#############-\n",
            "###############\n"
          ]
        }
      ]
    },
    {
      "cell_type": "markdown",
      "metadata": {
        "id": "1gvWPJgHZY2R"
      },
      "source": [
        "**Note:** If the `character` value is not defined in the `ljust(), rjust()` and `center()` functions, then they take whitespace as the default character."
      ]
    },
    {
      "cell_type": "markdown",
      "metadata": {
        "id": "BXxvHiMXZHyC"
      },
      "source": [
        "---"
      ]
    },
    {
      "cell_type": "markdown",
      "metadata": {
        "id": "Wql1_zNhFaYO"
      },
      "source": [
        "#### Task 7: The `replace()` Function\n",
        "\n",
        "If you want to replace an item in a string with some other item, then you can use the `replace()` function.\n",
        "\n",
        "**Syntax of `replace()` function:** `string.replace(item_to_be_replaced, new_item)`\n",
        "\n",
        "Let's learn this concept with the help of an example. Consider the text below.\n",
        "\n",
        "*Who invented the sole? How can we scientifically prove that a sole exists? If the sole is an energy, then what kind of energy it is? The laws of physics state that energy can neither be created nor be destroyed. So, if the sole is an energy, then how does it transfer from one form to another after the death of a person? We know that the laws of physics are universally true. So, it means either the sole is not an energy or it doesn't exist.*\n",
        "\n",
        "The word *soul* has been mistakenly reported as *sole* by a machine because they are *homophone*. Two or more words having the same pronunciation are called *homophone*. \n",
        "\n",
        "We can replace the word *sole* with *soul* using the `replace()` function:"
      ]
    },
    {
      "cell_type": "code",
      "metadata": {
        "id": "-SSWzWCWFzQX",
        "colab": {
          "base_uri": "https://localhost:8080/"
        },
        "outputId": "ad90334f-3d64-4c93-df8d-22a8a068c66e"
      },
      "source": [
        "# S7.1: Replace the word 'sole' with 'soul' in the given paragraph.\n",
        "para = \"\"\"\n",
        "Who invented the sole? How can we scientifically prove that a sole exists? \n",
        "If the sole is an energy, then what kind of energy it is? \n",
        "The laws of physics state that energy can neither be created nor be destroyed. \n",
        "So, if the sole is an energy, then how does it transfer from one form to another after the death of a person? \n",
        "We know that the laws of physics are universally true. So, it means either the sole is not an energy or it doesn't exist.\n",
        "\"\"\"\n",
        "mod_para=para.replace('sole','soul')\n",
        "print(mod_para)\n"
      ],
      "execution_count": null,
      "outputs": [
        {
          "output_type": "stream",
          "name": "stdout",
          "text": [
            "\n",
            "Who invented the soul? How can we scientifically prove that a soul exists? \n",
            "If the soul is an energy, then what kind of energy it is? \n",
            "The laws of physics state that energy can neither be created nor be destroyed. \n",
            "So, if the soul is an energy, then how does it transfer from one form to another after the death of a person? \n",
            "We know that the laws of physics are universally true. So, it means either the soul is not an energy or it doesn't exist.\n",
            "\n"
          ]
        }
      ]
    },
    {
      "cell_type": "markdown",
      "metadata": {
        "id": "IRf9TEYTZryM"
      },
      "source": [
        "**Note:** If you print a multiline string without using the `print()` function, then you will get a single-line string containing the newline `\\n` character. In fact, this is how all the multiline strings are stored in Python."
      ]
    },
    {
      "cell_type": "code",
      "metadata": {
        "id": "Ej-CGR7yFBYT",
        "colab": {
          "base_uri": "https://localhost:8080/",
          "height": 87
        },
        "outputId": "9d06486f-b92b-4416-de9e-d2629141a440"
      },
      "source": [
        "# S7.2: Print the above modified multiline string without using the 'print()' function.\n",
        "mod_para"
      ],
      "execution_count": null,
      "outputs": [
        {
          "output_type": "execute_result",
          "data": {
            "application/vnd.google.colaboratory.intrinsic+json": {
              "type": "string"
            },
            "text/plain": [
              "\"\\nWho invented the soul? How can we scientifically prove that a soul exists? \\nIf the soul is an energy, then what kind of energy it is? \\nThe laws of physics state that energy can neither be created nor be destroyed. \\nSo, if the soul is an energy, then how does it transfer from one form to another after the death of a person? \\nWe know that the laws of physics are universally true. So, it means either the soul is not an energy or it doesn't exist.\\n\""
            ]
          },
          "metadata": {},
          "execution_count": 24
        }
      ]
    },
    {
      "cell_type": "markdown",
      "metadata": {
        "id": "LJIdIS5Zaa-Z"
      },
      "source": [
        "Let's split the above string about the newline character."
      ]
    },
    {
      "cell_type": "code",
      "metadata": {
        "id": "qnZHgVG1CDwS",
        "colab": {
          "base_uri": "https://localhost:8080/"
        },
        "outputId": "3bcad170-aca4-4c3e-fce1-8b0c68d656c2"
      },
      "source": [
        "# S7.3: Split the above string about the newline character.\n",
        "mod_list=mod_para.split(\"\\n\")\n",
        "mod_list"
      ],
      "execution_count": null,
      "outputs": [
        {
          "output_type": "execute_result",
          "data": {
            "text/plain": [
              "['',\n",
              " 'Who invented the soul? How can we scientifically prove that a soul exists? ',\n",
              " 'If the soul is an energy, then what kind of energy it is? ',\n",
              " 'The laws of physics state that energy can neither be created nor be destroyed. ',\n",
              " 'So, if the soul is an energy, then how does it transfer from one form to another after the death of a person? ',\n",
              " \"We know that the laws of physics are universally true. So, it means either the soul is not an energy or it doesn't exist.\",\n",
              " '']"
            ]
          },
          "metadata": {},
          "execution_count": 26
        }
      ]
    },
    {
      "cell_type": "markdown",
      "metadata": {
        "id": "cFqmonOnatLL"
      },
      "source": [
        "The output is a list containing several single-line strings without having the newline character.\n",
        "\n",
        "Now, right justify the strings in the above list such that each string length is equal to the length of the longest string. But before that remove any unwanted strings from the list using the `remove()` function."
      ]
    },
    {
      "cell_type": "code",
      "metadata": {
        "id": "xLl67ztwbc_y",
        "colab": {
          "base_uri": "https://localhost:8080/"
        },
        "outputId": "66544905-9d6c-441d-aad2-bf00414bfca3"
      },
      "source": [
        "# S7.4: Remove the unwanted strings from the above list. \n",
        "# Note: This exercise may not be required depending on how you indent a multiline string.\n",
        "mod_list.pop(0)\n",
        "mod_list.pop()\n",
        "print(mod_list)\n"
      ],
      "execution_count": null,
      "outputs": [
        {
          "output_type": "stream",
          "name": "stdout",
          "text": [
            "['Who invented the soul? How can we scientifically prove that a soul exists? ', 'If the soul is an energy, then what kind of energy it is? ', 'The laws of physics state that energy can neither be created nor be destroyed. ', 'So, if the soul is an energy, then how does it transfer from one form to another after the death of a person? ', \"We know that the laws of physics are universally true. So, it means either the soul is not an energy or it doesn't exist.\"]\n"
          ]
        }
      ]
    },
    {
      "cell_type": "code",
      "metadata": {
        "id": "clb2lNO-Sdh4",
        "colab": {
          "base_uri": "https://localhost:8080/"
        },
        "outputId": "dabc6e0c-6755-4483-c3be-f2d6af702b26"
      },
      "source": [
        "# S7.5: Right justify the strings in the above list such that each string length is equal to the length of the longest string.\n",
        "for item in mod_list:\n",
        "  item = item.strip(\" \")\n",
        "  print(item.rjust(len(mod_list[-1]), ' '))"
      ],
      "execution_count": null,
      "outputs": [
        {
          "output_type": "stream",
          "name": "stdout",
          "text": [
            "                                               Who invented the soul? How can we scientifically prove that a soul exists?\n",
            "                                                                If the soul is an energy, then what kind of energy it is?\n",
            "                                           The laws of physics state that energy can neither be created nor be destroyed.\n",
            "            So, if the soul is an energy, then how does it transfer from one form to another after the death of a person?\n",
            "We know that the laws of physics are universally true. So, it means either the soul is not an energy or it doesn't exist.\n"
          ]
        }
      ]
    },
    {
      "cell_type": "code",
      "metadata": {
        "id": "IB4QPuapDjKY",
        "colab": {
          "base_uri": "https://localhost:8080/"
        },
        "outputId": "5e32fb97-bc4a-4600-e993-c7db241a17d6"
      },
      "source": [
        "# S7.6: Center justify the strings in the above list such that each string length is equal to the length of the longest string.\n",
        "for item in mod_list:\n",
        "  item = item.strip(\" \")\n",
        "  print(item.center(len(mod_list[-1]), ' '))"
      ],
      "execution_count": null,
      "outputs": [
        {
          "output_type": "stream",
          "name": "stdout",
          "text": [
            "                        Who invented the soul? How can we scientifically prove that a soul exists?                       \n",
            "                                If the soul is an energy, then what kind of energy it is?                                \n",
            "                      The laws of physics state that energy can neither be created nor be destroyed.                     \n",
            "      So, if the soul is an energy, then how does it transfer from one form to another after the death of a person?      \n",
            "We know that the laws of physics are universally true. So, it means either the soul is not an energy or it doesn't exist.\n"
          ]
        }
      ]
    },
    {
      "cell_type": "markdown",
      "metadata": {
        "id": "g7Ke-E7hpwS8"
      },
      "source": [
        "---"
      ]
    },
    {
      "cell_type": "markdown",
      "metadata": {
        "id": "WZuh0OGvpxqo"
      },
      "source": [
        "#### Task 8: The Escape Character (`\\`)\n",
        "\n",
        "Sometimes you might have to create a string which would contain a combination of single quotes (`''`), double quotes (`\"\"`) or an apostrophe (`'`). In such cases, Python will terminate the string before it is complete. To create such strings, you can use the **escape character** represented by backslash sign (`\\`).\n",
        "\n",
        "Let's create the following string using the escape character.\n",
        "\n",
        "`\"She just said 'That should work' and walked out the door\", he clarified.`\n",
        "\n",
        "To create the above string using double-quotes, you will have to put one backslash before `\"She...` as shown below.\n",
        "\n",
        "`\\\"She...`\n",
        "\n",
        "and one backslash before `\", he...` as shown below\n",
        "\n",
        "`\\\", he...`\n"
      ]
    },
    {
      "cell_type": "code",
      "metadata": {
        "id": "1fm0xW6ip2_V",
        "colab": {
          "base_uri": "https://localhost:8080/"
        },
        "outputId": "377bc926-0087-4336-a510-240b020c2c54"
      },
      "source": [
        "# S8.1: Create the above string using double quotes and the escape character.\n",
        "sentence = \"\\\"She just said 'That should work' and walked out the door\\\", he clarified.\"\n",
        "print(sentence)"
      ],
      "execution_count": null,
      "outputs": [
        {
          "output_type": "stream",
          "name": "stdout",
          "text": [
            "\"She just said 'That should work' and walked out the door\", he clarified.\n"
          ]
        }
      ]
    },
    {
      "cell_type": "markdown",
      "metadata": {
        "id": "g15ezx0gdLHR"
      },
      "source": [
        "To create the given string using single-quotes, you will have to put one backslash before `'That...` as shown below\n",
        "\n",
        "`\\'That...`\n",
        "\n",
        "and one backslash before `' and...\"` as shown below\n",
        "\n",
        "`\\' and...'`"
      ]
    },
    {
      "cell_type": "code",
      "metadata": {
        "id": "T8mbYWCedAuY",
        "colab": {
          "base_uri": "https://localhost:8080/"
        },
        "outputId": "12937780-987c-46fc-f111-b9919e7ddbe5"
      },
      "source": [
        "# S8.2: Create the given string using single quotes and the escape character.\n",
        "sentence = '\"She just said \\'That should work\\' and walked out the door\", he clarified.'\n",
        "print(sentence)"
      ],
      "execution_count": null,
      "outputs": [
        {
          "output_type": "stream",
          "name": "stdout",
          "text": [
            "\"She just said 'That should work' and walked out the door\", he clarified.\n"
          ]
        }
      ]
    },
    {
      "cell_type": "markdown",
      "metadata": {
        "id": "ncUKXmHXsalK"
      },
      "source": [
        "If you create the above string without putting the escape character, then Python will throw a `SyntaxError`."
      ]
    },
    {
      "cell_type": "code",
      "metadata": {
        "id": "NQhTFa9OsgrW",
        "colab": {
          "base_uri": "https://localhost:8080/",
          "height": 132
        },
        "outputId": "674ee043-91f5-42f3-9792-4d4d62bf3d6b"
      },
      "source": [
        "# S8.3: Create the above string without putting the escape character.\n",
        "sentence = '\"She just said 'That should work' and walked out the door\", he clarified.'\n",
        "print(sentence)"
      ],
      "execution_count": null,
      "outputs": [
        {
          "output_type": "error",
          "ename": "SyntaxError",
          "evalue": "ignored",
          "traceback": [
            "\u001b[0;36m  File \u001b[0;32m\"<ipython-input-32-39d54bd63dab>\"\u001b[0;36m, line \u001b[0;32m2\u001b[0m\n\u001b[0;31m    sentence = '\"She just said 'That should work' and walked out the door\", he clarified.'\u001b[0m\n\u001b[0m                                   ^\u001b[0m\n\u001b[0;31mSyntaxError\u001b[0m\u001b[0;31m:\u001b[0m invalid syntax\n"
          ]
        }
      ]
    },
    {
      "cell_type": "markdown",
      "metadata": {
        "id": "sNreCXeMfx02"
      },
      "source": [
        "We have covered pretty much everything about the string operations that we need. \n",
        "\n",
        "In the next class, we will learn how to work with `datetime` values, i.e., how to extract date, time, day, month and year from a `datetime` value.\n",
        "\n",
        "\n",
        "\n",
        "\n",
        "\n",
        "\n"
      ]
    },
    {
      "cell_type": "markdown",
      "metadata": {
        "id": "tzBGoUi1_vIj"
      },
      "source": [
        "---"
      ]
    }
  ]
}