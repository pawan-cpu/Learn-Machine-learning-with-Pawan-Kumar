{
  "nbformat": 4,
  "nbformat_minor": 0,
  "metadata": {
    "colab": {
      "name": "15/12/21_Pawan Kumar Applied Tech. Project 30_v1",
      "provenance": [],
      "collapsed_sections": [],
      "include_colab_link": true
    },
    "kernelspec": {
      "name": "python3",
      "display_name": "Python 3"
    }
  },
  "cells": [
    {
      "cell_type": "markdown",
      "metadata": {
        "id": "view-in-github",
        "colab_type": "text"
      },
      "source": [
        "<a href=\"https://colab.research.google.com/github/pawan-cpu/Learn-Python-with-Pawan-Kumar/blob/main/15_12_21_Pawan_Kumar_Applied_Tech_Project_30_v1.ipynb\" target=\"_parent\"><img src=\"https://colab.research.google.com/assets/colab-badge.svg\" alt=\"Open In Colab\"/></a>"
      ]
    },
    {
      "cell_type": "markdown",
      "metadata": {
        "id": "YZnBY81YDCCr"
      },
      "source": [
        "### Instructions"
      ]
    },
    {
      "cell_type": "markdown",
      "metadata": {
        "id": "fIKnY8occu37"
      },
      "source": [
        "#### Goal of the Project\n",
        "\n",
        "This project is designed for you to practice and solve the activities that are based on the concepts covered in the following lessons:\n",
        "\n",
        "1. Python Lists.\n",
        "\n",
        "2. Introduction to Python Dictionaries.\n",
        "\n",
        "\n"
      ]
    },
    {
      "cell_type": "markdown",
      "metadata": {
        "id": "y0PYG7lvA5P-"
      },
      "source": [
        "---"
      ]
    },
    {
      "cell_type": "markdown",
      "metadata": {
        "id": "3xFBN8npA6Gw"
      },
      "source": [
        "#### Getting Started:\n",
        "\n",
        "1. Click on this link to open the Colab file for this project.\n",
        "\n",
        "    https://colab.research.google.com/drive/1olmx4PVUN8omA4ASGAxoPlbTjWErB9YP?usp=sharing\n",
        "\n",
        "2. Create a duplicate copy of the Colab file as described below.\n",
        "\n",
        "  - Click on the **File menu**. A new drop-down list will appear.\n",
        "\n",
        "   <img src='https://student-datasets-bucket.s3.ap-south-1.amazonaws.com/images/lesson-0/0_file_menu.png' width=500>\n",
        "\n",
        "  - Click on the **Save a copy in Drive** option. A duplicate copy will get created. It will open up in the new tab on your web browser.\n",
        "\n",
        "  <img src='https://student-datasets-bucket.s3.ap-south-1.amazonaws.com/images/lesson-0/1_create_colab_duplicate_copy.png' width=500>\n",
        "\n",
        "3. After creating the duplicate copy of the notebook, please rename it in the **YYYY-MM-DD_StudentName_Project30** format.\n",
        "\n",
        "4. Now, write your code in the prescribed code cells.\n"
      ]
    },
    {
      "cell_type": "markdown",
      "metadata": {
        "id": "BBqkpH4_Doqe"
      },
      "source": [
        "---"
      ]
    },
    {
      "cell_type": "markdown",
      "metadata": {
        "id": "H0P9F3DUf8x2"
      },
      "source": [
        "### Activities\n",
        "\n",
        "\n",
        "  "
      ]
    },
    {
      "cell_type": "markdown",
      "metadata": {
        "id": "BVT9G_baB1aq"
      },
      "source": [
        "#### Activity 1: Create a Python Dictionary\n",
        "\n",
        "Create a python dictionary which holds your friend's (minimum 5 friends) favourite hobby and their favourite sport.\n",
        "\n",
        "**Note** : Use the `name` of your friend as the `key` whose `value` will be another dictionary holding their favourite hobby and favourite sport. \n",
        "\n"
      ]
    },
    {
      "cell_type": "code",
      "metadata": {
        "id": "0pIGxKG9B3mb",
        "colab": {
          "base_uri": "https://localhost:8080/"
        },
        "outputId": "949ee5ab-9c49-4ad5-9a50-9fef4f5ce5dc"
      },
      "source": [
        "# Create a python dictionary holding your friend's favourite hobby and sport\n",
        "my_dict = {'Rahul' : {\"hobby\":\"drawing\",\"sport\":\"cricket\"}, \n",
        "           'Ram' : {\"hobby\":\"driving\",\"sport\":\"snooker\"} , \n",
        "           'Satya' : {\"hobby\":\"watch movies\",\"sport\":\"Billiards\"} , \n",
        "           'Adarsh' : {\"hobby\":\"driving\",\"sport\":\"hockey\"} , \n",
        "           'Aryan' : {\"hobby\":\"solve puzzles\",\"sport\":\"chess\"} , \n",
        "           'Rushik' : {\"hobby\":\"cooking\",\"sport\":\"carrom\"},  \n",
        "           'Kartheek' : {\"hobby\":\"baking\",\"sport\":\"badminton\"}, \n",
        "           'Shivam' : {\"hobby\":\"travelling\",\"sport\":\"polo\"}} \n",
        "\n",
        "my_dict"
      ],
      "execution_count": null,
      "outputs": [
        {
          "output_type": "execute_result",
          "data": {
            "text/plain": [
              "{'Adarsh': {'hobby': 'driving', 'sport': 'hockey'},\n",
              " 'Aryan': {'hobby': 'solve puzzles', 'sport': 'chess'},\n",
              " 'Kartheek': {'hobby': 'baking', 'sport': 'badminton'},\n",
              " 'Rahul': {'hobby': 'drawing', 'sport': 'cricket'},\n",
              " 'Ram': {'hobby': 'driving', 'sport': 'snooker'},\n",
              " 'Rushik': {'hobby': 'cooking', 'sport': 'carrom'},\n",
              " 'Satya': {'hobby': 'watch movies', 'sport': 'Billiards'},\n",
              " 'Shivam': {'hobby': 'travelling', 'sport': 'polo'}}"
            ]
          },
          "metadata": {},
          "execution_count": 1
        }
      ]
    },
    {
      "cell_type": "markdown",
      "metadata": {
        "id": "IJIZASayCpEW"
      },
      "source": [
        "---"
      ]
    },
    {
      "cell_type": "markdown",
      "metadata": {
        "id": "5kBinzKxn3hd"
      },
      "source": [
        "#### Activity 2: Create Beginning and End Pairs\n",
        "\n",
        "Write a function that pairs the first number in the list with the last number of the list, the second number with the second last number, and so on.\n",
        "\n",
        "**Constraints:**\n",
        "\n",
        "1. If the list has an odd length, repeat the middle number twice for the last pair.\n",
        "\n",
        "2. Return an empty list if the input is an empty list.\n",
        "\n",
        "**Examples:**\n",
        "```\n",
        "1. pair_numbers([1, 2, 3, 4, 5, 6, 7]) ➞ [[1, 7], [2, 6], [3, 5], [4, 4]]\n",
        "\n",
        "2. pair_numbers([1, 2, 3, 4, 5, 6]) ➞ [[1, 6], [2, 5], [3, 4]]\n",
        "\n",
        "3. pair_numbers([5, 9, 8, 1, 2]) ➞ [[5, 2], [9, 1], [8, 8]]\n",
        "\n",
        "4. pair_numbers([]) ➞ []\n",
        "```\n",
        "\n",
        "**Hint:** Find the middle number. Also, use `for` loop and `append()` function."
      ]
    },
    {
      "cell_type": "code",
      "metadata": {
        "id": "4gjDvOhzn6TL"
      },
      "source": [
        "# Create beginning and end pairs\n"
      ],
      "execution_count": null,
      "outputs": []
    },
    {
      "cell_type": "code",
      "source": [
        "def pair_numbers(list1):\n",
        "  result=[]\n",
        "  mid=len(list1)//2 \n",
        "  for i in range(0,mid):\n",
        "    result.append([list1[i],list1[-i-1]])\n",
        "  if len(list1)%2!=0:\n",
        "    result.append([list1[mid],list1[mid]])\n",
        "  return result\n",
        "pair_numbers([5, 9, 8, 1, 2])"
      ],
      "metadata": {
        "colab": {
          "base_uri": "https://localhost:8080/"
        },
        "id": "0RziEcmgyiTa",
        "outputId": "075075ad-9638-4a05-9df4-59c2c0a9a7a2"
      },
      "execution_count": null,
      "outputs": [
        {
          "output_type": "execute_result",
          "data": {
            "text/plain": [
              "[[5, 2], [9, 1], [8, 8]]"
            ]
          },
          "metadata": {},
          "execution_count": 7
        }
      ]
    },
    {
      "cell_type": "markdown",
      "metadata": {
        "id": "yzevp_Q_BZ4I"
      },
      "source": [
        "---"
      ]
    },
    {
      "cell_type": "markdown",
      "metadata": {
        "id": "BNQ6hCZjBauh"
      },
      "source": [
        "### Submitting the Project:\n",
        "\n",
        "1. After finishing the project, click on the **Share** button on the top right corner of the notebook. A new dialog box will appear.\n",
        "\n",
        "  <img src='https://student-datasets-bucket.s3.ap-south-1.amazonaws.com/images/project-share-images/2_share_button.png' width=500>\n",
        "\n",
        "2. In the dialog box, make sure that '**Anyone on the Internet with this link can view**' option is selected and then click on the **Copy link** button.\n",
        "\n",
        "   <img src='https://student-datasets-bucket.s3.ap-south-1.amazonaws.com/images/project-share-images/3_copy_link.png' width=500>\n",
        "\n",
        "3. The link of the duplicate copy (named as **YYYY-MM-DD_StudentName_Project30**) of the notebook will get copied \n",
        "\n",
        "   <img src='https://student-datasets-bucket.s3.ap-south-1.amazonaws.com/images/project-share-images/4_copy_link_confirmation.png' width=500>\n",
        "\n",
        "4. Go to your dashboard and click on the **My Projects** option.\n",
        "   \n",
        "   <img src='https://student-datasets-bucket.s3.ap-south-1.amazonaws.com/images/project-share-images/5_student_dashboard.png' width=800>\n",
        "\n",
        "  <img src='https://student-datasets-bucket.s3.ap-south-1.amazonaws.com/images/project-share-images/6_my_projects.png' width=800>\n",
        "\n",
        "5. Click on the **View Project** button for the project you want to submit.\n",
        "\n",
        "   <img src='https://student-datasets-bucket.s3.ap-south-1.amazonaws.com/images/project-share-images/7_view_project.png' width=800>\n",
        "\n",
        "6. Click on the **Submit Project Here** button.\n",
        "\n",
        "   <img src='https://student-datasets-bucket.s3.ap-south-1.amazonaws.com/images/project-share-images/8_submit_project.png' width=800>\n",
        "\n",
        "7. Paste the link to the project file named as **YYYY-MM-DD_StudentName_Project30** in the URL box and then click on the **Submit** button.\n",
        "\n",
        "   <img src='https://student-datasets-bucket.s3.ap-south-1.amazonaws.com/images/project-share-images/9_enter_project_url.png' width=800> "
      ]
    },
    {
      "cell_type": "markdown",
      "metadata": {
        "id": "MWkPEALQn-lN"
      },
      "source": [
        "---"
      ]
    }
  ]
}