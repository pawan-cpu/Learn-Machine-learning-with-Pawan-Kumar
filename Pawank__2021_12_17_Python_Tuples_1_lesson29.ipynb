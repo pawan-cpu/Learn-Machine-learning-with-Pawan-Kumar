{
  "nbformat": 4,
  "nbformat_minor": 0,
  "metadata": {
    "colab": {
      "name": "Pawank_ 2021-12-17_Python Tuples 1_lesson29",
      "provenance": [],
      "collapsed_sections": [],
      "include_colab_link": true
    },
    "kernelspec": {
      "name": "python3",
      "display_name": "Python 3"
    }
  },
  "cells": [
    {
      "cell_type": "markdown",
      "metadata": {
        "id": "view-in-github",
        "colab_type": "text"
      },
      "source": [
        "<a href=\"https://colab.research.google.com/github/pawan-cpu/Learn-Python-with-Pawan-Kumar/blob/main/Pawank__2021_12_17_Python_Tuples_1_lesson29.ipynb\" target=\"_parent\"><img src=\"https://colab.research.google.com/assets/colab-badge.svg\" alt=\"Open In Colab\"/></a>"
      ]
    },
    {
      "cell_type": "markdown",
      "metadata": {
        "id": "DOQ43Vq9IBwE"
      },
      "source": [
        "# Lesson 29: Python Tuples I"
      ]
    },
    {
      "cell_type": "markdown",
      "metadata": {
        "id": "aSbnQHSCldEC"
      },
      "source": [
        "---"
      ]
    },
    {
      "cell_type": "markdown",
      "metadata": {
        "id": "s2pZAC4BWtxM"
      },
      "source": [
        "### Teacher-Student Tasks\n",
        "\n",
        "So far you have learned two data structures: lists and dictionaries. In this class, we will learn Python tuples in detail. We have been using them but never really discussed them much.\n",
        "\n",
        "Essentially, Python tuples behave exactly like Python lists with just one difference. Python tuples are immutable in nature. In other words, the contents of a tuple are unchangeable. Once a tuple is created, you cannot add a new item, cannot update an existing item, and cannot delete an item.\n",
        "\n",
        "To sum it up, a Python tuple is an **ordered and immutable** collection of items. A Python list, on the other hand, is an ordered but mutable collection of items.\n",
        "\n",
        "In real-life situations, a tuple is used to store unchangeable information such as bank account number, email-id, coordinates of a location, or any universally true fact such as water has two molecules of hydrogen and one molecule of oxygen. \n"
      ]
    },
    {
      "cell_type": "markdown",
      "metadata": {
        "id": "3kS83R_RkxZt"
      },
      "source": [
        "---"
      ]
    },
    {
      "cell_type": "markdown",
      "metadata": {
        "id": "UL4aH3IwkyTs"
      },
      "source": [
        "#### Task 1: Create Python Tuple\n",
        "\n",
        "Let's create a tuple that stores the names of the six naturally occurring noble gases. They are as follows:\n",
        "\n",
        "`helium (He), neon (Ne), argon (Ar), krypton (Kr), xenon (Xe), radon (Rn)`\n",
        "\n",
        "To create a tuple, you simply have to write the items enclosed between the common brackets `()` such that the items are separated by a comma:"
      ]
    },
    {
      "cell_type": "code",
      "metadata": {
        "id": "sGXjP_9XLI0X",
        "colab": {
          "base_uri": "https://localhost:8080/"
        },
        "outputId": "f2f0809f-fbdc-4f03-a71e-d6cf19d2455c"
      },
      "source": [
        "# S1.1: Create a tuple containing the names of the six naturally occurring noble gases.\n",
        "noble_gases=('He','Ne','Ar','Kr','Xe','Rn')\n",
        "noble_gases\n"
      ],
      "execution_count": null,
      "outputs": [
        {
          "output_type": "execute_result",
          "data": {
            "text/plain": [
              "('He', 'Ne', 'Ar', 'Kr', 'Xe', 'Rn')"
            ]
          },
          "metadata": {},
          "execution_count": 1
        }
      ]
    },
    {
      "cell_type": "markdown",
      "metadata": {
        "id": "mlP16hWpXgd3"
      },
      "source": [
        " To verify whether a data structure is a tuple or not, you can use the `type()` function:"
      ]
    },
    {
      "cell_type": "code",
      "metadata": {
        "id": "uYRMrXEaXe51",
        "colab": {
          "base_uri": "https://localhost:8080/"
        },
        "outputId": "3aba98b5-65b6-46b6-a456-323295c3bca3"
      },
      "source": [
        "# S1.2: Verify whether the data structure stored in the 'noble_gases' variable is a tuple or not.\n",
        "type(noble_gases)"
      ],
      "execution_count": null,
      "outputs": [
        {
          "output_type": "execute_result",
          "data": {
            "text/plain": [
              "tuple"
            ]
          },
          "metadata": {},
          "execution_count": 3
        }
      ]
    },
    {
      "cell_type": "markdown",
      "metadata": {
        "id": "YiIAzbVIY0Hq"
      },
      "source": [
        "Similar to a Python list, a Python tuple can also contain different types of items such as integer, float, string, list, boolean, tuple, etc. Let's learn this concept with the help of an example.\n",
        "\n",
        "Consider the following properties of helium:\n",
        "\n",
        "|Properties of Helium (He) |Values|\n",
        "|-|-|\n",
        "|Atomic number|2|\n",
        "|Atomic mass $\\left(\\frac{g}{mol}\\right)$|4.0026|\n",
        "|Electronegativity according to Pauling|unknown|\n",
        "|Present in Earth's atmosphere|Yes|\n",
        "|Stable isotopes|helium-3, helium-4|\n",
        "\n",
        "The `Values` column in the above list contains items of all types. Let's put the same items in a tuple and store it in the `helium_props` variable:\n",
        "\n",
        "\n"
      ]
    },
    {
      "cell_type": "code",
      "metadata": {
        "id": "uU_TcNO7TxQy",
        "colab": {
          "base_uri": "https://localhost:8080/"
        },
        "outputId": "20a49685-be30-4b39-f20a-84111930a9ad"
      },
      "source": [
        "# S1.3: Create a tuple containing all the properties of Helium.\n",
        "helium_props = (2, 4.0026, 'unknown', True, ['helium-3', 'helium-4'])\n",
        "helium_props\n"
      ],
      "execution_count": null,
      "outputs": [
        {
          "output_type": "execute_result",
          "data": {
            "text/plain": [
              "(2, 4.0026, 'unknown', True, ['helium-3', 'helium-4'])"
            ]
          },
          "metadata": {},
          "execution_count": 4
        }
      ]
    },
    {
      "cell_type": "markdown",
      "metadata": {
        "id": "ZfCaFwjJYX2b"
      },
      "source": [
        "As you can see, a tuple can contain different types of items. In this way, we can create tuples holding items of different data types.\n"
      ]
    },
    {
      "cell_type": "markdown",
      "metadata": {
        "id": "9RV3-ZMkxrZG"
      },
      "source": [
        "---"
      ]
    },
    {
      "cell_type": "markdown",
      "metadata": {
        "id": "gCe9LYbXaSvI"
      },
      "source": [
        "#### Task 2: Tuple Length\n",
        "\n",
        "The length of a tuple (or tuple length) is the number of items contained in the tuple. To calculate the length of a tuple (or the number of items present in a tuple), you can use the `len()` function (the same function that you have been using for Python lists):"
      ]
    },
    {
      "cell_type": "code",
      "metadata": {
        "id": "J-Z09gTba5Gt",
        "colab": {
          "base_uri": "https://localhost:8080/"
        },
        "outputId": "55e76a17-6912-4b9b-c39f-8b4354bdf738"
      },
      "source": [
        "# S2.1: Calculate the number of items contained in the 'helium_props' tuple.\n",
        "len(helium_props)"
      ],
      "execution_count": null,
      "outputs": [
        {
          "output_type": "execute_result",
          "data": {
            "text/plain": [
              "5"
            ]
          },
          "metadata": {},
          "execution_count": 5
        }
      ]
    },
    {
      "cell_type": "markdown",
      "metadata": {
        "id": "WuND4hQYa7Lw"
      },
      "source": [
        "From the output, you may observe that the `len()` function returned the number of items contained in the `helium_props` tuple."
      ]
    },
    {
      "cell_type": "markdown",
      "metadata": {
        "id": "2uI5LyWYNiXr"
      },
      "source": [
        "---"
      ]
    },
    {
      "cell_type": "markdown",
      "metadata": {
        "id": "mDDIaAO7xVrl"
      },
      "source": [
        "#### Task 3: Empty Tuple and One-Item Tuple\n",
        "\n",
        "You can also create an empty tuple (a tuple having no item) by simply writing the common brackets (or parentheses):"
      ]
    },
    {
      "cell_type": "code",
      "metadata": {
        "id": "ouw082yTu95T",
        "colab": {
          "base_uri": "https://localhost:8080/"
        },
        "outputId": "ef29f2f4-72d5-4680-bc1e-72c60ec429cc"
      },
      "source": [
        "# S3.1: Create an empty tuple.\n",
        "empty=()\n",
        "type(empty)"
      ],
      "execution_count": null,
      "outputs": [
        {
          "output_type": "execute_result",
          "data": {
            "text/plain": [
              "tuple"
            ]
          },
          "metadata": {},
          "execution_count": 7
        }
      ]
    },
    {
      "cell_type": "markdown",
      "metadata": {
        "id": "KVm8f5k1vRh1"
      },
      "source": [
        "Interestingly, creating a tuple containing only one item is quite tricky. As an experiment, create the following five tuples containing only one item and check their types using the `type` function:\n",
        "\n",
        "```\n",
        "atomic_num = (2)\n",
        "atomic_mass = (4.0026)\n",
        "elec_neg = ('unknown')\n",
        "in_earth_atmos = (True)\n",
        "stable_isotopes = (['helium-3', 'helium-4'])\n",
        "```"
      ]
    },
    {
      "cell_type": "code",
      "metadata": {
        "id": "RSPj_JS0vZG3",
        "colab": {
          "base_uri": "https://localhost:8080/"
        },
        "outputId": "d4874a5f-fd14-42f0-81f0-982ffe908ed8"
      },
      "source": [
        "# S3.2: Create the above five tuples and check their types.\n",
        "atomic_num = (2)\n",
        "atomic_mass = (4.0026)\n",
        "elec_neg = ('unknown')\n",
        "in_earth_atmos = (True)\n",
        "stable_isotopes = (['helium-3', 'helium-4'])\n",
        "print(type(atomic_num))\n",
        "print(type(atomic_mass))\n",
        "print(type(elec_neg))\n",
        "print(type(in_earth_atmos))\n",
        "print(type(stable_isotopes))"
      ],
      "execution_count": null,
      "outputs": [
        {
          "output_type": "stream",
          "name": "stdout",
          "text": [
            "<class 'int'>\n",
            "<class 'float'>\n",
            "<class 'str'>\n",
            "<class 'bool'>\n",
            "<class 'list'>\n"
          ]
        }
      ]
    },
    {
      "cell_type": "markdown",
      "metadata": {
        "id": "g3Zw7bK-yI6m"
      },
      "source": [
        "As you can see, the `type()` function returns all the other types except for `tuple`. This is how the Python interpreter works. We can't do anything about it.\n",
        "\n",
        "Now, put a comma after the item in each of the above five tuples and check their types again: "
      ]
    },
    {
      "cell_type": "code",
      "metadata": {
        "id": "EJYYKtsZyoFt",
        "colab": {
          "base_uri": "https://localhost:8080/"
        },
        "outputId": "7cdf72d4-f2d9-43da-a078-16942573f9ce"
      },
      "source": [
        "# S3.3: Create the above five tuples again by putting a comma after item in each tuple and check their types.\n",
        "atomic_num = (2,)\n",
        "atomic_mass = (4.0026,)\n",
        "elec_neg = ('unknown',)\n",
        "in_earth_atmos = (True,)\n",
        "stable_isotopes = (['helium-3', 'helium-4'],)\n",
        "print(type(atomic_num))\n",
        "print(type(atomic_mass))\n",
        "print(type(elec_neg))\n",
        "print(type(in_earth_atmos))\n",
        "print(type(stable_isotopes))"
      ],
      "execution_count": null,
      "outputs": [
        {
          "output_type": "stream",
          "name": "stdout",
          "text": [
            "<class 'tuple'>\n",
            "<class 'tuple'>\n",
            "<class 'tuple'>\n",
            "<class 'tuple'>\n",
            "<class 'tuple'>\n"
          ]
        }
      ]
    },
    {
      "cell_type": "markdown",
      "metadata": {
        "id": "5z7-el8VzNq7"
      },
      "source": [
        "As you can see, we have now created five tuples. Each of them contains only one item. Hence, the trick to create a tuple having only one item is to put a comma after the item. \n",
        "\n",
        "**Note:** Even if you don't enclose the items within parentheses but put a trailing comma, then also Python will create a tuple."
      ]
    },
    {
      "cell_type": "code",
      "metadata": {
        "id": "inB4D0glz5Us",
        "colab": {
          "base_uri": "https://localhost:8080/"
        },
        "outputId": "669db26b-e49d-4c6a-b0a7-2480765615ff"
      },
      "source": [
        "# S3.4: Create two tuples without putting parentheses: one having only one item and another having at least two items.\n",
        "# Verify whether they both are tuples or not.\n",
        "tup_1=(1,2,3)\n",
        "tup_2=1,2,3\n",
        "print(type(tup_1))\n",
        "print(type(tup_2))"
      ],
      "execution_count": null,
      "outputs": [
        {
          "output_type": "stream",
          "name": "stdout",
          "text": [
            "<class 'tuple'>\n",
            "<class 'tuple'>\n"
          ]
        }
      ]
    },
    {
      "cell_type": "markdown",
      "metadata": {
        "id": "JfGAxG_i0MA6"
      },
      "source": [
        "As you can see, even without putting parentheses, we can create a tuple. This is a very unique property of a Python tuple."
      ]
    },
    {
      "cell_type": "markdown",
      "metadata": {
        "id": "axkkh0lFbN9m"
      },
      "source": [
        "---"
      ]
    },
    {
      "cell_type": "markdown",
      "metadata": {
        "id": "zX2UYla-ZZr7"
      },
      "source": [
        "#### Task 4: Tuple Indexing\n",
        "\n",
        "Tuple indexing is the same as list indexing. Every item in a Python tuple occupies a unique position called index. \n",
        "\n",
        "- The first item in a tuple occupies `index = 0`. \n",
        "\n",
        "- Similarly, the second item occupies `index = 1` and so on.\n",
        "\n",
        "- The last item occupies `index = (n - 1)`, where `n` is the number of items contained in a tuple.\n",
        "\n",
        "To get an item of a specific index, write the name of the variable storing the tuple followed by the index value enclosed between square brackets `[]`.\n",
        "\n",
        "**Syntax for tuple indexing:** `tuple_name[index_value]`\n",
        "\n",
        "Now, print all the items one-by-one contained in the `helium_props` tuple using the indexing method along with a `for` loop.\n"
      ]
    },
    {
      "cell_type": "code",
      "metadata": {
        "id": "r9YReDgvYbnJ",
        "colab": {
          "base_uri": "https://localhost:8080/"
        },
        "outputId": "f4591763-5229-4361-ccb0-edbb00dc4fd0"
      },
      "source": [
        "# S4.1: Print all the items one-by-one contained in the 'helium_props' tuple using the indexing method along with a 'for' loop.\n",
        "for i in range(5):\n",
        "  print(i,helium_props[i])"
      ],
      "execution_count": null,
      "outputs": [
        {
          "output_type": "stream",
          "name": "stdout",
          "text": [
            "0 2\n",
            "1 4.0026\n",
            "2 unknown\n",
            "3 True\n",
            "4 ['helium-3', 'helium-4']\n"
          ]
        }
      ]
    },
    {
      "cell_type": "markdown",
      "metadata": {
        "id": "_Rv7qabdcnoD"
      },
      "source": [
        "As you can see, you can get individual items by writing their indices enclosed between square brackets after the variable containing the tuple.\n",
        "\n",
        "Just like a Python list, you can use negative indexing as well to retrieve an item from a tuple.\n",
        "\n",
        "Next, print all the items one-by-one contained in the `helium_props` tuple using the negative indexing method along with a `for` loop:\n"
      ]
    },
    {
      "cell_type": "markdown",
      "metadata": {
        "id": "twJpb_FYdGg1"
      },
      "source": [
        "Print all the items of the `helium_props` tuple in the reverse order using the negative indexing method along with a `for` loop:"
      ]
    },
    {
      "cell_type": "code",
      "metadata": {
        "id": "xgpEp-eQbW12",
        "colab": {
          "base_uri": "https://localhost:8080/"
        },
        "outputId": "08772f11-53d4-4c57-931f-07647c9e5969"
      },
      "source": [
        "# S4.3: Get all the items of the 'helium_props' tuple in the reverse order using the negative indexing method along with a 'for' loop.\n",
        "for i in range(1,6):\n",
        "  print(-i,helium_props[-i])"
      ],
      "execution_count": null,
      "outputs": [
        {
          "output_type": "stream",
          "name": "stdout",
          "text": [
            "-1 ['helium-3', 'helium-4']\n",
            "-2 True\n",
            "-3 unknown\n",
            "-4 4.0026\n",
            "-5 2\n"
          ]
        }
      ]
    },
    {
      "cell_type": "markdown",
      "metadata": {
        "id": "A9GPlohcvxU7"
      },
      "source": [
        "You can also retrieve all the items from a tuple without using the `range()` function in a `for` loop.\n",
        "\n"
      ]
    },
    {
      "cell_type": "code",
      "metadata": {
        "id": "dOQoESx4wmOr",
        "colab": {
          "base_uri": "https://localhost:8080/"
        },
        "outputId": "c67d3c0e-34a3-4925-9f17-73ce84c03bc1"
      },
      "source": [
        "# S4.4: Retrieve all the items from 'helium_props' tuple without using the 'range()' function in a 'for' loop.\n",
        "for item in helium_props:\n",
        "  print(item)"
      ],
      "execution_count": null,
      "outputs": [
        {
          "output_type": "stream",
          "name": "stdout",
          "text": [
            "2\n",
            "4.0026\n",
            "unknown\n",
            "True\n",
            "['helium-3', 'helium-4']\n"
          ]
        }
      ]
    },
    {
      "cell_type": "markdown",
      "metadata": {
        "id": "ain-xGoSdeJG"
      },
      "source": [
        "**Note:** \n",
        "- The `i += 1` is another way of writing `i = i + 1`.  \n",
        "\n",
        "- `i -= 1` is another way of writing `i = i - 1`.\n",
        "\n",
        "- `i *= 2` is another way of writing `i = i * 2` and so on.\n",
        "\n",
        "Thus, we can retrieve all the items from a tuple with and without `range()` function."
      ]
    },
    {
      "cell_type": "markdown",
      "metadata": {
        "id": "ehuJdrrDdbf3"
      },
      "source": [
        "---"
      ]
    },
    {
      "cell_type": "markdown",
      "metadata": {
        "id": "Gl6PMYFzdcuY"
      },
      "source": [
        "#### Task 5: Tuple Slicing\n",
        "\n",
        "Again, tuple slicing is the same as list slicing. We will quickly go through this concept."
      ]
    },
    {
      "cell_type": "code",
      "metadata": {
        "id": "g4St23LCckp5",
        "colab": {
          "base_uri": "https://localhost:8080/"
        },
        "outputId": "222de443-1638-4535-91e9-eab87af243d8"
      },
      "source": [
        "# S5.1: Get the first four items from the 'helium_props' tuple.\n",
        "helium_props[:4]"
      ],
      "execution_count": null,
      "outputs": [
        {
          "output_type": "execute_result",
          "data": {
            "text/plain": [
              "(2, 4.0026, 'unknown', True)"
            ]
          },
          "metadata": {},
          "execution_count": 15
        }
      ]
    },
    {
      "cell_type": "code",
      "metadata": {
        "id": "8awzIZSGfAz9",
        "colab": {
          "base_uri": "https://localhost:8080/"
        },
        "outputId": "e0c1216a-f6cc-44c2-c502-20bc4e6f566f"
      },
      "source": [
        "# S5.2: Get all the items from the 'helium_props' tuple in the reverse order.\n",
        "helium_props[::-1]\n"
      ],
      "execution_count": null,
      "outputs": [
        {
          "output_type": "execute_result",
          "data": {
            "text/plain": [
              "(['helium-3', 'helium-4'], True, 'unknown', 4.0026, 2)"
            ]
          },
          "metadata": {},
          "execution_count": 16
        }
      ]
    },
    {
      "cell_type": "code",
      "metadata": {
        "id": "qOtYwIANhkZD",
        "colab": {
          "base_uri": "https://localhost:8080/"
        },
        "outputId": "e7fbfe44-238a-4295-b08c-ae75b190e4a1"
      },
      "source": [
        "# S5.3: Get the alternate items from the 'helium_props' tuple.\n",
        "helium_props[::2]\n"
      ],
      "execution_count": null,
      "outputs": [
        {
          "output_type": "execute_result",
          "data": {
            "text/plain": [
              "(2, 'unknown', ['helium-3', 'helium-4'])"
            ]
          },
          "metadata": {},
          "execution_count": 17
        }
      ]
    },
    {
      "cell_type": "code",
      "metadata": {
        "id": "gtS9zNIejcqV",
        "colab": {
          "base_uri": "https://localhost:8080/"
        },
        "outputId": "0d520871-0f92-4aeb-eef8-d6a61267e622"
      },
      "source": [
        "# S5.4: Get the last three items from the 'helium_props' tuple.\n",
        "helium_props[2:5]\n"
      ],
      "execution_count": null,
      "outputs": [
        {
          "output_type": "execute_result",
          "data": {
            "text/plain": [
              "('unknown', True, ['helium-3', 'helium-4'])"
            ]
          },
          "metadata": {},
          "execution_count": 18
        }
      ]
    },
    {
      "cell_type": "code",
      "metadata": {
        "id": "6SudkgSafxNx",
        "colab": {
          "base_uri": "https://localhost:8080/"
        },
        "outputId": "e5804278-b66f-48bd-cbe8-1ace6c2c0999"
      },
      "source": [
        "# S5.5: Get all the items from the 'helium_props' tuple using negative indexing except for the first and the last items.\n",
        "helium_props[1:4]\n"
      ],
      "execution_count": null,
      "outputs": [
        {
          "output_type": "execute_result",
          "data": {
            "text/plain": [
              "(4.0026, 'unknown', True)"
            ]
          },
          "metadata": {},
          "execution_count": 19
        }
      ]
    },
    {
      "cell_type": "code",
      "metadata": {
        "id": "wN2ip7IXOA3a",
        "colab": {
          "base_uri": "https://localhost:8080/",
          "height": 35
        },
        "outputId": "bdb5ccf6-5daf-4600-b305-a8823ada7527"
      },
      "source": [
        "# S5.6: Get the second item of the list stored in the 'helium_props' tuple.\n",
        "helium_props[4][1]\n"
      ],
      "execution_count": null,
      "outputs": [
        {
          "output_type": "execute_result",
          "data": {
            "application/vnd.google.colaboratory.intrinsic+json": {
              "type": "string"
            },
            "text/plain": [
              "'helium-4'"
            ]
          },
          "metadata": {},
          "execution_count": 23
        }
      ]
    },
    {
      "cell_type": "markdown",
      "metadata": {
        "id": "-ZrOPgvD530p"
      },
      "source": [
        "From the above outputs, you may observe that we can obtain desired items from a tuple using the slicing concept."
      ]
    },
    {
      "cell_type": "markdown",
      "metadata": {
        "id": "34tM0N5Pl4gc"
      },
      "source": [
        "---"
      ]
    },
    {
      "cell_type": "markdown",
      "metadata": {
        "id": "tBXa9yhPukbh"
      },
      "source": [
        "#### Task 6: The `index()` Function\n",
        "\n",
        "You can use the `index()` function to find out the index of an item in a tuple. The same function can also be used for a Python list.\n",
        "\n",
        "**Syntax of `index()` function:** `tuple_name.index(item)`"
      ]
    },
    {
      "cell_type": "code",
      "metadata": {
        "id": "TV_dXbgYlzxw",
        "colab": {
          "base_uri": "https://localhost:8080/"
        },
        "outputId": "37646814-e0a6-425e-c818-5e68579ca911"
      },
      "source": [
        "# S6.1: Get the index of the item 'unknown' that is present in the 'helium_props' tuple.\n",
        "helium_props.index(\"unknown\")"
      ],
      "execution_count": null,
      "outputs": [
        {
          "output_type": "execute_result",
          "data": {
            "text/plain": [
              "2"
            ]
          },
          "metadata": {},
          "execution_count": 24
        }
      ]
    },
    {
      "cell_type": "markdown",
      "metadata": {
        "id": "ushE05W8PZSs"
      },
      "source": [
        "**Note:** The `index()` function throws `ValueError` if an item does not exist in the tuple.\n",
        "\n",
        "Hence, we can the `index()` function to obtain the index of any item existing in a tuple."
      ]
    },
    {
      "cell_type": "markdown",
      "metadata": {
        "id": "73bW5MU8PwUm"
      },
      "source": [
        "---"
      ]
    },
    {
      "cell_type": "markdown",
      "metadata": {
        "id": "zKlZahzS8GuO"
      },
      "source": [
        "#### Task 7: The `count()` Function\n",
        "\n",
        "The `count()` function in tuple counts the number of times an item occurs in a tuple. The same function can also be used for a Python list.\n",
        "\n",
        "Here we have a tuple containing the FIFA football world cup winners starting from the year 1982 till 2018:\n",
        "\n",
        "`fifa_wc_winners = ('Italy', 'Argentina', 'Germany', 'Brazil', 'France', 'Brazil', 'Italy', 'Spain', 'Germany', 'France')`\n",
        "\n",
        "Find out how many times France and Brazil have won the world cup in the given period:"
      ]
    },
    {
      "cell_type": "code",
      "metadata": {
        "id": "paKTAiIq7Acp",
        "colab": {
          "base_uri": "https://localhost:8080/"
        },
        "outputId": "ad0df126-b57a-4291-e542-2e8de9c39244"
      },
      "source": [
        "# S7.1: Count the number of times 'France' and 'Brazil' has won the world cup between the years 1982 and 2018.\n",
        "fifa_wc_winners = ('Italy', 'Argentina', 'Germany', 'Brazil', 'France', 'Brazil', 'Italy', 'Spain', 'Germany', 'France')\n",
        "print(fifa_wc_winners.count(\"France\"))\n",
        "print(fifa_wc_winners.count(\"Brazil\"))\n",
        "\n",
        "\n",
        "\n"
      ],
      "execution_count": null,
      "outputs": [
        {
          "output_type": "stream",
          "name": "stdout",
          "text": [
            "2\n",
            "2\n"
          ]
        }
      ]
    },
    {
      "cell_type": "markdown",
      "metadata": {
        "id": "QwedUG329Gpd"
      },
      "source": [
        "So, both countries have won the FIFA world cup twice between the years 1982 and 2018. This also proves that a tuple can contain repeated elements (or items)."
      ]
    },
    {
      "cell_type": "markdown",
      "metadata": {
        "id": "44YH35S_RITK"
      },
      "source": [
        "---"
      ]
    },
    {
      "cell_type": "markdown",
      "metadata": {
        "id": "348_q6lxSZYV"
      },
      "source": [
        "#### Task 8: Add, Replace, and Delete Item\n",
        "\n",
        "As discussed at the beginning of this class, we cannot add, replace (or update), delete an item from a tuple. Let's verify this theory. \n",
        "\n",
        "Let's try to replace the item `'unknown'` contained in the `helium_props` tuple with the string `'Not Available'`. We should get an error:"
      ]
    },
    {
      "cell_type": "code",
      "metadata": {
        "id": "ZvW7-FvETYqm",
        "colab": {
          "base_uri": "https://localhost:8080/",
          "height": 184
        },
        "outputId": "e8f5d5b7-e0ef-40a9-dcbf-952709221ee0"
      },
      "source": [
        "# S8.1: Try to replace the item 'unknown' contained in the 'helium_props' tuple with the string 'Not Available'.\n",
        "helium_props[2]='Not Available'"
      ],
      "execution_count": null,
      "outputs": [
        {
          "output_type": "error",
          "ename": "TypeError",
          "evalue": "ignored",
          "traceback": [
            "\u001b[0;31m---------------------------------------------------------------------------\u001b[0m",
            "\u001b[0;31mTypeError\u001b[0m                                 Traceback (most recent call last)",
            "\u001b[0;32m<ipython-input-27-c47f33b7566f>\u001b[0m in \u001b[0;36m<module>\u001b[0;34m()\u001b[0m\n\u001b[1;32m      1\u001b[0m \u001b[0;31m# S8.1: Try to replace the item 'unknown' contained in the 'helium_props' tuple with the string 'Not Available'.\u001b[0m\u001b[0;34m\u001b[0m\u001b[0;34m\u001b[0m\u001b[0;34m\u001b[0m\u001b[0m\n\u001b[0;32m----> 2\u001b[0;31m \u001b[0mhelium_props\u001b[0m\u001b[0;34m[\u001b[0m\u001b[0;36m2\u001b[0m\u001b[0;34m]\u001b[0m\u001b[0;34m=\u001b[0m\u001b[0;34m'Not Available'\u001b[0m\u001b[0;34m\u001b[0m\u001b[0;34m\u001b[0m\u001b[0m\n\u001b[0m",
            "\u001b[0;31mTypeError\u001b[0m: 'tuple' object does not support item assignment"
          ]
        }
      ]
    },
    {
      "cell_type": "markdown",
      "metadata": {
        "id": "csp3eeh3UBBr"
      },
      "source": [
        "As you can see, Python throws `TypeError` saying that the `'tuple' object does not support item assignment`. Hence, we have verified that we cannot replace or update an existing item in a tuple.\n",
        "\n",
        "Let's try to delete the item `'unknown'` using the `del` keyword. It works for a Python list as well. There exists no `remove()` function for a Python tuple like the one that exists for a Python list.\n",
        "\n",
        "**Note:** Again you will get an error."
      ]
    },
    {
      "cell_type": "code",
      "metadata": {
        "id": "2cgn3b0pUuVL",
        "colab": {
          "base_uri": "https://localhost:8080/",
          "height": 184
        },
        "outputId": "8d4dc951-0847-427c-8a2a-1fdb587d8a83"
      },
      "source": [
        "# S8.2: Try to delete the item 'unknown' from the 'helium_props' tuple. using the 'del' keyword.\n",
        "del helium_props[2]"
      ],
      "execution_count": null,
      "outputs": [
        {
          "output_type": "error",
          "ename": "TypeError",
          "evalue": "ignored",
          "traceback": [
            "\u001b[0;31m---------------------------------------------------------------------------\u001b[0m",
            "\u001b[0;31mTypeError\u001b[0m                                 Traceback (most recent call last)",
            "\u001b[0;32m<ipython-input-28-4fe00507137f>\u001b[0m in \u001b[0;36m<module>\u001b[0;34m()\u001b[0m\n\u001b[1;32m      1\u001b[0m \u001b[0;31m# S8.2: Try to delete the item 'unknown' from the 'helium_props' tuple. using the 'del' keyword.\u001b[0m\u001b[0;34m\u001b[0m\u001b[0;34m\u001b[0m\u001b[0;34m\u001b[0m\u001b[0m\n\u001b[0;32m----> 2\u001b[0;31m \u001b[0;32mdel\u001b[0m \u001b[0mhelium_props\u001b[0m\u001b[0;34m[\u001b[0m\u001b[0;36m2\u001b[0m\u001b[0;34m]\u001b[0m\u001b[0;34m\u001b[0m\u001b[0;34m\u001b[0m\u001b[0m\n\u001b[0m",
            "\u001b[0;31mTypeError\u001b[0m: 'tuple' object doesn't support item deletion"
          ]
        }
      ]
    },
    {
      "cell_type": "markdown",
      "metadata": {
        "id": "g5QBOAkhVHyg"
      },
      "source": [
        "As you can see, Python throws `TypeError` saying that the `'tuple' object doesn't support item deletion`. Hence, we have verified that we cannot delete an existing item from a tuple.\n",
        "\n",
        "There exists no function like the `append()` function (exists for a Python list) that can add an item to a tuple. But can concatenate or join two or more tuples.\n",
        "\n",
        "We will pause here and will continue the discussion on Python tuples in the next class."
      ]
    },
    {
      "cell_type": "markdown",
      "metadata": {
        "id": "XKPonIJBSX3c"
      },
      "source": [
        "---"
      ]
    }
  ]
}