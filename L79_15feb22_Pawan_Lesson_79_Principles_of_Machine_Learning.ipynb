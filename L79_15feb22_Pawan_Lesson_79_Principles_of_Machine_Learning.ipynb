{
  "nbformat": 4,
  "nbformat_minor": 0,
  "metadata": {
    "colab": {
      "name": " L79_15feb22_Pawan_Lesson 79 - Principles of Machine Learning",
      "provenance": [],
      "collapsed_sections": [],
      "include_colab_link": true
    },
    "kernelspec": {
      "name": "python3",
      "display_name": "Python 3"
    },
    "language_info": {
      "name": "python"
    }
  },
  "cells": [
    {
      "cell_type": "markdown",
      "metadata": {
        "id": "view-in-github",
        "colab_type": "text"
      },
      "source": [
        "<a href=\"https://colab.research.google.com/github/pawan-cpu/Learn-Python-with-Pawan-Kumar/blob/main/L79_15feb22_Pawan_Lesson_79_Principles_of_Machine_Learning.ipynb\" target=\"_parent\"><img src=\"https://colab.research.google.com/assets/colab-badge.svg\" alt=\"Open In Colab\"/></a>"
      ]
    },
    {
      "cell_type": "markdown",
      "metadata": {
        "id": "0Z7PqdeHdJol"
      },
      "source": [
        "# Lesson 79: Principles of Machine Learning\n"
      ]
    },
    {
      "cell_type": "markdown",
      "source": [
        ""
      ],
      "metadata": {
        "id": "_5n1NRuRqIuk"
      }
    },
    {
      "cell_type": "markdown",
      "metadata": {
        "id": "u8yxawIEXEIj"
      },
      "source": [
        "\n",
        "---"
      ]
    },
    {
      "cell_type": "markdown",
      "metadata": {
        "id": "MicnOrfVdRHm"
      },
      "source": [
        "### Teacher-Student Tasks\n",
        "\n",
        "In the previous class, we learned the fundamentals of Relational Databases and also learned SQL basics for designing databases. In this class, we will walk through the basic principles of machine learning and also learn the types of machine learning models.\n",
        "\n",
        "\n",
        "\n",
        "\n"
      ]
    },
    {
      "cell_type": "markdown",
      "metadata": {
        "id": "40DNZzkS8Mem"
      },
      "source": [
        "---"
      ]
    },
    {
      "cell_type": "markdown",
      "metadata": {
        "id": "Y3gDPSSLKONi"
      },
      "source": [
        "#### Task 1: AI and Machine Learning\n",
        "\n",
        "Artificial intelligence and machine learning are the part of computer science that are highly correlated with each other. These two technologies are the most trending technologies which are used for creating intelligent systems.\n",
        "\n",
        "Although these are two related technologies i.e. Artificial Intelligence (AI) and Machine Learning (ML) are sometimes considered synonymous and may be used interchangeably. However, this is not true.\n",
        "\n",
        "On a broad level, we can differentiate both AI and ML as:\n",
        "\n",
        "  *AI is the science of getting machines to mimic the behavior of humans whereas, Machine Learning is a subset of AI that allows machines to learn from past experiences without being explicitly programmed.*\n",
        "\n",
        "Thus, ML is one of the ways to achieve AI. That is, all machine learning counts as AI, but not all AI counts as machine learning.\n",
        "<img src=\"https://s3-whjr-v2-prod-bucket.whjr.online/91aa8e35-6101-46e6-8735-8b1f900add41.png\"/>"
      ]
    },
    {
      "cell_type": "markdown",
      "metadata": {
        "id": "8RpmcC5GsB9b"
      },
      "source": [
        "---"
      ]
    },
    {
      "cell_type": "markdown",
      "metadata": {
        "id": "uBrGHQOE6s8r"
      },
      "source": [
        "#### Task 2: Types of Machine Learning\n",
        "\n",
        "Machine learning (ML) is a sub-field of artificial intelligence. Its goal is to enable machines to learn things from past experiences. If a particular behavior exists in past, then ML may predict if or not it can happen again. Means if there are no past cases then there is no prediction.\n",
        "\n",
        "The term Machine Learning was coined by **Arthur Samuel** in 1959, an American pioneer in the field of computer gaming and artificial intelligence and stated that  *'It gives computers the ability to learn without being explicitly programmed'*.\n",
        "\n",
        "ML can be applied to solve issues like credit card fraud detection, enable self-driving cars and face detection and recognition. Machine learning algorithms are trained with historical data. When new data comes in, they can make predictions and decisions accurately based on the learning from past data. \n",
        "\n",
        "<img src=\"https://s3-whjr-v2-prod-bucket.whjr.online/b8502fcd-69fb-4532-8916-483133f2189e.png\"/>"
      ]
    },
    {
      "cell_type": "markdown",
      "metadata": {
        "id": "IH5_lIyzzp-V"
      },
      "source": [
        "\n",
        "**Types of Machine Learning**\n",
        "\n",
        "There are two main types of machine learning algorithm:\n",
        "1. Supervised Learning.\n",
        "2. Unsupervised Learning.\n",
        "\n",
        " \n",
        "\n",
        " "
      ]
    },
    {
      "cell_type": "markdown",
      "metadata": {
        "id": "NWHDOSyJr7HN"
      },
      "source": [
        "#### **1. Supervised Learning**\n",
        "\n",
        "In supervised learning, the machine learns under supervision. It contains a model that is able to predict with the help of a labeled dataset. A labeled dataset is one where you already know the target answer.\n",
        "\n",
        "Supervised learning can only happen when we use a data set with labels to train the model, otherwise we cannot do supervised learning. Following image illustrates how supervised learning performs prediction.\n",
        "\n",
        "<img src=\"https://s3-whjr-v2-prod-bucket.whjr.online/71e5c13a-87fe-4e96-a898-4022e64b1352.png\" />\n",
        "\n",
        "In this example, we want to make a machine learning model that can estimate whether there is an apple or a banana. \n",
        " - We use labeled pictures of both apples and bananas. \n",
        " - Once the machine learning model is trained, it can be used to make predictions on new data that does not have a label. \n",
        " \n",
        "\n",
        "In this example, we have images that are labeled as an apple or a banana. This known data is fed to the machine learning algorithm, which analyzes and learns the features of these images such as shape, size, color etc. Now when a new image is fed to the machine without any label, the algorithm can predict accurately that it is a banana with the help of the past labeled data.\n",
        "\n",
        "**Applications of Supervised Learning:**\n",
        "\n",
        "Supervised Learning Algorithms are used in a variety of applications. Some of them are:\n",
        "\n",
        "**1. Online Fraud Detection:** \n",
        "\n",
        ">  Paypal is using ML for online fraud detection. The company uses a set of tools and algorithms that compares millions of transactions and classify them into legitimate and illegitimate based on their features.\n",
        "\n",
        "> <img src=\"https://s3-whjr-v2-prod-bucket.whjr.online/d52fa540-9b47-48a1-a15e-39d0f0d5f250.png\"/>\n",
        "\n",
        "**2. Spam Detection:**\n",
        "\n",
        ">  Gmail uses a supervised learning model that learns by analyzing emails that has already been labeled as spam. When a new email arrives, the model identifies whether it is spam or not and blocks them directly.\n",
        "\n",
        "> <img src=\"https://s3-whjr-v2-prod-bucket.whjr.online/b78219b9-4ed3-44e5-848b-db27b973ddc2.png\" />"
      ]
    },
    {
      "cell_type": "markdown",
      "metadata": {
        "id": "U18PnREsd4fi"
      },
      "source": [
        "---"
      ]
    },
    {
      "cell_type": "markdown",
      "metadata": {
        "id": "E7x-EXz2zL1q"
      },
      "source": [
        "#### **2. Unsupervised Learning**\n",
        "\n",
        "In Unsupervised Learning, the machine uses unlabeled data and learns on itself without any supervision. The machine tries to find a pattern in the unlabeled data and gives a response.\n",
        "\n",
        "Unsupervised learning finds hidden patterns or intrinsic structures in\n",
        "data. Consider the following example: \n",
        "\n",
        "<img src=\"https://s3-whjr-v2-prod-bucket.whjr.online/63106208-6dd2-418e-9bdf-2251c580edf5.png\" />\n",
        "\n",
        "In the above example, we do not tell the machine whether it's an apple or an orange. The machine identifies patterns from the given set and groups them based on their features, similarities, etc.\n",
        "\n",
        "\n",
        "**Clustering** is the most common unsupervised learning technique. It divides the objects into clusters in such a way that objects that are in the same group or cluster have similar properties or features, while objects in different groups or clusters have dissimilar properties or features. For example, finding out which target customers are more suitable for a particular product.\n",
        "\n",
        "<img src=\"https://s3-whjr-v2-prod-bucket.whjr.online/928b7fab-fd5f-4057-b39f-2cfbb60e6f63.png\"/>\n",
        "\n",
        "\n",
        "\n",
        "\n"
      ]
    },
    {
      "cell_type": "markdown",
      "metadata": {
        "id": "WS0LmPiuY7U9"
      },
      "source": [
        "\n",
        "\n",
        "---\n",
        "\n"
      ]
    },
    {
      "cell_type": "markdown",
      "metadata": {
        "id": "u5ScV92I3OX3"
      },
      "source": [
        "#### Task 3: Machine Learning principle\n",
        "\n",
        "**What is hypothesis in machine learning?**\n",
        "\n",
        "A hypothesis is an explanation for something. It is an assumption or a guess or just a provisional idea that requires some evaluation. A model that corresponds with the target function and performs mappings of inputs to outputs is called a hypothesis in machine learning.\n",
        "\n",
        "Every machine learning algorithm implements the following scientific principles:\n",
        "\n",
        "1. Formulate a hypothesis (choose a model) about some phenomenon.\n",
        "2. Collect data to test the hypothesis (validate the model).\n",
        "3. Refine the hypothesis (iterate).\n",
        "\n",
        "<img src=\"https://s3-whjr-v2-prod-bucket.whjr.online/7f447f7e-aaae-4cc3-bc60-f1d37615f015.png\"/>\n",
        "\n",
        "**1. Formulating Hypothesis**\n",
        "\n",
        "Every machine learning hypothesis begins with three questions:\n",
        " - What kind of data are you working with?\n",
        " - What insights do you want to get from it?\n",
        " - How and where will those insights be applied?\n",
        "\n",
        "  Your answers to these questions help you decide whether to use supervised or unsupervised learning model.\n",
        "\n",
        "**2. Collecting Data to test Hypothesis**\n",
        "\n",
        "The next step in Machine Learning is collecting data because without data, there can be no machine learning.\n",
        "\n",
        "When you think about data, some of the questions that emerge are:\n",
        " - Where is your data?\n",
        " - How much data do you need?\n",
        " - What kind of data should you collect?\n",
        " - What patterns can be identified from data?\n",
        " - How can you extract features from data?\n",
        "\n",
        "\n",
        "Collecting data allows you to capture a record of past events so that we can use data analysis to find recurring patterns. From those patterns, you build predictive models using machine learning algorithms that look for trends and predict future changes.\n",
        "\n",
        "**3. Validate hypothesis**\n",
        "\n",
        "Hypothesis validation is the process of evaluating whether the hypothesis function is an acceptable description of data. It evaluates the accuracy of the ML model.\n",
        "\n",
        "Cross validation is a popular validation technique which evaluates how well a hypothesis function generalizes over an independent dataset.\n",
        "\n",
        "**Cross Validation:**\n",
        "\n",
        "> In machine learning problems, we are given a training set on which the hypothesis function is trained and a test set on which it is evaluated. \n",
        "\n",
        "> In cross validation, the training set is split into training set and validation set. The purpose of validation set is to evaluate performance of hypothesis function on unseen data during the training phase.\n",
        "\n",
        ">A typical flow of cross-validation is as follows:\n",
        " 1. Obtain a small subset from training data as validation set.\n",
        " 2. Train a hypothesis on remaining data.\n",
        " 3. Evaluate its accuracy on validation set.\n",
        "\n",
        "> Multiple such hypothesis functions are trained by iterating the  above steps multiple times. The resulting hypothesis function is then derived by taking the weighted average of predictions of all the hypothesis functions.\n",
        "\n",
        "\n",
        "<img src=\"https://s3-whjr-v2-prod-bucket.whjr.online/b48ad529-b939-40f2-803b-03e2aad85871.png\"/>\n",
        "\n",
        "\n",
        "**4. Refine the hypothesis**\n",
        "\n",
        "Refining the hypothesis is an iterative process that involves evaluating the machine learning model and improving the model to get better accuracy.\n",
        "\n",
        "- **Evaluation:**\n",
        "\n",
        "  Model Evaluation is an integral part of the model development process. It helps to find the best model that represents our data and how well the chosen model will work in the future.\n",
        "  \n",
        "\n",
        "- **Iteration:**\n",
        "\n",
        "  Iteration is a central concept of machine learning, and it's vital on many levels. Knowing exactly where this simple concept appears in the ML workflow has many practical benefits:\n",
        "\n",
        "  * You'll better understand the algorithms you work with.\n",
        "  * You'll anticipate more realistic timelines for your projects.\n",
        "  * You'll spot low hanging fruit for model improvement.\n",
        "  * You'll find it easier to stay motivated after poor initial results.\n",
        "  * You'll be able to solve bigger problems with machine learning"
      ]
    },
    {
      "cell_type": "markdown",
      "metadata": {
        "id": "Z2W1jJcCCOhs"
      },
      "source": [
        "Thus in today's class, we covered basic principles of Machine Learning. We also explored the types of ML models along with their examples. In the next class, we will start learning the basics of Python and will study the evolution of Python and how it is useful in creating different kinds of applications."
      ]
    },
    {
      "cell_type": "markdown",
      "metadata": {
        "id": "Obvdg9Yj8aCN"
      },
      "source": [
        "---"
      ]
    }
  ]
}