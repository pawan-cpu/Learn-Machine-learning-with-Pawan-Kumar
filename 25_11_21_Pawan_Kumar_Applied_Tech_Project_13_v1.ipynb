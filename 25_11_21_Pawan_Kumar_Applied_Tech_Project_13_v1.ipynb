{
  "nbformat": 4,
  "nbformat_minor": 0,
  "metadata": {
    "colab": {
      "name": "25/11/21_Pawan Kumar_Applied Tech. Project 13_v1",
      "provenance": [],
      "collapsed_sections": [],
      "include_colab_link": true
    },
    "kernelspec": {
      "name": "python3",
      "display_name": "Python 3"
    }
  },
  "cells": [
    {
      "cell_type": "markdown",
      "metadata": {
        "id": "view-in-github",
        "colab_type": "text"
      },
      "source": [
        "<a href=\"https://colab.research.google.com/github/pawan-cpu/Learn-Python-with-Pawan-Kumar/blob/main/25_11_21_Pawan_Kumar_Applied_Tech_Project_13_v1.ipynb\" target=\"_parent\"><img src=\"https://colab.research.google.com/assets/colab-badge.svg\" alt=\"Open In Colab\"/></a>"
      ]
    },
    {
      "cell_type": "markdown",
      "metadata": {
        "id": "YZnBY81YDCCr"
      },
      "source": [
        "### Instructions"
      ]
    },
    {
      "cell_type": "markdown",
      "metadata": {
        "id": "bEyBzxYRhrLG"
      },
      "source": [
        "#### Goal of the Project\n",
        "\n",
        "This project is designed for you to practice and solve the activities that are based on the concepts covered in the following lessons:\n",
        "\n",
        "  1.  Python List II\n",
        "  3.  Pandas Series"
      ]
    },
    {
      "cell_type": "markdown",
      "metadata": {
        "id": "DPOFIO3EHncO"
      },
      "source": [
        "---"
      ]
    },
    {
      "cell_type": "markdown",
      "metadata": {
        "id": "bu9uYNNMDzC9"
      },
      "source": [
        "#### Getting Started:\n",
        "\n",
        "1. Click on this link to open the Colab file for this project.\n",
        "\n",
        "     https://colab.research.google.com/drive/1RkKhzVNCjkDoO9JEXGHMr0ucDK4kQN5R\n",
        "     \n",
        "2. Create a duplicate copy of the Colab file as described below.\n",
        "\n",
        "  - Click on the **File menu**. A new drop-down list will appear.\n",
        "\n",
        "   <img src='https://student-datasets-bucket.s3.ap-south-1.amazonaws.com/images/lesson-0/0_file_menu.png' width=500>\n",
        "\n",
        "  - Click on the **Save a copy in Drive** option. A duplicate copy will get created. It will open up in the new tab on your web browser.\n",
        "\n",
        "  <img src='https://student-datasets-bucket.s3.ap-south-1.amazonaws.com/images/lesson-0/1_create_colab_duplicate_copy.png' width=500>\n",
        "\n",
        "3. After creating the duplicate copy of the notebook, please rename it in the **YYYY-MM-DD_StudentName_Project13** format.\n",
        "\n",
        "4. Now, write your code in the prescribed code cells.\n"
      ]
    },
    {
      "cell_type": "markdown",
      "metadata": {
        "id": "8f6-uc0r9Q4h"
      },
      "source": [
        "### Activities"
      ]
    },
    {
      "cell_type": "markdown",
      "metadata": {
        "id": "q4fH06mIjuK3"
      },
      "source": [
        "#### Activity 1.1: Pandas Series containing Random Integers\n",
        "\n",
        "Create a Pandas series containing 40 random integers between 130 and 145. Print this series."
      ]
    },
    {
      "cell_type": "code",
      "metadata": {
        "id": "4EAoTskqg041",
        "colab": {
          "base_uri": "https://localhost:8080/"
        },
        "outputId": "1ab9e149-7faf-4f79-d0ed-59c18200237c"
      },
      "source": [
        "# Create Pandas series\n",
        "import random\n",
        "import pandas as pd\n",
        "list1=[random.randint(130,145) for i in range(40)]\n",
        "print(list1)\n",
        "numbers=pd.Series(list1)\n",
        "print(numbers)\n",
        "\n"
      ],
      "execution_count": null,
      "outputs": [
        {
          "output_type": "stream",
          "name": "stdout",
          "text": [
            "[145, 144, 143, 142, 141, 133, 139, 132, 132, 139, 131, 139, 133, 144, 138, 132, 137, 135, 143, 144, 131, 142, 132, 133, 140, 134, 137, 145, 131, 132, 134, 139, 137, 133, 142, 138, 134, 135, 140, 130]\n",
            "0     145\n",
            "1     144\n",
            "2     143\n",
            "3     142\n",
            "4     141\n",
            "5     133\n",
            "6     139\n",
            "7     132\n",
            "8     132\n",
            "9     139\n",
            "10    131\n",
            "11    139\n",
            "12    133\n",
            "13    144\n",
            "14    138\n",
            "15    132\n",
            "16    137\n",
            "17    135\n",
            "18    143\n",
            "19    144\n",
            "20    131\n",
            "21    142\n",
            "22    132\n",
            "23    133\n",
            "24    140\n",
            "25    134\n",
            "26    137\n",
            "27    145\n",
            "28    131\n",
            "29    132\n",
            "30    134\n",
            "31    139\n",
            "32    137\n",
            "33    133\n",
            "34    142\n",
            "35    138\n",
            "36    134\n",
            "37    135\n",
            "38    140\n",
            "39    130\n",
            "dtype: int64\n"
          ]
        }
      ]
    },
    {
      "cell_type": "markdown",
      "metadata": {
        "id": "H4JT7cLU21lW"
      },
      "source": [
        "---"
      ]
    },
    {
      "cell_type": "markdown",
      "metadata": {
        "id": "GaClyPgg0QAN"
      },
      "source": [
        "#### Activity 1.2: Calculate Mean and Median\n",
        "\n",
        "Calculate the mean value and median value of the above Pandas series."
      ]
    },
    {
      "cell_type": "code",
      "metadata": {
        "id": "2g8Itdkx0ZX5",
        "colab": {
          "base_uri": "https://localhost:8080/"
        },
        "outputId": "2ea46600-456c-49de-f2c8-fbefd9f3e4b7"
      },
      "source": [
        "# Calculate the mean and median value\n",
        "print(numbers.mean())\n",
        "print(numbers.median())\n"
      ],
      "execution_count": null,
      "outputs": [
        {
          "output_type": "stream",
          "name": "stdout",
          "text": [
            "137.125\n",
            "137.0\n"
          ]
        }
      ]
    },
    {
      "cell_type": "markdown",
      "metadata": {
        "id": "2x82_lCI2yzK"
      },
      "source": [
        "---"
      ]
    },
    {
      "cell_type": "markdown",
      "metadata": {
        "id": "GzfCSkUq18qe"
      },
      "source": [
        "#### Activity 1.3: Find Minimum and Maximum\n",
        "\n",
        "Find the minimum and maximum value in the above Pandas series."
      ]
    },
    {
      "cell_type": "code",
      "metadata": {
        "id": "GOnSoo392Bmu",
        "colab": {
          "base_uri": "https://localhost:8080/"
        },
        "outputId": "cfe8cd68-3266-4ee1-b2de-361973f4b9fe"
      },
      "source": [
        "# Find minimum and maximum value in the above Pandas series\n",
        "print(numbers.min())\n",
        "print(numbers.max())"
      ],
      "execution_count": null,
      "outputs": [
        {
          "output_type": "stream",
          "name": "stdout",
          "text": [
            "130\n",
            "145\n"
          ]
        }
      ]
    },
    {
      "cell_type": "markdown",
      "metadata": {
        "id": "--MY5L-z2wFu"
      },
      "source": [
        "---"
      ]
    },
    {
      "cell_type": "markdown",
      "metadata": {
        "id": "yqhCzutD2WQ-"
      },
      "source": [
        "#### Activity 1.4: Arrange in Descending Order\n",
        "\n",
        "Arrange the values in descending order and print the last five rows of the series."
      ]
    },
    {
      "cell_type": "code",
      "metadata": {
        "id": "4c70mF7Y2dID",
        "colab": {
          "base_uri": "https://localhost:8080/"
        },
        "outputId": "47e0c681-3b7f-4509-e8f5-1f17840a22a2"
      },
      "source": [
        "# Arrange the values in descending order and print the last five rows\n",
        "numbers.sort_values(ascending=False).tail()"
      ],
      "execution_count": null,
      "outputs": [
        {
          "output_type": "execute_result",
          "data": {
            "text/plain": [
              "29    132\n",
              "20    131\n",
              "10    131\n",
              "28    131\n",
              "39    130\n",
              "dtype: int64"
            ]
          },
          "metadata": {},
          "execution_count": 6
        }
      ]
    },
    {
      "cell_type": "markdown",
      "metadata": {
        "id": "xJlPs9X9oeRw"
      },
      "source": [
        "---"
      ]
    },
    {
      "cell_type": "markdown",
      "metadata": {
        "id": "b4aeCDi0pkJz"
      },
      "source": [
        "#### Activity 2: Find whether Two Lines are Parallel\n",
        "\n",
        "Given two lines, determine whether they are parallel or not.\n",
        "Lines are represented using a list [a, b, c] which corresponds to the straight line $ax+by=c$.\n",
        "\n",
        "\n",
        "\n",
        "**Hints:**\n",
        "- Two lines are parallel if their slopes are equal. \n",
        "\n",
        "- A line in the form of $ax+by=c$ has slope $\\frac {-a}{b}$. \n",
        "- Ignore the minus $(-)$ sign. Just calculate $\\frac {a}{b}$ for both lines and find out whether they are equal or not.\n",
        "\n",
        "\n",
        "**Example:**\n",
        "```\n",
        "line1 = [2,3,4] \n",
        "line2 = [4,6,8]\n",
        "\n",
        "Are lines parallel?\n",
        "True\n",
        "```\n",
        " "
      ]
    },
    {
      "cell_type": "code",
      "metadata": {
        "id": "d5ufKLNYzsIl",
        "colab": {
          "base_uri": "https://localhost:8080/"
        },
        "outputId": "652754e9-ea1b-4296-cb76-60a67fee84d5"
      },
      "source": [
        "# Two lines are parallel or n\n",
        "def parallel(line1,line2):\n",
        "  s1=line1[0]/line1[1]\n",
        "  s2=line2[0]/line2[1]\n",
        "  if s1==s2:\n",
        "    return True\n",
        "  else:\n",
        "    return False\n",
        "parallel([2,3,4],[4,6,8])"
      ],
      "execution_count": null,
      "outputs": [
        {
          "output_type": "execute_result",
          "data": {
            "text/plain": [
              "True"
            ]
          },
          "metadata": {},
          "execution_count": 7
        }
      ]
    },
    {
      "cell_type": "markdown",
      "metadata": {
        "id": "HSz7jRSlGxIO"
      },
      "source": [
        "---"
      ]
    },
    {
      "cell_type": "markdown",
      "metadata": {
        "id": "1rBGksduD8Fe"
      },
      "source": [
        "### How To Submit The Project\n",
        "\n",
        "Follow the steps described below to submit the project.\n",
        "1. After finishing the project, click on the **Share** button on the top right corner of the notebook. A new dialog box will appear.\n",
        "  <img src='https://student-datasets-bucket.s3.ap-south-1.amazonaws.com/images/project-share-images/2_share_button.png' width=500>\n",
        "2. In the dialog box, click on the **Copy link** button. Make sure that '**Anyone on the Internet with this link can view**' option is selected and then click on the **Copy link** button.\n",
        "\n",
        "   <img src='https://student-datasets-bucket.s3.ap-south-1.amazonaws.com/images/project-share-images/3_copy_link.png' width=500>\n",
        "3. The link of the duplicate copy (named as **YYYY-MM-DD_StudentName_Project13**) of the notebook will get copied \n",
        "   <img src='https://student-datasets-bucket.s3.ap-south-1.amazonaws.com/images/project-share-images/4_copy_link_confirmation.png' width=500>\n",
        "4. Go to your dashboard and click on the **My Projects** option.\n",
        "   <img src='https://student-datasets-bucket.s3.ap-south-1.amazonaws.com/images/project-share-images/5_student_dashboard.png' width=800>\n",
        "   <img src='https://student-datasets-bucket.s3.ap-south-1.amazonaws.com/images/project-share-images/6_my_projects.png' width=800>\n",
        "5. Click on the **View Project** button for the project you want to submit.\n",
        "   <img src='https://student-datasets-bucket.s3.ap-south-1.amazonaws.com/images/project-share-images/7_view_project.png' width=800>\n",
        "6. Click on the **Submit Project Here** button.\n",
        "   <img src='https://student-datasets-bucket.s3.ap-south-1.amazonaws.com/images/project-share-images/8_submit_project.png' width=800>\n",
        "7. Past the link to the project named as **YYYY-MM-DD_StudentName_Project13** in the URL box and then click on the **Submit** button.\n",
        "   <img src='https://student-datasets-bucket.s3.ap-south-1.amazonaws.com/images/project-share-images/9_enter_project_url.png' width=800>\n"
      ]
    },
    {
      "cell_type": "markdown",
      "metadata": {
        "id": "oc4S9JToIZhg"
      },
      "source": [
        "---"
      ]
    }
  ]
}