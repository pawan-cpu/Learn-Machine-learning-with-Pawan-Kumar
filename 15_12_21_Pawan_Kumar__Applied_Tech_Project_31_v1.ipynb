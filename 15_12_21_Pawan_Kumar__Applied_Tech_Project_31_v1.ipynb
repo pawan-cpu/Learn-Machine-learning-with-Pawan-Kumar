{
  "nbformat": 4,
  "nbformat_minor": 0,
  "metadata": {
    "colab": {
      "name": "15/12/21_Pawan_Kuma _Applied Tech. Project 31_v1",
      "provenance": [],
      "collapsed_sections": [],
      "include_colab_link": true
    },
    "kernelspec": {
      "name": "python3",
      "display_name": "Python 3"
    }
  },
  "cells": [
    {
      "cell_type": "markdown",
      "metadata": {
        "id": "view-in-github",
        "colab_type": "text"
      },
      "source": [
        "<a href=\"https://colab.research.google.com/github/pawan-cpu/Learn-Python-with-Pawan-Kumar/blob/main/15_12_21_Pawan_Kumar__Applied_Tech_Project_31_v1.ipynb\" target=\"_parent\"><img src=\"https://colab.research.google.com/assets/colab-badge.svg\" alt=\"Open In Colab\"/></a>"
      ]
    },
    {
      "cell_type": "markdown",
      "metadata": {
        "id": "YZnBY81YDCCr"
      },
      "source": [
        "### Instructions"
      ]
    },
    {
      "cell_type": "markdown",
      "metadata": {
        "id": "fIKnY8occu37"
      },
      "source": [
        "#### Goal of the Project\n",
        "\n",
        "This project is designed for you to practice and solve the activities that are based on the concepts covered in the following lessons:\n",
        "\n",
        "1. Python Lists\n",
        "\n",
        "2. Python Dictionary \n",
        "\n",
        "\n",
        "\n",
        "\n"
      ]
    },
    {
      "cell_type": "markdown",
      "metadata": {
        "id": "b57XkewxxpTC"
      },
      "source": [
        "---"
      ]
    },
    {
      "cell_type": "markdown",
      "metadata": {
        "id": "iEaSkDKhxqA8"
      },
      "source": [
        "#### Getting Started:\n",
        "\n",
        "1. Click on this link to open the Colab file for this project.\n",
        "\n",
        "   https://colab.research.google.com/drive/1eXZOMrcShihnn5F9gAN3Wxh_0K3FhX7N\n",
        "\n",
        "2. Create a duplicate copy of the Colab file as described below.\n",
        "\n",
        "  - Click on the **File menu**. A new drop-down list will appear.\n",
        "\n",
        "   <img src='https://student-datasets-bucket.s3.ap-south-1.amazonaws.com/images/lesson-0/0_file_menu.png' width=500>\n",
        "\n",
        "  - Click on the **Save a copy in Drive** option. A duplicate copy will get created. It will open up in the new tab on your web browser.\n",
        "\n",
        "  <img src='https://student-datasets-bucket.s3.ap-south-1.amazonaws.com/images/lesson-0/1_create_colab_duplicate_copy.png' width=500>\n",
        "\n",
        "3. After creating the duplicate copy of the notebook, please rename it in the **YYYY-MM-DD_StudentName_Project31** format.\n",
        "\n",
        "4. Now, write your code in the prescribed code cells.\n"
      ]
    },
    {
      "cell_type": "markdown",
      "metadata": {
        "id": "BBqkpH4_Doqe"
      },
      "source": [
        "---"
      ]
    },
    {
      "cell_type": "markdown",
      "metadata": {
        "id": "H0P9F3DUf8x2"
      },
      "source": [
        "### Activities\n",
        "\n",
        "\n",
        "  "
      ]
    },
    {
      "cell_type": "markdown",
      "metadata": {
        "id": "BVT9G_baB1aq"
      },
      "source": [
        "#### Activity 1: Dictionary of Student Names\n",
        "\n",
        "Create a function that takes a dictionary of student names as parameters and returns a list containing those student names.\n",
        "\n",
        "**Example:**\n",
        "```\n",
        "get_student_names({\n",
        "  \"Student 1\" : \"Steve\",\n",
        "  \"Student 2\" : \"Becky\",\n",
        "  \"Student 3\" : \"John\"\n",
        "})\n",
        "➞ [\"Steve\", \"Becky\", \"John\"]\n",
        "```\n",
        "\n",
        "**Hint:** Use `list()` function to create a list of dictionary values."
      ]
    },
    {
      "cell_type": "code",
      "metadata": {
        "id": "0pIGxKG9B3mb",
        "colab": {
          "base_uri": "https://localhost:8080/"
        },
        "outputId": "f46dce30-c70d-4089-b165-ac7ba33fe014"
      },
      "source": [
        "# Write your solution here\n",
        "my_dict={'Student1' : 'Steve',  \n",
        "           'Student2' : 'Becky', \n",
        "           'Student3' : 'John'}\n",
        "print(my_dict)"
      ],
      "execution_count": null,
      "outputs": [
        {
          "output_type": "stream",
          "name": "stdout",
          "text": [
            "{'Student1': 'Steve', 'Student2': 'Becky', 'Student3': 'John'}\n"
          ]
        }
      ]
    },
    {
      "cell_type": "code",
      "source": [
        "list(my_dict.values())\n"
      ],
      "metadata": {
        "colab": {
          "base_uri": "https://localhost:8080/"
        },
        "id": "zZpTIYK1x_EB",
        "outputId": "bd3260df-096d-4ab2-b0a2-436e682cecc3"
      },
      "execution_count": null,
      "outputs": [
        {
          "output_type": "execute_result",
          "data": {
            "text/plain": [
              "['Steve', 'Becky', 'John']"
            ]
          },
          "metadata": {},
          "execution_count": 2
        }
      ]
    },
    {
      "cell_type": "markdown",
      "metadata": {
        "id": "IJIZASayCpEW"
      },
      "source": [
        "---"
      ]
    },
    {
      "cell_type": "markdown",
      "metadata": {
        "id": "g5ojkSnpCnQg"
      },
      "source": [
        "#### Activity 2: Simon Says \n",
        "\n",
        "Given two lists as an input, create a function that returns `True` if the second list follows first list by one element. \n",
        "\n",
        "In other words, determine if the second list is the first list shifted to right by `1`.\n",
        "\n",
        "**For example:**\n",
        "\n",
        "Consider two lists: `list1 = [1, 2, 3, 4, 5]` and `list2 = [0, 1, 2, 3, 4]`\n",
        "\n",
        "Then,\n",
        "\n",
        "`simon_says([[1, 2, 3, 4, 5], [0, 1, 2, 3, 4])` ➞ **True**, because:\n",
        "  - first element of `list1` = second element of `list2`\n",
        "  - second element of `list1` = third element of `list2`\n",
        "  - third element of `list1` = fourth element of `list2`\n",
        "and so on.\n",
        "\n",
        "In other words, `list2` is same as `list1` shifted to right by 1. (Ignore the first element of `list2` and last element of `list1`)\n",
        "\n",
        "**Constraints**:\n",
        "\n",
        "- Both input lists must be of the same length with minimum length of `2`.\n",
        "\n",
        "- Ignore the first element of the second list and the last element of the first list.\n",
        "\n",
        "**Input Format**\n",
        "```\n",
        "Two python lists of equal length passed as parameters to a function.\n",
        "```\n",
        "\n",
        "**Output Format**\n",
        "```\n",
        "Return True if the second list is the first list shifted to the right by `1`, otherwise return False.\n",
        "```\n",
        "\n",
        "**Examples**\n",
        "```\n",
        "simon_says([1, 2], [5, 1]) ➞ True\n",
        "\n",
        "simon_says([1, 2], [5, 5]) ➞ False\n",
        "\n",
        "simon_says([[1, 2, 3, 4, 5], [0, 1, 2, 3, 4]) ➞ True\n",
        "\n",
        "simon_says([1, 2, 3, 4, 5], [5, 5, 1, 2, 3]) ➞ False\n",
        "```"
      ]
    },
    {
      "cell_type": "code",
      "metadata": {
        "id": "UlGejEowCtAE",
        "colab": {
          "base_uri": "https://localhost:8080/"
        },
        "outputId": "e6e59e05-235c-4f07-82aa-c8ad2b8c6f40"
      },
      "source": [
        "# Write your solution here\n",
        "def simon_says(list1, list2):\n",
        "     n=len(list1)\n",
        "     for i in range(0,n-1):\n",
        "       if list1[i]!=list2[i+1]:\n",
        "         return False\n",
        "     return True\n",
        "print(simon_says([1,2,3,4,5], [5, 5, 1, 2, 3]))"
      ],
      "execution_count": null,
      "outputs": [
        {
          "output_type": "stream",
          "name": "stdout",
          "text": [
            "False\n"
          ]
        }
      ]
    },
    {
      "cell_type": "markdown",
      "metadata": {
        "id": "MWkPEALQn-lN"
      },
      "source": [
        "---"
      ]
    },
    {
      "cell_type": "markdown",
      "metadata": {
        "id": "KAzZcj5TxycB"
      },
      "source": [
        "### Submitting the Project:\n",
        "\n",
        "1. After finishing the project, click on the **Share** button on the top right corner of the notebook. A new dialog box will appear.\n",
        "\n",
        "  <img src='https://student-datasets-bucket.s3.ap-south-1.amazonaws.com/images/project-share-images/2_share_button.png' width=500>\n",
        "\n",
        "2. In the dialog box, make sure that '**Anyone on the Internet with this link can view**' option is selected and then click on the **Copy link** button.\n",
        "\n",
        "   <img src='https://student-datasets-bucket.s3.ap-south-1.amazonaws.com/images/project-share-images/3_copy_link.png' width=500>\n",
        "\n",
        "3. The link of the duplicate copy (named as **YYYY-MM-DD_StudentName_Project31**) of the notebook will get copied \n",
        "\n",
        "   <img src='https://student-datasets-bucket.s3.ap-south-1.amazonaws.com/images/project-share-images/4_copy_link_confirmation.png' width=500>\n",
        "\n",
        "4. Go to your dashboard and click on the **My Projects** option.\n",
        "   \n",
        "   <img src='https://student-datasets-bucket.s3.ap-south-1.amazonaws.com/images/project-share-images/5_student_dashboard.png' width=800>\n",
        "\n",
        "  <img src='https://student-datasets-bucket.s3.ap-south-1.amazonaws.com/images/project-share-images/6_my_projects.png' width=800>\n",
        "\n",
        "5. Click on the **View Project** button for the project you want to submit.\n",
        "\n",
        "   <img src='https://student-datasets-bucket.s3.ap-south-1.amazonaws.com/images/project-share-images/7_view_project.png' width=800>\n",
        "\n",
        "6. Click on the **Submit Project Here** button.\n",
        "\n",
        "   <img src='https://student-datasets-bucket.s3.ap-south-1.amazonaws.com/images/project-share-images/8_submit_project.png' width=800>\n",
        "\n",
        "7. Paste the link to the project file named as **YYYY-MM-DD_StudentName_Project31** in the URL box and then click on the **Submit** button.\n",
        "\n",
        "   <img src='https://student-datasets-bucket.s3.ap-south-1.amazonaws.com/images/project-share-images/9_enter_project_url.png' width=800> "
      ]
    },
    {
      "cell_type": "markdown",
      "metadata": {
        "id": "ljrqAGSpxxwo"
      },
      "source": [
        "---"
      ]
    }
  ]
}