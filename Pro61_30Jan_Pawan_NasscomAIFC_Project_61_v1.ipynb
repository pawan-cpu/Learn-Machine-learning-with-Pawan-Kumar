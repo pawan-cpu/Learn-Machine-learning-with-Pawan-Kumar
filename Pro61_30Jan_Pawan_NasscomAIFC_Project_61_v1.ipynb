{
  "nbformat": 4,
  "nbformat_minor": 0,
  "metadata": {
    "colab": {
      "name": "Pro61_30Jan_Pawan_NasscomAIFC_Project_61_v1.ipynb",
      "provenance": [],
      "collapsed_sections": [],
      "include_colab_link": true
    },
    "kernelspec": {
      "name": "python3",
      "display_name": "Python 3"
    }
  },
  "cells": [
    {
      "cell_type": "markdown",
      "metadata": {
        "id": "view-in-github",
        "colab_type": "text"
      },
      "source": [
        "<a href=\"https://colab.research.google.com/github/pawan-cpu/Learn-Python-with-Pawan-Kumar/blob/main/Pro61_30Jan_Pawan_NasscomAIFC_Project_61_v1.ipynb\" target=\"_parent\"><img src=\"https://colab.research.google.com/assets/colab-badge.svg\" alt=\"Open In Colab\"/></a>"
      ]
    },
    {
      "cell_type": "markdown",
      "metadata": {
        "id": "aQIDTCSIwTP3"
      },
      "source": [
        "### Instructions"
      ]
    },
    {
      "cell_type": "markdown",
      "metadata": {
        "id": "F_IP6BNb3Ne1"
      },
      "source": [
        "---"
      ]
    },
    {
      "cell_type": "markdown",
      "metadata": {
        "id": "azReToS7wWX3"
      },
      "source": [
        "#### Goal of the Project\n",
        "\n",
        "This project is designed for you to practice and solve the activities that are based on the concepts covered in the following lesson:\n",
        "\n",
        " 1. Multiple linear regression - Introduction\n",
        " 2. Multicollinearity\n",
        " 3. Variance Inflation Factor\n",
        " 4. Car Price Prediction - RFE\n",
        " \n",
        " "
      ]
    },
    {
      "cell_type": "markdown",
      "metadata": {
        "id": "llwKuOyIwnA_"
      },
      "source": [
        "---"
      ]
    },
    {
      "cell_type": "markdown",
      "metadata": {
        "id": "jrWg-BM0F4ZX"
      },
      "source": [
        "#### Getting Started:\n",
        "\n",
        "1. Click on this link to open the Colab file for this project.\n",
        "\n",
        "    https://colab.research.google.com/drive/1w9rl9GIS0QNsN2EcwDSVcHarjBTlrnNL\n",
        "\n",
        "2. Create a duplicate copy of the Colab file as described below.\n",
        "\n",
        "  - Click on the **File menu**. A new drop-down list will appear.\n",
        "\n",
        "   <img src='https://student-datasets-bucket.s3.ap-south-1.amazonaws.com/images/lesson-0/0_file_menu.png' width=500>\n",
        "\n",
        "  - Click on the **Save a copy in Drive** option. A duplicate copy will get created. It will open up in the new tab on your web browser.\n",
        "\n",
        "  <img src='https://student-datasets-bucket.s3.ap-south-1.amazonaws.com/images/lesson-0/1_create_colab_duplicate_copy.png' width=500>\n",
        "\n",
        "3. After creating the duplicate copy of the notebook, please rename it in the **YYYY-MM-DD_StudentName_Project70** format.\n",
        "\n",
        "4. Now, write your code in the prescribed code cells.\n"
      ]
    },
    {
      "cell_type": "markdown",
      "metadata": {
        "id": "6cwOPR4kGBCl"
      },
      "source": [
        "---"
      ]
    },
    {
      "cell_type": "markdown",
      "metadata": {
        "id": "fR_SN7K6475D"
      },
      "source": [
        "### Problem Statement\n",
        "\n",
        "Many of your friends may be worried about their chances of getting admission in their dream university for pursuing MS. So, you decided to help them by building a model which is capable of predicting their chance of getting admission in their dream masters program. This model should also help them in understanding which factors are important in MS admissions and what are the scores required for different tests to have better admission chances.\n",
        "\n",
        "Build a prediction model using multiple linear regression to predict the likelihood of getting admission and evaluate the accuracy of the model.\n",
        "If there is multicollinearity in the dataset, apply RFE to eliminate redundant features and validate the selected features using VIF.\n",
        "\n",
        "\n",
        "\n",
        "\n"
      ]
    },
    {
      "cell_type": "markdown",
      "metadata": {
        "id": "lN1iCMJ4Oy1N"
      },
      "source": [
        "---"
      ]
    },
    {
      "cell_type": "markdown",
      "metadata": {
        "id": "L3zN-iv-wpjm"
      },
      "source": [
        "### List of Activities\n",
        "\n",
        "**Activity 1:** Analyse the Dataset\n",
        "\n",
        "**Activity 2:** Find Correlation\n",
        "  \n",
        "**Activity 3:** Train-Test Split\n",
        "\n",
        "**Activity 4:** Train the Model\n",
        "\n",
        "**Activity 5:** Determine Highly Correlated Features\n",
        "\n",
        "**Activity 6:** Perform RFE\n",
        "\n",
        "\n",
        "\n",
        "\n",
        "\n"
      ]
    },
    {
      "cell_type": "markdown",
      "metadata": {
        "id": "jLudEnlPO0FF"
      },
      "source": [
        "---"
      ]
    },
    {
      "cell_type": "markdown",
      "metadata": {
        "id": "lZt4yKiJwrUs"
      },
      "source": [
        "\n",
        "#### Activity 1:  Analyse the Dataset\n",
        "\n",
        "- Create a Pandas DataFrame for **Admission_Predict** dataset using the below link. This dataset consists of several parameters which are considered important during the application for Masters program:\n",
        "\n",
        "\n",
        "|Field|Description|\n",
        "|---:|:---|\n",
        "|Serial No.|Serial No.|\n",
        "|GRE Score|GRE Scores ( out of 340 )|\n",
        "|TOEFL Score|TOEFL Scores ( out of 120 )|\n",
        "|University Rating|University Rating ( out of 5 )|\n",
        "|SOP|Statement of Purpose Strength ( out of 5 )|\n",
        "|LOR|Letter of Recommendation Strength ( out of 5 )|\n",
        "|CGPA|Undergraduate GPA ( out of 10 )|\n",
        "|Research|Research Experience ( either 0 or 1 )|\n",
        "|Chance of Admit|Chance of Admit ( ranging from 0 to 1 )|\n",
        "\n",
        "\n",
        "\n",
        "  **Dataset Link:** https://student-datasets-bucket.s3.ap-south-1.amazonaws.com/whitehat-ds-datasets/Admission_Predict.csv\n",
        "\n",
        "- Print the first five rows of the dataset. Check for null values and treat them accordingly.\n",
        "\n",
        "- Also drop the column `Serial No.` from the dataset as it is of no use for analysis. Check whether the column names contain any trailing and leading spaces. If yes, remove the whitespaces from the column names.\n",
        "\n",
        "**Hint:** You can use `strip()` and `rename()` functions to remove unwanted whitespaces from the column name and to rename them.\n",
        "\n",
        "\n",
        "\n",
        "\n"
      ]
    },
    {
      "cell_type": "code",
      "metadata": {
        "id": "6U6NaAy4WQgs",
        "colab": {
          "base_uri": "https://localhost:8080/",
          "height": 206
        },
        "outputId": "18d251c0-37a8-4608-a602-169ea29ca04e"
      },
      "source": [
        "# Import modules\n",
        "import numpy as np\n",
        "import matplotlib.pyplot as plt\n",
        "import pandas as pd\n",
        "import seaborn as sns\n",
        "df=pd.read_csv('https://student-datasets-bucket.s3.ap-south-1.amazonaws.com/whitehat-ds-datasets/Admission_Predict.csv')\n",
        "df\n",
        "df.head()\n",
        "# Load the dataset\n",
        "\n",
        "# Print first five rows using head() function\n"
      ],
      "execution_count": null,
      "outputs": [
        {
          "output_type": "execute_result",
          "data": {
            "text/html": [
              "\n",
              "  <div id=\"df-18638f41-bb8e-42b2-9f9e-852a3a447aa2\">\n",
              "    <div class=\"colab-df-container\">\n",
              "      <div>\n",
              "<style scoped>\n",
              "    .dataframe tbody tr th:only-of-type {\n",
              "        vertical-align: middle;\n",
              "    }\n",
              "\n",
              "    .dataframe tbody tr th {\n",
              "        vertical-align: top;\n",
              "    }\n",
              "\n",
              "    .dataframe thead th {\n",
              "        text-align: right;\n",
              "    }\n",
              "</style>\n",
              "<table border=\"1\" class=\"dataframe\">\n",
              "  <thead>\n",
              "    <tr style=\"text-align: right;\">\n",
              "      <th></th>\n",
              "      <th>Serial No.</th>\n",
              "      <th>GRE Score</th>\n",
              "      <th>TOEFL Score</th>\n",
              "      <th>University Rating</th>\n",
              "      <th>SOP</th>\n",
              "      <th>LOR</th>\n",
              "      <th>CGPA</th>\n",
              "      <th>Research</th>\n",
              "      <th>Chance of Admit</th>\n",
              "    </tr>\n",
              "  </thead>\n",
              "  <tbody>\n",
              "    <tr>\n",
              "      <th>0</th>\n",
              "      <td>1</td>\n",
              "      <td>337</td>\n",
              "      <td>118</td>\n",
              "      <td>4</td>\n",
              "      <td>4.5</td>\n",
              "      <td>4.5</td>\n",
              "      <td>9.65</td>\n",
              "      <td>1</td>\n",
              "      <td>0.92</td>\n",
              "    </tr>\n",
              "    <tr>\n",
              "      <th>1</th>\n",
              "      <td>2</td>\n",
              "      <td>324</td>\n",
              "      <td>107</td>\n",
              "      <td>4</td>\n",
              "      <td>4.0</td>\n",
              "      <td>4.5</td>\n",
              "      <td>8.87</td>\n",
              "      <td>1</td>\n",
              "      <td>0.76</td>\n",
              "    </tr>\n",
              "    <tr>\n",
              "      <th>2</th>\n",
              "      <td>3</td>\n",
              "      <td>316</td>\n",
              "      <td>104</td>\n",
              "      <td>3</td>\n",
              "      <td>3.0</td>\n",
              "      <td>3.5</td>\n",
              "      <td>8.00</td>\n",
              "      <td>1</td>\n",
              "      <td>0.72</td>\n",
              "    </tr>\n",
              "    <tr>\n",
              "      <th>3</th>\n",
              "      <td>4</td>\n",
              "      <td>322</td>\n",
              "      <td>110</td>\n",
              "      <td>3</td>\n",
              "      <td>3.5</td>\n",
              "      <td>2.5</td>\n",
              "      <td>8.67</td>\n",
              "      <td>1</td>\n",
              "      <td>0.80</td>\n",
              "    </tr>\n",
              "    <tr>\n",
              "      <th>4</th>\n",
              "      <td>5</td>\n",
              "      <td>314</td>\n",
              "      <td>103</td>\n",
              "      <td>2</td>\n",
              "      <td>2.0</td>\n",
              "      <td>3.0</td>\n",
              "      <td>8.21</td>\n",
              "      <td>0</td>\n",
              "      <td>0.65</td>\n",
              "    </tr>\n",
              "  </tbody>\n",
              "</table>\n",
              "</div>\n",
              "      <button class=\"colab-df-convert\" onclick=\"convertToInteractive('df-18638f41-bb8e-42b2-9f9e-852a3a447aa2')\"\n",
              "              title=\"Convert this dataframe to an interactive table.\"\n",
              "              style=\"display:none;\">\n",
              "        \n",
              "  <svg xmlns=\"http://www.w3.org/2000/svg\" height=\"24px\"viewBox=\"0 0 24 24\"\n",
              "       width=\"24px\">\n",
              "    <path d=\"M0 0h24v24H0V0z\" fill=\"none\"/>\n",
              "    <path d=\"M18.56 5.44l.94 2.06.94-2.06 2.06-.94-2.06-.94-.94-2.06-.94 2.06-2.06.94zm-11 1L8.5 8.5l.94-2.06 2.06-.94-2.06-.94L8.5 2.5l-.94 2.06-2.06.94zm10 10l.94 2.06.94-2.06 2.06-.94-2.06-.94-.94-2.06-.94 2.06-2.06.94z\"/><path d=\"M17.41 7.96l-1.37-1.37c-.4-.4-.92-.59-1.43-.59-.52 0-1.04.2-1.43.59L10.3 9.45l-7.72 7.72c-.78.78-.78 2.05 0 2.83L4 21.41c.39.39.9.59 1.41.59.51 0 1.02-.2 1.41-.59l7.78-7.78 2.81-2.81c.8-.78.8-2.07 0-2.86zM5.41 20L4 18.59l7.72-7.72 1.47 1.35L5.41 20z\"/>\n",
              "  </svg>\n",
              "      </button>\n",
              "      \n",
              "  <style>\n",
              "    .colab-df-container {\n",
              "      display:flex;\n",
              "      flex-wrap:wrap;\n",
              "      gap: 12px;\n",
              "    }\n",
              "\n",
              "    .colab-df-convert {\n",
              "      background-color: #E8F0FE;\n",
              "      border: none;\n",
              "      border-radius: 50%;\n",
              "      cursor: pointer;\n",
              "      display: none;\n",
              "      fill: #1967D2;\n",
              "      height: 32px;\n",
              "      padding: 0 0 0 0;\n",
              "      width: 32px;\n",
              "    }\n",
              "\n",
              "    .colab-df-convert:hover {\n",
              "      background-color: #E2EBFA;\n",
              "      box-shadow: 0px 1px 2px rgba(60, 64, 67, 0.3), 0px 1px 3px 1px rgba(60, 64, 67, 0.15);\n",
              "      fill: #174EA6;\n",
              "    }\n",
              "\n",
              "    [theme=dark] .colab-df-convert {\n",
              "      background-color: #3B4455;\n",
              "      fill: #D2E3FC;\n",
              "    }\n",
              "\n",
              "    [theme=dark] .colab-df-convert:hover {\n",
              "      background-color: #434B5C;\n",
              "      box-shadow: 0px 1px 3px 1px rgba(0, 0, 0, 0.15);\n",
              "      filter: drop-shadow(0px 1px 2px rgba(0, 0, 0, 0.3));\n",
              "      fill: #FFFFFF;\n",
              "    }\n",
              "  </style>\n",
              "\n",
              "      <script>\n",
              "        const buttonEl =\n",
              "          document.querySelector('#df-18638f41-bb8e-42b2-9f9e-852a3a447aa2 button.colab-df-convert');\n",
              "        buttonEl.style.display =\n",
              "          google.colab.kernel.accessAllowed ? 'block' : 'none';\n",
              "\n",
              "        async function convertToInteractive(key) {\n",
              "          const element = document.querySelector('#df-18638f41-bb8e-42b2-9f9e-852a3a447aa2');\n",
              "          const dataTable =\n",
              "            await google.colab.kernel.invokeFunction('convertToInteractive',\n",
              "                                                     [key], {});\n",
              "          if (!dataTable) return;\n",
              "\n",
              "          const docLinkHtml = 'Like what you see? Visit the ' +\n",
              "            '<a target=\"_blank\" href=https://colab.research.google.com/notebooks/data_table.ipynb>data table notebook</a>'\n",
              "            + ' to learn more about interactive tables.';\n",
              "          element.innerHTML = '';\n",
              "          dataTable['output_type'] = 'display_data';\n",
              "          await google.colab.output.renderOutput(dataTable, element);\n",
              "          const docLink = document.createElement('div');\n",
              "          docLink.innerHTML = docLinkHtml;\n",
              "          element.appendChild(docLink);\n",
              "        }\n",
              "      </script>\n",
              "    </div>\n",
              "  </div>\n",
              "  "
            ],
            "text/plain": [
              "   Serial No.  GRE Score  TOEFL Score  ...  CGPA  Research  Chance of Admit \n",
              "0           1        337          118  ...  9.65         1              0.92\n",
              "1           2        324          107  ...  8.87         1              0.76\n",
              "2           3        316          104  ...  8.00         1              0.72\n",
              "3           4        322          110  ...  8.67         1              0.80\n",
              "4           5        314          103  ...  8.21         0              0.65\n",
              "\n",
              "[5 rows x 9 columns]"
            ]
          },
          "metadata": {},
          "execution_count": 1
        }
      ]
    },
    {
      "cell_type": "code",
      "metadata": {
        "id": "jg7hAMJ4jKC5",
        "colab": {
          "base_uri": "https://localhost:8080/"
        },
        "outputId": "8ce413bf-e5a3-43c6-b475-5cb15c24367b"
      },
      "source": [
        "# Check if there are any null values. If any column has null values, treat them accordingly\n",
        "df.isnull().sum()"
      ],
      "execution_count": null,
      "outputs": [
        {
          "output_type": "execute_result",
          "data": {
            "text/plain": [
              "Serial No.           0\n",
              "GRE Score            0\n",
              "TOEFL Score          0\n",
              "University Rating    0\n",
              "SOP                  0\n",
              "LOR                  0\n",
              "CGPA                 0\n",
              "Research             0\n",
              "Chance of Admit      0\n",
              "dtype: int64"
            ]
          },
          "metadata": {},
          "execution_count": 2
        }
      ]
    },
    {
      "cell_type": "code",
      "metadata": {
        "id": "v336EVVXm6iQ",
        "colab": {
          "base_uri": "https://localhost:8080/"
        },
        "outputId": "0a704c47-a7fa-4f6c-f254-ad8229e94411"
      },
      "source": [
        "# Get the list of columns of the dataset.\n",
        "df.columns"
      ],
      "execution_count": null,
      "outputs": [
        {
          "output_type": "execute_result",
          "data": {
            "text/plain": [
              "Index(['Serial No.', 'GRE Score', 'TOEFL Score', 'University Rating', 'SOP',\n",
              "       'LOR ', 'CGPA', 'Research', 'Chance of Admit '],\n",
              "      dtype='object')"
            ]
          },
          "metadata": {},
          "execution_count": 3
        }
      ]
    },
    {
      "cell_type": "code",
      "metadata": {
        "id": "41sLPJoVpZcr",
        "colab": {
          "base_uri": "https://localhost:8080/"
        },
        "outputId": "0a4d9358-62c6-4677-f145-43e6041a9d0d"
      },
      "source": [
        "# Drop 'Serial No.' column from the DataFrame\n",
        "features = list(df.columns.values)\n",
        "features.remove('Serial No.')\n",
        "features"
      ],
      "execution_count": null,
      "outputs": [
        {
          "output_type": "execute_result",
          "data": {
            "text/plain": [
              "['GRE Score',\n",
              " 'TOEFL Score',\n",
              " 'University Rating',\n",
              " 'SOP',\n",
              " 'LOR ',\n",
              " 'CGPA',\n",
              " 'Research',\n",
              " 'Chance of Admit ']"
            ]
          },
          "metadata": {},
          "execution_count": 4
        }
      ]
    },
    {
      "cell_type": "code",
      "metadata": {
        "id": "BY7Qw1PUocOW",
        "colab": {
          "base_uri": "https://localhost:8080/"
        },
        "outputId": "1f67fe41-577c-43ab-be9e-a69f0e5b9006"
      },
      "source": [
        "# Remove whitespaces from both ends in the column name if there are any\n",
        "\n",
        "df.columns = df.columns.str.replace(' ', '')\n",
        "print(df)\n",
        "# Get list of all the columns after renaming.\n",
        "print(\"\\n\\n\", df)"
      ],
      "execution_count": null,
      "outputs": [
        {
          "output_type": "stream",
          "name": "stdout",
          "text": [
            "     SerialNo.  GREScore  TOEFLScore  ...  CGPA  Research  ChanceofAdmit\n",
            "0            1       337         118  ...  9.65         1           0.92\n",
            "1            2       324         107  ...  8.87         1           0.76\n",
            "2            3       316         104  ...  8.00         1           0.72\n",
            "3            4       322         110  ...  8.67         1           0.80\n",
            "4            5       314         103  ...  8.21         0           0.65\n",
            "..         ...       ...         ...  ...   ...       ...            ...\n",
            "395        396       324         110  ...  9.04         1           0.82\n",
            "396        397       325         107  ...  9.11         1           0.84\n",
            "397        398       330         116  ...  9.45         1           0.91\n",
            "398        399       312         103  ...  8.78         0           0.67\n",
            "399        400       333         117  ...  9.66         1           0.95\n",
            "\n",
            "[400 rows x 9 columns]\n",
            "\n",
            "\n",
            "      SerialNo.  GREScore  TOEFLScore  ...  CGPA  Research  ChanceofAdmit\n",
            "0            1       337         118  ...  9.65         1           0.92\n",
            "1            2       324         107  ...  8.87         1           0.76\n",
            "2            3       316         104  ...  8.00         1           0.72\n",
            "3            4       322         110  ...  8.67         1           0.80\n",
            "4            5       314         103  ...  8.21         0           0.65\n",
            "..         ...       ...         ...  ...   ...       ...            ...\n",
            "395        396       324         110  ...  9.04         1           0.82\n",
            "396        397       325         107  ...  9.11         1           0.84\n",
            "397        398       330         116  ...  9.45         1           0.91\n",
            "398        399       312         103  ...  8.78         0           0.67\n",
            "399        400       333         117  ...  9.66         1           0.95\n",
            "\n",
            "[400 rows x 9 columns]\n"
          ]
        }
      ]
    },
    {
      "cell_type": "markdown",
      "metadata": {
        "id": "T2b18ifmveiZ"
      },
      "source": [
        "---"
      ]
    },
    {
      "cell_type": "markdown",
      "metadata": {
        "id": "x68hr50jrUO3"
      },
      "source": [
        "#### Activity 2: Find Correlation\n",
        "\n",
        "We need to predict the value of `Chance of Admit` variable, given other variables. Thus, `Chance of Admit` is the target variable and other columns except `Chance of Admit` are the feature variables.\n",
        "\n",
        "Find the columns that are highly correlated with the `Chance of Admit` column. For this, calculate the correlation coefficient values between all the columns and then use a heatmap to visualise these correlations."
      ]
    },
    {
      "cell_type": "code",
      "metadata": {
        "id": "KMt3ZmmRrcdt",
        "colab": {
          "base_uri": "https://localhost:8080/",
          "height": 451
        },
        "outputId": "f45109ac-8a03-4358-fe76-18f841ab0aaa"
      },
      "source": [
        "# Use heatmap to observe correlations.\n",
        "plt.figure(figsize=(14,6)\n",
        "sns.heatmap(df.corr(),annot=True)\n",
        "plt.show()"
      ],
      "execution_count": null,
      "outputs": [
        {
          "output_type": "display_data",
          "data": {
            "image/png": "[encoded data removed]",
            "text/plain": [
              "<Figure size 1008x432 with 2 Axes>"
            ]
          },
          "metadata": {
            "needs_background": "light"
          }
        }
      ]
    },
    {
      "cell_type": "code",
      "source": [
        "features = list(df.columns.values)\n",
        "features.remove('ChanceofAdmit')\n",
        "features\n"
      ],
      "metadata": {
        "colab": {
          "base_uri": "https://localhost:8080/"
        },
        "id": "mUUjUoiNsY0m",
        "outputId": "9eb5d1c1-6518-49f6-cd85-c33cd463eb3f"
      },
      "execution_count": null,
      "outputs": [
        {
          "output_type": "execute_result",
          "data": {
            "text/plain": [
              "['SerialNo.',\n",
              " 'GREScore',\n",
              " 'TOEFLScore',\n",
              " 'UniversityRating',\n",
              " 'SOP',\n",
              " 'LOR',\n",
              " 'CGPA',\n",
              " 'Research']"
            ]
          },
          "metadata": {},
          "execution_count": 9
        }
      ]
    },
    {
      "cell_type": "markdown",
      "metadata": {
        "id": "rDrRu-PsCSxq"
      },
      "source": [
        "---"
      ]
    },
    {
      "cell_type": "markdown",
      "metadata": {
        "id": "uDTmlU-Mz0fI"
      },
      "source": [
        "#### Activity 3: Train-Test Split\n",
        "\n",
        "\n",
        "Split the dataset into training set and test set such that the training set contains 70% of the instances and the remaining instances will become the test set."
      ]
    },
    {
      "cell_type": "code",
      "metadata": {
        "id": "Ku_loAWZ0LXr"
      },
      "source": [
        "# Split the DataFrame into the training and test sets.\n",
        "from sklearn.model_selection import train_test_split\n",
        "from sklearn.linear_model import LinearRegression\n",
        "X =df[features]\n",
        "y = df['ChanceofAdmit']\n",
        "\n",
        "X_train, X_test, y_train, y_test = train_test_split(X, y, test_size = 0.30, random_state = 42)\n"
      ],
      "execution_count": null,
      "outputs": []
    },
    {
      "cell_type": "markdown",
      "metadata": {
        "id": "hCPg7ClP0Om1"
      },
      "source": [
        "---"
      ]
    },
    {
      "cell_type": "markdown",
      "metadata": {
        "id": "u7bWq9hZHikZ"
      },
      "source": [
        "#### Activity 4: Train the Model\n",
        "\n",
        "Now build a multiple linear regression model using the `statsmodels.api` module.\n",
        "Also, print the summary of the linear regression model built."
      ]
    },
    {
      "cell_type": "code",
      "metadata": {
        "id": "mAAdCmH5g3iQ",
        "colab": {
          "base_uri": "https://localhost:8080/"
        },
        "outputId": "9c13f061-5459-4573-843c-89f0a5aa1545"
      },
      "source": [
        "#  Build the linear regression model using all the features \n",
        "import statsmodels.api as sm\n",
        "\n",
        "X_train_sm = sm.add_constant(X_train)\n",
        "lin_reg = sm.OLS(y_train, X_train_sm).fit()\n",
        "lin_reg.params\n",
        "\n"
      ],
      "execution_count": null,
      "outputs": [
        {
          "output_type": "stream",
          "name": "stderr",
          "text": [
            "/usr/local/lib/python3.7/dist-packages/statsmodels/tools/_testing.py:19: FutureWarning: pandas.util.testing is deprecated. Use the functions in the public API at pandas.testing instead.\n",
            "  import pandas.util.testing as tm\n",
            "/usr/local/lib/python3.7/dist-packages/statsmodels/tsa/tsatools.py:117: FutureWarning: In a future version of pandas all arguments of concat except for the argument 'objs' will be keyword-only\n",
            "  x = pd.concat(x[::order], 1)\n"
          ]
        },
        {
          "output_type": "execute_result",
          "data": {
            "text/plain": [
              "const              -1.333178\n",
              "SerialNo.           0.000192\n",
              "GREScore            0.001917\n",
              "TOEFLScore          0.004229\n",
              "UniversityRating    0.008795\n",
              "SOP                 0.001197\n",
              "LOR                 0.016513\n",
              "CGPA                0.100263\n",
              "Research            0.018342\n",
              "dtype: float64"
            ]
          },
          "metadata": {},
          "execution_count": 11
        }
      ]
    },
    {
      "cell_type": "code",
      "metadata": {
        "id": "rrD285FNg551",
        "colab": {
          "base_uri": "https://localhost:8080/"
        },
        "outputId": "e205101e-773b-481c-c678-1c606f22459a"
      },
      "source": [
        "# Print the summary of the linear regression report.\n",
        "print(lin_reg.summary())"
      ],
      "execution_count": null,
      "outputs": [
        {
          "output_type": "stream",
          "name": "stdout",
          "text": [
            "                            OLS Regression Results                            \n",
            "==============================================================================\n",
            "Dep. Variable:          ChanceofAdmit   R-squared:                       0.824\n",
            "Model:                            OLS   Adj. R-squared:                  0.819\n",
            "Method:                 Least Squares   F-statistic:                     158.7\n",
            "Date:                Thu, 03 Feb 2022   Prob (F-statistic):           1.35e-97\n",
            "Time:                        13:20:17   Log-Likelihood:                 400.06\n",
            "No. Observations:                 280   AIC:                            -782.1\n",
            "Df Residuals:                     271   BIC:                            -749.4\n",
            "Df Model:                           8                                         \n",
            "Covariance Type:            nonrobust                                         \n",
            "====================================================================================\n",
            "                       coef    std err          t      P>|t|      [0.025      0.975]\n",
            "------------------------------------------------------------------------------------\n",
            "const               -1.3332      0.143     -9.324      0.000      -1.615      -1.052\n",
            "SerialNo.            0.0002   3.29e-05      5.833      0.000       0.000       0.000\n",
            "GREScore             0.0019      0.001      2.875      0.004       0.001       0.003\n",
            "TOEFLScore           0.0042      0.001      3.550      0.000       0.002       0.007\n",
            "UniversityRating     0.0088      0.005      1.640      0.102      -0.002       0.019\n",
            "SOP                  0.0012      0.006      0.197      0.844      -0.011       0.013\n",
            "LOR                  0.0165      0.006      2.672      0.008       0.004       0.029\n",
            "CGPA                 0.1003      0.014      7.276      0.000       0.073       0.127\n",
            "Research             0.0183      0.009      2.088      0.038       0.001       0.036\n",
            "==============================================================================\n",
            "Omnibus:                       51.941   Durbin-Watson:                   2.044\n",
            "Prob(Omnibus):                  0.000   Jarque-Bera (JB):               96.251\n",
            "Skew:                          -0.986   Prob(JB):                     1.26e-21\n",
            "Kurtosis:                       5.089   Cond. No.                     1.61e+04\n",
            "==============================================================================\n",
            "\n",
            "Warnings:\n",
            "[1] Standard Errors assume that the covariance matrix of the errors is correctly specified.\n",
            "[2] The condition number is large, 1.61e+04. This might indicate that there are\n",
            "strong multicollinearity or other numerical problems.\n"
          ]
        }
      ]
    },
    {
      "cell_type": "markdown",
      "metadata": {
        "id": "ixCTKCOI91Sc"
      },
      "source": [
        "**Q:** Does the summary report indicate the presence of multicollinearity?\n",
        "\n",
        "**A:** yes"
      ]
    },
    {
      "cell_type": "markdown",
      "metadata": {
        "id": "70EXdGYyEA6g"
      },
      "source": [
        "----"
      ]
    },
    {
      "cell_type": "markdown",
      "metadata": {
        "id": "VMhSApJWaEo9"
      },
      "source": [
        "#### Activity 5: Determine Highly Correlated Features\n",
        "\n",
        "Find the moderately to highly correlated features with `Chance of Admit` and the corresponding correlation values."
      ]
    },
    {
      "cell_type": "code",
      "metadata": {
        "id": "s6IRcUUV-O0A",
        "colab": {
          "base_uri": "https://localhost:8080/"
        },
        "outputId": "659e1914-2081-42f1-8eda-a670cb782d12"
      },
      "source": [
        "# Create a Python dictionary storing the moderately to highly correlated features with 'Chance of Admit' and the corresponding correlation values.\n",
        "major_features = {}\n",
        "for f in features:\n",
        "  corr_coef = np.corrcoef(df['ChanceofAdmit'], df[f])[0, 1]\n",
        "  if (corr_coef >= 0.5) or (corr_coef <= -0.5):\n",
        "    major_features[f] = corr_coef\n",
        "\n",
        "print(\"Number of features moderately to highly correlated with ChanceofAdmit =\", len(major_features), \"\\n\")\n",
        "major_features"
      ],
      "execution_count": null,
      "outputs": [
        {
          "output_type": "stream",
          "name": "stdout",
          "text": [
            "Number of features moderately to highly correlated with ChanceofAdmit = 7 \n",
            "\n"
          ]
        },
        {
          "output_type": "execute_result",
          "data": {
            "text/plain": [
              "{'CGPA': 0.8732890993553001,\n",
              " 'GREScore': 0.8026104595903499,\n",
              " 'LOR': 0.6698887920106936,\n",
              " 'Research': 0.5532021370190395,\n",
              " 'SOP': 0.6757318583886716,\n",
              " 'TOEFLScore': 0.7915939869351049,\n",
              " 'UniversityRating': 0.7112502503917218}"
            ]
          },
          "metadata": {},
          "execution_count": 13
        }
      ]
    },
    {
      "cell_type": "markdown",
      "metadata": {
        "id": "tXMYHchpapai"
      },
      "source": [
        "**Q:** How many features are moderately to highly correlated with `Chance of Admit`?\n",
        "\n",
        "**A:** 7\n",
        "\n",
        "\n",
        "\n"
      ]
    },
    {
      "cell_type": "code",
      "metadata": {
        "id": "dNqsijIENEXD",
        "colab": {
          "base_uri": "https://localhost:8080/",
          "height": 396
        },
        "outputId": "06f2d112-754c-42e7-baef-d87eaec5b88d"
      },
      "source": [
        "# Create a heatmap to visualise the correlation between the above correlated features (if there exists).\n",
        "plt.figure(figsize=(14,6))\n",
        "sns.heatmap(X_train[major_features.keys()].corr(),annot=True)\n",
        "plt.show"
      ],
      "execution_count": null,
      "outputs": [
        {
          "output_type": "execute_result",
          "data": {
            "text/plain": [
              "<function matplotlib.pyplot.show>"
            ]
          },
          "metadata": {},
          "execution_count": 14
        },
        {
          "output_type": "display_data",
          "data": {
            "image/png": "[encoded data removed]",
            "text/plain": [
              "<Figure size 1008x432 with 2 Axes>"
            ]
          },
          "metadata": {
            "needs_background": "light"
          }
        }
      ]
    },
    {
      "cell_type": "markdown",
      "metadata": {
        "id": "sp2kCTaecI4v"
      },
      "source": [
        "#### Activity 6: Perform RFE (Recursive Feature Elimination)\n",
        "\n",
        "1. Choose the number of features that you want to use for RFE (choose 3 to 5 features).\n",
        "2. Apply RFE using `sklearn.feature_selection` module.\n",
        "2. Build linear regression model using the best features selected by RFE.\n",
        "3. Validate the significance of the selected features by calculating their VIF values."
      ]
    },
    {
      "cell_type": "code",
      "metadata": {
        "id": "r31QPTtJNnBq",
        "colab": {
          "base_uri": "https://localhost:8080/"
        },
        "outputId": "e45d5377-27c4-451a-8466-c6213e577bf0"
      },
      "source": [
        "# Use RFE to eliminate few features from the dataset.\n",
        "from sklearn.feature_selection import RFE\n",
        "from sklearn.linear_model import LinearRegression\n",
        "# Import RFE\n",
        "\n",
        "# RFE with 3-5 features.\n",
        "lin_reg=LinearRegression()\n",
        "rfe=RFE(lin_reg,n_features_to_select=4)\n",
        "\n",
        "# Fit with selected features.\n",
        "rfe.fit(X_train[major_features.keys()],y_train)\n",
        "\n",
        "# Print the 'support_' and 'ranking_' attributes to find out the features selected by RFE\n",
        "print(rfe.support_)\n",
        "print(rfe.ranking_)\n",
        "major_features.keys()\n"
      ],
      "execution_count": null,
      "outputs": [
        {
          "output_type": "stream",
          "name": "stdout",
          "text": [
            "[False False  True False  True  True  True]\n",
            "[3 2 1 4 1 1 1]\n"
          ]
        },
        {
          "output_type": "execute_result",
          "data": {
            "text/plain": [
              "dict_keys(['GREScore', 'TOEFLScore', 'UniversityRating', 'SOP', 'LOR', 'CGPA', 'Research'])"
            ]
          },
          "metadata": {},
          "execution_count": 15
        }
      ]
    },
    {
      "cell_type": "code",
      "metadata": {
        "id": "RJP_0Am7N-gw",
        "colab": {
          "base_uri": "https://localhost:8080/"
        },
        "outputId": "3f0a45fb-da01-4c5b-af18-faa3094a79de"
      },
      "source": [
        "# Print the features selected by RFE in the previous step.\n",
        "rfe_features = X_train[major_features.keys()].columns[rfe.support_]\n",
        "rfe_features"
      ],
      "execution_count": null,
      "outputs": [
        {
          "output_type": "execute_result",
          "data": {
            "text/plain": [
              "Index(['UniversityRating', 'LOR', 'CGPA', 'Research'], dtype='object')"
            ]
          },
          "metadata": {},
          "execution_count": 16
        }
      ]
    },
    {
      "cell_type": "code",
      "metadata": {
        "id": "XfuOHI3KOB51",
        "colab": {
          "base_uri": "https://localhost:8080/"
        },
        "outputId": "fdaa3e63-596a-4889-f2ca-bcec109e0866"
      },
      "source": [
        "# Build a linear regression model using the 'statsmodels.api' module having the above features selected by RFE.\n",
        "# Import the 'statsmodels.api' module.\n",
        "import statsmodels.api as sm  \n",
        "\n",
        "\n",
        "# Subset the train set such that it contains only the above  selected features.\n",
        "X_train_rfe1 = X_train[rfe_features]\n",
        "\n",
        "# Add the 'const' column to the features set.\n",
        "X_train_rfe1 = sm.add_constant(X_train_rfe1)\n",
        "\n",
        "# Fit the model\n",
        "sm_lin_reg1 = sm.OLS(y_train, X_train_rfe1).fit()   \n",
        "print(sm_lin_reg1.summary())\n",
        "  \n",
        "# Print the summary of the linear regression report\n"
      ],
      "execution_count": null,
      "outputs": [
        {
          "output_type": "stream",
          "name": "stdout",
          "text": [
            "                            OLS Regression Results                            \n",
            "==============================================================================\n",
            "Dep. Variable:          ChanceofAdmit   R-squared:                       0.785\n",
            "Model:                            OLS   Adj. R-squared:                  0.782\n",
            "Method:                 Least Squares   F-statistic:                     251.3\n",
            "Date:                Thu, 03 Feb 2022   Prob (F-statistic):           1.55e-90\n",
            "Time:                        13:20:19   Log-Likelihood:                 372.12\n",
            "No. Observations:                 280   AIC:                            -734.2\n",
            "Df Residuals:                     275   BIC:                            -716.1\n",
            "Df Model:                           4                                         \n",
            "Covariance Type:            nonrobust                                         \n",
            "====================================================================================\n",
            "                       coef    std err          t      P>|t|      [0.025      0.975]\n",
            "------------------------------------------------------------------------------------\n",
            "const               -0.7601      0.079     -9.646      0.000      -0.915      -0.605\n",
            "UniversityRating     0.0116      0.005      2.151      0.032       0.001       0.022\n",
            "LOR                  0.0101      0.006      1.666      0.097      -0.002       0.022\n",
            "CGPA                 0.1630      0.011     14.876      0.000       0.141       0.185\n",
            "Research             0.0314      0.009      3.445      0.001       0.013       0.049\n",
            "==============================================================================\n",
            "Omnibus:                       66.186   Durbin-Watson:                   2.048\n",
            "Prob(Omnibus):                  0.000   Jarque-Bera (JB):              139.033\n",
            "Skew:                          -1.178   Prob(JB):                     6.45e-31\n",
            "Kurtosis:                       5.523   Cond. No.                         204.\n",
            "==============================================================================\n",
            "\n",
            "Warnings:\n",
            "[1] Standard Errors assume that the covariance matrix of the errors is correctly specified.\n"
          ]
        },
        {
          "output_type": "stream",
          "name": "stderr",
          "text": [
            "/usr/local/lib/python3.7/dist-packages/statsmodels/tsa/tsatools.py:117: FutureWarning: In a future version of pandas all arguments of concat except for the argument 'objs' will be keyword-only\n",
            "  x = pd.concat(x[::order], 1)\n"
          ]
        }
      ]
    },
    {
      "cell_type": "code",
      "metadata": {
        "id": "VhaQ4xmOOGqC",
        "colab": {
          "base_uri": "https://localhost:8080/",
          "height": 206
        },
        "outputId": "eae54084-976d-482f-ab7f-a2ed43d9c1a0"
      },
      "source": [
        "# Check for the VIF values of the features selected by RFE above. \n",
        "from statsmodels.stats.outliers_influence import variance_inflation_factor\n",
        "\n",
        "# Create a dataframe that will contain the names of all the feature variables and their respective VIFs\n",
        "vif = pd.DataFrame()\n",
        "vif['Features'] = X_train_rfe1.columns\n",
        "vif['VIF'] = [variance_inflation_factor(X_train_rfe1.values, i) for i in range(X_train_rfe1.shape[1])]\n",
        "vif['VIF'] = round(vif['VIF'], 2)\n",
        "vif = vif.sort_values(by = \"VIF\", ascending = False)\n",
        "vif"
      ],
      "execution_count": null,
      "outputs": [
        {
          "output_type": "execute_result",
          "data": {
            "text/html": [
              "\n",
              "  <div id=\"df-49c667b6-62f8-4d8c-a078-b3b57e445ff3\">\n",
              "    <div class=\"colab-df-container\">\n",
              "      <div>\n",
              "<style scoped>\n",
              "    .dataframe tbody tr th:only-of-type {\n",
              "        vertical-align: middle;\n",
              "    }\n",
              "\n",
              "    .dataframe tbody tr th {\n",
              "        vertical-align: top;\n",
              "    }\n",
              "\n",
              "    .dataframe thead th {\n",
              "        text-align: right;\n",
              "    }\n",
              "</style>\n",
              "<table border=\"1\" class=\"dataframe\">\n",
              "  <thead>\n",
              "    <tr style=\"text-align: right;\">\n",
              "      <th></th>\n",
              "      <th>Features</th>\n",
              "      <th>VIF</th>\n",
              "    </tr>\n",
              "  </thead>\n",
              "  <tbody>\n",
              "    <tr>\n",
              "      <th>0</th>\n",
              "      <td>const</td>\n",
              "      <td>416.17</td>\n",
              "    </tr>\n",
              "    <tr>\n",
              "      <th>3</th>\n",
              "      <td>CGPA</td>\n",
              "      <td>2.83</td>\n",
              "    </tr>\n",
              "    <tr>\n",
              "      <th>1</th>\n",
              "      <td>UniversityRating</td>\n",
              "      <td>2.57</td>\n",
              "    </tr>\n",
              "    <tr>\n",
              "      <th>2</th>\n",
              "      <td>LOR</td>\n",
              "      <td>2.05</td>\n",
              "    </tr>\n",
              "    <tr>\n",
              "      <th>4</th>\n",
              "      <td>Research</td>\n",
              "      <td>1.38</td>\n",
              "    </tr>\n",
              "  </tbody>\n",
              "</table>\n",
              "</div>\n",
              "      <button class=\"colab-df-convert\" onclick=\"convertToInteractive('df-49c667b6-62f8-4d8c-a078-b3b57e445ff3')\"\n",
              "              title=\"Convert this dataframe to an interactive table.\"\n",
              "              style=\"display:none;\">\n",
              "        \n",
              "  <svg xmlns=\"http://www.w3.org/2000/svg\" height=\"24px\"viewBox=\"0 0 24 24\"\n",
              "       width=\"24px\">\n",
              "    <path d=\"M0 0h24v24H0V0z\" fill=\"none\"/>\n",
              "    <path d=\"M18.56 5.44l.94 2.06.94-2.06 2.06-.94-2.06-.94-.94-2.06-.94 2.06-2.06.94zm-11 1L8.5 8.5l.94-2.06 2.06-.94-2.06-.94L8.5 2.5l-.94 2.06-2.06.94zm10 10l.94 2.06.94-2.06 2.06-.94-2.06-.94-.94-2.06-.94 2.06-2.06.94z\"/><path d=\"M17.41 7.96l-1.37-1.37c-.4-.4-.92-.59-1.43-.59-.52 0-1.04.2-1.43.59L10.3 9.45l-7.72 7.72c-.78.78-.78 2.05 0 2.83L4 21.41c.39.39.9.59 1.41.59.51 0 1.02-.2 1.41-.59l7.78-7.78 2.81-2.81c.8-.78.8-2.07 0-2.86zM5.41 20L4 18.59l7.72-7.72 1.47 1.35L5.41 20z\"/>\n",
              "  </svg>\n",
              "      </button>\n",
              "      \n",
              "  <style>\n",
              "    .colab-df-container {\n",
              "      display:flex;\n",
              "      flex-wrap:wrap;\n",
              "      gap: 12px;\n",
              "    }\n",
              "\n",
              "    .colab-df-convert {\n",
              "      background-color: #E8F0FE;\n",
              "      border: none;\n",
              "      border-radius: 50%;\n",
              "      cursor: pointer;\n",
              "      display: none;\n",
              "      fill: #1967D2;\n",
              "      height: 32px;\n",
              "      padding: 0 0 0 0;\n",
              "      width: 32px;\n",
              "    }\n",
              "\n",
              "    .colab-df-convert:hover {\n",
              "      background-color: #E2EBFA;\n",
              "      box-shadow: 0px 1px 2px rgba(60, 64, 67, 0.3), 0px 1px 3px 1px rgba(60, 64, 67, 0.15);\n",
              "      fill: #174EA6;\n",
              "    }\n",
              "\n",
              "    [theme=dark] .colab-df-convert {\n",
              "      background-color: #3B4455;\n",
              "      fill: #D2E3FC;\n",
              "    }\n",
              "\n",
              "    [theme=dark] .colab-df-convert:hover {\n",
              "      background-color: #434B5C;\n",
              "      box-shadow: 0px 1px 3px 1px rgba(0, 0, 0, 0.15);\n",
              "      filter: drop-shadow(0px 1px 2px rgba(0, 0, 0, 0.3));\n",
              "      fill: #FFFFFF;\n",
              "    }\n",
              "  </style>\n",
              "\n",
              "      <script>\n",
              "        const buttonEl =\n",
              "          document.querySelector('#df-49c667b6-62f8-4d8c-a078-b3b57e445ff3 button.colab-df-convert');\n",
              "        buttonEl.style.display =\n",
              "          google.colab.kernel.accessAllowed ? 'block' : 'none';\n",
              "\n",
              "        async function convertToInteractive(key) {\n",
              "          const element = document.querySelector('#df-49c667b6-62f8-4d8c-a078-b3b57e445ff3');\n",
              "          const dataTable =\n",
              "            await google.colab.kernel.invokeFunction('convertToInteractive',\n",
              "                                                     [key], {});\n",
              "          if (!dataTable) return;\n",
              "\n",
              "          const docLinkHtml = 'Like what you see? Visit the ' +\n",
              "            '<a target=\"_blank\" href=https://colab.research.google.com/notebooks/data_table.ipynb>data table notebook</a>'\n",
              "            + ' to learn more about interactive tables.';\n",
              "          element.innerHTML = '';\n",
              "          dataTable['output_type'] = 'display_data';\n",
              "          await google.colab.output.renderOutput(dataTable, element);\n",
              "          const docLink = document.createElement('div');\n",
              "          docLink.innerHTML = docLinkHtml;\n",
              "          element.appendChild(docLink);\n",
              "        }\n",
              "      </script>\n",
              "    </div>\n",
              "  </div>\n",
              "  "
            ],
            "text/plain": [
              "           Features     VIF\n",
              "0             const  416.17\n",
              "3              CGPA    2.83\n",
              "1  UniversityRating    2.57\n",
              "2               LOR    2.05\n",
              "4          Research    1.38"
            ]
          },
          "metadata": {},
          "execution_count": 18
        }
      ]
    },
    {
      "cell_type": "markdown",
      "metadata": {
        "id": "ElZ5jF11eY4E"
      },
      "source": [
        "**Q:** How many features have VIF values above 10?\n",
        "\n",
        "**A:** 1\n",
        "\n",
        "**Q:** What is the $R^2$ value after RFE?\n",
        "\n",
        "**A:** \n"
      ]
    },
    {
      "cell_type": "markdown",
      "metadata": {
        "id": "HOMn4r_BfFr9"
      },
      "source": [
        "----"
      ]
    },
    {
      "cell_type": "markdown",
      "metadata": {
        "id": "qeqEt9RLGFjQ"
      },
      "source": [
        "### Submitting the Project:\n",
        "\n",
        "1. After finishing the project, click on the **Share** button on the top right corner of the notebook. A new dialog box will appear.\n",
        "\n",
        "  <img src='https://student-datasets-bucket.s3.ap-south-1.amazonaws.com/images/project-share-images/2_share_button.png' width=500>\n",
        "\n",
        "2. In the dialog box, make sure that '**Anyone on the Internet with this link can view**' option is selected and then click on the **Copy link** button.\n",
        "\n",
        "   <img src='https://student-datasets-bucket.s3.ap-south-1.amazonaws.com/images/project-share-images/3_copy_link.png' width=500>\n",
        "\n",
        "3. The link of the duplicate copy (named as **YYYY-MM-DD_StudentName_Project70**) of the notebook will get copied \n",
        "\n",
        "   <img src='https://student-datasets-bucket.s3.ap-south-1.amazonaws.com/images/project-share-images/4_copy_link_confirmation.png' width=500>\n",
        "\n",
        "4. Go to your dashboard and click on the **My Projects** option.\n",
        "   \n",
        "   <img src='https://student-datasets-bucket.s3.ap-south-1.amazonaws.com/images/project-share-images/5_student_dashboard.png' width=800>\n",
        "\n",
        "  <img src='https://student-datasets-bucket.s3.ap-south-1.amazonaws.com/images/project-share-images/6_my_projects.png' width=800>\n",
        "\n",
        "5. Click on the **View Project** button for the project you want to submit.\n",
        "\n",
        "   <img src='https://student-datasets-bucket.s3.ap-south-1.amazonaws.com/images/project-share-images/7_view_project.png' width=800>\n",
        "\n",
        "6. Click on the **Submit Project Here** button.\n",
        "\n",
        "   <img src='https://student-datasets-bucket.s3.ap-south-1.amazonaws.com/images/project-share-images/8_submit_project.png' width=800>\n",
        "\n",
        "7. Paste the link to the project file named as **YYYY-MM-DD_StudentName_Project70** in the URL box and then click on the **Submit** button.\n",
        "\n",
        "   <img src='https://student-datasets-bucket.s3.ap-south-1.amazonaws.com/images/project-share-images/9_enter_project_url.png' width=800> "
      ]
    },
    {
      "cell_type": "markdown",
      "metadata": {
        "id": "SdeV_q_xGQZV"
      },
      "source": [
        "---"
      ]
    }
  ]
}