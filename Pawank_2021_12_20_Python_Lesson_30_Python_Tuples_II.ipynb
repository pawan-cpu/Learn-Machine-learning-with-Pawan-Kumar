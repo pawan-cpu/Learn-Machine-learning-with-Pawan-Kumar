{
  "nbformat": 4,
  "nbformat_minor": 0,
  "metadata": {
    "colab": {
      "name": "Pawank_2021-12-20_Python_Lesson 30 - Python Tuples II ",
      "provenance": [],
      "collapsed_sections": [],
      "include_colab_link": true
    },
    "kernelspec": {
      "name": "python3",
      "display_name": "Python 3"
    }
  },
  "cells": [
    {
      "cell_type": "markdown",
      "metadata": {
        "id": "view-in-github",
        "colab_type": "text"
      },
      "source": [
        "<a href=\"https://colab.research.google.com/github/pawan-cpu/Learn-Python-with-Pawan-Kumar/blob/main/Pawank_2021_12_20_Python_Lesson_30_Python_Tuples_II.ipynb\" target=\"_parent\"><img src=\"https://colab.research.google.com/assets/colab-badge.svg\" alt=\"Open In Colab\"/></a>"
      ]
    },
    {
      "cell_type": "markdown",
      "metadata": {
        "id": "Jx5lDDsxcUJT"
      },
      "source": [
        "# Lesson 30: Python Tuples II"
      ]
    },
    {
      "cell_type": "markdown",
      "metadata": {
        "id": "ea57u0g1yJF_"
      },
      "source": [
        "---"
      ]
    },
    {
      "cell_type": "markdown",
      "metadata": {
        "id": "ffooxHP4tLK5"
      },
      "source": [
        "### Teacher-Student Tasks\n",
        "\n",
        "Let's continue our discussion on Python tuples. In this class we will learn certain operations on tuples  which are common to lists.\n",
        "\n",
        "Let's continue this class from the concatenation of tuples."
      ]
    },
    {
      "cell_type": "markdown",
      "metadata": {
        "id": "YwNkwrSdXjkP"
      },
      "source": [
        "---"
      ]
    },
    {
      "cell_type": "markdown",
      "metadata": {
        "id": "Gg7lopbA4jNM"
      },
      "source": [
        "#### Task 1: Concatenation\n",
        "\n",
        "In the lesson **Python Tuples I**, we learned that we cannot add a new item to a tuple because tuples are immutable. However, we can join two tuples through concatenation. \n",
        "\n",
        "The process of joining two entities is called **concatenation**. \n",
        "\n",
        "Let us understand this concept with the help of an example. Here are three different tuples containing the annual GDP of India (in %) starting from 1991 till 2018. These GDP figures are taken from the official world bank data website. \n",
        "\n",
        "1. `india_gdp_1991_2000 = (1.057, 5.482, 4.751, 6.659, 7.574, 7.550, 4.050, 6.184, 8.846, 3.841)`\n",
        "\n",
        "2. `india_gdp_2001_2010 = (4.824, 3.804, 7.860, 7.923, 7.923, 8.061, 7.661, 3.087, 7.862, 8.498)`\n",
        "\n",
        "3. `india_gdp_2011_2018 = (5.241, 5.456, 6.386, 7.410, 7.996, 8.170, 7.168, 6.811)`\n",
        "\n",
        "Let's join these tuples to form one tuple. To concatenate two or more tuples, use the `+` operator:"
      ]
    },
    {
      "cell_type": "code",
      "metadata": {
        "id": "gVXe2jSD6kXM",
        "colab": {
          "base_uri": "https://localhost:8080/"
        },
        "outputId": "1f5c9ac0-0e2d-439a-d563-aba834215b9b"
      },
      "source": [
        "# S1.1: Join the above three tuples to form a new tuple and store it in the 'india_gdp_1991_2018' variable. Also, print its length.\n",
        "india_gdp_1991_2000 = (1.057, 5.482, 4.751, 6.659, 7.574, 7.550, 4.050, 6.184, 8.846, 3.841)\n",
        "india_gdp_2001_2010 = (4.824, 3.804, 7.860, 7.923, 7.923, 8.061, 7.661, 3.087, 7.862, 8.498)\n",
        "india_gdp_2011_2018 = (5.241, 5.456, 6.386, 7.410, 7.996, 8.170, 7.168, 6.811)\n",
        "india_gdp_1991_2018=india_gdp_1991_2000+india_gdp_2001_2010+india_gdp_2011_2018\n",
        "print(india_gdp_1991_2018)\n",
        "len(india_gdp_1991_2018)"
      ],
      "execution_count": null,
      "outputs": [
        {
          "output_type": "stream",
          "name": "stdout",
          "text": [
            "(1.057, 5.482, 4.751, 6.659, 7.574, 7.55, 4.05, 6.184, 8.846, 3.841, 4.824, 3.804, 7.86, 7.923, 7.923, 8.061, 7.661, 3.087, 7.862, 8.498, 5.241, 5.456, 6.386, 7.41, 7.996, 8.17, 7.168, 6.811)\n"
          ]
        },
        {
          "output_type": "execute_result",
          "data": {
            "text/plain": [
              "28"
            ]
          },
          "metadata": {},
          "execution_count": 15
        }
      ]
    },
    {
      "cell_type": "markdown",
      "metadata": {
        "id": "JYT-60Fk5vzq"
      },
      "source": [
        "Let's verify whether the resulting tuple is indeed a tuple or not:"
      ]
    },
    {
      "cell_type": "code",
      "metadata": {
        "id": "QI_OtkElBQ2-",
        "colab": {
          "base_uri": "https://localhost:8080/"
        },
        "outputId": "a8c9e34c-c347-4a4d-bcf8-34136c0802ca"
      },
      "source": [
        "# S1.2: Verify whether the resulting tuple is indeed a tuple or not.\n",
        "type(india_gdp_1991_2018)"
      ],
      "execution_count": null,
      "outputs": [
        {
          "output_type": "execute_result",
          "data": {
            "text/plain": [
              "tuple"
            ]
          },
          "metadata": {},
          "execution_count": 16
        }
      ]
    },
    {
      "cell_type": "markdown",
      "metadata": {
        "id": "uKRZTDv4EE0H"
      },
      "source": [
        "You can also concatenate multiple lists using the `+` operator:"
      ]
    },
    {
      "cell_type": "code",
      "metadata": {
        "id": "qtqzM61OEYtq",
        "colab": {
          "base_uri": "https://localhost:8080/"
        },
        "outputId": "33167c99-c051-43e6-fcc4-5d8f1e6ecabe"
      },
      "source": [
        "# S1.3: Create two or three lists containing some random items and concatenate them.\n",
        "list1=[1,4,5,6,7]\n",
        "list2=[9,0,1,7,8,]\n",
        "new_list=list1+list2\n",
        "print(new_list)"
      ],
      "execution_count": null,
      "outputs": [
        {
          "output_type": "stream",
          "name": "stdout",
          "text": [
            "[1, 4, 5, 6, 7, 9, 0, 1, 7, 8]\n"
          ]
        }
      ]
    },
    {
      "cell_type": "markdown",
      "metadata": {
        "id": "B1qOlCGyGTgy"
      },
      "source": [
        "As you can see, the `first_15_nat_nums` contains items of both the lists `first_10_nat_nums` and `next_5_nat_nums`.\n",
        "\n",
        "**Note:** You cannot concatenate multiple Python dictionaries, NumPy arrays, and Pandas series among themselves using the `+` operator."
      ]
    },
    {
      "cell_type": "markdown",
      "metadata": {
        "id": "yNp0kFgFCwO1"
      },
      "source": [
        "---"
      ]
    },
    {
      "cell_type": "markdown",
      "metadata": {
        "id": "BtHTc0-qJgqz"
      },
      "source": [
        "#### Task 2: The `tuple()` Function\n",
        "\n",
        "You can convert a Python list / NumPy array / Pandas Series into a tuple using the `tuple()` function. \n",
        "\n",
        "Let's create a NumPy array of the first 10 natural numbers and convert it into a tuple using the `tuple()` function:"
      ]
    },
    {
      "cell_type": "code",
      "metadata": {
        "id": "z4KWEte9LJAC",
        "colab": {
          "base_uri": "https://localhost:8080/"
        },
        "outputId": "2f06596f-41d5-4642-d75e-7410e13893e9"
      },
      "source": [
        "# S2.1: Create a NumPy array containing the first 10 natural numbers and convert it into a tuple. \n",
        "# Also, verify whether the array is converted to a tuple or not.\n",
        "import numpy as np\n",
        "arr1=np.arange(1,11)\n",
        "p=tuple(arr1)\n",
        "print(p)\n",
        "type(p)\n",
        "\n",
        "# Create a NumPy array.\n",
        "\n",
        "# Print the NumPy array.\n",
        "\n",
        "# Convert the NumPy array into a tuple.\n",
        "\n",
        "# Print the tuple.\n",
        "\n",
        "# Verify.\n"
      ],
      "execution_count": null,
      "outputs": [
        {
          "output_type": "stream",
          "name": "stdout",
          "text": [
            "(1, 2, 3, 4, 5, 6, 7, 8, 9, 10)\n"
          ]
        },
        {
          "output_type": "execute_result",
          "data": {
            "text/plain": [
              "tuple"
            ]
          },
          "metadata": {},
          "execution_count": 18
        }
      ]
    },
    {
      "cell_type": "markdown",
      "metadata": {
        "id": "f0lMAKb0OJ7H"
      },
      "source": [
        "If you apply the `tuple()` function on a dictionary, the resulting tuple will contain only the keys of a dictionary.\n",
        "\n",
        "Let's apply the `tuple()` function on the following dictionary and check the output:\n",
        "\n",
        "```\n",
        "my_dict = {'Front Camera' : '16 MP', \n",
        "           'Battery' : '3300 mAh',\n",
        "           'Processor' : 'Qualcomm Snapdragon 845',\n",
        "           'Display' : '6.28 inches',  \n",
        "           'RAM' : '6 GB', \n",
        "           'Rear Camera' : '16 MP + 20 MP', \n",
        "           'Price' : 28990, \n",
        "           'Fast Charge' : True} \n",
        "```"
      ]
    },
    {
      "cell_type": "code",
      "metadata": {
        "id": "DuEl4mUNNr3h",
        "colab": {
          "base_uri": "https://localhost:8080/"
        },
        "outputId": "5d39ed72-4787-4311-eaf3-845eb92ba7e8"
      },
      "source": [
        "# S2.2: Apply the 'tuple()' function on the 'my_dict' dictionary.\n",
        "my_dict = {'Front Camera' : '16 MP', \n",
        "           'Battery' : '3300 mAh',\n",
        "           'Processor' : 'Qualcomm Snapdragon 845',\n",
        "           'Display' : '6.28 inches',  \n",
        "           'RAM' : '6 GB', \n",
        "           'Rear Camera' : '16 MP + 20 MP', \n",
        "           'Price' : 28990, \n",
        "           'Fast Charge' : True} \n",
        "tuple(my_dict)"
      ],
      "execution_count": null,
      "outputs": [
        {
          "output_type": "execute_result",
          "data": {
            "text/plain": [
              "('Front Camera',\n",
              " 'Battery',\n",
              " 'Processor',\n",
              " 'Display',\n",
              " 'RAM',\n",
              " 'Rear Camera',\n",
              " 'Price',\n",
              " 'Fast Charge')"
            ]
          },
          "metadata": {},
          "execution_count": 19
        }
      ]
    },
    {
      "cell_type": "markdown",
      "metadata": {
        "id": "Bt8okA7QPCTW"
      },
      "source": [
        "As you can see, the `tuple()` function, when applied to a dictionary, returns a tuple containing only the keys of the dictionary.\n",
        "\n",
        "Similarly, you can also apply the `list()` function to convert a data structure into a list. The `list()` function, when applied to a dictionary, also returns a list containing only the keys of the dictionary:"
      ]
    },
    {
      "cell_type": "code",
      "metadata": {
        "id": "BfOdiqvuP0Vm",
        "colab": {
          "base_uri": "https://localhost:8080/"
        },
        "outputId": "ac01496d-ed0a-4644-948c-60fb1ea04e5c"
      },
      "source": [
        "# S2.3: Apply the 'list()' function on the 'my_dict' dictionary.\n",
        "list(my_dict)"
      ],
      "execution_count": null,
      "outputs": [
        {
          "output_type": "execute_result",
          "data": {
            "text/plain": [
              "['Front Camera',\n",
              " 'Battery',\n",
              " 'Processor',\n",
              " 'Display',\n",
              " 'RAM',\n",
              " 'Rear Camera',\n",
              " 'Price',\n",
              " 'Fast Charge']"
            ]
          },
          "metadata": {},
          "execution_count": 20
        }
      ]
    },
    {
      "cell_type": "markdown",
      "metadata": {
        "id": "-5ZV5cN6HIOK"
      },
      "source": [
        "From the above output, you may observe that `my_dict` dictionary has been converted into `my_list` dictionary using the `list()` function."
      ]
    },
    {
      "cell_type": "markdown",
      "metadata": {
        "id": "6DFFERac6_nm"
      },
      "source": [
        "---"
      ]
    },
    {
      "cell_type": "markdown",
      "metadata": {
        "id": "0jVLzFYrCxxH"
      },
      "source": [
        "#### Task 3: Unpacking\n",
        "\n",
        "We can unpack or assign all the values to the same number of variables by writing them in one line.\n",
        "\n",
        "**Syntax for unpacking:** `vb1, vb2, vb3, ..., vbN = (item1, item2, item3, ..., itemN)`\n",
        "\n",
        "Where `vb1, vb2, vb3, ..., vbN` are `N` different variables and `item1, item2, item3, ..., itemN` are `N` different items stored in the tuple."
      ]
    },
    {
      "cell_type": "code",
      "metadata": {
        "id": "oLzm2gBpuhim",
        "colab": {
          "base_uri": "https://localhost:8080/"
        },
        "outputId": "8f7f56c2-13f3-4d6f-da80-0ee9c6b621ef"
      },
      "source": [
        "# S3.1: Create a tuple containing 5 items and assign their values to 5 differing variables.\n",
        "name,age,height,weight,hobby=(\"pawan\",17,175,67,\"badminton\")\n",
        "print(name)\n",
        "print(height)"
      ],
      "execution_count": null,
      "outputs": [
        {
          "output_type": "stream",
          "name": "stdout",
          "text": [
            "pawan\n",
            "175\n"
          ]
        }
      ]
    },
    {
      "cell_type": "markdown",
      "metadata": {
        "id": "kk4uK_shDt3a"
      },
      "source": [
        "The same method is also applicable for a list.\n",
        "\n",
        "**Note:** This method of unpacking values fails when the number of variables is less than or greater than the number of items in a tuple or a list."
      ]
    },
    {
      "cell_type": "markdown",
      "metadata": {
        "id": "NefMJbBW61Gt"
      },
      "source": [
        "---"
      ]
    },
    {
      "cell_type": "markdown",
      "metadata": {
        "id": "K3eBUNokDpkk"
      },
      "source": [
        "#### Task 4: Changing Tuple Items\n",
        "\n",
        "We have already discussed that we cannot change the contents of a tuple. However, we can first convert the tuple into a list, then change the contents of the list and finally change the list back into a tuple.\n",
        "\n",
        "Let's create a tuple of English vowels that contains one consonant. To remove that consonant, we will first convert the tuple into a list using the `list()` function, then will remove the consonant by applying the `remove()` function and then convert the list back to a tuple using the `tuple()` function: "
      ]
    },
    {
      "cell_type": "code",
      "metadata": {
        "id": "-8mTXvszEKKQ",
        "colab": {
          "base_uri": "https://localhost:8080/"
        },
        "outputId": "da55fb59-8d22-490b-9a75-4b1ac7b075d3"
      },
      "source": [
        "# S4.1: Create a tuple containing English vowels and then replace an item.\n",
        "# Create a tuple of vowels.\n",
        "eng=('a','e','i','o','u','s')\n",
        "print(eng)\n",
        "w=list(eng)\n",
        "w.remove('s')\n",
        "p=tuple(w)\n",
        "print(p)\n",
        "\n",
        "\n",
        "# Print the contents of the tuple before converting it into a list.\n",
        "\n",
        "# Convert the tuple into a list.\n",
        "\n",
        "\n",
        "# Remove the consonant from the list.\n",
        "\n",
        "\n",
        "# Convert the list into a tuple.\n",
        "\n",
        "\n",
        "# Print the items of the tuple after rreplacing.\n"
      ],
      "execution_count": null,
      "outputs": [
        {
          "output_type": "stream",
          "name": "stdout",
          "text": [
            "('a', 'e', 'i', 'o', 'u', 's')\n",
            "('a', 'e', 'i', 'o', 'u')\n"
          ]
        }
      ]
    },
    {
      "cell_type": "markdown",
      "metadata": {
        "id": "-yZvM61OFnl_"
      },
      "source": [
        "Similarly, you can apply other list functions by first converting a tuple into a list and then changing the list back to the tuple by applying the `tuple()` function. This little hack is useful when the data entered in a tuple is wrong or undesirable. However, this hack becomes a computationally heavy task in the case of a huge dataset. Imagine having 1 million (or 10 lakh) data points in a dataset that is not supposed to be changed. But then there is one mistake that needs to be corrected. You will have to first convert the entire tuple into a list, then correct the mistake in the item and then convert it back into a tuple. This exercise could lead to system failure in the case of large datasets. "
      ]
    },
    {
      "cell_type": "markdown",
      "metadata": {
        "id": "bISUwCYz6VMy"
      },
      "source": [
        "---"
      ]
    },
    {
      "cell_type": "markdown",
      "metadata": {
        "id": "gkb0Fabk61og"
      },
      "source": [
        "#### Task 5: The `enumerate()` Function\n",
        "\n",
        "Before we learn this function, think of a way to print the indices of the items contained in the `india_gdp_2011_2018` tuple along with the items one by one:\n"
      ]
    },
    {
      "cell_type": "code",
      "metadata": {
        "id": "dR8TE264AQfd",
        "colab": {
          "base_uri": "https://localhost:8080/"
        },
        "outputId": "f27fca75-993e-4dbc-ed4d-4245466ac4d3"
      },
      "source": [
        "# S5.1: Print the indices of the items contained in the 'india_gdp_2011_2018' tuple along with the items one-by-one.\n",
        "for i in range(len(india_gdp_2011_2018)):\n",
        "  print(i,india_gdp_2011_2018[i])\n"
      ],
      "execution_count": null,
      "outputs": [
        {
          "output_type": "stream",
          "name": "stdout",
          "text": [
            "0 5.241\n",
            "1 5.456\n",
            "2 6.386\n",
            "3 7.41\n",
            "4 7.996\n",
            "5 8.17\n",
            "6 7.168\n",
            "7 6.811\n"
          ]
        }
      ]
    },
    {
      "cell_type": "markdown",
      "metadata": {
        "id": "ZAjfIvjA_xif"
      },
      "source": [
        "The `enumerate()` function does a similar thing. It labels the items contained in a data structure with numbers starting from zero. It is similar to doing the roll call to get the count of the number of people present in a gathering. However, it returns a non-readable Python object. \n",
        "\n",
        "Let's apply the `enumerate()` function on the `india_gdp_2011_2018` tuple:"
      ]
    },
    {
      "cell_type": "code",
      "metadata": {
        "id": "YzTWmTY49-8J",
        "colab": {
          "base_uri": "https://localhost:8080/"
        },
        "outputId": "69a8bae9-c983-4537-f65b-b5b444c21765"
      },
      "source": [
        "# S5.2: Apply the 'enumerate()' function on the 'india_gdp_2011_2018' tuple.\n",
        "q=enumerate(india_gdp_2011_2018)\n",
        "print(q)"
      ],
      "execution_count": null,
      "outputs": [
        {
          "output_type": "stream",
          "name": "stdout",
          "text": [
            "<enumerate object at 0x7efc0628f5a0>\n"
          ]
        }
      ]
    },
    {
      "cell_type": "markdown",
      "metadata": {
        "id": "hfmfmNo6B-n4"
      },
      "source": [
        "As you can see, the output is some gibberish or non-readable object. It returns the physical memory location of the object created by the `enumerate()` function. \n",
        "\n",
        "Now, apply the `tuple()` function on top of the `enumerate()` function:\n"
      ]
    },
    {
      "cell_type": "code",
      "metadata": {
        "id": "AuxwfSsn-IRZ",
        "colab": {
          "base_uri": "https://localhost:8080/"
        },
        "outputId": "7c83a608-53d4-4f9d-f397-c5f55fb19eb3"
      },
      "source": [
        "# S5.3: Apply the 'tuple()' function on top of the 'enumerate()' function.\n",
        "e=tuple(q)\n",
        "e"
      ],
      "execution_count": null,
      "outputs": [
        {
          "output_type": "execute_result",
          "data": {
            "text/plain": [
              "((0, 5.241),\n",
              " (1, 5.456),\n",
              " (2, 6.386),\n",
              " (3, 7.41),\n",
              " (4, 7.996),\n",
              " (5, 8.17),\n",
              " (6, 7.168),\n",
              " (7, 6.811))"
            ]
          },
          "metadata": {},
          "execution_count": 25
        }
      ]
    },
    {
      "cell_type": "markdown",
      "metadata": {
        "id": "GeD8Z8nvCrks"
      },
      "source": [
        "As you can see, the output is a tuple containing the key-value pairs of the item and its roll call such that each key-value pair is another tuple.\n",
        "\n",
        "You can also iterate through each tuple print both roll call and the item:"
      ]
    },
    {
      "cell_type": "code",
      "metadata": {
        "id": "IgzUfX7ggup2",
        "colab": {
          "base_uri": "https://localhost:8080/"
        },
        "outputId": "6587d96c-aa6a-4957-f2a2-9a05726c1246"
      },
      "source": [
        "# S5.4: Iterate through each tuple print both roll call and the item contained in the above tuple.\n",
        "for i,j in e:\n",
        "  print(i,j)"
      ],
      "execution_count": null,
      "outputs": [
        {
          "output_type": "stream",
          "name": "stdout",
          "text": [
            "0 5.241\n",
            "1 5.456\n",
            "2 6.386\n",
            "3 7.41\n",
            "4 7.996\n",
            "5 8.17\n",
            "6 7.168\n",
            "7 6.811\n"
          ]
        }
      ]
    },
    {
      "cell_type": "markdown",
      "metadata": {
        "id": "O6pXut8agh6O"
      },
      "source": [
        "Thus, we printed both roll call and the item at each roll call using `for` loop.\n",
        "\n",
        "The `enumerate()` function can also be applied on lists, dictionaries, and strings:"
      ]
    },
    {
      "cell_type": "code",
      "metadata": {
        "id": "bCYWEIO97OMi",
        "colab": {
          "base_uri": "https://localhost:8080/"
        },
        "outputId": "2a0607bc-9ad8-4fcc-e653-e8816521da90"
      },
      "source": [
        "# S5.5: Apply the 'enumerate()' function on 'my_dict' dictionary and 'vowels_list'. On top of them apply the 'tuple()' function. \n",
        "r=tuple(enumerate(my_dict))\n",
        "s=tuple(enumerate(eng))\n",
        "print(r)\n",
        "print(s)"
      ],
      "execution_count": null,
      "outputs": [
        {
          "output_type": "stream",
          "name": "stdout",
          "text": [
            "((0, 'Front Camera'), (1, 'Battery'), (2, 'Processor'), (3, 'Display'), (4, 'RAM'), (5, 'Rear Camera'), (6, 'Price'), (7, 'Fast Charge'))\n",
            "((0, 'a'), (1, 'e'), (2, 'i'), (3, 'o'), (4, 'u'), (5, 's'))\n"
          ]
        }
      ]
    },
    {
      "cell_type": "markdown",
      "metadata": {
        "id": "-GltL_w7hnVB"
      },
      "source": [
        "As you can see, the `tuple()` function when applied on top of the `enumerate()` function: \n",
        "\n",
        "- In the case of the `my_dict` dictionary, returns a **tuple** that is a collection of tuples such that each tuple contains the roll call of every key and the key itself contained in the `my_dict` dictionary. The values of the `my_dict` dictionary are ignored.\n",
        "\n",
        "- In the case of the `vowels_list`, returns a **tuple** that is a collection of tuples such that each tuple contains the roll call of every item and the item itself contained in the `vowels_list`.\n"
      ]
    },
    {
      "cell_type": "code",
      "metadata": {
        "id": "AQr_TpmG7mQe",
        "colab": {
          "base_uri": "https://localhost:8080/"
        },
        "outputId": "d104f966-1632-4bb3-ecf4-2623b290f865"
      },
      "source": [
        "# S5.6: Apply the 'enumerate()' function on 'my_dict' dictionary and 'vowels_list'. On top of them apply the 'list()' function.\n",
        "r=list(enumerate(my_dict))\n",
        "s=list(enumerate(eng))\n",
        "print(r)\n",
        "print(s)"
      ],
      "execution_count": null,
      "outputs": [
        {
          "output_type": "stream",
          "name": "stdout",
          "text": [
            "[(0, 'Front Camera'), (1, 'Battery'), (2, 'Processor'), (3, 'Display'), (4, 'RAM'), (5, 'Rear Camera'), (6, 'Price'), (7, 'Fast Charge')]\n",
            "[(0, 'a'), (1, 'e'), (2, 'i'), (3, 'o'), (4, 'u'), (5, 's')]\n"
          ]
        }
      ]
    },
    {
      "cell_type": "markdown",
      "metadata": {
        "id": "HnNCkDxOFxGK"
      },
      "source": [
        "As you can see, the `list()` function when applied on top of the `enumerate()` function: \n",
        "\n",
        "- In the case of the `my_dict` dictionary, returns a **list** that is a collection of tuples such that each tuple contains the roll call of every key and the key itself contained in the `my_dict` dictionary. The values of the `my_dict` dictionary are ignored.\n",
        "\n",
        "- In the case of the `vowels_list`, returns a **list** that is a collection of tuples such that each tuple contains the roll call of every item and the item itself contained in the `vowels_list`.\n",
        "\n",
        "Let us use the `enumerate()` function with `my_dict` dictionary and `vowels_list` and also apply the `dict()` function:"
      ]
    },
    {
      "cell_type": "code",
      "metadata": {
        "id": "mB_-H0b46O81",
        "colab": {
          "base_uri": "https://localhost:8080/"
        },
        "outputId": "88dab219-d38d-4b41-f2cf-970ff9f9a0fd"
      },
      "source": [
        "# S5.7: Apply the 'enumerate()' function on 'my_dict' dictionary and 'vowels_list'. On top of them apply the 'dict()' function.\n",
        "r=dict(enumerate(my_dict))\n",
        "s=dict(enumerate(eng))\n",
        "print(r)\n",
        "print(s)"
      ],
      "execution_count": null,
      "outputs": [
        {
          "output_type": "stream",
          "name": "stdout",
          "text": [
            "{0: 'Front Camera', 1: 'Battery', 2: 'Processor', 3: 'Display', 4: 'RAM', 5: 'Rear Camera', 6: 'Price', 7: 'Fast Charge'}\n",
            "{0: 'a', 1: 'e', 2: 'i', 3: 'o', 4: 'u', 5: 's'}\n"
          ]
        }
      ]
    },
    {
      "cell_type": "markdown",
      "metadata": {
        "id": "nLZn8RrJ-Gnp"
      },
      "source": [
        "As you can see, the `dict()` function when applied on top of the `enumerate()` function: \n",
        "\n",
        "- In the case of the `my_dict` dictionary, returns a **dictionary** that is a collection of key-value pairs such that each pair contains the roll call of every key and the key itself contained in the `my_dict` dictionary. The values of the `my_dict` dictionary are ignored.\n",
        "\n",
        "- In the case of the `vowels_list`, returns a **dictionary** that is a collection of key-value pairs such that each pair contains the roll call of every item and the item itself contained in the `vowels_list`."
      ]
    },
    {
      "cell_type": "markdown",
      "metadata": {
        "id": "FilhvY39D0wa"
      },
      "source": [
        "---"
      ]
    },
    {
      "cell_type": "markdown",
      "metadata": {
        "id": "DAjse46cTlar"
      },
      "source": [
        "#### Task 6: The `sorted()` Function\n",
        "\n",
        "If you want to display the items of a tuple in the increasing or decreasing order, then you can apply the `sorted()` function. However, it will return a list instead of a tuple.\n",
        "\n",
        "The `sorted()` function, by default, arrange the items in ascending order. To arrange them in descending order, pass a parameter called `reverse=True` inside the `sorted()` function.\n",
        "\n",
        "**Syntax:** \n",
        "\n",
        "- For ascending order, `sorted(tuple_name)`\n",
        "\n",
        "- For descending order, `sorted(tuple_name, reverse=True)`\n",
        "\n",
        "Let's learn this function with the help of an example:\n"
      ]
    },
    {
      "cell_type": "code",
      "metadata": {
        "id": "MI724bprTtJv",
        "colab": {
          "base_uri": "https://localhost:8080/"
        },
        "outputId": "1bc8d530-9d75-4e9c-8d3d-bd0bcfcf9e2d"
      },
      "source": [
        "# S6.1: Create a tuple containing 10 random integers ranging between 1 and 50.\n",
        "import random\n",
        "list1=tuple([random.randint(1,50) for i in range(1,11)])\n",
        "print(list1)"
      ],
      "execution_count": null,
      "outputs": [
        {
          "output_type": "stream",
          "name": "stdout",
          "text": [
            "(3, 27, 12, 12, 15, 38, 20, 30, 31, 17)\n"
          ]
        }
      ]
    },
    {
      "cell_type": "code",
      "metadata": {
        "id": "51dhJc4xUF4r",
        "colab": {
          "base_uri": "https://localhost:8080/"
        },
        "outputId": "517d9bd5-6981-4826-a18e-477a2b408532"
      },
      "source": [
        "# S6.2: Now display the items of the tuple in the ascending order.\n",
        "sorted(list1)"
      ],
      "execution_count": null,
      "outputs": [
        {
          "output_type": "execute_result",
          "data": {
            "text/plain": [
              "[3, 12, 12, 15, 17, 20, 27, 30, 31, 38]"
            ]
          },
          "metadata": {},
          "execution_count": 44
        }
      ]
    },
    {
      "cell_type": "markdown",
      "metadata": {
        "id": "nUZ5f0ylW9o7"
      },
      "source": [
        "As you can see, the items of the `randint_tuple` are displayed in the ascending order but as a list.\n",
        "\n",
        "The same function can also be applied for a Python list with the same syntax."
      ]
    },
    {
      "cell_type": "code",
      "metadata": {
        "id": "AZ5vEigeUK9j",
        "colab": {
          "base_uri": "https://localhost:8080/"
        },
        "outputId": "09c42b70-8488-4575-a443-919caa7fd4c1"
      },
      "source": [
        "# S6.3: Create a list containing 10 random integers ranging between 100 and 150.\n",
        "import random\n",
        "list1=tuple([random.randint(100,150) for i in range(1,11)])\n",
        "print(list1)"
      ],
      "execution_count": null,
      "outputs": [
        {
          "output_type": "stream",
          "name": "stdout",
          "text": [
            "(135, 103, 116, 136, 144, 136, 140, 145, 114, 109)\n"
          ]
        }
      ]
    },
    {
      "cell_type": "code",
      "metadata": {
        "id": "kmLtpw8SXlU1",
        "colab": {
          "base_uri": "https://localhost:8080/"
        },
        "outputId": "e24f66b8-2531-449f-9e7b-cdb0dacdea8f"
      },
      "source": [
        "# S6.4: Now display the items of the list in the descending order.\n",
        "sorted(list1,reverse=True)"
      ],
      "execution_count": null,
      "outputs": [
        {
          "output_type": "execute_result",
          "data": {
            "text/plain": [
              "[145, 144, 140, 136, 136, 135, 116, 114, 109, 103]"
            ]
          },
          "metadata": {},
          "execution_count": 46
        }
      ]
    },
    {
      "cell_type": "markdown",
      "metadata": {
        "id": "npeYQ3fTI3qQ"
      },
      "source": [
        "In this way, we can display the items of a tuple in ascending or descending order using the `sorted()` function."
      ]
    },
    {
      "cell_type": "markdown",
      "metadata": {
        "id": "ErQmyxiwTkM_"
      },
      "source": [
        "---"
      ]
    },
    {
      "cell_type": "markdown",
      "metadata": {
        "id": "pKSgOpO7IbeY"
      },
      "source": [
        "#### Task 7: The `zip()` Function\n",
        "\n",
        "You have already learned that the `zip()` function can be used to join two or more lists to form a new dictionary and list. The objects need to be a list or a dictionary. Any two different iterable objects of the same length can be joined using the `zip` function. \n",
        "\n",
        "The iterable objects are those objects on which we can apply either a for loop or a while loop. So, if there are $n$ iterable objects and you want to join $r$ objects out of those $n$ objects such that $r \\leq n$ and $n \\ge1$, then you can do that in ${}^nP_r$ ways where $${}^nP_r = \\frac{n!}{(n-r)!}$$ and $$n! = n \\times (n - 1) \\times (n-2) \\dots 3 \\times 2 \\times 1$$\n",
        "\n",
        "Also, $1! = 1$ and $0!=1$\n",
        "\n",
        "E.g., if there are $n=3$ iterable objects (say list, dictionary, tuple) and you want to join $r=2$ of them, then you can join them in $${}^3P_2 = \\frac{3!}{(3-2)!} = \\frac{3 \\times2 \\times 1}{1} = 6 \\space \\text{ways}$$ \n",
        "\n",
        "The 6 possible ways are:\n",
        "\n",
        "1. list, dictionary\n",
        "\n",
        "2. dictionary, list\n",
        "\n",
        "3. list, tuple\n",
        "\n",
        "4. tuple, list\n",
        "\n",
        "5. dictionary, tuple\n",
        "\n",
        "6. tuple, dictionary\n",
        "\n",
        "In the above expression, if $r=n$, i.e., if all of the iterable objects are to be joined using the `zip()` function at a time, then it can be done in $n!$ ways because $${}^nP_n = \\frac{n!}{(n-n)!} = \\frac{n!}{0!} = n!$$\n",
        "\n",
        "E.g., if you want to join a list, a dictionary, and a tuple at once, then you can join them in $3! = 3\\times 2 \\times 1 = 6$ ways. In this case, the 6 possible ways are:\n",
        "\n",
        "1. list, dictionary, tuple\n",
        "\n",
        "2. list, tuple, dictionary\n",
        "\n",
        "3. dictionary, list, tuple\n",
        "\n",
        "4. dictionary, tuple, list\n",
        "\n",
        "5. tuple, list, dictionary\n",
        "\n",
        "6. tuple, dictionary, list\n",
        "\n",
        "\n",
        "**Note:** You don't need to know this theory to apply the `zip()` function. It is just an example to demonstrate that mathematics is applied in real-life problems especially in the field of computer applications. "
      ]
    },
    {
      "cell_type": "markdown",
      "metadata": {
        "id": "kUKWBCh4Pv99"
      },
      "source": [
        "Let's create a NumPy array containing the years from 1991 to 2018 and join it with the `india_gdp_1991_2018` tuple to form a new tuple using the `zip()` function:"
      ]
    },
    {
      "cell_type": "code",
      "metadata": {
        "id": "tUW6-rH7I9zT",
        "colab": {
          "base_uri": "https://localhost:8080/"
        },
        "outputId": "0382d3db-a3c5-400e-8b86-ae199d8e5371"
      },
      "source": [
        "# S7.1: Create a NumPy array containing the year from 1991 to 2018 and join it with the 'india_gdp_1991_2018' tuple.\n",
        "import numpy as np\n",
        "arr2=np.arange(1991,2019)\n",
        "q=tuple(zip(arr2,india_gdp_1991_2018))\n",
        "print(q)\n"
      ],
      "execution_count": null,
      "outputs": [
        {
          "output_type": "stream",
          "name": "stdout",
          "text": [
            "((1991, 1.057), (1992, 5.482), (1993, 4.751), (1994, 6.659), (1995, 7.574), (1996, 7.55), (1997, 4.05), (1998, 6.184), (1999, 8.846), (2000, 3.841), (2001, 4.824), (2002, 3.804), (2003, 7.86), (2004, 7.923), (2005, 7.923), (2006, 8.061), (2007, 7.661), (2008, 3.087), (2009, 7.862), (2010, 8.498), (2011, 5.241), (2012, 5.456), (2013, 6.386), (2014, 7.41), (2015, 7.996), (2016, 8.17), (2017, 7.168), (2018, 6.811))\n"
          ]
        }
      ]
    },
    {
      "cell_type": "markdown",
      "metadata": {
        "id": "wGHCnbXxQGSg"
      },
      "source": [
        "Repeat the same exercise by interchanging the positions of the array and the tuple inside the `zip()` function:"
      ]
    },
    {
      "cell_type": "code",
      "metadata": {
        "id": "wEl_s_SRQT09",
        "colab": {
          "base_uri": "https://localhost:8080/"
        },
        "outputId": "8375b174-8eb6-4873-c2cc-5c5a694dd7f4"
      },
      "source": [
        "# S7.2: Repeat the same exercise by interchanging the positions of the array and the tuple inside the zip() function.\n",
        "q=tuple(zip(india_gdp_1991_2018,arr2))\n",
        "print(q)"
      ],
      "execution_count": null,
      "outputs": [
        {
          "output_type": "stream",
          "name": "stdout",
          "text": [
            "((1.057, 1991), (5.482, 1992), (4.751, 1993), (6.659, 1994), (7.574, 1995), (7.55, 1996), (4.05, 1997), (6.184, 1998), (8.846, 1999), (3.841, 2000), (4.824, 2001), (3.804, 2002), (7.86, 2003), (7.923, 2004), (7.923, 2005), (8.061, 2006), (7.661, 2007), (3.087, 2008), (7.862, 2009), (8.498, 2010), (5.241, 2011), (5.456, 2012), (6.386, 2013), (7.41, 2014), (7.996, 2015), (8.17, 2016), (7.168, 2017), (6.811, 2018))\n"
          ]
        }
      ]
    },
    {
      "cell_type": "markdown",
      "metadata": {
        "id": "xao0jZVyQiFo"
      },
      "source": [
        "This time, the year values appear after the GDP values in the newly formed tuple. In this way, we can create new tuples by joining an array and a tuple."
      ]
    },
    {
      "cell_type": "markdown",
      "metadata": {
        "id": "AZJWEnkBIavJ"
      },
      "source": [
        "---"
      ]
    },
    {
      "cell_type": "markdown",
      "metadata": {
        "id": "ws9Z6_Z3oM86"
      },
      "source": [
        "#### Task 8: Performance\n",
        "\n",
        "Tuples are faster than lists. This is evident from the fact that tuples are immutable and have fewer functions as compared to the lists.\n",
        "\n",
        "Let's find out how fast tuples are compared to lists by recording the time taken to create 1 million tuples and 1 million lists having identical items and identical lengths:"
      ]
    },
    {
      "cell_type": "code",
      "metadata": {
        "id": "y043JEExodlj",
        "colab": {
          "base_uri": "https://localhost:8080/"
        },
        "outputId": "23bbd9bb-c518-4689-8719-7280fa1bcaa3"
      },
      "source": [
        "# Run the code below.\n",
        "import timeit\n",
        "\n",
        "tuple_time = timeit.timeit(stmt=\"(1, 2, 3, 4, 5, 6, 7, 8, 9, 10)\", number=1000000)\n",
        "list_time = timeit.timeit(stmt=\"[i for i in range(1, 11)]\", number=1000000)\n",
        "\n",
        "print(\"Time taken to create 1 million tuples is\", round(tuple_time, 4), \"seconds.\",\n",
        "      \"\\nTime taken to create 1 million lists is\", round(list_time, 4), \"seconds.\")"
      ],
      "execution_count": null,
      "outputs": [
        {
          "output_type": "stream",
          "name": "stdout",
          "text": [
            "Time taken to create 1 million tuples is 0.031 seconds. \n",
            "Time taken to create 1 million lists is 0.8574 seconds.\n"
          ]
        }
      ]
    },
    {
      "cell_type": "markdown",
      "metadata": {
        "id": "LTyV8hbTs0Wl"
      },
      "source": [
        "That's it. We have covered everything we need regarding tuples. In the next class, we will learn string operations."
      ]
    },
    {
      "cell_type": "markdown",
      "metadata": {
        "id": "M3PJwH4hzQOD"
      },
      "source": [
        "---"
      ]
    }
  ]
}