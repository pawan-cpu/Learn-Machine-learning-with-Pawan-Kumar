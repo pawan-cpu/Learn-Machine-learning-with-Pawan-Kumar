{
  "nbformat": 4,
  "nbformat_minor": 0,
  "metadata": {
    "colab": {
      "name": "Pro19Jan_Pawan_ NasscomAIFC_Project_56_v1.ipynb",
      "provenance": [],
      "collapsed_sections": [],
      "include_colab_link": true
    },
    "kernelspec": {
      "name": "python3",
      "display_name": "Python 3"
    }
  },
  "cells": [
    {
      "cell_type": "markdown",
      "metadata": {
        "id": "view-in-github",
        "colab_type": "text"
      },
      "source": [
        "<a href=\"https://colab.research.google.com/github/pawan-cpu/Learn-Python-with-Pawan-Kumar/blob/main/Pro19Jan_Pawan__NasscomAIFC_Project_56_v1.ipynb\" target=\"_parent\"><img src=\"https://colab.research.google.com/assets/colab-badge.svg\" alt=\"Open In Colab\"/></a>"
      ]
    },
    {
      "cell_type": "markdown",
      "metadata": {
        "id": "aQIDTCSIwTP3"
      },
      "source": [
        "### Instructions"
      ]
    },
    {
      "cell_type": "markdown",
      "metadata": {
        "id": "F_IP6BNb3Ne1"
      },
      "source": [
        "---"
      ]
    },
    {
      "cell_type": "markdown",
      "metadata": {
        "id": "azReToS7wWX3"
      },
      "source": [
        "#### Goal of the Project\n",
        "\n",
        "This project is designed for you to practice and solve the activities that are based on the concepts covered in the following lessons:\n",
        "\n",
        " 1. Multiple linear regression - Introduction\n",
        " 2. Multicollinearity\n",
        " \n",
        " "
      ]
    },
    {
      "cell_type": "markdown",
      "metadata": {
        "id": "llwKuOyIwnA_"
      },
      "source": [
        "---"
      ]
    },
    {
      "cell_type": "markdown",
      "metadata": {
        "id": "vEJNgBLXpAaq"
      },
      "source": [
        "#### Getting Started:\n",
        "\n",
        "1. Click on this link to open the Colab file for this project.\n",
        "\n",
        "  https://colab.research.google.com/drive/1PjAxq6XKuBXRE-F3SR1hfeIq6is6fJId\n",
        "\n",
        "2. Create a duplicate copy of the Colab file as described below.\n",
        "\n",
        "  - Click on the **File menu**. A new drop-down list will appear.\n",
        "\n",
        "   <img src='https://student-datasets-bucket.s3.ap-south-1.amazonaws.com/images/lesson-0/0_file_menu.png' width=500>\n",
        "\n",
        "  - Click on the **Save a copy in Drive** option. A duplicate copy will get created. It will open up in the new tab on your web browser.\n",
        "\n",
        "  <img src='https://student-datasets-bucket.s3.ap-south-1.amazonaws.com/images/lesson-0/1_create_colab_duplicate_copy.png' width=500>\n",
        "\n",
        "3. After creating the duplicate copy of the notebook, please rename it in the **YYYY-MM-DD_StudentName_Project65** format.\n",
        "\n",
        "4. Now, write your code in the prescribed code cells.\n"
      ]
    },
    {
      "cell_type": "markdown",
      "metadata": {
        "id": "JHRVR5qypHRS"
      },
      "source": [
        "---"
      ]
    },
    {
      "cell_type": "markdown",
      "metadata": {
        "id": "fR_SN7K6475D"
      },
      "source": [
        "### Problem Statement\n",
        "\n",
        "Implement multiple linear regression to create a predictive model capable of predicting the profits earned by startup companies. The dataset contains data about 50 startups and the amount of money they spend on research and development, administration and marketing. Also, find out if there is multicollinearity in the dataset.\n",
        "\n",
        "\n",
        "\n",
        "\n"
      ]
    },
    {
      "cell_type": "markdown",
      "metadata": {
        "id": "lN1iCMJ4Oy1N"
      },
      "source": [
        "---"
      ]
    },
    {
      "cell_type": "markdown",
      "metadata": {
        "id": "L3zN-iv-wpjm"
      },
      "source": [
        "### List of Activities\n",
        " \n",
        "**Activity 1:** Analysing the Dataset\n",
        " \n",
        "**Activity 2:** Data Manipulation\n",
        " \n",
        "**Activity 3:** Train-Test Split\n",
        " \n",
        "**Activity 4:** Model Training and Prediction using `sklearn`\n",
        " \n",
        "**Activity 5:** Model Training using `statsmodels.api` \n",
        " \n"
      ]
    },
    {
      "cell_type": "markdown",
      "metadata": {
        "id": "jLudEnlPO0FF"
      },
      "source": [
        "---"
      ]
    },
    {
      "cell_type": "markdown",
      "metadata": {
        "id": "lZt4yKiJwrUs"
      },
      "source": [
        " \n",
        "#### Activity 1:  Analysing the Dataset\n",
        " \n",
        "- Create a Pandas DataFrame for **Startups** dataset using the below link. This dataset contains profits earned by 50 startups and their several expenditure values.\n",
        " \n",
        " \n",
        " \n",
        "   **Dataset Link:** https://student-datasets-bucket.s3.ap-south-1.amazonaws.com/whitehat-ds-datasets/50_Startups.csv\n",
        " \n",
        "- Print the first five rows of the dataset. Check for null values and treat them accordingly."
      ]
    },
    {
      "cell_type": "code",
      "metadata": {
        "id": "6U6NaAy4WQgs",
        "colab": {
          "base_uri": "https://localhost:8080/",
          "height": 206
        },
        "outputId": "0fcdbee8-fefd-4de7-80a4-811d4832d361"
      },
      "source": [
        "# Import modules\n",
        "import numpy as np\n",
        "import matplotlib.pyplot as plt\n",
        "import pandas as pd \n",
        "import seaborn as sns\n",
        "# Load the dataset\n",
        "df=pd.read_csv('https://student-datasets-bucket.s3.ap-south-1.amazonaws.com/whitehat-ds-datasets/50_Startups.csv')\n",
        "df\n",
        "# Print first five rows using head() function\n",
        "df.head()"
      ],
      "execution_count": null,
      "outputs": [
        {
          "output_type": "execute_result",
          "data": {
            "text/html": [
              "\n",
              "  <div id=\"df-1902f4b5-04ba-4ff0-94a6-6ce01f4075d2\">\n",
              "    <div class=\"colab-df-container\">\n",
              "      <div>\n",
              "<style scoped>\n",
              "    .dataframe tbody tr th:only-of-type {\n",
              "        vertical-align: middle;\n",
              "    }\n",
              "\n",
              "    .dataframe tbody tr th {\n",
              "        vertical-align: top;\n",
              "    }\n",
              "\n",
              "    .dataframe thead th {\n",
              "        text-align: right;\n",
              "    }\n",
              "</style>\n",
              "<table border=\"1\" class=\"dataframe\">\n",
              "  <thead>\n",
              "    <tr style=\"text-align: right;\">\n",
              "      <th></th>\n",
              "      <th>R&amp;D Spend</th>\n",
              "      <th>Administration</th>\n",
              "      <th>Marketing Spend</th>\n",
              "      <th>State</th>\n",
              "      <th>Profit</th>\n",
              "    </tr>\n",
              "  </thead>\n",
              "  <tbody>\n",
              "    <tr>\n",
              "      <th>0</th>\n",
              "      <td>165349.20</td>\n",
              "      <td>136897.80</td>\n",
              "      <td>471784.10</td>\n",
              "      <td>New York</td>\n",
              "      <td>192261.83</td>\n",
              "    </tr>\n",
              "    <tr>\n",
              "      <th>1</th>\n",
              "      <td>162597.70</td>\n",
              "      <td>151377.59</td>\n",
              "      <td>443898.53</td>\n",
              "      <td>California</td>\n",
              "      <td>191792.06</td>\n",
              "    </tr>\n",
              "    <tr>\n",
              "      <th>2</th>\n",
              "      <td>153441.51</td>\n",
              "      <td>101145.55</td>\n",
              "      <td>407934.54</td>\n",
              "      <td>Florida</td>\n",
              "      <td>191050.39</td>\n",
              "    </tr>\n",
              "    <tr>\n",
              "      <th>3</th>\n",
              "      <td>144372.41</td>\n",
              "      <td>118671.85</td>\n",
              "      <td>383199.62</td>\n",
              "      <td>New York</td>\n",
              "      <td>182901.99</td>\n",
              "    </tr>\n",
              "    <tr>\n",
              "      <th>4</th>\n",
              "      <td>142107.34</td>\n",
              "      <td>91391.77</td>\n",
              "      <td>366168.42</td>\n",
              "      <td>Florida</td>\n",
              "      <td>166187.94</td>\n",
              "    </tr>\n",
              "  </tbody>\n",
              "</table>\n",
              "</div>\n",
              "      <button class=\"colab-df-convert\" onclick=\"convertToInteractive('df-1902f4b5-04ba-4ff0-94a6-6ce01f4075d2')\"\n",
              "              title=\"Convert this dataframe to an interactive table.\"\n",
              "              style=\"display:none;\">\n",
              "        \n",
              "  <svg xmlns=\"http://www.w3.org/2000/svg\" height=\"24px\"viewBox=\"0 0 24 24\"\n",
              "       width=\"24px\">\n",
              "    <path d=\"M0 0h24v24H0V0z\" fill=\"none\"/>\n",
              "    <path d=\"M18.56 5.44l.94 2.06.94-2.06 2.06-.94-2.06-.94-.94-2.06-.94 2.06-2.06.94zm-11 1L8.5 8.5l.94-2.06 2.06-.94-2.06-.94L8.5 2.5l-.94 2.06-2.06.94zm10 10l.94 2.06.94-2.06 2.06-.94-2.06-.94-.94-2.06-.94 2.06-2.06.94z\"/><path d=\"M17.41 7.96l-1.37-1.37c-.4-.4-.92-.59-1.43-.59-.52 0-1.04.2-1.43.59L10.3 9.45l-7.72 7.72c-.78.78-.78 2.05 0 2.83L4 21.41c.39.39.9.59 1.41.59.51 0 1.02-.2 1.41-.59l7.78-7.78 2.81-2.81c.8-.78.8-2.07 0-2.86zM5.41 20L4 18.59l7.72-7.72 1.47 1.35L5.41 20z\"/>\n",
              "  </svg>\n",
              "      </button>\n",
              "      \n",
              "  <style>\n",
              "    .colab-df-container {\n",
              "      display:flex;\n",
              "      flex-wrap:wrap;\n",
              "      gap: 12px;\n",
              "    }\n",
              "\n",
              "    .colab-df-convert {\n",
              "      background-color: #E8F0FE;\n",
              "      border: none;\n",
              "      border-radius: 50%;\n",
              "      cursor: pointer;\n",
              "      display: none;\n",
              "      fill: #1967D2;\n",
              "      height: 32px;\n",
              "      padding: 0 0 0 0;\n",
              "      width: 32px;\n",
              "    }\n",
              "\n",
              "    .colab-df-convert:hover {\n",
              "      background-color: #E2EBFA;\n",
              "      box-shadow: 0px 1px 2px rgba(60, 64, 67, 0.3), 0px 1px 3px 1px rgba(60, 64, 67, 0.15);\n",
              "      fill: #174EA6;\n",
              "    }\n",
              "\n",
              "    [theme=dark] .colab-df-convert {\n",
              "      background-color: #3B4455;\n",
              "      fill: #D2E3FC;\n",
              "    }\n",
              "\n",
              "    [theme=dark] .colab-df-convert:hover {\n",
              "      background-color: #434B5C;\n",
              "      box-shadow: 0px 1px 3px 1px rgba(0, 0, 0, 0.15);\n",
              "      filter: drop-shadow(0px 1px 2px rgba(0, 0, 0, 0.3));\n",
              "      fill: #FFFFFF;\n",
              "    }\n",
              "  </style>\n",
              "\n",
              "      <script>\n",
              "        const buttonEl =\n",
              "          document.querySelector('#df-1902f4b5-04ba-4ff0-94a6-6ce01f4075d2 button.colab-df-convert');\n",
              "        buttonEl.style.display =\n",
              "          google.colab.kernel.accessAllowed ? 'block' : 'none';\n",
              "\n",
              "        async function convertToInteractive(key) {\n",
              "          const element = document.querySelector('#df-1902f4b5-04ba-4ff0-94a6-6ce01f4075d2');\n",
              "          const dataTable =\n",
              "            await google.colab.kernel.invokeFunction('convertToInteractive',\n",
              "                                                     [key], {});\n",
              "          if (!dataTable) return;\n",
              "\n",
              "          const docLinkHtml = 'Like what you see? Visit the ' +\n",
              "            '<a target=\"_blank\" href=https://colab.research.google.com/notebooks/data_table.ipynb>data table notebook</a>'\n",
              "            + ' to learn more about interactive tables.';\n",
              "          element.innerHTML = '';\n",
              "          dataTable['output_type'] = 'display_data';\n",
              "          await google.colab.output.renderOutput(dataTable, element);\n",
              "          const docLink = document.createElement('div');\n",
              "          docLink.innerHTML = docLinkHtml;\n",
              "          element.appendChild(docLink);\n",
              "        }\n",
              "      </script>\n",
              "    </div>\n",
              "  </div>\n",
              "  "
            ],
            "text/plain": [
              "   R&D Spend  Administration  Marketing Spend       State     Profit\n",
              "0  165349.20       136897.80        471784.10    New York  192261.83\n",
              "1  162597.70       151377.59        443898.53  California  191792.06\n",
              "2  153441.51       101145.55        407934.54     Florida  191050.39\n",
              "3  144372.41       118671.85        383199.62    New York  182901.99\n",
              "4  142107.34        91391.77        366168.42     Florida  166187.94"
            ]
          },
          "metadata": {},
          "execution_count": 2
        }
      ]
    },
    {
      "cell_type": "code",
      "metadata": {
        "id": "jg7hAMJ4jKC5",
        "colab": {
          "base_uri": "https://localhost:8080/"
        },
        "outputId": "c7121833-0cb6-4d02-b2e7-2c986d4db1c8"
      },
      "source": [
        "# Check if there are any null values. If any column has null values, treat them accordingly\n",
        "df.isnull().sum()"
      ],
      "execution_count": null,
      "outputs": [
        {
          "output_type": "execute_result",
          "data": {
            "text/plain": [
              "R&D Spend          0\n",
              "Administration     0\n",
              "Marketing Spend    0\n",
              "State              0\n",
              "Profit             0\n",
              "dtype: int64"
            ]
          },
          "metadata": {},
          "execution_count": 3
        }
      ]
    },
    {
      "cell_type": "markdown",
      "metadata": {
        "id": "T2b18ifmveiZ"
      },
      "source": [
        "---"
      ]
    },
    {
      "cell_type": "markdown",
      "metadata": {
        "id": "AfaJH332Vef7"
      },
      "source": [
        "#### Activity 2: Data Manipulation\n",
        "\n",
        "The dataset contains a column `State` that is categorical. However for linear regression, we need all numerical variables. So to convert the categorical data to a numerical data, \n",
        "- Use `unique()` function to get the unique categories of the `State` column.\n",
        "- Replace the unique categories with intergers starting from `0`, `1`, `2`,...\n"
      ]
    },
    {
      "cell_type": "code",
      "metadata": {
        "id": "70-DsDv5YAS3",
        "colab": {
          "base_uri": "https://localhost:8080/"
        },
        "outputId": "be0f75d5-ba27-4e3b-bcfa-9dbe1f569c0a"
      },
      "source": [
        "# Display the number of occurrences of each label in the 'State' column.\n",
        "df['State'].value_counts()\n"
      ],
      "execution_count": null,
      "outputs": [
        {
          "output_type": "execute_result",
          "data": {
            "text/plain": [
              "California    17\n",
              "New York      17\n",
              "Florida       16\n",
              "Name: State, dtype: int64"
            ]
          },
          "metadata": {},
          "execution_count": 5
        }
      ]
    },
    {
      "cell_type": "code",
      "metadata": {
        "id": "WF5XlseCkRYm",
        "colab": {
          "base_uri": "https://localhost:8080/"
        },
        "outputId": "e9d444d7-31b9-4440-abb4-54de68de90ec"
      },
      "source": [
        "# Create a list of unique categories using 'unique()' function and print them\n",
        "df['State'].unique()"
      ],
      "execution_count": null,
      "outputs": [
        {
          "output_type": "execute_result",
          "data": {
            "text/plain": [
              "array(['New York', 'California', 'Florida'], dtype=object)"
            ]
          },
          "metadata": {},
          "execution_count": 6
        }
      ]
    },
    {
      "cell_type": "code",
      "metadata": {
        "id": "-QoaAJ58kiEF"
      },
      "source": [
        "# Replace the unique non-numeric categories in 'State' column with numeric values \n",
        "df.replace(to_replace='New York',value=0 ,inplace=True) \n",
        "df.replace(to_replace='California',value=1 ,inplace=True) \n",
        "df.replace(to_replace='Florida',value=2 ,inplace=True) \n"
      ],
      "execution_count": null,
      "outputs": []
    },
    {
      "cell_type": "code",
      "metadata": {
        "id": "WOnWUceHlxHK",
        "colab": {
          "base_uri": "https://localhost:8080/"
        },
        "outputId": "23011766-4085-4e05-c579-f16bab3bc896"
      },
      "source": [
        "# Display the number of occurrences of each label in the 'State' column again.\n",
        "df['State'].value_counts()\n",
        "# Print the datatype of the column\n"
      ],
      "execution_count": null,
      "outputs": [
        {
          "output_type": "execute_result",
          "data": {
            "text/plain": [
              "1    17\n",
              "0    17\n",
              "2    16\n",
              "Name: State, dtype: int64"
            ]
          },
          "metadata": {},
          "execution_count": 10
        }
      ]
    },
    {
      "cell_type": "code",
      "metadata": {
        "id": "2OF5sSuSlKMI",
        "colab": {
          "base_uri": "https://localhost:8080/"
        },
        "outputId": "e108c36b-205b-4888-f2e0-fbaa67593238"
      },
      "source": [
        "# Convert the column into integer DataFrame.\n",
        "df[\"State\"] = df[\"State\"].astype(str).astype(int)\n",
        "print(df.dtypes)"
      ],
      "execution_count": null,
      "outputs": [
        {
          "output_type": "stream",
          "name": "stdout",
          "text": [
            "R&D Spend          float64\n",
            "Administration     float64\n",
            "Marketing Spend    float64\n",
            "State                int64\n",
            "Profit             float64\n",
            "dtype: object\n"
          ]
        }
      ]
    },
    {
      "cell_type": "code",
      "metadata": {
        "id": "YOPk_JvAYd3h",
        "colab": {
          "base_uri": "https://localhost:8080/"
        },
        "outputId": "3d3166ea-d0f9-4f5b-c8fd-8127f6e1c03e"
      },
      "source": [
        "# Print the information of the DataFrame to verify the column's datatype\n",
        "df.info()"
      ],
      "execution_count": null,
      "outputs": [
        {
          "output_type": "stream",
          "name": "stdout",
          "text": [
            "<class 'pandas.core.frame.DataFrame'>\n",
            "RangeIndex: 50 entries, 0 to 49\n",
            "Data columns (total 5 columns):\n",
            " #   Column           Non-Null Count  Dtype  \n",
            "---  ------           --------------  -----  \n",
            " 0   R&D Spend        50 non-null     float64\n",
            " 1   Administration   50 non-null     float64\n",
            " 2   Marketing Spend  50 non-null     float64\n",
            " 3   State            50 non-null     int64  \n",
            " 4   Profit           50 non-null     float64\n",
            "dtypes: float64(4), int64(1)\n",
            "memory usage: 2.1 KB\n"
          ]
        }
      ]
    },
    {
      "cell_type": "code",
      "source": [
        "from sklearn.model_selection import train_test_split\n",
        "from sklearn.linear_model import LinearRegression\n",
        "\n",
        "features = list(df.columns.values)\n",
        "features.remove('Profit')\n",
        "features"
      ],
      "metadata": {
        "colab": {
          "base_uri": "https://localhost:8080/"
        },
        "id": "cS3_oYQFySG0",
        "outputId": "48846714-6817-4d29-9407-adea20becd2f"
      },
      "execution_count": null,
      "outputs": [
        {
          "output_type": "execute_result",
          "data": {
            "text/plain": [
              "['R&D Spend', 'Administration', 'Marketing Spend', 'State']"
            ]
          },
          "metadata": {},
          "execution_count": 14
        }
      ]
    },
    {
      "cell_type": "markdown",
      "metadata": {
        "id": "XWXbNSGEkIav"
      },
      "source": [
        "---"
      ]
    },
    {
      "cell_type": "markdown",
      "metadata": {
        "id": "uDTmlU-Mz0fI"
      },
      "source": [
        "#### Activity 3: Train-Test Split\n",
        " \n",
        "We need to predict the value of `Profit` variable, using other variables. Thus, `Profit` is the target or dependent variable and other columns except `Profit` are the features or the independent variables.\n",
        " \n",
        "Split the dataset into training set and test set such that the training set contains 70% of the instances and the remaining instances will become the test set."
      ]
    },
    {
      "cell_type": "code",
      "metadata": {
        "id": "Ku_loAWZ0LXr"
      },
      "source": [
        "# Split the DataFrame into the training and test sets.\n",
        "from sklearn.model_selection import train_test_split\n",
        "from sklearn.linear_model import LinearRegression\n",
        "\n",
        "X = df[features]\n",
        "y = df['Profit']\n",
        "\n",
        "# Splitting the DataFrame into the train and test sets.\n",
        "X_train, X_test, y_train, y_test = train_test_split(X, y, test_size = 0.30, random_state = 42) \n"
      ],
      "execution_count": null,
      "outputs": []
    },
    {
      "cell_type": "markdown",
      "metadata": {
        "id": "hCPg7ClP0Om1"
      },
      "source": [
        "---"
      ]
    },
    {
      "cell_type": "markdown",
      "metadata": {
        "id": "ud8dLfCGjh0E"
      },
      "source": [
        "#### Activity 4: Model Training and Prediction using `sklearn`\n",
        "\n",
        "Implement multiple linear regression using `sklearn` module by creating an object of the `LinearRegression` class and calling the `fit()` function.\n",
        "\n",
        "**Note:** Reshaping the target variable array into a 2D array is not mandatory in multiple linear regression. You can skip that."
      ]
    },
    {
      "cell_type": "code",
      "metadata": {
        "id": "Xost35Q1XreI",
        "colab": {
          "base_uri": "https://localhost:8080/"
        },
        "outputId": "696e10f8-2737-448a-d9f4-c83ed9c91d3e"
      },
      "source": [
        "# Build linear regression model using sklearn module\n",
        "y_train_reshaped = y_train.values.reshape(-1, 1)\n",
        "y_test_reshaped = y_test.values.reshape(-1, 1)\n",
        "\n",
        "# Build a linear regression model using the 'sklearn.linear_model' module.\n",
        "sklearn_lin_reg = LinearRegression()\n",
        "sklearn_lin_reg.fit(X_train, y_train_reshaped)\n",
        "\n",
        "# Print the value of the intercept i.e. beta-sub-0.\n",
        "print(\"\\nConstant\".ljust(15, \" \"), f\"{sklearn_lin_reg.intercept_[0]:.6f}\") # Soon you will get to know why rounding-off to 6 decimal places.\n",
        "\n",
        "# Print the names of the features along with the values of their corresponding coefficients.\n",
        "for item in list(zip(X.columns.values, sklearn_lin_reg.coef_[0])):\n",
        "  print(f\"{item[0]}\".ljust(15, \" \"), f\"{item[1]:.6f}\") # Soon you will get to know why rounding-off to 6 decimal places.\n",
        "\n",
        "# Print the value of the intercept \n",
        "\n",
        "\n",
        "# Print the names of the features along with the values of their corresponding coefficients.\n"
      ],
      "execution_count": null,
      "outputs": [
        {
          "output_type": "stream",
          "name": "stdout",
          "text": [
            "\n",
            "Constant       56350.351993\n",
            "R&D Spend       0.805287\n",
            "Administration  -0.090976\n",
            "Marketing Spend 0.027620\n",
            "State           847.949958\n"
          ]
        }
      ]
    },
    {
      "cell_type": "markdown",
      "metadata": {
        "id": "2oTOJMotZlBJ"
      },
      "source": [
        "Predict the values for the test set by calling the `predict()` function on the LinearRegression object. "
      ]
    },
    {
      "cell_type": "code",
      "metadata": {
        "id": "cy2A_HP8Zp66",
        "colab": {
          "base_uri": "https://localhost:8080/"
        },
        "outputId": "41811ebe-6106-4038-949f-b1cc129e4eec"
      },
      "source": [
        "# Predict the target variable values for test set\n",
        "from sklearn.metrics import r2_score, mean_squared_error, mean_absolute_error\n",
        "\n",
        "y_test_pred = sklearn_lin_reg.predict(X_test)\n",
        "print(f\"\\n\\nTest Set\\n{'-' * 50}\")\n",
        "print(f\"R-squared: {r2_score(y_test_reshaped, y_test_pred):.3f}\")\n",
        "print(f\"Mean Squared Error: {mean_squared_error(y_test_reshaped, y_test_pred):.3f}\")\n",
        "print(f\"Root Mean Squared Error: {np.sqrt(mean_squared_error(y_test_reshaped, y_test_pred)):.3f}\")\n",
        "print(f\"Mean Absolute Error: {mean_absolute_error(y_test_reshaped, y_test_pred):.3f}\")"
      ],
      "execution_count": null,
      "outputs": [
        {
          "output_type": "stream",
          "name": "stdout",
          "text": [
            "\n",
            "\n",
            "Test Set\n",
            "--------------------------------------------------\n",
            "R-squared: 0.940\n",
            "Mean Squared Error: 84327239.727\n",
            "Root Mean Squared Error: 9182.986\n",
            "Mean Absolute Error: 7356.968\n"
          ]
        }
      ]
    },
    {
      "cell_type": "markdown",
      "metadata": {
        "id": "cAPgWR45mrCo"
      },
      "source": [
        "---"
      ]
    },
    {
      "cell_type": "markdown",
      "metadata": {
        "id": "Z6RkwNpUZ70Z"
      },
      "source": [
        "#### Activity 5: Model Training using `statsmodels.api`\n",
        "\n",
        "Perform the following tasks:\n",
        "- Implement multiple linear regression using `statsmodels.api` module and find the values of all the regression coefficients using this module.\n",
        "-Print the statistical summary of the regression model.\n",
        "- If the summary indicates the presence of multicollinearity, create a heatmap of a correlation DataFrame to identify which independent variables are highly correlated with each other."
      ]
    },
    {
      "cell_type": "code",
      "metadata": {
        "id": "nVsOvcydR204",
        "colab": {
          "base_uri": "https://localhost:8080/"
        },
        "outputId": "9d533236-3828-4d02-8d02-82feae457886"
      },
      "source": [
        "# Build a linear regression model using the 'statsmodels.api' module.\n",
        "import statsmodels.api as sm\n",
        "\n",
        "# Create data frames for the features and target again and also split them into the train and test sets.\n",
        "X = df[features]\n",
        "y = df['Profit']\n",
        "\n",
        "X_train, X_test, y_train, y_test = train_test_split(X, y, test_size = 0.33, random_state = 42) # Test set will have 33% of the values.\n",
        "\n",
        "# Add a constant to get an intercept\n",
        "X_train_sm = sm.add_constant(X_train)\n",
        "\n",
        "# Fit the regression line using 'OLS'\n",
        "lr = sm.OLS(y_train, X_train_sm).fit()\n",
        "\n",
        "# Print the parameters, i.e. the intercept and the slope of the regression line fitted\n",
        "lr.params\n",
        "\n"
      ],
      "execution_count": null,
      "outputs": [
        {
          "output_type": "execute_result",
          "data": {
            "text/plain": [
              "const              56172.578147\n",
              "R&D Spend              0.804001\n",
              "Administration        -0.089866\n",
              "Marketing Spend        0.028235\n",
              "State                814.395695\n",
              "dtype: float64"
            ]
          },
          "metadata": {},
          "execution_count": 19
        }
      ]
    },
    {
      "cell_type": "code",
      "metadata": {
        "id": "j0PX_kHkSF0f",
        "colab": {
          "base_uri": "https://localhost:8080/"
        },
        "outputId": "df12bdfc-f854-404b-852d-ac726dcbe81e"
      },
      "source": [
        "# Print statistical summary of the model \n",
        "print(lr.summary())"
      ],
      "execution_count": null,
      "outputs": [
        {
          "output_type": "stream",
          "name": "stdout",
          "text": [
            "                            OLS Regression Results                            \n",
            "==============================================================================\n",
            "Dep. Variable:                 Profit   R-squared:                       0.948\n",
            "Model:                            OLS   Adj. R-squared:                  0.941\n",
            "Method:                 Least Squares   F-statistic:                     128.6\n",
            "Date:                Tue, 18 Jan 2022   Prob (F-statistic):           1.37e-17\n",
            "Time:                        06:20:10   Log-Likelihood:                -348.38\n",
            "No. Observations:                  33   AIC:                             706.8\n",
            "Df Residuals:                      28   BIC:                             714.2\n",
            "Df Model:                           4                                         \n",
            "Covariance Type:            nonrobust                                         \n",
            "===================================================================================\n",
            "                      coef    std err          t      P>|t|      [0.025      0.975]\n",
            "-----------------------------------------------------------------------------------\n",
            "const            5.617e+04   1.04e+04      5.390      0.000    3.48e+04    7.75e+04\n",
            "R&D Spend           0.8040      0.064     12.559      0.000       0.673       0.935\n",
            "Administration     -0.0899      0.076     -1.190      0.244      -0.245       0.065\n",
            "Marketing Spend     0.0282      0.026      1.093      0.284      -0.025       0.081\n",
            "State             814.3957   2216.932      0.367      0.716   -3726.785    5355.576\n",
            "==============================================================================\n",
            "Omnibus:                       15.456   Durbin-Watson:                   1.656\n",
            "Prob(Omnibus):                  0.000   Jarque-Bera (JB):               19.336\n",
            "Skew:                          -1.251   Prob(JB):                     6.33e-05\n",
            "Kurtosis:                       5.794   Cond. No.                     1.74e+06\n",
            "==============================================================================\n",
            "\n",
            "Warnings:\n",
            "[1] Standard Errors assume that the covariance matrix of the errors is correctly specified.\n",
            "[2] The condition number is large, 1.74e+06. This might indicate that there are\n",
            "strong multicollinearity or other numerical problems.\n"
          ]
        }
      ]
    },
    {
      "cell_type": "markdown",
      "metadata": {
        "id": "Lp-a0Ug2buWu"
      },
      "source": [
        "**Q:** What is the $R^2$ (R-squared) value for this model?\n",
        "\n",
        "**A:**0.948\n",
        "\n",
        "**Q:** Does the summary table indicates the presence of multicollinearity?\n",
        "\n",
        "**A:** Yes"
      ]
    },
    {
      "cell_type": "code",
      "metadata": {
        "id": "Cin7g2-4S7Qr",
        "colab": {
          "base_uri": "https://localhost:8080/",
          "height": 498
        },
        "outputId": "a01b6718-cd06-432e-c84a-605cfbe8857f"
      },
      "source": [
        "# If there is multicollinearity, create a heatmap of a correlation DataFrame of the Startup dataset.\n",
        "# If no, skip this part\n",
        "plt.figure(figsize = (10, 6), dpi = 96)\n",
        "sns.heatmap(data = df.corr(), annot = True) \n",
        "plt.show()"
      ],
      "execution_count": null,
      "outputs": [
        {
          "output_type": "display_data",
          "data": {
            "image/png": "[encoded data removed]",
            "text/plain": [
              "<Figure size 960x576 with 2 Axes>"
            ]
          },
          "metadata": {
            "needs_background": "light"
          }
        }
      ]
    },
    {
      "cell_type": "markdown",
      "metadata": {
        "id": "E-_kGa-Ed2aV"
      },
      "source": [
        "**Q:** Which independent variables are strongly correlated with each other?\n",
        "\n",
        "**A:** R&D and profit"
      ]
    },
    {
      "cell_type": "markdown",
      "metadata": {
        "id": "Bp0p4IT-Dn_w"
      },
      "source": [
        "---"
      ]
    },
    {
      "cell_type": "markdown",
      "metadata": {
        "id": "2NQqcuR_pNQQ"
      },
      "source": [
        "### Submitting the Project:\n",
        "\n",
        "1. After finishing the project, click on the **Share** button on the top right corner of the notebook. A new dialog box will appear.\n",
        "\n",
        "  <img src='https://student-datasets-bucket.s3.ap-south-1.amazonaws.com/images/project-share-images/2_share_button.png' width=500>\n",
        "\n",
        "2. In the dialog box, make sure that '**Anyone on the Internet with this link can view**' option is selected and then click on the **Copy link** button.\n",
        "\n",
        "   <img src='https://student-datasets-bucket.s3.ap-south-1.amazonaws.com/images/project-share-images/3_copy_link.png' width=500>\n",
        "\n",
        "3. The link of the duplicate copy (named as **YYYY-MM-DD_StudentName_Project65**) of the notebook will get copied \n",
        "\n",
        "   <img src='https://student-datasets-bucket.s3.ap-south-1.amazonaws.com/images/project-share-images/4_copy_link_confirmation.png' width=500>\n",
        "\n",
        "4. Go to your dashboard and click on the **My Projects** option.\n",
        "   \n",
        "   <img src='https://student-datasets-bucket.s3.ap-south-1.amazonaws.com/images/project-share-images/5_student_dashboard.png' width=800>\n",
        "\n",
        "  <img src='https://student-datasets-bucket.s3.ap-south-1.amazonaws.com/images/project-share-images/6_my_projects.png' width=800>\n",
        "\n",
        "5. Click on the **View Project** button for the project you want to submit.\n",
        "\n",
        "   <img src='https://student-datasets-bucket.s3.ap-south-1.amazonaws.com/images/project-share-images/7_view_project.png' width=800>\n",
        "\n",
        "6. Click on the **Submit Project Here** button.\n",
        "\n",
        "   <img src='https://student-datasets-bucket.s3.ap-south-1.amazonaws.com/images/project-share-images/8_submit_project.png' width=800>\n",
        "\n",
        "7. Paste the link to the project file named as **YYYY-MM-DD_StudentName_Project65** in the URL box and then click on the **Submit** button.\n",
        "\n",
        "   <img src='https://student-datasets-bucket.s3.ap-south-1.amazonaws.com/images/project-share-images/9_enter_project_url.png' width=800> "
      ]
    },
    {
      "cell_type": "markdown",
      "metadata": {
        "id": "ZQXpukmTpSf8"
      },
      "source": [
        "---"
      ]
    }
  ]
}