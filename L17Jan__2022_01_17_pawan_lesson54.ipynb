{
  "nbformat": 4,
  "nbformat_minor": 0,
  "metadata": {
    "colab": {
      "name": "L17Jan _2022-01-17_pawan_lesson54",
      "provenance": [],
      "collapsed_sections": [],
      "include_colab_link": true
    },
    "kernelspec": {
      "name": "python3",
      "display_name": "Python 3"
    }
  },
  "cells": [
    {
      "cell_type": "markdown",
      "metadata": {
        "id": "view-in-github",
        "colab_type": "text"
      },
      "source": [
        "<a href=\"https://colab.research.google.com/github/pawan-cpu/Learn-Python-with-Pawan-Kumar/blob/main/L17Jan__2022_01_17_pawan_lesson54.ipynb\" target=\"_parent\"><img src=\"https://colab.research.google.com/assets/colab-badge.svg\" alt=\"Open In Colab\"/></a>"
      ]
    },
    {
      "cell_type": "markdown",
      "metadata": {
        "id": "2FbiXuSJANTj"
      },
      "source": [
        "# Lesson 54: Ordinary Least Squares"
      ]
    },
    {
      "cell_type": "markdown",
      "source": [
        ""
      ],
      "metadata": {
        "id": "LBH8ClkKwPeP"
      }
    },
    {
      "cell_type": "markdown",
      "metadata": {
        "id": "qK-408zCg7I8"
      },
      "source": [
        "\n",
        "\n",
        "|Particulars|Description|\n",
        "|-|-|\n",
        "|**Topics Covered**|Matrices|\n",
        "||Matrix Multiplication|\n",
        "||Matrices in Python|\n",
        "|||\n",
        "|**Lesson Description**|A student learns the concept of ordinary least squares method in detail.|\n",
        "|||\n",
        "|**Lesson Duration**|45 minutes|\n",
        "|||\n",
        "|**Learning Outcomes**|Dive deep into ordinary least squares method.|\n",
        "|||\n",
        "\n"
      ]
    },
    {
      "cell_type": "markdown",
      "metadata": {
        "id": "7GC-eOShhfWs"
      },
      "source": [
        "---"
      ]
    },
    {
      "cell_type": "markdown",
      "metadata": {
        "id": "QN1yM4dV2Siv"
      },
      "source": [
        "### Teacher-Student Tasks\n",
        "\n",
        "In this class we will learn the concept of **ordinary least squares** method. In the process, we will also learn the concepts of matrices."
      ]
    },
    {
      "cell_type": "markdown",
      "metadata": {
        "id": "qK4-kPX3iraG"
      },
      "source": [
        "---"
      ]
    },
    {
      "cell_type": "code",
      "metadata": {
        "id": "ctPdsMcc5QzN",
        "colab": {
          "base_uri": "https://localhost:8080/"
        },
        "outputId": "81531efa-c48c-4dd8-beef-bfdede62fbc7"
      },
      "source": [
        "# Run the code cell.\n",
        "import numpy as np\n",
        "import pandas as pd\n",
        "import matplotlib.pyplot as plt\n",
        "import seaborn as sns\n",
        "\n",
        "import warnings\n",
        "warnings.filterwarnings('ignore')\n",
        "\n",
        "# Loading the dataset.\n",
        "csv_file = 'https://student-datasets-bucket.s3.ap-south-1.amazonaws.com/whitehat-ds-datasets/air-quality/AirQualityUCI.csv'\n",
        "df = pd.read_csv(csv_file, sep=';')\n",
        "\n",
        "# Dropping the 'Unnamed: 15' & 'Unnamed: 16' columns.\n",
        "df = df.drop(columns=['Unnamed: 15', 'Unnamed: 16'], axis=1) \n",
        "\n",
        "# Dropping the null values.\n",
        "df = df.dropna()\n",
        "\n",
        "# Creating a Pandas series containing 'datetime' objects.\n",
        "dt_series = pd.Series(data = [item.split(\"/\")[2] + \"-\" + item.split(\"/\")[1] + \"-\" + item.split(\"/\")[0] for item in df['Date']], index=df.index) + ' ' + pd.Series(data=[str(item).replace(\".\", \":\") for item in df['Time']], index=df.index)\n",
        "dt_series = pd.to_datetime(dt_series)\n",
        "\n",
        "# Remove the Date & Time columns from the DataFrame and insert the 'dt_series' in it.\n",
        "df = df.drop(columns=['Date', 'Time'], axis=1)\n",
        "df.insert(loc=0, column='DateTime', value=dt_series)\n",
        "\n",
        "# Get the Pandas series containing the year values as integers.\n",
        "year_series = dt_series.dt.year\n",
        "\n",
        "# Get the Pandas series containing the month values as integers.\n",
        "month_series = dt_series.dt.month\n",
        "\n",
        "# Get the Pandas series containing the day values as integers.\n",
        "day_series = dt_series.dt.day\n",
        "\n",
        "# Get the Pandas series containing the days of a week, i.e., Monday, Tuesday, Wednesday etc.\n",
        "day_name_series = dt_series.dt.day_name()\n",
        "\n",
        "# Add the 'Year', 'Month', 'Day' and 'Day Name' columns to the DataFrame.\n",
        "df['Year'] = year_series\n",
        "df['Month'] = month_series\n",
        "df['Day'] = day_series\n",
        "df['Day Name'] = day_name_series\n",
        "\n",
        "# Sort the DataFrame by the 'DateTime' values in the ascending order. Also, display the first 10 rows of the DataFrame.\n",
        "df = df.sort_values(by='DateTime')\n",
        "\n",
        "# Create a function to replace the commas with periods in a Pandas series.\n",
        "def comma_to_period(series):\n",
        "    new_series = pd.Series(data=[float(str(item).replace(',', '.')) for item in series], index=df.index)\n",
        "    return new_series\n",
        "\n",
        "# Apply the 'comma_to_period()' function on the ''CO(GT)', 'C6H6(GT)', 'T', 'RH' and 'AH' columns.\n",
        "cols_to_correct = ['CO(GT)', 'C6H6(GT)', 'T', 'RH', 'AH'] # Create a list of column names.\n",
        "for col in cols_to_correct: # Iterate through each column\n",
        "    df[col] = comma_to_period(df[col]) # Replace the original column with the new series.\n",
        "\n",
        "# Remove all the columns from the 'df' DataFrame containing more than 10% garbage value.\n",
        "df = df.drop(columns=['NMHC(GT)', 'CO(GT)', 'NOx(GT)', 'NO2(GT)'], axis=1)\n",
        "\n",
        "# Create a new DataFrame containing records for the years 2004 and 2005.\n",
        "aq_2004_df = df[df['Year'] == 2004]\n",
        "aq_2005_df = df[df['Year'] == 2005]\n",
        "\n",
        "# Replace the -200 value with the median values for each column having indices between 1 and -4 (excluding -4) for the 2004 year DataFrame.\n",
        "for col in aq_2004_df.columns[1:-4]:\n",
        "  median = aq_2004_df.loc[aq_2004_df[col] != -200, col].median()\n",
        "  aq_2004_df[col] = aq_2004_df[col].replace(to_replace=-200, value=median)\n",
        "\n",
        "# Repeat the same exercise for the 2005 year DataFrame.\n",
        "for col in aq_2005_df.columns[1:-4]:\n",
        "  median = aq_2005_df.loc[aq_2005_df[col] != -200, col].median()\n",
        "  aq_2005_df[col] = aq_2005_df[col].replace(to_replace=-200, value=median)\n",
        "\n",
        "# Group the DataFrames about the 'Month' column.\n",
        "group_2004_month = aq_2004_df.groupby(by='Month')\n",
        "group_2005_month = aq_2005_df.groupby(by='Month')\n",
        "\n",
        "# Concatenate the two DataFrames for 2004 and 2005 to obtain one DataFrame.\n",
        "df = pd.concat([aq_2004_df, aq_2005_df])\n",
        "\n",
        "# Information of the DataFrame.\n",
        "df.info()"
      ],
      "execution_count": null,
      "outputs": [
        {
          "output_type": "stream",
          "name": "stdout",
          "text": [
            "<class 'pandas.core.frame.DataFrame'>\n",
            "Int64Index: 9357 entries, 0 to 9356\n",
            "Data columns (total 14 columns):\n",
            " #   Column         Non-Null Count  Dtype         \n",
            "---  ------         --------------  -----         \n",
            " 0   DateTime       9357 non-null   datetime64[ns]\n",
            " 1   PT08.S1(CO)    9357 non-null   float64       \n",
            " 2   C6H6(GT)       9357 non-null   float64       \n",
            " 3   PT08.S2(NMHC)  9357 non-null   float64       \n",
            " 4   PT08.S3(NOx)   9357 non-null   float64       \n",
            " 5   PT08.S4(NO2)   9357 non-null   float64       \n",
            " 6   PT08.S5(O3)    9357 non-null   float64       \n",
            " 7   T              9357 non-null   float64       \n",
            " 8   RH             9357 non-null   float64       \n",
            " 9   AH             9357 non-null   float64       \n",
            " 10  Year           9357 non-null   int64         \n",
            " 11  Month          9357 non-null   int64         \n",
            " 12  Day            9357 non-null   int64         \n",
            " 13  Day Name       9357 non-null   object        \n",
            "dtypes: datetime64[ns](1), float64(9), int64(3), object(1)\n",
            "memory usage: 1.1+ MB\n"
          ]
        }
      ]
    },
    {
      "cell_type": "markdown",
      "metadata": {
        "id": "XpefFKryHnV_"
      },
      "source": [
        "The description for all the columns containing data for air pollutants, temperature, relative humidity and absolute humidity is provided below.\n",
        "\n",
        "\n",
        "|Columns|Description|\n",
        "|-|-|\n",
        "|PT08.S1(CO)|PT08.S1 (tin oxide) hourly averaged sensor response (nominally $\\text{CO}$ targeted)|\n",
        "|C6H6(GT)|True hourly averaged Benzene concentration in $\\frac{\\mu g}{m^3}$|\n",
        "|PT08.S2(NMHC)|PT08.S2 (titania) hourly averaged sensor response (nominally $\\text{NMHC}$ targeted)|\n",
        "|PT08.S3(NOx)|PT08.S3 (tungsten oxide) hourly averaged sensor response (nominally $\\text{NO}_x$ targeted)|\n",
        "|PT08.S4(NO2)|PT08.S4 (tungsten oxide) hourly averaged sensor response (nominally $\\text{NO}_2$ targeted)|\n",
        "|PT08.S5(O3) |PT08.S5 (indium oxide) hourly averaged sensor response (nominally $\\text{O}_3$ targeted)|\n",
        "|T|Temperature in Â°C|\n",
        "|RH|Relative Humidity (%)|\n",
        "|AH|AH Absolute Humidity|"
      ]
    },
    {
      "cell_type": "code",
      "metadata": {
        "id": "8kRDMaMHAfLv",
        "colab": {
          "base_uri": "https://localhost:8080/",
          "height": 591
        },
        "outputId": "a45e173c-201a-485d-e7f9-99133a9ffa3a"
      },
      "source": [
        "# Heatmap to pinpoint the columns in the 'df' DataFrame exhibiting high correlation.\n",
        "corr_df = df.iloc[:, 1:-4].corr()\n",
        "plt.figure(figsize = (10, 6), dpi = 96)\n",
        "sns.heatmap(data = corr_df, annot = True) # 'annot=True' fills the R values in the heatmap cells.\n",
        "plt.show()"
      ],
      "execution_count": null,
      "outputs": [
        {
          "output_type": "display_data",
          "data": {
            "image/png": "[encoded data removed]",
            "text/plain": [
              "<Figure size 960x576 with 2 Axes>"
            ]
          },
          "metadata": {
            "needs_background": "light"
          }
        }
      ]
    },
    {
      "cell_type": "markdown",
      "metadata": {
        "id": "AsKszxp14Cj8"
      },
      "source": [
        "---"
      ]
    },
    {
      "cell_type": "markdown",
      "metadata": {
        "id": "6myfsJox3Tz2"
      },
      "source": [
        "#### Multiple Linear Regression Model Using `sklearn` Module\n"
      ]
    },
    {
      "cell_type": "code",
      "metadata": {
        "id": "m8d5faFMdTvz",
        "colab": {
          "base_uri": "https://localhost:8080/"
        },
        "outputId": "fc64a759-dcc5-4eec-cd33-3cf2ee050f9d"
      },
      "source": [
        "# S1.2: Build a linear regression model using the sklearn module by including all the features listed above.\n",
        "from sklearn.model_selection import train_test_split\n",
        "from sklearn.linear_model import LinearRegression\n",
        "\n",
        "features = list(df.columns.values[1:-1])\n",
        "features.remove('RH')\n",
        "\n",
        "X = df[features]\n",
        "y = df['RH']\n",
        "\n",
        "# Splitting the DataFrame into the train and test sets.\n",
        "X_train, X_test, y_train, y_test = train_test_split(X, y, test_size = 0.33, random_state = 42) # Test set will have 33% of the values.\n",
        "\n",
        "y_train_reshaped = y_train.values.reshape(-1, 1)\n",
        "y_test_reshaped = y_test.values.reshape(-1, 1)\n",
        "\n",
        "# Build linear regression model using the 'sklearn.linear_model' module.\n",
        "sklearn_lin_reg = LinearRegression()\n",
        "sklearn_lin_reg.fit(X_train, y_train_reshaped)\n",
        "\n",
        "# Print the value of the intercept i.e. beta-sub-0.\n",
        "print(\"\\nConstant\".ljust(15, \" \"), f\"{sklearn_lin_reg.intercept_[0]:.6f}\") # Soon you will get to know why rounding-off to 6 decimal places.\n",
        "\n",
        "# Print the names of the of the features along with the values of their correspding coefficients.\n",
        "for item in list(zip(X.columns.values, sklearn_lin_reg.coef_[0])):\n",
        "  print(f\"{item[0]}\".ljust(15, \" \"), f\"{item[1]:.6f}\") # Soon you will get to know why rounding-off to 6 decimal places."
      ],
      "execution_count": null,
      "outputs": [
        {
          "output_type": "stream",
          "name": "stdout",
          "text": [
            "\n",
            "Constant       -15028.451823\n",
            "PT08.S1(CO)     0.014833\n",
            "C6H6(GT)        -0.903464\n",
            "PT08.S2(NMHC)   -0.005881\n",
            "PT08.S3(NOx)    0.001503\n",
            "PT08.S4(NO2)    0.026497\n",
            "PT08.S5(O3)     -0.001066\n",
            "T               -2.354919\n",
            "AH              29.551742\n",
            "Year            7.505153\n",
            "Month           1.167861\n",
            "Day             0.035232\n"
          ]
        }
      ]
    },
    {
      "cell_type": "code",
      "metadata": {
        "id": "-BxonYJweOlM",
        "colab": {
          "base_uri": "https://localhost:8080/"
        },
        "outputId": "554ba869-5f82-453d-a637-8a00f72ec21b"
      },
      "source": [
        "# S1.3: Evalute the linear regression model using the 'r2_score', 'mean_squared_error' & 'mean_absolute_error' functions of the 'sklearn' module.\n",
        "from sklearn.metrics import r2_score, mean_squared_error, mean_absolute_error\n",
        "\n",
        "y_train_pred = sklearn_lin_reg.predict(X_train)\n",
        "y_test_pred = sklearn_lin_reg.predict(X_test)\n",
        "\n",
        "print(f\"Train Set\\n{'-' * 50}\")\n",
        "print(f\"R-squared: {r2_score(y_train_reshaped, y_train_pred):.3f}\")\n",
        "print(f\"Mean Squared Error: {mean_squared_error(y_train_reshaped, y_train_pred):.3f}\")\n",
        "print(f\"Root Mean Squared Error: {np.sqrt(mean_squared_error(y_train_reshaped, y_train_pred)):.3f}\")\n",
        "print(f\"Mean Absolute Error: {mean_absolute_error(y_train_reshaped, y_train_pred):.3f}\")\n",
        "      \n",
        "print(f\"\\n\\nTest Set\\n{'-' * 50}\")\n",
        "print(f\"R-squared: {r2_score(y_test_reshaped, y_test_pred):.3f}\")\n",
        "print(f\"Mean Squared Error: {mean_squared_error(y_test_reshaped, y_test_pred):.3f}\")\n",
        "print(f\"Root Mean Squared Error: {np.sqrt(mean_squared_error(y_test_reshaped, y_test_pred)):.3f}\")\n",
        "print(f\"Mean Absolute Error: {mean_absolute_error(y_test_reshaped, y_test_pred):.3f}\")"
      ],
      "execution_count": null,
      "outputs": [
        {
          "output_type": "stream",
          "name": "stdout",
          "text": [
            "Train Set\n",
            "--------------------------------------------------\n",
            "R-squared: 0.879\n",
            "Mean Squared Error: 35.116\n",
            "Root Mean Squared Error: 5.926\n",
            "Mean Absolute Error: 4.572\n",
            "\n",
            "\n",
            "Test Set\n",
            "--------------------------------------------------\n",
            "R-squared: 0.879\n",
            "Mean Squared Error: 34.702\n",
            "Root Mean Squared Error: 5.891\n",
            "Mean Absolute Error: 4.564\n"
          ]
        }
      ]
    },
    {
      "cell_type": "markdown",
      "metadata": {
        "id": "fr6JYLj5R2ZL"
      },
      "source": [
        "---"
      ]
    },
    {
      "cell_type": "markdown",
      "metadata": {
        "id": "V1Hdc-pvye7r"
      },
      "source": [
        "#### The `statsmodels.api` Module"
      ]
    },
    {
      "cell_type": "code",
      "metadata": {
        "id": "MyeNqK74emeV",
        "colab": {
          "base_uri": "https://localhost:8080/"
        },
        "outputId": "5ba04de7-fa96-4a96-f20e-d49c62651438"
      },
      "source": [
        "# Build a linear regression model using the 'statsmodels.api' module.\n",
        "import statsmodels.api as sm\n",
        "\n",
        "# Create data frames for the features and target again and also split them into the train and test sets.\n",
        "X = df[features]\n",
        "y = df['RH']\n",
        "\n",
        "X_train, X_test, y_train, y_test = train_test_split(X, y, test_size = 0.33, random_state = 42) # Test set will have 33% of the values.\n",
        "\n",
        "# Add a constant to get an intercept\n",
        "X_train_sm = sm.add_constant(X_train)\n",
        "\n",
        "# Fit the regression line using 'OLS'\n",
        "lr = sm.OLS(y_train, X_train_sm).fit()\n",
        "\n",
        "# Print the parameters, i.e. the intercept and the slope of the regression line fitted\n",
        "lr.params"
      ],
      "execution_count": null,
      "outputs": [
        {
          "output_type": "execute_result",
          "data": {
            "text/plain": [
              "const           -15028.451823\n",
              "PT08.S1(CO)          0.014833\n",
              "C6H6(GT)            -0.903464\n",
              "PT08.S2(NMHC)       -0.005881\n",
              "PT08.S3(NOx)         0.001503\n",
              "PT08.S4(NO2)         0.026497\n",
              "PT08.S5(O3)         -0.001066\n",
              "T                   -2.354919\n",
              "AH                  29.551742\n",
              "Year                 7.505153\n",
              "Month                1.167861\n",
              "Day                  0.035232\n",
              "dtype: float64"
            ]
          },
          "metadata": {},
          "execution_count": 5
        }
      ]
    },
    {
      "cell_type": "markdown",
      "metadata": {
        "id": "NxdMWw-EObIa"
      },
      "source": [
        "The above values for the constant and the coefficients of all the features are almost the same as the ones obtained through the `sklearn` linear regression model."
      ]
    },
    {
      "cell_type": "code",
      "metadata": {
        "id": "8xsgOhbGeyEI",
        "colab": {
          "base_uri": "https://localhost:8080/"
        },
        "outputId": "b9f1c053-c276-4aae-fb7d-3e6014d56f77"
      },
      "source": [
        "# Performing a summary operation lists out all the different parameters of the regression line fitted\n",
        "print(lr.summary())"
      ],
      "execution_count": null,
      "outputs": [
        {
          "output_type": "stream",
          "name": "stdout",
          "text": [
            "                            OLS Regression Results                            \n",
            "==============================================================================\n",
            "Dep. Variable:                     RH   R-squared:                       0.879\n",
            "Model:                            OLS   Adj. R-squared:                  0.878\n",
            "Method:                 Least Squares   F-statistic:                     4115.\n",
            "Date:                Mon, 17 Jan 2022   Prob (F-statistic):               0.00\n",
            "Time:                        10:40:24   Log-Likelihood:                -20050.\n",
            "No. Observations:                6269   AIC:                         4.012e+04\n",
            "Df Residuals:                    6257   BIC:                         4.020e+04\n",
            "Df Model:                          11                                         \n",
            "Covariance Type:            nonrobust                                         \n",
            "=================================================================================\n",
            "                    coef    std err          t      P>|t|      [0.025      0.975]\n",
            "---------------------------------------------------------------------------------\n",
            "const         -1.503e+04   1240.167    -12.118      0.000   -1.75e+04   -1.26e+04\n",
            "PT08.S1(CO)       0.0148      0.001     14.305      0.000       0.013       0.017\n",
            "C6H6(GT)         -0.9035      0.075    -12.092      0.000      -1.050      -0.757\n",
            "PT08.S2(NMHC)    -0.0059      0.002     -2.393      0.017      -0.011      -0.001\n",
            "PT08.S3(NOx)      0.0015      0.001      1.853      0.064   -8.67e-05       0.003\n",
            "PT08.S4(NO2)      0.0265      0.001     21.601      0.000       0.024       0.029\n",
            "PT08.S5(O3)      -0.0011      0.001     -1.945      0.052      -0.002    8.27e-06\n",
            "T                -2.3549      0.015   -160.240      0.000      -2.384      -2.326\n",
            "AH               29.5517      0.554     53.337      0.000      28.466      30.638\n",
            "Year              7.5052      0.618     12.148      0.000       6.294       8.716\n",
            "Month             1.1679      0.062     18.914      0.000       1.047       1.289\n",
            "Day               0.0352      0.009      4.040      0.000       0.018       0.052\n",
            "==============================================================================\n",
            "Omnibus:                      322.611   Durbin-Watson:                   1.966\n",
            "Prob(Omnibus):                  0.000   Jarque-Bera (JB):              416.392\n",
            "Skew:                           0.509   Prob(JB):                     3.82e-91\n",
            "Kurtosis:                       3.748   Cond. No.                     5.25e+07\n",
            "==============================================================================\n",
            "\n",
            "Warnings:\n",
            "[1] Standard Errors assume that the covariance matrix of the errors is correctly specified.\n",
            "[2] The condition number is large, 5.25e+07. This might indicate that there are\n",
            "strong multicollinearity or other numerical problems.\n"
          ]
        }
      ]
    },
    {
      "cell_type": "markdown",
      "metadata": {
        "id": "11BIhFCWiR1p"
      },
      "source": [
        "---"
      ]
    },
    {
      "cell_type": "markdown",
      "metadata": {
        "id": "y6YGoK4biSR9"
      },
      "source": [
        "#### Task 1: Ordinary Least Squares (OLS)\n",
        "\n",
        "Consider the regression equation\n",
        "\n",
        "$$Y = \\beta_0 + \\beta_1 x_1 + \\beta_2 x_2 + \\beta_3 x_3 + \\dots + \\beta_k x_k + \\epsilon$$\n",
        "\n",
        "where \n",
        "\n",
        "- $x_1, x_2, x_3, \\dots , x_k$ are independent variables or features\n",
        "\n",
        "- $Y$ is the response to the independent variable (or predicted value or dependent variable)\n",
        "\n",
        "- $\\beta_0, \\beta_1, \\beta_2, \\dots, \\beta_k$ are the corresponding regression coefficients of the independent variables\n",
        "\n",
        "- **$\\epsilon$** is the random error obtained along with the predicted value which follows normal distribution with mean $0$ and some standard deviation of $\\sigma$\n",
        "\n",
        "\n",
        "The parameters $\\beta_0, \\beta_1, \\beta_2, \\dots, \\beta_n$ and $\\sigma$ are assumed to be unknown and must be estimated from the data, which we shall suppose will consist of the values of $Y_1, Y_2, Y_3, \\dots , Y_n$ where $Y_i$ is the response level corresponding to the $k$ features $x_{i1}, \\dots , x_{i2}, \\dots , x_{ik}$ . That is, the $Y_i$ are related to these features through\n",
        "\n",
        "$$E[Y_i] = \\beta_0 + \\beta_1 x_{i1} + \\beta_2 x_{i2} + \\beta_3 x_{i3} + \\dots + \\beta_k x_{ik}$$\n",
        "\n",
        "where \n",
        "\n",
        "- $E[Y_i]$ means **expected value** for an instance $i$. In simple terms, instance or $i$ denotes a row in a data frame\n",
        "\n",
        "- $x_{i1}$ denotes item at the $i^{\\text{th}}$ row in the $1^{\\text{st}}$ column in a data frame having only features\n",
        "\n",
        "- $x_{i2}$ denotes item at the $i^{\\text{th}}$ row in the $2^{\\text{nd}}$ column in a data frame having only features\n",
        "\n",
        "- $x_{i3}$ denotes item at the $i^{\\text{th}}$ row in the $3^{\\text{rd}}$ column in a data frame having only features\n",
        "\n",
        "  $\\dots$\n",
        "\n",
        "- $x_{ik}$ denotes item at the $i^{\\text{th}}$ row in the $k^{\\text{th}}$ column in a data frame having only features\n",
        "\n",
        "For e.g., in the `X` DataFrame there are $9357$ rows. So let $x_1, x_2, x_3, \\dots , x_{11}$ denote $\\text{CO}, \\text{C}_6 \\text{H}_6, \\text{NMHC}, \\dots, \\text{day}$ respectively.\n",
        "\n",
        "Now let's display the first-three and last-three rows of the features.\n"
      ]
    },
    {
      "cell_type": "code",
      "metadata": {
        "id": "pCcd5tE-n66y",
        "colab": {
          "base_uri": "https://localhost:8080/",
          "height": 143
        },
        "outputId": "f6f6cb40-3c91-4e58-e840-f983a5606231"
      },
      "source": [
        "# S1.1: Display the first-three rows.\n",
        "X_train.head(3)"
      ],
      "execution_count": null,
      "outputs": [
        {
          "output_type": "execute_result",
          "data": {
            "text/html": [
              "\n",
              "  <div id=\"df-b643d0b0-47fa-4327-94e1-65c8bf35f359\">\n",
              "    <div class=\"colab-df-container\">\n",
              "      <div>\n",
              "<style scoped>\n",
              "    .dataframe tbody tr th:only-of-type {\n",
              "        vertical-align: middle;\n",
              "    }\n",
              "\n",
              "    .dataframe tbody tr th {\n",
              "        vertical-align: top;\n",
              "    }\n",
              "\n",
              "    .dataframe thead th {\n",
              "        text-align: right;\n",
              "    }\n",
              "</style>\n",
              "<table border=\"1\" class=\"dataframe\">\n",
              "  <thead>\n",
              "    <tr style=\"text-align: right;\">\n",
              "      <th></th>\n",
              "      <th>PT08.S1(CO)</th>\n",
              "      <th>C6H6(GT)</th>\n",
              "      <th>PT08.S2(NMHC)</th>\n",
              "      <th>PT08.S3(NOx)</th>\n",
              "      <th>PT08.S4(NO2)</th>\n",
              "      <th>PT08.S5(O3)</th>\n",
              "      <th>T</th>\n",
              "      <th>AH</th>\n",
              "      <th>Year</th>\n",
              "      <th>Month</th>\n",
              "      <th>Day</th>\n",
              "    </tr>\n",
              "  </thead>\n",
              "  <tbody>\n",
              "    <tr>\n",
              "      <th>2653</th>\n",
              "      <td>1384.0</td>\n",
              "      <td>23.5</td>\n",
              "      <td>1391.0</td>\n",
              "      <td>552.0</td>\n",
              "      <td>2316.0</td>\n",
              "      <td>1548.0</td>\n",
              "      <td>24.7</td>\n",
              "      <td>1.5201</td>\n",
              "      <td>2004</td>\n",
              "      <td>6</td>\n",
              "      <td>29</td>\n",
              "    </tr>\n",
              "    <tr>\n",
              "      <th>5471</th>\n",
              "      <td>1277.0</td>\n",
              "      <td>11.8</td>\n",
              "      <td>1043.0</td>\n",
              "      <td>614.0</td>\n",
              "      <td>1631.0</td>\n",
              "      <td>1155.0</td>\n",
              "      <td>25.0</td>\n",
              "      <td>1.5630</td>\n",
              "      <td>2004</td>\n",
              "      <td>10</td>\n",
              "      <td>24</td>\n",
              "    </tr>\n",
              "    <tr>\n",
              "      <th>5681</th>\n",
              "      <td>1570.0</td>\n",
              "      <td>32.9</td>\n",
              "      <td>1617.0</td>\n",
              "      <td>426.0</td>\n",
              "      <td>2170.0</td>\n",
              "      <td>1944.0</td>\n",
              "      <td>22.1</td>\n",
              "      <td>1.4851</td>\n",
              "      <td>2004</td>\n",
              "      <td>11</td>\n",
              "      <td>2</td>\n",
              "    </tr>\n",
              "  </tbody>\n",
              "</table>\n",
              "</div>\n",
              "      <button class=\"colab-df-convert\" onclick=\"convertToInteractive('df-b643d0b0-47fa-4327-94e1-65c8bf35f359')\"\n",
              "              title=\"Convert this dataframe to an interactive table.\"\n",
              "              style=\"display:none;\">\n",
              "        \n",
              "  <svg xmlns=\"http://www.w3.org/2000/svg\" height=\"24px\"viewBox=\"0 0 24 24\"\n",
              "       width=\"24px\">\n",
              "    <path d=\"M0 0h24v24H0V0z\" fill=\"none\"/>\n",
              "    <path d=\"M18.56 5.44l.94 2.06.94-2.06 2.06-.94-2.06-.94-.94-2.06-.94 2.06-2.06.94zm-11 1L8.5 8.5l.94-2.06 2.06-.94-2.06-.94L8.5 2.5l-.94 2.06-2.06.94zm10 10l.94 2.06.94-2.06 2.06-.94-2.06-.94-.94-2.06-.94 2.06-2.06.94z\"/><path d=\"M17.41 7.96l-1.37-1.37c-.4-.4-.92-.59-1.43-.59-.52 0-1.04.2-1.43.59L10.3 9.45l-7.72 7.72c-.78.78-.78 2.05 0 2.83L4 21.41c.39.39.9.59 1.41.59.51 0 1.02-.2 1.41-.59l7.78-7.78 2.81-2.81c.8-.78.8-2.07 0-2.86zM5.41 20L4 18.59l7.72-7.72 1.47 1.35L5.41 20z\"/>\n",
              "  </svg>\n",
              "      </button>\n",
              "      \n",
              "  <style>\n",
              "    .colab-df-container {\n",
              "      display:flex;\n",
              "      flex-wrap:wrap;\n",
              "      gap: 12px;\n",
              "    }\n",
              "\n",
              "    .colab-df-convert {\n",
              "      background-color: #E8F0FE;\n",
              "      border: none;\n",
              "      border-radius: 50%;\n",
              "      cursor: pointer;\n",
              "      display: none;\n",
              "      fill: #1967D2;\n",
              "      height: 32px;\n",
              "      padding: 0 0 0 0;\n",
              "      width: 32px;\n",
              "    }\n",
              "\n",
              "    .colab-df-convert:hover {\n",
              "      background-color: #E2EBFA;\n",
              "      box-shadow: 0px 1px 2px rgba(60, 64, 67, 0.3), 0px 1px 3px 1px rgba(60, 64, 67, 0.15);\n",
              "      fill: #174EA6;\n",
              "    }\n",
              "\n",
              "    [theme=dark] .colab-df-convert {\n",
              "      background-color: #3B4455;\n",
              "      fill: #D2E3FC;\n",
              "    }\n",
              "\n",
              "    [theme=dark] .colab-df-convert:hover {\n",
              "      background-color: #434B5C;\n",
              "      box-shadow: 0px 1px 3px 1px rgba(0, 0, 0, 0.15);\n",
              "      filter: drop-shadow(0px 1px 2px rgba(0, 0, 0, 0.3));\n",
              "      fill: #FFFFFF;\n",
              "    }\n",
              "  </style>\n",
              "\n",
              "      <script>\n",
              "        const buttonEl =\n",
              "          document.querySelector('#df-b643d0b0-47fa-4327-94e1-65c8bf35f359 button.colab-df-convert');\n",
              "        buttonEl.style.display =\n",
              "          google.colab.kernel.accessAllowed ? 'block' : 'none';\n",
              "\n",
              "        async function convertToInteractive(key) {\n",
              "          const element = document.querySelector('#df-b643d0b0-47fa-4327-94e1-65c8bf35f359');\n",
              "          const dataTable =\n",
              "            await google.colab.kernel.invokeFunction('convertToInteractive',\n",
              "                                                     [key], {});\n",
              "          if (!dataTable) return;\n",
              "\n",
              "          const docLinkHtml = 'Like what you see? Visit the ' +\n",
              "            '<a target=\"_blank\" href=https://colab.research.google.com/notebooks/data_table.ipynb>data table notebook</a>'\n",
              "            + ' to learn more about interactive tables.';\n",
              "          element.innerHTML = '';\n",
              "          dataTable['output_type'] = 'display_data';\n",
              "          await google.colab.output.renderOutput(dataTable, element);\n",
              "          const docLink = document.createElement('div');\n",
              "          docLink.innerHTML = docLinkHtml;\n",
              "          element.appendChild(docLink);\n",
              "        }\n",
              "      </script>\n",
              "    </div>\n",
              "  </div>\n",
              "  "
            ],
            "text/plain": [
              "      PT08.S1(CO)  C6H6(GT)  PT08.S2(NMHC)  ...  Year  Month  Day\n",
              "2653       1384.0      23.5         1391.0  ...  2004      6   29\n",
              "5471       1277.0      11.8         1043.0  ...  2004     10   24\n",
              "5681       1570.0      32.9         1617.0  ...  2004     11    2\n",
              "\n",
              "[3 rows x 11 columns]"
            ]
          },
          "metadata": {},
          "execution_count": 7
        }
      ]
    },
    {
      "cell_type": "code",
      "metadata": {
        "id": "rJcREpSTo8BZ",
        "colab": {
          "base_uri": "https://localhost:8080/",
          "height": 143
        },
        "outputId": "b11cf567-0ceb-4e71-f51a-63d85cb4f8b0"
      },
      "source": [
        "# S1.2: Display the last-three rows.\n",
        "X_test.head(3)\n"
      ],
      "execution_count": null,
      "outputs": [
        {
          "output_type": "execute_result",
          "data": {
            "text/html": [
              "\n",
              "  <div id=\"df-209d488e-85a4-43c4-839a-21882564ad30\">\n",
              "    <div class=\"colab-df-container\">\n",
              "      <div>\n",
              "<style scoped>\n",
              "    .dataframe tbody tr th:only-of-type {\n",
              "        vertical-align: middle;\n",
              "    }\n",
              "\n",
              "    .dataframe tbody tr th {\n",
              "        vertical-align: top;\n",
              "    }\n",
              "\n",
              "    .dataframe thead th {\n",
              "        text-align: right;\n",
              "    }\n",
              "</style>\n",
              "<table border=\"1\" class=\"dataframe\">\n",
              "  <thead>\n",
              "    <tr style=\"text-align: right;\">\n",
              "      <th></th>\n",
              "      <th>PT08.S1(CO)</th>\n",
              "      <th>C6H6(GT)</th>\n",
              "      <th>PT08.S2(NMHC)</th>\n",
              "      <th>PT08.S3(NOx)</th>\n",
              "      <th>PT08.S4(NO2)</th>\n",
              "      <th>PT08.S5(O3)</th>\n",
              "      <th>T</th>\n",
              "      <th>AH</th>\n",
              "      <th>Year</th>\n",
              "      <th>Month</th>\n",
              "      <th>Day</th>\n",
              "    </tr>\n",
              "  </thead>\n",
              "  <tbody>\n",
              "    <tr>\n",
              "      <th>2973</th>\n",
              "      <td>933.0</td>\n",
              "      <td>6.4</td>\n",
              "      <td>831.0</td>\n",
              "      <td>888.0</td>\n",
              "      <td>1514.0</td>\n",
              "      <td>710.0</td>\n",
              "      <td>26.0</td>\n",
              "      <td>1.1509</td>\n",
              "      <td>2004</td>\n",
              "      <td>7</td>\n",
              "      <td>12</td>\n",
              "    </tr>\n",
              "    <tr>\n",
              "      <th>3396</th>\n",
              "      <td>894.0</td>\n",
              "      <td>4.9</td>\n",
              "      <td>761.0</td>\n",
              "      <td>862.0</td>\n",
              "      <td>1504.0</td>\n",
              "      <td>768.0</td>\n",
              "      <td>23.0</td>\n",
              "      <td>1.3849</td>\n",
              "      <td>2004</td>\n",
              "      <td>7</td>\n",
              "      <td>30</td>\n",
              "    </tr>\n",
              "    <tr>\n",
              "      <th>4372</th>\n",
              "      <td>1226.0</td>\n",
              "      <td>14.6</td>\n",
              "      <td>1138.0</td>\n",
              "      <td>862.0</td>\n",
              "      <td>1481.0</td>\n",
              "      <td>1419.0</td>\n",
              "      <td>25.1</td>\n",
              "      <td>1.0131</td>\n",
              "      <td>2004</td>\n",
              "      <td>9</td>\n",
              "      <td>8</td>\n",
              "    </tr>\n",
              "  </tbody>\n",
              "</table>\n",
              "</div>\n",
              "      <button class=\"colab-df-convert\" onclick=\"convertToInteractive('df-209d488e-85a4-43c4-839a-21882564ad30')\"\n",
              "              title=\"Convert this dataframe to an interactive table.\"\n",
              "              style=\"display:none;\">\n",
              "        \n",
              "  <svg xmlns=\"http://www.w3.org/2000/svg\" height=\"24px\"viewBox=\"0 0 24 24\"\n",
              "       width=\"24px\">\n",
              "    <path d=\"M0 0h24v24H0V0z\" fill=\"none\"/>\n",
              "    <path d=\"M18.56 5.44l.94 2.06.94-2.06 2.06-.94-2.06-.94-.94-2.06-.94 2.06-2.06.94zm-11 1L8.5 8.5l.94-2.06 2.06-.94-2.06-.94L8.5 2.5l-.94 2.06-2.06.94zm10 10l.94 2.06.94-2.06 2.06-.94-2.06-.94-.94-2.06-.94 2.06-2.06.94z\"/><path d=\"M17.41 7.96l-1.37-1.37c-.4-.4-.92-.59-1.43-.59-.52 0-1.04.2-1.43.59L10.3 9.45l-7.72 7.72c-.78.78-.78 2.05 0 2.83L4 21.41c.39.39.9.59 1.41.59.51 0 1.02-.2 1.41-.59l7.78-7.78 2.81-2.81c.8-.78.8-2.07 0-2.86zM5.41 20L4 18.59l7.72-7.72 1.47 1.35L5.41 20z\"/>\n",
              "  </svg>\n",
              "      </button>\n",
              "      \n",
              "  <style>\n",
              "    .colab-df-container {\n",
              "      display:flex;\n",
              "      flex-wrap:wrap;\n",
              "      gap: 12px;\n",
              "    }\n",
              "\n",
              "    .colab-df-convert {\n",
              "      background-color: #E8F0FE;\n",
              "      border: none;\n",
              "      border-radius: 50%;\n",
              "      cursor: pointer;\n",
              "      display: none;\n",
              "      fill: #1967D2;\n",
              "      height: 32px;\n",
              "      padding: 0 0 0 0;\n",
              "      width: 32px;\n",
              "    }\n",
              "\n",
              "    .colab-df-convert:hover {\n",
              "      background-color: #E2EBFA;\n",
              "      box-shadow: 0px 1px 2px rgba(60, 64, 67, 0.3), 0px 1px 3px 1px rgba(60, 64, 67, 0.15);\n",
              "      fill: #174EA6;\n",
              "    }\n",
              "\n",
              "    [theme=dark] .colab-df-convert {\n",
              "      background-color: #3B4455;\n",
              "      fill: #D2E3FC;\n",
              "    }\n",
              "\n",
              "    [theme=dark] .colab-df-convert:hover {\n",
              "      background-color: #434B5C;\n",
              "      box-shadow: 0px 1px 3px 1px rgba(0, 0, 0, 0.15);\n",
              "      filter: drop-shadow(0px 1px 2px rgba(0, 0, 0, 0.3));\n",
              "      fill: #FFFFFF;\n",
              "    }\n",
              "  </style>\n",
              "\n",
              "      <script>\n",
              "        const buttonEl =\n",
              "          document.querySelector('#df-209d488e-85a4-43c4-839a-21882564ad30 button.colab-df-convert');\n",
              "        buttonEl.style.display =\n",
              "          google.colab.kernel.accessAllowed ? 'block' : 'none';\n",
              "\n",
              "        async function convertToInteractive(key) {\n",
              "          const element = document.querySelector('#df-209d488e-85a4-43c4-839a-21882564ad30');\n",
              "          const dataTable =\n",
              "            await google.colab.kernel.invokeFunction('convertToInteractive',\n",
              "                                                     [key], {});\n",
              "          if (!dataTable) return;\n",
              "\n",
              "          const docLinkHtml = 'Like what you see? Visit the ' +\n",
              "            '<a target=\"_blank\" href=https://colab.research.google.com/notebooks/data_table.ipynb>data table notebook</a>'\n",
              "            + ' to learn more about interactive tables.';\n",
              "          element.innerHTML = '';\n",
              "          dataTable['output_type'] = 'display_data';\n",
              "          await google.colab.output.renderOutput(dataTable, element);\n",
              "          const docLink = document.createElement('div');\n",
              "          docLink.innerHTML = docLinkHtml;\n",
              "          element.appendChild(docLink);\n",
              "        }\n",
              "      </script>\n",
              "    </div>\n",
              "  </div>\n",
              "  "
            ],
            "text/plain": [
              "      PT08.S1(CO)  C6H6(GT)  PT08.S2(NMHC)  ...  Year  Month  Day\n",
              "2973        933.0       6.4          831.0  ...  2004      7   12\n",
              "3396        894.0       4.9          761.0  ...  2004      7   30\n",
              "4372       1226.0      14.6         1138.0  ...  2004      9    8\n",
              "\n",
              "[3 rows x 11 columns]"
            ]
          },
          "metadata": {},
          "execution_count": 13
        }
      ]
    },
    {
      "cell_type": "markdown",
      "metadata": {
        "id": "_7PL-T-aoGV_"
      },
      "source": [
        "So $E[Y_1]$ denotes the predicted value for the first row values in the `X` DataFrame containing features i.e.\n",
        "\n",
        "$$E[Y_1] = \\beta_0 + \\beta_1 \\times 1360.0 + \\beta_2 \\times 11.9 + \\beta_3 \\times 1046.0 + \\dots + \\beta_{11} \\times 10$$\n",
        "\n",
        "Similarly,\n",
        "\n",
        "$$E[Y_2] = \\beta_0 + \\beta_1 \\times 1292.0 + \\beta_2 \\times 9.4 + \\beta_3 \\times 955.0 + \\dots + \\beta_{11} \\times 10$$\n",
        "\n",
        "$$E[Y_3] = \\beta_0 + \\beta_1 \\times 1402.0 + \\beta_2 \\times 9.0 + \\beta_3 \\times 939.0 + \\dots + \\beta_{11} \\times 10$$\n",
        "\n",
        "$$\\vdots$$\n",
        "\n",
        "$$E[Y_{9357}] = \\beta_0 + \\beta_1 \\times 1071.0 + \\beta_2 \\times 11.9 + \\beta_3 \\times 1047.0 + \\dots + \\beta_{11} \\times 4$$\n",
        "\n",
        "*There are a total of 9357 rows in the dataset.*\n",
        "\n",
        "As we said earlier, the difference between the actual and the predicted values should be 0 or close to 0 for an accurate prediction model i.e.\n",
        "\n",
        "$$Y_1 - E[Y_1] \\approx 0$$\n",
        "\n",
        "$$Y_2 - E[Y_2] \\approx 0$$\n",
        "\n",
        "$$Y_3 - E[Y_3] \\approx 0$$\n",
        "\n",
        "$$\\vdots$$\n",
        "\n",
        "$$Y_N - E[Y_N] \\approx 0$$\n",
        "\n",
        "where $N$ is the total number of instances (or rows in a data frame).\n",
        "\n",
        "**The OLS says that the sum of squares of all these errors i.e.**\n",
        "\n",
        "$$J = (Y_1 - E[Y_1])^2 + (Y_2 - E[Y_2])^2 + (Y_3 - E[Y_3])^2 + \\dots + (Y_N - E[Y_N])^2$$\n",
        "\n",
        "**should be the least or minimum.** \n",
        "\n",
        "The above expression can be compressed as\n",
        "$$J = \\sum_{i = 1}^{N}(Y_i - E[Y_i])^2$$\n",
        "\n",
        "So in general, it can be written as\n",
        "\n",
        "$$J(\\beta, x) = \\sum_{i = 1}^{N}(Y_i - \\beta_0 - \\beta_1 x_{i1} - \\beta_2 x_{i2} - \\beta_3 x_{i3} - \\dots - \\beta_k x_{ik})^2 $$\n",
        "\n",
        "where $J(\\beta, x)$ denotes the sum of the squared errors is dependent on the coefficients ($\\beta_0, \\beta_1, \\beta_2, \\dots, \\beta_k$) and features ($x_1, x_2, x_3, \\dots , x_k$)\n",
        "\n",
        "\n",
        "**Note:** Beyond this point, a student should know calculus to understand the subsequent points discussed.\n",
        "\n",
        "The above function represents a three-dimensional curve similar to the one shown in the image below.\n",
        "\n",
        "<center><img src = 'https://www.mathworks.com/matlabcentral/mlc-downloads/downloads/submissions/14498/versions/1/screenshot.jpg' width = 800></center>\n",
        "\n",
        "**Image credits:** *https://www.mathworks.com/matlabcentral/mlc-downloads/downloads/submissions/14498/versions/1/screenshot.jpg*\n",
        "\n",
        "To find the points of maxima (peak) or minima (valley), we differentiate a mathematical function w.r.t. independent variable and equate the result obtained to 0 because the slope of a curve at the point of maxima (peak) or minima (valley) is 0. Differentiation (or derivative) represents slope at a point.\n",
        "\n",
        "In the above equation, all the $x$ quantities are known quantities as we have seen earlier. So the $\\beta_0, \\beta_1, \\beta_2, \\dots, \\beta_k$ are unknown quantities. Thus, they are independent variables.\n",
        "\n",
        "Here $\\beta_0, \\beta_1, \\beta_2, \\dots, \\beta_k$ are independent of each other. Hence, we can do partial differentiation w.r.t. to each of the betas independently.\n",
        "\n",
        "Let's differentiate $J(\\beta, x)$ w.r.t. $\\beta_0$. So every other term apart from $\\beta_0$ will be treated as a constant. And the differentiation (or derivative) of a constant is 0.\n",
        "\n",
        "$$\\frac{\\partial J}{\\partial \\beta_0} = 2 \\sum_{i = 1}^{N}(Y_i - \\beta_0 - \\beta_1 x_{i1} - \\beta_2 x_{i2} - \\beta_3 x_{i3} - \\dots - \\beta_k x_{ik})(-1) = 0$$\n",
        "\n",
        "$$\\Rightarrow \\sum_{i = 1}^{N}(Y_i - \\beta_0 - \\beta_1 x_{i1} - \\beta_2 x_{i2} - \\beta_3 x_{i3} - \\dots - \\beta_k x_{ik}) = 0$$\n",
        "\n",
        "Similarly, \n",
        "\n",
        "$$\\frac{\\partial J}{\\partial \\beta_1} = 2 \\sum_{i = 1}^{N}(Y_i - \\beta_0 - \\beta_1 x_{i1} - \\beta_2 x_{i2} - \\beta_3 x_{i3} - \\dots - \\beta_k x_{ik})(-x_{i1}) = 0$$\n",
        "\n",
        "$$\\Rightarrow \\sum_{i = 1}^{N}(Y_i - \\beta_0 - \\beta_1 x_{i1} - \\beta_2 x_{i2} - \\beta_3 x_{i3} - \\dots - \\beta_k x_{ik})x_{i1} = 0$$\n",
        "\n",
        "$$\\frac{\\partial J}{\\partial \\beta_2} = 2 \\sum_{i = 1}^{N}(Y_i - \\beta_0 - \\beta_1 x_{i1} - \\beta_2 x_{i2} - \\beta_3 x_{i3} - \\dots - \\beta_k x_{ik})(-x_{i2}) = 0$$\n",
        "\n",
        "$$\\Rightarrow \\sum_{i = 1}^{N}(Y_i - \\beta_0 - \\beta_1 x_{i1} - \\beta_2 x_{i2} - \\beta_3 x_{i3} - \\dots - \\beta_k x_{ik})x_{i2} = 0$$\n",
        "\n",
        "$$\\vdots$$\n",
        "\n",
        "$$\\frac{\\partial J}{\\partial \\beta_k} = 2 \\sum_{i = 1}^{N}(Y_i - \\beta_0 - \\beta_1 x_{i1} - \\beta_2 x_{i2} - \\beta_3 x_{i3} - \\dots - \\beta_k x_{ik})(-x_{ik}) = 0$$\n",
        "\n",
        "$$\\Rightarrow \\sum_{i = 1}^{N}(Y_i - \\beta_0 - \\beta_1 x_{i1} - \\beta_2 x_{i2} - \\beta_3 x_{i3} - \\dots - \\beta_k x_{ik})x_{ik} = 0$$\n",
        "\n",
        "\n",
        "On further reducing the above $k + 1$ equations, we get\n",
        "\n",
        "$$\\sum_{i = 1}^{N}Y_i = N \\beta_0 + \\beta_1 \\sum_{i = 1}^{N}x_{i1} + \\beta_2 \\sum_{i = 1}^{N}x_{i2} +  \\dots + \\beta_k \\sum_{i = 1}^{N} x_{ik}$$\n",
        "\n",
        "$$\\sum_{i = 1}^{N}Y_i x_{i1} = \\beta_0 \\sum_{i = 1}^{N}x_{i1} + \\beta_1 \\sum_{i = 1}^{N}x_{i1}^2 + \\beta_2 \\sum_{i = 1}^{N} x_{i1} x_{i2} + \\dots + \\beta_k \\sum_{i = 1}^{N} x_{i1} x_{ik}$$\n",
        "\n",
        "$$\\vdots$$\n",
        "\n",
        "$$\\sum_{i = 1}^{N}Y_i x_{ik} = \\beta_0 \\sum_{i = 1}^{N}x_{ik} + \\beta_1 \\sum_{i = 1}^{N} x_{ik} x_{i1} + \\beta_2 \\sum_{i = 1}^{N} x_{ik} x_{i2} + \\dots + \\beta_k \\sum_{i = 1}^{N} x_{ik}^2$$\n",
        "\n",
        "\n",
        "Now we have $k + 1$ linear equations having $k + 1$ unknowns i.e. $\\beta_0, \\beta_1, \\beta_2, \\dots, \\beta_k$ . By solving these $k + 1$ equations, we can get the beta values. This is exactly the same as solving two linear equations having two unknowns. For e.g., the solution to the two linear equations \n",
        "\n",
        "$$8\\beta_0 + 7\\beta_1 = 38 \\space{} \\text{and} \\space{} 3 \\beta_0 - 5 \\beta_1 = -1$$\n",
        "\n",
        "is \n",
        "$$\\beta_0 = 3 \\space{} \\text{and} \\space{} \\beta_1 = 2$$\n",
        "\n",
        "So all-in-all, **ordinary least  squares** says that **find the values of the coefficients ($\\beta_0, \\beta_1, \\beta_2, \\dots, \\beta_k$) such that the sum of the squares of differences between the actual values and the predicted values is minimum.**\n",
        "\n",
        "To solve $k + 1$ linear equations having $k + 1$ unknowns, you need to know matrices."
      ]
    },
    {
      "cell_type": "markdown",
      "metadata": {
        "id": "rhlJuFINQW5K"
      },
      "source": [
        "---"
      ]
    },
    {
      "cell_type": "markdown",
      "metadata": {
        "id": "uJ6pye25XzuK"
      },
      "source": [
        "#### Matrices\n",
        "\n",
        "The linear equations:\n",
        "\n",
        "$$8 \\beta_0 + 7 \\beta_1 = 38$$\n",
        "\n",
        "$$3 \\beta_0 - 5 \\beta_1 = -1$$\n",
        "\n",
        "These can also be written in the form of a matrix as:\n",
        "\n",
        "$$\\begin{bmatrix} 8 & 7 \\\\ 3\t& -5\t\\\\\\end{bmatrix} \\begin{bmatrix} \\beta_0 \\\\ \\beta_1 \\\\\\end{bmatrix} = \\begin{bmatrix} 38 \\\\ -1 \\\\\\end{bmatrix}$$\n",
        "\n",
        "Let's learn what exactly is the above equation.\n",
        "\n",
        "A matrix is a two-dimensional representation of numbers in the form of rows and columns. Here, \n",
        "\n",
        "$$\\begin{bmatrix} 8 & 7 \\\\ 3\t& -5\t\\\\\\end{bmatrix}$$\n",
        "\n",
        "This is one matrix of having 2 rows and 2 columns. So its dimension is $2 \\times 2$. **The dimension of a matrix shows the number of rows and columns present in a matrix.** Let the above matrix be $X$. So\n",
        "\n",
        "$$X_{2 \\times 2} = \\begin{bmatrix} 8 & 7 \\\\ 3\t& -5\t\\\\\\end{bmatrix}$$\n",
        "\n",
        "The matrix $\\begin{align} \\begin{bmatrix} \\beta_0 \\\\ \\beta_1 \\\\\\end{bmatrix} \\end{align}$ has 2 rows and 1 column. So its dimension is $2 \\times 1$. \n",
        "\n",
        "Let it be $B$. So $B_{2 \\times 1} = \\begin{bmatrix} \\beta_0 \\\\ \\beta_1 \\\\\\end{bmatrix}$\n",
        "\n",
        "And the third matrix $\\begin{bmatrix} 38 \\\\ -1 \\\\\\end{bmatrix}$\n",
        "also has 2 rows and 1 column. So its dimension is $2 \\times 1$ as well. \n",
        "\n",
        "Let it be $E$. So $E_{2 \\times 1} = \\begin{bmatrix} 38 \\\\ -1 \\\\\\end{bmatrix}$\n",
        "\n",
        "Hence, we have\n",
        "\n",
        "$X_{2 \\times 2}  B_{2 \\times 1} = E_{2 \\times 1}$\n",
        "\n",
        "or\n",
        "\n",
        "$X B = E$\n",
        "\n",
        "The left-hand side of the matrix equation \n",
        "\n",
        "$$\\begin{bmatrix} 8 & 7 \\\\ 3\t& -5\t\\\\\\end{bmatrix} \\begin{bmatrix} \\beta_0 \\\\ \\beta_1 \\\\\\end{bmatrix} = \\begin{bmatrix} 38 \\\\ -1 \\\\\\end{bmatrix}$$\n",
        "\n",
        "This is the product of two matrices. So let's learn how to multiply two matrices.\n"
      ]
    },
    {
      "cell_type": "markdown",
      "metadata": {
        "id": "5QiZMBh2FgTH"
      },
      "source": [
        "---"
      ]
    },
    {
      "cell_type": "markdown",
      "metadata": {
        "id": "LZweTYbIXCkg"
      },
      "source": [
        "##### **Matrix Multiplication**\n",
        "\n",
        "**To multiply two matrices, the number of columns in the first matrix should be the same as the number of rows in the second matrix.**\n",
        "\n",
        "So in the equation\n",
        "$$X B = E$$\n",
        "\n",
        "The matrix $X$ has 2 columns and the matrix $B$ has 2 rows. Hence, the above matrix multiplication is valid.\n",
        "\n",
        "In general, if the first matrix has $m$ rows and $n$ columns i.e. $X_{m \\times n}$ and the second matrix has $n$ rows and $p$ columns i.e. $B_{n \\times p}$. Then their product matrix will have $m$ rows and $p$ columns i.e. $E_{m \\times p}$ i.e.\n",
        "\n",
        "$$X_{m \\times n} B_{n \\times p} = E_{m \\times p}$$\n",
        "\n",
        "**Note:** Matrix multiplication is not commutative i.e. \n",
        "\n",
        "$$XB \\neq BX$$ \n",
        "\n",
        "In this case, \n",
        "\n",
        "$$\\begin{bmatrix} 8 & 7 \\\\ 3\t& -5\t\\\\\\end{bmatrix} \\begin{bmatrix} \\beta_0 \\\\ \\beta_1 \\\\\\end{bmatrix} \\neq \\begin{bmatrix} \\beta_0 \\\\ \\beta_1 \\\\\\end{bmatrix}\\begin{bmatrix} 8 & 7 \\\\ 3\t& -5\t\\\\\\end{bmatrix}$$\n",
        "\n",
        "The right-hand side of the inequation is an invalid multiplication because the first matrix has only 1 column and the second matrix has 2 rows. \n",
        "\n",
        "To multiply two matrices, multiply the elements of the\n",
        "\n",
        "- First row with the first column.\n",
        "\n",
        "- First row with the second column.\n",
        "\n",
        "- First row with the third column and so on.\n",
        "\n",
        "- Second row with the first column.\n",
        "\n",
        "- Second row with the second column.\n",
        "\n",
        "- Second row with the third column and so on.\n",
        "\n",
        "  $\\dots$\n",
        "\n",
        "- $m^{\\text{th}}$ row with the first column.\n",
        "\n",
        "- $m^{\\text{th}}$ row with the second column.\n",
        "\n",
        "- $m^{\\text{th}}$ row with the third column and so on.\n",
        "\n",
        "Therefore we get,\n",
        "\n",
        "$$\\begin{bmatrix} 8 \\beta_0 + 7 \\beta_1 \\\\ 3 \\beta_0 - 5 \\beta_1 \\\\\\end{bmatrix} = \\begin{bmatrix} 38 \\\\ -1 \\\\\\end{bmatrix}$$\n",
        "\n",
        "Now we have two $2 \\times 1$ matrics. Hence when they are equations, we get two linear equations in two variables i.e.\n",
        "\n",
        "$$8\\beta_0 + 7\\beta_1 = 38$$\n",
        "\n",
        "$$3 \\beta_0 - 5 \\beta_1 = -1$$\n",
        "\n",
        "But we will learn to solve the equations using the matrices. To find the solutions of the matrix equation\n",
        "\n",
        "$$\\begin{bmatrix} 8 & 7 \\\\ 3\t& -5\t\\\\\\end{bmatrix} \\begin{bmatrix} \\beta_0 \\\\ \\beta_1 \\\\\\end{bmatrix} = \\begin{bmatrix} 38 \\\\ -1 \\\\\\end{bmatrix}$$\n",
        "\n",
        "We have to convert the $X_{2 \\times 2}$ into an **identity matrix**. An identity matrix is a matrix whose diagonal elements are  1  and all the other elements are  0.\n",
        "\n"
      ]
    },
    {
      "cell_type": "markdown",
      "metadata": {
        "id": "epV3kJnVP3B7"
      },
      "source": [
        "---"
      ]
    },
    {
      "cell_type": "markdown",
      "metadata": {
        "id": "-zi_6WPoP3tp"
      },
      "source": [
        "#### Task 2: Matrices in Python\n",
        "\n",
        "Before we start learning the identity matrix, let's multiply two matrices using Python.\n",
        "\n",
        "To create a matrix in Python, use the `matrix()` function of the `numpy` module. Inside the function, pass the elements of a matrix as input. The input is a string, each element of a row is separated by whitespace and each row is separated by a semi-colon.\n",
        "\n",
        "**Syntax:** `np.matrix('a11 a12 a13; a21 a22 a23')`\n",
        "\n",
        "where \n",
        "\n",
        "- `a11` is the element in the matrix at $1^{\\text{st}}$ row and $1^{\\text{st}}$ column\n",
        "\n",
        "- `a12` is the element in the matrix at $1^{\\text{st}}$ row and $2^{\\text{nd}}$ column\n",
        "\n",
        "- `a13` is the element in the matrix at $1^{\\text{st}}$ row and $3^{\\text{rd}}$ column\n",
        "\n",
        "- `a21` is the element in the matrix at $2^{\\text{nd}}$ row and $1^{\\text{st}}$ column\n",
        "\n",
        "- `a22` is the element in the matrix at $2^{\\text{nd}}$ row and $2^{\\text{nd}}$ column\n",
        "\n",
        "- `a23` is the element in the matrix at $2^{\\text{nd}}$ row and $3^{\\text{rd}}$ column\n",
        "\n",
        "Similarly, you can add more rows and columns to a matrix."
      ]
    },
    {
      "cell_type": "code",
      "metadata": {
        "id": "epy_5UAiM5va",
        "colab": {
          "base_uri": "https://localhost:8080/"
        },
        "outputId": "0d62318a-43e4-4aaa-bda6-0703b3960707"
      },
      "source": [
        "# S2.1: Create a matrix using the 'matrix()' function of the 'numpy' module.\n",
        "import numpy as np\n",
        "print(np.matrix('1 2 3 ;4 5 6'))"
      ],
      "execution_count": null,
      "outputs": [
        {
          "output_type": "stream",
          "name": "stdout",
          "text": [
            "[[1 2 3]\n",
            " [4 5 6]]\n"
          ]
        }
      ]
    },
    {
      "cell_type": "markdown",
      "metadata": {
        "id": "tAjK1la8Oa_c"
      },
      "source": [
        "We can also convert a nested Python list into a matrix using the `matrix()` function of the `numpy` module."
      ]
    },
    {
      "cell_type": "code",
      "metadata": {
        "id": "vNZ6B267NSBn",
        "colab": {
          "base_uri": "https://localhost:8080/"
        },
        "outputId": "b3d4adca-1cdb-4a99-a423-4c68e94bcae5"
      },
      "source": [
        "# S2.2: Convert a nested Python list into a matrix using the 'matrix()' function of the 'numpy' module.\n",
        "np.matrix([[1,2,3 ],[4,5,6]])"
      ],
      "execution_count": null,
      "outputs": [
        {
          "output_type": "execute_result",
          "data": {
            "text/plain": [
              "matrix([[1, 2, 3],\n",
              "        [4, 5, 6]])"
            ]
          },
          "metadata": {},
          "execution_count": 3
        }
      ]
    },
    {
      "cell_type": "markdown",
      "metadata": {
        "id": "F02GWaeOOv8B"
      },
      "source": [
        "Now let's multiply the following two matrices to find out the output.\n",
        "\n",
        "$$\\begin{bmatrix} 8 & 7 \\\\ 3\t& -5\t\\\\\\end{bmatrix} \\begin{bmatrix} 3 \\\\ 2 \\\\\\end{bmatrix}$$\n",
        "\n",
        "The output should be\n",
        "\n",
        "$$\\begin{bmatrix} 38 \\\\ -1 \\\\\\end{bmatrix}$$\n",
        "\n",
        "To multiply two matrices, you have to use the `matmul()` function of the `numpy` module. It takes two matrices to be multiplied as inputs and returns a new matrix."
      ]
    },
    {
      "cell_type": "code",
      "metadata": {
        "id": "LXouPp0rNmfl",
        "colab": {
          "base_uri": "https://localhost:8080/"
        },
        "outputId": "0b535051-aff6-4bb3-8c0b-b096b5d4fcb1"
      },
      "source": [
        "# S2.3: Multiply the above two matrices.\n",
        "A=np.matrix('8 7 ; 3 -5 ')\n",
        "B=np.matrix('3;2')\n",
        "np.matmul(A,B)"
      ],
      "execution_count": null,
      "outputs": [
        {
          "output_type": "execute_result",
          "data": {
            "text/plain": [
              "matrix([[38],\n",
              "        [-1]])"
            ]
          },
          "metadata": {},
          "execution_count": 5
        }
      ]
    },
    {
      "cell_type": "markdown",
      "metadata": {
        "id": "25p437ShPXO1"
      },
      "source": [
        "**Note:** The number of columns in the first matrix should be the same as the number of rows in the second matrix. Otherwise you will get `ValueError`"
      ]
    },
    {
      "cell_type": "code",
      "metadata": {
        "id": "me2CTDOSPUxF",
        "colab": {
          "base_uri": "https://localhost:8080/",
          "height": 184
        },
        "outputId": "4fddbeeb-b323-4a99-d55a-697aafac4417"
      },
      "source": [
        "# S2.4: Repeat the above exercise by interchanging the positions of the inputs.\n",
        "np.matmul(B,A)"
      ],
      "execution_count": null,
      "outputs": [
        {
          "output_type": "error",
          "ename": "ValueError",
          "evalue": "ignored",
          "traceback": [
            "\u001b[0;31m---------------------------------------------------------------------------\u001b[0m",
            "\u001b[0;31mValueError\u001b[0m                                Traceback (most recent call last)",
            "\u001b[0;32m<ipython-input-9-409914be0b75>\u001b[0m in \u001b[0;36m<module>\u001b[0;34m()\u001b[0m\n\u001b[1;32m      1\u001b[0m \u001b[0;31m# S2.4: Repeat the above exercise by interchanging the positions of the inputs.\u001b[0m\u001b[0;34m\u001b[0m\u001b[0;34m\u001b[0m\u001b[0;34m\u001b[0m\u001b[0m\n\u001b[0;32m----> 2\u001b[0;31m \u001b[0mnp\u001b[0m\u001b[0;34m.\u001b[0m\u001b[0mmatmul\u001b[0m\u001b[0;34m(\u001b[0m\u001b[0mB\u001b[0m\u001b[0;34m,\u001b[0m\u001b[0mA\u001b[0m\u001b[0;34m)\u001b[0m\u001b[0;34m\u001b[0m\u001b[0;34m\u001b[0m\u001b[0m\n\u001b[0m",
            "\u001b[0;31mValueError\u001b[0m: matmul: Input operand 1 has a mismatch in its core dimension 0, with gufunc signature (n?,k),(k,m?)->(n?,m?) (size 2 is different from 1)"
          ]
        }
      ]
    },
    {
      "cell_type": "markdown",
      "metadata": {
        "id": "qzApu5aKRZ_Z"
      },
      "source": [
        "Let's stop here. We will continue the next class from the **identity matrix**."
      ]
    },
    {
      "cell_type": "markdown",
      "metadata": {
        "id": "AiVJd0EalNih"
      },
      "source": [
        "---"
      ]
    }
  ]
}