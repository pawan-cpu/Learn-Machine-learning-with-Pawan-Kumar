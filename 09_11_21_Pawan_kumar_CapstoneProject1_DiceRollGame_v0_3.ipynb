{
  "nbformat": 4,
  "nbformat_minor": 0,
  "metadata": {
    "colab": {
      "name": "09/11/21_Pawan kumar_CapstoneProject1_DiceRollGame_v0.3.ipynb",
      "provenance": [],
      "collapsed_sections": [],
      "include_colab_link": true
    },
    "kernelspec": {
      "display_name": "Python 3",
      "language": "python",
      "name": "python3"
    },
    "language_info": {
      "codemirror_mode": {
        "name": "ipython",
        "version": 3
      },
      "file_extension": ".py",
      "mimetype": "text/x-python",
      "name": "python",
      "nbconvert_exporter": "python",
      "pygments_lexer": "ipython3",
      "version": "3.7.3"
    }
  },
  "cells": [
    {
      "cell_type": "markdown",
      "metadata": {
        "id": "view-in-github",
        "colab_type": "text"
      },
      "source": [
        "<a href=\"https://colab.research.google.com/github/pawan-cpu/Learn-Python-with-Pawan-Kumar/blob/main/09_11_21_Pawan_kumar_CapstoneProject1_DiceRollGame_v0_3.ipynb\" target=\"_parent\"><img src=\"https://colab.research.google.com/assets/colab-badge.svg\" alt=\"Open In Colab\"/></a>"
      ]
    },
    {
      "cell_type": "markdown",
      "metadata": {
        "id": "e4QGT0wEyPzI"
      },
      "source": [
        "# Capstone Project 1: Dice Roll Game"
      ]
    },
    {
      "cell_type": "markdown",
      "metadata": {
        "id": "qRULC69vWjOK"
      },
      "source": [
        "---"
      ]
    },
    {
      "cell_type": "markdown",
      "metadata": {
        "id": "L7UdXXKRkGZb"
      },
      "source": [
        "### Overview\n",
        "\n",
        "In this project, you have to create a Dice Roll game in which two players will roll the dice one after another for 10 rounds. In each round, if the number on dice face for player 1 is greater than that for player 2, player 1 scores a point else player 2 will score a point. After 10 rounds, the player having the highest score is declared as the winner."
      ]
    },
    {
      "cell_type": "markdown",
      "metadata": {
        "id": "CtDFzWSsvovW"
      },
      "source": [
        "---"
      ]
    },
    {
      "cell_type": "markdown",
      "metadata": {
        "id": "htBYVcg8LEzt"
      },
      "source": [
        "#### Getting Started\n",
        "\n",
        "Follow the steps described below to solve the project:\n",
        "\n",
        "1. Click on the link provided below to open the Colab file for this project.\n",
        "   \n",
        "   https://colab.research.google.com/drive/14VKG4f02U87t8truYCPmX_QSUM_zF92n\n",
        "\n",
        "2. Create the duplicate copy of the Colab file. Here are the steps to create the duplicate copy:\n",
        "\n",
        "    - Click on the **File** menu. A new drop-down list will appear.\n",
        "\n",
        "      <img src='https://student-datasets-bucket.s3.ap-south-1.amazonaws.com/images/project-share-images/0_file_menu.png' width=500>\n",
        "\n",
        "    - Click on the **Save a copy in Drive** option. A duplicate copy will get created. It will open up in the new tab on your web browser.\n",
        "\n",
        "      <img src='https://student-datasets-bucket.s3.ap-south-1.amazonaws.com/images/project-share-images/1_create_colab_duplicate_copy.png' width=500>\n",
        "\n",
        "     - After creating the duplicate copy of the notebook, please rename it in the **YYYY-MM-DD_StudentName_CapstoneProject1** format. \n",
        "\n",
        "3. Now, write your code in the prescribed code cells."
      ]
    },
    {
      "cell_type": "markdown",
      "metadata": {
        "id": "JnVi9ks7LMpn"
      },
      "source": [
        "---"
      ]
    },
    {
      "cell_type": "markdown",
      "metadata": {
        "id": "-z-ouy6Gb8HE"
      },
      "source": [
        "### The Algorithm\n",
        "\n",
        "In the algorithm, two players will compete with each other by rolling the die one after another.<br/>\n",
        "- One turn each from both players is called a round.<br/>\n",
        "- After each round one of the player will be declared as winner of the said round as they progress to the next.\n",
        "- 10 rounds will be played in a similar fashion.\n",
        "- After round 10, the player with more round wins will be declared as the winner of the game.\n",
        "\n",
        "\n",
        "**The output should look like this:**\n",
        "\n",
        "```\n",
        "Round:  1\n",
        "Player 1 Roll:  2\n",
        "Player 2 Roll:  4\n",
        "Player 2 wins!\n",
        "Round:  2\n",
        "Player 1 Roll:  1\n",
        "Player 2 Roll:  3\n",
        "Player 2 wins!\n",
        "...\n",
        "...\n",
        "Round:  10\n",
        "Player 1 Roll:  5\n",
        "Player 2 Roll:  4\n",
        "Player 1 wins!\n",
        "Final Winner: Player 1- Rounds Won:  6\n",
        "```\n",
        "\n",
        "**Note:** The game is not accepting any user input. So no need of using `input()` function."
      ]
    },
    {
      "cell_type": "markdown",
      "metadata": {
        "id": "C236Zb7YcEyL"
      },
      "source": [
        "___"
      ]
    },
    {
      "cell_type": "markdown",
      "metadata": {
        "id": "xJgFXPgFWIy8"
      },
      "source": [
        "#### Import the `random` Module and Create the required variables\n",
        "\n",
        "- Import the `random` module."
      ]
    },
    {
      "cell_type": "code",
      "metadata": {
        "id": "gJ0Bi5wWWIy9"
      },
      "source": [
        "# Import the random module in the next line.\n",
        "import random\n"
      ],
      "execution_count": null,
      "outputs": []
    },
    {
      "cell_type": "markdown",
      "metadata": {
        "id": "83_aZr2maqpV"
      },
      "source": [
        "___"
      ]
    },
    {
      "cell_type": "markdown",
      "metadata": {
        "id": "bkjFPSCAWIy9"
      },
      "source": [
        "#### Create the `dice_roll()` Function\n",
        "\n",
        "Next, create a function called `dice_roll()`. Inside this function,\n",
        "- Generate a random integer between 1 to 6 using `randint()` function and store this in a variable `dice_roll`\n",
        "- Return this variable.\n",
        "\n",
        "\n"
      ]
    },
    {
      "cell_type": "code",
      "metadata": {
        "id": "4nB5W-40WIy-"
      },
      "source": [
        "# Create the dice_roll() function.\n",
        "def dice_roll():\n",
        "    dice_roll = random.randint(1, 6)\n",
        "    return dice_roll"
      ],
      "execution_count": null,
      "outputs": []
    },
    {
      "cell_type": "markdown",
      "metadata": {
        "id": "Ls05fsTWam5-"
      },
      "source": [
        "___"
      ]
    },
    {
      "cell_type": "markdown",
      "metadata": {
        "id": "TC7XPKJuWIy-"
      },
      "source": [
        "#### Create the `main()` Function\n",
        "\n"
      ]
    },
    {
      "cell_type": "markdown",
      "metadata": {
        "id": "TCAoDtY3WIzC"
      },
      "source": [
        "Now, create a function `main()` and perform the following tasks inside this function:\n",
        "\n",
        "1. Create the `player1`, `player1_score`, `player2` and `player2_score` variables and set their initial values equal to `0`. Create a `rounds` variable and assign the value of `1` to it.\n",
        "2. Create a `while` loop which runs unless `rounds` equal to `10` i.e., till `rounds != 11`. Inside the `while` loop, perform the following tasks:\n",
        "  - Print current round using `print()` function, passing the `\"Rounds \"` string as well as `rounds` variable.\n",
        "  - Call `dice_roll()` function for Player 1 and Player 2 and store the return value in `player1` and `player2` variables respectively.\n",
        "  - Print the value of `player1` and `player2` variables.\n",
        "  - Using `if-else` statement, compare the values of `player1` and `player2` variables.\n",
        "     - If `player1 == player2`, print `Draw!`.\n",
        "     - Else if `player1 > player2`, increase the value of `player1_score` variable by `1` and print `Player 1 wins!`.\n",
        "     - Else increase `player2_score` by `1` and print `Player 2 wins!`.\n",
        " - Increase `rounds` variable value by `1`.\n",
        "\n",
        "3. Outside the `while` loop, compare the score of both the players obtained after 10 rounds by comparing the values of the variables `player1_score` and `player2_score`.\n",
        "\n",
        "  - If `player1_score == player2_score` then print `Draw!`.\n",
        "  - Else if `player1_score > player2_score` then print: \n",
        "  \n",
        "    `\"Final Winner: Player 1 - Rounds Won: \", player1_score` \n",
        "  \n",
        "  where `player1_score` contains the number of rounds won by player1.\n",
        "  \n",
        "  - Else print:\n",
        "    \n",
        "    `\"Final Winner: Player 2 - Rounds Won: \", player2_score` \n",
        "  \n",
        "   where `player2_score` contains the number of rounds won by player2.\n"
      ]
    },
    {
      "cell_type": "code",
      "metadata": {
        "id": "2XMA1KdpWIzD"
      },
      "source": [
        "# Create main() function\n",
        "def main():\n",
        "    # Create required variables\n",
        "    player1=0\n",
        "    player1_score=0\n",
        "    player2=0\n",
        "    player2_score=0\n",
        "    rounds=1\n",
        "\n",
        "\n",
        "    # Create a while loop which runs till rounds != 11\n",
        "    while rounds != 11:\n",
        "        # print current round number using print() function as print(\"Round: \", rounds)\n",
        "       print(\"rounds:\",rounds)\n",
        "\n",
        "        # Call dice_roll() function for Player 1 and Player 2 and store the return value in player1 and player2 respectively.\n",
        "       player1=die_roll()\n",
        "       player2=die_roll()\n",
        "        # print the outcomes of Player 1 & 2\n",
        "       print(player1)\n",
        "       print(player2)\n",
        "\n",
        "        # Check if, player1 value equals that of player2. If it does, print Draw!.\n",
        "       if player1==player2:\n",
        "         print(\"Draw!\")\n",
        "\n",
        "      \n",
        "        # check if player1 is greater than player2. If yes, increase player1_score by 1 and print Player 1 wins!\n",
        "       elif player1_score>player2_score:\n",
        "         player1_score=player_score+1\n",
        "\n",
        "       \n",
        "         print(\"Final Winner: Player 1 - Rounds Won: \", player1_score)\n",
        "\n",
        "\n",
        "        # else increase player2_score by 1 and print Player 2 wins!.\n",
        "    else:\n",
        "      print(\"Final Winner: Player 2 - Rounds Won: \", player2_score)\n",
        "\n",
        "     \n",
        "        # Increse rounds by 1.\n",
        "    rounds=rounds+1\n",
        "    # Outside while loop check if, player1_score value equals that of player2_score, print Draw!\n",
        "    if player1_score==player2_score:\n",
        "       print(\"Draw!\")\n",
        "\n",
        "\n",
        "    # check whether player1_score is greater than player2_score.\n",
        "    # If yes, print(\"Final Winner: Player 1- Rounds Won: \", player1_score)\n",
        "    if player1_score>player2_score:\n",
        "\n",
        "\n",
        "       print(\"Final Winner: Player 1- Rounds Won: \", player1_score)\n",
        "    else:\n",
        "\n",
        "\n",
        "        print(\"Final Winner: Player 2 - Rounds Won: \", player2_score)\n",
        "\n",
        "\n",
        "\n",
        "\n",
        "    # Otherwise print(\"Final Winner: Player 2 - Rounds Won: \", player2_score)\n",
        "   "
      ],
      "execution_count": null,
      "outputs": []
    },
    {
      "cell_type": "markdown",
      "metadata": {
        "id": "fGZ3Tccua7NL"
      },
      "source": [
        "___"
      ]
    },
    {
      "cell_type": "markdown",
      "metadata": {
        "id": "ZbL1qb2IWIzD"
      },
      "source": [
        "#### Call the `main()` function"
      ]
    },
    {
      "cell_type": "code",
      "metadata": {
        "id": "B1yCTn4bIlo7"
      },
      "source": [
        "# Call the 'main()' function\n",
        "main()"
      ],
      "execution_count": null,
      "outputs": []
    },
    {
      "cell_type": "markdown",
      "metadata": {
        "id": "pU3gppd9Im0Z"
      },
      "source": [
        "---"
      ]
    },
    {
      "cell_type": "markdown",
      "metadata": {
        "id": "MNeo8xtXRcdb"
      },
      "source": [
        "### How To Submit The Project\n",
        "\n",
        "Follow the steps described below to submit the project.\n",
        "\n",
        "1. After finishing the project, click on the **Share** button on the top right corner of the notebook. A new dialog box will appear.\n",
        "\n",
        "  <img src='https://student-datasets-bucket.s3.ap-south-1.amazonaws.com/images/project-share-images/2_share_button.png' width=500>\n",
        "\n",
        "2. In the dialog box, click on the **Copy link** button.\n",
        "\n",
        "   <img src='https://student-datasets-bucket.s3.ap-south-1.amazonaws.com/images/project-share-images/3_copy_link.png' width=500>\n",
        "\n",
        "\n",
        "3. The link of the duplicate copy (named as **YYYY-MM-DD_StudentName_CapstoneProject1**) of the notebook will get copied \n",
        "\n",
        "   <img src='https://student-datasets-bucket.s3.ap-south-1.amazonaws.com/images/project-share-images/4_copy_link_confirmation.png' width=500>\n",
        "\n",
        "4. Go to your dashboard and click on the **My Projects** option.\n",
        "\n",
        "   <img src='https://student-datasets-bucket.s3.ap-south-1.amazonaws.com/images/project-share-images/5_student_dashboard.png' width=800>\n",
        "\n",
        "   <img src='https://student-datasets-bucket.s3.ap-south-1.amazonaws.com/images/project-share-images/6_my_projects.png' width=800>\n",
        "\n",
        "5. Click on the **View Project** button for the project you want to submit.\n",
        "\n",
        "   <img src='https://student-datasets-bucket.s3.ap-south-1.amazonaws.com/images/project-share-images/7_view_project.png' width=800>\n",
        "\n",
        "6. Click on the **Submit Project Here** button.\n",
        "\n",
        "   <img src='https://student-datasets-bucket.s3.ap-south-1.amazonaws.com/images/project-share-images/8_submit_project.png' width=800>\n",
        "\n",
        "7. Paste the link to the project file named as **YYYY-MM-DD_StudentName_CapstoneProject1** in the URL box and then click on the **Submit** button.\n",
        "\n",
        "   <img src='https://student-datasets-bucket.s3.ap-south-1.amazonaws.com/images/project-share-images/9_enter_project_url.png' width=800>\n"
      ]
    },
    {
      "cell_type": "markdown",
      "metadata": {
        "id": "BkocPpIKRfOZ"
      },
      "source": [
        "---"
      ]
    }
  ]
}